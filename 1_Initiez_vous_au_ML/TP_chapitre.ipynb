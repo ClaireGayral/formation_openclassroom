{
 "cells": [
  {
   "cell_type": "markdown",
   "id": "genuine-economics",
   "metadata": {},
   "source": [
    "# TP : Entraînez-vous à entraîner un algorithme de Machine Learning !\n",
    "\n",
    "## 1. Preprocess \n",
    "\n",
    "To begin with this problem, we will remove outliers (appartement costing more than 10 000€ / month), and we will remove appartement with missing value. "
   ]
  },
  {
   "cell_type": "code",
   "execution_count": 1,
   "id": "drawn-edwards",
   "metadata": {},
   "outputs": [],
   "source": [
    "data_path = \"~/Documents/openclassroom/Fomation_ingenieur_ML/data/\"\n",
    "\n",
    "# On importe les librairies dont on aura besoin pour ce tp\n",
    "import numpy as np\n",
    "import pandas as pd\n",
    "## plot : \n",
    "import matplotlib\n",
    "import matplotlib.pyplot as plt\n",
    "matplotlib.rcParams['figure.figsize'] = [15, 5]\n",
    "## stat / model : \n",
    "from sklearn.model_selection import train_test_split\n"
   ]
  },
  {
   "cell_type": "code",
   "execution_count": 2,
   "id": "skilled-alabama",
   "metadata": {
    "scrolled": false
   },
   "outputs": [
    {
     "name": "stdout",
     "output_type": "stream",
     "text": [
      "   price  surface  arrondissement\n",
      "0   1820     46.1             1.0\n",
      "1   1750     41.0             1.0 \n",
      "\n",
      "Before removing outliers, there are  827 considered appartements\n",
      "Before removing uncomplete data (NaNs), there are  818 considered appartements\n",
      "After preprocessing, there are 813 considered appartements\n"
     ]
    }
   ],
   "source": [
    "### EXTRACTION DATA ###\n",
    "# On charge le dataset\n",
    "house_data = pd.read_csv(data_path+'house_data_complete.csv')\n",
    "print(house_data.head(2),\"\\n\")\n",
    "\n",
    "# OUTLIERS\n",
    "print(\"Before removing outliers, there are \", house_data.shape[0], \"considered appartements\")\n",
    "house_data = house_data[house_data['price'] < 10000]\n",
    "# plt.plot(house_data['surface'], house_data['price'], 'ro', markersize=4)\n",
    "# plt.show()\n",
    "\n",
    "## REMOVING NaNs :\n",
    "print(\"Before removing uncomplete data (NaNs), there are \", house_data.shape[0], \"considered appartements\")\n",
    "\n",
    "#house_data.dropna(axis=0, how = any) \n",
    "house_data.dropna(inplace=True) \n",
    "\n",
    "\n",
    "print(\"After preprocessing, there are\", house_data.shape[0], \"considered appartements\")\n"
   ]
  },
  {
   "cell_type": "markdown",
   "id": "mysterious-induction",
   "metadata": {},
   "source": []
  },
  {
   "cell_type": "markdown",
   "id": "hybrid-punishment",
   "metadata": {},
   "source": [
    "## 2. Naive approache and first model : \n",
    "\n",
    "### 2.1 Construction of X matrix : \n",
    "\n",
    "To train our linear regression, we will need to create the $X$ matrix as : \n",
    "\n",
    "$$ X = \\begin{pmatrix}\n",
    "1 & loyer & arr_1(1) & arr_2(1) & \\dots & arr_12(1)\\\\\n",
    "& & &\\dots & &  \\\\\n",
    "1 & loyer & arr_1(i) & arr_2(i) & \\dots & arr_12(i) \\\\\n",
    "& & & \\dots & &\\\\\n",
    "1 & loyer & arr_1(n) & arr_2(n) & \\dots & arr_12(n) \n",
    "\\end{pmatrix} \n",
    "$$\n",
    "\n",
    "Where \n",
    "* k = 1 ... K are the arrondissements\n",
    "* i = 1 ... n are the appartements\n",
    "* arr_k(i) is a boolean variable and equals to 1 if the $i^{th}$ appartement is the $k^{th}$ arrondissement, 0 otherwise. \n",
    "\n",
    "Indeed, the arrondissement information is a categorial info and not a numerical one. In a first approche, we will consider the arrondissement and surface without putting a weight (see after) \n",
    "\n",
    "So, we first need to construct the 0-1 submatrice size $k \\times n$, denoted A, containing the information about arrondissement. We will first construct it with a loop and then we will use a pandas.Dataframe method to do it more properly :"
   ]
  },
  {
   "cell_type": "code",
   "execution_count": 3,
   "id": "quick-friend",
   "metadata": {},
   "outputs": [],
   "source": [
    "## BY HAND METHOD : \n",
    "K = np.int(max(house_data[\"arrondissement\"]))\n",
    "n = house_data.shape[0]\n",
    "A = np.zeros((n,K))\n",
    "\n",
    "for k in range(K): \n",
    "    A[house_data[\"arrondissement\"]==k,k]=1"
   ]
  },
  {
   "cell_type": "markdown",
   "id": "approximate-hospital",
   "metadata": {},
   "source": [
    "TODO test unitaire : vérifier que sum(sum(A))==n"
   ]
  },
  {
   "cell_type": "code",
   "execution_count": 4,
   "id": "imperial-spider",
   "metadata": {},
   "outputs": [],
   "source": [
    "## WITH PANDAS METHOD : \n",
    "A = pd.get_dummies(house_data[\"arrondissement\"],prefix=\"arr\")"
   ]
  },
  {
   "cell_type": "markdown",
   "id": "small-penny",
   "metadata": {},
   "source": [
    "Concatenate a 1 vector, $A$ and \"surface\" column of data_house to get $X$"
   ]
  },
  {
   "cell_type": "code",
   "execution_count": 5,
   "id": "appreciated-hayes",
   "metadata": {
    "scrolled": true
   },
   "outputs": [],
   "source": [
    "X = np.concatenate((np.matrix([np.ones(house_data.shape[0]), house_data['surface'].values]),A.T)).T\n",
    "y = np.matrix(house_data['price']).T\n",
    "\n",
    "X_train, X_test, y_train, y_test = train_test_split(X, y, train_size=0.8)\n"
   ]
  },
  {
   "cell_type": "markdown",
   "id": "negative-breath",
   "metadata": {},
   "source": [
    "### 2.2 Linear Regression : \n",
    "\n",
    "After slipping the train and test sets, I choosed the sklearn method \"sklearn.linear_model.LinearRegression\" and train it on data :"
   ]
  },
  {
   "cell_type": "code",
   "execution_count": 6,
   "id": "increasing-lithuania",
   "metadata": {},
   "outputs": [
    {
     "data": {
      "text/plain": [
       "LinearRegression()"
      ]
     },
     "execution_count": 6,
     "metadata": {},
     "output_type": "execute_result"
    }
   ],
   "source": [
    "## DEFINE MODEL :\n",
    "from sklearn import linear_model\n",
    "regr = linear_model.LinearRegression()\n",
    "\n",
    "## TRAINING : \n",
    "regr.fit(X_train, y_train)"
   ]
  },
  {
   "cell_type": "code",
   "execution_count": 7,
   "id": "active-collection",
   "metadata": {
    "scrolled": true
   },
   "outputs": [
    {
     "name": "stdout",
     "output_type": "stream",
     "text": [
      "    value         pred\n",
      "0  1450.0  1374.773217\n",
      "1  1750.0  2114.322569\n",
      "2  1900.0  1602.326864\n",
      "3  1375.0  1739.833253\n",
      "4   938.0   905.730613\n"
     ]
    }
   ],
   "source": [
    "tmp = np.concatenate((y_test.T, regr.predict(X_test).T)).T\n",
    "print( pd.DataFrame(tmp,columns=[\"value\",\"pred\"]).head(5) )"
   ]
  },
  {
   "cell_type": "markdown",
   "id": "ready-writer",
   "metadata": {},
   "source": [
    "## 3. Introducing the importance of each variable : \n",
    "\n",
    "Even thought the results doesn't seem that bad, I am not happy with this modelisation : I did not control how the arrondissement is important compared to the surface of the appartement. To do it, let's introduce an hyperparemeter $\\mu$ that enable me to controle the weight/importance of the categorial and numerical variable. The idea is to set the better (in term of training) $\\mu$ such that\n",
    "<center>price = $\\mu$ * surface + (1-$\\mu$) * $\\mathbb{1}_{\\text{arrondissement}}$  <\\center>\n",
    "    \n",
    "Note that this code is not optimized at all, but I gave some semantic variables to easy the lecture. "
   ]
  },
  {
   "cell_type": "code",
   "execution_count": 8,
   "id": "excellent-twelve",
   "metadata": {},
   "outputs": [],
   "source": [
    "## CATEGORICAL VARIABLE MATRIX : \n",
    "A = pd.get_dummies(house_data[\"arrondissement\"],prefix=\"arr\")\n",
    "\n",
    "## MODEL MATRIX WITH HYPERPARAMETER MU : \n",
    "y = np.matrix(house_data['price']).T\n",
    "# semantic variables :\n",
    "surface = house_data['surface'].values\n",
    "shift = np.ones(house_data.shape[0])\n",
    "arrondissement = A.T\n",
    "      \n",
    "mu = 0.5                \n",
    "X_mu = np.concatenate((np.matrix([shift, mu*surface]) , (1-mu)*arrondissement)).T\n",
    "X_train, X_test, y_train, y_test = train_test_split(X, y, train_size=0.8)\n"
   ]
  },
  {
   "cell_type": "markdown",
   "id": "complex-orchestra",
   "metadata": {},
   "source": [
    "The issue with this choise is that the train/test sets depend on mu, and it is not our aim. So I think it is a better practice to split the data independantly of mu and modify it after the X_train and X_test. That's what I do now : "
   ]
  },
  {
   "cell_type": "code",
   "execution_count": 9,
   "id": "classified-leeds",
   "metadata": {},
   "outputs": [],
   "source": [
    "## CATEGORICAL VARIABLE MATRIX : \n",
    "A = pd.get_dummies(house_data[\"arrondissement\"],prefix=\"arr\")\n",
    "\n",
    "## MODEL MATRIX WITH HYPERPARAMETER MU : \n",
    "y = np.matrix(house_data['price']).T\n",
    "# semantic variables :\n",
    "surface = house_data['surface'].values\n",
    "shift = np.ones(house_data.shape[0])\n",
    "arrondissement = A.T\n",
    "               \n",
    "X = np.concatenate((np.matrix([shift, surface]) , arrondissement)).T\n",
    "X_train, X_test, y_train, y_test = train_test_split(X, y, train_size=0.8)"
   ]
  },
  {
   "cell_type": "code",
   "execution_count": 10,
   "id": "burning-profile",
   "metadata": {},
   "outputs": [
    {
     "data": {
      "text/plain": [
       "LinearRegression()"
      ]
     },
     "execution_count": 10,
     "metadata": {},
     "output_type": "execute_result"
    }
   ],
   "source": [
    "def mu_weigth_on_X(VarX,Varmu):\n",
    "    res = VarX.copy()\n",
    "    res[:,1] = Varmu*res[:,1]\n",
    "    res[:,2:] = (1-Varmu)*res[:,2:]\n",
    "    return(res)\n",
    "\n",
    "mu = 0.5\n",
    "X_train_mu = mu_weigth_on_X(X_train,mu)\n",
    "## TRAINING \n",
    "regr = linear_model.LinearRegression() \n",
    "regr.fit(X_train_mu, y_train)\n"
   ]
  },
  {
   "cell_type": "markdown",
   "id": "conservative-finish",
   "metadata": {},
   "source": [
    "So, we can loop on different vaues of mu to set the better model. The differents methods to split the dataset are presented after (Leave One Out, KFold, Cross Validation). I used the sklearn CV routine : "
   ]
  },
  {
   "cell_type": "code",
   "execution_count": 11,
   "id": "canadian-projection",
   "metadata": {},
   "outputs": [
    {
     "name": "stdout",
     "output_type": "stream",
     "text": [
      "0.8431654595220529\n"
     ]
    }
   ],
   "source": [
    "from sklearn.model_selection import cross_validate\n",
    "\n",
    "cv_results = cross_validate(regr, X_train_mu, y_train, cv=10)\n",
    "print(cv_results['test_score'].mean())"
   ]
  },
  {
   "cell_type": "code",
   "execution_count": 12,
   "id": "deadly-flesh",
   "metadata": {},
   "outputs": [],
   "source": [
    "mu_values = np.arange(0,0.01,1/10000)\n",
    "reg_scores = []\n",
    "for mu in mu_values : \n",
    "    X_train_mu = mu_weigth_on_X(X_train,mu)\n",
    "#     print(X_train_mu[:3,])\n",
    "    ## LINEAR REGRESSION :\n",
    "    regr = linear_model.LinearRegression() \n",
    "    #regr.fit(X_train_mu, y_train)\n",
    "    cv_results = cross_validate(regr, X_train_mu, y_train, cv=10)\n",
    "    \n",
    "    reg_scores.append(cv_results['test_score'].mean())"
   ]
  },
  {
   "cell_type": "code",
   "execution_count": 13,
   "id": "small-avatar",
   "metadata": {
    "scrolled": true
   },
   "outputs": [
    {
     "data": {
      "text/plain": [
       "[<matplotlib.lines.Line2D at 0x7faf9bb05af0>]"
      ]
     },
     "execution_count": 13,
     "metadata": {},
     "output_type": "execute_result"
    },
    {
     "data": {
      "image/png": "[encoded data removed]",
      "text/plain": [
       "<Figure size 1080x360 with 1 Axes>"
      ]
     },
     "metadata": {
      "needs_background": "light"
     },
     "output_type": "display_data"
    }
   ],
   "source": [
    "plt.plot(mu_values,reg_scores,'-o')"
   ]
  },
  {
   "cell_type": "code",
   "execution_count": 19,
   "id": "unique-pakistan",
   "metadata": {},
   "outputs": [
    {
     "data": {
      "text/plain": [
       "matrix([[1.      , 5.6943  , 0.      , 0.9001  , 0.      , 0.      ,\n",
       "         0.      ],\n",
       "        [1.      , 3.307689, 0.9001  , 0.      , 0.      , 0.      ,\n",
       "         0.      ],\n",
       "        [1.      , 2.3976  , 0.9001  , 0.      , 0.      , 0.      ,\n",
       "         0.      ]])"
      ]
     },
     "execution_count": 19,
     "metadata": {},
     "output_type": "execute_result"
    }
   ],
   "source": [
    "X_train_mu[:3,]"
   ]
  },
  {
   "cell_type": "code",
   "execution_count": 20,
   "id": "executive-aquarium",
   "metadata": {},
   "outputs": [
    {
     "data": {
      "text/plain": [
       "matrix([[ 1.  , 57.  ,  0.  ,  1.  ,  0.  ,  0.  ,  0.  ],\n",
       "        [ 1.  , 33.11,  1.  ,  0.  ,  0.  ,  0.  ,  0.  ],\n",
       "        [ 1.  , 24.  ,  1.  ,  0.  ,  0.  ,  0.  ,  0.  ]])"
      ]
     },
     "execution_count": 20,
     "metadata": {},
     "output_type": "execute_result"
    }
   ],
   "source": [
    "X_train[:3,]"
   ]
  },
  {
   "cell_type": "code",
   "execution_count": null,
   "id": "economic-response",
   "metadata": {},
   "outputs": [],
   "source": []
  }
 ],
 "metadata": {
  "kernelspec": {
   "display_name": "Python 3",
   "language": "python",
   "name": "python3"
  },
  "language_info": {
   "codemirror_mode": {
    "name": "ipython",
    "version": 3
   },
   "file_extension": ".py",
   "mimetype": "text/x-python",
   "name": "python",
   "nbconvert_exporter": "python",
   "pygments_lexer": "ipython3",
   "version": "3.8.8"
  }
 },
 "nbformat": 4,
 "nbformat_minor": 5
}
