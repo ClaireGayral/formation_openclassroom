{
 "cells": [
  {
   "cell_type": "markdown",
   "id": "unlimited-polyester",
   "metadata": {},
   "source": [
    "# TP : Entraînez-vous à entraîner un algorithme de Machine Learning !\n",
    "\n",
    "## Preprocess"
   ]
  },
  {
   "cell_type": "code",
   "execution_count": 29,
   "id": "understanding-macedonia",
   "metadata": {},
   "outputs": [],
   "source": [
    "data_path = \"~/Documents/openclassroom/Fomation_ingenieur_ML/data/\"\n",
    "\n",
    "# On importe les librairies dont on aura besoin pour ce tp\n",
    "import numpy as np\n",
    "import pandas as pd\n",
    "## plot : \n",
    "import matplotlib\n",
    "import matplotlib.pyplot as plt\n",
    "matplotlib.rcParams['figure.figsize'] = [15, 5]\n",
    "## stat / model : \n",
    "from sklearn.model_selection import train_test_split\n"
   ]
  },
  {
   "cell_type": "code",
   "execution_count": 31,
   "id": "black-leone",
   "metadata": {
    "scrolled": false
   },
   "outputs": [
    {
     "name": "stdout",
     "output_type": "stream",
     "text": [
      "   price  surface  arrondissement\n",
      "0   1820     46.1             1.0\n",
      "1   1750     41.0             1.0\n",
      "2   1900     55.0             1.0\n"
     ]
    },
    {
     "data": {
      "image/png": "[encoded data removed]",
      "text/plain": [
       "<Figure size 1080x360 with 1 Axes>"
      ]
     },
     "metadata": {
      "needs_background": "light"
     },
     "output_type": "display_data"
    }
   ],
   "source": [
    "### EXTRACTION DATA ###\n",
    "# On charge le dataset\n",
    "house_data = pd.read_csv(data_path+'house_data_complete.csv')\n",
    "print(house_data.head(3))\n",
    "\n",
    "# OUTLIERS\n",
    "house_data = house_data[house_data['price'] < 10000]\n",
    "plt.plot(house_data['surface'], house_data['price'], 'ro', markersize=4)\n",
    "plt.show()\n"
   ]
  },
  {
   "cell_type": "markdown",
   "id": "generic-communications",
   "metadata": {},
   "source": [
    "Construct X matrix : \n",
    "\n",
    "$ X = \\begin{pmatrix}\n",
    "1 & loyer & arr_1(1) & arr_2(1) & \\dots & arr_12(1)\\\\\n",
    "& & &\\dots & &  \\\\\n",
    "1 & loyer & arr_1(i) & arr_2(i) & \\dots & arr_12(i) \\\\\n",
    "& & & \\dots & &\\\\\n",
    "1 & loyer & arr_1(n) & arr_2(n) & \\dots & arr_12(n) \n",
    "\\end{pmatrix} \n",
    "$\n",
    "\n",
    "Where arr_k(i) is a boolean variable equals to 1 if the $i^{th}$ appartement is the $k^{th}$ arrondissement, 0 otherwise. \n",
    "\n",
    "So, we first need to construct the 0-1 submatrice size $k \\times n$, denoted A, containing the information about arrondissement. We will first construct it with a loop and then we will use pandas.Dataframe to do it more properly :"
   ]
  },
  {
   "cell_type": "code",
   "execution_count": 63,
   "id": "flush-holly",
   "metadata": {},
   "outputs": [],
   "source": [
    "## by hand method : \n",
    "\n",
    "K = np.int(max(house_data[\"arrondissement\"]))\n",
    "n = house_data.shape[0]\n",
    "A = np.zeros((n,K))\n",
    "\n",
    "for k in range(K): \n",
    "    A[house_data[\"arrondissement\"]==k,k]=1"
   ]
  },
  {
   "cell_type": "markdown",
   "id": "opening-portable",
   "metadata": {},
   "source": [
    "TODO test unitaire : vérifier que sum(sum(A))==n"
   ]
  },
  {
   "cell_type": "code",
   "execution_count": 83,
   "id": "rational-mercy",
   "metadata": {},
   "outputs": [],
   "source": [
    "## with pandas routine : \n",
    "\n",
    "A = pd.get_dummies(house_data,prefix=\"arr\",columns = {'arrondissement'})"
   ]
  },
  {
   "cell_type": "code",
   "execution_count": null,
   "id": "skilled-commission",
   "metadata": {},
   "outputs": [],
   "source": []
  },
  {
   "cell_type": "code",
   "execution_count": 34,
   "id": "applicable-chain",
   "metadata": {},
   "outputs": [
    {
     "name": "stdout",
     "output_type": "stream",
     "text": [
      "<pandas.core.groupby.generic.DataFrameGroupBy object at 0x7fced14e9fd0>\n"
     ]
    }
   ],
   "source": [
    "\n",
    "house_data.groupby(\"arrondissement\")\n"
   ]
  },
  {
   "cell_type": "code",
   "execution_count": null,
   "id": "unable-portugal",
   "metadata": {},
   "outputs": [],
   "source": [
    "X = np.matrix([np.ones(house_data.shape[0]), house_data['surface'].values, house_data['arrondissement']]).T\n",
    "\n",
    "\n",
    "y = np.matrix(house_data['price']).T\n",
    "X_train, X_test, y_train, y_test = train_test_split(X, y, train_size=0.8)"
   ]
  },
  {
   "cell_type": "code",
   "execution_count": null,
   "id": "shared-friendly",
   "metadata": {},
   "outputs": [],
   "source": []
  }
 ],
 "metadata": {
  "kernelspec": {
   "display_name": "Python 3",
   "language": "python",
   "name": "python3"
  },
  "language_info": {
   "codemirror_mode": {
    "name": "ipython",
    "version": 3
   },
   "file_extension": ".py",
   "mimetype": "text/x-python",
   "name": "python",
   "nbconvert_exporter": "python",
   "pygments_lexer": "ipython3",
   "version": "3.8.8"
  }
 },
 "nbformat": 4,
 "nbformat_minor": 5
}
