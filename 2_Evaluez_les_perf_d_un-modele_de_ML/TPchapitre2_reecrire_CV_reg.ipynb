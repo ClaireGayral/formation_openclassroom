{
 "cells": [
  {
   "cell_type": "markdown",
   "id": "approximate-python",
   "metadata": {},
   "source": [
    "# TP chapitre 2 - Entraînez-vous : sélectionnez le nombre de voisins dans un kNN pour une régression\n",
    "\n",
    "I just re-use all that I have done :"
   ]
  },
  {
   "cell_type": "code",
   "execution_count": 2,
   "id": "horizontal-chuck",
   "metadata": {},
   "outputs": [],
   "source": [
    "data_path = \"~/Documents/openclassroom/Fomation_ingenieur_ML/data/\"\n",
    "\n",
    "import pandas as pd\n",
    "import numpy as np\n",
    "import matplotlib.pyplot as plt\n",
    "\n",
    "## sklearn module : \n",
    "from sklearn import model_selection \n",
    "from sklearn import preprocessing\n",
    "from sklearn import neighbors\n"
   ]
  },
  {
   "cell_type": "markdown",
   "id": "coordinated-investing",
   "metadata": {},
   "source": [
    "## Preprocess : "
   ]
  },
  {
   "cell_type": "code",
   "execution_count": null,
   "id": "spatial-kruger",
   "metadata": {},
   "outputs": [],
   "source": [
    "df = pd.read_csv(data_path+'winequality-red.csv', sep=\";\")\n",
    "## DESIGN AND SAMPLING : \n",
    "X = df.drop(\"quality\", axis = 1, inplace = False)\n",
    "y = df.quality\n",
    "X_train, X_test, y_train, y_test = model_selection.train_test_split(X, y, train_size=0.7)\n",
    "\n",
    "## STANDARDIZATION : \n",
    "my_normalizer = preprocessing.StandardScaler().fit(X_train)\n",
    "X_train_std = pd.DataFrame(my_normalizer.transform(X_train), index = X_train.index, columns = X_train.columns)\n",
    "X_test_std = pd.DataFrame(my_normalizer.transform(X_test), index = X_test.index, columns = X_test.columns)"
   ]
  },
  {
   "cell_type": "markdown",
   "id": "blessed-calvin",
   "metadata": {},
   "source": [
    "## Cross Validation with sklearn :"
   ]
  },
  {
   "cell_type": "code",
   "execution_count": 4,
   "id": "upper-apollo",
   "metadata": {},
   "outputs": [],
   "source": [
    "## CROSS VALIDATION :\n",
    "param_grid = {\"n_neighbors\" : np.arange(8,14,1)}\n",
    "nb_folds = 5\n",
    "CV_reg = model_selection.GridSearchCV(neighbors.KNeighborsRegressor(),\n",
    "                                      param_grid, cv=nb_folds)\n",
    "CV_reg.fit(X_train_std, y_train)\n",
    "\n",
    "## KNN REGRESSOR WITH THE BEST CV n_neighbors\n",
    "knn_reg = neighbors.KNeighborsRegressor(**CV_reg.best_params_)\n",
    "knn_reg.fit(X_train_std, y_train)\n",
    "\n",
    "## PREDICTION : \n",
    "y_pred = knn_reg.predict(X_test_std)"
   ]
  },
  {
   "cell_type": "markdown",
   "id": "joined-dodge",
   "metadata": {},
   "source": [
    "## Cross Validation without sklearn CVGridSearch :\n",
    "#### Annexe functions : "
   ]
  },
  {
   "cell_type": "code",
   "execution_count": 7,
   "id": "bronze-mortality",
   "metadata": {},
   "outputs": [],
   "source": [
    "## EXTRACT X_train, X_test FROM X AND train_index :    \n",
    "def extract_Xsplitted_data(X, train_index):    \n",
    "#     train_index = X_train.index\n",
    "    test_index = [(index not in train_index) for index in X.index]\n",
    "    X_train = X.loc[train_index]\n",
    "    X_test = X.loc[test_index]\n",
    "    return(X_train, X_test)\n",
    "\n",
    "## STANDARDIZATION : \n",
    "def normalize_from_split(X, train_index):\n",
    "    X_train, X_test = extract_Xsplitted_data(X, train_index)\n",
    "    \n",
    "    my_normalizer = preprocessing.StandardScaler().fit(X_train)\n",
    "    X_train_std = pd.DataFrame(my_normalizer.transform(X_train), index = X_train.index, columns = X_train.columns)\n",
    "    X_test_std = pd.DataFrame(my_normalizer.transform(X_test), index = X_test.index, columns = X_test.columns)\n",
    "\n",
    "    return(X_train_std, X_test_std)\n"
   ]
  },
  {
   "cell_type": "code",
   "execution_count": 8,
   "id": "structured-bullet",
   "metadata": {},
   "outputs": [],
   "source": [
    "## SET ARGUMENTS/PARAMETERS :\n",
    "param_grid = {\"n_neighbors\" : np.arange(8,14,1)}\n",
    "cv = 5\n",
    "\n",
    "###############################################################\n",
    "##TODO : toutes les variables \"locales\" sont préfixées de 'CV_' \n",
    "\n",
    "## INITIALIZATION : \n",
    "CV_X = X_train\n",
    "CV_y = y_train \n",
    "\n",
    "## SET FOLDS : \n",
    "kf = model_selection.StratifiedKFold(n_splits = 5)\n",
    "CV_split_iterator = kf.split(CV_X, y = CV_y)\n",
    "## MAP THE DICT OF LIST INTO LIST OF DICT :\n",
    "param_dirg = model_selection.ParameterGrid(param_grid)\n",
    "\n",
    "### LOOP ON FOLDS :\n",
    "for CV_train_range_index, CV_test_range_index in CV_split_iterator : \n",
    "    train_index = CV_X.index[CV_train_range_index]\n",
    "    test_index = CV_X.index[CV_test_range_index] \n",
    "    \n",
    "    ## NORMALIZE :\n",
    "    CV_X_train, CV_X_test = normalize_from_split(CV_X, train_index)\n",
    "    ## GET y SPLIT : \n",
    "    CV_y_train, CV_y_test = y[train_index], y[test_index]\n",
    "    \n",
    "    ### LOOP ON PARAM NAMES (HERE ONLY 1)\n",
    "    for kwargs in param_dirg :\n",
    "        knn_reg = neighbors.KNeighborsRegressor(**kwargs)\n",
    "        ## FIT KNN on X_train AND PREDICT ON X_test :\n",
    "        knn_reg.fit(CV_X_train,CV_y_train)\n",
    "        \n",
    "        R2 = knn_reg.score(CV_X_test, CV_y_test)\n",
    "    "
   ]
  },
  {
   "cell_type": "code",
   "execution_count": 9,
   "id": "efficient-indiana",
   "metadata": {},
   "outputs": [
    {
     "data": {
      "text/plain": [
       "0.3555672511607434"
      ]
     },
     "execution_count": 9,
     "metadata": {},
     "output_type": "execute_result"
    }
   ],
   "source": [
    "data = X_train, y_train \n",
    "## SET ARGUMENTS/PARAMETERS :\n",
    "clf_meth = neighbors.KNeighborsRegressor()\n",
    "cv = 5 # NUMBER OF FOLDS\n",
    "param_grid = {\"n_neighbors\" : np.arange(2,15,1)}\n",
    "\n",
    "def my_CV(data, param_grid, clf_meth) :\n",
    "    # MAP THE DICT OF LIST INTO LIST OF DICT :\n",
    "    param_dirg = model_selection.ParameterGrid(param_grid)\n",
    "\n",
    "    ###############################################################\n",
    "    ##TODO : toutes les variables \"locales\" sont préfixées de 'CV_' \n",
    "\n",
    "    ## INITIALIZATION : \n",
    "    CV_X, CV_y = data \n",
    "\n",
    "    index = [(\"fold\"+str(k+1)) for k in range(cv)]\n",
    "    k=0 # index for saving info\n",
    "    columns = [(\"_\".join(str(val) for val in kwargs.values())) for kwargs in param_dirg]\n",
    "    accuracy_df = pd.DataFrame(index = index, columns = columns )\n",
    "\n",
    "    ## SET FOLDS : \n",
    "    kf = model_selection.StratifiedKFold(n_splits = 5)\n",
    "    CV_split_iterator = kf.split(CV_X, y = CV_y)\n",
    "\n",
    "    ### LOOP ON FOLDS :\n",
    "    for CV_train_range_index, CV_test_range_index in CV_split_iterator : \n",
    "        k+=1\n",
    "        index_name = \"fold\"+str(k)\n",
    "        train_index = CV_X.index[CV_train_range_index]\n",
    "        test_index = CV_X.index[CV_test_range_index] \n",
    "\n",
    "        ## NORMALIZE :\n",
    "        CV_X_train, CV_X_test = normalize_from_split(CV_X, train_index)\n",
    "        ## GET y SPLIT : \n",
    "        CV_y_train, CV_y_test = y[train_index], y[test_index]\n",
    "\n",
    "        ### LOOP ON PARAM NAMES (HERE ONLY 1)\n",
    "        for kwargs in param_dirg :\n",
    "            ## FIT KNN on X_train AND PREDICT ON X_test :\n",
    "            knn_clf = neighbors.KNeighborsClassifier(**kwargs)\n",
    "            knn_clf.fit(CV_X_train,CV_y_train)\n",
    "\n",
    "\n",
    "            column_name = \"_\".join(str(val) for val in kwargs.values())\n",
    "            accuracy_df.loc[index_name, column_name] = knn_clf.score(CV_X_test, CV_y_test)\n",
    "            \n",
    "    return pd.DataFrame((accuracy_df.columns, accuracy_df.mean(axis = 0), accuracy_df.std(axis = 0)), index = ['n_neighbors', 'mean','std'])\n",
    "\n",
    "res= my_CV(data, param_grid, clf_meth)\n",
    "\n",
    "for col_index in res.columns:\n",
    "    mean = res.loc[\"mean\",col_index]\n",
    "    std = res.loc[\"std\",col_index]\n",
    "    params = res.loc[\"n_neighbors\",col_index]\n",
    "    print(\"accuracy = %0.3f (+/-%0.3f) for n_neighbors = %s\" %(mean, 2*std, params))\n",
    "    print(\"accuracy = {} (+/-{}) for n_neighbors = {}\".format(mean, 2*std, params))\n"
   ]
  },
  {
   "cell_type": "code",
   "execution_count": null,
   "id": "surprising-stomach",
   "metadata": {},
   "outputs": [],
   "source": []
  }
 ],
 "metadata": {
  "kernelspec": {
   "display_name": "Python 3",
   "language": "python",
   "name": "python3"
  },
  "language_info": {
   "codemirror_mode": {
    "name": "ipython",
    "version": 3
   },
   "file_extension": ".py",
   "mimetype": "text/x-python",
   "name": "python",
   "nbconvert_exporter": "python",
   "pygments_lexer": "ipython3",
   "version": "3.8.8"
  }
 },
 "nbformat": 4,
 "nbformat_minor": 5
}
