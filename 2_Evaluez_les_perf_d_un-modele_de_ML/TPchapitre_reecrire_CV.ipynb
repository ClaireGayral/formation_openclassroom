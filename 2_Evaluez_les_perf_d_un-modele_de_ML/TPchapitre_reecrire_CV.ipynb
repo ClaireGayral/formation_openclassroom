{
 "cells": [
  {
   "cell_type": "markdown",
   "id": "graphic-netscape",
   "metadata": {},
   "source": [
    "# TP Chapitre - Entraînez-vous : implémentez une validation croisée\n",
    "\n",
    "This the notebook where I constructed the method, step by step, so there are probably repeated parts of code."
   ]
  },
  {
   "cell_type": "code",
   "execution_count": 3,
   "id": "adopted-privacy",
   "metadata": {},
   "outputs": [],
   "source": [
    "data_path = \"~/Documents/openclassroom/Fomation_ingenieur_ML/data/\"\n",
    "\n",
    "import pandas as pd\n",
    "import numpy as np\n",
    "import matplotlib.pyplot as plt\n",
    "\n",
    "## sklearn module : \n",
    "from sklearn import model_selection \n",
    "from sklearn import preprocessing\n",
    "from sklearn import neighbors\n"
   ]
  },
  {
   "cell_type": "code",
   "execution_count": 4,
   "id": "ranking-charge",
   "metadata": {},
   "outputs": [],
   "source": [
    "df = pd.read_csv(data_path+'winequality-red+.csv', sep=\";\")\n",
    "\n",
    "## DESIGN AND SAMPLING : \n",
    "X = df.drop(\"quality\", axis = 1, inplace = False)\n",
    "threshold = np.floor(df.quality.mean())\n",
    "y = np.where(df.quality < threshold, 0,1) \n",
    "X_train, X_test, y_train, y_test = model_selection.train_test_split(X, y, train_size=0.7)\n",
    "\n",
    "## STANDARDIZATION : \n",
    "my_normalizer = preprocessing.StandardScaler().fit(X_train)\n",
    "X_train_std = pd.DataFrame(my_normalizer.transform(X_train), index = X_train.index, columns = X_train.columns)\n",
    "X_test_std = pd.DataFrame(my_normalizer.transform(X_test), index = X_test.index, columns = X_test.columns)\n",
    "\n",
    "\n"
   ]
  },
  {
   "cell_type": "markdown",
   "id": "initial-grain",
   "metadata": {},
   "source": [
    "###### LIST OF ARGUMENTS AT THE END \n",
    "clf_meth = neighbors.KNeighborsClassifier()\n",
    "\n",
    "param_grid = {\"n_neighbors\" : np.arange(2,15,1)}\n",
    "\n",
    "cv = 5\n",
    "\n",
    "###### WHAT IT DOES : \n",
    "1. Create \"cv\"(=5 for ex) folds \n",
    "    \n",
    "    1.1 Separate the observations in 5 parts that respect the global distrib\n",
    "\n",
    "    1.2 Loop for fold_f in 1:5, \n",
    "            fit the clf_meth model on the Xcv_train = X_train[all fold - fold_f],\n",
    "    \n",
    "            loop for params in param_grid.keys() : \n",
    "            \n",
    "                fit clf_meth(Xcv_train, ycv_train\n",
    "            \n",
    "            save results for prediction on Xcv_test = X_train[fold_f] \n",
    "\n",
    "2. define class methods : \n",
    "    \n",
    "    2.1 cv_results_ : save mean results of models in the dict param_grid.key()\n",
    "    \n",
    "    2.2 best_params_ : the better parameter set in param_grid, in term of accuracy\n",
    "    ... many other methods, see https://scikit-learn.org/stable/modules/generated/sklearn.model_selection.GridSearchCV.html"
   ]
  },
  {
   "cell_type": "code",
   "execution_count": null,
   "id": "unavailable-occasions",
   "metadata": {},
   "outputs": [],
   "source": []
  },
  {
   "cell_type": "code",
   "execution_count": null,
   "id": "caring-uncertainty",
   "metadata": {},
   "outputs": [],
   "source": []
  }
 ],
 "metadata": {
  "kernelspec": {
   "display_name": "Python 3",
   "language": "python",
   "name": "python3"
  },
  "language_info": {
   "codemirror_mode": {
    "name": "ipython",
    "version": 3
   },
   "file_extension": ".py",
   "mimetype": "text/x-python",
   "name": "python",
   "nbconvert_exporter": "python",
   "pygments_lexer": "ipython3",
   "version": "3.8.8"
  }
 },
 "nbformat": 4,
 "nbformat_minor": 5
}
