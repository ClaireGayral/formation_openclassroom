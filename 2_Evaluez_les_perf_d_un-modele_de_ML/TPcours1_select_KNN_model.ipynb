{
 "cells": [
  {
   "cell_type": "markdown",
   "id": "junior-sculpture",
   "metadata": {},
   "source": [
    "# TP - Sélectionnez le nombre de voisins dans un kNN\n",
    "\n",
    "## 1. Introduction "
   ]
  },
  {
   "cell_type": "code",
   "execution_count": 61,
   "id": "everyday-russell",
   "metadata": {},
   "outputs": [],
   "source": [
    "import pandas as pd\n",
    "import numpy as np\n",
    "import matplotlib.pyplot as plt\n",
    "## sklearn module : \n",
    "from sklearn import model_selection \n",
    "from sklearn import preprocessing\n",
    "from sklearn import neighbors\n",
    "from sklearn import metrics\n",
    "data_path = \"~/Documents/openclassroom/Fomation_ingenieur_ML/data/\""
   ]
  },
  {
   "cell_type": "code",
   "execution_count": 2,
   "id": "cooked-programmer",
   "metadata": {},
   "outputs": [
    {
     "data": {
      "text/html": [
       "<div>\n",
       "<style scoped>\n",
       "    .dataframe tbody tr th:only-of-type {\n",
       "        vertical-align: middle;\n",
       "    }\n",
       "\n",
       "    .dataframe tbody tr th {\n",
       "        vertical-align: top;\n",
       "    }\n",
       "\n",
       "    .dataframe thead th {\n",
       "        text-align: right;\n",
       "    }\n",
       "</style>\n",
       "<table border=\"1\" class=\"dataframe\">\n",
       "  <thead>\n",
       "    <tr style=\"text-align: right;\">\n",
       "      <th></th>\n",
       "      <th>fixed acidity</th>\n",
       "      <th>volatile acidity</th>\n",
       "      <th>citric acid</th>\n",
       "      <th>residual sugar</th>\n",
       "      <th>chlorides</th>\n",
       "      <th>free sulfur dioxide</th>\n",
       "      <th>total sulfur dioxide</th>\n",
       "      <th>density</th>\n",
       "      <th>pH</th>\n",
       "      <th>sulphates</th>\n",
       "      <th>alcohol</th>\n",
       "      <th>quality</th>\n",
       "    </tr>\n",
       "  </thead>\n",
       "  <tbody>\n",
       "    <tr>\n",
       "      <th>0</th>\n",
       "      <td>7.4</td>\n",
       "      <td>0.70</td>\n",
       "      <td>0.00</td>\n",
       "      <td>1.9</td>\n",
       "      <td>0.076</td>\n",
       "      <td>11.0</td>\n",
       "      <td>34.0</td>\n",
       "      <td>0.9978</td>\n",
       "      <td>3.51</td>\n",
       "      <td>0.56</td>\n",
       "      <td>9.4</td>\n",
       "      <td>5</td>\n",
       "    </tr>\n",
       "    <tr>\n",
       "      <th>1</th>\n",
       "      <td>7.8</td>\n",
       "      <td>0.88</td>\n",
       "      <td>0.00</td>\n",
       "      <td>2.6</td>\n",
       "      <td>0.098</td>\n",
       "      <td>25.0</td>\n",
       "      <td>67.0</td>\n",
       "      <td>0.9968</td>\n",
       "      <td>3.20</td>\n",
       "      <td>0.68</td>\n",
       "      <td>9.8</td>\n",
       "      <td>5</td>\n",
       "    </tr>\n",
       "    <tr>\n",
       "      <th>2</th>\n",
       "      <td>7.8</td>\n",
       "      <td>0.76</td>\n",
       "      <td>0.04</td>\n",
       "      <td>2.3</td>\n",
       "      <td>0.092</td>\n",
       "      <td>15.0</td>\n",
       "      <td>54.0</td>\n",
       "      <td>0.9970</td>\n",
       "      <td>3.26</td>\n",
       "      <td>0.65</td>\n",
       "      <td>9.8</td>\n",
       "      <td>5</td>\n",
       "    </tr>\n",
       "    <tr>\n",
       "      <th>3</th>\n",
       "      <td>11.2</td>\n",
       "      <td>0.28</td>\n",
       "      <td>0.56</td>\n",
       "      <td>1.9</td>\n",
       "      <td>0.075</td>\n",
       "      <td>17.0</td>\n",
       "      <td>60.0</td>\n",
       "      <td>0.9980</td>\n",
       "      <td>3.16</td>\n",
       "      <td>0.58</td>\n",
       "      <td>9.8</td>\n",
       "      <td>6</td>\n",
       "    </tr>\n",
       "    <tr>\n",
       "      <th>4</th>\n",
       "      <td>7.4</td>\n",
       "      <td>0.70</td>\n",
       "      <td>0.00</td>\n",
       "      <td>1.9</td>\n",
       "      <td>0.076</td>\n",
       "      <td>11.0</td>\n",
       "      <td>34.0</td>\n",
       "      <td>0.9978</td>\n",
       "      <td>3.51</td>\n",
       "      <td>0.56</td>\n",
       "      <td>9.4</td>\n",
       "      <td>5</td>\n",
       "    </tr>\n",
       "  </tbody>\n",
       "</table>\n",
       "</div>"
      ],
      "text/plain": [
       "   fixed acidity  volatile acidity  citric acid  residual sugar  chlorides  \\\n",
       "0            7.4              0.70         0.00             1.9      0.076   \n",
       "1            7.8              0.88         0.00             2.6      0.098   \n",
       "2            7.8              0.76         0.04             2.3      0.092   \n",
       "3           11.2              0.28         0.56             1.9      0.075   \n",
       "4            7.4              0.70         0.00             1.9      0.076   \n",
       "\n",
       "   free sulfur dioxide  total sulfur dioxide  density    pH  sulphates  \\\n",
       "0                 11.0                  34.0   0.9978  3.51       0.56   \n",
       "1                 25.0                  67.0   0.9968  3.20       0.68   \n",
       "2                 15.0                  54.0   0.9970  3.26       0.65   \n",
       "3                 17.0                  60.0   0.9980  3.16       0.58   \n",
       "4                 11.0                  34.0   0.9978  3.51       0.56   \n",
       "\n",
       "   alcohol  quality  \n",
       "0      9.4        5  \n",
       "1      9.8        5  \n",
       "2      9.8        5  \n",
       "3      9.8        6  \n",
       "4      9.4        5  "
      ]
     },
     "execution_count": 2,
     "metadata": {},
     "output_type": "execute_result"
    }
   ],
   "source": [
    "df = pd.read_csv(data_path+'winequality-red+.csv', sep=\";\")\n",
    "df.head()"
   ]
  },
  {
   "cell_type": "markdown",
   "id": "physical-coating",
   "metadata": {},
   "source": [
    "There are 11 numerical descriptive variables and 1 ranking feature. Let us first see the descriptive stats for these data :  \n",
    "%##TODO : see further with the descriptive stat course (in ML programme) "
   ]
  },
  {
   "cell_type": "code",
   "execution_count": 3,
   "id": "suitable-earth",
   "metadata": {
    "scrolled": true
   },
   "outputs": [
    {
     "data": {
      "text/html": [
       "<div>\n",
       "<style scoped>\n",
       "    .dataframe tbody tr th:only-of-type {\n",
       "        vertical-align: middle;\n",
       "    }\n",
       "\n",
       "    .dataframe tbody tr th {\n",
       "        vertical-align: top;\n",
       "    }\n",
       "\n",
       "    .dataframe thead th {\n",
       "        text-align: right;\n",
       "    }\n",
       "</style>\n",
       "<table border=\"1\" class=\"dataframe\">\n",
       "  <thead>\n",
       "    <tr style=\"text-align: right;\">\n",
       "      <th></th>\n",
       "      <th>fixed acidity</th>\n",
       "      <th>volatile acidity</th>\n",
       "      <th>citric acid</th>\n",
       "      <th>residual sugar</th>\n",
       "      <th>chlorides</th>\n",
       "      <th>free sulfur dioxide</th>\n",
       "      <th>total sulfur dioxide</th>\n",
       "      <th>density</th>\n",
       "      <th>pH</th>\n",
       "      <th>sulphates</th>\n",
       "      <th>alcohol</th>\n",
       "      <th>quality</th>\n",
       "    </tr>\n",
       "  </thead>\n",
       "  <tbody>\n",
       "    <tr>\n",
       "      <th>count</th>\n",
       "      <td>1599.000000</td>\n",
       "      <td>1599.000000</td>\n",
       "      <td>1599.000000</td>\n",
       "      <td>1599.000000</td>\n",
       "      <td>1599.000000</td>\n",
       "      <td>1599.000000</td>\n",
       "      <td>1599.000000</td>\n",
       "      <td>1599.000000</td>\n",
       "      <td>1599.000000</td>\n",
       "      <td>1599.000000</td>\n",
       "      <td>1599.000000</td>\n",
       "      <td>1599.000000</td>\n",
       "    </tr>\n",
       "    <tr>\n",
       "      <th>mean</th>\n",
       "      <td>8.319637</td>\n",
       "      <td>0.527821</td>\n",
       "      <td>0.270976</td>\n",
       "      <td>2.538806</td>\n",
       "      <td>0.087467</td>\n",
       "      <td>15.874922</td>\n",
       "      <td>46.467792</td>\n",
       "      <td>0.996747</td>\n",
       "      <td>3.311113</td>\n",
       "      <td>0.658149</td>\n",
       "      <td>10.422983</td>\n",
       "      <td>5.636023</td>\n",
       "    </tr>\n",
       "    <tr>\n",
       "      <th>std</th>\n",
       "      <td>1.741096</td>\n",
       "      <td>0.179060</td>\n",
       "      <td>0.194801</td>\n",
       "      <td>1.409928</td>\n",
       "      <td>0.047065</td>\n",
       "      <td>10.460157</td>\n",
       "      <td>32.895324</td>\n",
       "      <td>0.001887</td>\n",
       "      <td>0.154386</td>\n",
       "      <td>0.169507</td>\n",
       "      <td>1.065668</td>\n",
       "      <td>0.807569</td>\n",
       "    </tr>\n",
       "    <tr>\n",
       "      <th>min</th>\n",
       "      <td>4.600000</td>\n",
       "      <td>0.120000</td>\n",
       "      <td>0.000000</td>\n",
       "      <td>0.900000</td>\n",
       "      <td>0.012000</td>\n",
       "      <td>1.000000</td>\n",
       "      <td>6.000000</td>\n",
       "      <td>0.990070</td>\n",
       "      <td>2.740000</td>\n",
       "      <td>0.330000</td>\n",
       "      <td>8.400000</td>\n",
       "      <td>3.000000</td>\n",
       "    </tr>\n",
       "    <tr>\n",
       "      <th>25%</th>\n",
       "      <td>7.100000</td>\n",
       "      <td>0.390000</td>\n",
       "      <td>0.090000</td>\n",
       "      <td>1.900000</td>\n",
       "      <td>0.070000</td>\n",
       "      <td>7.000000</td>\n",
       "      <td>22.000000</td>\n",
       "      <td>0.995600</td>\n",
       "      <td>3.210000</td>\n",
       "      <td>0.550000</td>\n",
       "      <td>9.500000</td>\n",
       "      <td>5.000000</td>\n",
       "    </tr>\n",
       "    <tr>\n",
       "      <th>50%</th>\n",
       "      <td>7.900000</td>\n",
       "      <td>0.520000</td>\n",
       "      <td>0.260000</td>\n",
       "      <td>2.200000</td>\n",
       "      <td>0.079000</td>\n",
       "      <td>14.000000</td>\n",
       "      <td>38.000000</td>\n",
       "      <td>0.996750</td>\n",
       "      <td>3.310000</td>\n",
       "      <td>0.620000</td>\n",
       "      <td>10.200000</td>\n",
       "      <td>6.000000</td>\n",
       "    </tr>\n",
       "    <tr>\n",
       "      <th>75%</th>\n",
       "      <td>9.200000</td>\n",
       "      <td>0.640000</td>\n",
       "      <td>0.420000</td>\n",
       "      <td>2.600000</td>\n",
       "      <td>0.090000</td>\n",
       "      <td>21.000000</td>\n",
       "      <td>62.000000</td>\n",
       "      <td>0.997835</td>\n",
       "      <td>3.400000</td>\n",
       "      <td>0.730000</td>\n",
       "      <td>11.100000</td>\n",
       "      <td>6.000000</td>\n",
       "    </tr>\n",
       "    <tr>\n",
       "      <th>max</th>\n",
       "      <td>15.900000</td>\n",
       "      <td>1.580000</td>\n",
       "      <td>1.000000</td>\n",
       "      <td>15.500000</td>\n",
       "      <td>0.611000</td>\n",
       "      <td>72.000000</td>\n",
       "      <td>289.000000</td>\n",
       "      <td>1.003690</td>\n",
       "      <td>4.010000</td>\n",
       "      <td>2.000000</td>\n",
       "      <td>14.900000</td>\n",
       "      <td>8.000000</td>\n",
       "    </tr>\n",
       "  </tbody>\n",
       "</table>\n",
       "</div>"
      ],
      "text/plain": [
       "       fixed acidity  volatile acidity  citric acid  residual sugar  \\\n",
       "count    1599.000000       1599.000000  1599.000000     1599.000000   \n",
       "mean        8.319637          0.527821     0.270976        2.538806   \n",
       "std         1.741096          0.179060     0.194801        1.409928   \n",
       "min         4.600000          0.120000     0.000000        0.900000   \n",
       "25%         7.100000          0.390000     0.090000        1.900000   \n",
       "50%         7.900000          0.520000     0.260000        2.200000   \n",
       "75%         9.200000          0.640000     0.420000        2.600000   \n",
       "max        15.900000          1.580000     1.000000       15.500000   \n",
       "\n",
       "         chlorides  free sulfur dioxide  total sulfur dioxide      density  \\\n",
       "count  1599.000000          1599.000000           1599.000000  1599.000000   \n",
       "mean      0.087467            15.874922             46.467792     0.996747   \n",
       "std       0.047065            10.460157             32.895324     0.001887   \n",
       "min       0.012000             1.000000              6.000000     0.990070   \n",
       "25%       0.070000             7.000000             22.000000     0.995600   \n",
       "50%       0.079000            14.000000             38.000000     0.996750   \n",
       "75%       0.090000            21.000000             62.000000     0.997835   \n",
       "max       0.611000            72.000000            289.000000     1.003690   \n",
       "\n",
       "                pH    sulphates      alcohol      quality  \n",
       "count  1599.000000  1599.000000  1599.000000  1599.000000  \n",
       "mean      3.311113     0.658149    10.422983     5.636023  \n",
       "std       0.154386     0.169507     1.065668     0.807569  \n",
       "min       2.740000     0.330000     8.400000     3.000000  \n",
       "25%       3.210000     0.550000     9.500000     5.000000  \n",
       "50%       3.310000     0.620000    10.200000     6.000000  \n",
       "75%       3.400000     0.730000    11.100000     6.000000  \n",
       "max       4.010000     2.000000    14.900000     8.000000  "
      ]
     },
     "execution_count": 3,
     "metadata": {},
     "output_type": "execute_result"
    }
   ],
   "source": [
    "df.describe()"
   ]
  },
  {
   "cell_type": "markdown",
   "id": "ignored-bernard",
   "metadata": {},
   "source": [
    "Then, in the course, they propose to transform the data into numpy type -> why ? \n",
    "I have so written the plot with the pandas structure"
   ]
  },
  {
   "cell_type": "code",
   "execution_count": 4,
   "id": "following-vintage",
   "metadata": {
    "scrolled": true
   },
   "outputs": [
    {
     "data": {
      "image/png": "[encoded data removed]",
      "text/plain": [
       "<Figure size 1152x864 with 11 Axes>"
      ]
     },
     "metadata": {
      "needs_background": "light"
     },
     "output_type": "display_data"
    }
   ],
   "source": [
    "fig = plt.figure(figsize=(16, 12))\n",
    "fig_count = 1\n",
    "for var_name in df.columns.values[:-1] : \n",
    "    ax = fig.add_subplot(3,4, fig_count)\n",
    "    ax.hist(df[var_name], bins=50, color='steelblue', density=True, edgecolor='none')\n",
    "    ax.set_title(var_name, fontsize=14)\n",
    "    fig_count += 1"
   ]
  },
  {
   "cell_type": "code",
   "execution_count": 5,
   "id": "pregnant-cruise",
   "metadata": {},
   "outputs": [
    {
     "data": {
      "image/png": "[encoded data removed]",
      "text/plain": [
       "<Figure size 432x288 with 1 Axes>"
      ]
     },
     "metadata": {
      "needs_background": "light"
     },
     "output_type": "display_data"
    }
   ],
   "source": [
    "## BARPLOT FOR QUALITY FEATURE : \n",
    "absc = range(df.quality.min(), df.quality.max())\n",
    "plt.bar(absc, [(df.quality == a).sum() for a in absc],color='steelblue')\n",
    "plt.title(\"Barplot of quality mark\", fontsize=14)\n",
    "plt.show()"
   ]
  },
  {
   "cell_type": "markdown",
   "id": "theoretical-proof",
   "metadata": {},
   "source": [
    "##### Binary classification : \n",
    "Now, we aim to transform this problem into a binary classification, that is we just want to predict if the wine is good or bad. to do so, we introduce an arbitrary threshol. Note that in a real life problem, I would have consider it as an hyperparameter - that is it would have to be fitted. But as our goal on this TP is to practise, I have decided to set it as the mean of the quality mark. That means that a wise is said to be \"good\" (class = 1) if its quality mark is better than the mean quality. \n",
    "\n",
    "So we need to set : \n",
    "* $X$ the matrix containing the differents features that characterize the wine\n",
    "* $y$ = binary vector, equals to 1 if the wine is \"good\", 0 otherwise"
   ]
  },
  {
   "cell_type": "code",
   "execution_count": 81,
   "id": "protective-industry",
   "metadata": {},
   "outputs": [],
   "source": [
    "X = df.drop(\"quality\", axis = 1, inplace = False)\n",
    "threshold = np.floor(df.quality.mean())\n",
    "y = np.where(df.quality < threshold, 0,1) \n",
    "# np.where(condition, x, y)\n",
    "# x = value if True  // y = value if False\n",
    "\n",
    "train_size=0.7\n",
    "X_train, X_test, y_train, y_test = model_selection.train_test_split(X, y, train_size=train_size)"
   ]
  },
  {
   "cell_type": "markdown",
   "id": "indonesian-rubber",
   "metadata": {},
   "source": [
    "#### Normalization : \n",
    "As we are to use KNN models, it is necessary to standardize our data (that is centered and with Var = 1). The good pratice is to fit the standardization on train set, and fit it to both the train and the test set (the test set is \"normaly\" with the same distribution than the training set)"
   ]
  },
  {
   "cell_type": "code",
   "execution_count": 82,
   "id": "impressed-poison",
   "metadata": {},
   "outputs": [
    {
     "data": {
      "image/png": "[encoded data removed]",
      "text/plain": [
       "<Figure size 1152x864 with 11 Axes>"
      ]
     },
     "metadata": {
      "needs_background": "light"
     },
     "output_type": "display_data"
    }
   ],
   "source": [
    "## FIT SCALER : \n",
    "my_normalizer = preprocessing.StandardScaler().fit(X_train)\n",
    "\n",
    "## TRANSFORM DATA : caution, pandas DataFrame \n",
    "X_train_std = pd.DataFrame(my_normalizer.transform(X_train), index = X_train.index, columns = X_train.columns)\n",
    "X_test_std = pd.DataFrame(my_normalizer.transform(X_test), index = X_test.index, columns = X_test.columns)\n",
    "\n",
    "## GRAPHICAL CHECK FOR STANDARDIZATION : \n",
    "fig = plt.figure(figsize=(16, 12))\n",
    "fig_count = 1\n",
    "for var_name in X_train_std.columns.values : \n",
    "    ax = fig.add_subplot(3,4, fig_count)\n",
    "    ax.hist(X_train_std[var_name], bins=50, color='steelblue', density=True, edgecolor='none')\n",
    "    ax.set_title(var_name, fontsize=14)\n",
    "    fig_count += 1"
   ]
  },
  {
   "cell_type": "code",
   "execution_count": 83,
   "id": "simplified-adolescent",
   "metadata": {},
   "outputs": [
    {
     "data": {
      "text/html": [
       "<div>\n",
       "<style scoped>\n",
       "    .dataframe tbody tr th:only-of-type {\n",
       "        vertical-align: middle;\n",
       "    }\n",
       "\n",
       "    .dataframe tbody tr th {\n",
       "        vertical-align: top;\n",
       "    }\n",
       "\n",
       "    .dataframe thead th {\n",
       "        text-align: right;\n",
       "    }\n",
       "</style>\n",
       "<table border=\"1\" class=\"dataframe\">\n",
       "  <thead>\n",
       "    <tr style=\"text-align: right;\">\n",
       "      <th></th>\n",
       "      <th>fixed acidity</th>\n",
       "      <th>volatile acidity</th>\n",
       "      <th>citric acid</th>\n",
       "      <th>residual sugar</th>\n",
       "      <th>chlorides</th>\n",
       "      <th>free sulfur dioxide</th>\n",
       "      <th>total sulfur dioxide</th>\n",
       "      <th>density</th>\n",
       "      <th>pH</th>\n",
       "      <th>sulphates</th>\n",
       "      <th>alcohol</th>\n",
       "    </tr>\n",
       "  </thead>\n",
       "  <tbody>\n",
       "    <tr>\n",
       "      <th>1411</th>\n",
       "      <td>-1.109431</td>\n",
       "      <td>-0.326125</td>\n",
       "      <td>0.631789</td>\n",
       "      <td>-0.093807</td>\n",
       "      <td>-0.346962</td>\n",
       "      <td>-0.762138</td>\n",
       "      <td>-0.835742</td>\n",
       "      <td>-0.254463</td>\n",
       "      <td>1.659341</td>\n",
       "      <td>0.431440</td>\n",
       "      <td>0.189999</td>\n",
       "    </tr>\n",
       "    <tr>\n",
       "      <th>1576</th>\n",
       "      <td>-0.209420</td>\n",
       "      <td>-1.252286</td>\n",
       "      <td>1.791917</td>\n",
       "      <td>-0.660448</td>\n",
       "      <td>-0.143242</td>\n",
       "      <td>0.015905</td>\n",
       "      <td>-0.527346</td>\n",
       "      <td>-0.478843</td>\n",
       "      <td>-0.047883</td>\n",
       "      <td>0.726142</td>\n",
       "      <td>0.383002</td>\n",
       "    </tr>\n",
       "    <tr>\n",
       "      <th>1169</th>\n",
       "      <td>-0.434423</td>\n",
       "      <td>-0.162685</td>\n",
       "      <td>0.076945</td>\n",
       "      <td>-0.164637</td>\n",
       "      <td>-0.041381</td>\n",
       "      <td>-1.053903</td>\n",
       "      <td>-0.989941</td>\n",
       "      <td>-0.938289</td>\n",
       "      <td>0.083442</td>\n",
       "      <td>-0.216905</td>\n",
       "      <td>1.058513</td>\n",
       "    </tr>\n",
       "    <tr>\n",
       "      <th>999</th>\n",
       "      <td>-1.109431</td>\n",
       "      <td>0.872435</td>\n",
       "      <td>-1.385825</td>\n",
       "      <td>-0.625033</td>\n",
       "      <td>-0.672915</td>\n",
       "      <td>-0.859393</td>\n",
       "      <td>-1.051620</td>\n",
       "      <td>-2.754702</td>\n",
       "      <td>1.068379</td>\n",
       "      <td>-0.747369</td>\n",
       "      <td>2.409534</td>\n",
       "    </tr>\n",
       "    <tr>\n",
       "      <th>1247</th>\n",
       "      <td>-0.546924</td>\n",
       "      <td>0.109715</td>\n",
       "      <td>-0.427458</td>\n",
       "      <td>-0.518787</td>\n",
       "      <td>-0.122870</td>\n",
       "      <td>-0.081350</td>\n",
       "      <td>-0.373148</td>\n",
       "      <td>-0.120903</td>\n",
       "      <td>1.199704</td>\n",
       "      <td>0.136738</td>\n",
       "      <td>0.093498</td>\n",
       "    </tr>\n",
       "    <tr>\n",
       "      <th>...</th>\n",
       "      <td>...</td>\n",
       "      <td>...</td>\n",
       "      <td>...</td>\n",
       "      <td>...</td>\n",
       "      <td>...</td>\n",
       "      <td>...</td>\n",
       "      <td>...</td>\n",
       "      <td>...</td>\n",
       "      <td>...</td>\n",
       "      <td>...</td>\n",
       "      <td>...</td>\n",
       "    </tr>\n",
       "    <tr>\n",
       "      <th>405</th>\n",
       "      <td>0.184335</td>\n",
       "      <td>-1.197805</td>\n",
       "      <td>0.934431</td>\n",
       "      <td>-0.802108</td>\n",
       "      <td>-0.591427</td>\n",
       "      <td>-0.470372</td>\n",
       "      <td>-0.650705</td>\n",
       "      <td>-0.094191</td>\n",
       "      <td>0.346092</td>\n",
       "      <td>0.608261</td>\n",
       "      <td>-0.292509</td>\n",
       "    </tr>\n",
       "    <tr>\n",
       "      <th>1298</th>\n",
       "      <td>-1.503186</td>\n",
       "      <td>0.382115</td>\n",
       "      <td>-1.385825</td>\n",
       "      <td>-0.802108</td>\n",
       "      <td>-0.509939</td>\n",
       "      <td>-0.470372</td>\n",
       "      <td>-0.866582</td>\n",
       "      <td>-2.599773</td>\n",
       "      <td>0.937054</td>\n",
       "      <td>-0.570548</td>\n",
       "      <td>1.734023</td>\n",
       "    </tr>\n",
       "    <tr>\n",
       "      <th>1480</th>\n",
       "      <td>-1.559437</td>\n",
       "      <td>0.491075</td>\n",
       "      <td>-1.234504</td>\n",
       "      <td>-0.731278</td>\n",
       "      <td>-0.163614</td>\n",
       "      <td>-0.956648</td>\n",
       "      <td>-1.020780</td>\n",
       "      <td>-0.959659</td>\n",
       "      <td>2.315966</td>\n",
       "      <td>-0.216905</td>\n",
       "      <td>-0.292509</td>\n",
       "    </tr>\n",
       "    <tr>\n",
       "      <th>398</th>\n",
       "      <td>1.759356</td>\n",
       "      <td>0.327635</td>\n",
       "      <td>1.590156</td>\n",
       "      <td>0.047853</td>\n",
       "      <td>-0.021009</td>\n",
       "      <td>-0.275861</td>\n",
       "      <td>0.089446</td>\n",
       "      <td>1.081135</td>\n",
       "      <td>-0.835832</td>\n",
       "      <td>-0.040084</td>\n",
       "      <td>0.576005</td>\n",
       "    </tr>\n",
       "    <tr>\n",
       "      <th>211</th>\n",
       "      <td>-0.209420</td>\n",
       "      <td>1.063115</td>\n",
       "      <td>-0.175257</td>\n",
       "      <td>0.189513</td>\n",
       "      <td>-0.102498</td>\n",
       "      <td>-0.567627</td>\n",
       "      <td>0.490361</td>\n",
       "      <td>0.039369</td>\n",
       "      <td>0.280430</td>\n",
       "      <td>-0.570548</td>\n",
       "      <td>-0.389010</td>\n",
       "    </tr>\n",
       "  </tbody>\n",
       "</table>\n",
       "<p>1119 rows × 11 columns</p>\n",
       "</div>"
      ],
      "text/plain": [
       "      fixed acidity  volatile acidity  citric acid  residual sugar  chlorides  \\\n",
       "1411      -1.109431         -0.326125     0.631789       -0.093807  -0.346962   \n",
       "1576      -0.209420         -1.252286     1.791917       -0.660448  -0.143242   \n",
       "1169      -0.434423         -0.162685     0.076945       -0.164637  -0.041381   \n",
       "999       -1.109431          0.872435    -1.385825       -0.625033  -0.672915   \n",
       "1247      -0.546924          0.109715    -0.427458       -0.518787  -0.122870   \n",
       "...             ...               ...          ...             ...        ...   \n",
       "405        0.184335         -1.197805     0.934431       -0.802108  -0.591427   \n",
       "1298      -1.503186          0.382115    -1.385825       -0.802108  -0.509939   \n",
       "1480      -1.559437          0.491075    -1.234504       -0.731278  -0.163614   \n",
       "398        1.759356          0.327635     1.590156        0.047853  -0.021009   \n",
       "211       -0.209420          1.063115    -0.175257        0.189513  -0.102498   \n",
       "\n",
       "      free sulfur dioxide  total sulfur dioxide   density        pH  \\\n",
       "1411            -0.762138             -0.835742 -0.254463  1.659341   \n",
       "1576             0.015905             -0.527346 -0.478843 -0.047883   \n",
       "1169            -1.053903             -0.989941 -0.938289  0.083442   \n",
       "999             -0.859393             -1.051620 -2.754702  1.068379   \n",
       "1247            -0.081350             -0.373148 -0.120903  1.199704   \n",
       "...                   ...                   ...       ...       ...   \n",
       "405             -0.470372             -0.650705 -0.094191  0.346092   \n",
       "1298            -0.470372             -0.866582 -2.599773  0.937054   \n",
       "1480            -0.956648             -1.020780 -0.959659  2.315966   \n",
       "398             -0.275861              0.089446  1.081135 -0.835832   \n",
       "211             -0.567627              0.490361  0.039369  0.280430   \n",
       "\n",
       "      sulphates   alcohol  \n",
       "1411   0.431440  0.189999  \n",
       "1576   0.726142  0.383002  \n",
       "1169  -0.216905  1.058513  \n",
       "999   -0.747369  2.409534  \n",
       "1247   0.136738  0.093498  \n",
       "...         ...       ...  \n",
       "405    0.608261 -0.292509  \n",
       "1298  -0.570548  1.734023  \n",
       "1480  -0.216905 -0.292509  \n",
       "398   -0.040084  0.576005  \n",
       "211   -0.570548 -0.389010  \n",
       "\n",
       "[1119 rows x 11 columns]"
      ]
     },
     "execution_count": 83,
     "metadata": {},
     "output_type": "execute_result"
    }
   ],
   "source": [
    "X_train_std"
   ]
  },
  {
   "cell_type": "markdown",
   "id": "bored-norwegian",
   "metadata": {},
   "source": [
    "## 2. KNN \n",
    "\n",
    "### 2.1 Classifier without CV (k=3) : \n",
    "\n",
    "Ok, now, I have all that I need to launch a knn. Let us first recall the syntax to call KNN, with a given k (it is in 1_Introduction_au_ML/TPcours2, note that here k=3)"
   ]
  },
  {
   "cell_type": "code",
   "execution_count": 99,
   "id": "gothic-spanking",
   "metadata": {},
   "outputs": [
    {
     "data": {
      "text/plain": [
       "KNeighborsClassifier(n_neighbors=3)"
      ]
     },
     "execution_count": 99,
     "metadata": {},
     "output_type": "execute_result"
    }
   ],
   "source": [
    "k=3\n",
    "knn_clf = neighbors.KNeighborsClassifier(n_neighbors = k)\n",
    "knn_clf.fit(X_train_std,y_train)\n",
    "#knn_clf.predict(X_test_std)"
   ]
  },
  {
   "cell_type": "markdown",
   "id": "republican-method",
   "metadata": {},
   "source": [
    "### 2.2 CV (fitting the better k) :  "
   ]
  },
  {
   "cell_type": "code",
   "execution_count": 85,
   "id": "frank-crime",
   "metadata": {},
   "outputs": [
    {
     "data": {
      "text/plain": [
       "GridSearchCV(cv=5, estimator=KNeighborsClassifier(),\n",
       "             param_grid={'n_neighbors': array([ 2,  3,  4,  5,  6,  7,  8,  9, 10, 11, 12, 13, 14])},\n",
       "             scoring='accuracy')"
      ]
     },
     "execution_count": 85,
     "metadata": {},
     "output_type": "execute_result"
    }
   ],
   "source": [
    "param_grid = {\"n_neighbors\" : np.arange(2,15,1)}\n",
    "# the \"n_neighbors\" param in clf will take value in ... \n",
    "\n",
    "nb_folds = 5\n",
    "my_clf = model_selection.GridSearchCV(neighbors.KNeighborsClassifier(), param_grid, \n",
    "                                      cv = nb_folds, scoring = \"accuracy\")\n",
    "my_clf.fit(X_train_std, y_train)"
   ]
  },
  {
   "cell_type": "markdown",
   "id": "dominant-grass",
   "metadata": {},
   "source": [
    "##### Principal methods of this classifier : "
   ]
  },
  {
   "cell_type": "code",
   "execution_count": 86,
   "id": "junior-hepatitis",
   "metadata": {},
   "outputs": [
    {
     "name": "stdout",
     "output_type": "stream",
     "text": [
      "{'n_neighbors': 8} \n",
      "\n",
      "dict_keys(['mean_fit_time', 'std_fit_time', 'mean_score_time', 'std_score_time', 'param_n_neighbors', 'params', 'split0_test_score', 'split1_test_score', 'split2_test_score', 'split3_test_score', 'split4_test_score', 'mean_test_score', 'std_test_score', 'rank_test_score']) \n",
      "\n",
      "accuracy = 0.926 (+/-0.021) for {'n_neighbors': 2}\n",
      "accuracy = 0.957 (+/-0.018) for {'n_neighbors': 3}\n",
      "accuracy = 0.955 (+/-0.020) for {'n_neighbors': 4}\n",
      "accuracy = 0.959 (+/-0.007) for {'n_neighbors': 5}\n",
      "accuracy = 0.959 (+/-0.012) for {'n_neighbors': 6}\n",
      "accuracy = 0.960 (+/-0.006) for {'n_neighbors': 7}\n",
      "accuracy = 0.961 (+/-0.009) for {'n_neighbors': 8}\n",
      "accuracy = 0.959 (+/-0.004) for {'n_neighbors': 9}\n",
      "accuracy = 0.960 (+/-0.006) for {'n_neighbors': 10}\n",
      "accuracy = 0.959 (+/-0.004) for {'n_neighbors': 11}\n",
      "accuracy = 0.959 (+/-0.004) for {'n_neighbors': 12}\n",
      "accuracy = 0.959 (+/-0.004) for {'n_neighbors': 13}\n",
      "accuracy = 0.959 (+/-0.004) for {'n_neighbors': 14}\n"
     ]
    }
   ],
   "source": [
    "# GET THE BETTER k : \n",
    "k = my_clf.best_params_.values()\n",
    "print(my_clf.best_params_,\"\\n\")\n",
    "\n",
    "#my_clf.cv_results_ is a dict containub--ing the main results : \n",
    "res_dict = my_clf.cv_results_\n",
    "print(res_dict.keys(), \"\\n\")\n",
    "\n",
    "## new syntax to iterate <3 <3 : \n",
    "iterator = zip(res_dict[\"mean_test_score\"], res_dict[\"std_test_score\"], res_dict[\"params\"])\n",
    "for mean, std, params in iterator:\n",
    "    print(\"accuracy = %0.3f (+/-%0.3f) for %s\" %(mean, 2*std, params))"
   ]
  },
  {
   "cell_type": "markdown",
   "id": "multiple-prairie",
   "metadata": {},
   "source": [
    "##### Graphics : Accuracy = f ( n_neighbors ) "
   ]
  },
  {
   "cell_type": "code",
   "execution_count": null,
   "id": "mental-portable",
   "metadata": {},
   "outputs": [],
   "source": []
  },
  {
   "cell_type": "markdown",
   "id": "understanding-occurrence",
   "metadata": {},
   "source": [
    "##### Accuracy on the test sample : "
   ]
  },
  {
   "cell_type": "code",
   "execution_count": 87,
   "id": "unlike-novel",
   "metadata": {},
   "outputs": [
    {
     "name": "stdout",
     "output_type": "stream",
     "text": [
      "0.9625\n"
     ]
    }
   ],
   "source": [
    "prediction_test = my_clf.predict(X_test)\n",
    "\n",
    "from sklearn import metrics\n",
    "print(metrics.accuracy_score(y_test,prediction_test))"
   ]
  },
  {
   "cell_type": "markdown",
   "id": "meaning-stability",
   "metadata": {},
   "source": [
    "## 3. To go further : If we had 2 hyperparemeters : \n",
    "\n",
    "The GridSearchCV can only loop on parameter of the classifier function. That means that one can loop in our example on both the \"n_neighbors\" and the \"metrics\" parameters of the classifier \"sklearn.neighbors.KNeighborsClassifier\"."
   ]
  },
  {
   "cell_type": "code",
   "execution_count": 102,
   "id": "legitimate-software",
   "metadata": {},
   "outputs": [
    {
     "data": {
      "text/plain": [
       "{'metric': 'euclidean', 'n_neighbors': 8}"
      ]
     },
     "execution_count": 102,
     "metadata": {},
     "output_type": "execute_result"
    }
   ],
   "source": [
    "## CLASSIFICATION DESIGN :\n",
    "X = df.drop(\"quality\", axis = 1, inplace = False)\n",
    "#### here !!!!\n",
    "threshold = np.floor(df.quality.mean())\n",
    "y = np.where(df.quality < threshold, 0,1) \n",
    "\n",
    "## SAMPLING :\n",
    "train_size=0.7\n",
    "X_train, X_test, y_train, y_test = model_selection.train_test_split(X, y, train_size=train_size)\n",
    "\n",
    "## STANDARDIZATION : \n",
    "my_normalizer = preprocessing.StandardScaler().fit(X_train)\n",
    "X_train_std = pd.DataFrame(my_normalizer.transform(X_train), index = X_train.index, columns = X_train.columns)\n",
    "X_test_std = pd.DataFrame(my_normalizer.transform(X_test), index = X_test.index, columns = X_test.columns)\n",
    "\n",
    "## CROSS VALIDATION :\n",
    "param_grid = {\"n_neighbors\" : np.arange(8,14,1), \"metric\" : [\"euclidean\",\"manhattan\", \"chebyshev\"]}\n",
    "\n",
    "nb_folds = 5\n",
    "my_clf = model_selection.GridSearchCV(neighbors.KNeighborsClassifier(), param_grid, \n",
    "                                      cv=nb_folds, scoring = \"accuracy\")\n",
    "my_clf.fit(X_train_std, y_train)\n",
    "\n",
    "my_clf.best_params_"
   ]
  },
  {
   "cell_type": "code",
   "execution_count": 104,
   "id": "floating-falls",
   "metadata": {},
   "outputs": [
    {
     "name": "stdout",
     "output_type": "stream",
     "text": [
      "accuracy = 0.9652 (+/-0.0066) for {'metric': 'euclidean', 'n_neighbors': 8}\n",
      "accuracy = 0.9652 (+/-0.0035) for {'metric': 'euclidean', 'n_neighbors': 9}\n",
      "accuracy = 0.9652 (+/-0.0035) for {'metric': 'euclidean', 'n_neighbors': 10}\n",
      "accuracy = 0.9652 (+/-0.0035) for {'metric': 'euclidean', 'n_neighbors': 11}\n",
      "accuracy = 0.9652 (+/-0.0035) for {'metric': 'euclidean', 'n_neighbors': 12}\n",
      "accuracy = 0.9652 (+/-0.0035) for {'metric': 'euclidean', 'n_neighbors': 13}\n",
      "accuracy = 0.9643 (+/-0.0056) for {'metric': 'manhattan', 'n_neighbors': 8}\n",
      "accuracy = 0.9643 (+/-0.0056) for {'metric': 'manhattan', 'n_neighbors': 9}\n",
      "accuracy = 0.9643 (+/-0.0056) for {'metric': 'manhattan', 'n_neighbors': 10}\n",
      "accuracy = 0.9652 (+/-0.0035) for {'metric': 'manhattan', 'n_neighbors': 11}\n",
      "accuracy = 0.9643 (+/-0.0056) for {'metric': 'manhattan', 'n_neighbors': 12}\n",
      "accuracy = 0.9652 (+/-0.0035) for {'metric': 'manhattan', 'n_neighbors': 13}\n",
      "accuracy = 0.9634 (+/-0.0035) for {'metric': 'chebyshev', 'n_neighbors': 8}\n",
      "accuracy = 0.9634 (+/-0.0035) for {'metric': 'chebyshev', 'n_neighbors': 9}\n",
      "accuracy = 0.9634 (+/-0.0035) for {'metric': 'chebyshev', 'n_neighbors': 10}\n",
      "accuracy = 0.9652 (+/-0.0035) for {'metric': 'chebyshev', 'n_neighbors': 11}\n",
      "accuracy = 0.9643 (+/-0.0056) for {'metric': 'chebyshev', 'n_neighbors': 12}\n",
      "accuracy = 0.9652 (+/-0.0035) for {'metric': 'chebyshev', 'n_neighbors': 13}\n"
     ]
    }
   ],
   "source": [
    "res_dict = my_clf.cv_results_\n",
    "iterator = zip(res_dict[\"mean_test_score\"], res_dict[\"std_test_score\"], res_dict[\"params\"])\n",
    "for mean, std, params in iterator:\n",
    "    print(\"accuracy = %0.4f (+/-%0.4f) for %s\" %(mean, 2*std, params))"
   ]
  },
  {
   "cell_type": "code",
   "execution_count": null,
   "id": "forced-cardiff",
   "metadata": {},
   "outputs": [],
   "source": [
    "plt.plot()"
   ]
  },
  {
   "cell_type": "code",
   "execution_count": 105,
   "id": "dimensional-aberdeen",
   "metadata": {},
   "outputs": [
    {
     "data": {
      "text/plain": [
       "{'mean_fit_time': array([0.00315576, 0.00274887, 0.00273399, 0.00284247, 0.00280361,\n",
       "        0.00269761, 0.00270233, 0.0027164 , 0.00281754, 0.0027597 ,\n",
       "        0.00271583, 0.00276465, 0.00286832, 0.00271606, 0.00311499,\n",
       "        0.00305271, 0.00297775, 0.00272503]),\n",
       " 'std_fit_time': array([5.45645937e-04, 7.32002660e-05, 3.44243405e-05, 9.10371179e-05,\n",
       "        9.45281290e-05, 1.94941854e-05, 2.44829762e-05, 2.19322286e-05,\n",
       "        4.68152593e-05, 6.59524573e-05, 1.92921738e-05, 8.02211596e-05,\n",
       "        1.03944113e-04, 6.19034913e-05, 6.05718031e-04, 1.08004511e-04,\n",
       "        2.26270592e-04, 4.36032580e-05]),\n",
       " 'mean_score_time': array([0.01410432, 0.01258731, 0.01260448, 0.01271157, 0.01261244,\n",
       "        0.0125246 , 0.01285295, 0.0128418 , 0.01287236, 0.01319113,\n",
       "        0.012819  , 0.01321864, 0.01152472, 0.01174254, 0.01209927,\n",
       "        0.01159573, 0.01173759, 0.01167216]),\n",
       " 'std_score_time': array([3.11991494e-03, 2.49076199e-04, 1.67374801e-04, 3.48985920e-04,\n",
       "        1.01913120e-04, 1.33271593e-04, 2.10687216e-04, 9.14457063e-05,\n",
       "        2.22478421e-04, 2.57071514e-04, 9.11943305e-05, 5.36134802e-04,\n",
       "        2.72227599e-04, 7.99440618e-04, 8.90076928e-04, 1.27053527e-04,\n",
       "        1.84429554e-04, 2.28517590e-04]),\n",
       " 'param_metric': masked_array(data=['euclidean', 'euclidean', 'euclidean', 'euclidean',\n",
       "                    'euclidean', 'euclidean', 'manhattan', 'manhattan',\n",
       "                    'manhattan', 'manhattan', 'manhattan', 'manhattan',\n",
       "                    'chebyshev', 'chebyshev', 'chebyshev', 'chebyshev',\n",
       "                    'chebyshev', 'chebyshev'],\n",
       "              mask=[False, False, False, False, False, False, False, False,\n",
       "                    False, False, False, False, False, False, False, False,\n",
       "                    False, False],\n",
       "        fill_value='?',\n",
       "             dtype=object),\n",
       " 'param_n_neighbors': masked_array(data=[8, 9, 10, 11, 12, 13, 8, 9, 10, 11, 12, 13, 8, 9, 10,\n",
       "                    11, 12, 13],\n",
       "              mask=[False, False, False, False, False, False, False, False,\n",
       "                    False, False, False, False, False, False, False, False,\n",
       "                    False, False],\n",
       "        fill_value='?',\n",
       "             dtype=object),\n",
       " 'params': [{'metric': 'euclidean', 'n_neighbors': 8},\n",
       "  {'metric': 'euclidean', 'n_neighbors': 9},\n",
       "  {'metric': 'euclidean', 'n_neighbors': 10},\n",
       "  {'metric': 'euclidean', 'n_neighbors': 11},\n",
       "  {'metric': 'euclidean', 'n_neighbors': 12},\n",
       "  {'metric': 'euclidean', 'n_neighbors': 13},\n",
       "  {'metric': 'manhattan', 'n_neighbors': 8},\n",
       "  {'metric': 'manhattan', 'n_neighbors': 9},\n",
       "  {'metric': 'manhattan', 'n_neighbors': 10},\n",
       "  {'metric': 'manhattan', 'n_neighbors': 11},\n",
       "  {'metric': 'manhattan', 'n_neighbors': 12},\n",
       "  {'metric': 'manhattan', 'n_neighbors': 13},\n",
       "  {'metric': 'chebyshev', 'n_neighbors': 8},\n",
       "  {'metric': 'chebyshev', 'n_neighbors': 9},\n",
       "  {'metric': 'chebyshev', 'n_neighbors': 10},\n",
       "  {'metric': 'chebyshev', 'n_neighbors': 11},\n",
       "  {'metric': 'chebyshev', 'n_neighbors': 12},\n",
       "  {'metric': 'chebyshev', 'n_neighbors': 13}],\n",
       " 'split0_test_score': array([0.96875   , 0.96428571, 0.96428571, 0.96428571, 0.96428571,\n",
       "        0.96428571, 0.96428571, 0.96428571, 0.96428571, 0.96428571,\n",
       "        0.96428571, 0.96428571, 0.96428571, 0.96428571, 0.96428571,\n",
       "        0.96428571, 0.96428571, 0.96428571]),\n",
       " 'split1_test_score': array([0.96428571, 0.96428571, 0.96428571, 0.96428571, 0.96428571,\n",
       "        0.96428571, 0.96428571, 0.96428571, 0.96428571, 0.96428571,\n",
       "        0.96428571, 0.96428571, 0.96428571, 0.96428571, 0.96428571,\n",
       "        0.96428571, 0.96428571, 0.96428571]),\n",
       " 'split2_test_score': array([0.95982143, 0.96428571, 0.96428571, 0.96428571, 0.96428571,\n",
       "        0.96428571, 0.95982143, 0.95982143, 0.95982143, 0.96428571,\n",
       "        0.95982143, 0.96428571, 0.95982143, 0.95982143, 0.95982143,\n",
       "        0.96428571, 0.95982143, 0.96428571]),\n",
       " 'split3_test_score': array([0.96428571, 0.96428571, 0.96428571, 0.96428571, 0.96428571,\n",
       "        0.96428571, 0.96428571, 0.96428571, 0.96428571, 0.96428571,\n",
       "        0.96428571, 0.96428571, 0.96428571, 0.96428571, 0.96428571,\n",
       "        0.96428571, 0.96428571, 0.96428571]),\n",
       " 'split4_test_score': array([0.96860987, 0.96860987, 0.96860987, 0.96860987, 0.96860987,\n",
       "        0.96860987, 0.96860987, 0.96860987, 0.96860987, 0.96860987,\n",
       "        0.96860987, 0.96860987, 0.96412556, 0.96412556, 0.96412556,\n",
       "        0.96860987, 0.96860987, 0.96860987]),\n",
       " 'mean_test_score': array([0.96515054, 0.96515054, 0.96515054, 0.96515054, 0.96515054,\n",
       "        0.96515054, 0.96425769, 0.96425769, 0.96425769, 0.96515054,\n",
       "        0.96425769, 0.96515054, 0.96336083, 0.96336083, 0.96336083,\n",
       "        0.96515054, 0.96425769, 0.96515054]),\n",
       " 'std_test_score': array([0.00331114, 0.00172966, 0.00172966, 0.00172966, 0.00172966,\n",
       "        0.00172966, 0.00277936, 0.00277936, 0.00277936, 0.00172966,\n",
       "        0.00277936, 0.00172966, 0.00177079, 0.00177079, 0.00177079,\n",
       "        0.00172966, 0.00277936, 0.00172966]),\n",
       " 'rank_test_score': array([ 1,  2,  2,  2,  2,  2, 11, 11, 11,  2, 11,  2, 16, 16, 16,  2, 11,\n",
       "         2], dtype=int32)}"
      ]
     },
     "execution_count": 105,
     "metadata": {},
     "output_type": "execute_result"
    }
   ],
   "source": [
    "res_dict"
   ]
  },
  {
   "cell_type": "markdown",
   "id": "alternate-lexington",
   "metadata": {},
   "source": [
    "Now, if we wanted to set the better value for \"threshold\". It would have been really more difficult, as the y_train and test are defined by this value. TO be clear, just come back to the sampling ... I think I would need to define a classifier function, returning the classifier, that depends on threshold and n_neighbors ... to be clarified."
   ]
  },
  {
   "cell_type": "code",
   "execution_count": null,
   "id": "durable-duncan",
   "metadata": {},
   "outputs": [],
   "source": [
    "X = df.drop(\"quality\", axis = 1, inplace = False)\n",
    "#### here !!!!\n",
    "threshold = np.floor(df.quality.mean())+1\n",
    "y = np.where(df.quality < threshold, 0,1) \n",
    "\n",
    "## SAMPLING :\n",
    "train_size=0.7\n",
    "X_train, X_test, y_train, y_test = model_selection.train_test_split(X, y, train_size=train_size)\n",
    "\n",
    "## STANDARDIZATION : \n",
    "my_normalizer = preprocessing.StandardScaler().fit(X_train)\n",
    "X_train_std = pd.DataFrame(my_normalizer.transform(X_train), index = X_train.index, columns = X_train.columns)\n",
    "X_test_std = pd.DataFrame(my_normalizer.transform(X_test), index = X_test.index, columns = X_test.columns)\n",
    "\n",
    "param_grid = {\"n_neighbors\" : np.arange(4,15,1), \"threshold\" : np.floor(df.quality.mean()) + [-1,-0.5,0,0.5,1]}\n",
    "# the \"n_neighbors\" param in clf will take value in ... \n",
    "\n",
    "\n",
    "nb_folds = 5\n",
    "my_clf = model_selection.GridSearchCV(neighbors.KNeighborsClassifier(), param_grid, \n",
    "                                      cv=nb_folds, scoring = \"accuracy\")\n",
    "my_clf.fit(X_train_std, y_train)\n"
   ]
  },
  {
   "cell_type": "code",
   "execution_count": 78,
   "id": "announced-accused",
   "metadata": {},
   "outputs": [
    {
     "data": {
      "text/plain": [
       "array([4. , 4.5, 5. , 5.5, 6. ])"
      ]
     },
     "execution_count": 78,
     "metadata": {},
     "output_type": "execute_result"
    }
   ],
   "source": [
    "np.floor(df.quality.mean()) + [-1,-0.5,0,0.5,1]"
   ]
  },
  {
   "cell_type": "code",
   "execution_count": null,
   "id": "gentle-shelf",
   "metadata": {},
   "outputs": [],
   "source": []
  }
 ],
 "metadata": {
  "kernelspec": {
   "display_name": "Python 3",
   "language": "python",
   "name": "python3"
  },
  "language_info": {
   "codemirror_mode": {
    "name": "ipython",
    "version": 3
   },
   "file_extension": ".py",
   "mimetype": "text/x-python",
   "name": "python",
   "nbconvert_exporter": "python",
   "pygments_lexer": "ipython3",
   "version": "3.8.8"
  }
 },
 "nbformat": 4,
 "nbformat_minor": 5
}
