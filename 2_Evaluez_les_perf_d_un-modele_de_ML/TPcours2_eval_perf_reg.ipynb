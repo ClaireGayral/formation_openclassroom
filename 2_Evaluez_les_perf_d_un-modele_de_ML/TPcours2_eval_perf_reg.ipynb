{
 "cells": [
  {
   "cell_type": "markdown",
   "id": "superior-black",
   "metadata": {},
   "source": [
    "# Les fonctions de bases pour l'évaluation des modèles de classification et régression : \n",
    "\n",
    "# 1. Classification : "
   ]
  },
  {
   "cell_type": "code",
   "execution_count": 2,
   "id": "guilty-radical",
   "metadata": {},
   "outputs": [],
   "source": [
    "import pandas as pd\n",
    "import numpy as np\n",
    "import matplotlib.pyplot as plt\n",
    "## sklearn module : \n",
    "from sklearn import model_selection \n",
    "from sklearn import preprocessing\n",
    "from sklearn import neighbors\n",
    "from sklearn import metrics\n",
    "data_path = \"~/Documents/openclassroom/Fomation_ingenieur_ML/data/\""
   ]
  },
  {
   "cell_type": "markdown",
   "id": "enabling-monaco",
   "metadata": {},
   "source": [
    "## 1.1 The different criteria and curves : \n",
    "\n",
    "I recall the code of the KNN classification used in the first part of the module : "
   ]
  },
  {
   "cell_type": "code",
   "execution_count": 75,
   "id": "faced-transfer",
   "metadata": {},
   "outputs": [],
   "source": [
    "df = pd.read_csv(data_path+'winequality-red+.csv', sep=\";\")\n",
    "## DESIGN AND SAMPLING : \n",
    "X = df.drop(\"quality\", axis = 1, inplace = False)\n",
    "threshold = np.floor(df.quality.mean())\n",
    "y = np.where(df.quality <= threshold, 0,1) \n",
    "X_train, X_test, y_train, y_test = model_selection.train_test_split(X, y, train_size=0.7)\n",
    "\n",
    "## STANDARDIZATION : \n",
    "my_normalizer = preprocessing.StandardScaler().fit(X_train)\n",
    "X_train_std = pd.DataFrame(my_normalizer.transform(X_train), index = X_train.index, columns = X_train.columns)\n",
    "X_test_std = pd.DataFrame(my_normalizer.transform(X_test), index = X_test.index, columns = X_test.columns)\n",
    "\n",
    "## CROSS VALIDATION :\n",
    "param_grid = {\"n_neighbors\" : np.arange(8,14,1)}\n",
    "nb_folds = 5\n",
    "CV_clf = model_selection.GridSearchCV(neighbors.KNeighborsClassifier(), param_grid, \n",
    "                                      cv=nb_folds, scoring = \"accuracy\")\n",
    "CV_clf.fit(X_train_std, y_train)\n",
    "\n",
    "kwargs = CV_clf.best_params_"
   ]
  },
  {
   "cell_type": "markdown",
   "id": "oriented-organic",
   "metadata": {},
   "source": [
    "And I call the best parameters that I train on whole X_train : "
   ]
  },
  {
   "cell_type": "code",
   "execution_count": 76,
   "id": "incomplete-somalia",
   "metadata": {},
   "outputs": [
    {
     "data": {
      "text/plain": [
       "KNeighborsClassifier(n_neighbors=11)"
      ]
     },
     "execution_count": 76,
     "metadata": {},
     "output_type": "execute_result"
    }
   ],
   "source": [
    "clf = neighbors.KNeighborsClassifier(**kwargs)\n",
    "clf.fit(X_train_std, y_train)"
   ]
  },
  {
   "cell_type": "markdown",
   "id": "arbitrary-failing",
   "metadata": {},
   "source": [
    "### Confusion Matrix : \n",
    "Let us look at the confusion matrix : "
   ]
  },
  {
   "cell_type": "code",
   "execution_count": 77,
   "id": "southern-stocks",
   "metadata": {},
   "outputs": [
    {
     "data": {
      "text/plain": [
       "array([[174,  61],\n",
       "       [ 57, 188]])"
      ]
     },
     "execution_count": 77,
     "metadata": {},
     "output_type": "execute_result"
    }
   ],
   "source": [
    "y_true = y_test\n",
    "y_pred = clf.predict(X_test_std)\n",
    "metrics.confusion_matrix(y_true, y_pred)"
   ]
  },
  {
   "cell_type": "markdown",
   "id": "weekly-stuff",
   "metadata": {},
   "source": [
    "### ROC Curve :\n",
    "\n",
    "And let's see the ROC curve, that is sensibility in function of 1 - specificity\n",
    "\n",
    "$$ sensibility = recall = \\frac{TP}{TP+FN} $$\n",
    "\n",
    "$$ specificy = \\frac{TN}{FP+TN}$$"
   ]
  },
  {
   "cell_type": "code",
   "execution_count": 78,
   "id": "technological-basics",
   "metadata": {},
   "outputs": [],
   "source": [
    "# help(neighbors.KNeighborsClassifier.predict_proba)"
   ]
  },
  {
   "cell_type": "code",
   "execution_count": 79,
   "id": "bored-relative",
   "metadata": {},
   "outputs": [
    {
     "data": {
      "text/plain": [
       "Text(0.5, 1.0, 'ROC Curve')"
      ]
     },
     "execution_count": 79,
     "metadata": {},
     "output_type": "execute_result"
    },
    {
     "data": {
      "image/png": "[encoded data removed]",
      "text/plain": [
       "<Figure size 432x288 with 1 Axes>"
      ]
     },
     "metadata": {
      "needs_background": "light"
     },
     "output_type": "display_data"
    }
   ],
   "source": [
    "y_pred_proba = clf.predict_proba(X_test_std)[:, 1]\n",
    "[fpr, tpr, thr] = metrics.roc_curve(y_test, y_pred_proba)\n",
    "plt.plot(fpr, tpr, color='coral', lw=2)\n",
    "plt.xlim([0.0, 1.0])\n",
    "plt.ylim([0.0, 1.05])\n",
    "plt.xlabel('1 - Specificity', fontsize=14)\n",
    "plt.ylabel('Sensibility', fontsize=14)    \n",
    "plt.title(\"ROC Curve\")"
   ]
  },
  {
   "cell_type": "markdown",
   "id": "packed-participant",
   "metadata": {},
   "source": [
    "We use it commonly the AUC criteria, implemented : "
   ]
  },
  {
   "cell_type": "code",
   "execution_count": 80,
   "id": "designing-class",
   "metadata": {},
   "outputs": [
    {
     "name": "stdout",
     "output_type": "stream",
     "text": [
      "0.8180547112462007\n"
     ]
    }
   ],
   "source": [
    "print(metrics.auc(fpr, tpr))"
   ]
  },
  {
   "cell_type": "code",
   "execution_count": 81,
   "id": "iraqi-attack",
   "metadata": {},
   "outputs": [
    {
     "name": "stdout",
     "output_type": "stream",
     "text": [
      "Sensibilité : 0.97\n",
      "Spécificité : 0.29\n",
      "Seuil : 0.27\n"
     ]
    }
   ],
   "source": [
    "# indice du premier seuil pour lequel\n",
    "# la sensibilité est supérieure à 0.95\n",
    "idx = np.min(np.where(tpr > 0.95)) \n",
    "\n",
    "print(\"Sensibilité : {:.2f}\".format(tpr[idx]))\n",
    "print(\"Spécificité : {:.2f}\".format(1-fpr[idx]))\n",
    "print(\"Seuil : {:.2f}\".format(thr[idx]))"
   ]
  },
  {
   "cell_type": "markdown",
   "id": "flexible-strap",
   "metadata": {},
   "source": [
    "### PR Curve : "
   ]
  },
  {
   "cell_type": "code",
   "execution_count": 82,
   "id": "random-december",
   "metadata": {},
   "outputs": [
    {
     "data": {
      "text/plain": [
       "Text(0, 0.5, 'Precision')"
      ]
     },
     "execution_count": 82,
     "metadata": {},
     "output_type": "execute_result"
    },
    {
     "data": {
      "image/png": "[encoded data removed]",
      "text/plain": [
       "<Figure size 432x288 with 1 Axes>"
      ]
     },
     "metadata": {
      "needs_background": "light"
     },
     "output_type": "display_data"
    }
   ],
   "source": [
    "[precision, recall, threshold] = metrics.precision_recall_curve(y_test, y_pred_proba)\n",
    "\n",
    "plt.plot( recall, precision, color='coral', lw=2)\n",
    "plt.xlim([0.0, 1.0])\n",
    "plt.ylim([0.0, 1.05])\n",
    "plt.xlabel('Recall', fontsize=14)\n",
    "plt.ylabel('Precision', fontsize=14)    "
   ]
  },
  {
   "cell_type": "markdown",
   "id": "liked-dakota",
   "metadata": {},
   "source": [
    "## 1.2 Naive classifiers :\n",
    "\n",
    "The naive classifer can be “stratified”, “most_frequent”, “prior”, “uniform”, “constant”, and they are all in the sklearn.dummy.DummyClassifier method, and the choice of naive classifier is set with the \"strategy\" argument : "
   ]
  },
  {
   "cell_type": "code",
   "execution_count": 83,
   "id": "elegant-declaration",
   "metadata": {},
   "outputs": [
    {
     "data": {
      "text/plain": [
       "DummyClassifier(strategy='most_frequent')"
      ]
     },
     "execution_count": 83,
     "metadata": {},
     "output_type": "execute_result"
    }
   ],
   "source": [
    "from sklearn import dummy\n",
    "# strategy{“stratified”, “most_frequent”, “prior”, “uniform”, “constant”}, \n",
    "#     default=”prior”\n",
    "# dir(dummy.DummyClassifier)\n",
    "\n",
    "dum_clf = dummy.DummyClassifier(strategy = \"most_frequent\")\n",
    "dum_clf.fit(X_train,y_train)\n",
    "# dum_clf.predict(X_test)"
   ]
  },
  {
   "cell_type": "markdown",
   "id": "authorized-format",
   "metadata": {},
   "source": [
    "# 2. Regression : \n",
    "\n",
    "Let's make a regression using the KNN on the quality of the wine : \n"
   ]
  },
  {
   "cell_type": "code",
   "execution_count": 110,
   "id": "according-alaska",
   "metadata": {},
   "outputs": [
    {
     "data": {
      "text/plain": [
       "KNeighborsRegressor(n_neighbors=13)"
      ]
     },
     "execution_count": 110,
     "metadata": {},
     "output_type": "execute_result"
    }
   ],
   "source": [
    "df = pd.read_csv(data_path+'winequality-red+.csv', sep=\";\")\n",
    "## DESIGN AND SAMPLING : \n",
    "X = df.drop(\"quality\", axis = 1, inplace = False)\n",
    "y = df.quality\n",
    "X_train, X_test, y_train, y_test = model_selection.train_test_split(X, y, train_size=0.7)\n",
    "\n",
    "## STANDARDIZATION : \n",
    "my_normalizer = preprocessing.StandardScaler().fit(X_train)\n",
    "X_train_std = pd.DataFrame(my_normalizer.transform(X_train), index = X_train.index, columns = X_train.columns)\n",
    "X_test_std = pd.DataFrame(my_normalizer.transform(X_test), index = X_test.index, columns = X_test.columns)\n",
    "\n",
    "## CROSS VALIDATION :\n",
    "param_grid = {\"n_neighbors\" : np.arange(8,14,1)}\n",
    "nb_folds = 5\n",
    "CV_reg = model_selection.GridSearchCV(neighbors.KNeighborsRegressor(),\n",
    "                                      param_grid, cv=nb_folds)\n",
    "CV_reg.fit(X_train_std, y_train)\n",
    "\n",
    "## KNN REGRESSOR WITH THE BEST CV n_neighbors\n",
    "knn_reg = neighbors.KNeighborsRegressor(**CV_reg.best_params_)\n",
    "knn_reg.fit(X_train_std, y_train)\n",
    "\n",
    "## PREDICTION : \n",
    "y_pred = knn.predict(X_test_std)"
   ]
  },
  {
   "cell_type": "markdown",
   "id": "loose-dating",
   "metadata": {},
   "source": [
    "\n",
    "## 2.1 Error Measure :\n",
    "\n",
    "Recall of the main measures : \n",
    "#### Residual Sum of Square : \n",
    "$$ RSS =  \\sum^n_{i=1} (f(x_i) - y_i)^2  $$\n",
    "\n",
    "#### Mean Square Error : \n",
    "$$ MSE = \\frac{1}{n} \\sum^n_{i=1} (f(x_i) - y_i)^2 $$\n",
    "\n",
    "#### Root Mean Square Error : \n",
    "$$ RMSE = \\sqrt{ \\frac{1}{n} \\sum^n_{i=1} (f(x_i) - y_i)^2 } $$\n",
    "\n",
    "#### Root Mean Squared Log Error\n",
    "$$ RMSE = \\sqrt{ \\frac{1}{n} \\sum^n_{i=1} (log(f(x_i)+1) - log(y_i+1) )^2 } $$\n",
    "\n",
    "#### Relative Squared Log Error\n",
    "$$ RSE = \\frac{\\sum^n_{i=1} (f(x_i) - y_i)^2 }{\\sum^n_{i=1} (y_i - \\bar{y})^2 }$$\n",
    "\n",
    "#### Pearson Correlation/ coefficient of determination : \n",
    "$$ R^2 = 1 - RSE $$ "
   ]
  },
  {
   "cell_type": "code",
   "execution_count": 116,
   "id": "cloudy-andorra",
   "metadata": {},
   "outputs": [
    {
     "name": "stdout",
     "output_type": "stream",
     "text": [
      "RMSE : 0.62\n"
     ]
    }
   ],
   "source": [
    "## RMSE\n",
    "print(\"RMSE : {:.2f}\".format(np.sqrt( metrics.mean_squared_error(y_test, y_pred) )))"
   ]
  },
  {
   "cell_type": "code",
   "execution_count": 115,
   "id": "ceramic-anime",
   "metadata": {},
   "outputs": [
    {
     "data": {
      "text/plain": [
       "[]"
      ]
     },
     "execution_count": 115,
     "metadata": {},
     "output_type": "execute_result"
    },
    {
     "data": {
      "image/png": "[encoded data removed]",
      "text/plain": [
       "<Figure size 432x288 with 1 Axes>"
      ]
     },
     "metadata": {
      "needs_background": "light"
     },
     "output_type": "display_data"
    }
   ],
   "source": [
    "plt.scatter(y_test, y_pred, color='coral')\n",
    "plt.xlabel(\"Real mark\")\n",
    "plt.ylabel(\"Predicted mark\")\n",
    "plt.plot()"
   ]
  },
  {
   "cell_type": "code",
   "execution_count": 248,
   "id": "understanding-evidence",
   "metadata": {},
   "outputs": [
    {
     "data": {
      "text/plain": [
       "[]"
      ]
     },
     "execution_count": 248,
     "metadata": {},
     "output_type": "execute_result"
    },
    {
     "data": {
      "image/png": "[encoded data removed]",
      "text/plain": [
       "<Figure size 432x288 with 1 Axes>"
      ]
     },
     "metadata": {
      "needs_background": "light"
     },
     "output_type": "display_data"
    }
   ],
   "source": [
    "y_pred_round = y_pred#np.round(y_pred,2)\n",
    "all_y = pd.DataFrame(np.array((y_test,y_pred_round)).T, columns = [\"real\",\"pred\"])\n",
    "# tmp.pivot_table(index=[\"real\",\"pred\"], aggfunc='size')\n",
    "tmp = all_y.value_counts().reset_index()\n",
    "tmp = tmp.rename({0:\"nb\"},axis='columns')\n",
    "\n",
    "\n",
    "plt.scatter(tmp.real, tmp.pred, s = tmp.nb, color='coral')\n",
    "plt.xlabel(\"Real mark\")\n",
    "plt.ylabel(\"Predicted mark\")\n",
    "plt.plot()"
   ]
  },
  {
   "cell_type": "markdown",
   "id": "green-uncle",
   "metadata": {},
   "source": [
    "## 2.2 Comparison with dummies :\n"
   ]
  },
  {
   "cell_type": "markdown",
   "id": "blocked-buffer",
   "metadata": {},
   "source": [
    "#### Random Regressor"
   ]
  },
  {
   "cell_type": "code",
   "execution_count": 249,
   "id": "banner-footage",
   "metadata": {},
   "outputs": [
    {
     "name": "stdout",
     "output_type": "stream",
     "text": [
      "RMSE : 1.84\n"
     ]
    }
   ],
   "source": [
    "y_pred_random = np.random.randint(np.min(y), np.max(y), y_test.shape)\n",
    "print(\"RMSE : {:.2f}\".format(np.sqrt(metrics.mean_squared_error(y_test, y_pred_random))))"
   ]
  },
  {
   "cell_type": "markdown",
   "id": "annual-adelaide",
   "metadata": {},
   "source": [
    "#### Dummies Regressors :"
   ]
  },
  {
   "cell_type": "code",
   "execution_count": 255,
   "id": "indonesian-donor",
   "metadata": {},
   "outputs": [
    {
     "name": "stdout",
     "output_type": "stream",
     "text": [
      "RMSE : 0.80\n"
     ]
    }
   ],
   "source": [
    "from sklearn import dummy\n",
    "dum = dummy.DummyRegressor(strategy='mean')\n",
    "dum.fit(X_train_std, y_train)\n",
    "y_pred_dum = dum.predict(X_test_std)\n",
    "\n",
    "print(\"RMSE : {:.2f}\".format(np.sqrt(metrics.mean_squared_error(y_test, y_pred_dum)) ))"
   ]
  }
 ],
 "metadata": {
  "kernelspec": {
   "display_name": "Python 3",
   "language": "python",
   "name": "python3"
  },
  "language_info": {
   "codemirror_mode": {
    "name": "ipython",
    "version": 3
   },
   "file_extension": ".py",
   "mimetype": "text/x-python",
   "name": "python",
   "nbconvert_exporter": "python",
   "pygments_lexer": "ipython3",
   "version": "3.8.8"
  }
 },
 "nbformat": 4,
 "nbformat_minor": 5
}
