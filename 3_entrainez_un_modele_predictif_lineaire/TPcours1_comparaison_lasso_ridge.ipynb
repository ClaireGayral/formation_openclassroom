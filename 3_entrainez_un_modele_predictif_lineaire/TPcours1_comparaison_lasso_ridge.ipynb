{
 "cells": [
  {
   "cell_type": "markdown",
   "id": "marked-station",
   "metadata": {},
   "source": [
    "# TP cours - Comparez le comportement du lasso et de la régression ridge\n",
    "\n",
    "\n",
    "expression gène du cancer = f(état du patient) "
   ]
  },
  {
   "cell_type": "code",
   "execution_count": 15,
   "id": "worth-rehabilitation",
   "metadata": {},
   "outputs": [],
   "source": [
    "data_path = \"~/Documents/openclassroom/Fomation_ingenieur_ML/data/\"\n",
    "\n",
    "import pandas as pd\n",
    "import numpy as np\n",
    "import matplotlib.pyplot as plt\n",
    "\n",
    "## sklearn module : \n",
    "from sklearn import model_selection \n",
    "from sklearn import preprocessing\n"
   ]
  },
  {
   "cell_type": "code",
   "execution_count": 16,
   "id": "boxed-radius",
   "metadata": {},
   "outputs": [
    {
     "data": {
      "text/html": [
       "<div>\n",
       "<style scoped>\n",
       "    .dataframe tbody tr th:only-of-type {\n",
       "        vertical-align: middle;\n",
       "    }\n",
       "\n",
       "    .dataframe tbody tr th {\n",
       "        vertical-align: top;\n",
       "    }\n",
       "\n",
       "    .dataframe thead th {\n",
       "        text-align: right;\n",
       "    }\n",
       "</style>\n",
       "<table border=\"1\" class=\"dataframe\">\n",
       "  <thead>\n",
       "    <tr style=\"text-align: right;\">\n",
       "      <th></th>\n",
       "      <th>col</th>\n",
       "      <th>lcavol</th>\n",
       "      <th>lweight</th>\n",
       "      <th>age</th>\n",
       "      <th>lbph</th>\n",
       "      <th>svi</th>\n",
       "      <th>lcp</th>\n",
       "      <th>gleason</th>\n",
       "      <th>pgg45</th>\n",
       "      <th>lpsa</th>\n",
       "      <th>train</th>\n",
       "    </tr>\n",
       "  </thead>\n",
       "  <tbody>\n",
       "    <tr>\n",
       "      <th>0</th>\n",
       "      <td>1</td>\n",
       "      <td>-0.579818</td>\n",
       "      <td>2.769459</td>\n",
       "      <td>50</td>\n",
       "      <td>-1.386294</td>\n",
       "      <td>0</td>\n",
       "      <td>-1.386294</td>\n",
       "      <td>6</td>\n",
       "      <td>0</td>\n",
       "      <td>-0.430783</td>\n",
       "      <td>T</td>\n",
       "    </tr>\n",
       "    <tr>\n",
       "      <th>1</th>\n",
       "      <td>2</td>\n",
       "      <td>-0.994252</td>\n",
       "      <td>3.319626</td>\n",
       "      <td>58</td>\n",
       "      <td>-1.386294</td>\n",
       "      <td>0</td>\n",
       "      <td>-1.386294</td>\n",
       "      <td>6</td>\n",
       "      <td>0</td>\n",
       "      <td>-0.162519</td>\n",
       "      <td>T</td>\n",
       "    </tr>\n",
       "    <tr>\n",
       "      <th>2</th>\n",
       "      <td>3</td>\n",
       "      <td>-0.510826</td>\n",
       "      <td>2.691243</td>\n",
       "      <td>74</td>\n",
       "      <td>-1.386294</td>\n",
       "      <td>0</td>\n",
       "      <td>-1.386294</td>\n",
       "      <td>7</td>\n",
       "      <td>20</td>\n",
       "      <td>-0.162519</td>\n",
       "      <td>T</td>\n",
       "    </tr>\n",
       "    <tr>\n",
       "      <th>3</th>\n",
       "      <td>4</td>\n",
       "      <td>-1.203973</td>\n",
       "      <td>3.282789</td>\n",
       "      <td>58</td>\n",
       "      <td>-1.386294</td>\n",
       "      <td>0</td>\n",
       "      <td>-1.386294</td>\n",
       "      <td>6</td>\n",
       "      <td>0</td>\n",
       "      <td>-0.162519</td>\n",
       "      <td>T</td>\n",
       "    </tr>\n",
       "    <tr>\n",
       "      <th>4</th>\n",
       "      <td>5</td>\n",
       "      <td>0.751416</td>\n",
       "      <td>3.432373</td>\n",
       "      <td>62</td>\n",
       "      <td>-1.386294</td>\n",
       "      <td>0</td>\n",
       "      <td>-1.386294</td>\n",
       "      <td>6</td>\n",
       "      <td>0</td>\n",
       "      <td>0.371564</td>\n",
       "      <td>T</td>\n",
       "    </tr>\n",
       "  </tbody>\n",
       "</table>\n",
       "</div>"
      ],
      "text/plain": [
       "   col    lcavol   lweight  age      lbph  svi       lcp  gleason  pgg45  \\\n",
       "0    1 -0.579818  2.769459   50 -1.386294    0 -1.386294        6      0   \n",
       "1    2 -0.994252  3.319626   58 -1.386294    0 -1.386294        6      0   \n",
       "2    3 -0.510826  2.691243   74 -1.386294    0 -1.386294        7     20   \n",
       "3    4 -1.203973  3.282789   58 -1.386294    0 -1.386294        6      0   \n",
       "4    5  0.751416  3.432373   62 -1.386294    0 -1.386294        6      0   \n",
       "\n",
       "       lpsa train  \n",
       "0 -0.430783     T  \n",
       "1 -0.162519     T  \n",
       "2 -0.162519     T  \n",
       "3 -0.162519     T  \n",
       "4  0.371564     T  "
      ]
     },
     "execution_count": 16,
     "metadata": {},
     "output_type": "execute_result"
    }
   ],
   "source": [
    "df = pd.read_csv(data_path+\"TP_1_prostate_dataset.txt\", delimiter = \"\\t\")\n",
    "df.head()"
   ]
  },
  {
   "cell_type": "code",
   "execution_count": 174,
   "id": "focal-browse",
   "metadata": {},
   "outputs": [],
   "source": [
    "## DESIGN MATRICES : \n",
    "X = df.drop([\"col\", \"lpsa\",\"train\"], axis = 1)\n",
    "y = df.lpsa\n",
    "\n",
    "## SPLIT DATA \n",
    "from sklearn.model_selection import train_test_split\n",
    "X_train, X_test, y_train, y_test = model_selection.train_test_split(X, y, train_size=0.7)\n",
    "\n",
    "## STANDARDIZE : \n",
    "from sklearn.preprocessing import StandardScaler\n",
    "my_std = preprocessing.StandardScaler()\n",
    "my_std.fit(X_train)\n",
    "X_train_std = my_std.transform(X_train)\n",
    "X_test_std = my_std.transform(X_test)"
   ]
  },
  {
   "cell_type": "markdown",
   "id": "subsequent-madonna",
   "metadata": {},
   "source": [
    "# 1. Linear Regression : \n",
    "\n",
    "##### Model  : $\\varepsilon \\sim \\mathcal{N}(0,\\sigma^2)$\n",
    "$$ y = X\\beta + \\varepsilon$$\n",
    "\n",
    "\n",
    "##### Likelihood : \n",
    "$$ L = \\prod_{i=1}^n \\mathbb{P}[x^{(i)}, y^{(i)} | \\beta ] $$\n",
    "Max of log likelihood \n",
    "    $\\Longleftrightarrow \\underset{\\beta \\in  R^{p+1}}{\\max} \\left[  n \\log(\\frac{1}{\\sigma \\sqrt{2\\pi}}) - \\frac{1}{2\\sigma^2} \\sum_{i=1}^n  (f_{\\beta}(x_i) - y_i )^2  \\right]$\n",
    "    $\\Longleftrightarrow \\underset{\\beta \\in  R^{p+1}}{\\min} \\left[ \\sum_{i=1}^n  (f_{\\beta}(x_i) - y_i )^2  \\right]$\n",
    "\n",
    "\n",
    "##### Least squares : \n",
    "Min of least squares : $ \\underset{\\beta \\in  R^{p+1}}{\\min} (y-X\\beta)^T (y-X\\beta)$ "
   ]
  },
  {
   "cell_type": "code",
   "execution_count": 179,
   "id": "animated-camera",
   "metadata": {
    "scrolled": true
   },
   "outputs": [
    {
     "data": {
      "text/plain": [
       "LinearRegression(n_jobs=1)"
      ]
     },
     "execution_count": 179,
     "metadata": {},
     "output_type": "execute_result"
    }
   ],
   "source": [
    "from sklearn import linear_model\n",
    "\n",
    "lr = linear_model.LinearRegression(copy_X=True, fit_intercept=True, \n",
    "                                   n_jobs=1, normalize=False)\n",
    "lr.fit(X_train_std,y_train)\n",
    "#y_pred = lr.predict(X_test_std)"
   ]
  },
  {
   "cell_type": "markdown",
   "id": "other-destruction",
   "metadata": {},
   "source": [
    "Mean Square Error : (\"erreur quadratique moyenne\")\n",
    "$$ MSE = \\frac{1}{n} \\sum^n_{i=1} (f(x_i) - y_i)^2 $$"
   ]
  },
  {
   "cell_type": "code",
   "execution_count": 185,
   "id": "cubic-aquatic",
   "metadata": {},
   "outputs": [
    {
     "data": {
      "text/plain": [
       "0.49258454714253436"
      ]
     },
     "execution_count": 185,
     "metadata": {},
     "output_type": "execute_result"
    }
   ],
   "source": [
    "MSE = ((y_pred-y_test)**2).mean()\n",
    "MSE"
   ]
  },
  {
   "cell_type": "markdown",
   "id": "pleasant-lemon",
   "metadata": {},
   "source": [
    "# Ridge Regression : \n",
    "Regularization of the coefficients : $ \\|\\beta \\|_2^2 = 1$\n",
    "\n",
    "The model is :\n",
    "$$ y = X\\beta + \\varepsilon \\text{ under constraint } \\|\\beta \\|_2^2 = 1$$\n",
    "\n",
    "KKT condition $\\rightarrow$ lagrange multipliers $\\rightarrow$ functionnal rewrites : \n",
    "$$\\underset{\\beta \\in  R^{p+1}}{\\min} (y-X\\beta)^T (y-X\\beta) + \\alpha  \\|\\beta \\|_2^2 $$\n",
    "\n",
    "$\\alpha$ is an hyperparameter $\\rightarrow$ fitted with CV "
   ]
  },
  {
   "cell_type": "code",
   "execution_count": 189,
   "id": "geological-failure",
   "metadata": {},
   "outputs": [
    {
     "data": {
      "text/plain": [
       "GridSearchCV(cv=5, estimator=Ridge(),\n",
       "             param_grid={'alpha': array([1.00000000e-05, 1.59985872e-05, 2.55954792e-05, 4.09491506e-05,\n",
       "       6.55128557e-05, 1.04811313e-04, 1.67683294e-04, 2.68269580e-04,\n",
       "       4.29193426e-04, 6.86648845e-04, 1.09854114e-03, 1.75751062e-03,\n",
       "       2.81176870e-03, 4.49843267e-03, 7.19685673e-03, 1.15139540e-02,\n",
       "       1.84206997e-02, 2.94705170e-02, 4.71486636e-02, 7....\n",
       "       7.90604321e-01, 1.26485522e+00, 2.02358965e+00, 3.23745754e+00,\n",
       "       5.17947468e+00, 8.28642773e+00, 1.32571137e+01, 2.12095089e+01,\n",
       "       3.39322177e+01, 5.42867544e+01, 8.68511374e+01, 1.38949549e+02,\n",
       "       2.22299648e+02, 3.55648031e+02, 5.68986603e+02, 9.10298178e+02,\n",
       "       1.45634848e+03, 2.32995181e+03, 3.72759372e+03, 5.96362332e+03,\n",
       "       9.54095476e+03, 1.52641797e+04, 2.44205309e+04, 3.90693994e+04,\n",
       "       6.25055193e+04, 1.00000000e+05])})"
      ]
     },
     "execution_count": 189,
     "metadata": {},
     "output_type": "execute_result"
    }
   ],
   "source": [
    "param_grid = {\"alpha\":np.logspace(-5,5,50)}\n",
    "\n",
    "lm_ridge = linear_model.Ridge()\n",
    "\n",
    "CV_ridge = model_selection.GridSearchCV(lm_ridge, param_grid= param_grid, cv = 5)\n",
    "CV_ridge.fit(X_train, y_train)"
   ]
  }
 ],
 "metadata": {
  "kernelspec": {
   "display_name": "Python 3",
   "language": "python",
   "name": "python3"
  },
  "language_info": {
   "codemirror_mode": {
    "name": "ipython",
    "version": 3
   },
   "file_extension": ".py",
   "mimetype": "text/x-python",
   "name": "python",
   "nbconvert_exporter": "python",
   "pygments_lexer": "ipython3",
   "version": "3.8.8"
  }
 },
 "nbformat": 4,
 "nbformat_minor": 5
}
