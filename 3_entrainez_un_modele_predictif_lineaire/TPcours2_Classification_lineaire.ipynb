{
 "cells": [
  {
   "cell_type": "markdown",
   "id": "annual-harvard",
   "metadata": {},
   "source": [
    "# fiche de cours : \n",
    "### 1. Logistic regression : \n",
    "idea : transform the result of \"is close/far from the separation\" into something that looks like a proba with the logistic function ($Logistic : u \\mapsto \\frac{1}{1+e^{-u}}$)\n",
    "\n",
    "use : sklearn.linear_model.LogisticRegression\n",
    "\n",
    "### 2. SVM : \n",
    "\n",
    "idea : define an hyperplan $\\mathcal{H}=span(w^{\\bot})$ and minimize the margin $\\gamma := \\frac{2}{\\|w\\|_2}$,\n",
    "\n",
    "Primal formulation : minimize (on $w \\in R^p, b\\in R^p$) \n",
    "    $$\\frac{1}{2}\\|w\\|^2_2 \\; \\text{ under constraints : } \\{ y^{(i)}(<w,x^{(i)}>+b) \\geq 1 \\}$$\n",
    "\n",
    "Dual formulation : maximize on ($\\alpha \\in R^n$) :\n",
    "    $$\\frac{-1}{2}\\sum_{i = 1}^{n} \\sum_{j = 1}^{n} \\alpha_i \\alpha_i \\alpha_j  y^{(i)}  y^{(j)} <x^{(i)},x^{(j)}> \n",
    "                    + \\sum_{i= 1}^{n} \\alpha_i $$ \n",
    "\n",
    "Remarks : \n",
    "1. objective function $f(x) = <w,x> + b =\\sum_{i= 1}^{n} \\alpha_i^{*} y^{(i)} <x^{(i)},x> + b$\n",
    "2. used loss = $hinge : (x,y) \\mapsto \n",
    "    \\left\\{ \\begin{array}[cc] \n",
    "        .1 - y f(x) & \\text{ if } y f(x) <1 \\\\ \n",
    "        0 &\\text{ otherwise} \\end{array} \\right.$\n",
    "= $(x,y) \\mapsto \\max(0,1-y \\, f(x) )$\n",
    "\n",
    " \n",
    "use : sklearn.svm.LinearSVR.\n",
    "\n",
    "### 2.2 add an error - Regularization\n",
    "\n",
    "### 2.3 multi-class :\n",
    "use : sklearn.multiclass.OneVsOneClassifier\n",
    "\n",
    " sklearn.svm.LinearSVC(multi_class=\"crammer_singer\")"
   ]
  },
  {
   "cell_type": "markdown",
   "id": "chicken-impact",
   "metadata": {},
   "source": [
    "# TP Linear Classification"
   ]
  },
  {
   "cell_type": "code",
   "execution_count": 2,
   "id": "supposed-indianapolis",
   "metadata": {},
   "outputs": [],
   "source": [
    "data_path = \"~/Documents/openclassroom/Fomation_ingenieur_ML/data/\"\n",
    "\n",
    "import pandas as pd\n",
    "import numpy as np\n",
    "import matplotlib.pyplot as plt\n",
    "\n",
    "## sklearn module : \n",
    "from sklearn import model_selection \n",
    "from sklearn import preprocessing\n",
    "\n",
    "from sklearn.preprocessing import LabelEncoder \n",
    "from sklearn.linear_model import LogisticRegression, LogisticRegressionCV\n",
    "from sklearn.svm import LinearSVC"
   ]
  },
  {
   "cell_type": "code",
   "execution_count": 40,
   "id": "increasing-christopher",
   "metadata": {
    "scrolled": true
   },
   "outputs": [
    {
     "name": "stdout",
     "output_type": "stream",
     "text": [
      "(8124, 23)\n"
     ]
    },
    {
     "data": {
      "text/html": [
       "<div>\n",
       "<style scoped>\n",
       "    .dataframe tbody tr th:only-of-type {\n",
       "        vertical-align: middle;\n",
       "    }\n",
       "\n",
       "    .dataframe tbody tr th {\n",
       "        vertical-align: top;\n",
       "    }\n",
       "\n",
       "    .dataframe thead th {\n",
       "        text-align: right;\n",
       "    }\n",
       "</style>\n",
       "<table border=\"1\" class=\"dataframe\">\n",
       "  <thead>\n",
       "    <tr style=\"text-align: right;\">\n",
       "      <th></th>\n",
       "      <th>class</th>\n",
       "      <th>cap-shape</th>\n",
       "      <th>cap-surface</th>\n",
       "      <th>cap-color</th>\n",
       "      <th>bruises</th>\n",
       "      <th>odor</th>\n",
       "      <th>gill-attachment</th>\n",
       "      <th>gill-spacing</th>\n",
       "      <th>gill-size</th>\n",
       "      <th>gill-color</th>\n",
       "      <th>...</th>\n",
       "      <th>stalk-surface-below-ring</th>\n",
       "      <th>stalk-color-above-ring</th>\n",
       "      <th>stalk-color-below-ring</th>\n",
       "      <th>veil-type</th>\n",
       "      <th>veil-color</th>\n",
       "      <th>ring-number</th>\n",
       "      <th>ring-type</th>\n",
       "      <th>spore-print-color</th>\n",
       "      <th>population</th>\n",
       "      <th>habitat</th>\n",
       "    </tr>\n",
       "  </thead>\n",
       "  <tbody>\n",
       "    <tr>\n",
       "      <th>0</th>\n",
       "      <td>p</td>\n",
       "      <td>x</td>\n",
       "      <td>s</td>\n",
       "      <td>n</td>\n",
       "      <td>t</td>\n",
       "      <td>p</td>\n",
       "      <td>f</td>\n",
       "      <td>c</td>\n",
       "      <td>n</td>\n",
       "      <td>k</td>\n",
       "      <td>...</td>\n",
       "      <td>s</td>\n",
       "      <td>w</td>\n",
       "      <td>w</td>\n",
       "      <td>p</td>\n",
       "      <td>w</td>\n",
       "      <td>o</td>\n",
       "      <td>p</td>\n",
       "      <td>k</td>\n",
       "      <td>s</td>\n",
       "      <td>u</td>\n",
       "    </tr>\n",
       "    <tr>\n",
       "      <th>1</th>\n",
       "      <td>e</td>\n",
       "      <td>x</td>\n",
       "      <td>s</td>\n",
       "      <td>y</td>\n",
       "      <td>t</td>\n",
       "      <td>a</td>\n",
       "      <td>f</td>\n",
       "      <td>c</td>\n",
       "      <td>b</td>\n",
       "      <td>k</td>\n",
       "      <td>...</td>\n",
       "      <td>s</td>\n",
       "      <td>w</td>\n",
       "      <td>w</td>\n",
       "      <td>p</td>\n",
       "      <td>w</td>\n",
       "      <td>o</td>\n",
       "      <td>p</td>\n",
       "      <td>n</td>\n",
       "      <td>n</td>\n",
       "      <td>g</td>\n",
       "    </tr>\n",
       "  </tbody>\n",
       "</table>\n",
       "<p>2 rows × 23 columns</p>\n",
       "</div>"
      ],
      "text/plain": [
       "  class cap-shape cap-surface cap-color bruises odor gill-attachment  \\\n",
       "0     p         x           s         n       t    p               f   \n",
       "1     e         x           s         y       t    a               f   \n",
       "\n",
       "  gill-spacing gill-size gill-color  ... stalk-surface-below-ring  \\\n",
       "0            c         n          k  ...                        s   \n",
       "1            c         b          k  ...                        s   \n",
       "\n",
       "  stalk-color-above-ring stalk-color-below-ring veil-type veil-color  \\\n",
       "0                      w                      w         p          w   \n",
       "1                      w                      w         p          w   \n",
       "\n",
       "  ring-number ring-type spore-print-color population habitat  \n",
       "0           o         p                 k          s       u  \n",
       "1           o         p                 n          n       g  \n",
       "\n",
       "[2 rows x 23 columns]"
      ]
     },
     "execution_count": 40,
     "metadata": {},
     "output_type": "execute_result"
    }
   ],
   "source": [
    "df = pd.read_csv(data_path + \"TP_2_datset_mushrooms.csv\", dtype=\"category\")\n",
    "# print(\"first row :\")\n",
    "# print(df.iloc[:,0])\n",
    "# print(\"\")\n",
    "# print(\"first column : \")\n",
    "# print(str(df.loc[0,:]))\n",
    "print(df.shape)\n",
    "df.head(2)"
   ]
  },
  {
   "cell_type": "markdown",
   "id": "inner-sleeping",
   "metadata": {},
   "source": [
    "One can remark that the variable 'veil-type' has the same value \"p\" on the whole dataset, so one can remove it :"
   ]
  },
  {
   "cell_type": "code",
   "execution_count": 60,
   "id": "subtle-disability",
   "metadata": {},
   "outputs": [],
   "source": [
    "df = df.drop(\"veil-type\", axis = 1)"
   ]
  },
  {
   "cell_type": "markdown",
   "id": "undefined-cradle",
   "metadata": {},
   "source": [
    "The data frame constains 23 variables that take categorical letter values. \n",
    "\n",
    "I wondered how to plot something like a \"correlation heatmap\" of this categorical data. My first reseachs leaded me to the \"Cramers'V\", computed in this https://stackoverflow.com/a/46498792/5863503 forum :"
   ]
  },
  {
   "cell_type": "code",
   "execution_count": 73,
   "id": "organized-idaho",
   "metadata": {},
   "outputs": [],
   "source": [
    "import pandas as pd\n",
    "import numpy as np\n",
    "import scipy.stats as ss\n",
    "import seaborn as sns\n",
    "\n",
    "tips = sns.load_dataset(\"tips\")\n",
    "tips[\"total_bill_cut\"] = pd.cut(tips[\"total_bill\"],\n",
    "                                np.arange(0, 55, 5),\n",
    "                                include_lowest=True,\n",
    "                                right=False)\n",
    "def cramers_v(confusion_matrix):\n",
    "    \"\"\" calculate Cramers V statistic for categorial-categorial association.\n",
    "        uses correction from Bergsma and Wicher,\n",
    "        Journal of the Korean Statistical Society 42 (2013): 323-328\n",
    "    \"\"\"\n",
    "    chi2 = ss.chi2_contingency(confusion_matrix)[0]\n",
    "    n = confusion_matrix.sum()\n",
    "    phi2 = chi2 / n\n",
    "    r, k = confusion_matrix.shape\n",
    "    phi2corr = max(0, phi2 - ((k-1)*(r-1))/(n-1))\n",
    "    rcorr = r - ((r-1)**2)/(n-1)\n",
    "    kcorr = k - ((k-1)**2)/(n-1)\n",
    "    return np.sqrt(phi2corr / min((kcorr-1), (rcorr-1)))\n",
    "\n",
    "list_var1 = list(df.columns) \n",
    "list_var2 = list(df.columns)\n",
    "\n",
    "corr_mat = pd.DataFrame(index= df.columns, columns= df.columns, dtype=\"float\")\n",
    "for var1 in list_var1 :\n",
    "    for var2 in list_var2 : \n",
    "        confusion_matrix = pd.crosstab(df[var1], df[var2])                        \n",
    "        my_cramer_v = cramers_v(confusion_matrix.values)\n",
    "        corr_mat.loc[var1, var2] = my_cramer_v\n",
    "        corr_mat.loc[var2, var1] = my_cramer_v\n",
    "    list_var2.remove(var1)"
   ]
  },
  {
   "cell_type": "code",
   "execution_count": 91,
   "id": "sorted-terry",
   "metadata": {},
   "outputs": [
    {
     "data": {
      "image/png": "[encoded data removed]",
      "text/plain": [
       "<Figure size 720x720 with 2 Axes>"
      ]
     },
     "metadata": {
      "needs_background": "light"
     },
     "output_type": "display_data"
    }
   ],
   "source": [
    "plt.figure(figsize = (10,10))\n",
    "corr_mat\n",
    "ax = sns.heatmap(\n",
    "    corr_mat, \n",
    "    vmin=0, vmax=1, center=0,\n",
    "    cmap=sns.diverging_palette(20, 220, n=200),\n",
    "    square=True\n",
    ")\n",
    "ax.set_xticklabels(\n",
    "    ax.get_xticklabels(),\n",
    "    rotation=45,\n",
    "    horizontalalignment='right'\n",
    ");\n",
    "\n",
    "## EQUIVALENT PLOT WITH SEABORN :\n",
    "# import seaborn\n",
    "# plt.figure(figsize = (10,10))\n",
    "# seaborn.heatmap(corr_mat,cmap=\"YlGnBu\")"
   ]
  },
  {
   "cell_type": "markdown",
   "id": "unavailable-northwest",
   "metadata": {},
   "source": [
    "Going back to our classification problem, Let's  transform these into numbers : "
   ]
  },
  {
   "cell_type": "code",
   "execution_count": 92,
   "id": "ahead-confusion",
   "metadata": {},
   "outputs": [
    {
     "data": {
      "text/html": [
       "<div>\n",
       "<style scoped>\n",
       "    .dataframe tbody tr th:only-of-type {\n",
       "        vertical-align: middle;\n",
       "    }\n",
       "\n",
       "    .dataframe tbody tr th {\n",
       "        vertical-align: top;\n",
       "    }\n",
       "\n",
       "    .dataframe thead th {\n",
       "        text-align: right;\n",
       "    }\n",
       "</style>\n",
       "<table border=\"1\" class=\"dataframe\">\n",
       "  <thead>\n",
       "    <tr style=\"text-align: right;\">\n",
       "      <th></th>\n",
       "      <th>class</th>\n",
       "      <th>cap-shape</th>\n",
       "      <th>cap-surface</th>\n",
       "      <th>cap-color</th>\n",
       "      <th>bruises</th>\n",
       "      <th>odor</th>\n",
       "      <th>gill-attachment</th>\n",
       "      <th>gill-spacing</th>\n",
       "      <th>gill-size</th>\n",
       "      <th>gill-color</th>\n",
       "      <th>...</th>\n",
       "      <th>stalk-surface-above-ring</th>\n",
       "      <th>stalk-surface-below-ring</th>\n",
       "      <th>stalk-color-above-ring</th>\n",
       "      <th>stalk-color-below-ring</th>\n",
       "      <th>veil-color</th>\n",
       "      <th>ring-number</th>\n",
       "      <th>ring-type</th>\n",
       "      <th>spore-print-color</th>\n",
       "      <th>population</th>\n",
       "      <th>habitat</th>\n",
       "    </tr>\n",
       "  </thead>\n",
       "  <tbody>\n",
       "    <tr>\n",
       "      <th>0</th>\n",
       "      <td>1</td>\n",
       "      <td>5</td>\n",
       "      <td>2</td>\n",
       "      <td>4</td>\n",
       "      <td>1</td>\n",
       "      <td>6</td>\n",
       "      <td>1</td>\n",
       "      <td>0</td>\n",
       "      <td>1</td>\n",
       "      <td>4</td>\n",
       "      <td>...</td>\n",
       "      <td>2</td>\n",
       "      <td>2</td>\n",
       "      <td>7</td>\n",
       "      <td>7</td>\n",
       "      <td>2</td>\n",
       "      <td>1</td>\n",
       "      <td>4</td>\n",
       "      <td>2</td>\n",
       "      <td>3</td>\n",
       "      <td>5</td>\n",
       "    </tr>\n",
       "    <tr>\n",
       "      <th>1</th>\n",
       "      <td>0</td>\n",
       "      <td>5</td>\n",
       "      <td>2</td>\n",
       "      <td>9</td>\n",
       "      <td>1</td>\n",
       "      <td>0</td>\n",
       "      <td>1</td>\n",
       "      <td>0</td>\n",
       "      <td>0</td>\n",
       "      <td>4</td>\n",
       "      <td>...</td>\n",
       "      <td>2</td>\n",
       "      <td>2</td>\n",
       "      <td>7</td>\n",
       "      <td>7</td>\n",
       "      <td>2</td>\n",
       "      <td>1</td>\n",
       "      <td>4</td>\n",
       "      <td>3</td>\n",
       "      <td>2</td>\n",
       "      <td>1</td>\n",
       "    </tr>\n",
       "  </tbody>\n",
       "</table>\n",
       "<p>2 rows × 22 columns</p>\n",
       "</div>"
      ],
      "text/plain": [
       "   class  cap-shape  cap-surface  cap-color  bruises  odor  gill-attachment  \\\n",
       "0      1          5            2          4        1     6                1   \n",
       "1      0          5            2          9        1     0                1   \n",
       "\n",
       "   gill-spacing  gill-size  gill-color  ...  stalk-surface-above-ring  \\\n",
       "0             0          1           4  ...                         2   \n",
       "1             0          0           4  ...                         2   \n",
       "\n",
       "   stalk-surface-below-ring  stalk-color-above-ring  stalk-color-below-ring  \\\n",
       "0                         2                       7                       7   \n",
       "1                         2                       7                       7   \n",
       "\n",
       "   veil-color  ring-number  ring-type  spore-print-color  population  habitat  \n",
       "0           2            1          4                  2           3        5  \n",
       "1           2            1          4                  3           2        1  \n",
       "\n",
       "[2 rows x 22 columns]"
      ]
     },
     "execution_count": 92,
     "metadata": {},
     "output_type": "execute_result"
    }
   ],
   "source": [
    "from sklearn.preprocessing import LabelEncoder \n",
    "my_label_encoder = LabelEncoder()\n",
    "for col in df.columns :\n",
    "    my_label_encoder.fit(df[col])\n",
    "    df[col] = my_label_encoder.transform(df[col])\n",
    "df.head(2)"
   ]
  },
  {
   "cell_type": "code",
   "execution_count": 93,
   "id": "legislative-region",
   "metadata": {},
   "outputs": [
    {
     "data": {
      "text/plain": [
       "Index(['class', 'cap-shape', 'cap-surface', 'cap-color', 'bruises', 'odor',\n",
       "       'gill-attachment', 'gill-spacing', 'gill-size', 'gill-color',\n",
       "       'stalk-shape', 'stalk-root', 'stalk-surface-above-ring',\n",
       "       'stalk-surface-below-ring', 'stalk-color-above-ring',\n",
       "       'stalk-color-below-ring', 'veil-color', 'ring-number', 'ring-type',\n",
       "       'spore-print-color', 'population', 'habitat'],\n",
       "      dtype='object')"
      ]
     },
     "execution_count": 93,
     "metadata": {},
     "output_type": "execute_result"
    }
   ],
   "source": [
    "df.columns"
   ]
  },
  {
   "cell_type": "markdown",
   "id": "supreme-batch",
   "metadata": {},
   "source": [
    "Let's split the train and test sets : "
   ]
  },
  {
   "cell_type": "code",
   "execution_count": 94,
   "id": "amended-label",
   "metadata": {},
   "outputs": [],
   "source": [
    "from sklearn.model_selection import train_test_split\n",
    "X = df.drop(\"class\", axis=1)\n",
    "y = df[\"class\"]#np.array(df['class'])\n",
    "X_train, X_test, y_train, y_test = train_test_split(X,y, train_size = 0.8)\n"
   ]
  },
  {
   "cell_type": "markdown",
   "id": "possible-background",
   "metadata": {},
   "source": [
    "## 1. Logistic Regression : \n",
    "Different sets of parameters for our sklearn function : "
   ]
  },
  {
   "cell_type": "code",
   "execution_count": 95,
   "id": "turned-sally",
   "metadata": {},
   "outputs": [],
   "source": [
    "## Without any penalty and small datasets (n small): \n",
    "# lr_kwargs = {solver : \"newton-cg\" , dual : False, penalty : \"none\"}\n",
    "\n",
    "## Without any penalty and big datasets (n >> 1):\n",
    "lr_kwargs = {\"solver\" : \"sag\" ,  \"penalty\" : \"none\"} # or saga\n",
    "lr_kwargs = {\"solver\" : \"sag\" , \"penalty\" : \"none\"}\n",
    "\n",
    "# With penalty l2 and small datasets :\n",
    "lr_kwargs = {\"solver\" : \"liblinear\" , \"dual\" : False, \"penalty\" : \"l2\"}\n",
    "# and with big dim (p > n) :\n",
    "lr_kwargs = {\"solver\" : \"liblinear\" , \"dual\" : True, \"penalty\" : \"l2\"} # recall : dual fit alpha in R^n "
   ]
  },
  {
   "cell_type": "code",
   "execution_count": 96,
   "id": "confirmed-webcam",
   "metadata": {},
   "outputs": [],
   "source": [
    "from sklearn.linear_model import LogisticRegression, LogisticRegressionCV\n",
    "\n",
    "lr_kwargs = {\"solver\" : \"liblinear\" , \"dual\" : False, \"penalty\" : \"l2\"}\n",
    "my_logistic_reg = LogisticRegression(**lr_kwargs)\n",
    "my_logistic_reg.fit(X_train, y_train)\n",
    "\n",
    "## PREDICTION OF \"PROBABILITY TO BE IN CLASS 1\" (LOGISTIC RES)\n",
    "lr_y_proba = my_logistic_reg.predict_proba(X_test)[:,1]\n",
    "## CLASSIFICATION : \n",
    "lr_y_pred = my_logistic_reg.predict(X_test)\n",
    "# y_pred = np.where(y_proba>=0.5, 1, 0)\n"
   ]
  },
  {
   "cell_type": "markdown",
   "id": "hired-purse",
   "metadata": {},
   "source": [
    "Let's use some ROC metrics to check the classification results : "
   ]
  },
  {
   "cell_type": "code",
   "execution_count": 97,
   "id": "magnetic-washington",
   "metadata": {},
   "outputs": [
    {
     "name": "stdout",
     "output_type": "stream",
     "text": [
      "0.9743788301174012\n"
     ]
    },
    {
     "data": {
      "text/plain": [
       "[]"
      ]
     },
     "execution_count": 97,
     "metadata": {},
     "output_type": "execute_result"
    },
    {
     "data": {
      "image/png": "[encoded data removed]",
      "text/plain": [
       "<Figure size 504x504 with 1 Axes>"
      ]
     },
     "metadata": {
      "needs_background": "light"
     },
     "output_type": "display_data"
    }
   ],
   "source": [
    "from sklearn.metrics import roc_curve, auc, plot_roc_curve\n",
    "\n",
    "lr_FPrate, lr_TPrate, lr_thresholds = roc_curve(y_test, lr_y_proba)\n",
    "lr_roc_auc = auc(lr_FPrate, lr_TPrate)\n",
    "print(lr_roc_auc)\n",
    "\n",
    "plt.figure(figsize = (7,7))\n",
    "plt.plot(lr_FPrate,lr_TPrate, color=\"red\", label = \"AUC = %0.3f for Logistic Regression\"%lr_roc_auc)\n",
    "## LEGEND AND AXIS : \n",
    "plt.legend(loc=\"lower right\")\n",
    "plt.xlabel(\"False Positive rate\")\n",
    "plt.ylabel(\"True Positive rate\")\n",
    "plt.title(\"ROC Curve\")\n",
    "plt.plot([0,1],[0,1], linestyle = '--') # random classif results\n",
    "plt.plot()\n",
    "\n",
    "## EQUIVALENT PLOT : \n",
    "# plot_roc_curve(my_logistic_reg, X_train, y_train)\n"
   ]
  },
  {
   "cell_type": "markdown",
   "id": "unauthorized-generator",
   "metadata": {},
   "source": [
    "And with CV to fit the regularization parameter $C$ : "
   ]
  },
  {
   "cell_type": "code",
   "execution_count": null,
   "id": "ignored-timing",
   "metadata": {},
   "outputs": [],
   "source": [
    "# lr_kwargs = {\"solver\" : \"liblinear\" , \"dual\" : False}#, \"penalty\" : \"l1\"}#[\"l1\",\"l2\"]}\n",
    "# param_grid = {\"C\": np.logspace(-3,3,7), \"penalty\" : [\"l1\",\"l2\"]}\n",
    "\n",
    "# ## GridSearchCV SYNTAXE : \n",
    "# from sklearn.model_selection import GridSearchCV\n",
    "\n",
    "# CV_logistic_reg = GridSearchCV(LogisticRegression(**lr_kwargs),\n",
    "#                               param_grid = param_grid, cv = 5)\n",
    "# CV_logistic_reg.fit(X_train, y_train)\n",
    "# print(CV_logistic_reg.best_params_)"
   ]
  },
  {
   "cell_type": "markdown",
   "id": "alternative-render",
   "metadata": {},
   "source": [
    "The algorithm doesn't converge for $l1$ penalty : it takes half a minute to give a result, and warns that it had to increase the number of iteration, and convergence is not succeded. Thus, let's try just to fit the better $C$ with the $l2$ penalty only :"
   ]
  },
  {
   "cell_type": "code",
   "execution_count": null,
   "id": "acute-niger",
   "metadata": {
    "scrolled": true
   },
   "outputs": [],
   "source": [
    "lr_kwargs = {\"solver\" : \"liblinear\" , \"dual\" : False, \"penalty\" : \"l2\"}#[\"l1\",\"l2\"]}\n",
    "param_grid = {\"C\": np.logspace(-3,4,8)}\n",
    "\n",
    "## GridSearchCV SYNTAXE : \n",
    "from sklearn.model_selection import GridSearchCV\n",
    "\n",
    "CV_logistic_reg = GridSearchCV(LogisticRegression(**lr_kwargs),\n",
    "                              param_grid = param_grid, cv = 5)\n",
    "CV_logistic_reg.fit(X_train, y_train)\n",
    "print(CV_logistic_reg.best_params_)\n",
    "\n",
    "lr2_kwargs = lr_kwargs.copy()\n",
    "lr2_kwargs.update(CV_logistic_reg.best_params_)\n",
    "lr2_kwargs"
   ]
  },
  {
   "cell_type": "markdown",
   "id": "occupied-aberdeen",
   "metadata": {},
   "source": [
    "Note that there is an implemented CV in sklearn for the logistic regression, that does exactly the same thing :\n",
    "```python\n",
    "## LogisticRegressionCV SYNTAXE (equivalent) : \n",
    "lr3_logistic_reg = LogisticRegressionCV(**lr_kwargs, Cs = param_grid[\"C\"], cv = 5)\n",
    "lr3_logistic_reg.fit(X_train, y_train)\n",
    "\n",
    "my_logistic_reg_l2 = lr3_logistic_reg\n",
    "```"
   ]
  },
  {
   "cell_type": "markdown",
   "id": "worthy-pound",
   "metadata": {},
   "source": [
    "So, let's launch the Logistic Regression with this best parameters (of $l2$ regularization)"
   ]
  },
  {
   "cell_type": "code",
   "execution_count": null,
   "id": "graduate-extreme",
   "metadata": {},
   "outputs": [],
   "source": [
    "# lr2_kwargs = {'solver': 'liblinear', 'dual': False, 'penalty': 'l2', 'C': 1000.0}\n",
    "my_logistic_reg_l2 = LogisticRegression(**lr2_kwargs).fit(X_train, y_train)\n",
    "\n",
    "## COMPARISON PLOT ROC logistic Reg and SVM, with l2 regul :\n",
    "lr2_y_proba = my_logistic_reg_l2.predict_proba(X_test)[:,1]\n",
    "\n",
    "lr2_FPrate, lr2_TPrate, lr2_thresholds = roc_curve(y_test, lr2_y_proba)\n",
    "lr2_roc_auc = auc(lr2_FPrate, lr2_TPrate)\n",
    "print(lr2_roc_auc)\n",
    "\n",
    "plt.figure(figsize = (7,7))\n",
    "plt.plot(lr_FPrate,lr_TPrate, color=\"green\", label = \"AUC = %0.3f for Logistic Regression\"%lr_roc_auc)\n",
    "plt.plot(lr2_FPrate,lr2_TPrate, color=\"red\", label = \"AUC = %0.3f for l2 penalized LR\"%lr2_roc_auc)\n",
    "plt.plot([0,1],[0,1], linestyle = '--', label = \"id\")\n",
    "## LEGEND AND AXIS : \n",
    "plt.legend(loc=\"lower right\")\n",
    "plt.xlabel(\"False Positive rate\")\n",
    "plt.ylabel(\"True Positive rate\")\n",
    "plt.title(\"ROC Curve\")\n",
    " # random classif results\n",
    "plt.plot()\n",
    "\n",
    "## EQUIVALENT PLOT : \n",
    "# plot_roc_curve(my_logistic_reg, X_train, y_train)\n"
   ]
  },
  {
   "cell_type": "markdown",
   "id": "boolean-election",
   "metadata": {},
   "source": [
    "# TP Linear SVM\n",
    "Let's do the same with SVM, regularize the solution and compare with the l2-regularized Logistic Regression :"
   ]
  },
  {
   "cell_type": "code",
   "execution_count": null,
   "id": "yellow-payroll",
   "metadata": {},
   "outputs": [],
   "source": [
    "from sklearn.svm import LinearSVC\n",
    "\n",
    "my_svm = LinearSVC()\n",
    "param_grid = {\"C\": np.logspace(-3,4,8)}\n",
    "\n",
    "CV_svm = GridSearchCV(my_svm, param_grid, cv = 5)\n",
    "CV_svm.fit(X_train, y_train)"
   ]
  },
  {
   "cell_type": "code",
   "execution_count": null,
   "id": "developing-illustration",
   "metadata": {},
   "outputs": [],
   "source": [
    "CV_svm.best_params_"
   ]
  }
 ],
 "metadata": {
  "kernelspec": {
   "display_name": "Python 3",
   "language": "python",
   "name": "python3"
  },
  "language_info": {
   "codemirror_mode": {
    "name": "ipython",
    "version": 3
   },
   "file_extension": ".py",
   "mimetype": "text/x-python",
   "name": "python",
   "nbconvert_exporter": "python",
   "pygments_lexer": "ipython3",
   "version": "3.8.8"
  }
 },
 "nbformat": 4,
 "nbformat_minor": 5
}
