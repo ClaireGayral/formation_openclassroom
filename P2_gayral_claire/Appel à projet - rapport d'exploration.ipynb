{
 "cells": [
  {
   "cell_type": "code",
   "execution_count": 21,
   "id": "ec2bbb9b",
   "metadata": {},
   "outputs": [],
   "source": [
    "import pandas as pd\n",
    "import numpy as np\n",
    "import matplotlib.pyplot as plt\n",
    "\n",
    "data_path = \"/home/clairegayral/Documents/openclassroom/data/\"\n",
    "res_path = \"/home/clairegayral/Documents/openclassroom/src/P2_gayral_claire/res/\"\n",
    "\n",
    "## my .py : \n",
    "import read_csv\n",
    "import preprocess\n",
    "import list_from_data_field \n",
    "import missing_values_treatment"
   ]
  },
  {
   "cell_type": "markdown",
   "id": "176a5b10",
   "metadata": {},
   "source": [
    "My preprocess consisted in : \n",
    "* Read the data : I only kept data with the \"nutrition score\" for this analyse,\n",
    "* Drop the columns with too many missing values\n",
    "* Select the variables that will interest me : the nutrition variable, with name of the product, its code reference, country of sell, and name of the person that inter it in the open food fact base.\n",
    "* Merge the two columns that are about the palm oil ingredients.\n",
    "* Remove outliers (from the semantic of columns, and compared to the other float values with hierarchical clustering)\n",
    "\n",
    "Mon prétraitement consistait en : \n",
    "* Lecture des données : Je n'ai gardé que les données avec le \"score nutritionnel\" pour cette analyse,\n",
    "* Suppression des colonnes avec trop de valeurs manquantes\n",
    "* Sélection des variables d'intérêt : la variable nutritionnelle, avec le nom du produit, sa référence de code, le pays de vente, et le nom de la personne qui l'a introduit dans la base de données 'open food facts'.\n",
    "* Fusion des deux colonnes qui concernent les ingrédients de l'huile de palme.\n",
    "* Fusion des doublons (par nom de produit)\n",
    "* Suppression les valeurs aberrantes (de la sémantique des colonnes, et par rapport aux autres valeurs avec une classification hierarchique).\n"
   ]
  },
  {
   "cell_type": "code",
   "execution_count": 2,
   "id": "fd146327",
   "metadata": {},
   "outputs": [],
   "source": [
    "##\n",
    "## read data : \n",
    "##\n",
    "# read_csv.save_csv()\n",
    "df_original = pd.read_csv(data_path+\"projet2/df_original.csv\", \n",
    "                          low_memory=False, index_col=0)\n",
    "\n",
    "df = df_original.copy()\n",
    "\n",
    "##\n",
    "## select variables \n",
    "##\n",
    "list_of_nutri_facts = list_from_data_field.list_of_nutri_facts\n",
    "interest_var = pd.Index([\"code\",\"product_name\",\"creator\",\"countries\",\n",
    "                         \"additives_n\",\"ingredients_from_palm_oil\"])\n",
    "interest_var = interest_var.append(df.columns.intersection(list_of_nutri_facts))\n",
    "df = preprocess.select_columns(df, interest_var)\n",
    "\n",
    "\n",
    "##\n",
    "## set dtype : \n",
    "##\n",
    "df = preprocess.set_dtypes(df)\n",
    "\n",
    "##\n",
    "## merge \"from palm oil\" \n",
    "##\n",
    "df = preprocess.merge_palm_oil_cols(df)\n",
    "\n",
    "##\n",
    "## drop empty columns\n",
    "##\n",
    "nan_repartition = df_original.isna().sum(axis=0)\n",
    "# nan_threshold = nan_repartition.mean()\n",
    "nan_threshold = nan_repartition.quantile(0.75)\n",
    "df = preprocess.preprocess_drop_col_nan(df_original, nan_threshold)\n"
   ]
  },
  {
   "cell_type": "markdown",
   "id": "9b9c5a05",
   "metadata": {},
   "source": [
    "To drop duplicates, I compute a hierarchical clustering on the euclidean distance matrix of products with the same name, and I saved the indexes to gather in a dictionnary : \n",
    "\n",
    "```python\n",
    "# prod_name = \"Salade de carottes râpées\"\n",
    "prod_name = \"Abondance\"\n",
    "res = {}\n",
    "\n",
    "x = data[data.product_name == prod_name]\n",
    "prod_index = x.index\n",
    "## if there is more than one product with the same name \n",
    "if len(prod_index) > 1 : \n",
    "    prod_values = data_float.loc[prod_index,:]\n",
    "    prod_dist = pd.DataFrame(nan_euclidean_distances(prod_values),\n",
    "                          columns=prod_index, index = prod_index)\n",
    "    Z = linkage(prod_dist, \"weighted\")\n",
    "    prod_clustering = pd.Series(fcluster(Z, t=1.15), index = prod_index)\n",
    "    for k in np.unique(prod_clustering.values):\n",
    "        index_merge = prod_clustering[prod_clustering==k].index\n",
    "        res[prod_name+str(k)]= index_merge\n",
    "\n",
    "```"
   ]
  },
  {
   "cell_type": "code",
   "execution_count": 61,
   "id": "89683ee2",
   "metadata": {},
   "outputs": [],
   "source": [
    "##\n",
    "## Extract float data \n",
    "##\n",
    "\n",
    "float_var = list_from_data_field.list_of_nutri_facts\n",
    "float_var += [\"additives_n\", \"ingredients_from_palm_oil\",\"ingredients_from_palm_oil_n\"]\n",
    "float_var = df.columns.intersection(float_var).values\n",
    "\n",
    "data_columns = np.insert(float_var, 0, \"product_name\")\n",
    "data = df[data_columns].copy()\n",
    "\n",
    "##\n",
    "## Extract duplicates to be merge\n",
    "##\n",
    "\n",
    "# res = get_index_merge_duplicates(data, float_var, 1.15)\n",
    "# import pickle\n",
    "# with open(res_path +'index_to_merge_duplicates.pkl', 'wb') as fp:\n",
    "#     pickle.dump(res, fp, pickle.HIGHEST_PROTOCOL)\n",
    "with open(res_path +'index_to_merge_duplicates.pkl', 'rb') as f:\n",
    "    res = pickle.load(f)\n",
    "    \n",
    "##\n",
    "## Merge duplicates from the dict\n",
    "##\n",
    "\n",
    "data_clean = preprocess.drop_and_merge_duplicates(data)"
   ]
  },
  {
   "cell_type": "code",
   "execution_count": null,
   "id": "f888db94",
   "metadata": {},
   "outputs": [],
   "source": []
  },
  {
   "cell_type": "code",
   "execution_count": null,
   "id": "a954a551",
   "metadata": {},
   "outputs": [],
   "source": [
    "data_clean = data.copy()\n",
    "for product_name in res:\n",
    "    merge_index = res[product_name]\n",
    "    first_index = merge_index[0]\n",
    "    if len(merge_index)>1:\n",
    "        prod_duplicate = data.loc[merge_index].mean()\n",
    "        prod_duplicate.at[\"product_name\"] = product_name[:-1] # original name\n",
    "        data_clean = data_clean.drop(merge_index.values, axis=0) \n",
    "        data_clean.at[first_index] = prod_duplicate\n",
    "        data_clean.loc[first_index]"
   ]
  },
  {
   "cell_type": "code",
   "execution_count": null,
   "id": "892dc566",
   "metadata": {},
   "outputs": [],
   "source": []
  },
  {
   "cell_type": "code",
   "execution_count": null,
   "id": "13e239ba",
   "metadata": {},
   "outputs": [],
   "source": []
  },
  {
   "cell_type": "code",
   "execution_count": null,
   "id": "2fe868c0",
   "metadata": {},
   "outputs": [],
   "source": []
  },
  {
   "cell_type": "code",
   "execution_count": null,
   "id": "6e7a20e9",
   "metadata": {
    "scrolled": true
   },
   "outputs": [],
   "source": [
    "\n",
    "import missing_values_treatment\n",
    "##\n",
    "## from the hyp that the variable has been entered in mg instead of g -> rescale \n",
    "##\n",
    "df = missing_values_treatment.rescale_outliers100g_val(df)\n",
    "\n",
    "##\n",
    "## drop outliers values and drop product/variables with too many NaNs\n",
    "##\n",
    "df = missing_values_treatment.drop_outliers(df)\n",
    "df.shape"
   ]
  },
  {
   "cell_type": "code",
   "execution_count": null,
   "id": "fde255c3",
   "metadata": {},
   "outputs": [],
   "source": []
  },
  {
   "cell_type": "code",
   "execution_count": null,
   "id": "34b04f17",
   "metadata": {},
   "outputs": [],
   "source": [
    "nb_line_plot = int(np.floor(len(float_var)/2)+1)\n",
    "fig = plt.figure(figsize=(16, 100))\n",
    "\n",
    "fig_count = 1\n",
    "for var in df.columns.intersection(float_var) :#data.columns.intersection(list_of_nutri_facts):\n",
    "    ax = fig.add_subplot(nb_line_plot,2, fig_count)\n",
    "    nb_bins = min(20, len(np.unique(df[var].dropna().values)))\n",
    "    ax.hist(df[var], bins = nb_bins, color='steelblue', density=True, edgecolor='none')\n",
    "    ax.set_title(var)\n",
    "    fig_count += 1\n",
    "plt.show()"
   ]
  },
  {
   "cell_type": "code",
   "execution_count": null,
   "id": "140f87b1",
   "metadata": {
    "scrolled": true
   },
   "outputs": [],
   "source": [
    "data = df.copy()\n",
    "colname = \"additives_n\"\n",
    "possible_vals = possible_val_dict[colname]\n",
    "\n",
    "\n",
    "help_to_set_outliers_vals(data, colname, possible_vals)"
   ]
  },
  {
   "cell_type": "code",
   "execution_count": null,
   "id": "5245e73e",
   "metadata": {},
   "outputs": [],
   "source": []
  },
  {
   "cell_type": "code",
   "execution_count": null,
   "id": "7dcb238e",
   "metadata": {},
   "outputs": [],
   "source": []
  },
  {
   "cell_type": "code",
   "execution_count": null,
   "id": "b3583fb2",
   "metadata": {},
   "outputs": [],
   "source": []
  },
  {
   "cell_type": "code",
   "execution_count": null,
   "id": "8c37692d",
   "metadata": {},
   "outputs": [],
   "source": [
    "import list_from_data_field\n",
    "float_var = list_from_data_field.list_of_characteristics "
   ]
  },
  {
   "cell_type": "markdown",
   "id": "56feb6c5",
   "metadata": {},
   "source": [
    "floa"
   ]
  },
  {
   "cell_type": "code",
   "execution_count": null,
   "id": "fe4ccdd4",
   "metadata": {},
   "outputs": [],
   "source": [
    "def merge_palm_oil_cols(data):\n",
    "    if \"ingredients_from_palm_oil_n\" in data.columns :\n",
    "        data.at[data[\"ingredients_from_palm_oil_n\"] > 0, \"ingredients_from_palm_oil_n\"] = 1\n",
    "        if (\"ingredients_from_palm_oil\" in data.columns) :\n",
    "            data['ingredients_from_palm_oil'].fillna(data['ingredients_from_palm_oil_n'], inplace=True)\n",
    "            data.drop(\"ingredients_from_palm_oil_n\", inplace = True, axis = 1)\n",
    "        else :\n",
    "             data.rename(columns={\"ingredients_from_palm_oil_n\":\"ingredients_from_palm_oil\"}, inplace=True)\n",
    "        data[\"ingredients_from_palm_oil\"] = data[\"ingredients_from_palm_oil\"].astype(\"float\")\n",
    "    return(data)"
   ]
  }
 ],
 "metadata": {
  "kernelspec": {
   "display_name": "openclassroom",
   "language": "python",
   "name": "openclassroom"
  },
  "language_info": {
   "codemirror_mode": {
    "name": "ipython",
    "version": 3
   },
   "file_extension": ".py",
   "mimetype": "text/x-python",
   "name": "python",
   "nbconvert_exporter": "python",
   "pygments_lexer": "ipython3",
   "version": "3.8.6"
  }
 },
 "nbformat": 4,
 "nbformat_minor": 5
}
