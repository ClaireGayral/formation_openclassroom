{
 "cells": [
  {
   "cell_type": "code",
   "execution_count": 1,
   "id": "ec2bbb9b",
   "metadata": {},
   "outputs": [],
   "source": [
    "import pandas as pd\n",
    "import numpy as np\n",
    "import matplotlib.pyplot as plt\n",
    "\n",
    "data_path = \"/home/clairegayral/Documents/openclassroom/data/\"\n",
    "res_path = \"/home/clairegayral/Documents/openclassroom/src/P2_gayral_claire/res/\"\n",
    "\n",
    "## my .py : \n",
    "import read_csv\n",
    "import preprocess\n",
    "import list_from_data_field \n",
    "import missing_values_treatment"
   ]
  },
  {
   "cell_type": "markdown",
   "id": "176a5b10",
   "metadata": {},
   "source": [
    "My preprocess consisted in :\n",
    "* Read the data : I only kept data with the \"nutrition score\" for this analyse,\n",
    "* Drop the columns with too many missing values\n",
    "* Select the variables that will interest me : the nutrition variable, with name of the product, its code reference, country of sell, and name of the person that inter it in the open food fact base.\n",
    "* Merge the two columns that are about the palm oil ingredients.\n",
    "* Remove outliers (from the semantic of columns, and compared to the other float values with hierarchical clustering)\n",
    "\n",
    "**Mon prétraitement consistait en :**\n",
    "* Lecture des données : Je n'ai gardé que les données avec le \"score nutritionnel\" pour cette analyse,\n",
    "* Suppression des colonnes avec trop de valeurs manquantes\n",
    "* Sélection des variables d'intérêt : la variable nutritionnelle, avec le nom du produit, sa référence de code, le pays de vente, et le nom de la personne qui l'a introduit dans la base de données 'open food facts'.\n",
    "* Fusion des deux colonnes qui concernent les ingrédients de l'huile de palme.\n",
    "* Fusion des doublons (par nom de produit)\n",
    "* Suppression les valeurs aberrantes (de la sémantique des colonnes, et par rapport aux autres valeurs avec une classification hierarchique).\n"
   ]
  },
  {
   "cell_type": "code",
   "execution_count": 2,
   "id": "fd146327",
   "metadata": {},
   "outputs": [
    {
     "name": "stdout",
     "output_type": "stream",
     "text": [
      "There are  646576  products and  184 variables\n"
     ]
    }
   ],
   "source": [
    "##\n",
    "## read data : \n",
    "##\n",
    "# read_csv.save_csv()\n",
    "df_original = pd.read_csv(data_path+\"projet2/df_original.csv\", \n",
    "                          low_memory=False, index_col=0)\n",
    "\n",
    "df = df_original.copy()\n",
    "print(\"There are \", df.shape[0],\n",
    "      \" products and \", df.shape[1],\"variables\")"
   ]
  },
  {
   "cell_type": "code",
   "execution_count": 3,
   "id": "bf3e9466",
   "metadata": {},
   "outputs": [],
   "source": [
    "##\n",
    "## select variables \n",
    "##\n",
    "list_of_nutri_facts = list_from_data_field.list_of_nutri_facts\n",
    "interest_var = pd.Index([\"code\",\"product_name\",\"creator\",\"countries\",\n",
    "                         \"additives_n\",\"ingredients_from_palm_oil\"])\n",
    "interest_var = interest_var.append(df.columns.intersection(list_of_nutri_facts))\n",
    "df = preprocess.select_columns(df, interest_var)\n",
    "\n",
    "\n",
    "##\n",
    "## set dtype : \n",
    "##\n",
    "df = preprocess.set_dtypes(df)\n",
    "\n",
    "##\n",
    "## merge \"from palm oil\" \n",
    "##\n",
    "df = preprocess.merge_palm_oil_cols(df)"
   ]
  },
  {
   "cell_type": "code",
   "execution_count": 4,
   "id": "494136b3",
   "metadata": {},
   "outputs": [
    {
     "name": "stdout",
     "output_type": "stream",
     "text": [
      "I droped variables with less than 60.0  values\n",
      "I have dropped 46 variables\n"
     ]
    }
   ],
   "source": [
    "##\n",
    "## drop empty columns\n",
    "##\n",
    "nan_repartition = df_original.isna().sum(axis=0)\n",
    "# nan_threshold = nan_repartition.mean()\n",
    "nan_threshold = nan_repartition.quantile(0.75)\n",
    "df = preprocess.preprocess_drop_col_nan(df_original, nan_threshold)\n",
    "\n",
    "print(\"I droped variables with less than\", \n",
    "      df.shape[0]-np.floor(nan_threshold),\n",
    "      \" values\")\n",
    "print(\"I have dropped\", df_original.shape[1]-df.shape[1], \"variables\")"
   ]
  },
  {
   "cell_type": "code",
   "execution_count": 5,
   "id": "19746f82",
   "metadata": {},
   "outputs": [
    {
     "data": {
      "text/plain": [
       "(646576, 138)"
      ]
     },
     "execution_count": 5,
     "metadata": {},
     "output_type": "execute_result"
    }
   ],
   "source": [
    "df.shape"
   ]
  },
  {
   "cell_type": "markdown",
   "id": "9b9c5a05",
   "metadata": {},
   "source": [
    "To drop duplicates, I compute a hierarchical clustering on the euclidean distance matrix of products with the same name, and I saved the indexes to gather in a dictionnary : \n",
    "\n",
    "```python\n",
    "# prod_name = \"Salade de carottes râpées\"\n",
    "prod_name = \"Abondance\"\n",
    "res = {}\n",
    "\n",
    "x = data[data.product_name == prod_name]\n",
    "prod_index = x.index\n",
    "## if there is more than one product with the same name \n",
    "if len(prod_index) > 1 : \n",
    "    prod_values = data_float.loc[prod_index,:]\n",
    "    prod_dist = pd.DataFrame(nan_euclidean_distances(prod_values),\n",
    "                          columns=prod_index, index = prod_index)\n",
    "    Z = linkage(prod_dist, \"weighted\")\n",
    "    prod_clustering = pd.Series(fcluster(Z, t=1.15), index = prod_index)\n",
    "    for k in np.unique(prod_clustering.values):\n",
    "        index_merge = prod_clustering[prod_clustering==k].index\n",
    "        res[prod_name+str(k)]= index_merge\n",
    "\n",
    "```"
   ]
  },
  {
   "cell_type": "code",
   "execution_count": 6,
   "id": "89683ee2",
   "metadata": {},
   "outputs": [
    {
     "data": {
      "text/plain": [
       "(460471, 58)"
      ]
     },
     "execution_count": 6,
     "metadata": {},
     "output_type": "execute_result"
    }
   ],
   "source": [
    "##\n",
    "## Extract float data \n",
    "##\n",
    "\n",
    "float_var = list_from_data_field.list_of_nutri_facts\n",
    "float_var += [\"additives_n\", \"ingredients_from_palm_oil\",\"ingredients_from_palm_oil_n\"]\n",
    "float_var = df.columns.intersection(float_var).values\n",
    "\n",
    "data_columns = np.insert(float_var, 0, \"product_name\")\n",
    "data = df[data_columns].copy()\n",
    "\n",
    "##\n",
    "## Extract duplicates to be merge\n",
    "##\n",
    "\n",
    "import pickle\n",
    "\n",
    "# res = get_index_merge_duplicates(data, float_var, 1.15)\n",
    "# with open(res_path +'index_to_merge_duplicates.pkl', 'wb') as fp:\n",
    "#     pickle.dump(res, fp, pickle.HIGHEST_PROTOCOL)\n",
    "with open(res_path +'index_to_merge_duplicates.pkl', 'rb') as f:\n",
    "    res = pickle.load(f)\n",
    "    \n",
    "##\n",
    "## Merge duplicates from the dict\n",
    "##\n",
    "\n",
    "# data_clean = preprocess.drop_and_merge_duplicates(data)\n",
    "# data_clean.to_csv(res_path+\"data_duplicate_treated.csv\")\n",
    "data = pd.read_csv(res_path+\"data_duplicate_treated.csv\", index_col=0)\n",
    "data.shape"
   ]
  },
  {
   "cell_type": "markdown",
   "id": "4ac9e549",
   "metadata": {},
   "source": [
    "Then, I used the following function to set the possible values and remove the outliers \n",
    "\n",
    "**J'ai ensuite utilisé la fonction suivante pour définir les valeurs possibles et supprimer les valeurs aberrantes**"
   ]
  },
  {
   "cell_type": "code",
   "execution_count": 7,
   "id": "6eb052aa",
   "metadata": {},
   "outputs": [
    {
     "name": "stdout",
     "output_type": "stream",
     "text": [
      "outliers products : ['Large free range British eggs' 'Dessert Au Chocolat Noir'\n",
      " 'Kaurasipuli-sämpylä' 'Petits Filous, Chocolat (100g x 6 Pots)'\n",
      " 'Fromage blanc au lait de brebis enrichi vit.D 5% de matière grasse'\n",
      " 'Céréales fourrées' 'Petits Filous Choco'\n",
      " 'St Hubert Bio demi sel sans huile de palme' 'Margina ligera'\n",
      " 'Milchbrei Waldbeere' 'Nesqwik АЛФАВИТ' 'Special K The Original'\n",
      " 'Medium eggs' 'Rice snaps' 'Χωριό soft' 'Cheerios Aveia Maçã e Canela'\n",
      " 'Oivariini Herkku' 'Alentaja 2-teho'\n",
      " 'Ingmariini Paahdettu Voi, rypsiöljy & suola' 'Oat-ly hafer deluxe'\n",
      " 'Cheerios Multi - דגנים מלאים' 'Bevanda di riso arricchita' nan 'Hera'\n",
      " 'Rama 100% Planzlich ohne Palmöi'\n",
      " 'Margarine maitre en cuisson doux Astra' 'bebida de soya' 'Original'\n",
      " 'Vache qui rit' 'Jus multivitaminé' 'Choco Shells' 'Crunch' 'Coco pops'\n",
      " 'Isio 4' \"Kellogg's Variety\" 'Ovomaltine' 'ProActiv' 'Becel ProActiv'] \n",
      "\n"
     ]
    },
    {
     "data": {
      "text/plain": [
       "array([  3.2       ,  16.        ,   2.8       ,   1.5       ,\n",
       "         1.1       ,   4.2       ,   7.        ,   7.5       ,\n",
       "         6.5       ,   2.97      ,   8.4       ,   4.        ,\n",
       "         5.        ,   2.71      ,  20.        ,  10.        ,\n",
       "         2.5       ,   1.6       ,   2.1       ,   5.7       ,\n",
       "       160.00002665,   3.6       ,   2.7       ,   1.38333725,\n",
       "         4.1667    ,   1.1000025 ,   2.5025025 ])"
      ]
     },
     "execution_count": 7,
     "metadata": {},
     "output_type": "execute_result"
    },
    {
     "data": {
      "image/png": "[encoded data removed]",
      "text/plain": [
       "<Figure size 1080x360 with 3 Axes>"
      ]
     },
     "metadata": {
      "needs_background": "light"
     },
     "output_type": "display_data"
    }
   ],
   "source": [
    "import missing_values_treatment\n",
    "missing_values_treatment.help_to_set_outliers_vals(data, 'vitamin-d_100g', [0,1])"
   ]
  },
  {
   "cell_type": "code",
   "execution_count": 9,
   "id": "6e7a20e9",
   "metadata": {
    "scrolled": true
   },
   "outputs": [
    {
     "data": {
      "text/plain": [
       "(53549, 34)"
      ]
     },
     "execution_count": 9,
     "metadata": {},
     "output_type": "execute_result"
    }
   ],
   "source": [
    "##\n",
    "## from the hyp that the variable has been entered in mg instead of g -> rescale \n",
    "##\n",
    "data = missing_values_treatment.rescale_outliers100g_val(data)\n",
    "\n",
    "##\n",
    "## drop outliers values and drop product/variables with too many NaNs\n",
    "##\n",
    "data = missing_values_treatment.drop_outliers(data)\n",
    "data.shape"
   ]
  },
  {
   "cell_type": "code",
   "execution_count": null,
   "id": "fde255c3",
   "metadata": {},
   "outputs": [],
   "source": []
  },
  {
   "cell_type": "code",
   "execution_count": null,
   "id": "140f87b1",
   "metadata": {
    "scrolled": true
   },
   "outputs": [],
   "source": [
    "data = df.copy()\n",
    "colname = \"additives_n\"\n",
    "possible_vals = possible_val_dict[colname]\n",
    "\n",
    "\n",
    "help_to_set_outliers_vals(data, colname, possible_vals)"
   ]
  },
  {
   "cell_type": "code",
   "execution_count": null,
   "id": "5245e73e",
   "metadata": {},
   "outputs": [],
   "source": []
  },
  {
   "cell_type": "code",
   "execution_count": null,
   "id": "7dcb238e",
   "metadata": {},
   "outputs": [],
   "source": []
  },
  {
   "cell_type": "code",
   "execution_count": null,
   "id": "b3583fb2",
   "metadata": {},
   "outputs": [],
   "source": []
  }
 ],
 "metadata": {
  "kernelspec": {
   "display_name": "openclassroom",
   "language": "python",
   "name": "openclassroom"
  },
  "language_info": {
   "codemirror_mode": {
    "name": "ipython",
    "version": 3
   },
   "file_extension": ".py",
   "mimetype": "text/x-python",
   "name": "python",
   "nbconvert_exporter": "python",
   "pygments_lexer": "ipython3",
   "version": "3.8.6"
  }
 },
 "nbformat": 4,
 "nbformat_minor": 5
}
