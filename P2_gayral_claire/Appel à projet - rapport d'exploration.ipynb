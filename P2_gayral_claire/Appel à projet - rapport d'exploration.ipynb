{
 "cells": [
  {
   "cell_type": "code",
   "execution_count": 1,
   "id": "ec2bbb9b",
   "metadata": {},
   "outputs": [],
   "source": [
    "import pandas as pd\n",
    "import numpy as np\n",
    "import matplotlib.pyplot as plt\n",
    "\n",
    "data_path = \"/home/clairegayral/Documents/openclassroom/data/\"\n",
    "\n",
    "## my .py : \n",
    "import read_csv\n",
    "import preprocess\n",
    "import list_from_data_field \n",
    "import missing_values_treatment"
   ]
  },
  {
   "cell_type": "markdown",
   "id": "176a5b10",
   "metadata": {},
   "source": [
    "My preprocess consisted in : \n",
    "* Read the data : I only kept data with the \"nutrition score\" for this analyse,\n",
    "* Drop the columns with too many missing values\n",
    "* Select the variables that will interest me : the nutrition variable, with name of the product, its code reference, country of sell, and name of the person that inter it in the open food fact base.\n",
    "* Merge the two columns that are about the palm oil ingredients.\n",
    "* Remove outliers (from the semantic of columns, and compared to the other values)\n",
    "\n",
    "Mon prétraitement consistait en : \n",
    "* Lecture des données : Je n'ai gardé que les données avec le \"score nutritionnel\" pour cette analyse,\n",
    "* Suppression des colonnes avec trop de valeurs manquantes\n",
    "* Sélection des variables d'intérêt : la variable nutritionnelle, avec le nom du produit, sa référence de code, le pays de vente, et le nom de la personne qui l'a introduit dans la base de données 'open food facts'.\n",
    "* Fusion des deux colonnes qui concernent les ingrédients de l'huile de palme.\n",
    "* Fusion des doublons (par nom de produit)\n",
    "* Suppression les valeurs aberrantes (de la sémantique des colonnes, et par rapport aux autres valeurs).\n"
   ]
  },
  {
   "cell_type": "code",
   "execution_count": 2,
   "id": "fd146327",
   "metadata": {},
   "outputs": [],
   "source": [
    "##\n",
    "## read data : \n",
    "##\n",
    "# read_csv.save_csv()\n",
    "df_original = pd.read_csv(data_path+\"projet2/df_original.csv\", \n",
    "                          low_memory=False, index_col=0)\n",
    "\n",
    "df = df_original.copy()\n",
    "\n",
    "##\n",
    "## select variables \n",
    "##\n",
    "list_of_nutri_facts = list_from_data_field.list_of_nutri_facts\n",
    "interest_var = pd.Index([\"code\",\"product_name\",\"creator\",\"countries\",\n",
    "                         \"additives_n\",\"ingredients_from_palm_oil\"])\n",
    "interest_var = interest_var.append(df.columns.intersection(list_of_nutri_facts))\n",
    "df = preprocess.select_columns(df, interest_var)\n",
    "\n",
    "\n",
    "##\n",
    "## set dtype : \n",
    "##\n",
    "df = preprocess.set_dtypes(df)\n",
    "\n",
    "##\n",
    "## merge \"from palm oil\" \n",
    "##\n",
    "df = preprocess.merge_palm_oil_cols(df)\n",
    "\n",
    "##\n",
    "## drop empty columns\n",
    "##\n",
    "nan_repartition = df_original.isna().sum(axis=0)\n",
    "# nan_threshold = nan_repartition.mean()\n",
    "nan_threshold = nan_repartition.quantile(0.75)\n",
    "df = preprocess.preprocess_drop_col_nan(df_original, nan_threshold)\n"
   ]
  },
  {
   "cell_type": "code",
   "execution_count": 3,
   "id": "89683ee2",
   "metadata": {},
   "outputs": [
    {
     "name": "stdout",
     "output_type": "stream",
     "text": [
      "          15        787420    883090\n",
      "15      0.000000  0.604266  1.527017\n",
      "787420  0.604266  0.000000  1.078895\n",
      "883090  1.527017  1.078895  0.000000\n",
      "          24        2344\n",
      "24    0.000000  0.149882\n",
      "2344  0.149882  0.000000\n",
      "          34        2325      776061    937070\n",
      "34      0.000000  2.016729  0.836346  0.836346\n",
      "2325    2.016729  0.000000  1.484052  1.484052\n",
      "776061  0.836346  1.484052  0.000000  0.000000\n",
      "937070  0.836346  1.484052  0.000000  0.000000\n"
     ]
    }
   ],
   "source": [
    "float_var = list_from_data_field.list_of_nutri_facts\n",
    "float_var += [\"additives_n\", \"ingredients_from_palm_oil\",\"ingredients_from_palm_oil_n\"]\n",
    "float_var = df.columns.intersection(float_var).values\n",
    "\n",
    "\n",
    "from sklearn.metrics.pairwise import nan_euclidean_distances\n",
    "from sklearn import preprocessing\n",
    "\n",
    "from scipy.cluster.hierarchy import linkage, fcluster\n",
    "from scipy.cluster.hierarchy import ClusterWarning\n",
    "from warnings import simplefilter\n",
    "simplefilter(\"ignore\", ClusterWarning)\n",
    "\n",
    "data = df.copy()\n",
    "## std var by var :\n",
    "data_float = data[float_var].copy()\n",
    "data_float.at[:,:] = preprocessing.StandardScaler().fit_transform(data_float)\n",
    "\n",
    "products = data[\"product_name\"].drop_duplicates()\n",
    "for prod_name in products[:5] : \n",
    "    x = data[data.product_name == prod_name]\n",
    "    prod_index =  x.index\n",
    "    if len(prod_index) > 1 : \n",
    "        prod_values = data_float.loc[prod_index,:]\n",
    "        prod_dist = pd.DataFrame(nan_euclidean_distances(prod_values),\n",
    "                              columns=prod_index, index = prod_index)\n",
    "        print(prod_dist)\n",
    "#         p_float_var = (x.notna().sum()>=1).index.intersection(float_var)\n",
    "#         p_var_index = x[p_float_var].columns\n",
    "#         if product_score < 0.7 :\n",
    "            #### pb avec le .at, marche sans mais erreur\n",
    "#             res = pd.Series(x.drop_duplicates(subset=\"product_name\").values[0], index=x.columns)\n",
    "#             res[p_var_index] = product_values.fillna(method=\"bfill\",\n",
    "#                                     axis=0).fillna(method=\"ffill\",axis=0).mean().values\n",
    "#             print(product,res)\n",
    "#     tmp = data[data.product_name == product]\n",
    "# x.drop_duplicates(subset=\"product_name\")"
   ]
  },
  {
   "cell_type": "code",
   "execution_count": 17,
   "id": "2654a51b",
   "metadata": {
    "scrolled": true
   },
   "outputs": [],
   "source": [
    "## \n",
    "## Example of duplicate treatment for one product : \n",
    "##\n",
    "\n",
    "# prod_name = \"Salade de carottes râpées\"\n",
    "prod_name = \"Abondance\"\n",
    "res = {}\n",
    "\n",
    "x = data[data.product_name == prod_name]\n",
    "prod_index = x.index\n",
    "## if there is more than one product with the same name \n",
    "if len(prod_index) > 1 : \n",
    "    prod_values = data_float.loc[prod_index,:]\n",
    "    prod_dist = pd.DataFrame(nan_euclidean_distances(prod_values),\n",
    "                          columns=prod_index, index = prod_index)\n",
    "    Z = linkage(prod_dist, \"weighted\")\n",
    "    prod_clustering = pd.Series(fcluster(Z, t=1.15), index = prod_index)\n",
    "    for k in np.unique(prod_clustering.values):\n",
    "        index_merge = prod_clustering[prod_clustering==k].index\n",
    "        res[prod_name+str(k)]= index_merge\n"
   ]
  },
  {
   "cell_type": "code",
   "execution_count": 20,
   "id": "c1bbba21",
   "metadata": {},
   "outputs": [
    {
     "data": {
      "text/plain": [
       "dict_values([Int64Index([567199, 615627], dtype='int64'), Int64Index([    63, 278958, 300330, 309514, 485882, 512583, 525197, 525198,\n",
       "            526063, 527675, 570443, 605715, 605717, 605718, 605720, 605721,\n",
       "            605723, 605724, 605725, 605726, 605729, 605730, 605731, 605733,\n",
       "            605735, 605739, 605741, 605743, 788153, 790311],\n",
       "           dtype='int64'), Int64Index([533164, 533166, 568173, 691081], dtype='int64'), Int64Index([523563, 523564, 523566, 523568], dtype='int64'), Int64Index([573054, 573120, 573121, 573122, 573128, 884208], dtype='int64'), Int64Index([605722], dtype='int64'), Int64Index([605727], dtype='int64')])"
      ]
     },
     "execution_count": 20,
     "metadata": {},
     "output_type": "execute_result"
    }
   ],
   "source": [
    "for index in res.values():\n",
    "    "
   ]
  },
  {
   "cell_type": "code",
   "execution_count": null,
   "id": "7e764e05",
   "metadata": {},
   "outputs": [],
   "source": []
  },
  {
   "cell_type": "code",
   "execution_count": 15,
   "id": "298d0e53",
   "metadata": {},
   "outputs": [
    {
     "data": {
      "text/plain": [
       "{'Abondance2': Int64Index([    63, 278958, 300330, 309514, 485882, 512583, 525197, 525198,\n",
       "             526063, 527675, 570443, 605715, 605717, 605718, 605720, 605721,\n",
       "             605723, 605724, 605725, 605726, 605729, 605730, 605731, 605733,\n",
       "             605735, 605739, 605741, 605743, 788153, 790311],\n",
       "            dtype='int64')}"
      ]
     },
     "execution_count": 15,
     "metadata": {},
     "output_type": "execute_result"
    }
   ],
   "source": [
    "# prod_values.groupby(clustering)\n",
    "\n",
    "# for k in np.unique(prod_clustering.values): \n",
    "k = 2\n",
    "index_merge = prod_clustering[prod_clustering==k].index\n",
    "# dict_index_to_merge_by_product_name = {}\n",
    "res = {}\n",
    "res[prod_name+str(k)]= index_merge\n",
    "res"
   ]
  },
  {
   "cell_type": "code",
   "execution_count": null,
   "id": "dfab25a1",
   "metadata": {},
   "outputs": [],
   "source": []
  },
  {
   "cell_type": "code",
   "execution_count": null,
   "id": "fdb50866",
   "metadata": {},
   "outputs": [],
   "source": []
  },
  {
   "cell_type": "code",
   "execution_count": null,
   "id": "2bcf7877",
   "metadata": {},
   "outputs": [],
   "source": []
  },
  {
   "cell_type": "code",
   "execution_count": null,
   "id": "9a168fe6",
   "metadata": {},
   "outputs": [],
   "source": [
    "\n",
    "prod_values_k = data.loc[index_merge,float_var]\n",
    "## if there are products to merge :\n",
    "# if len(index_merge)>1 :\n",
    "#     print(\"toto\")\n",
    "\n",
    "res = pd.Series(data.loc[index_merge].drop_duplicates().values[0], \n",
    "                index=data.columns)\n",
    "# res.at[float_var] = prod_values_k\n",
    "#     res[p_var_index] = product_values.fillna(method=\"bfill\",\n",
    "\n",
    "prod_values_k"
   ]
  },
  {
   "cell_type": "code",
   "execution_count": 12,
   "id": "d9b61cf3",
   "metadata": {},
   "outputs": [
    {
     "data": {
      "text/plain": [
       "additives_n                       0.000000\n",
       "ingredients_from_palm_oil_n       0.000000\n",
       "energy-kcal_100g                396.233333\n",
       "energy_100g                    1657.766667\n",
       "fat_100g                         32.286667\n",
       "saturated-fat_100g               21.066667\n",
       "carbohydrates_100g                0.680000\n",
       "sugars_100g                       0.356667\n",
       "proteins_100g                    25.143333\n",
       "sodium_100g                       0.590000\n",
       "nutrition-score-fr_100g          15.000000\n",
       "dtype: float64"
      ]
     },
     "execution_count": 12,
     "metadata": {},
     "output_type": "execute_result"
    }
   ],
   "source": [
    "# res[prod_values_k.columns.values] = prod_values_k.mean(skipna=True).values\n",
    "# res[float_var]\n",
    "prod_values_k.loc[:,~prod_values_k.mean(skipna=True).isna()].mean(skipna=True)"
   ]
  },
  {
   "cell_type": "code",
   "execution_count": 444,
   "id": "0f31f4f1",
   "metadata": {},
   "outputs": [
    {
     "data": {
      "text/plain": [
       "(30, 11)"
      ]
     },
     "execution_count": 444,
     "metadata": {},
     "output_type": "execute_result"
    }
   ],
   "source": [
    "nb_prod_in_k = prod_values_k.shape[0]\n",
    "prod_values_k.loc[:,prod_values_k.isna().sum()<nb_prod_in_k].shape#mean(skipna = True)"
   ]
  },
  {
   "cell_type": "code",
   "execution_count": 436,
   "id": "4118060a",
   "metadata": {},
   "outputs": [
    {
     "data": {
      "text/plain": [
       "additives_n                       0.000000\n",
       "ingredients_from_palm_oil_n       0.000000\n",
       "energy-kj_100g                         NaN\n",
       "energy-kcal_100g                396.233333\n",
       "energy_100g                    1657.766667\n",
       "fat_100g                         32.286667\n",
       "saturated-fat_100g               21.066667\n",
       "monounsaturated-fat_100g               NaN\n",
       "polyunsaturated-fat_100g               NaN\n",
       "omega-3-fat_100g                       NaN\n",
       "omega-6-fat_100g                       NaN\n",
       "omega-9-fat_100g                       NaN\n",
       "trans-fat_100g                         NaN\n",
       "cholesterol_100g                       NaN\n",
       "carbohydrates_100g                0.680000\n",
       "sugars_100g                       0.356667\n",
       "starch_100g                            NaN\n",
       "polyols_100g                           NaN\n",
       "fiber_100g                             NaN\n",
       "proteins_100g                    25.143333\n",
       "sodium_100g                       0.590000\n",
       "alcohol_100g                           NaN\n",
       "vitamin-a_100g                         NaN\n",
       "vitamin-d_100g                         NaN\n",
       "vitamin-e_100g                         NaN\n",
       "vitamin-k_100g                         NaN\n",
       "vitamin-c_100g                         NaN\n",
       "vitamin-b1_100g                        NaN\n",
       "vitamin-b2_100g                        NaN\n",
       "vitamin-pp_100g                        NaN\n",
       "vitamin-b6_100g                        NaN\n",
       "vitamin-b9_100g                        NaN\n",
       "vitamin-b12_100g                       NaN\n",
       "biotin_100g                            NaN\n",
       "pantothenic-acid_100g                  NaN\n",
       "silica_100g                            NaN\n",
       "bicarbonate_100g                       NaN\n",
       "potassium_100g                         NaN\n",
       "chloride_100g                          NaN\n",
       "calcium_100g                           NaN\n",
       "phosphorus_100g                        NaN\n",
       "iron_100g                              NaN\n",
       "magnesium_100g                         NaN\n",
       "zinc_100g                              NaN\n",
       "copper_100g                            NaN\n",
       "manganese_100g                         NaN\n",
       "fluoride_100g                          NaN\n",
       "selenium_100g                          NaN\n",
       "chromium_100g                          NaN\n",
       "molybdenum_100g                        NaN\n",
       "iodine_100g                            NaN\n",
       "caffeine_100g                          NaN\n",
       "taurine_100g                           NaN\n",
       "ph_100g                                NaN\n",
       "fruits-vegetables-nuts_100g            NaN\n",
       "carbon-footprint_100g                  NaN\n",
       "nutrition-score-fr_100g          15.000000\n",
       "dtype: float64"
      ]
     },
     "execution_count": 436,
     "metadata": {},
     "output_type": "execute_result"
    }
   ],
   "source": [
    "prod_values_k.mean()"
   ]
  },
  {
   "cell_type": "code",
   "execution_count": 408,
   "id": "9b2d0ed9",
   "metadata": {},
   "outputs": [
    {
     "data": {
      "text/plain": [
       "Index(['additives_n', 'ingredients_from_palm_oil_n', 'energy-kcal_100g',\n",
       "       'energy_100g', 'fat_100g', 'saturated-fat_100g', 'carbohydrates_100g',\n",
       "       'sugars_100g', 'proteins_100g', 'sodium_100g',\n",
       "       'nutrition-score-fr_100g'],\n",
       "      dtype='object')"
      ]
     },
     "execution_count": 408,
     "metadata": {},
     "output_type": "execute_result"
    }
   ],
   "source": [
    "# res[res[float_var].isna()].columns\n",
    "res[float_var][~res[float_var].isna()].index"
   ]
  },
  {
   "cell_type": "code",
   "execution_count": 404,
   "id": "d0943d7b",
   "metadata": {},
   "outputs": [
    {
     "data": {
      "text/plain": [
       "code                                                                           2449915026831\n",
       "url                                        http://world-en.openfoodfacts.org/product/2449...\n",
       "creator                                                                              kiliweb\n",
       "created_t                                                                         1587060402\n",
       "created_datetime                                                        2020-04-16T18:06:42Z\n",
       "                                                                 ...                        \n",
       "cocoa_100g                                                                               NaN\n",
       "carbon-footprint_100g                                                                    NaN\n",
       "carbon-footprint-from-meat-or-fish_100g                                                  NaN\n",
       "nutrition-score-fr_100g                                                                 15.0\n",
       "phylloquinone_100g                                                                       NaN\n",
       "Length: 138, dtype: object"
      ]
     },
     "execution_count": 404,
     "metadata": {},
     "output_type": "execute_result"
    }
   ],
   "source": [
    "res"
   ]
  },
  {
   "cell_type": "code",
   "execution_count": 258,
   "id": "15e5f4b7",
   "metadata": {},
   "outputs": [
    {
     "data": {
      "image/png": "[encoded data removed]",
      "text/plain": [
       "<Figure size 432x288 with 2 Axes>"
      ]
     },
     "metadata": {
      "needs_background": "light"
     },
     "output_type": "display_data"
    }
   ],
   "source": [
    "import seaborn as sns\n",
    "# index_sort = prod_dist[prod_dist.sum()==prod_dist.sum().min()].index[0]\n",
    "index_sort = prod_dist.sum().sort_values().index.values\n",
    "tmp = prod_dist.loc[index_sort,index_sort]\n",
    "ax = sns.heatmap(\n",
    "#     (prod_dist>1).sort_values(by = index_sort).sort_values(by = index_sort, axis = 1),\n",
    "    tmp,\n",
    "    vmin=0, vmax=1, center=0.5,\n",
    "    cmap=sns.diverging_palette(20, 220, n=200),\n",
    "    square=True\n",
    ")\n",
    "ax.set_xticklabels(\n",
    "    ax.get_xticklabels(),\n",
    "    rotation=45,\n",
    "    horizontalalignment='right')\n",
    "plt.show()"
   ]
  },
  {
   "cell_type": "code",
   "execution_count": 172,
   "id": "28eb48f6",
   "metadata": {},
   "outputs": [
    {
     "name": "stdout",
     "output_type": "stream",
     "text": [
      "0 0\n",
      "0 1\n",
      "0 2\n",
      "1 0\n",
      "1 1\n",
      "2 0\n"
     ]
    }
   ],
   "source": [
    "for i in range(len(prod_index)):\n",
    "    for j in range(len(prod_index)-i):\n",
    "        print(i,j)"
   ]
  },
  {
   "cell_type": "code",
   "execution_count": 183,
   "id": "76f8e45e",
   "metadata": {},
   "outputs": [
    {
     "name": "stdout",
     "output_type": "stream",
     "text": [
      "0 2\n",
      "1 2\n",
      "2 0\n",
      "2 1\n"
     ]
    }
   ],
   "source": [
    "for k in range(tmp[0].shape[0]):\n",
    "    i = tmp[0][k]\n",
    "    j = tmp[1][k]\n",
    "    print(i,j)"
   ]
  },
  {
   "cell_type": "code",
   "execution_count": 201,
   "id": "e29f053a",
   "metadata": {
    "scrolled": true
   },
   "outputs": [],
   "source": [
    "# bool_sdp_matrix = prod_dist<1\n",
    "# tmp = np.where(bool_sdp_matrix)\n",
    "# for k in range(tmp[0].shape[0]):\n",
    "#     i = tmp[0][k]\n",
    "#     j = tmp[1][k]\n",
    "#     if i>j :\n",
    "#         print(i,j)"
   ]
  },
  {
   "cell_type": "code",
   "execution_count": 211,
   "id": "c8019d20",
   "metadata": {},
   "outputs": [
    {
     "data": {
      "image/png": "[encoded data removed]",
      "text/plain": [
       "<Figure size 432x288 with 2 Axes>"
      ]
     },
     "metadata": {
      "needs_background": "light"
     },
     "output_type": "display_data"
    }
   ],
   "source": [
    "import seaborn as sns\n",
    "ax = sns.heatmap(\n",
    "    prod_dist.sort_values(by = prod_index[-1]).sort_values(by = prod_index[-1], axis = 1),\n",
    "    vmin=0, vmax=2, center=1,\n",
    "    cmap=sns.diverging_palette(20, 220, n=200),\n",
    "    square=True\n",
    ")\n",
    "ax.set_xticklabels(\n",
    "    ax.get_xticklabels(),\n",
    "    rotation=45,\n",
    "    horizontalalignment='right')\n",
    "plt.show()"
   ]
  },
  {
   "cell_type": "code",
   "execution_count": 90,
   "id": "c24dd4ca",
   "metadata": {},
   "outputs": [],
   "source": [
    "from scipy.spatial.distance import squareform\n",
    "from scipy.spatial.distance import pdist\n",
    "\n",
    "products = data[\"product_name\"].drop_duplicates()\n",
    "product = products.iloc[1]\n",
    "\n",
    "x = data[data.product_name == product]\n",
    "product_index =  x.index\n",
    "\n",
    "if len(product_index) > 1 : \n",
    "    p_float_var = (x.notna().sum()>=1).index.intersection(float_var)\n",
    "    p_var_index = x[p_float_var].columns\n",
    "    product_values = x.loc[:,p_float_var]\n",
    "\n",
    "    p_dist = nan_euclidean_distances(product_values)\n",
    "    print5"
   ]
  },
  {
   "cell_type": "code",
   "execution_count": 49,
   "id": "67a1b9b3",
   "metadata": {},
   "outputs": [
    {
     "data": {
      "text/plain": [
       "array([[  0.        , 527.48694793, 461.54388638],\n",
       "       [527.48694793,   0.        ,  74.56698992],\n",
       "       [461.54388638,  74.56698992,   0.        ]])"
      ]
     },
     "execution_count": 49,
     "metadata": {},
     "output_type": "execute_result"
    }
   ],
   "source": [
    "nan_euclidean_distances(product_values)"
   ]
  },
  {
   "cell_type": "code",
   "execution_count": 31,
   "id": "1bcc6b8a",
   "metadata": {},
   "outputs": [
    {
     "data": {
      "text/plain": [
       "(65,)"
      ]
     },
     "execution_count": 31,
     "metadata": {},
     "output_type": "execute_result"
    }
   ],
   "source": [
    "x.columns.shape"
   ]
  },
  {
   "cell_type": "code",
   "execution_count": 41,
   "id": "9f3cdf7c",
   "metadata": {},
   "outputs": [
    {
     "data": {
      "text/plain": [
       "array(['0000000000949', 'kiliweb', 'Salade de carottes râpées', 'France',\n",
       "       nan, nan, nan, 32.0, 134.0, 0.3, 0.1, nan, nan, nan, nan, nan, nan,\n",
       "       nan, 5.3, 3.9, nan, nan, nan, 0.9, nan, nan, nan, 0.168, nan, nan,\n",
       "       nan, nan, nan, nan, nan, nan, nan, nan, nan, nan, nan, nan, nan,\n",
       "       nan, nan, nan, nan, nan, nan, nan, nan, nan, nan, nan, nan, nan,\n",
       "       nan, nan, nan, nan, nan, nan, nan, 1.0, nan], dtype=object)"
      ]
     },
     "execution_count": 41,
     "metadata": {},
     "output_type": "execute_result"
    }
   ],
   "source": [
    "x.drop_duplicates(subset=\"product_name\").values[0]"
   ]
  },
  {
   "cell_type": "code",
   "execution_count": null,
   "id": "c3880bf1",
   "metadata": {},
   "outputs": [],
   "source": []
  },
  {
   "cell_type": "code",
   "execution_count": null,
   "id": "ce9ee99b",
   "metadata": {},
   "outputs": [],
   "source": []
  },
  {
   "cell_type": "code",
   "execution_count": null,
   "id": "3504f8c6",
   "metadata": {},
   "outputs": [],
   "source": []
  },
  {
   "cell_type": "code",
   "execution_count": null,
   "id": "d3dafe30",
   "metadata": {},
   "outputs": [],
   "source": []
  },
  {
   "cell_type": "code",
   "execution_count": null,
   "id": "470cb467",
   "metadata": {},
   "outputs": [],
   "source": [
    "\n",
    "#     res = pd.Series(x.drop_duplicates(subset=\"product_name\").values[0], index=x.columns)\n",
    "#     res[p_var_index] = product_values.fillna(method=\"bfill\",\n",
    "#                             axis=0).fillna(method=\"ffill\",axis=0).mean().values\n",
    "    \n",
    "    "
   ]
  },
  {
   "cell_type": "code",
   "execution_count": null,
   "id": "5a4aa070",
   "metadata": {},
   "outputs": [],
   "source": [
    "p_float_var = (x.notna().sum()>=1).index.intersection(float_var)\n",
    "\n",
    "res = x.drop_duplicates(subset=\"product_name\")\n",
    "res[p_float_var] = product_values.fillna(method=\"bfill\",axis=0).fillna(method=\"ffill\",axis=0).mean()\n",
    "# print(res[p_float_var])"
   ]
  },
  {
   "cell_type": "code",
   "execution_count": 82,
   "id": "6dc52c8c",
   "metadata": {},
   "outputs": [
    {
     "data": {
      "text/html": [
       "<div>\n",
       "<style scoped>\n",
       "    .dataframe tbody tr th:only-of-type {\n",
       "        vertical-align: middle;\n",
       "    }\n",
       "\n",
       "    .dataframe tbody tr th {\n",
       "        vertical-align: top;\n",
       "    }\n",
       "\n",
       "    .dataframe thead th {\n",
       "        text-align: right;\n",
       "    }\n",
       "</style>\n",
       "<table border=\"1\" class=\"dataframe\">\n",
       "  <thead>\n",
       "    <tr style=\"text-align: right;\">\n",
       "      <th></th>\n",
       "      <th>additives_n</th>\n",
       "      <th>ingredients_from_palm_oil_n</th>\n",
       "      <th>energy-kj_100g</th>\n",
       "      <th>energy-kcal_100g</th>\n",
       "      <th>energy_100g</th>\n",
       "      <th>fat_100g</th>\n",
       "      <th>saturated-fat_100g</th>\n",
       "      <th>monounsaturated-fat_100g</th>\n",
       "      <th>polyunsaturated-fat_100g</th>\n",
       "      <th>omega-3-fat_100g</th>\n",
       "      <th>...</th>\n",
       "      <th>selenium_100g</th>\n",
       "      <th>chromium_100g</th>\n",
       "      <th>molybdenum_100g</th>\n",
       "      <th>iodine_100g</th>\n",
       "      <th>caffeine_100g</th>\n",
       "      <th>taurine_100g</th>\n",
       "      <th>ph_100g</th>\n",
       "      <th>fruits-vegetables-nuts_100g</th>\n",
       "      <th>carbon-footprint_100g</th>\n",
       "      <th>nutrition-score-fr_100g</th>\n",
       "    </tr>\n",
       "  </thead>\n",
       "  <tbody>\n",
       "    <tr>\n",
       "      <th>4</th>\n",
       "      <td>-0.711746</td>\n",
       "      <td>-0.139854</td>\n",
       "      <td>-0.053007</td>\n",
       "      <td>NaN</td>\n",
       "      <td>-0.015797</td>\n",
       "      <td>-0.006382</td>\n",
       "      <td>-0.001500</td>\n",
       "      <td>NaN</td>\n",
       "      <td>NaN</td>\n",
       "      <td>NaN</td>\n",
       "      <td>...</td>\n",
       "      <td>NaN</td>\n",
       "      <td>NaN</td>\n",
       "      <td>NaN</td>\n",
       "      <td>NaN</td>\n",
       "      <td>NaN</td>\n",
       "      <td>NaN</td>\n",
       "      <td>NaN</td>\n",
       "      <td>NaN</td>\n",
       "      <td>NaN</td>\n",
       "      <td>0.990612</td>\n",
       "    </tr>\n",
       "    <tr>\n",
       "      <th>15</th>\n",
       "      <td>NaN</td>\n",
       "      <td>NaN</td>\n",
       "      <td>NaN</td>\n",
       "      <td>-0.061308</td>\n",
       "      <td>-0.062512</td>\n",
       "      <td>-0.012700</td>\n",
       "      <td>-0.001668</td>\n",
       "      <td>NaN</td>\n",
       "      <td>NaN</td>\n",
       "      <td>NaN</td>\n",
       "      <td>...</td>\n",
       "      <td>NaN</td>\n",
       "      <td>NaN</td>\n",
       "      <td>NaN</td>\n",
       "      <td>NaN</td>\n",
       "      <td>NaN</td>\n",
       "      <td>NaN</td>\n",
       "      <td>NaN</td>\n",
       "      <td>NaN</td>\n",
       "      <td>NaN</td>\n",
       "      <td>-0.919729</td>\n",
       "    </tr>\n",
       "    <tr>\n",
       "      <th>24</th>\n",
       "      <td>NaN</td>\n",
       "      <td>NaN</td>\n",
       "      <td>NaN</td>\n",
       "      <td>0.021267</td>\n",
       "      <td>0.022530</td>\n",
       "      <td>0.004653</td>\n",
       "      <td>-0.000432</td>\n",
       "      <td>NaN</td>\n",
       "      <td>NaN</td>\n",
       "      <td>NaN</td>\n",
       "      <td>...</td>\n",
       "      <td>NaN</td>\n",
       "      <td>NaN</td>\n",
       "      <td>NaN</td>\n",
       "      <td>NaN</td>\n",
       "      <td>NaN</td>\n",
       "      <td>NaN</td>\n",
       "      <td>NaN</td>\n",
       "      <td>NaN</td>\n",
       "      <td>NaN</td>\n",
       "      <td>0.541120</td>\n",
       "    </tr>\n",
       "    <tr>\n",
       "      <th>34</th>\n",
       "      <td>NaN</td>\n",
       "      <td>NaN</td>\n",
       "      <td>NaN</td>\n",
       "      <td>-0.031733</td>\n",
       "      <td>-0.032048</td>\n",
       "      <td>-0.012940</td>\n",
       "      <td>-0.001676</td>\n",
       "      <td>NaN</td>\n",
       "      <td>NaN</td>\n",
       "      <td>NaN</td>\n",
       "      <td>...</td>\n",
       "      <td>NaN</td>\n",
       "      <td>NaN</td>\n",
       "      <td>NaN</td>\n",
       "      <td>NaN</td>\n",
       "      <td>NaN</td>\n",
       "      <td>NaN</td>\n",
       "      <td>NaN</td>\n",
       "      <td>NaN</td>\n",
       "      <td>NaN</td>\n",
       "      <td>-1.256848</td>\n",
       "    </tr>\n",
       "    <tr>\n",
       "      <th>38</th>\n",
       "      <td>NaN</td>\n",
       "      <td>NaN</td>\n",
       "      <td>NaN</td>\n",
       "      <td>-0.035045</td>\n",
       "      <td>-0.035485</td>\n",
       "      <td>-0.002784</td>\n",
       "      <td>-0.001596</td>\n",
       "      <td>NaN</td>\n",
       "      <td>NaN</td>\n",
       "      <td>NaN</td>\n",
       "      <td>...</td>\n",
       "      <td>NaN</td>\n",
       "      <td>NaN</td>\n",
       "      <td>NaN</td>\n",
       "      <td>NaN</td>\n",
       "      <td>NaN</td>\n",
       "      <td>NaN</td>\n",
       "      <td>NaN</td>\n",
       "      <td>NaN</td>\n",
       "      <td>NaN</td>\n",
       "      <td>-0.919729</td>\n",
       "    </tr>\n",
       "    <tr>\n",
       "      <th>...</th>\n",
       "      <td>...</td>\n",
       "      <td>...</td>\n",
       "      <td>...</td>\n",
       "      <td>...</td>\n",
       "      <td>...</td>\n",
       "      <td>...</td>\n",
       "      <td>...</td>\n",
       "      <td>...</td>\n",
       "      <td>...</td>\n",
       "      <td>...</td>\n",
       "      <td>...</td>\n",
       "      <td>...</td>\n",
       "      <td>...</td>\n",
       "      <td>...</td>\n",
       "      <td>...</td>\n",
       "      <td>...</td>\n",
       "      <td>...</td>\n",
       "      <td>...</td>\n",
       "      <td>...</td>\n",
       "      <td>...</td>\n",
       "      <td>...</td>\n",
       "    </tr>\n",
       "    <tr>\n",
       "      <th>1716261</th>\n",
       "      <td>NaN</td>\n",
       "      <td>NaN</td>\n",
       "      <td>NaN</td>\n",
       "      <td>0.012986</td>\n",
       "      <td>0.014026</td>\n",
       "      <td>0.008651</td>\n",
       "      <td>-0.000311</td>\n",
       "      <td>NaN</td>\n",
       "      <td>NaN</td>\n",
       "      <td>NaN</td>\n",
       "      <td>...</td>\n",
       "      <td>NaN</td>\n",
       "      <td>NaN</td>\n",
       "      <td>NaN</td>\n",
       "      <td>NaN</td>\n",
       "      <td>NaN</td>\n",
       "      <td>NaN</td>\n",
       "      <td>NaN</td>\n",
       "      <td>NaN</td>\n",
       "      <td>NaN</td>\n",
       "      <td>0.878239</td>\n",
       "    </tr>\n",
       "    <tr>\n",
       "      <th>1716263</th>\n",
       "      <td>NaN</td>\n",
       "      <td>NaN</td>\n",
       "      <td>NaN</td>\n",
       "      <td>0.014169</td>\n",
       "      <td>0.015249</td>\n",
       "      <td>-0.012540</td>\n",
       "      <td>-0.001676</td>\n",
       "      <td>NaN</td>\n",
       "      <td>NaN</td>\n",
       "      <td>NaN</td>\n",
       "      <td>...</td>\n",
       "      <td>NaN</td>\n",
       "      <td>NaN</td>\n",
       "      <td>NaN</td>\n",
       "      <td>NaN</td>\n",
       "      <td>NaN</td>\n",
       "      <td>NaN</td>\n",
       "      <td>NaN</td>\n",
       "      <td>NaN</td>\n",
       "      <td>NaN</td>\n",
       "      <td>-1.032102</td>\n",
       "    </tr>\n",
       "    <tr>\n",
       "      <th>1716267</th>\n",
       "      <td>NaN</td>\n",
       "      <td>NaN</td>\n",
       "      <td>NaN</td>\n",
       "      <td>0.009910</td>\n",
       "      <td>0.010822</td>\n",
       "      <td>0.003214</td>\n",
       "      <td>-0.001195</td>\n",
       "      <td>NaN</td>\n",
       "      <td>NaN</td>\n",
       "      <td>NaN</td>\n",
       "      <td>...</td>\n",
       "      <td>NaN</td>\n",
       "      <td>NaN</td>\n",
       "      <td>NaN</td>\n",
       "      <td>NaN</td>\n",
       "      <td>NaN</td>\n",
       "      <td>NaN</td>\n",
       "      <td>NaN</td>\n",
       "      <td>NaN</td>\n",
       "      <td>NaN</td>\n",
       "      <td>0.653493</td>\n",
       "    </tr>\n",
       "    <tr>\n",
       "      <th>1716269</th>\n",
       "      <td>-0.052882</td>\n",
       "      <td>-0.139854</td>\n",
       "      <td>-0.056121</td>\n",
       "      <td>NaN</td>\n",
       "      <td>-0.016438</td>\n",
       "      <td>-0.006862</td>\n",
       "      <td>-0.001291</td>\n",
       "      <td>NaN</td>\n",
       "      <td>NaN</td>\n",
       "      <td>NaN</td>\n",
       "      <td>...</td>\n",
       "      <td>NaN</td>\n",
       "      <td>NaN</td>\n",
       "      <td>NaN</td>\n",
       "      <td>NaN</td>\n",
       "      <td>NaN</td>\n",
       "      <td>NaN</td>\n",
       "      <td>NaN</td>\n",
       "      <td>NaN</td>\n",
       "      <td>NaN</td>\n",
       "      <td>0.316374</td>\n",
       "    </tr>\n",
       "    <tr>\n",
       "      <th>1716270</th>\n",
       "      <td>NaN</td>\n",
       "      <td>NaN</td>\n",
       "      <td>NaN</td>\n",
       "      <td>-0.037884</td>\n",
       "      <td>-0.038397</td>\n",
       "      <td>-0.008941</td>\n",
       "      <td>-0.001492</td>\n",
       "      <td>NaN</td>\n",
       "      <td>NaN</td>\n",
       "      <td>NaN</td>\n",
       "      <td>...</td>\n",
       "      <td>NaN</td>\n",
       "      <td>NaN</td>\n",
       "      <td>NaN</td>\n",
       "      <td>NaN</td>\n",
       "      <td>NaN</td>\n",
       "      <td>NaN</td>\n",
       "      <td>NaN</td>\n",
       "      <td>NaN</td>\n",
       "      <td>NaN</td>\n",
       "      <td>-1.256848</td>\n",
       "    </tr>\n",
       "  </tbody>\n",
       "</table>\n",
       "<p>646576 rows × 57 columns</p>\n",
       "</div>"
      ],
      "text/plain": [
       "         additives_n  ingredients_from_palm_oil_n  energy-kj_100g  \\\n",
       "4          -0.711746                    -0.139854       -0.053007   \n",
       "15               NaN                          NaN             NaN   \n",
       "24               NaN                          NaN             NaN   \n",
       "34               NaN                          NaN             NaN   \n",
       "38               NaN                          NaN             NaN   \n",
       "...              ...                          ...             ...   \n",
       "1716261          NaN                          NaN             NaN   \n",
       "1716263          NaN                          NaN             NaN   \n",
       "1716267          NaN                          NaN             NaN   \n",
       "1716269    -0.052882                    -0.139854       -0.056121   \n",
       "1716270          NaN                          NaN             NaN   \n",
       "\n",
       "         energy-kcal_100g  energy_100g  fat_100g  saturated-fat_100g  \\\n",
       "4                     NaN    -0.015797 -0.006382           -0.001500   \n",
       "15              -0.061308    -0.062512 -0.012700           -0.001668   \n",
       "24               0.021267     0.022530  0.004653           -0.000432   \n",
       "34              -0.031733    -0.032048 -0.012940           -0.001676   \n",
       "38              -0.035045    -0.035485 -0.002784           -0.001596   \n",
       "...                   ...          ...       ...                 ...   \n",
       "1716261          0.012986     0.014026  0.008651           -0.000311   \n",
       "1716263          0.014169     0.015249 -0.012540           -0.001676   \n",
       "1716267          0.009910     0.010822  0.003214           -0.001195   \n",
       "1716269               NaN    -0.016438 -0.006862           -0.001291   \n",
       "1716270         -0.037884    -0.038397 -0.008941           -0.001492   \n",
       "\n",
       "         monounsaturated-fat_100g  polyunsaturated-fat_100g  omega-3-fat_100g  \\\n",
       "4                             NaN                       NaN               NaN   \n",
       "15                            NaN                       NaN               NaN   \n",
       "24                            NaN                       NaN               NaN   \n",
       "34                            NaN                       NaN               NaN   \n",
       "38                            NaN                       NaN               NaN   \n",
       "...                           ...                       ...               ...   \n",
       "1716261                       NaN                       NaN               NaN   \n",
       "1716263                       NaN                       NaN               NaN   \n",
       "1716267                       NaN                       NaN               NaN   \n",
       "1716269                       NaN                       NaN               NaN   \n",
       "1716270                       NaN                       NaN               NaN   \n",
       "\n",
       "         ...  selenium_100g  chromium_100g  molybdenum_100g  iodine_100g  \\\n",
       "4        ...            NaN            NaN              NaN          NaN   \n",
       "15       ...            NaN            NaN              NaN          NaN   \n",
       "24       ...            NaN            NaN              NaN          NaN   \n",
       "34       ...            NaN            NaN              NaN          NaN   \n",
       "38       ...            NaN            NaN              NaN          NaN   \n",
       "...      ...            ...            ...              ...          ...   \n",
       "1716261  ...            NaN            NaN              NaN          NaN   \n",
       "1716263  ...            NaN            NaN              NaN          NaN   \n",
       "1716267  ...            NaN            NaN              NaN          NaN   \n",
       "1716269  ...            NaN            NaN              NaN          NaN   \n",
       "1716270  ...            NaN            NaN              NaN          NaN   \n",
       "\n",
       "         caffeine_100g  taurine_100g  ph_100g  fruits-vegetables-nuts_100g  \\\n",
       "4                  NaN           NaN      NaN                          NaN   \n",
       "15                 NaN           NaN      NaN                          NaN   \n",
       "24                 NaN           NaN      NaN                          NaN   \n",
       "34                 NaN           NaN      NaN                          NaN   \n",
       "38                 NaN           NaN      NaN                          NaN   \n",
       "...                ...           ...      ...                          ...   \n",
       "1716261            NaN           NaN      NaN                          NaN   \n",
       "1716263            NaN           NaN      NaN                          NaN   \n",
       "1716267            NaN           NaN      NaN                          NaN   \n",
       "1716269            NaN           NaN      NaN                          NaN   \n",
       "1716270            NaN           NaN      NaN                          NaN   \n",
       "\n",
       "         carbon-footprint_100g  nutrition-score-fr_100g  \n",
       "4                          NaN                 0.990612  \n",
       "15                         NaN                -0.919729  \n",
       "24                         NaN                 0.541120  \n",
       "34                         NaN                -1.256848  \n",
       "38                         NaN                -0.919729  \n",
       "...                        ...                      ...  \n",
       "1716261                    NaN                 0.878239  \n",
       "1716263                    NaN                -1.032102  \n",
       "1716267                    NaN                 0.653493  \n",
       "1716269                    NaN                 0.316374  \n",
       "1716270                    NaN                -1.256848  \n",
       "\n",
       "[646576 rows x 57 columns]"
      ]
     },
     "execution_count": 82,
     "metadata": {},
     "output_type": "execute_result"
    }
   ],
   "source": [
    "data.loc[:,float_var]"
   ]
  },
  {
   "cell_type": "code",
   "execution_count": null,
   "id": "fc670c9b",
   "metadata": {},
   "outputs": [],
   "source": [
    "data.iloc[(data[float_var].isna().sum(axis=0)==0)]"
   ]
  },
  {
   "cell_type": "code",
   "execution_count": null,
   "id": "4621e122",
   "metadata": {},
   "outputs": [],
   "source": [
    "tmp = df.groupby('product_name').fillna(method='ffill').\\\n",
    "                             fillna(method='bfill').\\\n",
    "                             drop_duplicates()\n",
    "                     \n"
   ]
  },
  {
   "cell_type": "code",
   "execution_count": 74,
   "id": "742dbaa1",
   "metadata": {},
   "outputs": [
    {
     "data": {
      "text/plain": [
       "additives_n                    False\n",
       "ingredients_from_palm_oil      False\n",
       "energy-kj_100g                 False\n",
       "energy-kcal_100g               False\n",
       "energy_100g                    False\n",
       "                               ...  \n",
       "ph_100g                        False\n",
       "fruits-vegetables-nuts_100g    False\n",
       "carbon-footprint_100g          False\n",
       "nutrition-score-fr_100g         True\n",
       "nutrition-score-uk_100g        False\n",
       "Length: 61, dtype: bool"
      ]
     },
     "execution_count": 74,
     "metadata": {},
     "output_type": "execute_result"
    }
   ],
   "source": [
    "data[float_var].isna().sum(axis=0)==0"
   ]
  },
  {
   "cell_type": "code",
   "execution_count": null,
   "id": "13e239ba",
   "metadata": {},
   "outputs": [],
   "source": []
  },
  {
   "cell_type": "code",
   "execution_count": null,
   "id": "2fe868c0",
   "metadata": {},
   "outputs": [],
   "source": []
  },
  {
   "cell_type": "code",
   "execution_count": null,
   "id": "c04d3e35",
   "metadata": {},
   "outputs": [],
   "source": [
    "float_var = list_from_data_field.list_of_nutri_facts\n",
    "float_var += [\"additives_n\", \"ingredients_from_palm_oil\",\"ingredients_from_palm_oil_n\"]\n",
    "float_var = df.columns.intersection(float_var).values\n",
    "\n",
    "product = products.iloc[1]\n",
    "product_index =  data[data.product_name == product].index\n",
    "if len(product_index) > 1 : \n",
    "    product_values = data.loc[product_index,(data.loc[product_index].notna().sum()>=1)]\n",
    "#     meth 1 \n",
    "    product_mean = product_values[product_values.columns.intersection(float_var)].mean()\n",
    "    product_std = product_values[product_values.columns.intersection(float_var)].std()\n",
    "    to_merge = ((product_mean - product_std) - product_values < 0) | (product_values - (product_mean - product_std) < 0)\n",
    "    # to_merge.sum().sum()/to_merge.shape[1]\n",
    "    product_diff = product_values[product_values.columns.intersection(float_var)].diff()#.iloc[1:]\n",
    "    print(abs(product_diff/product_values.mean()).mean().mean())"
   ]
  },
  {
   "cell_type": "code",
   "execution_count": null,
   "id": "250e2361",
   "metadata": {},
   "outputs": [],
   "source": [
    "float_var = list_from_data_field.list_of_nutri_facts\n",
    "float_var += [\"additives_n\", \"ingredients_from_palm_oil\",\"ingredients_from_palm_oil_n\"]\n",
    "float_var = df.columns.intersection(float_var).values\n",
    "\n",
    "data = df.copy()\n",
    "products = data[\"product_name\"].drop_duplicates()\n",
    "for product in products : \n",
    "    product_index =  data[data.product_name == product].index\n",
    "    if len(product_index) > 1 : \n",
    "        product_values = data.loc[product_index,(data.loc[product_index].notna().sum()>=1)]\n",
    "    #     meth 1 \n",
    "        product_mean = product_values[product_values.columns.intersection(float_var)].mean()\n",
    "        product_std = product_values[product_values.columns.intersection(float_var)].std()\n",
    "        to_merge = ((product_mean - product_std) - product_values < 0) | (product_values - (product_mean - product_std) < 0)\n",
    "        # to_merge.sum().sum()/to_merge.shape[1]\n"
   ]
  },
  {
   "cell_type": "code",
   "execution_count": null,
   "id": "9fce2555",
   "metadata": {},
   "outputs": [],
   "source": [
    "product_diff"
   ]
  },
  {
   "cell_type": "code",
   "execution_count": null,
   "id": "6e7a20e9",
   "metadata": {
    "scrolled": true
   },
   "outputs": [],
   "source": [
    "float_var = list_from_data_field.list_of_nutri_facts\n",
    "float_var += [\"additives_n\", \"ingredients_from_palm_oil\",\"ingredients_from_palm_oil_n\"]\n",
    "float_var = df.columns.intersection(float_var).values\n",
    "\n",
    "import missing_values_treatment\n",
    "##\n",
    "## from the hyp that the variable has been entered in mg instead of g -> rescale \n",
    "##\n",
    "df = missing_values_treatment.rescale_outliers100g_val(df)\n",
    "\n",
    "##\n",
    "## drop outliers values and drop product/variables with too many NaNs\n",
    "##\n",
    "df = missing_values_treatment.drop_outliers(df)\n",
    "df.shape"
   ]
  },
  {
   "cell_type": "code",
   "execution_count": null,
   "id": "fde255c3",
   "metadata": {},
   "outputs": [],
   "source": []
  },
  {
   "cell_type": "code",
   "execution_count": null,
   "id": "34b04f17",
   "metadata": {},
   "outputs": [],
   "source": [
    "nb_line_plot = int(np.floor(len(float_var)/2)+1)\n",
    "fig = plt.figure(figsize=(16, 100))\n",
    "\n",
    "fig_count = 1\n",
    "for var in df.columns.intersection(float_var) :#data.columns.intersection(list_of_nutri_facts):\n",
    "    ax = fig.add_subplot(nb_line_plot,2, fig_count)\n",
    "    nb_bins = min(20, len(np.unique(df[var].dropna().values)))\n",
    "    ax.hist(df[var], bins = nb_bins, color='steelblue', density=True, edgecolor='none')\n",
    "    ax.set_title(var)\n",
    "    fig_count += 1\n",
    "plt.show()"
   ]
  },
  {
   "cell_type": "code",
   "execution_count": null,
   "id": "140f87b1",
   "metadata": {
    "scrolled": true
   },
   "outputs": [],
   "source": [
    "data = df.copy()\n",
    "colname = \"additives_n\"\n",
    "possible_vals = possible_val_dict[colname]\n",
    "\n",
    "\n",
    "help_to_set_outliers_vals(data, colname, possible_vals)"
   ]
  },
  {
   "cell_type": "code",
   "execution_count": null,
   "id": "5245e73e",
   "metadata": {},
   "outputs": [],
   "source": []
  },
  {
   "cell_type": "code",
   "execution_count": null,
   "id": "7dcb238e",
   "metadata": {},
   "outputs": [],
   "source": []
  },
  {
   "cell_type": "code",
   "execution_count": null,
   "id": "b3583fb2",
   "metadata": {},
   "outputs": [],
   "source": []
  },
  {
   "cell_type": "code",
   "execution_count": null,
   "id": "8c37692d",
   "metadata": {},
   "outputs": [],
   "source": [
    "import list_from_data_field\n",
    "float_var = list_from_data_field.list_of_characteristics "
   ]
  },
  {
   "cell_type": "markdown",
   "id": "56feb6c5",
   "metadata": {},
   "source": [
    "floa"
   ]
  },
  {
   "cell_type": "code",
   "execution_count": null,
   "id": "fe4ccdd4",
   "metadata": {},
   "outputs": [],
   "source": [
    "def merge_palm_oil_cols(data):\n",
    "    if \"ingredients_from_palm_oil_n\" in data.columns :\n",
    "        data.at[data[\"ingredients_from_palm_oil_n\"] > 0, \"ingredients_from_palm_oil_n\"] = 1\n",
    "        if (\"ingredients_from_palm_oil\" in data.columns) :\n",
    "            data['ingredients_from_palm_oil'].fillna(data['ingredients_from_palm_oil_n'], inplace=True)\n",
    "            data.drop(\"ingredients_from_palm_oil_n\", inplace = True, axis = 1)\n",
    "        else :\n",
    "             data.rename(columns={\"ingredients_from_palm_oil_n\":\"ingredients_from_palm_oil\"}, inplace=True)\n",
    "        data[\"ingredients_from_palm_oil\"] = data[\"ingredients_from_palm_oil\"].astype(\"float\")\n",
    "    return(data)"
   ]
  }
 ],
 "metadata": {
  "kernelspec": {
   "display_name": "openclassroom",
   "language": "python",
   "name": "openclassroom"
  },
  "language_info": {
   "codemirror_mode": {
    "name": "ipython",
    "version": 3
   },
   "file_extension": ".py",
   "mimetype": "text/x-python",
   "name": "python",
   "nbconvert_exporter": "python",
   "pygments_lexer": "ipython3",
   "version": "3.8.6"
  }
 },
 "nbformat": 4,
 "nbformat_minor": 5
}
