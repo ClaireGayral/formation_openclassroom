{
 "cells": [
  {
   "cell_type": "markdown",
   "metadata": {},
   "source": [
    "# Cleanning notebook "
   ]
  },
  {
   "cell_type": "markdown",
   "metadata": {},
   "source": [
    "Let's first call the libraries I'll use : "
   ]
  },
  {
   "cell_type": "code",
   "execution_count": 1,
   "metadata": {},
   "outputs": [],
   "source": [
    "data_path = \"/home/clairegayral/Documents/openclassroom/data/\"\n",
    "\n",
    "# On importe les librairies dont on aura besoin pour ce tp\n",
    "import numpy as np\n",
    "import pandas as pd\n",
    "## plot : \n",
    "import matplotlib\n",
    "import matplotlib.pyplot as plt\n",
    "matplotlib.rcParams['figure.figsize'] = [15, 5]\n",
    "## stat / model : \n",
    "from sklearn.model_selection import train_test_split\n",
    "\n",
    "import itertools as IT"
   ]
  },
  {
   "cell_type": "markdown",
   "metadata": {},
   "source": [
    "# 1. Import data : \n",
    "\n",
    "I have decided to extract the data labeled with the french nutriscore, to set a cleanning method and then decide the application I want to propose. I have in a first place look at a small subset extracted with the website interface, then I downloaded the big data they propose ($10^6$ products). \n",
    "\n",
    "- [ ] **Afterwards I would like to fetch from their json API.**"
   ]
  },
  {
   "cell_type": "code",
   "execution_count": 2,
   "metadata": {},
   "outputs": [],
   "source": [
    "# ## \n",
    "# ## SMALL DATA SET (calories > 0)\n",
    "# ##\n",
    "\n",
    "# filename = data_path+\"openfoodfacts_with_cholesterol.csv\"\n",
    "# df = pd.read_csv(filename,\"\\t\")"
   ]
  },
  {
   "cell_type": "code",
   "execution_count": 3,
   "metadata": {},
   "outputs": [
    {
     "name": "stdout",
     "output_type": "stream",
     "text": [
      "Number of products in the csv : 1716277\n",
      "Number of variables :  184\n",
      "Number of product selected :  646577\n"
     ]
    }
   ],
   "source": [
    "##\n",
    "## THE BIG DATA SET :\n",
    "##\n",
    "\n",
    "filename = data_path+\"en.openfoodfacts.org.products.csv\"\n",
    "\n",
    "# GET THE NUMBER OF LINES : \n",
    "# bash code : cat en.openfoodfacts.org.products.csv | wc -l\n",
    "# pandas (long to run) : print(pd.read_csv(filename, sep = \"\\t\", usecols = [\"code\"],dtype = \"str\", squeeze=True))\n",
    "with open(filename) as f:\n",
    "    print(\"Number of products in the csv :\", len(f.readlines())-1)\n",
    "\n",
    "## GET INDEX OF NUTRI SCORE IN COLUMNS : \n",
    "tmp = pd.read_csv(filename, sep = \"\\t\", nrows = 1).columns\n",
    "col_index = np.where(tmp==\"nutrition-score-fr_100g\")[0][0]\n",
    "col_index\n",
    "\n",
    "## OPEN FILE WITH ITERATOR CHUNKS SELECTING ROWS WITH INFO ON col_index : :\n",
    "def valid(chunks):\n",
    "    for chunk in chunks:\n",
    "        mask = ~chunk.iloc[:,col_index].isna().values\n",
    "        yield chunk.loc[mask]            \n",
    "chunksize = 10 ** 4\n",
    "chunks = pd.read_csv(filename, sep = \"\\t\", low_memory=False, chunksize=chunksize, header=None)\n",
    "df_original = pd.concat(valid(chunks))\n",
    "print(\"Number of variables : \", df_original.shape[1])\n",
    "print(\"Number of product selected : \", df_original.shape[0])"
   ]
  },
  {
   "cell_type": "markdown",
   "metadata": {},
   "source": [
    "The chunk method does not allow to set header, so let's do it : "
   ]
  },
  {
   "cell_type": "code",
   "execution_count": 4,
   "metadata": {
    "scrolled": true
   },
   "outputs": [
    {
     "data": {
      "text/html": [
       "<div>\n",
       "<style scoped>\n",
       "    .dataframe tbody tr th:only-of-type {\n",
       "        vertical-align: middle;\n",
       "    }\n",
       "\n",
       "    .dataframe tbody tr th {\n",
       "        vertical-align: top;\n",
       "    }\n",
       "\n",
       "    .dataframe thead th {\n",
       "        text-align: right;\n",
       "    }\n",
       "</style>\n",
       "<table border=\"1\" class=\"dataframe\">\n",
       "  <thead>\n",
       "    <tr style=\"text-align: right;\">\n",
       "      <th></th>\n",
       "      <th>code</th>\n",
       "      <th>url</th>\n",
       "      <th>creator</th>\n",
       "      <th>created_t</th>\n",
       "      <th>created_datetime</th>\n",
       "      <th>last_modified_t</th>\n",
       "      <th>last_modified_datetime</th>\n",
       "      <th>product_name</th>\n",
       "      <th>abbreviated_product_name</th>\n",
       "      <th>generic_name</th>\n",
       "      <th>...</th>\n",
       "      <th>carbon-footprint-from-meat-or-fish_100g</th>\n",
       "      <th>nutrition-score-fr_100g</th>\n",
       "      <th>nutrition-score-uk_100g</th>\n",
       "      <th>glycemic-index_100g</th>\n",
       "      <th>water-hardness_100g</th>\n",
       "      <th>choline_100g</th>\n",
       "      <th>phylloquinone_100g</th>\n",
       "      <th>beta-glucan_100g</th>\n",
       "      <th>inositol_100g</th>\n",
       "      <th>carnitine_100g</th>\n",
       "    </tr>\n",
       "  </thead>\n",
       "  <tbody>\n",
       "    <tr>\n",
       "      <th>4</th>\n",
       "      <td>0000000000100</td>\n",
       "      <td>http://world-en.openfoodfacts.org/product/0000...</td>\n",
       "      <td>del51</td>\n",
       "      <td>1444572561</td>\n",
       "      <td>2015-10-11T14:09:21Z</td>\n",
       "      <td>1444659212</td>\n",
       "      <td>2015-10-12T14:13:32Z</td>\n",
       "      <td>moutarde au moût de raisin</td>\n",
       "      <td>NaN</td>\n",
       "      <td>NaN</td>\n",
       "      <td>...</td>\n",
       "      <td>NaN</td>\n",
       "      <td>18</td>\n",
       "      <td>NaN</td>\n",
       "      <td>NaN</td>\n",
       "      <td>NaN</td>\n",
       "      <td>NaN</td>\n",
       "      <td>NaN</td>\n",
       "      <td>NaN</td>\n",
       "      <td>NaN</td>\n",
       "      <td>NaN</td>\n",
       "    </tr>\n",
       "    <tr>\n",
       "      <th>15</th>\n",
       "      <td>0000000000949</td>\n",
       "      <td>http://world-en.openfoodfacts.org/product/0000...</td>\n",
       "      <td>kiliweb</td>\n",
       "      <td>1523440813</td>\n",
       "      <td>2018-04-11T10:00:13Z</td>\n",
       "      <td>1565268412</td>\n",
       "      <td>2019-08-08T12:46:52Z</td>\n",
       "      <td>Salade de carottes râpées</td>\n",
       "      <td>NaN</td>\n",
       "      <td>NaN</td>\n",
       "      <td>...</td>\n",
       "      <td>NaN</td>\n",
       "      <td>1</td>\n",
       "      <td>NaN</td>\n",
       "      <td>NaN</td>\n",
       "      <td>NaN</td>\n",
       "      <td>NaN</td>\n",
       "      <td>NaN</td>\n",
       "      <td>NaN</td>\n",
       "      <td>NaN</td>\n",
       "      <td>NaN</td>\n",
       "    </tr>\n",
       "  </tbody>\n",
       "</table>\n",
       "<p>2 rows × 184 columns</p>\n",
       "</div>"
      ],
      "text/plain": [
       "0            code                                                url  creator  \\\n",
       "4   0000000000100  http://world-en.openfoodfacts.org/product/0000...    del51   \n",
       "15  0000000000949  http://world-en.openfoodfacts.org/product/0000...  kiliweb   \n",
       "\n",
       "0    created_t      created_datetime last_modified_t last_modified_datetime  \\\n",
       "4   1444572561  2015-10-11T14:09:21Z      1444659212   2015-10-12T14:13:32Z   \n",
       "15  1523440813  2018-04-11T10:00:13Z      1565268412   2019-08-08T12:46:52Z   \n",
       "\n",
       "0                   product_name abbreviated_product_name generic_name  ...  \\\n",
       "4    moutarde au moût de raisin                       NaN          NaN  ...   \n",
       "15     Salade de carottes râpées                      NaN          NaN  ...   \n",
       "\n",
       "0  carbon-footprint-from-meat-or-fish_100g nutrition-score-fr_100g  \\\n",
       "4                                      NaN                      18   \n",
       "15                                     NaN                       1   \n",
       "\n",
       "0  nutrition-score-uk_100g glycemic-index_100g water-hardness_100g  \\\n",
       "4                      NaN                 NaN                 NaN   \n",
       "15                     NaN                 NaN                 NaN   \n",
       "\n",
       "0  choline_100g phylloquinone_100g beta-glucan_100g inositol_100g  \\\n",
       "4           NaN                NaN              NaN           NaN   \n",
       "15          NaN                NaN              NaN           NaN   \n",
       "\n",
       "0  carnitine_100g  \n",
       "4             NaN  \n",
       "15            NaN  \n",
       "\n",
       "[2 rows x 184 columns]"
      ]
     },
     "execution_count": 4,
     "metadata": {},
     "output_type": "execute_result"
    }
   ],
   "source": [
    "df = df_original.drop(0, axis=0)\n",
    "df.columns = df_original.loc[0,:]\n",
    "n = df.shape[0]\n",
    "df.head(2)"
   ]
  },
  {
   "cell_type": "markdown",
   "metadata": {
    "variables": {
     "df.shape[0]": "646576"
    }
   },
   "source": [
    "The data is huge ({{df.shape[0]}} products).\n",
    "Let's first work on a sample of size 10 000, and then comment this part : "
   ]
  },
  {
   "cell_type": "code",
   "execution_count": 5,
   "metadata": {},
   "outputs": [
    {
     "data": {
      "text/plain": [
       "(10000, 184)"
      ]
     },
     "execution_count": 5,
     "metadata": {},
     "output_type": "execute_result"
    }
   ],
   "source": [
    "df = df.sample(10000, replace = False)\n",
    "df.shape"
   ]
  },
  {
   "cell_type": "markdown",
   "metadata": {},
   "source": [
    "## 1.1 Drop Missing values : \n",
    "Let's remove the variables with too much NaN. First, I remove the columns filled with NaNs (there is no information in them). \n",
    "\n",
    "Then, I have chosen to keep the 1st quantile value of the number of NaNs in each variables : \n",
    "* if the variable has less NaNs than this quantile, I will estimate the missing value with KNN procedure, \n",
    "* else, I drop the corresponding column. "
   ]
  },
  {
   "cell_type": "code",
   "execution_count": 6,
   "metadata": {},
   "outputs": [
    {
     "name": "stdout",
     "output_type": "stream",
     "text": [
      "There are  0 variables without any information (all NaNs)\n",
      "I drop variables with more than 7235.135869565217 NaNs\n"
     ]
    },
    {
     "data": {
      "text/html": [
       "<div>\n",
       "<style scoped>\n",
       "    .dataframe tbody tr th:only-of-type {\n",
       "        vertical-align: middle;\n",
       "    }\n",
       "\n",
       "    .dataframe tbody tr th {\n",
       "        vertical-align: top;\n",
       "    }\n",
       "\n",
       "    .dataframe thead th {\n",
       "        text-align: right;\n",
       "    }\n",
       "</style>\n",
       "<table border=\"1\" class=\"dataframe\">\n",
       "  <thead>\n",
       "    <tr style=\"text-align: right;\">\n",
       "      <th></th>\n",
       "      <th>code</th>\n",
       "      <th>url</th>\n",
       "      <th>creator</th>\n",
       "      <th>created_t</th>\n",
       "      <th>created_datetime</th>\n",
       "      <th>last_modified_t</th>\n",
       "      <th>last_modified_datetime</th>\n",
       "      <th>product_name</th>\n",
       "      <th>quantity</th>\n",
       "      <th>packaging</th>\n",
       "      <th>...</th>\n",
       "      <th>sugars_100g</th>\n",
       "      <th>fiber_100g</th>\n",
       "      <th>proteins_100g</th>\n",
       "      <th>salt_100g</th>\n",
       "      <th>sodium_100g</th>\n",
       "      <th>vitamin-a_100g</th>\n",
       "      <th>vitamin-c_100g</th>\n",
       "      <th>calcium_100g</th>\n",
       "      <th>iron_100g</th>\n",
       "      <th>nutrition-score-fr_100g</th>\n",
       "    </tr>\n",
       "  </thead>\n",
       "  <tbody>\n",
       "    <tr>\n",
       "      <th>count</th>\n",
       "      <td>10000</td>\n",
       "      <td>10000</td>\n",
       "      <td>10000</td>\n",
       "      <td>10000</td>\n",
       "      <td>10000</td>\n",
       "      <td>10000</td>\n",
       "      <td>10000</td>\n",
       "      <td>9972</td>\n",
       "      <td>3922</td>\n",
       "      <td>3021</td>\n",
       "      <td>...</td>\n",
       "      <td>9976.0</td>\n",
       "      <td>5842.0</td>\n",
       "      <td>9976.0</td>\n",
       "      <td>9986.0</td>\n",
       "      <td>9986.0</td>\n",
       "      <td>2785.0</td>\n",
       "      <td>2850.0</td>\n",
       "      <td>3631.0</td>\n",
       "      <td>3565.0</td>\n",
       "      <td>10000.0</td>\n",
       "    </tr>\n",
       "    <tr>\n",
       "      <th>unique</th>\n",
       "      <td>10000</td>\n",
       "      <td>10000</td>\n",
       "      <td>609</td>\n",
       "      <td>9909</td>\n",
       "      <td>9907</td>\n",
       "      <td>9853</td>\n",
       "      <td>9852</td>\n",
       "      <td>9393</td>\n",
       "      <td>1032</td>\n",
       "      <td>1454</td>\n",
       "      <td>...</td>\n",
       "      <td>1541.0</td>\n",
       "      <td>283.0</td>\n",
       "      <td>1161.0</td>\n",
       "      <td>1473.0</td>\n",
       "      <td>1440.0</td>\n",
       "      <td>437.0</td>\n",
       "      <td>298.0</td>\n",
       "      <td>397.0</td>\n",
       "      <td>486.0</td>\n",
       "      <td>78.0</td>\n",
       "    </tr>\n",
       "    <tr>\n",
       "      <th>top</th>\n",
       "      <td>96619757572</td>\n",
       "      <td>http://world-en.openfoodfacts.org/product/0032...</td>\n",
       "      <td>kiliweb</td>\n",
       "      <td>1587669975</td>\n",
       "      <td>2020-04-23T19:26:15Z</td>\n",
       "      <td>1614416584</td>\n",
       "      <td>2021-02-27T09:03:04Z</td>\n",
       "      <td>Aceite de oliva virgen extra</td>\n",
       "      <td>250 g</td>\n",
       "      <td>Kunststoff</td>\n",
       "      <td>...</td>\n",
       "      <td>0.0</td>\n",
       "      <td>0.0</td>\n",
       "      <td>0.0</td>\n",
       "      <td>0.0</td>\n",
       "      <td>0.0</td>\n",
       "      <td>0.0</td>\n",
       "      <td>0.0</td>\n",
       "      <td>0.0</td>\n",
       "      <td>0.0</td>\n",
       "      <td>14.0</td>\n",
       "    </tr>\n",
       "    <tr>\n",
       "      <th>freq</th>\n",
       "      <td>1</td>\n",
       "      <td>1</td>\n",
       "      <td>3674</td>\n",
       "      <td>3</td>\n",
       "      <td>3</td>\n",
       "      <td>4</td>\n",
       "      <td>4</td>\n",
       "      <td>14</td>\n",
       "      <td>171</td>\n",
       "      <td>90</td>\n",
       "      <td>...</td>\n",
       "      <td>1425.0</td>\n",
       "      <td>1772.0</td>\n",
       "      <td>1019.0</td>\n",
       "      <td>1141.0</td>\n",
       "      <td>1141.0</td>\n",
       "      <td>1593.0</td>\n",
       "      <td>1770.0</td>\n",
       "      <td>1121.0</td>\n",
       "      <td>1043.0</td>\n",
       "      <td>537.0</td>\n",
       "    </tr>\n",
       "  </tbody>\n",
       "</table>\n",
       "<p>4 rows × 64 columns</p>\n",
       "</div>"
      ],
      "text/plain": [
       "0              code                                                url  \\\n",
       "count         10000                                              10000   \n",
       "unique        10000                                              10000   \n",
       "top     96619757572  http://world-en.openfoodfacts.org/product/0032...   \n",
       "freq              1                                                  1   \n",
       "\n",
       "0       creator   created_t      created_datetime  last_modified_t  \\\n",
       "count     10000       10000                 10000            10000   \n",
       "unique      609        9909                  9907             9853   \n",
       "top     kiliweb  1587669975  2020-04-23T19:26:15Z       1614416584   \n",
       "freq       3674           3                     3                4   \n",
       "\n",
       "0      last_modified_datetime                  product_name quantity  \\\n",
       "count                   10000                          9972     3922   \n",
       "unique                   9852                          9393     1032   \n",
       "top      2021-02-27T09:03:04Z  Aceite de oliva virgen extra    250 g   \n",
       "freq                        4                            14      171   \n",
       "\n",
       "0        packaging  ... sugars_100g fiber_100g proteins_100g salt_100g  \\\n",
       "count         3021  ...      9976.0     5842.0        9976.0    9986.0   \n",
       "unique        1454  ...      1541.0      283.0        1161.0    1473.0   \n",
       "top     Kunststoff  ...         0.0        0.0           0.0       0.0   \n",
       "freq            90  ...      1425.0     1772.0        1019.0    1141.0   \n",
       "\n",
       "0      sodium_100g vitamin-a_100g vitamin-c_100g calcium_100g iron_100g  \\\n",
       "count       9986.0         2785.0         2850.0       3631.0    3565.0   \n",
       "unique      1440.0          437.0          298.0        397.0     486.0   \n",
       "top            0.0            0.0            0.0          0.0       0.0   \n",
       "freq        1141.0         1593.0         1770.0       1121.0    1043.0   \n",
       "\n",
       "0      nutrition-score-fr_100g  \n",
       "count                  10000.0  \n",
       "unique                    78.0  \n",
       "top                       14.0  \n",
       "freq                     537.0  \n",
       "\n",
       "[4 rows x 64 columns]"
      ]
     },
     "execution_count": 6,
     "metadata": {},
     "output_type": "execute_result"
    }
   ],
   "source": [
    "##\n",
    "## TACKLE MISSING VALUES 1 (drop col)\n",
    "##\n",
    "\n",
    "## DROP COL FILLED WITH NANs\n",
    "df = df.loc[:,df.isna().sum(axis=0)<n]\n",
    "print(\"There are \", sum(df.isna().sum(axis=0)==n), \"variables without any information (all NaNs)\")\n",
    "\n",
    "## DROP COL WITH MORE NANs THAN THE MEAN/1st QUANTILE :\n",
    "nan_repartition = df.isna().sum(axis=0)\n",
    "# nan_threshold = nan_repartition.quantile(0.25)\n",
    "nan_threshold = nan_repartition.mean()\n",
    "print(\"I drop variables with more than\", nan_threshold, \"NaNs\")\n",
    "df = df.drop(df.columns[nan_repartition>nan_threshold], axis = 1)\n",
    "df.describe()"
   ]
  },
  {
   "cell_type": "markdown",
   "metadata": {},
   "source": [
    "## 1.2 Exploration of the different values :\n",
    "\n",
    "Then, I used the description data in https://world.openfoodfacts.org/data/data-fields.txt, to separate the global data frame into sub-frames. \n",
    "Note : to transform the .txt into these lists of variables, I used the bash command : \n",
    "\n",
    "    cat data-fields.txt | cut -d \" \" -f 1 | sed s/://g | sed s/\\$/\\\",/g | sed s/\\^/\\\"/g > data_fields2.txt"
   ]
  },
  {
   "cell_type": "code",
   "execution_count": 7,
   "metadata": {},
   "outputs": [],
   "source": [
    "# USE BASH cat data-fields.txt | cut -d \" \" -f 1 | sed s/://g | sed s/\\$/\\\",/g | sed s/\\^/\\\"/g > data_fields2.txt\n",
    "list_of_characteristics = [\"code\",\"url\",\"creator\",\"created_t\",\"created_datetime\",\"last_modified_t\",\n",
    "                           \"last_modified_datetime\",\"product_name\",\"generic_name\",\"quantity\"]\n",
    "list_of_tags = [\"packaging\", \"packaging_tags\", \"brands\", \"brands_tags\", \"categories\",\n",
    "                \"categories_tags\", \"categories_fr\",\"origins\", \"origins_tags\",\"manufacturing_places\",\n",
    "                \"manufacturing_places_tags\", \"labels\", \"labels_tags\", \"labels_fr\", \"emb_codes\", \n",
    "                \"emb_codes_tags\", \"first_packaging_code_geo\", \"cities\", \"cities_tags\", \n",
    "                \"purchase_places\", \"stores\", \"countries\", \"countries_tags\", \"countries_fr\"]\n",
    "list_of_ingredients = [\"ingredients_text\", \"traces\", \"traces_tags\"]\n",
    "list_of_misc = [\"serving_size\", \"no_nutriments\", \"additives_n\", \"additives\", \"additives_tags\", \n",
    "                \"ingredients_from_palm_oil_n\", \"ingredients_from_palm_oil\", \n",
    "                \"ingredients_from_palm_oil_tags\", \"ingredients_that_may_be_from_palm_oil_n\", \n",
    "                \"ingredients_that_may_be_from_palm_oil\", \"ingredients_that_may_be_from_palm_oil_tags\", \n",
    "                \"nutrition_grade_fr\", \"main_category\", \"main_category_fr\", \"image_url\", \n",
    "                \"image_small_url\"]\n",
    "list_of_nutri_facts = [\"energy_100g\",\"energy-kj_100g\",\"energy-kcal_100g\",\"proteins_100g\",\"casein_100g\",\n",
    "                       \"serum-proteins_100g\",\"nucleotides_100g\",\"carbohydrates_100g\",\"sugars_100g\",\n",
    "                       \"sucrose_100g\",\"glucose_100g\",\"fructose_100g\",\"lactose_100g\",\"maltose_100g\",\n",
    "                       \"maltodextrins_100g\",\"starch_100g\",\"polyols_100g\",\"fat_100g\",\"saturated-fat_100g\",\n",
    "                       \"butyric-acid_100g\",\"caproic-acid_100g\",\"caprylic-acid_100g\",\"capric-acid_100g\",\n",
    "                       \"lauric-acid_100g\",\"myristic-acid_100g\",\"palmitic-acid_100g\",\"stearic-acid_100g\",\n",
    "                       \"arachidic-acid_100g\",\"behenic-acid_100g\",\"lignoceric-acid_100g\",\"cerotic-acid_100g\",\n",
    "                       \"montanic-acid_100g\",\"melissic-acid_100g\",\"monounsaturated-fat_100g\",\n",
    "                       \"polyunsaturated-fat_100g\",\"omega-3-fat_100g\",\"alpha-linolenic-acid_100g\",\n",
    "                       \"eicosapentaenoic-acid_100g\",\"docosahexaenoic-acid_100g\",\"omega-6-fat_100g\",\n",
    "                       \"linoleic-acid_100g\",\"arachidonic-acid_100g\",\"gamma-linolenic-acid_100g\",\n",
    "                       \"dihomo-gamma-linolenic-acid_100g\",\"omega-9-fat_100g\",\"oleic-acid_100g\",\n",
    "                       \"elaidic-acid_100g\",\"gondoic-acid_100g\",\"mead-acid_100g\",\"erucic-acid_100g\",\n",
    "                       \"nervonic-acid_100g\",\"trans-fat_100g\",\"cholesterol_100g\",\"fiber_100g\",\"sodium_100g\",\n",
    "                       \"alcohol_100g\",\"vitamin-a_100g\",\"vitamin-d_100g\",\"vitamin-e_100g\",\"vitamin-k_100g\",\n",
    "                       \"vitamin-c_100g\",\"vitamin-b1_100g\",\"vitamin-b2_100g\",\"vitamin-pp_100g\",\n",
    "                       \"vitamin-b6_100g\",\"vitamin-b9_100g\",\"vitamin-b12_100g\",\"biotin_100g\",\n",
    "                       \"pantothenic-acid_100g\",\"silica_100g\",\"bicarbonate_100g\",\"potassium_100g\",\n",
    "                       \"chloride_100g\",\"calcium_100g\",\"phosphorus_100g\",\"iron_100g\",\"magnesium_100g\",\n",
    "                       \"zinc_100g\",\"copper_100g\",\"manganese_100g\",\"fluoride_100g\",\"selenium_100g\",\n",
    "                       \"chromium_100g\",\"molybdenum_100g\",\"iodine_100g\",\"caffeine_100g\",\"taurine_100g\",\n",
    "                       \"ph_100g\",\"fruits-vegetables-nuts_100g\",\"carbon-footprint_100g\",\n",
    "                       \"nutrition-score-fr_100g\",\"nutrition-score-uk_100g\"]"
   ]
  },
  {
   "cell_type": "markdown",
   "metadata": {},
   "source": [
    "Then I used this partition to explore the data : these category allowed me to have an idea of the values of each variable in one hand and to determine the good type of each variable (set just after). I used the following functionm changing the category of the varibles. To ease the re-utilisation of this code, I commented the different possibilities : "
   ]
  },
  {
   "cell_type": "code",
   "execution_count": 8,
   "metadata": {
    "scrolled": true
   },
   "outputs": [
    {
     "name": "stdout",
     "output_type": "stream",
     "text": [
      "-- energy_100g\n",
      "ex of values =  [184.0 1987.0 1494.0 1063.0 176.0 975.0 1146.0 197.0]\n",
      "-- energy-kj_100g  : no data\n",
      "-- energy-kcal_100g\n",
      "ex of values =  [51.0 377.0 119.0 48.0 43.0 92.0 104.0 372.0]\n",
      "-- proteins_100g\n",
      "ex of values =  [6.0 7.5 46.43 13.5 6.6 0.83 5.88 0.9]\n",
      "-- casein_100g  : no data\n",
      "-- serum-proteins_100g  : no data\n",
      "-- nucleotides_100g  : no data\n",
      "-- carbohydrates_100g\n",
      "ex of values =  [77.42 93.33 48.0 4.9 2.9 19.7 49.7 9.0]\n",
      "-- sugars_100g\n",
      "ex of values =  [0.88 3.33 64.8 10.9 0.0 6.5 8.7 1.4]\n",
      "-- sucrose_100g  : no data\n",
      "-- glucose_100g  : no data\n",
      "-- fructose_100g  : no data\n",
      "-- lactose_100g  : no data\n",
      "-- maltose_100g  : no data\n",
      "-- maltodextrins_100g  : no data\n",
      "-- starch_100g  : no data\n",
      "-- polyols_100g  : no data\n",
      "-- fat_100g\n",
      "ex of values =  [67.0 0.0 5.71 12.0 5.0 26.0 11.11 0.1]\n",
      "-- saturated-fat_100g\n",
      "ex of values =  [0.0 3.33 1.1 10.7 0.62 10.5 9.7 17.95]\n",
      "-- butyric-acid_100g  : no data\n",
      "-- caproic-acid_100g  : no data\n",
      "-- caprylic-acid_100g  : no data\n",
      "-- capric-acid_100g  : no data\n",
      "-- lauric-acid_100g  : no data\n",
      "-- myristic-acid_100g  : no data\n",
      "-- palmitic-acid_100g  : no data\n",
      "-- stearic-acid_100g  : no data\n",
      "-- arachidic-acid_100g  : no data\n",
      "-- behenic-acid_100g  : no data\n",
      "-- lignoceric-acid_100g  : no data\n",
      "-- cerotic-acid_100g  : no data\n",
      "-- montanic-acid_100g  : no data\n",
      "-- melissic-acid_100g  : no data\n",
      "-- monounsaturated-fat_100g  : no data\n",
      "-- polyunsaturated-fat_100g  : no data\n",
      "-- omega-3-fat_100g  : no data\n",
      "-- alpha-linolenic-acid_100g  : no data\n",
      "-- eicosapentaenoic-acid_100g  : no data\n",
      "-- docosahexaenoic-acid_100g  : no data\n",
      "-- omega-6-fat_100g  : no data\n",
      "-- linoleic-acid_100g  : no data\n",
      "-- arachidonic-acid_100g  : no data\n",
      "-- gamma-linolenic-acid_100g  : no data\n",
      "-- dihomo-gamma-linolenic-acid_100g  : no data\n",
      "-- omega-9-fat_100g  : no data\n",
      "-- oleic-acid_100g  : no data\n",
      "-- elaidic-acid_100g  : no data\n",
      "-- gondoic-acid_100g  : no data\n",
      "-- mead-acid_100g  : no data\n",
      "-- erucic-acid_100g  : no data\n",
      "-- nervonic-acid_100g  : no data\n",
      "-- trans-fat_100g\n",
      "ex of values =  [0.0 0.0 0.0 0.0 0.0 0.0 0.0 0.0]\n",
      "-- cholesterol_100g\n",
      "ex of values =  [0.007 0.0 0.0 0.032 0.0 0.0 0.016 0.054]\n",
      "-- fiber_100g\n",
      "ex of values =  [0.0 1.6 0.0 0.0 0.0 3.9 3.2 9.0]\n",
      "-- sodium_100g\n",
      "ex of values =  [0.063 0.24 0.0 0.24 0.0 0.68000001907348 0.04 0.04]\n",
      "-- alcohol_100g  : no data\n",
      "-- vitamin-a_100g\n",
      "ex of values =  [0.0003213 3e-05 0.0 0.0 0.0 4.11e-05 0.0 0.0]\n",
      "-- vitamin-d_100g  : no data\n",
      "-- vitamin-e_100g  : no data\n",
      "-- vitamin-k_100g  : no data\n",
      "-- vitamin-c_100g\n",
      "ex of values =  [0.0013 0.0014 0.0 0.0082 0.0 0.03 0.0 0.0]\n",
      "-- vitamin-b1_100g  : no data\n",
      "-- vitamin-b2_100g  : no data\n",
      "-- vitamin-pp_100g  : no data\n",
      "-- vitamin-b6_100g  : no data\n",
      "-- vitamin-b9_100g  : no data\n",
      "-- vitamin-b12_100g  : no data\n",
      "-- biotin_100g  : no data\n",
      "-- pantothenic-acid_100g  : no data\n",
      "-- silica_100g  : no data\n",
      "-- bicarbonate_100g  : no data\n",
      "-- potassium_100g  : no data\n",
      "-- chloride_100g  : no data\n",
      "-- calcium_100g\n",
      "ex of values =  [0.14 0.053 0.016 0.118 0.1 0.025 0.0 0.136]\n",
      "-- phosphorus_100g  : no data\n",
      "-- iron_100g\n",
      "ex of values =  [0.00144 0.0126 0.0 0.0 0.00192 0.00129 0.0 0.0]\n",
      "-- magnesium_100g  : no data\n",
      "-- zinc_100g  : no data\n",
      "-- copper_100g  : no data\n",
      "-- manganese_100g  : no data\n",
      "-- fluoride_100g  : no data\n",
      "-- selenium_100g  : no data\n",
      "-- chromium_100g  : no data\n",
      "-- molybdenum_100g  : no data\n",
      "-- iodine_100g  : no data\n",
      "-- caffeine_100g  : no data\n",
      "-- taurine_100g  : no data\n",
      "-- ph_100g  : no data\n",
      "-- fruits-vegetables-nuts_100g  : no data\n",
      "-- carbon-footprint_100g  : no data\n",
      "-- nutrition-score-fr_100g\n",
      "ex of values =  [7.0 2.0 14.0 1.0 20.0 21.0 13.0 3.0]\n",
      "-- nutrition-score-uk_100g  : no data\n"
     ]
    }
   ],
   "source": [
    "def print_values_from_list_of_var(df_,list_of_var):\n",
    "    for var in list_of_var : \n",
    "        if var in df_.columns:\n",
    "            print(\"--\",var)\n",
    "            tmp = df_[df_.columns.intersection([var])]\n",
    "            var_values = tmp.iloc[(~pd.isna(tmp).values)]\n",
    "            if len(var_values) < 8:\n",
    "                print(\"values = \", var_values.values)\n",
    "            else :\n",
    "                print(\"ex of values = \", \n",
    "                      np.array(tmp.iloc[(~pd.isna(tmp).values)].sample(n=8).values).transpose()[0])\n",
    "        else : \n",
    "            print(\"--\", var, \" : no data\")\n",
    "            \n",
    "# list_of_var = list_of_characteristics\n",
    "# list_of_var = list_of_tags\n",
    "# list_of_var = list_of_ingredients\n",
    "# list_of_var = list_of_misc\n",
    "list_of_var = list_of_nutri_facts\n",
    "print_values_from_list_of_var(df,list_of_var)"
   ]
  },
  {
   "cell_type": "markdown",
   "metadata": {},
   "source": [
    "This variable-type analysis allowed me to select the non-relevant variables for my study, such as the dates. I have keep some variables like the country or the name of the person that put the product in the database, just for the exercice to clean text data. This subset will be call \"data\" :"
   ]
  },
  {
   "cell_type": "code",
   "execution_count": 20,
   "metadata": {},
   "outputs": [],
   "source": [
    "interest_var = pd.Index([\"code\",\"creator\",\"countries\",\"additives_n\",\"ingredients_from_palm_oil_n\",\n",
    "                \"ingredients_that_may_be_from_palm_oil_tags\"])\n",
    "interest_var = interest_var.append(df.columns.intersection(list_of_nutri_facts))\n",
    "\n",
    "data = df[df.columns.intersection(interest_var)].copy()\n",
    "# data = data.fillna(pd.NA)"
   ]
  },
  {
   "cell_type": "code",
   "execution_count": 21,
   "metadata": {},
   "outputs": [],
   "source": [
    "### GESTION DES TYPES DANS DATA !!\n",
    "## STR \n",
    "str_var = list_of_characteristics \n",
    "str_var += list_of_tags\n",
    "str_var += list_of_ingredients\n",
    "str_var += list_of_misc\n",
    "str_var = data.columns.intersection(str_var)\n",
    "data[str_var] = data[str_var].astype(\"str\")\n",
    "\n",
    "## FLOATS (and INTs)\n",
    "float_var = list_of_nutri_facts\n",
    "float_var += [\"additives_n\", \"ingredients_from_palm_oil_n\", \"ingredients_that_may_be_from_palm_oil_tags\"]\n",
    "float_var = data.columns.intersection(float_var)\n",
    "data[float_var] = data[float_var].astype(\"float\")\n",
    "\n",
    "## CATEGORY\n",
    "data[[\"creator\",\"nutrition-score-fr_100g\"]] = data[[\"creator\",\"nutrition-score-fr_100g\"]].astype(\"category\")\n",
    "# data.dtypes"
   ]
  },
  {
   "cell_type": "markdown",
   "metadata": {},
   "source": [
    "Now that the float types are ok, I can call the \"describe\" method of pandas, to see the summary of the descriptive statistics : "
   ]
  },
  {
   "cell_type": "code",
   "execution_count": 22,
   "metadata": {},
   "outputs": [
    {
     "data": {
      "text/html": [
       "<div>\n",
       "<style scoped>\n",
       "    .dataframe tbody tr th:only-of-type {\n",
       "        vertical-align: middle;\n",
       "    }\n",
       "\n",
       "    .dataframe tbody tr th {\n",
       "        vertical-align: top;\n",
       "    }\n",
       "\n",
       "    .dataframe thead th {\n",
       "        text-align: right;\n",
       "    }\n",
       "</style>\n",
       "<table border=\"1\" class=\"dataframe\">\n",
       "  <thead>\n",
       "    <tr style=\"text-align: right;\">\n",
       "      <th></th>\n",
       "      <th>additives_n</th>\n",
       "      <th>ingredients_from_palm_oil_n</th>\n",
       "      <th>energy-kcal_100g</th>\n",
       "      <th>energy_100g</th>\n",
       "      <th>fat_100g</th>\n",
       "      <th>saturated-fat_100g</th>\n",
       "      <th>trans-fat_100g</th>\n",
       "      <th>cholesterol_100g</th>\n",
       "      <th>carbohydrates_100g</th>\n",
       "      <th>sugars_100g</th>\n",
       "      <th>fiber_100g</th>\n",
       "      <th>proteins_100g</th>\n",
       "      <th>sodium_100g</th>\n",
       "      <th>vitamin-a_100g</th>\n",
       "      <th>vitamin-c_100g</th>\n",
       "      <th>calcium_100g</th>\n",
       "      <th>iron_100g</th>\n",
       "    </tr>\n",
       "  </thead>\n",
       "  <tbody>\n",
       "    <tr>\n",
       "      <th>count</th>\n",
       "      <td>7321.000000</td>\n",
       "      <td>7321.000000</td>\n",
       "      <td>9293.000000</td>\n",
       "      <td>9977.000000</td>\n",
       "      <td>9976.000000</td>\n",
       "      <td>9976.000000</td>\n",
       "      <td>3508.000000</td>\n",
       "      <td>3585.000000</td>\n",
       "      <td>9970.000000</td>\n",
       "      <td>9976.000000</td>\n",
       "      <td>5842.000000</td>\n",
       "      <td>9976.000000</td>\n",
       "      <td>9986.000000</td>\n",
       "      <td>2785.000000</td>\n",
       "      <td>2850.000000</td>\n",
       "      <td>3631.000000</td>\n",
       "      <td>3565.000000</td>\n",
       "    </tr>\n",
       "    <tr>\n",
       "      <th>mean</th>\n",
       "      <td>2.076083</td>\n",
       "      <td>0.016938</td>\n",
       "      <td>280.361700</td>\n",
       "      <td>1167.858257</td>\n",
       "      <td>14.512799</td>\n",
       "      <td>5.395930</td>\n",
       "      <td>0.043432</td>\n",
       "      <td>0.020033</td>\n",
       "      <td>27.986918</td>\n",
       "      <td>13.044518</td>\n",
       "      <td>2.902510</td>\n",
       "      <td>8.454402</td>\n",
       "      <td>0.459434</td>\n",
       "      <td>0.000156</td>\n",
       "      <td>0.011973</td>\n",
       "      <td>0.152235</td>\n",
       "      <td>0.018092</td>\n",
       "    </tr>\n",
       "    <tr>\n",
       "      <th>std</th>\n",
       "      <td>2.942682</td>\n",
       "      <td>0.130101</td>\n",
       "      <td>201.068159</td>\n",
       "      <td>833.052838</td>\n",
       "      <td>17.789848</td>\n",
       "      <td>8.147719</td>\n",
       "      <td>0.764498</td>\n",
       "      <td>0.149654</td>\n",
       "      <td>27.962836</td>\n",
       "      <td>18.561523</td>\n",
       "      <td>4.686038</td>\n",
       "      <td>8.826798</td>\n",
       "      <td>1.536959</td>\n",
       "      <td>0.001972</td>\n",
       "      <td>0.233691</td>\n",
       "      <td>2.238069</td>\n",
       "      <td>0.771082</td>\n",
       "    </tr>\n",
       "    <tr>\n",
       "      <th>min</th>\n",
       "      <td>0.000000</td>\n",
       "      <td>0.000000</td>\n",
       "      <td>0.000000</td>\n",
       "      <td>0.000000</td>\n",
       "      <td>0.000000</td>\n",
       "      <td>0.000000</td>\n",
       "      <td>0.000000</td>\n",
       "      <td>0.000000</td>\n",
       "      <td>0.000000</td>\n",
       "      <td>0.000000</td>\n",
       "      <td>0.000000</td>\n",
       "      <td>0.000000</td>\n",
       "      <td>0.000000</td>\n",
       "      <td>0.000000</td>\n",
       "      <td>0.000000</td>\n",
       "      <td>0.000000</td>\n",
       "      <td>0.000000</td>\n",
       "    </tr>\n",
       "    <tr>\n",
       "      <th>25%</th>\n",
       "      <td>0.000000</td>\n",
       "      <td>0.000000</td>\n",
       "      <td>107.000000</td>\n",
       "      <td>448.000000</td>\n",
       "      <td>1.100000</td>\n",
       "      <td>0.100000</td>\n",
       "      <td>0.000000</td>\n",
       "      <td>0.000000</td>\n",
       "      <td>4.000000</td>\n",
       "      <td>0.800000</td>\n",
       "      <td>0.000000</td>\n",
       "      <td>2.000000</td>\n",
       "      <td>0.040000</td>\n",
       "      <td>0.000000</td>\n",
       "      <td>0.000000</td>\n",
       "      <td>0.000000</td>\n",
       "      <td>0.000000</td>\n",
       "    </tr>\n",
       "    <tr>\n",
       "      <th>50%</th>\n",
       "      <td>1.000000</td>\n",
       "      <td>0.000000</td>\n",
       "      <td>265.000000</td>\n",
       "      <td>1096.000000</td>\n",
       "      <td>8.100000</td>\n",
       "      <td>2.000000</td>\n",
       "      <td>0.000000</td>\n",
       "      <td>0.000000</td>\n",
       "      <td>16.000000</td>\n",
       "      <td>3.800000</td>\n",
       "      <td>1.500000</td>\n",
       "      <td>6.060000</td>\n",
       "      <td>0.240000</td>\n",
       "      <td>0.000000</td>\n",
       "      <td>0.000000</td>\n",
       "      <td>0.038000</td>\n",
       "      <td>0.000970</td>\n",
       "    </tr>\n",
       "    <tr>\n",
       "      <th>75%</th>\n",
       "      <td>3.000000</td>\n",
       "      <td>0.000000</td>\n",
       "      <td>407.000000</td>\n",
       "      <td>1699.000000</td>\n",
       "      <td>23.000000</td>\n",
       "      <td>7.790000</td>\n",
       "      <td>0.000000</td>\n",
       "      <td>0.021000</td>\n",
       "      <td>52.500000</td>\n",
       "      <td>19.000000</td>\n",
       "      <td>3.600000</td>\n",
       "      <td>12.000000</td>\n",
       "      <td>0.532000</td>\n",
       "      <td>0.000100</td>\n",
       "      <td>0.003700</td>\n",
       "      <td>0.111000</td>\n",
       "      <td>0.002460</td>\n",
       "    </tr>\n",
       "    <tr>\n",
       "      <th>max</th>\n",
       "      <td>27.000000</td>\n",
       "      <td>2.000000</td>\n",
       "      <td>4614.000000</td>\n",
       "      <td>19305.000000</td>\n",
       "      <td>100.000000</td>\n",
       "      <td>95.000000</td>\n",
       "      <td>39.290000</td>\n",
       "      <td>8.750000</td>\n",
       "      <td>629.000000</td>\n",
       "      <td>100.000000</td>\n",
       "      <td>87.500000</td>\n",
       "      <td>91.666667</td>\n",
       "      <td>67.700000</td>\n",
       "      <td>0.102000</td>\n",
       "      <td>12.000000</td>\n",
       "      <td>120.000000</td>\n",
       "      <td>45.200000</td>\n",
       "    </tr>\n",
       "  </tbody>\n",
       "</table>\n",
       "</div>"
      ],
      "text/plain": [
       "0      additives_n  ingredients_from_palm_oil_n  energy-kcal_100g  \\\n",
       "count  7321.000000                  7321.000000       9293.000000   \n",
       "mean      2.076083                     0.016938        280.361700   \n",
       "std       2.942682                     0.130101        201.068159   \n",
       "min       0.000000                     0.000000          0.000000   \n",
       "25%       0.000000                     0.000000        107.000000   \n",
       "50%       1.000000                     0.000000        265.000000   \n",
       "75%       3.000000                     0.000000        407.000000   \n",
       "max      27.000000                     2.000000       4614.000000   \n",
       "\n",
       "0       energy_100g     fat_100g  saturated-fat_100g  trans-fat_100g  \\\n",
       "count   9977.000000  9976.000000         9976.000000     3508.000000   \n",
       "mean    1167.858257    14.512799            5.395930        0.043432   \n",
       "std      833.052838    17.789848            8.147719        0.764498   \n",
       "min        0.000000     0.000000            0.000000        0.000000   \n",
       "25%      448.000000     1.100000            0.100000        0.000000   \n",
       "50%     1096.000000     8.100000            2.000000        0.000000   \n",
       "75%     1699.000000    23.000000            7.790000        0.000000   \n",
       "max    19305.000000   100.000000           95.000000       39.290000   \n",
       "\n",
       "0      cholesterol_100g  carbohydrates_100g  sugars_100g   fiber_100g  \\\n",
       "count       3585.000000         9970.000000  9976.000000  5842.000000   \n",
       "mean           0.020033           27.986918    13.044518     2.902510   \n",
       "std            0.149654           27.962836    18.561523     4.686038   \n",
       "min            0.000000            0.000000     0.000000     0.000000   \n",
       "25%            0.000000            4.000000     0.800000     0.000000   \n",
       "50%            0.000000           16.000000     3.800000     1.500000   \n",
       "75%            0.021000           52.500000    19.000000     3.600000   \n",
       "max            8.750000          629.000000   100.000000    87.500000   \n",
       "\n",
       "0      proteins_100g  sodium_100g  vitamin-a_100g  vitamin-c_100g  \\\n",
       "count    9976.000000  9986.000000     2785.000000     2850.000000   \n",
       "mean        8.454402     0.459434        0.000156        0.011973   \n",
       "std         8.826798     1.536959        0.001972        0.233691   \n",
       "min         0.000000     0.000000        0.000000        0.000000   \n",
       "25%         2.000000     0.040000        0.000000        0.000000   \n",
       "50%         6.060000     0.240000        0.000000        0.000000   \n",
       "75%        12.000000     0.532000        0.000100        0.003700   \n",
       "max        91.666667    67.700000        0.102000       12.000000   \n",
       "\n",
       "0      calcium_100g    iron_100g  \n",
       "count   3631.000000  3565.000000  \n",
       "mean       0.152235     0.018092  \n",
       "std        2.238069     0.771082  \n",
       "min        0.000000     0.000000  \n",
       "25%        0.000000     0.000000  \n",
       "50%        0.038000     0.000970  \n",
       "75%        0.111000     0.002460  \n",
       "max      120.000000    45.200000  "
      ]
     },
     "execution_count": 22,
     "metadata": {},
     "output_type": "execute_result"
    }
   ],
   "source": [
    "data.describe()"
   ]
  },
  {
   "cell_type": "markdown",
   "metadata": {},
   "source": [
    "# 1.3 Errors in data :\n",
    "We need to check if there are : \n",
    "* lexical errors\n",
    "* irregularity error\n",
    "* Formatage error\n",
    "* Duplicates\n",
    "* Outliers"
   ]
  },
  {
   "cell_type": "code",
   "execution_count": 23,
   "metadata": {},
   "outputs": [
    {
     "data": {
      "image/png": "[encoded data removed]",
      "text/plain": [
       "<Figure size 1080x1440 with 18 Axes>"
      ]
     },
     "metadata": {
      "needs_background": "light"
     },
     "output_type": "display_data"
    }
   ],
   "source": [
    "nb_line_plot = int(np.floor(len(float_var)/4)+1)\n",
    "fig = plt.figure(figsize=(15, 20))\n",
    "\n",
    "fig_count = 1\n",
    "for var in float_var :#data.columns.intersection(list_of_nutri_facts):\n",
    "    ax = fig.add_subplot(nb_line_plot,4, fig_count,)\n",
    "    nb_bins = min(20, len(np.unique(data[var].dropna().values)))\n",
    "    ax.hist(data[var], bins = nb_bins, color='steelblue', density=True, edgecolor='none')\n",
    "    ax.set_title(var)\n",
    "    fig_count += 1\n",
    "plt.show()"
   ]
  },
  {
   "cell_type": "markdown",
   "metadata": {},
   "source": [
    "To ease this manual part, I used the following function :\n",
    "**put the box with \"extract_irreg_errors\" here**"
   ]
  },
  {
   "cell_type": "code",
   "execution_count": 64,
   "metadata": {},
   "outputs": [],
   "source": [
    "def extract_irreg_errors_val(colname,possible_values, data = data):\n",
    "    outliers_val = []\n",
    "    col_values = data[colname].drop_duplicates().values\n",
    "    ## check possible values : \n",
    "    min_value, max_value = possible_values\n",
    "    for val in col_values :\n",
    "        if ~np.isnan(val) :\n",
    "            if (val < min_value) or (val >= max_value):\n",
    "                outliers_val.append(val)\n",
    "        else : \n",
    "            print(sum(data[colname].isna()),\"missing values\")\n",
    "    print(len(outliers_val), \"irregular errors\")\n",
    "    return outliers_val"
   ]
  },
  {
   "cell_type": "markdown",
   "metadata": {},
   "source": [
    "I decided to modify some of my variables : \n",
    "* if there is no \"ingredients_from_palm_oil\" but a \"ingredients_from_palm_oil_n\" colunm, I transformed this one into the first one.\n"
   ]
  },
  {
   "cell_type": "code",
   "execution_count": 65,
   "metadata": {},
   "outputs": [],
   "source": [
    "############## dev code ###################\n",
    "##\n",
    "## 1st idea of code : \n",
    "##\n",
    "data2 = data.copy()\n",
    "if \"ingredients_from_palm_oil_n\" in data2.columns :\n",
    "    if ~(\"ingredients_from_palm_oil\" in data2.columns) :\n",
    "        data2.insert(loc = data2.columns.get_loc(\"ingredients_from_palm_oil_n\"),\n",
    "                    column = \"ingredients_from_palm_oil\",\n",
    "                    value = 0)\n",
    "        index_1 = data2[data2[\"ingredients_from_palm_oil_n\"]==1].index\n",
    "        data2.at[index_1,\"ingredients_from_palm_oil\"] = 1\n",
    "        index_nan = data2[pd.isna(data2[\"ingredients_from_palm_oil_n\"])].index\n",
    "        data2.at[index_nan,\"ingredients_from_palm_oil\"] = np.nan\n",
    "        \n",
    "    data2.drop(\"ingredients_from_palm_oil_n\", axis=1, inplace = True)\n",
    "data2.iloc[:,3:10]\n",
    "\n",
    "## \n",
    "## after reflexion, better to do modify directly the line :\n",
    "##\n",
    "data2 = data.copy()\n",
    "if \"ingredients_from_palm_oil_n\" in data2.columns :\n",
    "    if ~(\"ingredients_from_palm_oil\" in data2.columns) :\n",
    "        data2.at[data2[\"ingredients_from_palm_oil_n\"] > 0, \"ingredients_from_palm_oil_n\"] = 1\n",
    "        data2.rename(columns={\"ingredients_from_palm_oil_n\":\"ingredients_from_palm_oil\"}, inplace=True)"
   ]
  },
  {
   "cell_type": "markdown",
   "metadata": {},
   "source": [
    "I start to isolate the code I want to re-use to define my prepocess method (idea : object oriented programmation)"
   ]
  },
  {
   "cell_type": "code",
   "execution_count": 66,
   "metadata": {},
   "outputs": [],
   "source": [
    "def preprocess_data(data):\n",
    "    if \"ingredients_from_palm_oil_n\" in data.columns :\n",
    "        if ~(\"ingredients_from_palm_oil\" in data.columns) :\n",
    "            data.at[data[\"ingredients_from_palm_oil_n\"] > 0, \"ingredients_from_palm_oil_n\"] = 1\n",
    "            data.rename(columns={\"ingredients_from_palm_oil_n\":\"ingredients_from_palm_oil\"}, inplace=True)\n",
    "preprocess_data(data)"
   ]
  },
  {
   "cell_type": "markdown",
   "metadata": {},
   "source": [
    "I made a dictionnary of the possible values each variable can take : "
   ]
  },
  {
   "cell_type": "markdown",
   "metadata": {},
   "source": [
    "For clarity purposes, I just keep an example of how I proceeded to choose my possible values for each variable :"
   ]
  },
  {
   "cell_type": "code",
   "execution_count": 68,
   "metadata": {
    "scrolled": true
   },
   "outputs": [
    {
     "data": {
      "image/png": "[encoded data removed]",
      "text/plain": [
       "<Figure size 1080x360 with 1 Axes>"
      ]
     },
     "metadata": {
      "needs_background": "light"
     },
     "output_type": "display_data"
    },
    {
     "name": "stdout",
     "output_type": "stream",
     "text": [
      "707 missing values\n",
      "6 irregular errors\n"
     ]
    },
    {
     "data": {
      "image/png": "[encoded data removed]",
      "text/plain": [
       "<Figure size 1080x360 with 1 Axes>"
      ]
     },
     "metadata": {
      "needs_background": "light"
     },
     "output_type": "display_data"
    },
    {
     "data": {
      "image/png": "[encoded data removed]",
      "text/plain": [
       "<Figure size 1080x360 with 1 Axes>"
      ]
     },
     "metadata": {
      "needs_background": "light"
     },
     "output_type": "display_data"
    },
    {
     "name": "stdout",
     "output_type": "stream",
     "text": [
      "707 missing values\n",
      "12 irregular errors\n"
     ]
    },
    {
     "data": {
      "text/plain": [
       "array(['Happy Snacks Animal Crackers', 'Mozzarella',\n",
       "       \"Confiture D'abricot Et Amandes Effilées\", 'Light mayo', 'NESQUIK',\n",
       "       'bastoncini di crusca'], dtype=object)"
      ]
     },
     "execution_count": 68,
     "metadata": {},
     "output_type": "execute_result"
    }
   ],
   "source": [
    "data2 = data.copy()\n",
    "colname = \"energy-kcal_100g\"\n",
    "possible_values = [0,1500]\n",
    "\n",
    "## Histogramme global \n",
    "nb_bins = min(50, len(np.unique(data2[colname].dropna().values)))\n",
    "plt.hist(data2[colname], bins = nb_bins, color='steelblue', density=True, edgecolor='none')\n",
    "plt.title(\"before removing outliers \" + colname)\n",
    "plt.show()\n",
    "\n",
    "outliers = extract_irreg_errors_val(colname,possible_values, data = data2)\n",
    "# val_index = data.loc[(data[colname] in outliers),:].index.values\n",
    "data2.at[data2[colname].isin(outliers)] = np.nan\n",
    "\n",
    "## Histogramme : \n",
    "nb_bins = min(50, len(np.unique(data2[colname].dropna().values)))\n",
    "plt.hist(data2[colname], bins = nb_bins, color='steelblue', density=True, edgecolor='none')\n",
    "plt.title(\"after removing outliers \" + colname)\n",
    "plt.show()\n",
    "# plot values : \n",
    "plt.plot(np.sort(data2[colname]))\n",
    "plt.show()\n",
    "really_fat = extract_irreg_errors_val(colname, [0,1000], data = data)\n",
    "\n",
    "np.array(df.loc[data2[colname].isin(really_fat), \"product_name\"])\n"
   ]
  },
  {
   "cell_type": "code",
   "execution_count": 69,
   "metadata": {},
   "outputs": [],
   "source": [
    "possible_val_dict = {'additives_n' : [0,35],'ingredients_from_palm_oil': [0,1],\n",
    "                     'energy-kcal_100g':[0,1500], 'energy_100g':[0,5000]},\n",
    "#                        'fat_100g', 'saturated-fat_100g', 'trans-fat_100g', 'cholesterol_100g',\n",
    "#                        'carbohydrates_100g', 'sugars_100g', 'fiber_100g', 'proteins_100g',\n",
    "#                        'sodium_100g', 'vitamin-a_100g', 'vitamin-c_100g', 'calcium_100g',\n",
    "#                        'iron_100g', 'nutrition-score-fr_100g'}\n",
    "\n",
    "limit_val_dict = {'additives_n' : [0,30],'ingredients_from_palm_oil': [0,1],\n",
    "                     'energy-kcal_100g':[0,1000], 'energy_100g':[0,4000]},\n",
    "#                        'fat_100g', 'saturated-fat_100g', 'trans-fat_100g', 'cholesterol_100g',\n",
    "#                        'carbohydrates_100g', 'sugars_100g', 'fiber_100g', 'proteins_100g',\n",
    "#                        'sodium_100g', 'vitamin-a_100g', 'vitamin-c_100g', 'calcium_100g',\n",
    "#                        'iron_100g', 'nutrition-score-fr_100g'}\n"
   ]
  },
  {
   "cell_type": "code",
   "execution_count": 71,
   "metadata": {
    "scrolled": true
   },
   "outputs": [
    {
     "data": {
      "image/png": "[encoded data removed]",
      "text/plain": [
       "<Figure size 1080x360 with 1 Axes>"
      ]
     },
     "metadata": {
      "needs_background": "light"
     },
     "output_type": "display_data"
    },
    {
     "name": "stdout",
     "output_type": "stream",
     "text": [
      "24 missing values\n",
      "1 irregular errors\n"
     ]
    },
    {
     "data": {
      "image/png": "[encoded data removed]",
      "text/plain": [
       "<Figure size 1080x360 with 1 Axes>"
      ]
     },
     "metadata": {
      "needs_background": "light"
     },
     "output_type": "display_data"
    },
    {
     "data": {
      "image/png": "[encoded data removed]",
      "text/plain": [
       "<Figure size 1080x360 with 1 Axes>"
      ]
     },
     "metadata": {
      "needs_background": "light"
     },
     "output_type": "display_data"
    },
    {
     "name": "stdout",
     "output_type": "stream",
     "text": [
      "24 missing values\n",
      "1 irregular errors\n"
     ]
    },
    {
     "data": {
      "text/plain": [
       "array([], dtype=object)"
      ]
     },
     "execution_count": 71,
     "metadata": {},
     "output_type": "execute_result"
    }
   ],
   "source": [
    "data2 = data.copy()\n",
    "colname = \"fat_100g\"\n",
    "possible_values = [0,100]\n",
    "\n",
    "## Histogramme global \n",
    "nb_bins = min(50, len(np.unique(data2[colname].dropna().values)))\n",
    "plt.hist(data2[colname], bins = nb_bins, color='steelblue', density=True, edgecolor='none')\n",
    "plt.title(\"before removing outliers \" + colname)\n",
    "plt.show()    \n",
    "\n",
    "outliers = extract_irreg_errors_val(colname,possible_values, data = data)\n",
    "# val_index = data.loc[(data[colname] in outliers),:].index.values\n",
    "data2.at[data2[colname].isin(outliers)] = np.nan\n",
    "\n",
    "## Histogramme : \n",
    "nb_bins = min(50, len(np.unique(data2[colname].dropna().values)))\n",
    "plt.hist(data2[colname], bins = nb_bins, color='steelblue', density=True, edgecolor='none')\n",
    "plt.title(\"after removing outliers \" + colname)\n",
    "plt.show()\n",
    "# plot values : \n",
    "plt.plot(np.sort(data2[colname]))\n",
    "plt.show()\n",
    "\n",
    "## Print problematic variables : \n",
    "really_fat = extract_irreg_errors_val(colname, [0,100], data = data)\n",
    "np.array(df.loc[data2[colname].isin(really_fat), \"product_name\"])\n"
   ]
  },
  {
   "cell_type": "code",
   "execution_count": null,
   "metadata": {},
   "outputs": [],
   "source": []
  },
  {
   "cell_type": "code",
   "execution_count": null,
   "metadata": {},
   "outputs": [],
   "source": []
  },
  {
   "cell_type": "code",
   "execution_count": null,
   "metadata": {},
   "outputs": [],
   "source": []
  },
  {
   "cell_type": "code",
   "execution_count": null,
   "metadata": {},
   "outputs": [],
   "source": []
  },
  {
   "cell_type": "code",
   "execution_count": null,
   "metadata": {},
   "outputs": [],
   "source": [
    "var = \"energy_100g\"\n",
    "nb_bins = min(100, len(np.unique(data[var].dropna().values)))\n",
    "creators_colors = \n",
    "plt.hist(data[var], bins = nb_bins, density=True, edgecolor='none', color = data[\"creator\"])\n",
    "plt.title(str(var))\n",
    "print(np.array(data[var].values[:100]))"
   ]
  },
  {
   "cell_type": "code",
   "execution_count": null,
   "metadata": {},
   "outputs": [],
   "source": [
    "df.creator.value_counts()[10:]"
   ]
  },
  {
   "cell_type": "code",
   "execution_count": null,
   "metadata": {},
   "outputs": [],
   "source": [
    "df.groupby(df.columns.tolist()).size().reset_index().rename(columns={0:'count'})"
   ]
  },
  {
   "cell_type": "code",
   "execution_count": null,
   "metadata": {},
   "outputs": [],
   "source": [
    "data.countries.drop_duplicates().values"
   ]
  },
  {
   "cell_type": "code",
   "execution_count": null,
   "metadata": {
    "scrolled": true
   },
   "outputs": [],
   "source": [
    "## countries VARIABLE TREATMENT (MORE COMPLICATED + TEXT) \n",
    "data.countries.drop_duplicates().values[:5]"
   ]
  },
  {
   "cell_type": "markdown",
   "metadata": {},
   "source": [
    "# 1.3 Outliers \n",
    "\n",
    "Let's deal with outliers"
   ]
  },
  {
   "cell_type": "code",
   "execution_count": null,
   "metadata": {},
   "outputs": [],
   "source": []
  },
  {
   "cell_type": "code",
   "execution_count": null,
   "metadata": {},
   "outputs": [],
   "source": []
  },
  {
   "cell_type": "code",
   "execution_count": null,
   "metadata": {},
   "outputs": [],
   "source": []
  },
  {
   "cell_type": "code",
   "execution_count": null,
   "metadata": {},
   "outputs": [],
   "source": []
  },
  {
   "cell_type": "markdown",
   "metadata": {},
   "source": [
    "# 1.4 Estimate remaining missing values"
   ]
  },
  {
   "cell_type": "code",
   "execution_count": null,
   "metadata": {},
   "outputs": [],
   "source": [
    "import numpy as np\n",
    "# x = np.array([4,8,12,20,40,60])\n",
    "\n",
    "x = np.array([2,6,10,16,30,50])\n",
    "dx = np.array([4,4,4,8,20,20])\n",
    "n = np.array([40,60,100,160,80,60])\n",
    "f = n/500\n",
    "d =f/dx\n",
    "m = x*f\n",
    "m.sum()\n",
    "(np.sqrt(275280/500-(9400/500)**2)-14)*60\n",
    "0.15*0.9+0.85*0.3\n",
    "0.9*0.15/0.39\n",
    "0.9*0.85+0.3*0.15\n"
   ]
  },
  {
   "cell_type": "code",
   "execution_count": null,
   "metadata": {},
   "outputs": [],
   "source": [
    "from mpl_toolkits import mplot3d\n",
    "def f(x,y) :\n",
    "    return x**3 + 3/2*y**2 + 3*x*y + 60\n",
    "\n",
    "xline = np.linspace(-5, 5, 100)\n",
    "yline = np.linspace(-5, 5, 100)\n",
    "X, Y = np.meshgrid(xline, yline)\n",
    "\n",
    "Z = f(X,Y)\n",
    "# ax.plot3D(X, Y, Z, 'gray')\n",
    "\n",
    "\n",
    "fig = plt.figure()\n",
    "ax = plt.axes(projection='3d')\n",
    "ax.plot_surface(X, Y, Z,rstride=1, cmap='viridis', edgecolor='none')\n",
    "ax.scatter(0, 0, f(0,0), color=\"red\")\n",
    "ax.scatter(1, -1, f(1,-1), color=\"black\")\n",
    "plt.show()"
   ]
  },
  {
   "cell_type": "code",
   "execution_count": null,
   "metadata": {},
   "outputs": [],
   "source": [
    "\n",
    "ax.view_init(45,30)\n",
    "fig"
   ]
  },
  {
   "cell_type": "code",
   "execution_count": null,
   "metadata": {},
   "outputs": [],
   "source": [
    "f(0,0)\n",
    "# f(1,-1)\n"
   ]
  }
 ],
 "metadata": {
  "kernelspec": {
   "display_name": "openclassroom",
   "language": "python",
   "name": "openclassroom"
  },
  "language_info": {
   "codemirror_mode": {
    "name": "ipython",
    "version": 3
   },
   "file_extension": ".py",
   "mimetype": "text/x-python",
   "name": "python",
   "nbconvert_exporter": "python",
   "pygments_lexer": "ipython3",
   "version": "3.8.6"
  }
 },
 "nbformat": 4,
 "nbformat_minor": 4
}
