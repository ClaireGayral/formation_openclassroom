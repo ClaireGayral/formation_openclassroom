{
 "cells": [
  {
   "cell_type": "markdown",
   "metadata": {},
   "source": [
    "# Cleanning notebook "
   ]
  },
  {
   "cell_type": "markdown",
   "metadata": {},
   "source": [
    "Let's first call the libraries I'll use : "
   ]
  },
  {
   "cell_type": "code",
   "execution_count": 2,
   "metadata": {},
   "outputs": [],
   "source": [
    "data_path = \"/home/clairegayral/Documents/openclassroom/data/\"\n",
    "\n",
    "# On importe les librairies dont on aura besoin pour ce tp\n",
    "import numpy as np\n",
    "import pandas as pd\n",
    "## plot : \n",
    "import matplotlib\n",
    "import matplotlib.pyplot as plt\n",
    "matplotlib.rcParams['figure.figsize'] = [15, 5]\n",
    "## stat / model : \n",
    "from sklearn.model_selection import train_test_split\n",
    "\n",
    "import itertools as IT"
   ]
  },
  {
   "cell_type": "markdown",
   "metadata": {},
   "source": [
    "# 1. Import data : \n",
    "\n",
    "I have decided to extract the data labeled with the french nutriscore, to set a cleanning method and then decide the application I want to propose. I have in a first place look at a small subset extracted with the website interface, then I downloaded the big data they propose ($10^6$ products). \n",
    "\n",
    "- [ ] **Afterwards I would like to fetch from their json API.**"
   ]
  },
  {
   "cell_type": "code",
   "execution_count": 3,
   "metadata": {},
   "outputs": [],
   "source": [
    "# ## \n",
    "# ## SMALL DATA SET (calories > 0)\n",
    "# ##\n",
    "\n",
    "# filename = data_path+\"openfoodfacts_with_cholesterol.csv\"\n",
    "# df = pd.read_csv(filename,\"\\t\")"
   ]
  },
  {
   "cell_type": "code",
   "execution_count": 4,
   "metadata": {},
   "outputs": [
    {
     "name": "stdout",
     "output_type": "stream",
     "text": [
      "Number of products in the csv : 1716277\n",
      "Number of variables :  184\n",
      "Number of product selected :  646577\n"
     ]
    }
   ],
   "source": [
    "##\n",
    "## THE BIG DATA SET :\n",
    "##\n",
    "## lien de telechargement du dataset (3.8 Go): \n",
    "## https://static.openfoodfacts.org/data/en.openfoodfacts.org.products.csv\n",
    "\n",
    "filename = data_path+\"en.openfoodfacts.org.products.csv\"\n",
    "\n",
    "# GET THE NUMBER OF LINES : \n",
    "# bash code : cat en.openfoodfacts.org.products.csv | wc -l\n",
    "# pandas (long to run) : print(pd.read_csv(filename, sep = \"\\t\", usecols = [\"code\"],dtype = \"str\", squeeze=True))\n",
    "with open(filename) as f:\n",
    "    print(\"Number of products in the csv :\", len(f.readlines())-1)\n",
    "\n",
    "## GET INDEX OF NUTRI SCORE IN COLUMNS : \n",
    "tmp = pd.read_csv(filename, sep = \"\\t\", nrows = 1).columns\n",
    "col_index = np.where(tmp==\"nutrition-score-fr_100g\")[0][0]\n",
    "col_index\n",
    "\n",
    "## OPEN FILE WITH ITERATOR CHUNKS SELECTING ROWS WITH INFO ON col_index : :\n",
    "def valid(chunks):\n",
    "    for chunk in chunks:\n",
    "        mask = ~chunk.iloc[:,col_index].isna().values\n",
    "        yield chunk.loc[mask]            \n",
    "chunksize = 10 ** 4\n",
    "chunks = pd.read_csv(filename, sep = \"\\t\", low_memory=False, chunksize=chunksize, header=None)\n",
    "df_original = pd.concat(valid(chunks))\n",
    "print(\"Number of variables : \", df_original.shape[1])\n",
    "print(\"Number of product selected : \", df_original.shape[0])"
   ]
  },
  {
   "cell_type": "markdown",
   "metadata": {},
   "source": [
    "The chunk method does not allow to set header, so let's do it : "
   ]
  },
  {
   "cell_type": "code",
   "execution_count": 5,
   "metadata": {
    "scrolled": true
   },
   "outputs": [
    {
     "data": {
      "text/html": [
       "<div>\n",
       "<style scoped>\n",
       "    .dataframe tbody tr th:only-of-type {\n",
       "        vertical-align: middle;\n",
       "    }\n",
       "\n",
       "    .dataframe tbody tr th {\n",
       "        vertical-align: top;\n",
       "    }\n",
       "\n",
       "    .dataframe thead th {\n",
       "        text-align: right;\n",
       "    }\n",
       "</style>\n",
       "<table border=\"1\" class=\"dataframe\">\n",
       "  <thead>\n",
       "    <tr style=\"text-align: right;\">\n",
       "      <th></th>\n",
       "      <th>code</th>\n",
       "      <th>url</th>\n",
       "      <th>creator</th>\n",
       "      <th>created_t</th>\n",
       "      <th>created_datetime</th>\n",
       "      <th>last_modified_t</th>\n",
       "      <th>last_modified_datetime</th>\n",
       "      <th>product_name</th>\n",
       "      <th>abbreviated_product_name</th>\n",
       "      <th>generic_name</th>\n",
       "      <th>...</th>\n",
       "      <th>carbon-footprint-from-meat-or-fish_100g</th>\n",
       "      <th>nutrition-score-fr_100g</th>\n",
       "      <th>nutrition-score-uk_100g</th>\n",
       "      <th>glycemic-index_100g</th>\n",
       "      <th>water-hardness_100g</th>\n",
       "      <th>choline_100g</th>\n",
       "      <th>phylloquinone_100g</th>\n",
       "      <th>beta-glucan_100g</th>\n",
       "      <th>inositol_100g</th>\n",
       "      <th>carnitine_100g</th>\n",
       "    </tr>\n",
       "  </thead>\n",
       "  <tbody>\n",
       "    <tr>\n",
       "      <th>4</th>\n",
       "      <td>0000000000100</td>\n",
       "      <td>http://world-en.openfoodfacts.org/product/0000...</td>\n",
       "      <td>del51</td>\n",
       "      <td>1444572561</td>\n",
       "      <td>2015-10-11T14:09:21Z</td>\n",
       "      <td>1444659212</td>\n",
       "      <td>2015-10-12T14:13:32Z</td>\n",
       "      <td>moutarde au moût de raisin</td>\n",
       "      <td>NaN</td>\n",
       "      <td>NaN</td>\n",
       "      <td>...</td>\n",
       "      <td>NaN</td>\n",
       "      <td>18</td>\n",
       "      <td>NaN</td>\n",
       "      <td>NaN</td>\n",
       "      <td>NaN</td>\n",
       "      <td>NaN</td>\n",
       "      <td>NaN</td>\n",
       "      <td>NaN</td>\n",
       "      <td>NaN</td>\n",
       "      <td>NaN</td>\n",
       "    </tr>\n",
       "    <tr>\n",
       "      <th>15</th>\n",
       "      <td>0000000000949</td>\n",
       "      <td>http://world-en.openfoodfacts.org/product/0000...</td>\n",
       "      <td>kiliweb</td>\n",
       "      <td>1523440813</td>\n",
       "      <td>2018-04-11T10:00:13Z</td>\n",
       "      <td>1565268412</td>\n",
       "      <td>2019-08-08T12:46:52Z</td>\n",
       "      <td>Salade de carottes râpées</td>\n",
       "      <td>NaN</td>\n",
       "      <td>NaN</td>\n",
       "      <td>...</td>\n",
       "      <td>NaN</td>\n",
       "      <td>1</td>\n",
       "      <td>NaN</td>\n",
       "      <td>NaN</td>\n",
       "      <td>NaN</td>\n",
       "      <td>NaN</td>\n",
       "      <td>NaN</td>\n",
       "      <td>NaN</td>\n",
       "      <td>NaN</td>\n",
       "      <td>NaN</td>\n",
       "    </tr>\n",
       "  </tbody>\n",
       "</table>\n",
       "<p>2 rows × 184 columns</p>\n",
       "</div>"
      ],
      "text/plain": [
       "0            code                                                url  creator  \\\n",
       "4   0000000000100  http://world-en.openfoodfacts.org/product/0000...    del51   \n",
       "15  0000000000949  http://world-en.openfoodfacts.org/product/0000...  kiliweb   \n",
       "\n",
       "0    created_t      created_datetime last_modified_t last_modified_datetime  \\\n",
       "4   1444572561  2015-10-11T14:09:21Z      1444659212   2015-10-12T14:13:32Z   \n",
       "15  1523440813  2018-04-11T10:00:13Z      1565268412   2019-08-08T12:46:52Z   \n",
       "\n",
       "0                   product_name abbreviated_product_name generic_name  ...  \\\n",
       "4    moutarde au moût de raisin                       NaN          NaN  ...   \n",
       "15     Salade de carottes râpées                      NaN          NaN  ...   \n",
       "\n",
       "0  carbon-footprint-from-meat-or-fish_100g nutrition-score-fr_100g  \\\n",
       "4                                      NaN                      18   \n",
       "15                                     NaN                       1   \n",
       "\n",
       "0  nutrition-score-uk_100g glycemic-index_100g water-hardness_100g  \\\n",
       "4                      NaN                 NaN                 NaN   \n",
       "15                     NaN                 NaN                 NaN   \n",
       "\n",
       "0  choline_100g phylloquinone_100g beta-glucan_100g inositol_100g  \\\n",
       "4           NaN                NaN              NaN           NaN   \n",
       "15          NaN                NaN              NaN           NaN   \n",
       "\n",
       "0  carnitine_100g  \n",
       "4             NaN  \n",
       "15            NaN  \n",
       "\n",
       "[2 rows x 184 columns]"
      ]
     },
     "execution_count": 5,
     "metadata": {},
     "output_type": "execute_result"
    }
   ],
   "source": [
    "df = df_original.drop(0, axis=0)\n",
    "df.columns = df_original.loc[0,:]\n",
    "n = df.shape[0]\n",
    "df.head(2)"
   ]
  },
  {
   "cell_type": "markdown",
   "metadata": {
    "variables": {
     "df.shape[0]": "646576"
    }
   },
   "source": [
    "The data is huge ({{df.shape[0]}} products).\n",
    "Let's first work on a sample of size 10 000, and then comment this part : "
   ]
  },
  {
   "cell_type": "code",
   "execution_count": 6,
   "metadata": {},
   "outputs": [
    {
     "data": {
      "text/plain": [
       "(10000, 184)"
      ]
     },
     "execution_count": 6,
     "metadata": {},
     "output_type": "execute_result"
    }
   ],
   "source": [
    "df = df.sample(10000, replace = False)\n",
    "df.shape"
   ]
  },
  {
   "cell_type": "markdown",
   "metadata": {},
   "source": [
    "## 1.1 Drop Missing values : \n",
    "Let's remove the variables with too much NaN. First, I remove the columns filled with NaNs (there is no information in them). \n",
    "\n",
    "Then, I have chosen to keep the 1st quantile value of the number of NaNs in each variables : \n",
    "* if the variable has less NaNs than this quantile, I will estimate the missing value with KNN procedure, \n",
    "* else, I drop the corresponding column. "
   ]
  },
  {
   "cell_type": "code",
   "execution_count": 7,
   "metadata": {},
   "outputs": [
    {
     "name": "stdout",
     "output_type": "stream",
     "text": [
      "There are  0 variables without any information (all NaNs)\n",
      "I drop variables with more than 7243.20652173913 NaNs\n"
     ]
    },
    {
     "data": {
      "text/html": [
       "<div>\n",
       "<style scoped>\n",
       "    .dataframe tbody tr th:only-of-type {\n",
       "        vertical-align: middle;\n",
       "    }\n",
       "\n",
       "    .dataframe tbody tr th {\n",
       "        vertical-align: top;\n",
       "    }\n",
       "\n",
       "    .dataframe thead th {\n",
       "        text-align: right;\n",
       "    }\n",
       "</style>\n",
       "<table border=\"1\" class=\"dataframe\">\n",
       "  <thead>\n",
       "    <tr style=\"text-align: right;\">\n",
       "      <th></th>\n",
       "      <th>code</th>\n",
       "      <th>url</th>\n",
       "      <th>creator</th>\n",
       "      <th>created_t</th>\n",
       "      <th>created_datetime</th>\n",
       "      <th>last_modified_t</th>\n",
       "      <th>last_modified_datetime</th>\n",
       "      <th>product_name</th>\n",
       "      <th>quantity</th>\n",
       "      <th>packaging</th>\n",
       "      <th>...</th>\n",
       "      <th>sugars_100g</th>\n",
       "      <th>fiber_100g</th>\n",
       "      <th>proteins_100g</th>\n",
       "      <th>salt_100g</th>\n",
       "      <th>sodium_100g</th>\n",
       "      <th>vitamin-a_100g</th>\n",
       "      <th>vitamin-c_100g</th>\n",
       "      <th>calcium_100g</th>\n",
       "      <th>iron_100g</th>\n",
       "      <th>nutrition-score-fr_100g</th>\n",
       "    </tr>\n",
       "  </thead>\n",
       "  <tbody>\n",
       "    <tr>\n",
       "      <th>count</th>\n",
       "      <td>10000</td>\n",
       "      <td>10000</td>\n",
       "      <td>10000</td>\n",
       "      <td>10000</td>\n",
       "      <td>10000</td>\n",
       "      <td>10000</td>\n",
       "      <td>10000</td>\n",
       "      <td>9976</td>\n",
       "      <td>3838</td>\n",
       "      <td>2873</td>\n",
       "      <td>...</td>\n",
       "      <td>9965.0</td>\n",
       "      <td>5772.0</td>\n",
       "      <td>9965.0</td>\n",
       "      <td>9973.0</td>\n",
       "      <td>9973.0</td>\n",
       "      <td>2827.0</td>\n",
       "      <td>2884.0</td>\n",
       "      <td>3614.0</td>\n",
       "      <td>3515.0</td>\n",
       "      <td>10000.0</td>\n",
       "    </tr>\n",
       "    <tr>\n",
       "      <th>unique</th>\n",
       "      <td>10000</td>\n",
       "      <td>10000</td>\n",
       "      <td>601</td>\n",
       "      <td>9924</td>\n",
       "      <td>9923</td>\n",
       "      <td>9866</td>\n",
       "      <td>9865</td>\n",
       "      <td>9394</td>\n",
       "      <td>1086</td>\n",
       "      <td>1447</td>\n",
       "      <td>...</td>\n",
       "      <td>1584.0</td>\n",
       "      <td>281.0</td>\n",
       "      <td>1166.0</td>\n",
       "      <td>1500.0</td>\n",
       "      <td>1468.0</td>\n",
       "      <td>453.0</td>\n",
       "      <td>281.0</td>\n",
       "      <td>391.0</td>\n",
       "      <td>469.0</td>\n",
       "      <td>84.0</td>\n",
       "    </tr>\n",
       "    <tr>\n",
       "      <th>top</th>\n",
       "      <td>8801007029658</td>\n",
       "      <td>http://world-en.openfoodfacts.org/product/7613...</td>\n",
       "      <td>kiliweb</td>\n",
       "      <td>1489061945</td>\n",
       "      <td>2017-03-09T12:19:05Z</td>\n",
       "      <td>1587590324</td>\n",
       "      <td>2020-04-22T17:49:24Z</td>\n",
       "      <td>Filet de poulet</td>\n",
       "      <td>200 g</td>\n",
       "      <td>Kunststoff</td>\n",
       "      <td>...</td>\n",
       "      <td>0.0</td>\n",
       "      <td>0.0</td>\n",
       "      <td>0.0</td>\n",
       "      <td>0.0</td>\n",
       "      <td>0.0</td>\n",
       "      <td>0.0</td>\n",
       "      <td>0.0</td>\n",
       "      <td>0.0</td>\n",
       "      <td>0.0</td>\n",
       "      <td>0.0</td>\n",
       "    </tr>\n",
       "    <tr>\n",
       "      <th>freq</th>\n",
       "      <td>1</td>\n",
       "      <td>1</td>\n",
       "      <td>3818</td>\n",
       "      <td>3</td>\n",
       "      <td>3</td>\n",
       "      <td>3</td>\n",
       "      <td>3</td>\n",
       "      <td>14</td>\n",
       "      <td>176</td>\n",
       "      <td>70</td>\n",
       "      <td>...</td>\n",
       "      <td>1317.0</td>\n",
       "      <td>1746.0</td>\n",
       "      <td>985.0</td>\n",
       "      <td>1120.0</td>\n",
       "      <td>1121.0</td>\n",
       "      <td>1564.0</td>\n",
       "      <td>1786.0</td>\n",
       "      <td>1104.0</td>\n",
       "      <td>1024.0</td>\n",
       "      <td>485.0</td>\n",
       "    </tr>\n",
       "  </tbody>\n",
       "</table>\n",
       "<p>4 rows × 64 columns</p>\n",
       "</div>"
      ],
      "text/plain": [
       "0                code                                                url  \\\n",
       "count           10000                                              10000   \n",
       "unique          10000                                              10000   \n",
       "top     8801007029658  http://world-en.openfoodfacts.org/product/7613...   \n",
       "freq                1                                                  1   \n",
       "\n",
       "0       creator   created_t      created_datetime  last_modified_t  \\\n",
       "count     10000       10000                 10000            10000   \n",
       "unique      601        9924                  9923             9866   \n",
       "top     kiliweb  1489061945  2017-03-09T12:19:05Z       1587590324   \n",
       "freq       3818           3                     3                3   \n",
       "\n",
       "0      last_modified_datetime     product_name quantity   packaging  ...  \\\n",
       "count                   10000             9976     3838        2873  ...   \n",
       "unique                   9865             9394     1086        1447  ...   \n",
       "top      2020-04-22T17:49:24Z  Filet de poulet    200 g  Kunststoff  ...   \n",
       "freq                        3               14      176          70  ...   \n",
       "\n",
       "0      sugars_100g fiber_100g proteins_100g salt_100g sodium_100g  \\\n",
       "count       9965.0     5772.0        9965.0    9973.0      9973.0   \n",
       "unique      1584.0      281.0        1166.0    1500.0      1468.0   \n",
       "top            0.0        0.0           0.0       0.0         0.0   \n",
       "freq        1317.0     1746.0         985.0    1120.0      1121.0   \n",
       "\n",
       "0      vitamin-a_100g vitamin-c_100g calcium_100g iron_100g  \\\n",
       "count          2827.0         2884.0       3614.0    3515.0   \n",
       "unique          453.0          281.0        391.0     469.0   \n",
       "top               0.0            0.0          0.0       0.0   \n",
       "freq           1564.0         1786.0       1104.0    1024.0   \n",
       "\n",
       "0      nutrition-score-fr_100g  \n",
       "count                  10000.0  \n",
       "unique                    84.0  \n",
       "top                        0.0  \n",
       "freq                     485.0  \n",
       "\n",
       "[4 rows x 64 columns]"
      ]
     },
     "execution_count": 7,
     "metadata": {},
     "output_type": "execute_result"
    }
   ],
   "source": [
    "##\n",
    "## TACKLE MISSING VALUES 1 (drop col)\n",
    "##\n",
    "\n",
    "## DROP COL FILLED WITH NANs\n",
    "df = df.loc[:,df.isna().sum(axis=0)<n]\n",
    "print(\"There are \", sum(df.isna().sum(axis=0)==n), \"variables without any information (all NaNs)\")\n",
    "\n",
    "## DROP COL WITH MORE NANs THAN THE MEAN/1st QUANTILE :\n",
    "nan_repartition = df.isna().sum(axis=0)\n",
    "# nan_threshold = nan_repartition.quantile(0.25)\n",
    "nan_threshold = nan_repartition.mean()\n",
    "print(\"I drop variables with more than\", nan_threshold, \"NaNs\")\n",
    "df = df.drop(df.columns[nan_repartition>nan_threshold], axis = 1)\n",
    "df.describe()"
   ]
  },
  {
   "cell_type": "markdown",
   "metadata": {},
   "source": [
    "## 1.2 Exploration of the different values :\n",
    "\n",
    "Then, I used the description data in https://world.openfoodfacts.org/data/data-fields.txt, to separate the global data frame into sub-frames. \n",
    "Note : to transform the .txt into these lists of variables, I used the bash command : \n",
    "\n",
    "    cat data-fields.txt | cut -d \" \" -f 1 | sed s/://g | sed s/\\$/\\\",/g | sed s/\\^/\\\"/g > data_fields2.txt"
   ]
  },
  {
   "cell_type": "code",
   "execution_count": 8,
   "metadata": {},
   "outputs": [],
   "source": [
    "# USE BASH cat data-fields.txt | cut -d \" \" -f 1 | sed s/://g | sed s/\\$/\\\",/g | sed s/\\^/\\\"/g > data_fields2.txt\n",
    "list_of_characteristics = [\"code\",\"url\",\"creator\",\"created_t\",\"created_datetime\",\"last_modified_t\",\n",
    "                           \"last_modified_datetime\",\"product_name\",\"generic_name\",\"quantity\"]\n",
    "list_of_tags = [\"packaging\", \"packaging_tags\", \"brands\", \"brands_tags\", \"categories\",\n",
    "                \"categories_tags\", \"categories_fr\",\"origins\", \"origins_tags\",\"manufacturing_places\",\n",
    "                \"manufacturing_places_tags\", \"labels\", \"labels_tags\", \"labels_fr\", \"emb_codes\", \n",
    "                \"emb_codes_tags\", \"first_packaging_code_geo\", \"cities\", \"cities_tags\", \n",
    "                \"purchase_places\", \"stores\", \"countries\", \"countries_tags\", \"countries_fr\"]\n",
    "list_of_ingredients = [\"ingredients_text\", \"traces\", \"traces_tags\"]\n",
    "list_of_misc = [\"serving_size\", \"no_nutriments\", \"additives_n\", \"additives\", \"additives_tags\", \n",
    "                \"ingredients_from_palm_oil_n\", \"ingredients_from_palm_oil\", \n",
    "                \"ingredients_from_palm_oil_tags\", \"ingredients_that_may_be_from_palm_oil_n\", \n",
    "                \"ingredients_that_may_be_from_palm_oil\", \"ingredients_that_may_be_from_palm_oil_tags\", \n",
    "                \"nutrition_grade_fr\", \"main_category\", \"main_category_fr\", \"image_url\", \n",
    "                \"image_small_url\"]\n",
    "list_of_nutri_facts = [\"energy_100g\",\"energy-kj_100g\",\"energy-kcal_100g\",\"proteins_100g\",\"casein_100g\",\n",
    "                       \"serum-proteins_100g\",\"nucleotides_100g\",\"carbohydrates_100g\",\"sugars_100g\",\n",
    "                       \"sucrose_100g\",\"glucose_100g\",\"fructose_100g\",\"lactose_100g\",\"maltose_100g\",\n",
    "                       \"maltodextrins_100g\",\"starch_100g\",\"polyols_100g\",\"fat_100g\",\"saturated-fat_100g\",\n",
    "                       \"butyric-acid_100g\",\"caproic-acid_100g\",\"caprylic-acid_100g\",\"capric-acid_100g\",\n",
    "                       \"lauric-acid_100g\",\"myristic-acid_100g\",\"palmitic-acid_100g\",\"stearic-acid_100g\",\n",
    "                       \"arachidic-acid_100g\",\"behenic-acid_100g\",\"lignoceric-acid_100g\",\"cerotic-acid_100g\",\n",
    "                       \"montanic-acid_100g\",\"melissic-acid_100g\",\"monounsaturated-fat_100g\",\n",
    "                       \"polyunsaturated-fat_100g\",\"omega-3-fat_100g\",\"alpha-linolenic-acid_100g\",\n",
    "                       \"eicosapentaenoic-acid_100g\",\"docosahexaenoic-acid_100g\",\"omega-6-fat_100g\",\n",
    "                       \"linoleic-acid_100g\",\"arachidonic-acid_100g\",\"gamma-linolenic-acid_100g\",\n",
    "                       \"dihomo-gamma-linolenic-acid_100g\",\"omega-9-fat_100g\",\"oleic-acid_100g\",\n",
    "                       \"elaidic-acid_100g\",\"gondoic-acid_100g\",\"mead-acid_100g\",\"erucic-acid_100g\",\n",
    "                       \"nervonic-acid_100g\",\"trans-fat_100g\",\"cholesterol_100g\",\"fiber_100g\",\"sodium_100g\",\n",
    "                       \"alcohol_100g\",\"vitamin-a_100g\",\"vitamin-d_100g\",\"vitamin-e_100g\",\"vitamin-k_100g\",\n",
    "                       \"vitamin-c_100g\",\"vitamin-b1_100g\",\"vitamin-b2_100g\",\"vitamin-pp_100g\",\n",
    "                       \"vitamin-b6_100g\",\"vitamin-b9_100g\",\"vitamin-b12_100g\",\"biotin_100g\",\n",
    "                       \"pantothenic-acid_100g\",\"silica_100g\",\"bicarbonate_100g\",\"potassium_100g\",\n",
    "                       \"chloride_100g\",\"calcium_100g\",\"phosphorus_100g\",\"iron_100g\",\"magnesium_100g\",\n",
    "                       \"zinc_100g\",\"copper_100g\",\"manganese_100g\",\"fluoride_100g\",\"selenium_100g\",\n",
    "                       \"chromium_100g\",\"molybdenum_100g\",\"iodine_100g\",\"caffeine_100g\",\"taurine_100g\",\n",
    "                       \"ph_100g\",\"fruits-vegetables-nuts_100g\",\"carbon-footprint_100g\",\n",
    "                       \"nutrition-score-fr_100g\",\"nutrition-score-uk_100g\"]"
   ]
  },
  {
   "cell_type": "markdown",
   "metadata": {},
   "source": [
    "Then I used this partition to explore the data : these category allowed me to have an idea of the values of each variable in one hand and to determine the good type of each variable (set just after). I used the following functionm changing the category of the varibles. To ease the re-utilisation of this code, I commented the different possibilities : "
   ]
  },
  {
   "cell_type": "code",
   "execution_count": 9,
   "metadata": {
    "scrolled": true
   },
   "outputs": [
    {
     "name": "stdout",
     "output_type": "stream",
     "text": [
      "-- energy_100g\n",
      "ex of values =  [1255.0 305.0 1220.0 2243.0 1985.0 2092.0 304.0 1837.0]\n",
      "-- energy-kj_100g  : no data\n",
      "-- energy-kcal_100g\n",
      "ex of values =  [467.6 245.0 200.0 294.0 100.0 288.0 391.0 202.0]\n",
      "-- proteins_100g\n",
      "ex of values =  [6.6666666666667 7.5 1.0 6.76 8.33 0.0 20.0 2.1]\n",
      "-- casein_100g  : no data\n",
      "-- serum-proteins_100g  : no data\n",
      "-- nucleotides_100g  : no data\n",
      "-- carbohydrates_100g\n",
      "ex of values =  [67.0 53.57 82.7 3.8 86.67 5.9 37.2 76.0]\n",
      "-- sugars_100g\n",
      "ex of values =  [3.53 6.1 2.9 29.9 38.0 0.0 6.3 56.0]\n",
      "-- sucrose_100g  : no data\n",
      "-- glucose_100g  : no data\n",
      "-- fructose_100g  : no data\n",
      "-- lactose_100g  : no data\n",
      "-- maltose_100g  : no data\n",
      "-- maltodextrins_100g  : no data\n",
      "-- starch_100g  : no data\n",
      "-- polyols_100g  : no data\n",
      "-- fat_100g\n",
      "ex of values =  [1.5 25.0 0.0 0.0 2.4 0.88 0.5 9.0]\n",
      "-- saturated-fat_100g\n",
      "ex of values =  [15.0 0.3 6.0 6.1 0.1 0.0 4.52 1.1]\n",
      "-- butyric-acid_100g  : no data\n",
      "-- caproic-acid_100g  : no data\n",
      "-- caprylic-acid_100g  : no data\n",
      "-- capric-acid_100g  : no data\n",
      "-- lauric-acid_100g  : no data\n",
      "-- myristic-acid_100g  : no data\n",
      "-- palmitic-acid_100g  : no data\n",
      "-- stearic-acid_100g  : no data\n",
      "-- arachidic-acid_100g  : no data\n",
      "-- behenic-acid_100g  : no data\n",
      "-- lignoceric-acid_100g  : no data\n",
      "-- cerotic-acid_100g  : no data\n",
      "-- montanic-acid_100g  : no data\n",
      "-- melissic-acid_100g  : no data\n",
      "-- monounsaturated-fat_100g  : no data\n",
      "-- polyunsaturated-fat_100g  : no data\n",
      "-- omega-3-fat_100g  : no data\n",
      "-- alpha-linolenic-acid_100g  : no data\n",
      "-- eicosapentaenoic-acid_100g  : no data\n",
      "-- docosahexaenoic-acid_100g  : no data\n",
      "-- omega-6-fat_100g  : no data\n",
      "-- linoleic-acid_100g  : no data\n",
      "-- arachidonic-acid_100g  : no data\n",
      "-- gamma-linolenic-acid_100g  : no data\n",
      "-- dihomo-gamma-linolenic-acid_100g  : no data\n",
      "-- omega-9-fat_100g  : no data\n",
      "-- oleic-acid_100g  : no data\n",
      "-- elaidic-acid_100g  : no data\n",
      "-- gondoic-acid_100g  : no data\n",
      "-- mead-acid_100g  : no data\n",
      "-- erucic-acid_100g  : no data\n",
      "-- nervonic-acid_100g  : no data\n",
      "-- trans-fat_100g\n",
      "ex of values =  [0.0 0.0 0.0 0.0 0.1 0.0 0.0 0.0]\n",
      "-- cholesterol_100g\n",
      "ex of values =  [0.0 0.0 0.0 0.0 0.04 0.0 0.0 0.0]\n",
      "-- fiber_100g\n",
      "ex of values =  [6.5 3.5 0.4 0.0 1.6 0.0 1.1 3.6]\n",
      "-- sodium_100g\n",
      "ex of values =  [0.6 0.714 0.52 0.32 0.44 0.514 0.182 0.482]\n",
      "-- alcohol_100g  : no data\n",
      "-- vitamin-a_100g\n",
      "ex of values =  [0.00075 0.0 0.0010713 7.8e-06 0.0 0.0 0.0 0.0003213]\n",
      "-- vitamin-d_100g  : no data\n",
      "-- vitamin-e_100g  : no data\n",
      "-- vitamin-k_100g  : no data\n",
      "-- vitamin-c_100g\n",
      "ex of values =  [0.0 0.003 0.0 0.001 0.0108 0.0014 0.0009 0.0214]\n",
      "-- vitamin-b1_100g  : no data\n",
      "-- vitamin-b2_100g  : no data\n",
      "-- vitamin-pp_100g  : no data\n",
      "-- vitamin-b6_100g  : no data\n",
      "-- vitamin-b9_100g  : no data\n",
      "-- vitamin-b12_100g  : no data\n",
      "-- biotin_100g  : no data\n",
      "-- pantothenic-acid_100g  : no data\n",
      "-- silica_100g  : no data\n",
      "-- bicarbonate_100g  : no data\n",
      "-- potassium_100g  : no data\n",
      "-- chloride_100g  : no data\n",
      "-- calcium_100g\n",
      "ex of values =  [0.067 0.0 0.0 0.048 0.0 '0.025' 0.02 0.01]\n",
      "-- phosphorus_100g  : no data\n",
      "-- iron_100g\n",
      "ex of values =  [0.0 0.0004 0.0 0.00357 0.01029 0.0037 0.0024 0.00138]\n",
      "-- magnesium_100g  : no data\n",
      "-- zinc_100g  : no data\n",
      "-- copper_100g  : no data\n",
      "-- manganese_100g  : no data\n",
      "-- fluoride_100g  : no data\n",
      "-- selenium_100g  : no data\n",
      "-- chromium_100g  : no data\n",
      "-- molybdenum_100g  : no data\n",
      "-- iodine_100g  : no data\n",
      "-- caffeine_100g  : no data\n",
      "-- taurine_100g  : no data\n",
      "-- ph_100g  : no data\n",
      "-- fruits-vegetables-nuts_100g  : no data\n",
      "-- carbon-footprint_100g  : no data\n",
      "-- nutrition-score-fr_100g\n",
      "ex of values =  [11.0 6.0 19.0 '27' -1.0 14.0 13.0 19.0]\n",
      "-- nutrition-score-uk_100g  : no data\n"
     ]
    }
   ],
   "source": [
    "def print_values_from_list_of_var(df_,list_of_var):\n",
    "    for var in list_of_var : \n",
    "        if var in df_.columns:\n",
    "            print(\"--\",var)\n",
    "            tmp = df_[df_.columns.intersection([var])]\n",
    "            var_values = tmp.iloc[(~pd.isna(tmp).values)]\n",
    "            if len(var_values) < 8:\n",
    "                print(\"values = \", var_values.values)\n",
    "            else :\n",
    "                print(\"ex of values = \", \n",
    "                      np.array(tmp.iloc[(~pd.isna(tmp).values)].sample(n=8).values).transpose()[0])\n",
    "        else : \n",
    "            print(\"--\", var, \" : no data\")\n",
    "            \n",
    "# list_of_var = list_of_characteristics\n",
    "# list_of_var = list_of_tags\n",
    "# list_of_var = list_of_ingredients\n",
    "# list_of_var = list_of_misc\n",
    "list_of_var = list_of_nutri_facts\n",
    "print_values_from_list_of_var(df,list_of_var)"
   ]
  },
  {
   "cell_type": "markdown",
   "metadata": {},
   "source": [
    "This variable-type analysis allowed me to select the non-relevant variables for my study, such as the dates. I have keep some variables like the country or the name of the person that put the product in the database, just for the exercice to clean text data. This subset will be call \"data\" :"
   ]
  },
  {
   "cell_type": "code",
   "execution_count": 10,
   "metadata": {},
   "outputs": [],
   "source": [
    "interest_var = pd.Index([\"code\",\"creator\",\"countries\",\"additives_n\",\"ingredients_from_palm_oil_n\",\n",
    "                \"ingredients_that_may_be_from_palm_oil_tags\"])\n",
    "interest_var = interest_var.append(df.columns.intersection(list_of_nutri_facts))\n",
    "\n",
    "data = df[df.columns.intersection(interest_var)].copy()\n",
    "# data = data.fillna(pd.NA)"
   ]
  },
  {
   "cell_type": "code",
   "execution_count": 28,
   "metadata": {},
   "outputs": [],
   "source": [
    "### GESTION DES TYPES DANS DATA !!\n",
    "## STR \n",
    "str_var = list_of_characteristics \n",
    "str_var += list_of_tags\n",
    "str_var += list_of_ingredients\n",
    "str_var += list_of_misc\n",
    "str_var = data.columns.intersection(str_var)\n",
    "data[str_var] = data[str_var].astype(\"str\")\n",
    "\n",
    "## FLOATS (and INTs)\n",
    "float_var = list_of_nutri_facts\n",
    "float_var += [\"additives_n\", \"ingredients_from_palm_oil_n\", \"ingredients_that_may_be_from_palm_oil_tags\"]\n",
    "float_var = data.columns.intersection(float_var)\n",
    "data[float_var] = data[float_var].astype(\"float\")\n",
    "\n",
    "## CATEGORY\n",
    "data[\"creator\"] = data[[\"creator\",\"nutrition-score-fr_100g\"]].astype(\"category\")\n",
    "# data.dtypes"
   ]
  },
  {
   "cell_type": "markdown",
   "metadata": {},
   "source": [
    "Now that the float types are ok, I can call the \"describe\" method of pandas, to see the summary of the descriptive statistics : "
   ]
  },
  {
   "cell_type": "code",
   "execution_count": 29,
   "metadata": {
    "scrolled": true
   },
   "outputs": [
    {
     "data": {
      "text/html": [
       "<div>\n",
       "<style scoped>\n",
       "    .dataframe tbody tr th:only-of-type {\n",
       "        vertical-align: middle;\n",
       "    }\n",
       "\n",
       "    .dataframe tbody tr th {\n",
       "        vertical-align: top;\n",
       "    }\n",
       "\n",
       "    .dataframe thead th {\n",
       "        text-align: right;\n",
       "    }\n",
       "</style>\n",
       "<table border=\"1\" class=\"dataframe\">\n",
       "  <thead>\n",
       "    <tr style=\"text-align: right;\">\n",
       "      <th></th>\n",
       "      <th>additives_n</th>\n",
       "      <th>ingredients_from_palm_oil_n</th>\n",
       "      <th>energy-kcal_100g</th>\n",
       "      <th>energy_100g</th>\n",
       "      <th>fat_100g</th>\n",
       "      <th>saturated-fat_100g</th>\n",
       "      <th>trans-fat_100g</th>\n",
       "      <th>cholesterol_100g</th>\n",
       "      <th>carbohydrates_100g</th>\n",
       "      <th>sugars_100g</th>\n",
       "      <th>fiber_100g</th>\n",
       "      <th>proteins_100g</th>\n",
       "      <th>sodium_100g</th>\n",
       "      <th>vitamin-a_100g</th>\n",
       "      <th>vitamin-c_100g</th>\n",
       "      <th>calcium_100g</th>\n",
       "      <th>iron_100g</th>\n",
       "      <th>nutrition-score-fr_100g</th>\n",
       "    </tr>\n",
       "  </thead>\n",
       "  <tbody>\n",
       "    <tr>\n",
       "      <th>count</th>\n",
       "      <td>7240.000000</td>\n",
       "      <td>7240.000000</td>\n",
       "      <td>9347.000000</td>\n",
       "      <td>9965.000000</td>\n",
       "      <td>9965.000000</td>\n",
       "      <td>9965.000000</td>\n",
       "      <td>3511.000000</td>\n",
       "      <td>3558.000000</td>\n",
       "      <td>9961.000000</td>\n",
       "      <td>9965.000000</td>\n",
       "      <td>5772.000000</td>\n",
       "      <td>9965.000000</td>\n",
       "      <td>9973.000000</td>\n",
       "      <td>2827.000000</td>\n",
       "      <td>2884.000000</td>\n",
       "      <td>3614.000000</td>\n",
       "      <td>3515.000000</td>\n",
       "      <td>10000.000000</td>\n",
       "    </tr>\n",
       "    <tr>\n",
       "      <th>mean</th>\n",
       "      <td>2.213122</td>\n",
       "      <td>0.019337</td>\n",
       "      <td>282.343514</td>\n",
       "      <td>1172.058048</td>\n",
       "      <td>14.387807</td>\n",
       "      <td>5.400525</td>\n",
       "      <td>0.034842</td>\n",
       "      <td>0.077349</td>\n",
       "      <td>28.761535</td>\n",
       "      <td>13.463554</td>\n",
       "      <td>2.846405</td>\n",
       "      <td>8.528846</td>\n",
       "      <td>0.482202</td>\n",
       "      <td>0.001980</td>\n",
       "      <td>0.022139</td>\n",
       "      <td>0.099759</td>\n",
       "      <td>0.001755</td>\n",
       "      <td>9.281100</td>\n",
       "    </tr>\n",
       "    <tr>\n",
       "      <th>std</th>\n",
       "      <td>3.108797</td>\n",
       "      <td>0.137716</td>\n",
       "      <td>192.996710</td>\n",
       "      <td>804.043669</td>\n",
       "      <td>17.671678</td>\n",
       "      <td>8.159627</td>\n",
       "      <td>0.469659</td>\n",
       "      <td>1.969172</td>\n",
       "      <td>27.562831</td>\n",
       "      <td>18.706114</td>\n",
       "      <td>4.292666</td>\n",
       "      <td>8.854721</td>\n",
       "      <td>3.304234</td>\n",
       "      <td>0.077055</td>\n",
       "      <td>0.560333</td>\n",
       "      <td>0.250114</td>\n",
       "      <td>0.003015</td>\n",
       "      <td>8.945126</td>\n",
       "    </tr>\n",
       "    <tr>\n",
       "      <th>min</th>\n",
       "      <td>0.000000</td>\n",
       "      <td>0.000000</td>\n",
       "      <td>0.000000</td>\n",
       "      <td>0.000000</td>\n",
       "      <td>0.000000</td>\n",
       "      <td>0.000000</td>\n",
       "      <td>0.000000</td>\n",
       "      <td>0.000000</td>\n",
       "      <td>0.000000</td>\n",
       "      <td>0.000000</td>\n",
       "      <td>0.000000</td>\n",
       "      <td>0.000000</td>\n",
       "      <td>0.000000</td>\n",
       "      <td>0.000000</td>\n",
       "      <td>0.000000</td>\n",
       "      <td>0.000000</td>\n",
       "      <td>0.000000</td>\n",
       "      <td>-14.000000</td>\n",
       "    </tr>\n",
       "    <tr>\n",
       "      <th>25%</th>\n",
       "      <td>0.000000</td>\n",
       "      <td>0.000000</td>\n",
       "      <td>110.000000</td>\n",
       "      <td>455.000000</td>\n",
       "      <td>1.100000</td>\n",
       "      <td>0.100000</td>\n",
       "      <td>0.000000</td>\n",
       "      <td>0.000000</td>\n",
       "      <td>4.200000</td>\n",
       "      <td>0.900000</td>\n",
       "      <td>0.000000</td>\n",
       "      <td>2.040000</td>\n",
       "      <td>0.040000</td>\n",
       "      <td>0.000000</td>\n",
       "      <td>0.000000</td>\n",
       "      <td>0.000000</td>\n",
       "      <td>0.000000</td>\n",
       "      <td>2.000000</td>\n",
       "    </tr>\n",
       "    <tr>\n",
       "      <th>50%</th>\n",
       "      <td>1.000000</td>\n",
       "      <td>0.000000</td>\n",
       "      <td>271.000000</td>\n",
       "      <td>1117.000000</td>\n",
       "      <td>8.200000</td>\n",
       "      <td>2.000000</td>\n",
       "      <td>0.000000</td>\n",
       "      <td>0.000000</td>\n",
       "      <td>16.900000</td>\n",
       "      <td>4.100000</td>\n",
       "      <td>1.600000</td>\n",
       "      <td>6.100000</td>\n",
       "      <td>0.240000</td>\n",
       "      <td>0.000000</td>\n",
       "      <td>0.000000</td>\n",
       "      <td>0.038000</td>\n",
       "      <td>0.000960</td>\n",
       "      <td>10.000000</td>\n",
       "    </tr>\n",
       "    <tr>\n",
       "      <th>75%</th>\n",
       "      <td>3.000000</td>\n",
       "      <td>0.000000</td>\n",
       "      <td>411.000000</td>\n",
       "      <td>1710.000000</td>\n",
       "      <td>22.700000</td>\n",
       "      <td>7.800000</td>\n",
       "      <td>0.000000</td>\n",
       "      <td>0.021000</td>\n",
       "      <td>53.800000</td>\n",
       "      <td>20.000000</td>\n",
       "      <td>3.600000</td>\n",
       "      <td>12.000000</td>\n",
       "      <td>0.520000</td>\n",
       "      <td>0.000100</td>\n",
       "      <td>0.003425</td>\n",
       "      <td>0.114000</td>\n",
       "      <td>0.002400</td>\n",
       "      <td>16.000000</td>\n",
       "    </tr>\n",
       "    <tr>\n",
       "      <th>max</th>\n",
       "      <td>28.000000</td>\n",
       "      <td>1.000000</td>\n",
       "      <td>1682.000000</td>\n",
       "      <td>7037.000000</td>\n",
       "      <td>100.000000</td>\n",
       "      <td>93.330000</td>\n",
       "      <td>20.000000</td>\n",
       "      <td>80.000000</td>\n",
       "      <td>100.000000</td>\n",
       "      <td>100.000000</td>\n",
       "      <td>56.000000</td>\n",
       "      <td>91.000000</td>\n",
       "      <td>220.000000</td>\n",
       "      <td>4.000000</td>\n",
       "      <td>24.000000</td>\n",
       "      <td>10.500000</td>\n",
       "      <td>0.034840</td>\n",
       "      <td>40.000000</td>\n",
       "    </tr>\n",
       "  </tbody>\n",
       "</table>\n",
       "</div>"
      ],
      "text/plain": [
       "0      additives_n  ingredients_from_palm_oil_n  energy-kcal_100g  \\\n",
       "count  7240.000000                  7240.000000       9347.000000   \n",
       "mean      2.213122                     0.019337        282.343514   \n",
       "std       3.108797                     0.137716        192.996710   \n",
       "min       0.000000                     0.000000          0.000000   \n",
       "25%       0.000000                     0.000000        110.000000   \n",
       "50%       1.000000                     0.000000        271.000000   \n",
       "75%       3.000000                     0.000000        411.000000   \n",
       "max      28.000000                     1.000000       1682.000000   \n",
       "\n",
       "0      energy_100g     fat_100g  saturated-fat_100g  trans-fat_100g  \\\n",
       "count  9965.000000  9965.000000         9965.000000     3511.000000   \n",
       "mean   1172.058048    14.387807            5.400525        0.034842   \n",
       "std     804.043669    17.671678            8.159627        0.469659   \n",
       "min       0.000000     0.000000            0.000000        0.000000   \n",
       "25%     455.000000     1.100000            0.100000        0.000000   \n",
       "50%    1117.000000     8.200000            2.000000        0.000000   \n",
       "75%    1710.000000    22.700000            7.800000        0.000000   \n",
       "max    7037.000000   100.000000           93.330000       20.000000   \n",
       "\n",
       "0      cholesterol_100g  carbohydrates_100g  sugars_100g   fiber_100g  \\\n",
       "count       3558.000000         9961.000000  9965.000000  5772.000000   \n",
       "mean           0.077349           28.761535    13.463554     2.846405   \n",
       "std            1.969172           27.562831    18.706114     4.292666   \n",
       "min            0.000000            0.000000     0.000000     0.000000   \n",
       "25%            0.000000            4.200000     0.900000     0.000000   \n",
       "50%            0.000000           16.900000     4.100000     1.600000   \n",
       "75%            0.021000           53.800000    20.000000     3.600000   \n",
       "max           80.000000          100.000000   100.000000    56.000000   \n",
       "\n",
       "0      proteins_100g  sodium_100g  vitamin-a_100g  vitamin-c_100g  \\\n",
       "count    9965.000000  9973.000000     2827.000000     2884.000000   \n",
       "mean        8.528846     0.482202        0.001980        0.022139   \n",
       "std         8.854721     3.304234        0.077055        0.560333   \n",
       "min         0.000000     0.000000        0.000000        0.000000   \n",
       "25%         2.040000     0.040000        0.000000        0.000000   \n",
       "50%         6.100000     0.240000        0.000000        0.000000   \n",
       "75%        12.000000     0.520000        0.000100        0.003425   \n",
       "max        91.000000   220.000000        4.000000       24.000000   \n",
       "\n",
       "0      calcium_100g    iron_100g  nutrition-score-fr_100g  \n",
       "count   3614.000000  3515.000000             10000.000000  \n",
       "mean       0.099759     0.001755                 9.281100  \n",
       "std        0.250114     0.003015                 8.945126  \n",
       "min        0.000000     0.000000               -14.000000  \n",
       "25%        0.000000     0.000000                 2.000000  \n",
       "50%        0.038000     0.000960                10.000000  \n",
       "75%        0.114000     0.002400                16.000000  \n",
       "max       10.500000     0.034840                40.000000  "
      ]
     },
     "execution_count": 29,
     "metadata": {},
     "output_type": "execute_result"
    }
   ],
   "source": [
    "data.describe()"
   ]
  },
  {
   "cell_type": "markdown",
   "metadata": {},
   "source": [
    "## Modification of \"ingredients_drom_palm_oil_n\" \n",
    "\n",
    "This variable was not well documented, my idea is to go back to a simple boolean variable : is there (or not) some ingredients with palm oil ? The issue is that there already exists such a variable. If it is not in my dataset, I create a new variable, if it is, I concat the 2 variables "
   ]
  },
  {
   "cell_type": "markdown",
   "metadata": {},
   "source": [
    "I decided to modify some of my variables : \n",
    "* if there is no \"ingredients_from_palm_oil\" but a \"ingredients_from_palm_oil_n\" colunm, I transformed this one into the first one.\n"
   ]
  },
  {
   "cell_type": "code",
   "execution_count": 30,
   "metadata": {},
   "outputs": [],
   "source": [
    "############## dev code ###################\n",
    "##\n",
    "## 1st idea of code : \n",
    "##\n",
    "\n",
    "data2 = data.copy()\n",
    "if \"ingredients_from_palm_oil_n\" in data2.columns :\n",
    "    if ~(\"ingredients_from_palm_oil\" in data2.columns) :\n",
    "        data2.insert(loc = data2.columns.get_loc(\"ingredients_from_palm_oil_n\"),\n",
    "                    column = \"ingredients_from_palm_oil\",\n",
    "                    value = 0)\n",
    "        index_1 = data2[data2[\"ingredients_from_palm_oil_n\"]==1].index\n",
    "        data2.at[index_1,\"ingredients_from_palm_oil\"] = 1\n",
    "        index_nan = data2[pd.isna(data2[\"ingredients_from_palm_oil_n\"])].index\n",
    "        data2.at[index_nan,\"ingredients_from_palm_oil\"] = np.nan\n",
    "        \n",
    "    data2.drop(\"ingredients_from_palm_oil_n\", axis=1, inplace = True)\n",
    "data2.iloc[:,3:10]\n",
    "\n",
    "## \n",
    "## after reflexion, better to do modify directly the line :\n",
    "##\n",
    "data2 = data.copy()\n",
    "if \"ingredients_from_palm_oil_n\" in data2.columns :\n",
    "    if ~(\"ingredients_from_palm_oil\" in data2.columns) :\n",
    "        data2.at[data2[\"ingredients_from_palm_oil_n\"] > 0, \"ingredients_from_palm_oil_n\"] = 1\n",
    "        data2.rename(columns={\"ingredients_from_palm_oil_n\":\"ingredients_from_palm_oil\"}, inplace=True)"
   ]
  },
  {
   "cell_type": "markdown",
   "metadata": {},
   "source": [
    "I start to isolate the code I want to re-use to define my prepocess method **(idea : object oriented programmation)**"
   ]
  },
  {
   "cell_type": "code",
   "execution_count": 150,
   "metadata": {},
   "outputs": [
    {
     "name": "stdout",
     "output_type": "stream",
     "text": [
      "vlavla\n"
     ]
    }
   ],
   "source": [
    "def preprocess_data(data):\n",
    "    if \"ingredients_from_palm_oil_n\" in data.columns :\n",
    "        data.at[data[\"ingredients_from_palm_oil_n\"] > 0, \"ingredients_from_palm_oil_n\"] = 1\n",
    "        if (\"ingredients_from_palm_oil\" in data.columns) :\n",
    "            data['ingredients_from_palm_oil'].fillna(data['ingredients_from_palm_oil_n'], inplace=True)\n",
    "            data.drop(\"ingredients_from_palm_oil_n\", inplace = True, axis = 1)\n",
    "            print(\"vlavla\")\n",
    "        else :\n",
    "            data.rename(columns={\"ingredients_from_palm_oil_n\":\"ingredients_from_palm_oil\"}, inplace=True)\n",
    "            print(\"vlivli\")\n",
    "# data2 = data.copy()\n",
    "# data2.at[:,\"ingredients_from_palm_oil\"] = np.where(data2[\"nutrition-score-fr_100g\"]<0,0,np.nan)\n",
    "# data2.at[data2[\"nutrition-score-fr_100g\"]>20,\"ingredients_from_palm_oil\"] = 1\n",
    "preprocess_data(data)"
   ]
  },
  {
   "cell_type": "code",
   "execution_count": 147,
   "metadata": {},
   "outputs": [],
   "source": [
    "# data2 = data.copy()\n",
    "\n",
    "# data.at[:,\"ingredients_from_palm_oil\"] = np.where(data2[\"nutrition-score-fr_100g\"]<0,0,np.nan)\n",
    "# data.at[data[\"nutrition-score-fr_100g\"]>10,\"ingredients_from_palm_oil\"] = 1\n",
    "# data.at[data[\"ingredients_from_palm_oil_n\"] > 0, \"ingredients_from_palm_oil_n\"] = 1\n",
    "# data.at[:,\"tmp\"] = data[\"ingredients_from_palm_oil\"].values\n",
    "\n",
    "# data2['ingredients_from_palm_oil'].fillna(data['ingredients_from_palm_oil_n'], inplace=True)"
   ]
  },
  {
   "cell_type": "code",
   "execution_count": 149,
   "metadata": {},
   "outputs": [
    {
     "data": {
      "text/html": [
       "<div>\n",
       "<style scoped>\n",
       "    .dataframe tbody tr th:only-of-type {\n",
       "        vertical-align: middle;\n",
       "    }\n",
       "\n",
       "    .dataframe tbody tr th {\n",
       "        vertical-align: top;\n",
       "    }\n",
       "\n",
       "    .dataframe thead th {\n",
       "        text-align: right;\n",
       "    }\n",
       "</style>\n",
       "<table border=\"1\" class=\"dataframe\">\n",
       "  <thead>\n",
       "    <tr style=\"text-align: right;\">\n",
       "      <th></th>\n",
       "      <th>code</th>\n",
       "      <th>ingredients_from_palm_oil</th>\n",
       "    </tr>\n",
       "  </thead>\n",
       "  <tbody>\n",
       "    <tr>\n",
       "      <th>688745</th>\n",
       "      <td>3250390520405</td>\n",
       "      <td>0.0</td>\n",
       "    </tr>\n",
       "    <tr>\n",
       "      <th>972336</th>\n",
       "      <td>3760143531089</td>\n",
       "      <td>NaN</td>\n",
       "    </tr>\n",
       "    <tr>\n",
       "      <th>1161847</th>\n",
       "      <td>5020000168000</td>\n",
       "      <td>1.0</td>\n",
       "    </tr>\n",
       "    <tr>\n",
       "      <th>1607411</th>\n",
       "      <td>8437011986634</td>\n",
       "      <td>NaN</td>\n",
       "    </tr>\n",
       "    <tr>\n",
       "      <th>1532610</th>\n",
       "      <td>8421395045636</td>\n",
       "      <td>1.0</td>\n",
       "    </tr>\n",
       "    <tr>\n",
       "      <th>...</th>\n",
       "      <td>...</td>\n",
       "      <td>...</td>\n",
       "    </tr>\n",
       "    <tr>\n",
       "      <th>186909</th>\n",
       "      <td>71430011393</td>\n",
       "      <td>0.0</td>\n",
       "    </tr>\n",
       "    <tr>\n",
       "      <th>652243</th>\n",
       "      <td>3155250364734</td>\n",
       "      <td>1.0</td>\n",
       "    </tr>\n",
       "    <tr>\n",
       "      <th>1257924</th>\n",
       "      <td>5604253990191</td>\n",
       "      <td>0.0</td>\n",
       "    </tr>\n",
       "    <tr>\n",
       "      <th>435000</th>\n",
       "      <td>856244005123</td>\n",
       "      <td>0.0</td>\n",
       "    </tr>\n",
       "    <tr>\n",
       "      <th>250573</th>\n",
       "      <td>88702787115</td>\n",
       "      <td>0.0</td>\n",
       "    </tr>\n",
       "  </tbody>\n",
       "</table>\n",
       "<p>10000 rows × 2 columns</p>\n",
       "</div>"
      ],
      "text/plain": [
       "0                 code  ingredients_from_palm_oil\n",
       "688745   3250390520405                        0.0\n",
       "972336   3760143531089                        NaN\n",
       "1161847  5020000168000                        1.0\n",
       "1607411  8437011986634                        NaN\n",
       "1532610  8421395045636                        1.0\n",
       "...                ...                        ...\n",
       "186909     71430011393                        0.0\n",
       "652243   3155250364734                        1.0\n",
       "1257924  5604253990191                        0.0\n",
       "435000    856244005123                        0.0\n",
       "250573     88702787115                        0.0\n",
       "\n",
       "[10000 rows x 2 columns]"
      ]
     },
     "execution_count": 149,
     "metadata": {},
     "output_type": "execute_result"
    }
   ],
   "source": [
    "data2.loc[:,[\"code\",\"ingredients_from_palm_oil\"]]"
   ]
  },
  {
   "cell_type": "code",
   "execution_count": 128,
   "metadata": {},
   "outputs": [
    {
     "data": {
      "text/html": [
       "<div>\n",
       "<style scoped>\n",
       "    .dataframe tbody tr th:only-of-type {\n",
       "        vertical-align: middle;\n",
       "    }\n",
       "\n",
       "    .dataframe tbody tr th {\n",
       "        vertical-align: top;\n",
       "    }\n",
       "\n",
       "    .dataframe thead th {\n",
       "        text-align: right;\n",
       "    }\n",
       "</style>\n",
       "<table border=\"1\" class=\"dataframe\">\n",
       "  <thead>\n",
       "    <tr style=\"text-align: right;\">\n",
       "      <th></th>\n",
       "      <th>code</th>\n",
       "      <th>ingredients_from_palm_oil</th>\n",
       "    </tr>\n",
       "  </thead>\n",
       "  <tbody>\n",
       "    <tr>\n",
       "      <th>688745</th>\n",
       "      <td>3250390520405</td>\n",
       "      <td>0.0</td>\n",
       "    </tr>\n",
       "    <tr>\n",
       "      <th>972336</th>\n",
       "      <td>3760143531089</td>\n",
       "      <td>NaN</td>\n",
       "    </tr>\n",
       "    <tr>\n",
       "      <th>1161847</th>\n",
       "      <td>5020000168000</td>\n",
       "      <td>1.0</td>\n",
       "    </tr>\n",
       "    <tr>\n",
       "      <th>1607411</th>\n",
       "      <td>8437011986634</td>\n",
       "      <td>NaN</td>\n",
       "    </tr>\n",
       "    <tr>\n",
       "      <th>1532610</th>\n",
       "      <td>8421395045636</td>\n",
       "      <td>1.0</td>\n",
       "    </tr>\n",
       "    <tr>\n",
       "      <th>...</th>\n",
       "      <td>...</td>\n",
       "      <td>...</td>\n",
       "    </tr>\n",
       "    <tr>\n",
       "      <th>652243</th>\n",
       "      <td>3155250364734</td>\n",
       "      <td>NaN</td>\n",
       "    </tr>\n",
       "    <tr>\n",
       "      <th>1257924</th>\n",
       "      <td>5604253990191</td>\n",
       "      <td>NaN</td>\n",
       "    </tr>\n",
       "    <tr>\n",
       "      <th>435000</th>\n",
       "      <td>856244005123</td>\n",
       "      <td>NaN</td>\n",
       "    </tr>\n",
       "    <tr>\n",
       "      <th>250573</th>\n",
       "      <td>88702787115</td>\n",
       "      <td>NaN</td>\n",
       "    </tr>\n",
       "    <tr>\n",
       "      <th>ingredients_from_palm_oil</th>\n",
       "      <td>NaN</td>\n",
       "      <td>NaN</td>\n",
       "    </tr>\n",
       "  </tbody>\n",
       "</table>\n",
       "<p>10001 rows × 2 columns</p>\n",
       "</div>"
      ],
      "text/plain": [
       "0                                   code  ingredients_from_palm_oil\n",
       "688745                     3250390520405                        0.0\n",
       "972336                     3760143531089                        NaN\n",
       "1161847                    5020000168000                        1.0\n",
       "1607411                    8437011986634                        NaN\n",
       "1532610                    8421395045636                        1.0\n",
       "...                                  ...                        ...\n",
       "652243                     3155250364734                        NaN\n",
       "1257924                    5604253990191                        NaN\n",
       "435000                      856244005123                        NaN\n",
       "250573                       88702787115                        NaN\n",
       "ingredients_from_palm_oil            NaN                        NaN\n",
       "\n",
       "[10001 rows x 2 columns]"
      ]
     },
     "execution_count": 128,
     "metadata": {},
     "output_type": "execute_result"
    }
   ],
   "source": [
    "data2.loc[:,[\"code\",\"ingredients_from_palm_oil\"]]"
   ]
  },
  {
   "cell_type": "markdown",
   "metadata": {},
   "source": [
    "# 1.3 Errors in numerical data :\n",
    "\n",
    "I had so many variables to check ! \n",
    "To ease this work, I propose the following procedure :\n",
    "\n",
    "* 1. graphical reading : to plot the histograms allowed me to pre-select the possible values for each variables. For example, much of the data \"_100g\" have values above 100, that can not be normal. \n",
    "* 2. Put the possible values in a dictonary and ajust it for every variables, to select the outliers or error data. \n",
    "* 3. Have a breaf check to be sure that the data I dropped was in deed outliers.\n",
    "\n",
    "\n",
    "<!-- In the course, they decompose data in 5 classes : \n",
    "* lexical errors\n",
    "* irregularity error\n",
    "* Formatage error\n",
    "* Duplicates\n",
    "* Outliers -->"
   ]
  },
  {
   "cell_type": "code",
   "execution_count": 12,
   "metadata": {},
   "outputs": [
    {
     "data": {
      "image/png": "[encoded data removed]",
      "text/plain": [
       "<Figure size 1080x1440 with 17 Axes>"
      ]
     },
     "metadata": {
      "needs_background": "light"
     },
     "output_type": "display_data"
    }
   ],
   "source": [
    "nb_line_plot = int(np.floor(len(float_var)/4)+1)\n",
    "fig = plt.figure(figsize=(15, 20))\n",
    "\n",
    "fig_count = 1\n",
    "for var in float_var :#data.columns.intersection(list_of_nutri_facts):\n",
    "    ax = fig.add_subplot(nb_line_plot,4, fig_count,)\n",
    "    nb_bins = min(20, len(np.unique(data[var].dropna().values)))\n",
    "    ax.hist(data[var], bins = nb_bins, color='steelblue', density=True, edgecolor='none')\n",
    "    ax.set_title(var)\n",
    "    fig_count += 1\n",
    "plt.show()"
   ]
  },
  {
   "cell_type": "markdown",
   "metadata": {},
   "source": [
    "To ease this manual part, I used the following function, that takes the column name, the possible values we want to set, and returns the values that are not in this set of values :"
   ]
  },
  {
   "cell_type": "code",
   "execution_count": 13,
   "metadata": {},
   "outputs": [],
   "source": [
    "def extract_irreg_errors_val(colname,possible_values, data = data):\n",
    "    outliers_val = []\n",
    "    col_values = data[colname].drop_duplicates().values\n",
    "    ## check possible values : \n",
    "    min_value, max_value = possible_values\n",
    "    for val in col_values :\n",
    "        if ~np.isnan(val) :\n",
    "            if (val < min_value) or (val > max_value):\n",
    "                outliers_val.append(val)\n",
    "        else : \n",
    "            print(sum(data[colname].isna()),\"missing values\")\n",
    "    print(len(outliers_val), \"irregular errors\")\n",
    "    return outliers_val"
   ]
  },
  {
   "cell_type": "markdown",
   "metadata": {},
   "source": [
    "I made a dictionnary of the possible values each variable can take : "
   ]
  },
  {
   "cell_type": "markdown",
   "metadata": {},
   "source": [
    "For clarity purposes, I just keep an example of how I proceeded to choose my possible values for each variable :"
   ]
  },
  {
   "cell_type": "code",
   "execution_count": 16,
   "metadata": {
    "scrolled": true
   },
   "outputs": [
    {
     "data": {
      "image/png": "[encoded data removed]",
      "text/plain": [
       "<Figure size 1080x360 with 1 Axes>"
      ]
     },
     "metadata": {
      "needs_background": "light"
     },
     "output_type": "display_data"
    },
    {
     "name": "stdout",
     "output_type": "stream",
     "text": [
      "636 missing values\n",
      "2 irregular errors\n"
     ]
    },
    {
     "data": {
      "image/png": "[encoded data removed]",
      "text/plain": [
       "<Figure size 1080x360 with 1 Axes>"
      ]
     },
     "metadata": {
      "needs_background": "light"
     },
     "output_type": "display_data"
    },
    {
     "data": {
      "image/png": "[encoded data removed]",
      "text/plain": [
       "<Figure size 1080x360 with 1 Axes>"
      ]
     },
     "metadata": {
      "needs_background": "light"
     },
     "output_type": "display_data"
    },
    {
     "name": "stdout",
     "output_type": "stream",
     "text": [
      "636 missing values\n",
      "11 irregular errors\n"
     ]
    },
    {
     "data": {
      "text/plain": [
       "array(['Fragata aceitunas negras sin hueso', 'Beef jerky',\n",
       "       'Rillettes sardines fines herbes bio', 'Fuseau lorrain',\n",
       "       'Cordons bleus de poulet', 'Farine Pain Blanc', 'Masa para pizza',\n",
       "       'Ganze Nuss casew und fleur de sel', 'Pâté de campagne Pur Porc'],\n",
       "      dtype=object)"
      ]
     },
     "execution_count": 16,
     "metadata": {},
     "output_type": "execute_result"
    }
   ],
   "source": [
    "data2 = data.copy()\n",
    "colname = \"energy-kcal_100g\"\n",
    "possible_values = [0,1500]\n",
    "\n",
    "## Histogramme global \n",
    "nb_bins = min(50, len(np.unique(data2[colname].dropna().values)))\n",
    "plt.hist(data2[colname], bins = nb_bins, color='steelblue', density=True, edgecolor='none')\n",
    "plt.title(\"before removing outliers \" + colname)\n",
    "plt.show()\n",
    "\n",
    "outliers = extract_irreg_errors_val(colname,possible_values, data = data2)\n",
    "# val_index = data.loc[(data[colname] in outliers),:].index.values\n",
    "data2.at[data2[colname].isin(outliers)] = np.nan\n",
    "\n",
    "## Histogramme : \n",
    "nb_bins = min(50, len(np.unique(data2[colname].dropna().values)))\n",
    "plt.hist(data2[colname], bins = nb_bins, color='steelblue', density=True, edgecolor='none')\n",
    "plt.title(\"after removing outliers \" + colname)\n",
    "plt.show()\n",
    "# plot values : \n",
    "plt.plot(np.sort(data2[colname]))\n",
    "plt.show()\n",
    "really_fat = extract_irreg_errors_val(colname, [0,1000], data = data)\n",
    "\n",
    "np.array(df.loc[data2[colname].isin(really_fat), \"product_name\"])\n"
   ]
  },
  {
   "cell_type": "code",
   "execution_count": 17,
   "metadata": {},
   "outputs": [],
   "source": [
    "possible_val_dict = {'additives_n' : [0,35],'ingredients_from_palm_oil': [0,1],\n",
    "                     'energy-kcal_100g':[0,1500], 'energy_100g':[0,5000],'fat_100g':[0,100],\n",
    "                     'saturated-fat_100g': [0,100],'trans-fat_100g':[0,90], 'cholesterol_100g':[0,10],\n",
    "                     'carbohydrates_100g': [0,100], 'sugars_100g': [0,100], 'fiber_100g': [0,100],\n",
    "                     'proteins_100g': [0,100],'sodium_100g': [0,100], 'vitamin-a_100g': [0,100],\n",
    "                     'vitamin-c_100g': [0,1], 'calcium_100g': [0,20],'iron_100g': [0,0.05], \n",
    "                     'nutrition-score-fr_100g': [-20,50]}\n",
    "\n",
    "limit_val_dict = {'additives_n' : [0,30],'ingredients_from_palm_oil': [0,1],\n",
    "                  'energy-kcal_100g':[0,1000], 'energy_100g':[0,4000],'fat_100g':[0,90],\n",
    "                  'saturated-fat_100g': [0,40],'trans-fat_100g':[0,2.5], 'cholesterol_100g':[0,0.2],\n",
    "                  'carbohydrates_100g': [0,95], 'sugars_100g': [0,95], 'fiber_100g': [0,90],\n",
    "                  'proteins_100g': [0,80],'sodium_100g': [0,10], 'vitamin-a_100g': [0,0.01],\n",
    "                  'vitamin-c_100g': [0,0.3], 'calcium_100g': [0,10],'iron_100g': [0,0.04], \n",
    "                  'nutrition-score-fr_100g': [-15,35]}\n"
   ]
  },
  {
   "cell_type": "code",
   "execution_count": 18,
   "metadata": {
    "scrolled": true
   },
   "outputs": [
    {
     "data": {
      "image/png": "[encoded data removed]",
      "text/plain": [
       "<Figure size 1080x360 with 1 Axes>"
      ]
     },
     "metadata": {
      "needs_background": "light"
     },
     "output_type": "display_data"
    },
    {
     "name": "stdout",
     "output_type": "stream",
     "text": [
      "0 irregular errors\n",
      "outliers products : []\n"
     ]
    },
    {
     "data": {
      "image/png": "[encoded data removed]",
      "text/plain": [
       "<Figure size 1080x360 with 1 Axes>"
      ]
     },
     "metadata": {
      "needs_background": "light"
     },
     "output_type": "display_data"
    },
    {
     "data": {
      "image/png": "[encoded data removed]",
      "text/plain": [
       "<Figure size 1080x360 with 1 Axes>"
      ]
     },
     "metadata": {
      "needs_background": "light"
     },
     "output_type": "display_data"
    },
    {
     "name": "stdout",
     "output_type": "stream",
     "text": [
      "1 irregular errors\n"
     ]
    },
    {
     "data": {
      "text/plain": [
       "array(['Ganze Nuss casew und fleur de sel'], dtype=object)"
      ]
     },
     "execution_count": 18,
     "metadata": {},
     "output_type": "execute_result"
    }
   ],
   "source": [
    "data2 = data.copy()\n",
    "colname = \"nutrition-score-fr_100g\"\n",
    "possible_vals = possible_val_dict[colname]\n",
    "limit_vals = limit_val_dict[colname]\n",
    "\n",
    "## Histogramme global \n",
    "nb_bins = min(50, len(np.unique(data2[colname].dropna().values)))\n",
    "plt.hist(data2[colname], bins = nb_bins, color='steelblue', density=True, edgecolor='none')\n",
    "plt.title(\"before removing outliers \" + colname)\n",
    "plt.show()    \n",
    "\n",
    "outliers = extract_irreg_errors_val(colname,possible_vals, data = data)\n",
    "print(\"outliers products :\",np.array(df.loc[data[colname].isin(outliers), \"product_name\"]))\n",
    "# replace outliers by np.nan : \n",
    "data2.at[data2[colname].isin(outliers)] = np.nan\n",
    "\n",
    "## Histogramme : \n",
    "nb_bins = min(50, len(np.unique(data2[colname].dropna().values)))\n",
    "plt.hist(data2[colname], bins = nb_bins, color='steelblue', density=True, edgecolor='none')\n",
    "plt.title(\"after removing outliers \" + colname)\n",
    "plt.show()\n",
    "\n",
    "# plot values : \n",
    "plt.plot(np.sort(data2[colname]))\n",
    "plt.show()\n",
    "\n",
    "## Print problematic variables : \n",
    "limit_products = extract_irreg_errors_val(colname, limit_vals, data = data2)\n",
    "np.array(df.loc[data[colname].isin(limit_products), \"product_name\"])\n"
   ]
  },
  {
   "cell_type": "code",
   "execution_count": 19,
   "metadata": {},
   "outputs": [
    {
     "data": {
      "text/html": [
       "<div>\n",
       "<style scoped>\n",
       "    .dataframe tbody tr th:only-of-type {\n",
       "        vertical-align: middle;\n",
       "    }\n",
       "\n",
       "    .dataframe tbody tr th {\n",
       "        vertical-align: top;\n",
       "    }\n",
       "\n",
       "    .dataframe thead th {\n",
       "        text-align: right;\n",
       "    }\n",
       "</style>\n",
       "<table border=\"1\" class=\"dataframe\">\n",
       "  <thead>\n",
       "    <tr style=\"text-align: right;\">\n",
       "      <th></th>\n",
       "      <th>code</th>\n",
       "      <th>product_name</th>\n",
       "      <th>nutrition-score-fr_100g</th>\n",
       "    </tr>\n",
       "  </thead>\n",
       "  <tbody>\n",
       "  </tbody>\n",
       "</table>\n",
       "</div>"
      ],
      "text/plain": [
       "Empty DataFrame\n",
       "Columns: [code, product_name, nutrition-score-fr_100g]\n",
       "Index: []"
      ]
     },
     "execution_count": 19,
     "metadata": {},
     "output_type": "execute_result"
    }
   ],
   "source": [
    "df.loc[data[colname].isin(outliers), [\"code\",\"product_name\",colname] ]"
   ]
  },
  {
   "cell_type": "code",
   "execution_count": 20,
   "metadata": {},
   "outputs": [
    {
     "name": "stdout",
     "output_type": "stream",
     "text": [
      "43 irregular errors\n"
     ]
    },
    {
     "data": {
      "text/plain": [
       "1397786    -1.0\n",
       "6794         -5\n",
       "1428291    22.0\n",
       "364309     14.0\n",
       "1367209     2.0\n",
       "           ... \n",
       "531721     14.0\n",
       "61506       2.0\n",
       "681277      5.0\n",
       "1532282    22.0\n",
       "466395     11.0\n",
       "Name: nutrition-score-fr_100g, Length: 9969, dtype: object"
      ]
     },
     "execution_count": 20,
     "metadata": {},
     "output_type": "execute_result"
    }
   ],
   "source": [
    "limit_products = extract_irreg_errors_val(colname, [-30,-10], data = data)\n",
    "df.loc[data[colname].isin(limit_products), [\"code\",\"product_name\",colname] ]\n",
    "# np.array(df.loc[data[colname].isin(limit_products), \"product_name\"].index)\n",
    "df.loc[data.loc[data[colname].isin(limit_products),].index, [\"code\",\"product_name\",colname]]\n",
    "\n",
    "df.loc[data.loc[data[colname].isin(limit_products),].index, colname]"
   ]
  },
  {
   "cell_type": "code",
   "execution_count": null,
   "metadata": {},
   "outputs": [],
   "source": []
  },
  {
   "cell_type": "code",
   "execution_count": null,
   "metadata": {},
   "outputs": [],
   "source": []
  },
  {
   "cell_type": "code",
   "execution_count": 21,
   "metadata": {},
   "outputs": [
    {
     "ename": "SyntaxError",
     "evalue": "invalid syntax (<ipython-input-21-4f23b48175f6>, line 3)",
     "output_type": "error",
     "traceback": [
      "\u001b[0;36m  File \u001b[0;32m\"<ipython-input-21-4f23b48175f6>\"\u001b[0;36m, line \u001b[0;32m3\u001b[0m\n\u001b[0;31m    creators_colors =\u001b[0m\n\u001b[0m                      ^\u001b[0m\n\u001b[0;31mSyntaxError\u001b[0m\u001b[0;31m:\u001b[0m invalid syntax\n"
     ]
    }
   ],
   "source": [
    "var = \"energy_100g\"\n",
    "nb_bins = min(100, len(np.unique(data[var].dropna().values)))\n",
    "creators_colors = \n",
    "plt.hist(data[var], bins = nb_bins, density=True, edgecolor='none', color = data[\"creator\"])\n",
    "plt.title(str(var))\n",
    "print(np.array(data[var].values[:100]))"
   ]
  },
  {
   "cell_type": "code",
   "execution_count": null,
   "metadata": {},
   "outputs": [],
   "source": [
    "df.creator.value_counts()[10:]"
   ]
  },
  {
   "cell_type": "code",
   "execution_count": null,
   "metadata": {},
   "outputs": [],
   "source": [
    "df.groupby(df.columns.tolist()).size().reset_index().rename(columns={0:'count'})"
   ]
  },
  {
   "cell_type": "code",
   "execution_count": null,
   "metadata": {},
   "outputs": [],
   "source": [
    "data.countries.drop_duplicates().values"
   ]
  },
  {
   "cell_type": "code",
   "execution_count": null,
   "metadata": {
    "scrolled": true
   },
   "outputs": [],
   "source": [
    "## countries VARIABLE TREATMENT (MORE COMPLICATED + TEXT) \n",
    "data.countries.drop_duplicates().values[:5]"
   ]
  },
  {
   "cell_type": "markdown",
   "metadata": {},
   "source": [
    "# 1.3 Outliers \n",
    "\n",
    "Let's deal with outliers"
   ]
  },
  {
   "cell_type": "code",
   "execution_count": null,
   "metadata": {},
   "outputs": [],
   "source": []
  },
  {
   "cell_type": "code",
   "execution_count": null,
   "metadata": {},
   "outputs": [],
   "source": []
  },
  {
   "cell_type": "code",
   "execution_count": null,
   "metadata": {},
   "outputs": [],
   "source": []
  },
  {
   "cell_type": "code",
   "execution_count": null,
   "metadata": {},
   "outputs": [],
   "source": []
  },
  {
   "cell_type": "markdown",
   "metadata": {},
   "source": [
    "# 1.4 Estimate remaining missing values"
   ]
  },
  {
   "cell_type": "code",
   "execution_count": null,
   "metadata": {},
   "outputs": [],
   "source": [
    "import numpy as np\n",
    "# x = np.array([4,8,12,20,40,60])\n",
    "\n",
    "x = np.array([2,6,10,16,30,50])\n",
    "dx = np.array([4,4,4,8,20,20])\n",
    "n = np.array([40,60,100,160,80,60])\n",
    "f = n/500\n",
    "d =f/dx\n",
    "m = x*f\n",
    "m.sum()\n",
    "(np.sqrt(275280/500-(9400/500)**2)-14)*60\n",
    "0.15*0.9+0.85*0.3\n",
    "0.9*0.15/0.39\n",
    "0.9*0.85+0.3*0.15\n"
   ]
  },
  {
   "cell_type": "code",
   "execution_count": null,
   "metadata": {},
   "outputs": [],
   "source": [
    "from mpl_toolkits import mplot3d\n",
    "def f(x,y) :\n",
    "    return x**3 + 3/2*y**2 + 3*x*y + 60\n",
    "\n",
    "xline = np.linspace(-5, 5, 100)\n",
    "yline = np.linspace(-5, 5, 100)\n",
    "X, Y = np.meshgrid(xline, yline)\n",
    "\n",
    "Z = f(X,Y)\n",
    "# ax.plot3D(X, Y, Z, 'gray')\n",
    "\n",
    "\n",
    "fig = plt.figure()\n",
    "ax = plt.axes(projection='3d')\n",
    "ax.plot_surface(X, Y, Z,rstride=1, cmap='viridis', edgecolor='none')\n",
    "ax.scatter(0, 0, f(0,0), color=\"red\")\n",
    "ax.scatter(1, -1, f(1,-1), color=\"black\")\n",
    "plt.show()"
   ]
  },
  {
   "cell_type": "code",
   "execution_count": null,
   "metadata": {},
   "outputs": [],
   "source": [
    "\n",
    "ax.view_init(45,30)\n",
    "fig"
   ]
  },
  {
   "cell_type": "code",
   "execution_count": null,
   "metadata": {},
   "outputs": [],
   "source": [
    "f(0,0)\n",
    "# f(1,-1)\n"
   ]
  }
 ],
 "metadata": {
  "kernelspec": {
   "display_name": "openclassroom",
   "language": "python",
   "name": "openclassroom"
  },
  "language_info": {
   "codemirror_mode": {
    "name": "ipython",
    "version": 3
   },
   "file_extension": ".py",
   "mimetype": "text/x-python",
   "name": "python",
   "nbconvert_exporter": "python",
   "pygments_lexer": "ipython3",
   "version": "3.8.6"
  }
 },
 "nbformat": 4,
 "nbformat_minor": 4
}
