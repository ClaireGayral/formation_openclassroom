{
 "cells": [
  {
   "cell_type": "markdown",
   "metadata": {},
   "source": [
    "# Cleanning notebook "
   ]
  },
  {
   "cell_type": "markdown",
   "metadata": {},
   "source": [
    "Let's first call the libraries I'll use : "
   ]
  },
  {
   "cell_type": "code",
   "execution_count": 1,
   "metadata": {},
   "outputs": [],
   "source": [
    "data_path = \"~/Documents/openclassroom/data/\"\n",
    "\n",
    "# On importe les librairies dont on aura besoin pour ce tp\n",
    "import numpy as np\n",
    "import pandas as pd\n",
    "## plot : \n",
    "import matplotlib\n",
    "import matplotlib.pyplot as plt\n",
    "matplotlib.rcParams['figure.figsize'] = [15, 5]\n",
    "## stat / model : \n",
    "from sklearn.model_selection import train_test_split\n",
    "\n",
    "import itertools as IT"
   ]
  },
  {
   "cell_type": "markdown",
   "metadata": {},
   "source": [
    "# 1. Import data : <!-- I have decided to extract the data labeled with the french nutriscore, to set a cleanning method and then decide the application I want to propose.  -->"
   ]
  },
  {
   "cell_type": "code",
   "execution_count": 21,
   "metadata": {},
   "outputs": [],
   "source": [
    "filename = data_path+\"en.openfoodfacts.org.products.csv\"\n",
    "# filename = data_path+\"openfoodfacts_with_cholesterol.csv\"\n",
    "# df = pd.read_csv(filename,\"\\t\")\n",
    "\n",
    "## GET INDEX OF NUTRI SCORE IN COLUMNS : \n",
    "tmp = pd.read_csv(filename, sep = \"\\t\").iloc[0,:].index\n",
    "col_index_nutri_score_fr = np.where(tmp.index==\"nutrition-score-fr_100g\")[0][0]"
   ]
  },
  {
   "cell_type": "code",
   "execution_count": 59,
   "metadata": {},
   "outputs": [],
   "source": [
    "def valid(chunks):\n",
    "    for chunk in chunks:\n",
    "        mask = ~chunk.iloc[:,p].isna().values\n",
    "        if mask.all():\n",
    "            yield chunk\n",
    "        else:\n",
    "            yield chunk.loc[mask]\n",
    "            break\n",
    "\n",
    "chunksize = 10 ** 4\n",
    "chunks = pd.read_csv(filename, sep = \"\\t\", low_memory=False, chunksize=chunksize, header=None)\n",
    "df_original = pd.concat(valid(chunks))\n",
    "df_original.head()"
   ]
  },
  {
   "cell_type": "code",
   "execution_count": 55,
   "metadata": {},
   "outputs": [
    {
     "data": {
      "text/plain": [
       "-5465"
      ]
     },
     "execution_count": 55,
     "metadata": {},
     "output_type": "execute_result"
    }
   ],
   "source": [
    "p = 175\n",
    "~chunk.iloc[:,p].isna()"
   ]
  },
  {
   "cell_type": "code",
   "execution_count": 48,
   "metadata": {},
   "outputs": [
    {
     "data": {
      "text/plain": [
       "175"
      ]
     },
     "execution_count": 48,
     "metadata": {},
     "output_type": "execute_result"
    }
   ],
   "source": [
    "tmp = pd.read_csv(filename, sep = \"\\t\").iloc[0,:].index\n",
    "p = col_index_nutri_score_fr = np.where(tmp.index==\"nutrition-score-fr_100g\")[0][0]"
   ]
  },
  {
   "cell_type": "code",
   "execution_count": 25,
   "metadata": {
    "scrolled": true
   },
   "outputs": [
    {
     "data": {
      "text/plain": [
       "(152, 172)"
      ]
     },
     "execution_count": 25,
     "metadata": {},
     "output_type": "execute_result"
    }
   ],
   "source": [
    "# df_original = (pd.read_csv(filename,\"\\t\") [lambda x : np.any([~x[\"nutrition-score-fr_100g\"].isna().values, \n",
    "#                                                               x[\"countries\"]==\"France\"], axis = 0)])\n",
    "df_original = (pd.read_csv(filename,\"\\t\", low_memory=False) [lambda x : ~x[\"nutrition-score-fr_100g\"].isna()])\n",
    "df_original.shape"
   ]
  },
  {
   "cell_type": "code",
   "execution_count": 21,
   "metadata": {},
   "outputs": [],
   "source": [
    "dtype_characteristics = {\"code\":\"category\",\"url\":str,\"creator\":str,\"created_t\":str,\n",
    "                           \"created_datetime\":str,\"last_modified_t\":str,\n",
    "                           \"last_modified_datetime\":str,\"product_name\":str,\n",
    "                           \"generic_name\":str,\"quantity\":int}"
   ]
  },
  {
   "cell_type": "code",
   "execution_count": null,
   "metadata": {},
   "outputs": [],
   "source": [
    "df = df_original.sample(10000, replace = False)\n",
    "n = df.shape[0]\n",
    "# del df_original \n",
    "df.head(3)"
   ]
  },
  {
   "cell_type": "code",
   "execution_count": 15,
   "metadata": {},
   "outputs": [
    {
     "data": {
      "text/plain": [
       "0"
      ]
     },
     "execution_count": 15,
     "metadata": {},
     "output_type": "execute_result"
    }
   ],
   "source": [
    "# nutrition-score-fr_100g\n",
    "sum(df_original[\"nutrition-score-fr_100g\"].isna().values)"
   ]
  },
  {
   "cell_type": "code",
   "execution_count": 9,
   "metadata": {
    "scrolled": true
   },
   "outputs": [
    {
     "name": "stderr",
     "output_type": "stream",
     "text": [
      "/home/clairegayral/.env_python/openclassroom/lib/python3.8/site-packages/IPython/core/interactiveshell.py:3165: DtypeWarning: Columns (0,8,13,19,20,21,22,23,27,28,29,31,32,38,40,41,42,47,52,55,64,79,82) have mixed types.Specify dtype option on import or set low_memory=False.\n",
      "  has_raised = await self.run_ast_nodes(code_ast.body, cell_name,\n"
     ]
    },
    {
     "data": {
      "text/plain": [
       "array(['France', 'France', 'en:es', ..., 'en:be', 'en:france', 'France'],\n",
       "      dtype=object)"
      ]
     },
     "execution_count": 9,
     "metadata": {},
     "output_type": "execute_result"
    }
   ],
   "source": [
    "np.array(pd.read_csv(filename,\"\\t\").countries)"
   ]
  },
  {
   "cell_type": "code",
   "execution_count": 32,
   "metadata": {},
   "outputs": [],
   "source": [
    "# filename = data_path+\"openfoodfacts_with_cholesterol.csv\"\n",
    "# df_original = (pd.read_csv(filename,\"\\t\") [lambda x :  x[\"nutrition-score-fr_100g\"].isna().values])\n",
    "#                  dtype={\"code\":\"category\",\"url\":str,\"creator\":\"category\",\n",
    "#                         \"created_t\"None, \"last_modified_t\":None})"
   ]
  },
  {
   "cell_type": "markdown",
   "metadata": {},
   "source": [
    "The data is huge (1 716 277 products).\n",
    "Let's first work on a sample of size 10 000, and then comment this part : "
   ]
  },
  {
   "cell_type": "code",
   "execution_count": 11,
   "metadata": {},
   "outputs": [
    {
     "ename": "NameError",
     "evalue": "name 'df' is not defined",
     "output_type": "error",
     "traceback": [
      "\u001b[0;31m---------------------------------------------------------------------------\u001b[0m",
      "\u001b[0;31mNameError\u001b[0m                                 Traceback (most recent call last)",
      "\u001b[0;32m<ipython-input-11-7425e8ac9bde>\u001b[0m in \u001b[0;36m<module>\u001b[0;34m\u001b[0m\n\u001b[0;32m----> 1\u001b[0;31m \u001b[0mx\u001b[0m \u001b[0;34m=\u001b[0m \u001b[0mdf\u001b[0m\u001b[0;34m\u001b[0m\u001b[0;34m\u001b[0m\u001b[0m\n\u001b[0m\u001b[1;32m      2\u001b[0m \u001b[0;34m\u001b[0m\u001b[0m\n\u001b[1;32m      3\u001b[0m \u001b[0;31m# [~x[\"nutrition-score-fr_100g\"].isna().values, ~x[\"nutrition-score-en_100g\"].isna().values]\u001b[0m\u001b[0;34m\u001b[0m\u001b[0;34m\u001b[0m\u001b[0;34m\u001b[0m\u001b[0m\n\u001b[1;32m      4\u001b[0m \u001b[0mnp\u001b[0m\u001b[0;34m.\u001b[0m\u001b[0many\u001b[0m\u001b[0;34m(\u001b[0m\u001b[0;34m[\u001b[0m\u001b[0;34m~\u001b[0m\u001b[0mx\u001b[0m\u001b[0;34m[\u001b[0m\u001b[0;34m\"nutrition-score-fr_100g\"\u001b[0m\u001b[0;34m]\u001b[0m\u001b[0;34m.\u001b[0m\u001b[0misna\u001b[0m\u001b[0;34m(\u001b[0m\u001b[0;34m)\u001b[0m\u001b[0;34m.\u001b[0m\u001b[0mvalues\u001b[0m\u001b[0;34m,\u001b[0m \u001b[0;34m~\u001b[0m\u001b[0mx\u001b[0m\u001b[0;34m[\u001b[0m\u001b[0;34m\"inositol_100g\"\u001b[0m\u001b[0;34m]\u001b[0m\u001b[0;34m.\u001b[0m\u001b[0misna\u001b[0m\u001b[0;34m(\u001b[0m\u001b[0;34m)\u001b[0m\u001b[0;34m.\u001b[0m\u001b[0mvalues\u001b[0m\u001b[0;34m]\u001b[0m\u001b[0;34m,\u001b[0m \u001b[0maxis\u001b[0m \u001b[0;34m=\u001b[0m \u001b[0;36m0\u001b[0m\u001b[0;34m)\u001b[0m\u001b[0;34m\u001b[0m\u001b[0;34m\u001b[0m\u001b[0m\n",
      "\u001b[0;31mNameError\u001b[0m: name 'df' is not defined"
     ]
    }
   ],
   "source": [
    "x = df\n",
    "\n",
    "# [~x[\"nutrition-score-fr_100g\"].isna().values, ~x[\"nutrition-score-en_100g\"].isna().values]\n",
    "np.any([~x[\"nutrition-score-fr_100g\"].isna().values, ~x[\"inositol_100g\"].isna().values], axis = 0)"
   ]
  },
  {
   "cell_type": "code",
   "execution_count": null,
   "metadata": {},
   "outputs": [],
   "source": [
    "df.columns"
   ]
  },
  {
   "cell_type": "markdown",
   "metadata": {},
   "source": [
    "## 1.1 Drop Missing values : \n",
    "Let's remove the variables with too much NaN. First, I remove the columns filled with NaNs (there is no information in them). \n",
    "\n",
    "Then, I have chosen to keep the 1st quantile value of the number of NaNs in each variables : \n",
    "* if the variable has less NaNs than this quantile, I will estimate the missing value with KNN procedure, \n",
    "* else, I drop the corresponding column. "
   ]
  },
  {
   "cell_type": "code",
   "execution_count": 36,
   "metadata": {},
   "outputs": [
    {
     "name": "stdout",
     "output_type": "stream",
     "text": [
      "There are  0 variables without any information (all NaNs)\n",
      "I drop variables with more than 0.0 NaNs\n"
     ]
    },
    {
     "data": {
      "text/html": [
       "<div>\n",
       "<style scoped>\n",
       "    .dataframe tbody tr th:only-of-type {\n",
       "        vertical-align: middle;\n",
       "    }\n",
       "\n",
       "    .dataframe tbody tr th {\n",
       "        vertical-align: top;\n",
       "    }\n",
       "\n",
       "    .dataframe thead th {\n",
       "        text-align: right;\n",
       "    }\n",
       "</style>\n",
       "<table border=\"1\" class=\"dataframe\">\n",
       "  <thead>\n",
       "    <tr style=\"text-align: right;\">\n",
       "      <th></th>\n",
       "      <th>created_t</th>\n",
       "      <th>last_modified_t</th>\n",
       "    </tr>\n",
       "  </thead>\n",
       "  <tbody>\n",
       "    <tr>\n",
       "      <th>count</th>\n",
       "      <td>1.000000e+04</td>\n",
       "      <td>1.000000e+04</td>\n",
       "    </tr>\n",
       "    <tr>\n",
       "      <th>mean</th>\n",
       "      <td>1.550166e+09</td>\n",
       "      <td>1.585051e+09</td>\n",
       "    </tr>\n",
       "    <tr>\n",
       "      <th>std</th>\n",
       "      <td>4.922722e+07</td>\n",
       "      <td>2.868432e+07</td>\n",
       "    </tr>\n",
       "    <tr>\n",
       "      <th>min</th>\n",
       "      <td>1.332618e+09</td>\n",
       "      <td>1.353474e+09</td>\n",
       "    </tr>\n",
       "    <tr>\n",
       "      <th>25%</th>\n",
       "      <td>1.518806e+09</td>\n",
       "      <td>1.576339e+09</td>\n",
       "    </tr>\n",
       "    <tr>\n",
       "      <th>50%</th>\n",
       "      <td>1.561571e+09</td>\n",
       "      <td>1.587659e+09</td>\n",
       "    </tr>\n",
       "    <tr>\n",
       "      <th>75%</th>\n",
       "      <td>1.587662e+09</td>\n",
       "      <td>1.606334e+09</td>\n",
       "    </tr>\n",
       "    <tr>\n",
       "      <th>max</th>\n",
       "      <td>1.617654e+09</td>\n",
       "      <td>1.617655e+09</td>\n",
       "    </tr>\n",
       "  </tbody>\n",
       "</table>\n",
       "</div>"
      ],
      "text/plain": [
       "          created_t  last_modified_t\n",
       "count  1.000000e+04     1.000000e+04\n",
       "mean   1.550166e+09     1.585051e+09\n",
       "std    4.922722e+07     2.868432e+07\n",
       "min    1.332618e+09     1.353474e+09\n",
       "25%    1.518806e+09     1.576339e+09\n",
       "50%    1.561571e+09     1.587659e+09\n",
       "75%    1.587662e+09     1.606334e+09\n",
       "max    1.617654e+09     1.617655e+09"
      ]
     },
     "execution_count": 36,
     "metadata": {},
     "output_type": "execute_result"
    }
   ],
   "source": [
    "df = df.copy()\n",
    "## DROP COL FILLED WITH NANs\n",
    "df = df.loc[:,df.isna().sum(axis=0)<n]\n",
    "print(\"There are \", sum(df.isna().sum(axis=0)==n), \"variables without any information (all NaNs)\")\n",
    "\n",
    "## DROP COL WITH MORE NANs THAN THE 1st QUANTILE :\n",
    "nan_repartition = df.isna().sum(axis=0)\n",
    "# nan_threshold = nan_repartition.quantile(0.25)\n",
    "nan_threshold = nan_repartition.mean()\n",
    "print(\"I drop variables with more than\", nan_threshold, \"NaNs\")\n",
    "df = df.drop(df.columns[nan_repartition>nan_threshold], axis = 1)\n",
    "df.describe()"
   ]
  },
  {
   "cell_type": "markdown",
   "metadata": {},
   "source": [
    "## 1.2 Exploration of the different values :\n",
    "\n",
    "Then, I used the description data in https://world.openfoodfacts.org/data/data-fields.txt, to separate the global data frame into sub-frames. \n",
    "Note : to transform the .txt into these lists of variables, I used the bash command : \n",
    "\n",
    "    cat data-fields.txt | cut -d \" \" -f 1 | sed s/://g | sed s/\\$/\\\",/g | sed s/\\^/\\\"/g > data_fields2.txt"
   ]
  },
  {
   "cell_type": "code",
   "execution_count": 35,
   "metadata": {},
   "outputs": [
    {
     "ename": "ValueError",
     "evalue": "Cannot describe a DataFrame without columns",
     "output_type": "error",
     "traceback": [
      "\u001b[0;31m---------------------------------------------------------------------------\u001b[0m",
      "\u001b[0;31mValueError\u001b[0m                                Traceback (most recent call last)",
      "\u001b[0;32m<ipython-input-35-3d2b92d33f0e>\u001b[0m in \u001b[0;36m<module>\u001b[0;34m\u001b[0m\n\u001b[1;32m     43\u001b[0m \u001b[0;31m# df_misc = df[df.columns.intersection(list_of_misc)]\u001b[0m\u001b[0;34m\u001b[0m\u001b[0;34m\u001b[0m\u001b[0;34m\u001b[0m\u001b[0m\n\u001b[1;32m     44\u001b[0m \u001b[0mdf_nutri\u001b[0m \u001b[0;34m=\u001b[0m \u001b[0mdf\u001b[0m\u001b[0;34m[\u001b[0m\u001b[0mdf\u001b[0m\u001b[0;34m.\u001b[0m\u001b[0mcolumns\u001b[0m\u001b[0;34m.\u001b[0m\u001b[0mintersection\u001b[0m\u001b[0;34m(\u001b[0m\u001b[0mlist_of_nutri_facts\u001b[0m\u001b[0;34m)\u001b[0m\u001b[0;34m]\u001b[0m\u001b[0;34m\u001b[0m\u001b[0;34m\u001b[0m\u001b[0m\n\u001b[0;32m---> 45\u001b[0;31m \u001b[0mdf_nutri\u001b[0m\u001b[0;34m.\u001b[0m\u001b[0mdescribe\u001b[0m\u001b[0;34m(\u001b[0m\u001b[0;34m)\u001b[0m\u001b[0;34m\u001b[0m\u001b[0;34m\u001b[0m\u001b[0m\n\u001b[0m",
      "\u001b[0;32m~/.env_python/openclassroom/lib/python3.8/site-packages/pandas/core/generic.py\u001b[0m in \u001b[0;36mdescribe\u001b[0;34m(self, percentiles, include, exclude, datetime_is_numeric)\u001b[0m\n\u001b[1;32m  10273\u001b[0m         \"\"\"\n\u001b[1;32m  10274\u001b[0m         \u001b[0;32mif\u001b[0m \u001b[0mself\u001b[0m\u001b[0;34m.\u001b[0m\u001b[0mndim\u001b[0m \u001b[0;34m==\u001b[0m \u001b[0;36m2\u001b[0m \u001b[0;32mand\u001b[0m \u001b[0mself\u001b[0m\u001b[0;34m.\u001b[0m\u001b[0mcolumns\u001b[0m\u001b[0;34m.\u001b[0m\u001b[0msize\u001b[0m \u001b[0;34m==\u001b[0m \u001b[0;36m0\u001b[0m\u001b[0;34m:\u001b[0m\u001b[0;34m\u001b[0m\u001b[0;34m\u001b[0m\u001b[0m\n\u001b[0;32m> 10275\u001b[0;31m             \u001b[0;32mraise\u001b[0m \u001b[0mValueError\u001b[0m\u001b[0;34m(\u001b[0m\u001b[0;34m\"Cannot describe a DataFrame without columns\"\u001b[0m\u001b[0;34m)\u001b[0m\u001b[0;34m\u001b[0m\u001b[0;34m\u001b[0m\u001b[0m\n\u001b[0m\u001b[1;32m  10276\u001b[0m \u001b[0;34m\u001b[0m\u001b[0m\n\u001b[1;32m  10277\u001b[0m         \u001b[0;32mif\u001b[0m \u001b[0mpercentiles\u001b[0m \u001b[0;32mis\u001b[0m \u001b[0;32mnot\u001b[0m \u001b[0;32mNone\u001b[0m\u001b[0;34m:\u001b[0m\u001b[0;34m\u001b[0m\u001b[0;34m\u001b[0m\u001b[0m\n",
      "\u001b[0;31mValueError\u001b[0m: Cannot describe a DataFrame without columns"
     ]
    }
   ],
   "source": [
    "# USE BASH cat data-fields.txt | cut -d \" \" -f 1 | sed s/://g | sed s/\\$/\\\",/g | sed s/\\^/\\\"/g > data_fields2.txt\n",
    "list_of_characteristics = [\"code\",\"url\",\"creator\",\"created_t\",\"created_datetime\",\"last_modified_t\",\n",
    "                           \"last_modified_datetime\",\"product_name\",\"generic_name\",\"quantity\"]\n",
    "list_of_tags = [\"packaging\", \"packaging_tags\", \"brands\", \"brands_tags\", \"categories\",\n",
    "                \"categories_tags\", \"categories_fr\",\"origins\", \"origins_tags\",\"manufacturing_places\",\n",
    "                \"manufacturing_places_tags\", \"labels\", \"labels_tags\", \"labels_fr\", \"emb_codes\", \n",
    "                \"emb_codes_tags\", \"first_packaging_code_geo\", \"cities\", \"cities_tags\", \n",
    "                \"purchase_places\", \"stores\", \"countries\", \"countries_tags\", \"countries_fr\"]\n",
    "list_of_ingredients = [\"ingredients_text\", \"traces\", \"traces_tags\"]\n",
    "list_of_misc = [\"serving_size\", \"no_nutriments\", \"additives_n\", \"additives\", \"additives_tags\", \n",
    "                \"ingredients_from_palm_oil_n\", \"ingredients_from_palm_oil\", \n",
    "                \"ingredients_from_palm_oil_tags\", \"ingredients_that_may_be_from_palm_oil_n\", \n",
    "                \"ingredients_that_may_be_from_palm_oil\", \"ingredients_that_may_be_from_palm_oil_tags\", \n",
    "                \"nutrition_grade_fr\", \"main_category\", \"main_category_fr\", \"image_url\", \n",
    "                \"image_small_url\"]\n",
    "list_of_nutri_facts = [\"energy_100g\",\"energy-kj_100g\",\"energy-kcal_100g\",\"proteins_100g\",\"casein_100g\",\n",
    "                       \"serum-proteins_100g\",\"nucleotides_100g\",\"carbohydrates_100g\",\"sugars_100g\",\n",
    "                       \"sucrose_100g\",\"glucose_100g\",\"fructose_100g\",\"lactose_100g\",\"maltose_100g\",\n",
    "                       \"maltodextrins_100g\",\"starch_100g\",\"polyols_100g\",\"fat_100g\",\"saturated-fat_100g\",\n",
    "                       \"butyric-acid_100g\",\"caproic-acid_100g\",\"caprylic-acid_100g\",\"capric-acid_100g\",\n",
    "                       \"lauric-acid_100g\",\"myristic-acid_100g\",\"palmitic-acid_100g\",\"stearic-acid_100g\",\n",
    "                       \"arachidic-acid_100g\",\"behenic-acid_100g\",\"lignoceric-acid_100g\",\"cerotic-acid_100g\",\n",
    "                       \"montanic-acid_100g\",\"melissic-acid_100g\",\"monounsaturated-fat_100g\",\n",
    "                       \"polyunsaturated-fat_100g\",\"omega-3-fat_100g\",\"alpha-linolenic-acid_100g\",\n",
    "                       \"eicosapentaenoic-acid_100g\",\"docosahexaenoic-acid_100g\",\"omega-6-fat_100g\",\n",
    "                       \"linoleic-acid_100g\",\"arachidonic-acid_100g\",\"gamma-linolenic-acid_100g\",\n",
    "                       \"dihomo-gamma-linolenic-acid_100g\",\"omega-9-fat_100g\",\"oleic-acid_100g\",\n",
    "                       \"elaidic-acid_100g\",\"gondoic-acid_100g\",\"mead-acid_100g\",\"erucic-acid_100g\",\n",
    "                       \"nervonic-acid_100g\",\"trans-fat_100g\",\"cholesterol_100g\",\"fiber_100g\",\"sodium_100g\",\n",
    "                       \"alcohol_100g\",\"vitamin-a_100g\",\"vitamin-d_100g\",\"vitamin-e_100g\",\"vitamin-k_100g\",\n",
    "                       \"vitamin-c_100g\",\"vitamin-b1_100g\",\"vitamin-b2_100g\",\"vitamin-pp_100g\",\n",
    "                       \"vitamin-b6_100g\",\"vitamin-b9_100g\",\"vitamin-b12_100g\",\"biotin_100g\",\n",
    "                       \"pantothenic-acid_100g\",\"silica_100g\",\"bicarbonate_100g\",\"potassium_100g\",\n",
    "                       \"chloride_100g\",\"calcium_100g\",\"phosphorus_100g\",\"iron_100g\",\"magnesium_100g\",\n",
    "                       \"zinc_100g\",\"copper_100g\",\"manganese_100g\",\"fluoride_100g\",\"selenium_100g\",\n",
    "                       \"chromium_100g\",\"molybdenum_100g\",\"iodine_100g\",\"caffeine_100g\",\"taurine_100g\",\n",
    "                       \"ph_100g\",\"fruits-vegetables-nuts_100g\",\"carbon-footprint_100g\",\n",
    "                       \"nutrition-score-fr_100g\",\"nutrition-score-uk_100g\"]\n",
    "\n",
    "# df_caracteristics = df[df.columns.intersection(list_of_characteristics)]\n",
    "# df_tags = df[df.columns.intersection(list_of_tags)]\n",
    "# df_ingredients = df[df.columns.intersection(list_of_ingredients)]\n",
    "# df_misc = df[df.columns.intersection(list_of_misc)]\n",
    "df_nutri = df[df.columns.intersection(list_of_nutri_facts)]\n",
    "df_nutri.describe()"
   ]
  },
  {
   "cell_type": "code",
   "execution_count": 19,
   "metadata": {},
   "outputs": [
    {
     "name": "stdout",
     "output_type": "stream",
     "text": [
      "\n",
      " packaging\n",
      "no data\n",
      "\n",
      " packaging_tags\n",
      "no data\n",
      "\n",
      " brands\n",
      "ex of values =  ['Yoplait' 'Santiveri' 'Buenerkemper & Howe Company'\n",
      " 'Monoprix Gourmet,Monoprix' 'Dolciando' 'Franprix Bio,Franprix'\n",
      " 'simple truth, Simple Truth Organic, The Kroger Co.' 'Alteza']\n",
      "\n",
      " brands_tags\n",
      "ex of values =  ['roundy-s' 'man-fong' 'favorina' 'leclerc' 'poppies'\n",
      " '365,365-everyday-value' 'brinkers' 'pascual']\n"
     ]
    }
   ],
   "source": [
    "for var in list_of_tags[:4] : \n",
    "    print(\"\\n\",var)\n",
    "    if var in df.columns:\n",
    "        tmp = df[df.columns.intersection([var])]\n",
    "        var_values = tmp.iloc[(~pd.isna(tmp).values)]\n",
    "        if len(var_values) < 8:\n",
    "            print(\"values = \", var_values.values)\n",
    "        else :\n",
    "            print(\"ex of values = \", np.array(tmp.iloc[(~pd.isna(tmp).values)].sample(n=8).values).transpose()[0])\n",
    "    else : \n",
    "        print(\"no data\")"
   ]
  },
  {
   "cell_type": "code",
   "execution_count": 21,
   "metadata": {},
   "outputs": [
    {
     "data": {
      "text/plain": [
       "Index(['code', 'url', 'creator', 'created_t', 'created_datetime',\n",
       "       'last_modified_t', 'last_modified_datetime', 'product_name', 'brands',\n",
       "       'brands_tags', 'categories', 'categories_tags', 'categories_en',\n",
       "       'countries', 'countries_tags', 'countries_en', 'pnns_groups_1',\n",
       "       'pnns_groups_2', 'states', 'states_tags', 'states_en', 'main_category',\n",
       "       'main_category_en', 'image_url', 'image_small_url',\n",
       "       'image_nutrition_url', 'image_nutrition_small_url', 'energy-kcal_100g',\n",
       "       'energy_100g', 'fat_100g', 'saturated-fat_100g', 'carbohydrates_100g',\n",
       "       'sugars_100g', 'proteins_100g', 'salt_100g', 'sodium_100g'],\n",
       "      dtype='object')"
      ]
     },
     "execution_count": 21,
     "metadata": {},
     "output_type": "execute_result"
    }
   ],
   "source": [
    "df.columns"
   ]
  },
  {
   "cell_type": "markdown",
   "metadata": {},
   "source": [
    "# 1.3 Estimate remaining missing values"
   ]
  },
  {
   "cell_type": "code",
   "execution_count": null,
   "metadata": {},
   "outputs": [],
   "source": []
  },
  {
   "cell_type": "code",
   "execution_count": null,
   "metadata": {},
   "outputs": [],
   "source": []
  },
  {
   "cell_type": "code",
   "execution_count": null,
   "metadata": {},
   "outputs": [],
   "source": []
  }
 ],
 "metadata": {
  "kernelspec": {
   "display_name": "openclassroom",
   "language": "python",
   "name": "openclassroom"
  },
  "language_info": {
   "codemirror_mode": {
    "name": "ipython",
    "version": 3
   },
   "file_extension": ".py",
   "mimetype": "text/x-python",
   "name": "python",
   "nbconvert_exporter": "python",
   "pygments_lexer": "ipython3",
   "version": "3.8.6"
  }
 },
 "nbformat": 4,
 "nbformat_minor": 4
}
