{
 "cells": [
  {
   "cell_type": "markdown",
   "metadata": {},
   "source": [
    "# Cleanning notebook "
   ]
  },
  {
   "cell_type": "markdown",
   "metadata": {},
   "source": [
    "Let's first call the libraries I'll use : "
   ]
  },
  {
   "cell_type": "code",
   "execution_count": 1,
   "metadata": {},
   "outputs": [],
   "source": [
    "data_path = \"~/Documents/openclassroom/data/\"\n",
    "\n",
    "# On importe les librairies dont on aura besoin pour ce tp\n",
    "import numpy as np\n",
    "import pandas as pd\n",
    "## plot : \n",
    "import matplotlib\n",
    "import matplotlib.pyplot as plt\n",
    "matplotlib.rcParams['figure.figsize'] = [15, 5]\n",
    "## stat / model : \n",
    "from sklearn.model_selection import train_test_split\n",
    "\n",
    "import itertools as IT"
   ]
  },
  {
   "cell_type": "markdown",
   "metadata": {},
   "source": [
    "# 1. Import data : <!-- I have decided to extract the data labeled with the french nutriscore, to set a cleanning method and then decide the application I want to propose.  -->"
   ]
  },
  {
   "cell_type": "code",
   "execution_count": 21,
   "metadata": {},
   "outputs": [],
   "source": [
    "filename = data_path+\"en.openfoodfacts.org.products.csv\"\n",
    "# filename = data_path+\"openfoodfacts_with_cholesterol.csv\"\n",
    "# df = pd.read_csv(filename,\"\\t\")\n",
    "\n",
    "## GET INDEX OF NUTRI SCORE IN COLUMNS : \n",
    "tmp = pd.read_csv(filename, sep = \"\\t\").iloc[0,:].index\n",
    "col_index_nutri_score_fr = np.where(tmp.index==\"nutrition-score-fr_100g\")[0][0]"
   ]
  },
  {
   "cell_type": "code",
   "execution_count": 74,
   "metadata": {},
   "outputs": [],
   "source": [
    "def valid(chunks):\n",
    "    for chunk in chunks:\n",
    "        mask = ~chunk.iloc[:,p].isna().values\n",
    "        if mask.all():\n",
    "            yield chunk\n",
    "        else:\n",
    "            yield chunk.loc[mask]\n",
    "            break\n",
    "\n",
    "chunksize = 10 ** 5\n",
    "chunks = pd.read_csv(filename, sep = \"\\t\", low_memory=False, chunksize=chunksize, header=None)\n",
    "df_original = pd.concat(valid(chunks))"
   ]
  },
  {
   "cell_type": "code",
   "execution_count": 83,
   "metadata": {},
   "outputs": [
    {
     "data": {
      "text/html": [
       "<div>\n",
       "<style scoped>\n",
       "    .dataframe tbody tr th:only-of-type {\n",
       "        vertical-align: middle;\n",
       "    }\n",
       "\n",
       "    .dataframe tbody tr th {\n",
       "        vertical-align: top;\n",
       "    }\n",
       "\n",
       "    .dataframe thead th {\n",
       "        text-align: right;\n",
       "    }\n",
       "</style>\n",
       "<table border=\"1\" class=\"dataframe\">\n",
       "  <thead>\n",
       "    <tr style=\"text-align: right;\">\n",
       "      <th></th>\n",
       "      <th>code</th>\n",
       "      <th>url</th>\n",
       "      <th>creator</th>\n",
       "      <th>created_t</th>\n",
       "      <th>created_datetime</th>\n",
       "      <th>last_modified_t</th>\n",
       "      <th>last_modified_datetime</th>\n",
       "      <th>product_name</th>\n",
       "      <th>abbreviated_product_name</th>\n",
       "      <th>generic_name</th>\n",
       "      <th>...</th>\n",
       "      <th>carbon-footprint-from-meat-or-fish_100g</th>\n",
       "      <th>nutrition-score-fr_100g</th>\n",
       "      <th>nutrition-score-uk_100g</th>\n",
       "      <th>glycemic-index_100g</th>\n",
       "      <th>water-hardness_100g</th>\n",
       "      <th>choline_100g</th>\n",
       "      <th>phylloquinone_100g</th>\n",
       "      <th>beta-glucan_100g</th>\n",
       "      <th>inositol_100g</th>\n",
       "      <th>carnitine_100g</th>\n",
       "    </tr>\n",
       "  </thead>\n",
       "  <tbody>\n",
       "    <tr>\n",
       "      <th>4</th>\n",
       "      <td>0000000000100</td>\n",
       "      <td>http://world-en.openfoodfacts.org/product/0000...</td>\n",
       "      <td>del51</td>\n",
       "      <td>1444572561</td>\n",
       "      <td>2015-10-11T14:09:21Z</td>\n",
       "      <td>1444659212</td>\n",
       "      <td>2015-10-12T14:13:32Z</td>\n",
       "      <td>moutarde au moût de raisin</td>\n",
       "      <td>NaN</td>\n",
       "      <td>NaN</td>\n",
       "      <td>...</td>\n",
       "      <td>NaN</td>\n",
       "      <td>18</td>\n",
       "      <td>NaN</td>\n",
       "      <td>NaN</td>\n",
       "      <td>NaN</td>\n",
       "      <td>NaN</td>\n",
       "      <td>NaN</td>\n",
       "      <td>NaN</td>\n",
       "      <td>NaN</td>\n",
       "      <td>NaN</td>\n",
       "    </tr>\n",
       "    <tr>\n",
       "      <th>15</th>\n",
       "      <td>0000000000949</td>\n",
       "      <td>http://world-en.openfoodfacts.org/product/0000...</td>\n",
       "      <td>kiliweb</td>\n",
       "      <td>1523440813</td>\n",
       "      <td>2018-04-11T10:00:13Z</td>\n",
       "      <td>1565268412</td>\n",
       "      <td>2019-08-08T12:46:52Z</td>\n",
       "      <td>Salade de carottes râpées</td>\n",
       "      <td>NaN</td>\n",
       "      <td>NaN</td>\n",
       "      <td>...</td>\n",
       "      <td>NaN</td>\n",
       "      <td>1</td>\n",
       "      <td>NaN</td>\n",
       "      <td>NaN</td>\n",
       "      <td>NaN</td>\n",
       "      <td>NaN</td>\n",
       "      <td>NaN</td>\n",
       "      <td>NaN</td>\n",
       "      <td>NaN</td>\n",
       "      <td>NaN</td>\n",
       "    </tr>\n",
       "    <tr>\n",
       "      <th>24</th>\n",
       "      <td>0000000001281</td>\n",
       "      <td>http://world-en.openfoodfacts.org/product/0000...</td>\n",
       "      <td>kiliweb</td>\n",
       "      <td>1517830801</td>\n",
       "      <td>2018-02-05T11:40:01Z</td>\n",
       "      <td>1527070794</td>\n",
       "      <td>2018-05-23T10:19:54Z</td>\n",
       "      <td>Tarte noix de coco</td>\n",
       "      <td>NaN</td>\n",
       "      <td>NaN</td>\n",
       "      <td>...</td>\n",
       "      <td>NaN</td>\n",
       "      <td>14</td>\n",
       "      <td>NaN</td>\n",
       "      <td>NaN</td>\n",
       "      <td>NaN</td>\n",
       "      <td>NaN</td>\n",
       "      <td>NaN</td>\n",
       "      <td>NaN</td>\n",
       "      <td>NaN</td>\n",
       "      <td>NaN</td>\n",
       "    </tr>\n",
       "  </tbody>\n",
       "</table>\n",
       "<p>3 rows × 184 columns</p>\n",
       "</div>"
      ],
      "text/plain": [
       "0            code                                                url  creator  \\\n",
       "4   0000000000100  http://world-en.openfoodfacts.org/product/0000...    del51   \n",
       "15  0000000000949  http://world-en.openfoodfacts.org/product/0000...  kiliweb   \n",
       "24  0000000001281  http://world-en.openfoodfacts.org/product/0000...  kiliweb   \n",
       "\n",
       "0    created_t      created_datetime last_modified_t last_modified_datetime  \\\n",
       "4   1444572561  2015-10-11T14:09:21Z      1444659212   2015-10-12T14:13:32Z   \n",
       "15  1523440813  2018-04-11T10:00:13Z      1565268412   2019-08-08T12:46:52Z   \n",
       "24  1517830801  2018-02-05T11:40:01Z      1527070794   2018-05-23T10:19:54Z   \n",
       "\n",
       "0                   product_name abbreviated_product_name generic_name  ...  \\\n",
       "4    moutarde au moût de raisin                       NaN          NaN  ...   \n",
       "15     Salade de carottes râpées                      NaN          NaN  ...   \n",
       "24            Tarte noix de coco                      NaN          NaN  ...   \n",
       "\n",
       "0  carbon-footprint-from-meat-or-fish_100g nutrition-score-fr_100g  \\\n",
       "4                                      NaN                      18   \n",
       "15                                     NaN                       1   \n",
       "24                                     NaN                      14   \n",
       "\n",
       "0  nutrition-score-uk_100g glycemic-index_100g water-hardness_100g  \\\n",
       "4                      NaN                 NaN                 NaN   \n",
       "15                     NaN                 NaN                 NaN   \n",
       "24                     NaN                 NaN                 NaN   \n",
       "\n",
       "0  choline_100g phylloquinone_100g beta-glucan_100g inositol_100g  \\\n",
       "4           NaN                NaN              NaN           NaN   \n",
       "15          NaN                NaN              NaN           NaN   \n",
       "24          NaN                NaN              NaN           NaN   \n",
       "\n",
       "0  carnitine_100g  \n",
       "4             NaN  \n",
       "15            NaN  \n",
       "24            NaN  \n",
       "\n",
       "[3 rows x 184 columns]"
      ]
     },
     "execution_count": 83,
     "metadata": {},
     "output_type": "execute_result"
    }
   ],
   "source": [
    "df = df_original.drop(0, axis=0)\n",
    "df.columns = df_original.loc[0,:]\n",
    "n = df.shape[0]\n",
    "df.head(3)"
   ]
  },
  {
   "cell_type": "markdown",
   "metadata": {},
   "source": [
    "The data is huge (65 166 products).\n",
    "Let's first work on a sample of size 10 000, and then comment this part : "
   ]
  },
  {
   "cell_type": "code",
   "execution_count": 84,
   "metadata": {},
   "outputs": [
    {
     "data": {
      "text/plain": [
       "(10000, 184)"
      ]
     },
     "execution_count": 84,
     "metadata": {},
     "output_type": "execute_result"
    }
   ],
   "source": [
    "df = df.sample(10000, replace = False)\n",
    "df.shape"
   ]
  },
  {
   "cell_type": "markdown",
   "metadata": {},
   "source": [
    "## 1.1 Drop Missing values : \n",
    "Let's remove the variables with too much NaN. First, I remove the columns filled with NaNs (there is no information in them). \n",
    "\n",
    "Then, I have chosen to keep the 1st quantile value of the number of NaNs in each variables : \n",
    "* if the variable has less NaNs than this quantile, I will estimate the missing value with KNN procedure, \n",
    "* else, I drop the corresponding column. "
   ]
  },
  {
   "cell_type": "code",
   "execution_count": 85,
   "metadata": {},
   "outputs": [
    {
     "name": "stdout",
     "output_type": "stream",
     "text": [
      "There are  0 variables without any information (all NaNs)\n",
      "I drop variables with more than 7173.663043478261 NaNs\n"
     ]
    },
    {
     "data": {
      "text/html": [
       "<div>\n",
       "<style scoped>\n",
       "    .dataframe tbody tr th:only-of-type {\n",
       "        vertical-align: middle;\n",
       "    }\n",
       "\n",
       "    .dataframe tbody tr th {\n",
       "        vertical-align: top;\n",
       "    }\n",
       "\n",
       "    .dataframe thead th {\n",
       "        text-align: right;\n",
       "    }\n",
       "</style>\n",
       "<table border=\"1\" class=\"dataframe\">\n",
       "  <thead>\n",
       "    <tr style=\"text-align: right;\">\n",
       "      <th></th>\n",
       "      <th>code</th>\n",
       "      <th>url</th>\n",
       "      <th>creator</th>\n",
       "      <th>created_t</th>\n",
       "      <th>created_datetime</th>\n",
       "      <th>last_modified_t</th>\n",
       "      <th>last_modified_datetime</th>\n",
       "      <th>product_name</th>\n",
       "      <th>brands</th>\n",
       "      <th>brands_tags</th>\n",
       "      <th>...</th>\n",
       "      <th>fiber_100g</th>\n",
       "      <th>proteins_100g</th>\n",
       "      <th>salt_100g</th>\n",
       "      <th>sodium_100g</th>\n",
       "      <th>vitamin-a_100g</th>\n",
       "      <th>vitamin-c_100g</th>\n",
       "      <th>potassium_100g</th>\n",
       "      <th>calcium_100g</th>\n",
       "      <th>iron_100g</th>\n",
       "      <th>nutrition-score-fr_100g</th>\n",
       "    </tr>\n",
       "  </thead>\n",
       "  <tbody>\n",
       "    <tr>\n",
       "      <th>count</th>\n",
       "      <td>10000</td>\n",
       "      <td>10000</td>\n",
       "      <td>10000</td>\n",
       "      <td>10000</td>\n",
       "      <td>10000</td>\n",
       "      <td>10000</td>\n",
       "      <td>10000</td>\n",
       "      <td>9993</td>\n",
       "      <td>5256</td>\n",
       "      <td>5256</td>\n",
       "      <td>...</td>\n",
       "      <td>9484</td>\n",
       "      <td>10000</td>\n",
       "      <td>10000</td>\n",
       "      <td>10000</td>\n",
       "      <td>7376</td>\n",
       "      <td>7439</td>\n",
       "      <td>3507</td>\n",
       "      <td>9183</td>\n",
       "      <td>9216</td>\n",
       "      <td>10000</td>\n",
       "    </tr>\n",
       "    <tr>\n",
       "      <th>unique</th>\n",
       "      <td>10000</td>\n",
       "      <td>10000</td>\n",
       "      <td>105</td>\n",
       "      <td>8805</td>\n",
       "      <td>8805</td>\n",
       "      <td>8764</td>\n",
       "      <td>8764</td>\n",
       "      <td>8832</td>\n",
       "      <td>1607</td>\n",
       "      <td>1500</td>\n",
       "      <td>...</td>\n",
       "      <td>215</td>\n",
       "      <td>1108</td>\n",
       "      <td>1428</td>\n",
       "      <td>1407</td>\n",
       "      <td>691</td>\n",
       "      <td>373</td>\n",
       "      <td>614</td>\n",
       "      <td>404</td>\n",
       "      <td>582</td>\n",
       "      <td>49</td>\n",
       "    </tr>\n",
       "    <tr>\n",
       "      <th>top</th>\n",
       "      <td>0036800527768</td>\n",
       "      <td>http://world-en.openfoodfacts.org/product/0030...</td>\n",
       "      <td>org-database-usda</td>\n",
       "      <td>1489078155</td>\n",
       "      <td>2020-04-23T20:46:32Z</td>\n",
       "      <td>1587627242</td>\n",
       "      <td>2020-11-14T15:15:20Z</td>\n",
       "      <td>Ice cream</td>\n",
       "      <td>Kroger</td>\n",
       "      <td>kroger</td>\n",
       "      <td>...</td>\n",
       "      <td>0</td>\n",
       "      <td>0</td>\n",
       "      <td>0</td>\n",
       "      <td>0</td>\n",
       "      <td>0</td>\n",
       "      <td>0</td>\n",
       "      <td>0</td>\n",
       "      <td>0</td>\n",
       "      <td>0</td>\n",
       "      <td>14</td>\n",
       "    </tr>\n",
       "    <tr>\n",
       "      <th>freq</th>\n",
       "      <td>1</td>\n",
       "      <td>1</td>\n",
       "      <td>4552</td>\n",
       "      <td>4</td>\n",
       "      <td>4</td>\n",
       "      <td>5</td>\n",
       "      <td>5</td>\n",
       "      <td>35</td>\n",
       "      <td>194</td>\n",
       "      <td>195</td>\n",
       "      <td>...</td>\n",
       "      <td>3333</td>\n",
       "      <td>1504</td>\n",
       "      <td>1142</td>\n",
       "      <td>1142</td>\n",
       "      <td>4064</td>\n",
       "      <td>4791</td>\n",
       "      <td>402</td>\n",
       "      <td>3169</td>\n",
       "      <td>2940</td>\n",
       "      <td>557</td>\n",
       "    </tr>\n",
       "  </tbody>\n",
       "</table>\n",
       "<p>4 rows × 54 columns</p>\n",
       "</div>"
      ],
      "text/plain": [
       "0                code                                                url  \\\n",
       "count           10000                                              10000   \n",
       "unique          10000                                              10000   \n",
       "top     0036800527768  http://world-en.openfoodfacts.org/product/0030...   \n",
       "freq                1                                                  1   \n",
       "\n",
       "0                 creator   created_t      created_datetime last_modified_t  \\\n",
       "count               10000       10000                 10000           10000   \n",
       "unique                105        8805                  8805            8764   \n",
       "top     org-database-usda  1489078155  2020-04-23T20:46:32Z      1587627242   \n",
       "freq                 4552           4                     4               5   \n",
       "\n",
       "0      last_modified_datetime product_name  brands brands_tags  ...  \\\n",
       "count                   10000         9993    5256        5256  ...   \n",
       "unique                   8764         8832    1607        1500  ...   \n",
       "top      2020-11-14T15:15:20Z    Ice cream  Kroger      kroger  ...   \n",
       "freq                        5           35     194         195  ...   \n",
       "\n",
       "0      fiber_100g proteins_100g salt_100g sodium_100g vitamin-a_100g  \\\n",
       "count        9484         10000     10000       10000           7376   \n",
       "unique        215          1108      1428        1407            691   \n",
       "top             0             0         0           0              0   \n",
       "freq         3333          1504      1142        1142           4064   \n",
       "\n",
       "0      vitamin-c_100g potassium_100g calcium_100g iron_100g  \\\n",
       "count            7439           3507         9183      9216   \n",
       "unique            373            614          404       582   \n",
       "top                 0              0            0         0   \n",
       "freq             4791            402         3169      2940   \n",
       "\n",
       "0      nutrition-score-fr_100g  \n",
       "count                    10000  \n",
       "unique                      49  \n",
       "top                         14  \n",
       "freq                       557  \n",
       "\n",
       "[4 rows x 54 columns]"
      ]
     },
     "execution_count": 85,
     "metadata": {},
     "output_type": "execute_result"
    }
   ],
   "source": [
    "df = df.copy()\n",
    "## DROP COL FILLED WITH NANs\n",
    "df = df.loc[:,df.isna().sum(axis=0)<n]\n",
    "print(\"There are \", sum(df.isna().sum(axis=0)==n), \"variables without any information (all NaNs)\")\n",
    "\n",
    "## DROP COL WITH MORE NANs THAN THE 1st QUANTILE :\n",
    "nan_repartition = df.isna().sum(axis=0)\n",
    "# nan_threshold = nan_repartition.quantile(0.25)\n",
    "nan_threshold = nan_repartition.mean()\n",
    "print(\"I drop variables with more than\", nan_threshold, \"NaNs\")\n",
    "df = df.drop(df.columns[nan_repartition>nan_threshold], axis = 1)\n",
    "df.describe()"
   ]
  },
  {
   "cell_type": "markdown",
   "metadata": {},
   "source": [
    "## 1.2 Exploration of the different values :\n",
    "\n",
    "Then, I used the description data in https://world.openfoodfacts.org/data/data-fields.txt, to separate the global data frame into sub-frames. \n",
    "Note : to transform the .txt into these lists of variables, I used the bash command : \n",
    "\n",
    "    cat data-fields.txt | cut -d \" \" -f 1 | sed s/://g | sed s/\\$/\\\",/g | sed s/\\^/\\\"/g > data_fields2.txt"
   ]
  },
  {
   "cell_type": "code",
   "execution_count": 86,
   "metadata": {},
   "outputs": [
    {
     "data": {
      "text/html": [
       "<div>\n",
       "<style scoped>\n",
       "    .dataframe tbody tr th:only-of-type {\n",
       "        vertical-align: middle;\n",
       "    }\n",
       "\n",
       "    .dataframe tbody tr th {\n",
       "        vertical-align: top;\n",
       "    }\n",
       "\n",
       "    .dataframe thead th {\n",
       "        text-align: right;\n",
       "    }\n",
       "</style>\n",
       "<table border=\"1\" class=\"dataframe\">\n",
       "  <thead>\n",
       "    <tr style=\"text-align: right;\">\n",
       "      <th></th>\n",
       "      <th>energy-kcal_100g</th>\n",
       "      <th>energy_100g</th>\n",
       "      <th>fat_100g</th>\n",
       "      <th>saturated-fat_100g</th>\n",
       "      <th>trans-fat_100g</th>\n",
       "      <th>cholesterol_100g</th>\n",
       "      <th>carbohydrates_100g</th>\n",
       "      <th>sugars_100g</th>\n",
       "      <th>fiber_100g</th>\n",
       "      <th>proteins_100g</th>\n",
       "      <th>sodium_100g</th>\n",
       "      <th>vitamin-a_100g</th>\n",
       "      <th>vitamin-c_100g</th>\n",
       "      <th>potassium_100g</th>\n",
       "      <th>calcium_100g</th>\n",
       "      <th>iron_100g</th>\n",
       "      <th>nutrition-score-fr_100g</th>\n",
       "    </tr>\n",
       "  </thead>\n",
       "  <tbody>\n",
       "    <tr>\n",
       "      <th>count</th>\n",
       "      <td>9958</td>\n",
       "      <td>10000</td>\n",
       "      <td>10000</td>\n",
       "      <td>10000</td>\n",
       "      <td>9261</td>\n",
       "      <td>9353</td>\n",
       "      <td>9997</td>\n",
       "      <td>10000</td>\n",
       "      <td>9484</td>\n",
       "      <td>10000</td>\n",
       "      <td>10000</td>\n",
       "      <td>7376</td>\n",
       "      <td>7439</td>\n",
       "      <td>3507</td>\n",
       "      <td>9183</td>\n",
       "      <td>9216</td>\n",
       "      <td>10000</td>\n",
       "    </tr>\n",
       "    <tr>\n",
       "      <th>unique</th>\n",
       "      <td>764</td>\n",
       "      <td>788</td>\n",
       "      <td>1440</td>\n",
       "      <td>944</td>\n",
       "      <td>93</td>\n",
       "      <td>165</td>\n",
       "      <td>2165</td>\n",
       "      <td>1593</td>\n",
       "      <td>215</td>\n",
       "      <td>1108</td>\n",
       "      <td>1407</td>\n",
       "      <td>691</td>\n",
       "      <td>373</td>\n",
       "      <td>614</td>\n",
       "      <td>404</td>\n",
       "      <td>582</td>\n",
       "      <td>49</td>\n",
       "    </tr>\n",
       "    <tr>\n",
       "      <th>top</th>\n",
       "      <td>500</td>\n",
       "      <td>2092</td>\n",
       "      <td>0</td>\n",
       "      <td>0</td>\n",
       "      <td>0</td>\n",
       "      <td>0</td>\n",
       "      <td>0</td>\n",
       "      <td>0</td>\n",
       "      <td>0</td>\n",
       "      <td>0</td>\n",
       "      <td>0</td>\n",
       "      <td>0</td>\n",
       "      <td>0</td>\n",
       "      <td>0</td>\n",
       "      <td>0</td>\n",
       "      <td>0</td>\n",
       "      <td>14</td>\n",
       "    </tr>\n",
       "    <tr>\n",
       "      <th>freq</th>\n",
       "      <td>341</td>\n",
       "      <td>341</td>\n",
       "      <td>2333</td>\n",
       "      <td>3818</td>\n",
       "      <td>9069</td>\n",
       "      <td>5634</td>\n",
       "      <td>526</td>\n",
       "      <td>1723</td>\n",
       "      <td>3333</td>\n",
       "      <td>1504</td>\n",
       "      <td>1142</td>\n",
       "      <td>4064</td>\n",
       "      <td>4791</td>\n",
       "      <td>402</td>\n",
       "      <td>3169</td>\n",
       "      <td>2940</td>\n",
       "      <td>557</td>\n",
       "    </tr>\n",
       "  </tbody>\n",
       "</table>\n",
       "</div>"
      ],
      "text/plain": [
       "0      energy-kcal_100g energy_100g fat_100g saturated-fat_100g  \\\n",
       "count              9958       10000    10000              10000   \n",
       "unique              764         788     1440                944   \n",
       "top                 500        2092        0                  0   \n",
       "freq                341         341     2333               3818   \n",
       "\n",
       "0      trans-fat_100g cholesterol_100g carbohydrates_100g sugars_100g  \\\n",
       "count            9261             9353               9997       10000   \n",
       "unique             93              165               2165        1593   \n",
       "top                 0                0                  0           0   \n",
       "freq             9069             5634                526        1723   \n",
       "\n",
       "0      fiber_100g proteins_100g sodium_100g vitamin-a_100g vitamin-c_100g  \\\n",
       "count        9484         10000       10000           7376           7439   \n",
       "unique        215          1108        1407            691            373   \n",
       "top             0             0           0              0              0   \n",
       "freq         3333          1504        1142           4064           4791   \n",
       "\n",
       "0      potassium_100g calcium_100g iron_100g nutrition-score-fr_100g  \n",
       "count            3507         9183      9216                   10000  \n",
       "unique            614          404       582                      49  \n",
       "top                 0            0         0                      14  \n",
       "freq              402         3169      2940                     557  "
      ]
     },
     "execution_count": 86,
     "metadata": {},
     "output_type": "execute_result"
    }
   ],
   "source": [
    "# USE BASH cat data-fields.txt | cut -d \" \" -f 1 | sed s/://g | sed s/\\$/\\\",/g | sed s/\\^/\\\"/g > data_fields2.txt\n",
    "list_of_characteristics = [\"code\",\"url\",\"creator\",\"created_t\",\"created_datetime\",\"last_modified_t\",\n",
    "                           \"last_modified_datetime\",\"product_name\",\"generic_name\",\"quantity\"]\n",
    "list_of_tags = [\"packaging\", \"packaging_tags\", \"brands\", \"brands_tags\", \"categories\",\n",
    "                \"categories_tags\", \"categories_fr\",\"origins\", \"origins_tags\",\"manufacturing_places\",\n",
    "                \"manufacturing_places_tags\", \"labels\", \"labels_tags\", \"labels_fr\", \"emb_codes\", \n",
    "                \"emb_codes_tags\", \"first_packaging_code_geo\", \"cities\", \"cities_tags\", \n",
    "                \"purchase_places\", \"stores\", \"countries\", \"countries_tags\", \"countries_fr\"]\n",
    "list_of_ingredients = [\"ingredients_text\", \"traces\", \"traces_tags\"]\n",
    "list_of_misc = [\"serving_size\", \"no_nutriments\", \"additives_n\", \"additives\", \"additives_tags\", \n",
    "                \"ingredients_from_palm_oil_n\", \"ingredients_from_palm_oil\", \n",
    "                \"ingredients_from_palm_oil_tags\", \"ingredients_that_may_be_from_palm_oil_n\", \n",
    "                \"ingredients_that_may_be_from_palm_oil\", \"ingredients_that_may_be_from_palm_oil_tags\", \n",
    "                \"nutrition_grade_fr\", \"main_category\", \"main_category_fr\", \"image_url\", \n",
    "                \"image_small_url\"]\n",
    "list_of_nutri_facts = [\"energy_100g\",\"energy-kj_100g\",\"energy-kcal_100g\",\"proteins_100g\",\"casein_100g\",\n",
    "                       \"serum-proteins_100g\",\"nucleotides_100g\",\"carbohydrates_100g\",\"sugars_100g\",\n",
    "                       \"sucrose_100g\",\"glucose_100g\",\"fructose_100g\",\"lactose_100g\",\"maltose_100g\",\n",
    "                       \"maltodextrins_100g\",\"starch_100g\",\"polyols_100g\",\"fat_100g\",\"saturated-fat_100g\",\n",
    "                       \"butyric-acid_100g\",\"caproic-acid_100g\",\"caprylic-acid_100g\",\"capric-acid_100g\",\n",
    "                       \"lauric-acid_100g\",\"myristic-acid_100g\",\"palmitic-acid_100g\",\"stearic-acid_100g\",\n",
    "                       \"arachidic-acid_100g\",\"behenic-acid_100g\",\"lignoceric-acid_100g\",\"cerotic-acid_100g\",\n",
    "                       \"montanic-acid_100g\",\"melissic-acid_100g\",\"monounsaturated-fat_100g\",\n",
    "                       \"polyunsaturated-fat_100g\",\"omega-3-fat_100g\",\"alpha-linolenic-acid_100g\",\n",
    "                       \"eicosapentaenoic-acid_100g\",\"docosahexaenoic-acid_100g\",\"omega-6-fat_100g\",\n",
    "                       \"linoleic-acid_100g\",\"arachidonic-acid_100g\",\"gamma-linolenic-acid_100g\",\n",
    "                       \"dihomo-gamma-linolenic-acid_100g\",\"omega-9-fat_100g\",\"oleic-acid_100g\",\n",
    "                       \"elaidic-acid_100g\",\"gondoic-acid_100g\",\"mead-acid_100g\",\"erucic-acid_100g\",\n",
    "                       \"nervonic-acid_100g\",\"trans-fat_100g\",\"cholesterol_100g\",\"fiber_100g\",\"sodium_100g\",\n",
    "                       \"alcohol_100g\",\"vitamin-a_100g\",\"vitamin-d_100g\",\"vitamin-e_100g\",\"vitamin-k_100g\",\n",
    "                       \"vitamin-c_100g\",\"vitamin-b1_100g\",\"vitamin-b2_100g\",\"vitamin-pp_100g\",\n",
    "                       \"vitamin-b6_100g\",\"vitamin-b9_100g\",\"vitamin-b12_100g\",\"biotin_100g\",\n",
    "                       \"pantothenic-acid_100g\",\"silica_100g\",\"bicarbonate_100g\",\"potassium_100g\",\n",
    "                       \"chloride_100g\",\"calcium_100g\",\"phosphorus_100g\",\"iron_100g\",\"magnesium_100g\",\n",
    "                       \"zinc_100g\",\"copper_100g\",\"manganese_100g\",\"fluoride_100g\",\"selenium_100g\",\n",
    "                       \"chromium_100g\",\"molybdenum_100g\",\"iodine_100g\",\"caffeine_100g\",\"taurine_100g\",\n",
    "                       \"ph_100g\",\"fruits-vegetables-nuts_100g\",\"carbon-footprint_100g\",\n",
    "                       \"nutrition-score-fr_100g\",\"nutrition-score-uk_100g\"]\n",
    "\n",
    "# df_caracteristics = df[df.columns.intersection(list_of_characteristics)]\n",
    "# df_tags = df[df.columns.intersection(list_of_tags)]\n",
    "# df_ingredients = df[df.columns.intersection(list_of_ingredients)]\n",
    "# df_misc = df[df.columns.intersection(list_of_misc)]\n",
    "df_nutri = df[df.columns.intersection(list_of_nutri_facts)]\n",
    "df_nutri.describe()"
   ]
  },
  {
   "cell_type": "code",
   "execution_count": 179,
   "metadata": {},
   "outputs": [
    {
     "name": "stdout",
     "output_type": "stream",
     "text": [
      "-- energy_100g\n",
      "ex of values =  ['243' '1393' '1941' '121' '1464' '1586' '920' '1569']\n",
      "-- energy-kj_100g  : no data\n",
      "-- energy-kcal_100g\n",
      "ex of values =  ['529' '467' '76' '49' '24' '63' '388' '122']\n",
      "-- proteins_100g\n",
      "ex of values =  ['7.89' '25' '5.41' '25' '21.9' '4.8' '3.54' '5']\n",
      "-- casein_100g  : no data\n",
      "-- serum-proteins_100g  : no data\n",
      "-- nucleotides_100g  : no data\n",
      "-- carbohydrates_100g\n",
      "ex of values =  ['3.57' '80' '63.16' '5.42' '44.23' '50.88' '10.33' '5.36']\n",
      "-- sugars_100g\n",
      "ex of values =  ['73.33' '0' '23.53' '0' '3.57' '4.8' '0' '3.57']\n",
      "-- sucrose_100g  : no data\n",
      "-- glucose_100g  : no data\n",
      "-- fructose_100g  : no data\n",
      "-- lactose_100g  : no data\n",
      "-- maltose_100g  : no data\n",
      "-- maltodextrins_100g  : no data\n",
      "-- starch_100g  : no data\n",
      "-- polyols_100g  : no data\n",
      "-- fat_100g\n",
      "ex of values =  ['0.2' '32.14' '6' '0.97' '100' '5.34' '3.57' '0']\n",
      "-- saturated-fat_100g\n",
      "ex of values =  ['26.83' '0' '0' '3.45' '0' '3.57' '6.25' '7.14']\n",
      "-- butyric-acid_100g  : no data\n",
      "-- caproic-acid_100g  : no data\n",
      "-- caprylic-acid_100g  : no data\n",
      "-- capric-acid_100g  : no data\n",
      "-- lauric-acid_100g  : no data\n",
      "-- myristic-acid_100g  : no data\n",
      "-- palmitic-acid_100g  : no data\n",
      "-- stearic-acid_100g  : no data\n",
      "-- arachidic-acid_100g  : no data\n",
      "-- behenic-acid_100g  : no data\n",
      "-- lignoceric-acid_100g  : no data\n",
      "-- cerotic-acid_100g  : no data\n",
      "-- montanic-acid_100g  : no data\n",
      "-- melissic-acid_100g  : no data\n",
      "-- monounsaturated-fat_100g  : no data\n",
      "-- polyunsaturated-fat_100g  : no data\n",
      "-- omega-3-fat_100g  : no data\n",
      "-- alpha-linolenic-acid_100g  : no data\n",
      "-- eicosapentaenoic-acid_100g  : no data\n",
      "-- docosahexaenoic-acid_100g  : no data\n",
      "-- omega-6-fat_100g  : no data\n",
      "-- linoleic-acid_100g  : no data\n",
      "-- arachidonic-acid_100g  : no data\n",
      "-- gamma-linolenic-acid_100g  : no data\n",
      "-- dihomo-gamma-linolenic-acid_100g  : no data\n",
      "-- omega-9-fat_100g  : no data\n",
      "-- oleic-acid_100g  : no data\n",
      "-- elaidic-acid_100g  : no data\n",
      "-- gondoic-acid_100g  : no data\n",
      "-- mead-acid_100g  : no data\n",
      "-- erucic-acid_100g  : no data\n",
      "-- nervonic-acid_100g  : no data\n",
      "-- trans-fat_100g\n",
      "ex of values =  ['0' '0' '0' '0' '0' '0' '0' '0']\n",
      "-- cholesterol_100g\n",
      "ex of values =  ['0' '0.071' '0.123' '0' '0' '0.1' '0' '0']\n",
      "-- fiber_100g\n",
      "ex of values =  ['1.6' '0' '0' '2.3' '0' '2' '0' '0.9']\n",
      "-- sodium_100g\n",
      "ex of values =  ['2.393' '0.393' '0.179' '0.301' '0.171704' '0.196' '0.051' '0.23']\n",
      "-- alcohol_100g  : no data\n",
      "-- vitamin-a_100g\n",
      "ex of values =  ['0.0001125' '0.0004839' '0.0001413' '0' '0.0001305' '0.0000075' '0'\n",
      " '0.0001407']\n",
      "-- vitamin-d_100g  : no data\n",
      "-- vitamin-e_100g  : no data\n",
      "-- vitamin-k_100g  : no data\n",
      "-- vitamin-c_100g\n",
      "ex of values =  ['0.0017' '0' '0.15' '0' '0.003' '0' '0' '0.0014']\n",
      "-- vitamin-b1_100g  : no data\n",
      "-- vitamin-b2_100g  : no data\n",
      "-- vitamin-pp_100g  : no data\n",
      "-- vitamin-b6_100g  : no data\n",
      "-- vitamin-b9_100g  : no data\n",
      "-- vitamin-b12_100g  : no data\n",
      "-- biotin_100g  : no data\n",
      "-- pantothenic-acid_100g  : no data\n",
      "-- silica_100g  : no data\n",
      "-- bicarbonate_100g  : no data\n",
      "-- potassium_100g\n",
      "ex of values =  ['0.246' '0.093' '0.033' '0.125' '0.128' '0.393' '0' '0.076']\n",
      "-- chloride_100g  : no data\n",
      "-- calcium_100g\n",
      "ex of values =  ['0.022' '0' '0.133' '0.08' '0.013' '0.028' '0.143' '0.2']\n",
      "-- phosphorus_100g  : no data\n",
      "-- iron_100g\n",
      "ex of values =  ['0.00254' '0.00222' '0.00109' '0.00108' '0' '0.0024' '0.00104' '0.00182']\n",
      "-- magnesium_100g  : no data\n",
      "-- zinc_100g  : no data\n",
      "-- copper_100g  : no data\n",
      "-- manganese_100g  : no data\n",
      "-- fluoride_100g  : no data\n",
      "-- selenium_100g  : no data\n",
      "-- chromium_100g  : no data\n",
      "-- molybdenum_100g  : no data\n",
      "-- iodine_100g  : no data\n",
      "-- caffeine_100g  : no data\n",
      "-- taurine_100g  : no data\n",
      "-- ph_100g  : no data\n",
      "-- fruits-vegetables-nuts_100g  : no data\n",
      "-- carbon-footprint_100g  : no data\n",
      "-- nutrition-score-fr_100g\n",
      "ex of values =  ['7' '-7' '0' '14' '0' '-5' '16' '22']\n",
      "-- nutrition-score-uk_100g  : no data\n"
     ]
    }
   ],
   "source": [
    "def print_values_from_list_of_var(df_,list_of_var):\n",
    "    for var in list_of_var : \n",
    "        if var in df_.columns:\n",
    "            print(\"--\",var)\n",
    "            tmp = df_[df_.columns.intersection([var])]\n",
    "            var_values = tmp.iloc[(~pd.isna(tmp).values)]\n",
    "            if len(var_values) < 8:\n",
    "                print(\"values = \", var_values.values)\n",
    "            else :\n",
    "                print(\"ex of values = \", \n",
    "                      np.array(tmp.iloc[(~pd.isna(tmp).values)].sample(n=8).values).transpose()[0])\n",
    "        else : \n",
    "            print(\"--\", var, \" : no data\")\n",
    "            \n",
    "# list_of_var = list_of_tags\n",
    "list_of_var = list_of_nutri_facts\n",
    "print_values_from_list_of_var(df,list_of_var)"
   ]
  },
  {
   "cell_type": "markdown",
   "metadata": {},
   "source": [
    "This variable-type analysis allowed me to select the non-relevant variables for my study, such as the dates, or the name of the person that put the product in the database. Let's remove these :"
   ]
  },
  {
   "cell_type": "code",
   "execution_count": 292,
   "metadata": {},
   "outputs": [],
   "source": [
    "interest_var = pd.Index([\"countries\",\"additives_n\",\"ingredients_from_palm_oil_n\",\n",
    "                \"ingredients_that_may_be_from_palm_oil_tags\"])\n",
    "interest_var = interest_var.append(df.columns.intersection(list_of_nutri_facts))\n",
    "\n",
    "data = df[df.columns.intersection(interest_var)].copy()\n",
    "# data = data.fillna(pd.NA)"
   ]
  },
  {
   "cell_type": "code",
   "execution_count": 457,
   "metadata": {},
   "outputs": [],
   "source": [
    "### GESTION DES TYPES DANS DATA !!\n",
    "## STR \n",
    "str_var = list_of_characteristics \n",
    "str_var += list_of_tags\n",
    "str_var += list_of_ingredients\n",
    "str_var += list_of_misc\n",
    "str_var = data.columns.intersection(str_var)\n",
    "data[str_var] = data[str_var].astype(\"str\")\n",
    "\n",
    "## FLOATS (and INTs)\n",
    "float_var = list_of_nutri_facts\n",
    "float_var += [\"additives_n\", \"ingredients_from_palm_oil_n\", \"ingredients_that_may_be_from_palm_oil_tags\"]\n",
    "float_var = data.columns.intersection(float_var)\n",
    "data[float_var] = data[float_var].astype(\"float\")\n",
    "\n",
    "## CATEGORY\n",
    "data[\"nutrition-score-fr_100g\"] = data[\"nutrition-score-fr_100g\"].astype(\"category\")\n",
    "# data.dtypes"
   ]
  },
  {
   "cell_type": "markdown",
   "metadata": {},
   "source": [
    "# 1.3 Errors in data :\n",
    "We need to check if there are : \n",
    "* lexical errors\n",
    "* irregularity error\n",
    "* Formatage error\n",
    "* Duplicates\n",
    "* Outliers"
   ]
  },
  {
   "cell_type": "code",
   "execution_count": 303,
   "metadata": {
    "scrolled": false
   },
   "outputs": [
    {
     "data": {
      "text/html": [
       "<div>\n",
       "<style scoped>\n",
       "    .dataframe tbody tr th:only-of-type {\n",
       "        vertical-align: middle;\n",
       "    }\n",
       "\n",
       "    .dataframe tbody tr th {\n",
       "        vertical-align: top;\n",
       "    }\n",
       "\n",
       "    .dataframe thead th {\n",
       "        text-align: right;\n",
       "    }\n",
       "</style>\n",
       "<table border=\"1\" class=\"dataframe\">\n",
       "  <thead>\n",
       "    <tr style=\"text-align: right;\">\n",
       "      <th></th>\n",
       "      <th>countries</th>\n",
       "      <th>additives_n</th>\n",
       "      <th>ingredients_from_palm_oil_n</th>\n",
       "      <th>energy-kcal_100g</th>\n",
       "      <th>energy_100g</th>\n",
       "      <th>fat_100g</th>\n",
       "      <th>saturated-fat_100g</th>\n",
       "      <th>trans-fat_100g</th>\n",
       "      <th>cholesterol_100g</th>\n",
       "      <th>carbohydrates_100g</th>\n",
       "      <th>sugars_100g</th>\n",
       "      <th>fiber_100g</th>\n",
       "      <th>proteins_100g</th>\n",
       "      <th>sodium_100g</th>\n",
       "      <th>vitamin-a_100g</th>\n",
       "      <th>vitamin-c_100g</th>\n",
       "      <th>potassium_100g</th>\n",
       "      <th>calcium_100g</th>\n",
       "      <th>iron_100g</th>\n",
       "      <th>nutrition-score-fr_100g</th>\n",
       "    </tr>\n",
       "  </thead>\n",
       "  <tbody>\n",
       "    <tr>\n",
       "      <th>17251</th>\n",
       "      <td>United States</td>\n",
       "      <td>6.0</td>\n",
       "      <td>0.0</td>\n",
       "      <td>54.0000</td>\n",
       "      <td>226.0</td>\n",
       "      <td>0.0</td>\n",
       "      <td>0.0</td>\n",
       "      <td>0.0</td>\n",
       "      <td>0.0</td>\n",
       "      <td>13.7500</td>\n",
       "      <td>13.7500</td>\n",
       "      <td>0.0</td>\n",
       "      <td>0.0</td>\n",
       "      <td>0.015000</td>\n",
       "      <td>0.0</td>\n",
       "      <td>0.0</td>\n",
       "      <td>0.000</td>\n",
       "      <td>0.000</td>\n",
       "      <td>0.0</td>\n",
       "      <td>18.0</td>\n",
       "    </tr>\n",
       "    <tr>\n",
       "      <th>64144</th>\n",
       "      <td>United States</td>\n",
       "      <td>2.0</td>\n",
       "      <td>0.0</td>\n",
       "      <td>59.0000</td>\n",
       "      <td>247.0</td>\n",
       "      <td>0.0</td>\n",
       "      <td>0.0</td>\n",
       "      <td>0.0</td>\n",
       "      <td>0.0</td>\n",
       "      <td>17.6500</td>\n",
       "      <td>5.8800</td>\n",
       "      <td>0.0</td>\n",
       "      <td>0.0</td>\n",
       "      <td>1.588000</td>\n",
       "      <td>NaN</td>\n",
       "      <td>NaN</td>\n",
       "      <td>NaN</td>\n",
       "      <td>NaN</td>\n",
       "      <td>NaN</td>\n",
       "      <td>11.0</td>\n",
       "    </tr>\n",
       "    <tr>\n",
       "      <th>68783</th>\n",
       "      <td>United States</td>\n",
       "      <td>1.0</td>\n",
       "      <td>0.0</td>\n",
       "      <td>33.3333</td>\n",
       "      <td>139.0</td>\n",
       "      <td>0.0</td>\n",
       "      <td>0.0</td>\n",
       "      <td>0.0</td>\n",
       "      <td>0.0</td>\n",
       "      <td>6.6667</td>\n",
       "      <td>3.3333</td>\n",
       "      <td>0.0</td>\n",
       "      <td>0.0</td>\n",
       "      <td>0.533333</td>\n",
       "      <td>NaN</td>\n",
       "      <td>NaN</td>\n",
       "      <td>0.043</td>\n",
       "      <td>0.033</td>\n",
       "      <td>0.0</td>\n",
       "      <td>5.0</td>\n",
       "    </tr>\n",
       "  </tbody>\n",
       "</table>\n",
       "</div>"
      ],
      "text/plain": [
       "0          countries  additives_n  ingredients_from_palm_oil_n  \\\n",
       "17251  United States          6.0                          0.0   \n",
       "64144  United States          2.0                          0.0   \n",
       "68783  United States          1.0                          0.0   \n",
       "\n",
       "0      energy-kcal_100g  energy_100g  fat_100g  saturated-fat_100g  \\\n",
       "17251           54.0000        226.0       0.0                 0.0   \n",
       "64144           59.0000        247.0       0.0                 0.0   \n",
       "68783           33.3333        139.0       0.0                 0.0   \n",
       "\n",
       "0      trans-fat_100g  cholesterol_100g  carbohydrates_100g  sugars_100g  \\\n",
       "17251             0.0               0.0             13.7500      13.7500   \n",
       "64144             0.0               0.0             17.6500       5.8800   \n",
       "68783             0.0               0.0              6.6667       3.3333   \n",
       "\n",
       "0      fiber_100g  proteins_100g  sodium_100g  vitamin-a_100g  vitamin-c_100g  \\\n",
       "17251         0.0            0.0     0.015000             0.0             0.0   \n",
       "64144         0.0            0.0     1.588000             NaN             NaN   \n",
       "68783         0.0            0.0     0.533333             NaN             NaN   \n",
       "\n",
       "0      potassium_100g  calcium_100g  iron_100g nutrition-score-fr_100g  \n",
       "17251           0.000         0.000        0.0                    18.0  \n",
       "64144             NaN           NaN        NaN                    11.0  \n",
       "68783           0.043         0.033        0.0                     5.0  "
      ]
     },
     "execution_count": 303,
     "metadata": {},
     "output_type": "execute_result"
    }
   ],
   "source": [
    "data.head(3)"
   ]
  },
  {
   "cell_type": "code",
   "execution_count": 421,
   "metadata": {},
   "outputs": [
    {
     "data": {
      "image/png": "[encoded data removed]",
      "text/plain": [
       "<Figure size 1080x360 with 2 Axes>"
      ]
     },
     "metadata": {
      "needs_background": "light"
     },
     "output_type": "display_data"
    }
   ],
   "source": [
    "fig, axs = plt.subplots(1,2,constrained_layout=True)\n",
    "\n",
    "axs[0].hist(data.additives_n)\n",
    "axs[0].set_title(\"number of additives\")\n",
    "\n",
    "axs[1].hist(data.ingredients_from_palm_oil_n.values, bins=2)\n",
    "axs[1].set_title(\"ingredients from palm oil\")\n",
    "plt.show()"
   ]
  },
  {
   "cell_type": "code",
   "execution_count": 445,
   "metadata": {},
   "outputs": [
    {
     "data": {
      "image/png": "[encoded data removed]",
      "text/plain": [
       "<Figure size 1080x360 with 1 Axes>"
      ]
     },
     "metadata": {
      "needs_background": "light"
     },
     "output_type": "display_data"
    },
    {
     "data": {
      "text/plain": [
       "5"
      ]
     },
     "execution_count": 445,
     "metadata": {},
     "output_type": "execute_result"
    }
   ],
   "source": [
    "nb_bins = min(30, len(np.unique(data[var].values)))\n",
    "\n",
    "plt.hist(data[var], bins = nb_bins)\n",
    "plt.show()\n",
    "nb_line_plot"
   ]
  },
  {
   "cell_type": "code",
   "execution_count": 478,
   "metadata": {},
   "outputs": [
    {
     "data": {
      "text/plain": [
       "Index(['additives_n', 'ingredients_from_palm_oil_n', 'energy-kcal_100g',\n",
       "       'energy_100g', 'fat_100g', 'saturated-fat_100g', 'trans-fat_100g',\n",
       "       'cholesterol_100g', 'carbohydrates_100g', 'sugars_100g', 'fiber_100g',\n",
       "       'proteins_100g', 'sodium_100g', 'vitamin-a_100g', 'vitamin-c_100g',\n",
       "       'potassium_100g', 'calcium_100g', 'iron_100g',\n",
       "       'nutrition-score-fr_100g'],\n",
       "      dtype='object', name=0)"
      ]
     },
     "execution_count": 478,
     "metadata": {},
     "output_type": "execute_result"
    }
   ],
   "source": [
    "float_var"
   ]
  },
  {
   "cell_type": "code",
   "execution_count": 484,
   "metadata": {},
   "outputs": [
    {
     "name": "stdout",
     "output_type": "stream",
     "text": [
      "28 10 30\n",
      "2 2 30\n",
      "764 10 30\n",
      "788 10 30\n",
      "1440 10 30\n",
      "944 10 30\n",
      "93 10 30\n",
      "165 10 30\n",
      "2165 10 30\n",
      "1593 10 30\n",
      "215 10 30\n",
      "1108 10 30\n",
      "1407 10 30\n",
      "691 10 30\n",
      "373 10 30\n",
      "614 10 30\n",
      "404 10 30\n",
      "582 10 30\n",
      "49 10 30\n"
     ]
    }
   ],
   "source": [
    "for var in float_var :\n",
    "#     print(np.unique(data[var].dropna().values))\n",
    "    print(len(np.unique(data[var].dropna().values)),\n",
    "          min(10, len(np.unique(data[var].dropna().values))),\n",
    "          max(min(10, len(np.unique(data[var].dropna().values))),30)\n",
    "    )"
   ]
  },
  {
   "cell_type": "code",
   "execution_count": 487,
   "metadata": {},
   "outputs": [
    {
     "data": {
      "image/png": "[encoded data removed]",
      "text/plain": [
       "<Figure size 1080x1440 with 39 Axes>"
      ]
     },
     "metadata": {
      "needs_background": "light"
     },
     "output_type": "display_data"
    }
   ],
   "source": [
    "matplotlib.rcParams['figure.figsize'] = [15, 20]\n",
    "nb_line_plot = int(np.floor(len(float_var)/4)+1)\n",
    "fig, axs = plt.subplots( 5 , 4)\n",
    "fig_count = 1\n",
    "for var in float_var :#data.columns.intersection(list_of_nutri_facts):\n",
    "    ax = fig.add_subplot(5,4, fig_count)\n",
    "    nb_bins = min(20, len(np.unique(data[var].dropna().values)))\n",
    "    ax.hist(data[var], bins = nb_bins, color='steelblue', density=True, edgecolor='none')\n",
    "    ax.set_title(var)\n",
    "    fig_count += 1\n",
    "plt.show()\n",
    "matplotlib.rcParams['figure.figsize'] = [15, 5]"
   ]
  },
  {
   "cell_type": "code",
   "execution_count": 376,
   "metadata": {},
   "outputs": [
    {
     "name": "stdout",
     "output_type": "stream",
     "text": [
      "287 missing values\n"
     ]
    },
    {
     "data": {
      "text/plain": [
       "[]"
      ]
     },
     "execution_count": 376,
     "metadata": {},
     "output_type": "execute_result"
    }
   ],
   "source": [
    "colname = \"additives_n\"\n",
    "possible_values = list(range(35)) # max = 30, if more -> outlier\n",
    "\n",
    "def extract_irreg_errors(colname,possible_values):\n",
    "    index_hand_check = []\n",
    "    col_values = data[colname].drop_duplicates().values\n",
    "    ## check possible values : \n",
    "    for val in col_values :\n",
    "        if val not in possible_values :\n",
    "            if ~np.isnan(val):\n",
    "                val_index = data.iloc[data[colname]==val,:].index\n",
    "                index_hand_check.append(val_index)\n",
    "                print(val_index)\n",
    "            else : \n",
    "                print(sum(data[colname].isna()),\"missing values\")\n",
    "    return index_hand_check\n",
    "extract_irreg_errors(colname,possible_values)"
   ]
  },
  {
   "cell_type": "code",
   "execution_count": 364,
   "metadata": {},
   "outputs": [
    {
     "data": {
      "text/html": [
       "<div>\n",
       "<style scoped>\n",
       "    .dataframe tbody tr th:only-of-type {\n",
       "        vertical-align: middle;\n",
       "    }\n",
       "\n",
       "    .dataframe tbody tr th {\n",
       "        vertical-align: top;\n",
       "    }\n",
       "\n",
       "    .dataframe thead th {\n",
       "        text-align: right;\n",
       "    }\n",
       "</style>\n",
       "<table border=\"1\" class=\"dataframe\">\n",
       "  <thead>\n",
       "    <tr style=\"text-align: right;\">\n",
       "      <th></th>\n",
       "      <th>countries</th>\n",
       "      <th>additives_n</th>\n",
       "      <th>ingredients_from_palm_oil_n</th>\n",
       "      <th>energy-kcal_100g</th>\n",
       "      <th>energy_100g</th>\n",
       "      <th>fat_100g</th>\n",
       "      <th>saturated-fat_100g</th>\n",
       "      <th>trans-fat_100g</th>\n",
       "      <th>cholesterol_100g</th>\n",
       "      <th>carbohydrates_100g</th>\n",
       "      <th>sugars_100g</th>\n",
       "      <th>fiber_100g</th>\n",
       "      <th>proteins_100g</th>\n",
       "      <th>sodium_100g</th>\n",
       "      <th>vitamin-a_100g</th>\n",
       "      <th>vitamin-c_100g</th>\n",
       "      <th>potassium_100g</th>\n",
       "      <th>calcium_100g</th>\n",
       "      <th>iron_100g</th>\n",
       "      <th>nutrition-score-fr_100g</th>\n",
       "    </tr>\n",
       "  </thead>\n",
       "  <tbody>\n",
       "  </tbody>\n",
       "</table>\n",
       "</div>"
      ],
      "text/plain": [
       "Empty DataFrame\n",
       "Columns: [countries, additives_n, ingredients_from_palm_oil_n, energy-kcal_100g, energy_100g, fat_100g, saturated-fat_100g, trans-fat_100g, cholesterol_100g, carbohydrates_100g, sugars_100g, fiber_100g, proteins_100g, sodium_100g, vitamin-a_100g, vitamin-c_100g, potassium_100g, calcium_100g, iron_100g, nutrition-score-fr_100g]\n",
       "Index: []"
      ]
     },
     "execution_count": 364,
     "metadata": {},
     "output_type": "execute_result"
    }
   ],
   "source": [
    "# data.iloc[data[colname]==val,:]\n",
    "data[data[colname]==val]"
   ]
  },
  {
   "cell_type": "code",
   "execution_count": 367,
   "metadata": {},
   "outputs": [
    {
     "data": {
      "text/plain": [
       "287"
      ]
     },
     "execution_count": 367,
     "metadata": {},
     "output_type": "execute_result"
    }
   ],
   "source": [
    "sum(data[colname].isna())"
   ]
  },
  {
   "cell_type": "code",
   "execution_count": null,
   "metadata": {},
   "outputs": [],
   "source": []
  },
  {
   "cell_type": "code",
   "execution_count": null,
   "metadata": {},
   "outputs": [],
   "source": []
  },
  {
   "cell_type": "code",
   "execution_count": 335,
   "metadata": {},
   "outputs": [
    {
     "data": {
      "text/html": [
       "<div>\n",
       "<style scoped>\n",
       "    .dataframe tbody tr th:only-of-type {\n",
       "        vertical-align: middle;\n",
       "    }\n",
       "\n",
       "    .dataframe tbody tr th {\n",
       "        vertical-align: top;\n",
       "    }\n",
       "\n",
       "    .dataframe thead th {\n",
       "        text-align: right;\n",
       "    }\n",
       "</style>\n",
       "<table border=\"1\" class=\"dataframe\">\n",
       "  <thead>\n",
       "    <tr style=\"text-align: right;\">\n",
       "      <th></th>\n",
       "      <th>countries</th>\n",
       "      <th>additives_n</th>\n",
       "      <th>ingredients_from_palm_oil_n</th>\n",
       "      <th>energy-kcal_100g</th>\n",
       "      <th>energy_100g</th>\n",
       "      <th>fat_100g</th>\n",
       "      <th>saturated-fat_100g</th>\n",
       "      <th>trans-fat_100g</th>\n",
       "      <th>cholesterol_100g</th>\n",
       "      <th>carbohydrates_100g</th>\n",
       "      <th>sugars_100g</th>\n",
       "      <th>fiber_100g</th>\n",
       "      <th>proteins_100g</th>\n",
       "      <th>sodium_100g</th>\n",
       "      <th>vitamin-a_100g</th>\n",
       "      <th>vitamin-c_100g</th>\n",
       "      <th>potassium_100g</th>\n",
       "      <th>calcium_100g</th>\n",
       "      <th>iron_100g</th>\n",
       "      <th>nutrition-score-fr_100g</th>\n",
       "    </tr>\n",
       "  </thead>\n",
       "  <tbody>\n",
       "  </tbody>\n",
       "</table>\n",
       "</div>"
      ],
      "text/plain": [
       "Empty DataFrame\n",
       "Columns: [countries, additives_n, ingredients_from_palm_oil_n, energy-kcal_100g, energy_100g, fat_100g, saturated-fat_100g, trans-fat_100g, cholesterol_100g, carbohydrates_100g, sugars_100g, fiber_100g, proteins_100g, sodium_100g, vitamin-a_100g, vitamin-c_100g, potassium_100g, calcium_100g, iron_100g, nutrition-score-fr_100g]\n",
       "Index: []"
      ]
     },
     "execution_count": 335,
     "metadata": {},
     "output_type": "execute_result"
    }
   ],
   "source": [
    "data.loc[val_index,:]"
   ]
  },
  {
   "cell_type": "code",
   "execution_count": 313,
   "metadata": {},
   "outputs": [
    {
     "data": {
      "text/plain": [
       "Int64Index([17251, 64144, 68783, 91374, 16136, 23552,  8219, 85089, 52307,\n",
       "            10268,\n",
       "            ...\n",
       "            20542,  7806, 25449, 90812, 65939, 57393, 64753, 15275, 51026,\n",
       "            26736],\n",
       "           dtype='int64', length=10000)"
      ]
     },
     "execution_count": 313,
     "metadata": {},
     "output_type": "execute_result"
    }
   ],
   "source": [
    "(data[colname]==np.nan).index"
   ]
  },
  {
   "cell_type": "code",
   "execution_count": null,
   "metadata": {},
   "outputs": [],
   "source": []
  },
  {
   "cell_type": "code",
   "execution_count": null,
   "metadata": {},
   "outputs": [],
   "source": []
  },
  {
   "cell_type": "code",
   "execution_count": null,
   "metadata": {},
   "outputs": [],
   "source": []
  },
  {
   "cell_type": "code",
   "execution_count": 149,
   "metadata": {},
   "outputs": [
    {
     "data": {
      "text/plain": [
       "array(['United States', 'España', 'en:United States', 'France',\n",
       "       'France, United States'], dtype=object)"
      ]
     },
     "execution_count": 149,
     "metadata": {},
     "output_type": "execute_result"
    }
   ],
   "source": [
    "## countries VARIABLE TREATMENT (MORE COMPLICATED + TEXT) \n",
    "data.countries.drop_duplicates().values[:5]"
   ]
  },
  {
   "cell_type": "markdown",
   "metadata": {},
   "source": [
    "# 1.3 Outliers \n",
    "\n",
    "Let's deal with outliers"
   ]
  },
  {
   "cell_type": "code",
   "execution_count": null,
   "metadata": {},
   "outputs": [],
   "source": []
  },
  {
   "cell_type": "code",
   "execution_count": null,
   "metadata": {},
   "outputs": [],
   "source": []
  },
  {
   "cell_type": "code",
   "execution_count": null,
   "metadata": {},
   "outputs": [],
   "source": []
  },
  {
   "cell_type": "code",
   "execution_count": null,
   "metadata": {},
   "outputs": [],
   "source": []
  },
  {
   "cell_type": "markdown",
   "metadata": {},
   "source": [
    "# 1.4 Estimate remaining missing values"
   ]
  }
 ],
 "metadata": {
  "kernelspec": {
   "display_name": "openclassroom",
   "language": "python",
   "name": "openclassroom"
  },
  "language_info": {
   "codemirror_mode": {
    "name": "ipython",
    "version": 3
   },
   "file_extension": ".py",
   "mimetype": "text/x-python",
   "name": "python",
   "nbconvert_exporter": "python",
   "pygments_lexer": "ipython3",
   "version": "3.8.6"
  }
 },
 "nbformat": 4,
 "nbformat_minor": 4
}
