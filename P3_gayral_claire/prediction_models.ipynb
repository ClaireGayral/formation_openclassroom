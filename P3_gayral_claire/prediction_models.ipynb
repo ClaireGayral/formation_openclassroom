{
 "cells": [
  {
   "cell_type": "markdown",
   "id": "e313b469",
   "metadata": {},
   "source": [
    "# Modèles de prédiction \n",
    "\n",
    "Je propose de résumer ici le travail d'exploration fait dans le premier notebook. \n",
    "\n",
    "L'objectif est de prédire deux variables numériques : la consommation d'énergie des bâtiments ```SiteEnergyUse(kBtu)```et la quantité d'émission de CO2 ```CO2_emissions```. Après différents pré-traitements tels que l'élimination des variables corrélées entres elles, ou la vectorisation des variables catégorielles, le jeu d'entrainement a la forme suivante : "
   ]
  },
  {
   "cell_type": "code",
   "execution_count": 1,
   "id": "826cb7b3",
   "metadata": {},
   "outputs": [],
   "source": [
    "import pandas as pd\n",
    "import numpy as np\n",
    "import matplotlib.pyplot as plt\n",
    "import seaborn as sns\n",
    "\n",
    "data_path = \"/home/clairegayral/Documents/openclassroom/data/P3/\"\n",
    "res_path = \"/home/clairegayral/Documents/openclassroom/res/P3/\"\n",
    "\n",
    "## my .py : \n",
    "from P3_preprocess import *\n",
    "import missing_values_treatment\n",
    "import duplicates\n",
    "import univariate_analysis\n",
    "import multivariate_analysis\n",
    "\n",
    "from sklearn import model_selection \n",
    "from sklearn import preprocessing\n",
    "from sklearn import neighbors\n",
    "from sklearn.impute import KNNImputer\n",
    "from sklearn import linear_model\n"
   ]
  },
  {
   "cell_type": "code",
   "execution_count": 2,
   "id": "ae2aa235",
   "metadata": {},
   "outputs": [
    {
     "name": "stdout",
     "output_type": "stream",
     "text": [
      "6 training numerical variables\n",
      "22 training interger variables (from tokenization of categorical variable)\n"
     ]
    },
    {
     "data": {
      "text/html": [
       "<div>\n",
       "<style scoped>\n",
       "    .dataframe tbody tr th:only-of-type {\n",
       "        vertical-align: middle;\n",
       "    }\n",
       "\n",
       "    .dataframe tbody tr th {\n",
       "        vertical-align: top;\n",
       "    }\n",
       "\n",
       "    .dataframe thead th {\n",
       "        text-align: right;\n",
       "    }\n",
       "</style>\n",
       "<table border=\"1\" class=\"dataframe\">\n",
       "  <thead>\n",
       "    <tr style=\"text-align: right;\">\n",
       "      <th></th>\n",
       "      <th>ZipCode</th>\n",
       "      <th>NumberofBuildings</th>\n",
       "      <th>NumberofFloors</th>\n",
       "      <th>PropertyGFAParking</th>\n",
       "      <th>LargestPropertyUseTypeGFA</th>\n",
       "      <th>ENERGYSTARScore</th>\n",
       "      <th>SiteEnergyUse(kBtu)</th>\n",
       "      <th>CO2_emissions</th>\n",
       "      <th>age_of_building</th>\n",
       "      <th>BuildingType_0</th>\n",
       "      <th>...</th>\n",
       "      <th>LargestPropertyUseType_2</th>\n",
       "      <th>LargestPropertyUseType_3</th>\n",
       "      <th>LargestPropertyUseType_4</th>\n",
       "      <th>LargestPropertyUseType_5</th>\n",
       "      <th>LargestPropertyUseType_6</th>\n",
       "      <th>LargestPropertyUseType_7</th>\n",
       "      <th>LargestPropertyUseType_8</th>\n",
       "      <th>LargestPropertyUseType_9</th>\n",
       "      <th>LargestPropertyUseType_10</th>\n",
       "      <th>LargestPropertyUseType_11</th>\n",
       "    </tr>\n",
       "  </thead>\n",
       "  <tbody>\n",
       "    <tr>\n",
       "      <th>0</th>\n",
       "      <td>58091.0</td>\n",
       "      <td>1.0</td>\n",
       "      <td>12.0</td>\n",
       "      <td>0.0</td>\n",
       "      <td>88434.0</td>\n",
       "      <td>62.5</td>\n",
       "      <td>7103895.25</td>\n",
       "      <td>249.705</td>\n",
       "      <td>88.5</td>\n",
       "      <td>0</td>\n",
       "      <td>...</td>\n",
       "      <td>0</td>\n",
       "      <td>0</td>\n",
       "      <td>0</td>\n",
       "      <td>0</td>\n",
       "      <td>0</td>\n",
       "      <td>0</td>\n",
       "      <td>0</td>\n",
       "      <td>0</td>\n",
       "      <td>0</td>\n",
       "      <td>1</td>\n",
       "    </tr>\n",
       "    <tr>\n",
       "      <th>1</th>\n",
       "      <td>58091.0</td>\n",
       "      <td>1.0</td>\n",
       "      <td>11.0</td>\n",
       "      <td>15064.0</td>\n",
       "      <td>83880.0</td>\n",
       "      <td>56.0</td>\n",
       "      <td>8371084.00</td>\n",
       "      <td>279.685</td>\n",
       "      <td>19.5</td>\n",
       "      <td>0</td>\n",
       "      <td>...</td>\n",
       "      <td>0</td>\n",
       "      <td>0</td>\n",
       "      <td>0</td>\n",
       "      <td>0</td>\n",
       "      <td>0</td>\n",
       "      <td>0</td>\n",
       "      <td>0</td>\n",
       "      <td>0</td>\n",
       "      <td>0</td>\n",
       "      <td>1</td>\n",
       "    </tr>\n",
       "    <tr>\n",
       "      <th>2</th>\n",
       "      <td>58091.0</td>\n",
       "      <td>1.0</td>\n",
       "      <td>41.0</td>\n",
       "      <td>98359.0</td>\n",
       "      <td>756868.0</td>\n",
       "      <td>30.5</td>\n",
       "      <td>72858840.00</td>\n",
       "      <td>2075.380</td>\n",
       "      <td>46.5</td>\n",
       "      <td>0</td>\n",
       "      <td>...</td>\n",
       "      <td>0</td>\n",
       "      <td>0</td>\n",
       "      <td>0</td>\n",
       "      <td>0</td>\n",
       "      <td>0</td>\n",
       "      <td>0</td>\n",
       "      <td>0</td>\n",
       "      <td>0</td>\n",
       "      <td>0</td>\n",
       "      <td>1</td>\n",
       "    </tr>\n",
       "    <tr>\n",
       "      <th>3</th>\n",
       "      <td>58091.0</td>\n",
       "      <td>1.0</td>\n",
       "      <td>10.0</td>\n",
       "      <td>0.0</td>\n",
       "      <td>61320.0</td>\n",
       "      <td>28.5</td>\n",
       "      <td>17511952.00</td>\n",
       "      <td>1111.385</td>\n",
       "      <td>89.5</td>\n",
       "      <td>0</td>\n",
       "      <td>...</td>\n",
       "      <td>0</td>\n",
       "      <td>0</td>\n",
       "      <td>0</td>\n",
       "      <td>0</td>\n",
       "      <td>0</td>\n",
       "      <td>0</td>\n",
       "      <td>0</td>\n",
       "      <td>0</td>\n",
       "      <td>0</td>\n",
       "      <td>1</td>\n",
       "    </tr>\n",
       "    <tr>\n",
       "      <th>4</th>\n",
       "      <td>58848.5</td>\n",
       "      <td>1.0</td>\n",
       "      <td>18.0</td>\n",
       "      <td>37230.0</td>\n",
       "      <td>123445.0</td>\n",
       "      <td>71.0</td>\n",
       "      <td>14500852.50</td>\n",
       "      <td>506.355</td>\n",
       "      <td>35.5</td>\n",
       "      <td>0</td>\n",
       "      <td>...</td>\n",
       "      <td>0</td>\n",
       "      <td>0</td>\n",
       "      <td>0</td>\n",
       "      <td>0</td>\n",
       "      <td>0</td>\n",
       "      <td>0</td>\n",
       "      <td>0</td>\n",
       "      <td>0</td>\n",
       "      <td>0</td>\n",
       "      <td>1</td>\n",
       "    </tr>\n",
       "  </tbody>\n",
       "</table>\n",
       "<p>5 rows × 31 columns</p>\n",
       "</div>"
      ],
      "text/plain": [
       "   ZipCode  NumberofBuildings  NumberofFloors  PropertyGFAParking  \\\n",
       "0  58091.0                1.0            12.0                 0.0   \n",
       "1  58091.0                1.0            11.0             15064.0   \n",
       "2  58091.0                1.0            41.0             98359.0   \n",
       "3  58091.0                1.0            10.0                 0.0   \n",
       "4  58848.5                1.0            18.0             37230.0   \n",
       "\n",
       "   LargestPropertyUseTypeGFA  ENERGYSTARScore  SiteEnergyUse(kBtu)  \\\n",
       "0                    88434.0             62.5           7103895.25   \n",
       "1                    83880.0             56.0           8371084.00   \n",
       "2                   756868.0             30.5          72858840.00   \n",
       "3                    61320.0             28.5          17511952.00   \n",
       "4                   123445.0             71.0          14500852.50   \n",
       "\n",
       "   CO2_emissions  age_of_building  BuildingType_0  ...  \\\n",
       "0        249.705             88.5               0  ...   \n",
       "1        279.685             19.5               0  ...   \n",
       "2       2075.380             46.5               0  ...   \n",
       "3       1111.385             89.5               0  ...   \n",
       "4        506.355             35.5               0  ...   \n",
       "\n",
       "   LargestPropertyUseType_2  LargestPropertyUseType_3  \\\n",
       "0                         0                         0   \n",
       "1                         0                         0   \n",
       "2                         0                         0   \n",
       "3                         0                         0   \n",
       "4                         0                         0   \n",
       "\n",
       "   LargestPropertyUseType_4  LargestPropertyUseType_5  \\\n",
       "0                         0                         0   \n",
       "1                         0                         0   \n",
       "2                         0                         0   \n",
       "3                         0                         0   \n",
       "4                         0                         0   \n",
       "\n",
       "   LargestPropertyUseType_6  LargestPropertyUseType_7  \\\n",
       "0                         0                         0   \n",
       "1                         0                         0   \n",
       "2                         0                         0   \n",
       "3                         0                         0   \n",
       "4                         0                         0   \n",
       "\n",
       "   LargestPropertyUseType_8  LargestPropertyUseType_9  \\\n",
       "0                         0                         0   \n",
       "1                         0                         0   \n",
       "2                         0                         0   \n",
       "3                         0                         0   \n",
       "4                         0                         0   \n",
       "\n",
       "   LargestPropertyUseType_10  LargestPropertyUseType_11  \n",
       "0                          0                          1  \n",
       "1                          0                          1  \n",
       "2                          0                          1  \n",
       "3                          0                          1  \n",
       "4                          0                          1  \n",
       "\n",
       "[5 rows x 31 columns]"
      ]
     },
     "execution_count": 2,
     "metadata": {},
     "output_type": "execute_result"
    }
   ],
   "source": [
    "data = pd.read_csv(res_path+\"cleanned_data.csv\", index_col=0)\n",
    "print(len(data.columns[data.dtypes==float])-3, \"training numerical variables\")\n",
    "print(len(data.columns[data.dtypes==int]), \n",
    "      \"training interger variables (from tokenization of categorical variable)\")\n",
    "data.head()"
   ]
  },
  {
   "cell_type": "markdown",
   "id": "5ae668c7",
   "metadata": {},
   "source": [
    "# Mise à l'écart de l'ensemble de test : \n",
    "Je mets de côté l'ensemble de test, sur lequel je comparerai mes modèles prédictifs à la fin. \n",
    "\n",
    "### Séparation données d'entrainement"
   ]
  },
  {
   "cell_type": "code",
   "execution_count": 3,
   "id": "dc46b03b",
   "metadata": {},
   "outputs": [],
   "source": [
    "from sklearn.model_selection import train_test_split\n",
    "\n",
    "X_original = data.drop([\"SiteEnergyUse(kBtu)\",\"CO2_emissions\", \"ENERGYSTARScore\"], axis = 1)\n",
    "y_original = data[[\"SiteEnergyUse(kBtu)\",\"CO2_emissions\"]]\n",
    "\n",
    "X_original_train, X_original_test, y_original_train, y_original_test = train_test_split(X_original, y_original, train_size=0.8)\n",
    "\n",
    "index_train = y_original_train.index\n",
    "index_test = y_original_test.index"
   ]
  },
  {
   "cell_type": "markdown",
   "id": "428a4069",
   "metadata": {},
   "source": [
    "Par soucis de clarté de code, je vais renommer $X\\_original\\_train$ avec $X$. **Ainsi, le lecteur pourra bien comprendre que le $X$ évoqué dans la suite sera bien l'ensemble d'entrainement.**"
   ]
  },
  {
   "cell_type": "code",
   "execution_count": 4,
   "id": "c79f4945",
   "metadata": {},
   "outputs": [],
   "source": [
    "X = X_original_train\n",
    "y = y_original_train"
   ]
  },
  {
   "cell_type": "markdown",
   "id": "a8296676",
   "metadata": {},
   "source": [
    "### Standardisation entrainée sur l'ensemble d'entrainement"
   ]
  },
  {
   "cell_type": "code",
   "execution_count": 5,
   "id": "24f5862e",
   "metadata": {},
   "outputs": [],
   "source": [
    "from sklearn import preprocessing\n",
    "my_standardizer = preprocessing.StandardScaler()\n",
    "my_standardizer.fit(X_original_train)\n",
    "\n",
    "X_std = pd.DataFrame(my_standardizer.transform(X), columns=X.columns, index = X.index)\n",
    "X_original_test_std = my_standardizer.transform(X_original_test)\n",
    "\n",
    "## std y ?\n",
    "my_standardizer.fit(y_original_train)\n",
    "\n",
    "y_std = pd.DataFrame(my_standardizer.transform(y), columns = y.columns, index = y.index)\n",
    "y_original_test_std = my_standardizer.transform(y_original_test)"
   ]
  },
  {
   "cell_type": "markdown",
   "id": "a38aba48",
   "metadata": {},
   "source": [
    "# Régression Linéaire"
   ]
  },
  {
   "cell_type": "code",
   "execution_count": 10,
   "id": "e9e0b3bf",
   "metadata": {},
   "outputs": [
    {
     "name": "stdout",
     "output_type": "stream",
     "text": [
      "for SiteEnergyUse(kBtu) in log space :\n"
     ]
    },
    {
     "data": {
      "image/png": "[encoded data removed]",
      "text/plain": [
       "<Figure size 432x288 with 1 Axes>"
      ]
     },
     "metadata": {
      "needs_background": "light"
     },
     "output_type": "display_data"
    },
    {
     "data": {
      "text/html": [
       "<div>\n",
       "<style scoped>\n",
       "    .dataframe tbody tr th:only-of-type {\n",
       "        vertical-align: middle;\n",
       "    }\n",
       "\n",
       "    .dataframe tbody tr th {\n",
       "        vertical-align: top;\n",
       "    }\n",
       "\n",
       "    .dataframe thead th {\n",
       "        text-align: right;\n",
       "    }\n",
       "</style>\n",
       "<table border=\"1\" class=\"dataframe\">\n",
       "  <thead>\n",
       "    <tr style=\"text-align: right;\">\n",
       "      <th></th>\n",
       "      <th>score</th>\n",
       "      <th>execution_time</th>\n",
       "      <th>best_alpha</th>\n",
       "    </tr>\n",
       "  </thead>\n",
       "  <tbody>\n",
       "    <tr>\n",
       "      <th>lr</th>\n",
       "      <td>0.4</td>\n",
       "      <td>0.020715</td>\n",
       "      <td>None</td>\n",
       "    </tr>\n",
       "    <tr>\n",
       "      <th>ridge</th>\n",
       "      <td>0.146277</td>\n",
       "      <td>0.332089</td>\n",
       "      <td>908.517576</td>\n",
       "    </tr>\n",
       "    <tr>\n",
       "      <th>lasso</th>\n",
       "      <td>0.099345</td>\n",
       "      <td>0.272646</td>\n",
       "      <td>0.046416</td>\n",
       "    </tr>\n",
       "    <tr>\n",
       "      <th>enet</th>\n",
       "      <td>0.126706</td>\n",
       "      <td>0.281547</td>\n",
       "      <td>0.068129</td>\n",
       "    </tr>\n",
       "  </tbody>\n",
       "</table>\n",
       "</div>"
      ],
      "text/plain": [
       "          score execution_time  best_alpha\n",
       "lr          0.4       0.020715        None\n",
       "ridge  0.146277       0.332089  908.517576\n",
       "lasso  0.099345       0.272646    0.046416\n",
       "enet   0.126706       0.281547    0.068129"
      ]
     },
     "execution_count": 10,
     "metadata": {},
     "output_type": "execute_result"
    }
   ],
   "source": [
    "dict_param_grid = {\"ridge\": np.logspace(-1, 4, 25),\n",
    "                   \"lasso\": np.logspace(-2, 2, 25),\n",
    "                   \"enet\" : np.logspace(-2, 2, 25),\n",
    "                  }\n",
    "\n",
    "dict_models = {\"ridge\" : linear_model.Ridge(), \n",
    "               \"lasso\" : linear_model.Lasso(),\n",
    "               \"enet\" : linear_model.ElasticNet(),\n",
    "              }\n",
    "\n",
    "var = \"SiteEnergyUse(kBtu)\"\n",
    "X_ = X_std\n",
    "y_ = np.log(y_std[var]+1)\n",
    "print(\"for\", var, \"in log space :\")\n",
    "res = compare_regressions(X_, y_, dict_models, dict_param_grid, score_name=\"r2\", fig_name=None)\n",
    "plt.show()\n",
    "res"
   ]
  },
  {
   "cell_type": "code",
   "execution_count": 11,
   "id": "15f01577",
   "metadata": {},
   "outputs": [
    {
     "name": "stdout",
     "output_type": "stream",
     "text": [
      "for CO2_emissions in log space :\n"
     ]
    },
    {
     "data": {
      "image/png": "[encoded data removed]",
      "text/plain": [
       "<Figure size 432x288 with 1 Axes>"
      ]
     },
     "metadata": {
      "needs_background": "light"
     },
     "output_type": "display_data"
    },
    {
     "data": {
      "text/html": [
       "<div>\n",
       "<style scoped>\n",
       "    .dataframe tbody tr th:only-of-type {\n",
       "        vertical-align: middle;\n",
       "    }\n",
       "\n",
       "    .dataframe tbody tr th {\n",
       "        vertical-align: top;\n",
       "    }\n",
       "\n",
       "    .dataframe thead th {\n",
       "        text-align: right;\n",
       "    }\n",
       "</style>\n",
       "<table border=\"1\" class=\"dataframe\">\n",
       "  <thead>\n",
       "    <tr style=\"text-align: right;\">\n",
       "      <th></th>\n",
       "      <th>score</th>\n",
       "      <th>execution_time</th>\n",
       "      <th>best_alpha</th>\n",
       "    </tr>\n",
       "  </thead>\n",
       "  <tbody>\n",
       "    <tr>\n",
       "      <th>lr</th>\n",
       "      <td>0.4</td>\n",
       "      <td>0.009613</td>\n",
       "      <td>None</td>\n",
       "    </tr>\n",
       "    <tr>\n",
       "      <th>ridge</th>\n",
       "      <td>-0.028653</td>\n",
       "      <td>0.254808</td>\n",
       "      <td>908.517576</td>\n",
       "    </tr>\n",
       "    <tr>\n",
       "      <th>lasso</th>\n",
       "      <td>0.064107</td>\n",
       "      <td>0.306187</td>\n",
       "      <td>0.031623</td>\n",
       "    </tr>\n",
       "    <tr>\n",
       "      <th>enet</th>\n",
       "      <td>0.077806</td>\n",
       "      <td>0.197812</td>\n",
       "      <td>0.068129</td>\n",
       "    </tr>\n",
       "  </tbody>\n",
       "</table>\n",
       "</div>"
      ],
      "text/plain": [
       "          score execution_time  best_alpha\n",
       "lr          0.4       0.009613        None\n",
       "ridge -0.028653       0.254808  908.517576\n",
       "lasso  0.064107       0.306187    0.031623\n",
       "enet   0.077806       0.197812    0.068129"
      ]
     },
     "execution_count": 11,
     "metadata": {},
     "output_type": "execute_result"
    }
   ],
   "source": [
    "var = \"CO2_emissions\"\n",
    "X_ = X_std\n",
    "y_ = np.log(y_std[var]+1)\n",
    "print(\"for\", var, \"in log space :\")\n",
    "res = compare_regressions(X_, y_, dict_models, dict_param_grid, score_name=\"r2\", fig_name=None)\n",
    "plt.show()\n",
    "res"
   ]
  },
  {
   "cell_type": "markdown",
   "id": "bc82e581",
   "metadata": {},
   "source": [
    "La régression linéaire, même avec pénalisation, ne semble pas produire un modèle de prédiction convainquant, notamment à cause de la lourde queue de distribution des variables à prédire. Néansmoins, je vais utiliser la régression pénalisée lasso sur les variables \"catégorielles\" (issues de la vectorisation de ces dernière pour être précise), afin de voir si certaines de mes modalités sont non significatives (et peuvent donc être retirées)."
   ]
  },
  {
   "cell_type": "code",
   "execution_count": 48,
   "id": "f9abd742",
   "metadata": {
    "scrolled": false
   },
   "outputs": [
    {
     "name": "stdout",
     "output_type": "stream",
     "text": [
      "for SiteEnergyUse(kBtu) in log space :\n"
     ]
    },
    {
     "data": {
      "image/png": "[encoded data removed]",
      "text/plain": [
       "<Figure size 432x288 with 1 Axes>"
      ]
     },
     "metadata": {
      "needs_background": "light"
     },
     "output_type": "display_data"
    },
    {
     "data": {
      "image/png": "[encoded data removed]",
      "text/plain": [
       "<Figure size 432x288 with 1 Axes>"
      ]
     },
     "metadata": {
      "needs_background": "light"
     },
     "output_type": "display_data"
    },
    {
     "name": "stdout",
     "output_type": "stream",
     "text": [
      "Modalities with zero coefficient in ANOVA :\n"
     ]
    },
    {
     "data": {
      "text/plain": [
       "Index(['BuildingType_1', 'LargestPropertyUseType_9'], dtype='object')"
      ]
     },
     "execution_count": 48,
     "metadata": {},
     "output_type": "execute_result"
    }
   ],
   "source": [
    "dict_param_grid[\"lasso\"] = np.logspace(-4.5, 0, 25)\n",
    "\n",
    "var = \"SiteEnergyUse(kBtu)\"\n",
    "X_ = X.loc[:,X.dtypes == int]\n",
    "y_ = np.log(y_std[var]+1)\n",
    "\n",
    "print(\"for\", var, \"in log space :\")\n",
    "res = compare_regressions(X_, y_, {\"lasso\" : linear_model.Lasso(max_iter=10000)}, \n",
    "                          dict_param_grid, score_name=\"r2\", fig_name=None)\n",
    "plt.show()\n",
    "## regul paths :\n",
    "model_name = \"lasso\"\n",
    "legend_kwargs = {\"loc\" : \"upper right\",\"bbox_to_anchor\":(2.1, 1), \"ncol\":2}\n",
    "plot_regul_paths(alpha_values = dict_param_grid[model_name], lm_model = dict_models[model_name], \n",
    "                 X_ = X_, y_ = y_, best_alpha=res.loc[model_name, \"best_alpha\"],\n",
    "                 var_names = X_.columns, legend_kwargs=legend_kwargs)\n",
    "plt.show()\n",
    "\n",
    "model = dict_models[model_name]\n",
    "model.set_params(alpha = res.loc[model_name, \"best_alpha\"])\n",
    "model.fit(X_,y_)\n",
    "models_coefs = model.coef_\n",
    "print(\"Modalities with zero coefficient in ANOVA :\")\n",
    "zero_coeff_modality = X_.columns[[abs(coef) > 10**(-5) for coef in models_coefs]]\n",
    "zero_coeff_modality"
   ]
  },
  {
   "cell_type": "markdown",
   "id": "08076a66",
   "metadata": {},
   "source": [
    "Je vais donc retirer ces méta-modalités, car elle n'ont pas d'influence dans cette ANOVA. "
   ]
  },
  {
   "cell_type": "code",
   "execution_count": 45,
   "id": "02904fa8",
   "metadata": {},
   "outputs": [],
   "source": [
    "X = X.drop(zero_coeff_modality.values, axis =1)"
   ]
  },
  {
   "cell_type": "markdown",
   "id": "cbe5926d",
   "metadata": {},
   "source": [
    "# Liste des modèles testés : \n",
    "\n",
    "## 1. Régression à noyaux \n",
    "\n",
    "Est-ce que le lien entre les données serait mieux représenté dans un RKHS ? "
   ]
  },
  {
   "cell_type": "code",
   "execution_count": 50,
   "id": "7b7f5855",
   "metadata": {},
   "outputs": [],
   "source": [
    "from sklearn.kernel_ridge import KernelRidge\n",
    "\n",
    "dict_models[\"kernel_ridge\"] = KernelRidge()\n",
    "dict_param_grid[\"kernel_ridge\"] = np.logspace(-1, 4, 25)\n"
   ]
  },
  {
   "cell_type": "markdown",
   "id": "652bed04",
   "metadata": {},
   "source": [
    "## 2. KNN :"
   ]
  },
  {
   "cell_type": "code",
   "execution_count": null,
   "id": "d56e5654",
   "metadata": {},
   "outputs": [],
   "source": []
  },
  {
   "cell_type": "markdown",
   "id": "fe570d66",
   "metadata": {},
   "source": [
    "## 3. SVM : "
   ]
  },
  {
   "cell_type": "code",
   "execution_count": 51,
   "id": "e701f370",
   "metadata": {},
   "outputs": [],
   "source": [
    "from sklearn.svm import SVR\n",
    "\n",
    "dict_models[\"SVR\"] = SVR(kernel = \"linear\")\n",
    "dict_param_grid[\"SVR\"] = np.logspace(-1, 4, 25)\n"
   ]
  },
  {
   "cell_type": "markdown",
   "id": "7c3c4a15",
   "metadata": {},
   "source": [
    "Il faut que je modifie mon format de dict_param_grid pour qu'il devienne dictionnaire de dictionnaire (avec le nom des hyper-params et leur valeurs, pour chaque modèle\n",
    "\n",
    "Dans [l'aide de la fonction SVR](https://scikit-learn.org/stable/modules/generated/sklearn.svm.SVR.html), il y a une exemple d' utilisation de pipeline, à voir si ce n'est pas pertinent pour moi"
   ]
  },
  {
   "cell_type": "markdown",
   "id": "96c1485e",
   "metadata": {},
   "source": [
    "## 4. Forêts aléatoires"
   ]
  },
  {
   "cell_type": "code",
   "execution_count": null,
   "id": "e1dea59e",
   "metadata": {},
   "outputs": [],
   "source": []
  },
  {
   "cell_type": "markdown",
   "id": "54302956",
   "metadata": {},
   "source": [
    "# Résultats et interprétation : "
   ]
  }
 ],
 "metadata": {
  "kernelspec": {
   "display_name": "openclassroom",
   "language": "python",
   "name": "openclassroom"
  },
  "language_info": {
   "codemirror_mode": {
    "name": "ipython",
    "version": 3
   },
   "file_extension": ".py",
   "mimetype": "text/x-python",
   "name": "python",
   "nbconvert_exporter": "python",
   "pygments_lexer": "ipython3",
   "version": "3.8.6"
  }
 },
 "nbformat": 4,
 "nbformat_minor": 5
}
