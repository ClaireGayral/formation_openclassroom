{
 "cells": [
  {
   "cell_type": "markdown",
   "id": "9730d5ed",
   "metadata": {},
   "source": [
    "# Modèles de prédiction \n",
    "\n",
    "Je propose de résumer ici le travail d'exploration fait dans le premier notebook. \n",
    "\n",
    "L'objectif est de prédire deux variables numériques : la consommation d'énergie des bâtiments ```SiteEnergyUse(kBtu)```et la quantité d'émission de CO2 ```CO2_emissions```. Après différents pré-traitements tels que l'élimination des variables corrélées entres elles, ou la vectorisation des variables catégorielles, le jeu d'entrainement a la forme suivante : "
   ]
  },
  {
   "cell_type": "code",
   "execution_count": 2,
   "id": "3efa5d98",
   "metadata": {},
   "outputs": [],
   "source": [
    "import pandas as pd\n",
    "import numpy as np\n",
    "import matplotlib.pyplot as plt\n",
    "import seaborn as sns\n",
    "\n",
    "data_path = \"/home/clairegayral/Documents/openclassroom/data/P3/\"\n",
    "res_path = \"/home/clairegayral/Documents/openclassroom/res/P3/\"\n",
    "\n",
    "## my .py : \n",
    "from P3_preprocess import *\n",
    "import missing_values_treatment\n",
    "import duplicates\n",
    "import univariate_analysis\n",
    "import multivariate_analysis\n",
    "\n",
    "from sklearn import model_selection \n",
    "from sklearn import preprocessing\n",
    "from sklearn import neighbors\n",
    "from sklearn.impute import KNNImputer\n"
   ]
  },
  {
   "cell_type": "code",
   "execution_count": 25,
   "id": "17d2f323",
   "metadata": {},
   "outputs": [
    {
     "name": "stdout",
     "output_type": "stream",
     "text": [
      "7 training numerical variables\n",
      "8 training interger variables (from tokenization of categorical variable)\n"
     ]
    }
   ],
   "source": [
    "data = pd.read_csv(res_path+\"cleanned_data.csv\", index_col=0)\n",
    "print(len(data.columns[data.dtypes==float])-2, \"training numerical variables\")\n",
    "print(len(data.columns[data.dtypes==int]), \n",
    "      \"training interger variables (from tokenization of categorical variable)\")"
   ]
  },
  {
   "cell_type": "code",
   "execution_count": null,
   "id": "d5a86ce0",
   "metadata": {},
   "outputs": [],
   "source": []
  }
 ],
 "metadata": {
  "kernelspec": {
   "display_name": "openclassroom",
   "language": "python",
   "name": "openclassroom"
  },
  "language_info": {
   "codemirror_mode": {
    "name": "ipython",
    "version": 3
   },
   "file_extension": ".py",
   "mimetype": "text/x-python",
   "name": "python",
   "nbconvert_exporter": "python",
   "pygments_lexer": "ipython3",
   "version": "3.8.6"
  }
 },
 "nbformat": 4,
 "nbformat_minor": 5
}
