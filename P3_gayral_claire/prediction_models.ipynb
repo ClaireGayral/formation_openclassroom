{
 "cells": [
  {
   "cell_type": "markdown",
   "id": "e313b469",
   "metadata": {},
   "source": [
    "# Modèles de prédiction \n",
    "\n",
    "Je propose de résumer ici le travail d'exploration fait dans le premier notebook. \n",
    "\n",
    "L'objectif est de prédire deux variables numériques : la consommation d'énergie des bâtiments ```SiteEnergyUse(kBtu)```et la quantité d'émission de CO2 ```CO2_emissions```. Après différents pré-traitements tels que l'élimination des variables corrélées entres elles, ou la vectorisation des variables catégorielles, le jeu d'entrainement a la forme suivante : "
   ]
  },
  {
   "cell_type": "code",
   "execution_count": 1,
   "id": "826cb7b3",
   "metadata": {},
   "outputs": [],
   "source": [
    "import pandas as pd\n",
    "import numpy as np\n",
    "import matplotlib.pyplot as plt\n",
    "import seaborn as sns\n",
    "\n",
    "data_path = \"/home/clairegayral/Documents/openclassroom/data/P3/\"\n",
    "res_path = \"/home/clairegayral/Documents/openclassroom/res/P3/\"\n",
    "\n",
    "## my .py : \n",
    "from P3_preprocess import *\n",
    "import missing_values_treatment\n",
    "import duplicates\n",
    "import univariate_analysis\n",
    "from multivariate_analysis import *\n",
    "\n",
    "from sklearn import model_selection \n",
    "from sklearn import preprocessing\n",
    "from sklearn import neighbors\n",
    "from sklearn.impute import KNNImputer\n",
    "from sklearn import linear_model\n"
   ]
  },
  {
   "cell_type": "code",
   "execution_count": 2,
   "id": "ae2aa235",
   "metadata": {},
   "outputs": [
    {
     "name": "stdout",
     "output_type": "stream",
     "text": [
      "5 training numerical variables :  ['ZipCode', 'NumberofBuildings', 'NumberofFloors', 'PropertyGFAParking', 'LargestPropertyUseTypeGFA', 'ENERGYSTARScore', 'SiteEnergyUse(kBtu)', 'CO2_emissions']\n",
      "13 training interger variables (from tokenization of categorical variable)\n"
     ]
    },
    {
     "data": {
      "text/html": [
       "<div>\n",
       "<style scoped>\n",
       "    .dataframe tbody tr th:only-of-type {\n",
       "        vertical-align: middle;\n",
       "    }\n",
       "\n",
       "    .dataframe tbody tr th {\n",
       "        vertical-align: top;\n",
       "    }\n",
       "\n",
       "    .dataframe thead th {\n",
       "        text-align: right;\n",
       "    }\n",
       "</style>\n",
       "<table border=\"1\" class=\"dataframe\">\n",
       "  <thead>\n",
       "    <tr style=\"text-align: right;\">\n",
       "      <th></th>\n",
       "      <th>ZipCode</th>\n",
       "      <th>NumberofBuildings</th>\n",
       "      <th>NumberofFloors</th>\n",
       "      <th>PropertyGFAParking</th>\n",
       "      <th>LargestPropertyUseTypeGFA</th>\n",
       "      <th>ENERGYSTARScore</th>\n",
       "      <th>SiteEnergyUse(kBtu)</th>\n",
       "      <th>CO2_emissions</th>\n",
       "      <th>BuildingType_campus</th>\n",
       "      <th>BuildingType_HR</th>\n",
       "      <th>...</th>\n",
       "      <th>BuildingType_LR</th>\n",
       "      <th>BuildingType_other</th>\n",
       "      <th>PrimaryPropertyType_medical</th>\n",
       "      <th>PrimaryPropertyType_large</th>\n",
       "      <th>PrimaryPropertyType_service</th>\n",
       "      <th>PrimaryPropertyType_other</th>\n",
       "      <th>PrimaryPropertyType_medium</th>\n",
       "      <th>PrimaryPropertyType_empty</th>\n",
       "      <th>PrimaryPropertyType_small</th>\n",
       "      <th>PrimaryPropertyType_other2</th>\n",
       "    </tr>\n",
       "  </thead>\n",
       "  <tbody>\n",
       "    <tr>\n",
       "      <th>0</th>\n",
       "      <td>58091.0</td>\n",
       "      <td>1.0</td>\n",
       "      <td>12.0</td>\n",
       "      <td>0.0</td>\n",
       "      <td>88434.0</td>\n",
       "      <td>62.5</td>\n",
       "      <td>7103895.25</td>\n",
       "      <td>249.705</td>\n",
       "      <td>0</td>\n",
       "      <td>0</td>\n",
       "      <td>...</td>\n",
       "      <td>0</td>\n",
       "      <td>1</td>\n",
       "      <td>0</td>\n",
       "      <td>0</td>\n",
       "      <td>1</td>\n",
       "      <td>0</td>\n",
       "      <td>0</td>\n",
       "      <td>0</td>\n",
       "      <td>0</td>\n",
       "      <td>0</td>\n",
       "    </tr>\n",
       "    <tr>\n",
       "      <th>1</th>\n",
       "      <td>58091.0</td>\n",
       "      <td>1.0</td>\n",
       "      <td>11.0</td>\n",
       "      <td>15064.0</td>\n",
       "      <td>83880.0</td>\n",
       "      <td>56.0</td>\n",
       "      <td>8371084.00</td>\n",
       "      <td>279.685</td>\n",
       "      <td>0</td>\n",
       "      <td>0</td>\n",
       "      <td>...</td>\n",
       "      <td>0</td>\n",
       "      <td>1</td>\n",
       "      <td>0</td>\n",
       "      <td>0</td>\n",
       "      <td>1</td>\n",
       "      <td>0</td>\n",
       "      <td>0</td>\n",
       "      <td>0</td>\n",
       "      <td>0</td>\n",
       "      <td>0</td>\n",
       "    </tr>\n",
       "    <tr>\n",
       "      <th>2</th>\n",
       "      <td>58091.0</td>\n",
       "      <td>1.0</td>\n",
       "      <td>41.0</td>\n",
       "      <td>98359.0</td>\n",
       "      <td>756868.0</td>\n",
       "      <td>30.5</td>\n",
       "      <td>72858840.00</td>\n",
       "      <td>2075.380</td>\n",
       "      <td>0</td>\n",
       "      <td>0</td>\n",
       "      <td>...</td>\n",
       "      <td>0</td>\n",
       "      <td>1</td>\n",
       "      <td>0</td>\n",
       "      <td>0</td>\n",
       "      <td>1</td>\n",
       "      <td>0</td>\n",
       "      <td>0</td>\n",
       "      <td>0</td>\n",
       "      <td>0</td>\n",
       "      <td>0</td>\n",
       "    </tr>\n",
       "    <tr>\n",
       "      <th>3</th>\n",
       "      <td>58091.0</td>\n",
       "      <td>1.0</td>\n",
       "      <td>10.0</td>\n",
       "      <td>0.0</td>\n",
       "      <td>61320.0</td>\n",
       "      <td>28.5</td>\n",
       "      <td>17511952.00</td>\n",
       "      <td>1111.385</td>\n",
       "      <td>0</td>\n",
       "      <td>0</td>\n",
       "      <td>...</td>\n",
       "      <td>0</td>\n",
       "      <td>1</td>\n",
       "      <td>0</td>\n",
       "      <td>0</td>\n",
       "      <td>1</td>\n",
       "      <td>0</td>\n",
       "      <td>0</td>\n",
       "      <td>0</td>\n",
       "      <td>0</td>\n",
       "      <td>0</td>\n",
       "    </tr>\n",
       "    <tr>\n",
       "      <th>4</th>\n",
       "      <td>58848.5</td>\n",
       "      <td>1.0</td>\n",
       "      <td>18.0</td>\n",
       "      <td>37230.0</td>\n",
       "      <td>123445.0</td>\n",
       "      <td>71.0</td>\n",
       "      <td>14500852.50</td>\n",
       "      <td>506.355</td>\n",
       "      <td>0</td>\n",
       "      <td>0</td>\n",
       "      <td>...</td>\n",
       "      <td>0</td>\n",
       "      <td>1</td>\n",
       "      <td>0</td>\n",
       "      <td>0</td>\n",
       "      <td>1</td>\n",
       "      <td>0</td>\n",
       "      <td>0</td>\n",
       "      <td>0</td>\n",
       "      <td>0</td>\n",
       "      <td>0</td>\n",
       "    </tr>\n",
       "  </tbody>\n",
       "</table>\n",
       "<p>5 rows × 21 columns</p>\n",
       "</div>"
      ],
      "text/plain": [
       "   ZipCode  NumberofBuildings  NumberofFloors  PropertyGFAParking  \\\n",
       "0  58091.0                1.0            12.0                 0.0   \n",
       "1  58091.0                1.0            11.0             15064.0   \n",
       "2  58091.0                1.0            41.0             98359.0   \n",
       "3  58091.0                1.0            10.0                 0.0   \n",
       "4  58848.5                1.0            18.0             37230.0   \n",
       "\n",
       "   LargestPropertyUseTypeGFA  ENERGYSTARScore  SiteEnergyUse(kBtu)  \\\n",
       "0                    88434.0             62.5           7103895.25   \n",
       "1                    83880.0             56.0           8371084.00   \n",
       "2                   756868.0             30.5          72858840.00   \n",
       "3                    61320.0             28.5          17511952.00   \n",
       "4                   123445.0             71.0          14500852.50   \n",
       "\n",
       "   CO2_emissions  BuildingType_campus  BuildingType_HR  ...  BuildingType_LR  \\\n",
       "0        249.705                    0                0  ...                0   \n",
       "1        279.685                    0                0  ...                0   \n",
       "2       2075.380                    0                0  ...                0   \n",
       "3       1111.385                    0                0  ...                0   \n",
       "4        506.355                    0                0  ...                0   \n",
       "\n",
       "   BuildingType_other  PrimaryPropertyType_medical  PrimaryPropertyType_large  \\\n",
       "0                   1                            0                          0   \n",
       "1                   1                            0                          0   \n",
       "2                   1                            0                          0   \n",
       "3                   1                            0                          0   \n",
       "4                   1                            0                          0   \n",
       "\n",
       "   PrimaryPropertyType_service  PrimaryPropertyType_other  \\\n",
       "0                            1                          0   \n",
       "1                            1                          0   \n",
       "2                            1                          0   \n",
       "3                            1                          0   \n",
       "4                            1                          0   \n",
       "\n",
       "   PrimaryPropertyType_medium  PrimaryPropertyType_empty  \\\n",
       "0                           0                          0   \n",
       "1                           0                          0   \n",
       "2                           0                          0   \n",
       "3                           0                          0   \n",
       "4                           0                          0   \n",
       "\n",
       "   PrimaryPropertyType_small  PrimaryPropertyType_other2  \n",
       "0                          0                           0  \n",
       "1                          0                           0  \n",
       "2                          0                           0  \n",
       "3                          0                           0  \n",
       "4                          0                           0  \n",
       "\n",
       "[5 rows x 21 columns]"
      ]
     },
     "execution_count": 2,
     "metadata": {},
     "output_type": "execute_result"
    }
   ],
   "source": [
    "data = pd.read_csv(res_path+\"cleanned_data.csv\", index_col=0)\n",
    "print(len(data.columns[data.dtypes==float])-3, \"training numerical variables : \",\n",
    "      list(data.columns[data.dtypes==float]))\n",
    "print(len(data.columns[data.dtypes==int]), \n",
    "      \"training interger variables (from tokenization of categorical variable)\")\n",
    "data.head()"
   ]
  },
  {
   "cell_type": "markdown",
   "id": "5ae668c7",
   "metadata": {},
   "source": [
    "# Mise à l'écart de l'ensemble de test : \n",
    "Je mets de côté l'ensemble de test, sur lequel je comparerai mes modèles prédictifs à la fin. \n",
    "\n",
    "### Séparation données d'entrainement"
   ]
  },
  {
   "cell_type": "code",
   "execution_count": 3,
   "id": "dc46b03b",
   "metadata": {},
   "outputs": [],
   "source": [
    "from sklearn.model_selection import train_test_split\n",
    "\n",
    "X_original = data.drop([\"SiteEnergyUse(kBtu)\",\"CO2_emissions\", \"ENERGYSTARScore\"], axis = 1)\n",
    "y_original = data[[\"SiteEnergyUse(kBtu)\",\"CO2_emissions\"]]\n",
    "\n",
    "X_original_train, X_original_test, y_original_train, y_original_test = train_test_split(X_original, y_original, train_size=0.8)\n",
    "\n",
    "index_train = y_original_train.index\n",
    "index_test = y_original_test.index"
   ]
  },
  {
   "cell_type": "markdown",
   "id": "428a4069",
   "metadata": {},
   "source": [
    "Par soucis de clarté de code, je vais renommer $X\\_original\\_train$ avec $X$. **Ainsi, le lecteur pourra bien comprendre que le $X$ évoqué dans la suite sera bien l'ensemble d'entrainement.**"
   ]
  },
  {
   "cell_type": "code",
   "execution_count": 4,
   "id": "c79f4945",
   "metadata": {},
   "outputs": [],
   "source": [
    "X = X_original_train\n",
    "y = y_original_train"
   ]
  },
  {
   "cell_type": "markdown",
   "id": "a8296676",
   "metadata": {},
   "source": [
    "### Standardisation entrainée sur l'ensemble d'entrainement"
   ]
  },
  {
   "cell_type": "code",
   "execution_count": 5,
   "id": "24f5862e",
   "metadata": {},
   "outputs": [],
   "source": [
    "from sklearn import preprocessing\n",
    "my_standardizer = preprocessing.StandardScaler()\n",
    "my_standardizer.fit(X)\n",
    "\n",
    "## standardization \n",
    "my_standardizer.fit(X)\n",
    "X_std = pd.DataFrame(my_standardizer.transform(X), columns=X.columns, index = X.index)\n",
    "X_original_test_std = my_standardizer.transform(X_original_test)\n",
    "\n",
    "## std y ?\n",
    "my_standardizer.fit(y_original_train)\n",
    "\n",
    "y_std = pd.DataFrame(my_standardizer.transform(y), columns = y.columns, index = y.index)\n",
    "y_original_test_std = my_standardizer.transform(y_original_test)"
   ]
  },
  {
   "cell_type": "code",
   "execution_count": 6,
   "id": "be8d7ecd",
   "metadata": {},
   "outputs": [],
   "source": [
    "## log-transform :\n",
    "def df_log_transform(X_):\n",
    "    num_var = X_.columns[X_.dtypes==float].values\n",
    "    X_log = X_.copy()\n",
    "    ## replace neg values with 0 : \n",
    "    index_negative = np.where(X_log<0)\n",
    "    X_log.iloc[[ind for ind in index_negative]] = 0 \n",
    "    X_log.at[:,num_var] = np.log(X_log[num_var]+1)\n",
    "    return(X_log)\n",
    "\n",
    "X_log = df_log_transform(X)\n",
    "\n",
    "## standardization of log-transfo :\n",
    "my_standardizer.fit(X_log)\n",
    "X_log_std = pd.DataFrame(my_standardizer.transform(X_log), columns=X.columns, index = X.index)\n",
    "X_original_test_log = df_log_transform(X_original_test)\n",
    "X_original_test_log_std = my_standardizer.transform(X_original_test_log)\n"
   ]
  },
  {
   "cell_type": "markdown",
   "id": "f4f890b7",
   "metadata": {},
   "source": [
    "# Régression Linéaire"
   ]
  },
  {
   "cell_type": "code",
   "execution_count": 7,
   "id": "e9e0b3bf",
   "metadata": {},
   "outputs": [
    {
     "name": "stdout",
     "output_type": "stream",
     "text": [
      "for SiteEnergyUse(kBtu) in log space :\n"
     ]
    },
    {
     "data": {
      "image/png": "[encoded data removed]",
      "text/plain": [
       "<Figure size 432x288 with 1 Axes>"
      ]
     },
     "metadata": {
      "needs_background": "light"
     },
     "output_type": "display_data"
    },
    {
     "data": {
      "text/html": [
       "<div>\n",
       "<style scoped>\n",
       "    .dataframe tbody tr th:only-of-type {\n",
       "        vertical-align: middle;\n",
       "    }\n",
       "\n",
       "    .dataframe tbody tr th {\n",
       "        vertical-align: top;\n",
       "    }\n",
       "\n",
       "    .dataframe thead th {\n",
       "        text-align: right;\n",
       "    }\n",
       "</style>\n",
       "<table border=\"1\" class=\"dataframe\">\n",
       "  <thead>\n",
       "    <tr style=\"text-align: right;\">\n",
       "      <th></th>\n",
       "      <th>score</th>\n",
       "      <th>execution_time</th>\n",
       "      <th>best_alpha</th>\n",
       "    </tr>\n",
       "  </thead>\n",
       "  <tbody>\n",
       "    <tr>\n",
       "      <th>lr</th>\n",
       "      <td>1.0</td>\n",
       "      <td>0.009111</td>\n",
       "      <td>None</td>\n",
       "    </tr>\n",
       "    <tr>\n",
       "      <th>ridge</th>\n",
       "      <td>0.610482</td>\n",
       "      <td>0.165833</td>\n",
       "      <td>0.1</td>\n",
       "    </tr>\n",
       "    <tr>\n",
       "      <th>lasso</th>\n",
       "      <td>0.148139</td>\n",
       "      <td>0.353654</td>\n",
       "      <td>0.01</td>\n",
       "    </tr>\n",
       "    <tr>\n",
       "      <th>enet</th>\n",
       "      <td>0.192216</td>\n",
       "      <td>0.343055</td>\n",
       "      <td>0.01</td>\n",
       "    </tr>\n",
       "  </tbody>\n",
       "</table>\n",
       "</div>"
      ],
      "text/plain": [
       "          score execution_time best_alpha\n",
       "lr          1.0       0.009111       None\n",
       "ridge  0.610482       0.165833        0.1\n",
       "lasso  0.148139       0.353654       0.01\n",
       "enet   0.192216       0.343055       0.01"
      ]
     },
     "execution_count": 7,
     "metadata": {},
     "output_type": "execute_result"
    }
   ],
   "source": [
    "dict_param_grid = {\"ridge\": np.logspace(-1, 4, 25),\n",
    "                   \"lasso\": np.logspace(-2, 2, 25),\n",
    "                   \"enet\" : np.logspace(-2, 2, 25),\n",
    "                  }\n",
    "\n",
    "dict_models = {\"ridge\" : linear_model.Ridge(), \n",
    "               \"lasso\" : linear_model.Lasso(),\n",
    "               \"enet\" : linear_model.ElasticNet(),\n",
    "              }\n",
    "\n",
    "var = \"SiteEnergyUse(kBtu)\"\n",
    "X_ = X_log_std\n",
    "y_ = np.log(y_std[var]+1)\n",
    "print(\"for\", var, \"in log space :\")\n",
    "res = compare_regressions(X_, y_, dict_models, dict_param_grid, score_name=\"r2\", fig_name=None)\n",
    "plt.show()\n",
    "res"
   ]
  },
  {
   "cell_type": "code",
   "execution_count": 8,
   "id": "15f01577",
   "metadata": {},
   "outputs": [
    {
     "name": "stdout",
     "output_type": "stream",
     "text": [
      "for CO2_emissions in log space :\n"
     ]
    },
    {
     "data": {
      "image/png": "[encoded data removed]",
      "text/plain": [
       "<Figure size 432x288 with 1 Axes>"
      ]
     },
     "metadata": {
      "needs_background": "light"
     },
     "output_type": "display_data"
    },
    {
     "data": {
      "text/html": [
       "<div>\n",
       "<style scoped>\n",
       "    .dataframe tbody tr th:only-of-type {\n",
       "        vertical-align: middle;\n",
       "    }\n",
       "\n",
       "    .dataframe tbody tr th {\n",
       "        vertical-align: top;\n",
       "    }\n",
       "\n",
       "    .dataframe thead th {\n",
       "        text-align: right;\n",
       "    }\n",
       "</style>\n",
       "<table border=\"1\" class=\"dataframe\">\n",
       "  <thead>\n",
       "    <tr style=\"text-align: right;\">\n",
       "      <th></th>\n",
       "      <th>score</th>\n",
       "      <th>execution_time</th>\n",
       "      <th>best_alpha</th>\n",
       "    </tr>\n",
       "  </thead>\n",
       "  <tbody>\n",
       "    <tr>\n",
       "      <th>lr</th>\n",
       "      <td>1.0</td>\n",
       "      <td>0.01273</td>\n",
       "      <td>None</td>\n",
       "    </tr>\n",
       "    <tr>\n",
       "      <th>ridge</th>\n",
       "      <td>0.472946</td>\n",
       "      <td>0.298093</td>\n",
       "      <td>0.1</td>\n",
       "    </tr>\n",
       "    <tr>\n",
       "      <th>lasso</th>\n",
       "      <td>0.10487</td>\n",
       "      <td>0.387945</td>\n",
       "      <td>0.01</td>\n",
       "    </tr>\n",
       "    <tr>\n",
       "      <th>enet</th>\n",
       "      <td>0.139186</td>\n",
       "      <td>0.222881</td>\n",
       "      <td>0.01</td>\n",
       "    </tr>\n",
       "  </tbody>\n",
       "</table>\n",
       "</div>"
      ],
      "text/plain": [
       "          score execution_time best_alpha\n",
       "lr          1.0        0.01273       None\n",
       "ridge  0.472946       0.298093        0.1\n",
       "lasso   0.10487       0.387945       0.01\n",
       "enet   0.139186       0.222881       0.01"
      ]
     },
     "execution_count": 8,
     "metadata": {},
     "output_type": "execute_result"
    }
   ],
   "source": [
    "var = \"CO2_emissions\"\n",
    "X_ = X_log_std\n",
    "y_ = np.log(y_std[var]+1)\n",
    "print(\"for\", var, \"in log space :\")\n",
    "res = compare_regressions(X_, y_, dict_models, dict_param_grid, score_name=\"r2\", fig_name=None)\n",
    "plt.show()\n",
    "res"
   ]
  },
  {
   "cell_type": "markdown",
   "id": "bf4d9fda",
   "metadata": {},
   "source": [
    "La régression linéaire, même avec pénalisation, ne semble pas produire un modèle de prédiction convainquant, notamment à cause de la lourde queue de distribution des variables à prédire. Néansmoins, je vais utiliser la régression pénalisée lasso sur les variables \"catégorielles\" (issues de la vectorisation de ces dernière pour être précise,  c'est à dire faire une ANOVA), afin de voir si certaines de mes modalités sont non significatives (et peuvent donc être retirées)."
   ]
  },
  {
   "cell_type": "code",
   "execution_count": 9,
   "id": "46e706de",
   "metadata": {
    "scrolled": false
   },
   "outputs": [
    {
     "name": "stdout",
     "output_type": "stream",
     "text": [
      "for SiteEnergyUse(kBtu) in log space :\n"
     ]
    },
    {
     "data": {
      "image/png": "[encoded data removed]",
      "text/plain": [
       "<Figure size 432x288 with 1 Axes>"
      ]
     },
     "metadata": {
      "needs_background": "light"
     },
     "output_type": "display_data"
    },
    {
     "data": {
      "image/png": "[encoded data removed]",
      "text/plain": [
       "<Figure size 432x288 with 1 Axes>"
      ]
     },
     "metadata": {
      "needs_background": "light"
     },
     "output_type": "display_data"
    },
    {
     "name": "stdout",
     "output_type": "stream",
     "text": [
      "Modalities with zero coefficient in ANOVA :\n"
     ]
    },
    {
     "data": {
      "text/plain": [
       "Index(['BuildingType_HR', 'BuildingType_ML', 'BuildingType_other',\n",
       "       'PrimaryPropertyType_medium', 'PrimaryPropertyType_small'],\n",
       "      dtype='object')"
      ]
     },
     "execution_count": 9,
     "metadata": {},
     "output_type": "execute_result"
    }
   ],
   "source": [
    "dict_param_grid[\"lasso\"] = np.logspace(-4.5, 0, 25)\n",
    "\n",
    "var = \"SiteEnergyUse(kBtu)\"\n",
    "X_ = X_log_std.loc[:,X.dtypes == int]\n",
    "y_ = np.log(y_std[var]+1)\n",
    "\n",
    "print(\"for\", var, \"in log space :\")\n",
    "res = compare_regressions(X_, y_, {\"lasso\" : linear_model.Lasso(max_iter=10000)}, \n",
    "                          dict_param_grid, score_name=\"r2\", fig_name=None)\n",
    "plt.show()\n",
    "## regul paths :\n",
    "model_name = \"lasso\"\n",
    "legend_kwargs = {\"loc\" : \"upper right\",\"bbox_to_anchor\":(2.1, 1), \"ncol\":2}\n",
    "plot_regul_paths(alpha_values = dict_param_grid[model_name], lm_model = dict_models[model_name], \n",
    "                 X_ = X_, y_ = y_, best_alpha=res.loc[model_name, \"best_alpha\"],\n",
    "                 var_names = X_.columns, legend_kwargs=legend_kwargs)\n",
    "plt.show()\n",
    "\n",
    "model = dict_models[model_name]\n",
    "model.set_params(alpha = res.loc[model_name, \"best_alpha\"])\n",
    "model.fit(X_,y_)\n",
    "models_coefs = model.coef_\n",
    "print(\"Modalities with zero coefficient in ANOVA :\")\n",
    "zero_coeff_modality = X_.columns[[abs(coef) < 10**(-5) for coef in models_coefs]]\n",
    "zero_coeff_modality"
   ]
  },
  {
   "cell_type": "markdown",
   "id": "5b1a42a1",
   "metadata": {},
   "source": [
    "Je vais donc retirer ces méta-modalités, car elle n'ont pas d'influence dans cette ANOVA. "
   ]
  },
  {
   "cell_type": "code",
   "execution_count": 10,
   "id": "d54c3182",
   "metadata": {},
   "outputs": [],
   "source": [
    "X = X.drop(zero_coeff_modality.values, axis =1)\n",
    "X_log = X_log.drop(zero_coeff_modality.values, axis =1)\n",
    "\n",
    "X_std = X_std.drop(zero_coeff_modality.values, axis = 1)\n",
    "X_log_std = X_log_std.drop(zero_coeff_modality.values, axis =1)\n",
    "# X_std = pd.DataFrame(my_standardizer.fit_transform(X), columns=X.columns, index = X.index)"
   ]
  },
  {
   "cell_type": "markdown",
   "id": "5e4c6f25",
   "metadata": {},
   "source": [
    "# Liste des modèles testés : \n",
    "\n",
    "Pour chacun des modèles de régression testé, j'ai construit un dictionnaire des arguments par défaut (```dict_kwargs_models```). Ce dictionnaire a les mêmes clés \"modèles_de_regression\" que les dictionnaires ```dict_models``` et ```dict_param_grid```, correspondant respectivement au dictionnaire des fonctions de regression (principalement de sklearn) et des hyper-paramètres à fixer par validation croisée.\n",
    "\n",
    "Par ailleurs, comme je vais tester plusieurs modèles de régression et certains d'entre eux ne font que de l'univarié, je vais s'éparer la variable de réponse en deux variables. Les données numériques d'entrainement sont passées au log. "
   ]
  },
  {
   "cell_type": "code",
   "execution_count": 11,
   "id": "1d5110df",
   "metadata": {},
   "outputs": [],
   "source": [
    "dict_kwargs_models = {}\n",
    "dict_models = {}\n",
    "dict_param_grid = {}\n",
    "dict_log_param = {}\n",
    "\n",
    "y_co2 = y[\"CO2_emissions\"]\n",
    "y_energy = y[\"SiteEnergyUse(kBtu)\"]\n"
   ]
  },
  {
   "cell_type": "markdown",
   "id": "7dbb75d0",
   "metadata": {},
   "source": [
    "\n",
    "## 1. Régression à noyaux \n",
    "\n",
    "Est-ce que le lien entre les données serait mieux représenté dans un RKHS ? \n",
    "\n",
    "Voilà la [page de sklearn](https://scikit-learn.org/stable/modules/generated/sklearn.kernel_ridge.KernelRidge.html) sur la régression à noyau. \n",
    "\n",
    "[Les différents noyaux implémentés dans sklearn](https://scikit-learn.org/stable/modules/metrics.html#metrics)"
   ]
  },
  {
   "cell_type": "code",
   "execution_count": 12,
   "id": "32d23195",
   "metadata": {},
   "outputs": [],
   "source": [
    "from sklearn.kernel_ridge import KernelRidge\n",
    "\n",
    "model_name = \"kernel_ridge\"\n",
    "\n",
    "dict_kwargs_models[model_name] = {\"alpha\":1, \"kernel\":'linear',\"gamma\":None,\n",
    "                                  \"degree\":3, \"coef0\":1, \"kernel_params\":None}\n",
    "dict_models[model_name] = KernelRidge(**dict_kwargs_models[model_name])\n",
    "dict_param_grid[model_name] = {\"alpha\":np.logspace(0, 1.2, 10), # regularisation param\n",
    "                               \"kernel\":[\"linear\", \"rbf\", \"polynomial\",\n",
    "                                         \"laplacian\" ]}\n",
    "dict_log_param[\"alpha\"] = True\n",
    "dict_log_param[\"kernel\"] = False"
   ]
  },
  {
   "cell_type": "markdown",
   "id": "2825abc1",
   "metadata": {},
   "source": [
    "## 2. KNN :\n",
    "[page sklearn ](https://scikit-learn.org/stable/modules/generated/sklearn.neighbors.KNeighborsRegressor.html)"
   ]
  },
  {
   "cell_type": "code",
   "execution_count": 13,
   "id": "c512fbf7",
   "metadata": {},
   "outputs": [],
   "source": [
    "from sklearn.neighbors import KNeighborsRegressor\n",
    "model_name = \"KNN\"\n",
    "\n",
    "dict_kwargs_models[model_name] = {\"n_neighbors\":5, \"weights\":'uniform', \"algorithm\":'auto',\n",
    "                                  \"leaf_size\":30, \"p\":2, \"metric\":'minkowski',\n",
    "                                  \"metric_params\":None, \"n_jobs\":None}\n",
    "dict_models[model_name] = KNeighborsRegressor(**dict_kwargs_models[model_name])\n",
    "dict_param_grid[model_name] = {\"n_neighbors\":np.arange(1,15,1)}\n",
    "dict_log_param[\"n_neighbors\"] = False"
   ]
  },
  {
   "cell_type": "markdown",
   "id": "9bd1708a",
   "metadata": {},
   "source": [
    "## 3. SVM : \n",
    "[page sklearn](https://scikit-learn.org/stable/modules/generated/sklearn.svm.SVR.html)"
   ]
  },
  {
   "cell_type": "code",
   "execution_count": 14,
   "id": "ab45921e",
   "metadata": {},
   "outputs": [],
   "source": [
    "from sklearn.svm import SVR\n",
    "model_name = \"SVR\"\n",
    "\n",
    "dict_kwargs_models[model_name] = {\"kernel\":'rbf', \"degree\":3, \"gamma\":'scale',\n",
    "                          \"coef0\":0.0, \"tol\":0.001, \"C\":1.0, \"epsilon\":0.1}\n",
    "dict_models[model_name] = SVR(**dict_kwargs_models[model_name])\n",
    "dict_param_grid[model_name] = {\"C\":np.logspace(-1, 3, 10),# regularisation param\n",
    "                               \"epsilon\":np.logspace(-2,1,10)}\n",
    "dict_log_param[\"C\"] = True\n",
    "dict_log_param[\"epsilon\"] = True"
   ]
  },
  {
   "cell_type": "markdown",
   "id": "77a8f67c",
   "metadata": {},
   "source": [
    "Il faut que je modifie mon format de dict_param_grid pour qu'il devienne dictionnaire de dictionnaire (avec le nom des hyper-params et leur valeurs, pour chaque modèle\n",
    "\n",
    "Dans [l'aide de la fonction SVR](https://scikit-learn.org/stable/modules/generated/sklearn.svm.SVR.html), il y a une exemple d' utilisation de pipeline, à voir si ce n'est pas pertinent pour moi"
   ]
  },
  {
   "cell_type": "markdown",
   "id": "115cb27e",
   "metadata": {},
   "source": [
    "## 4. Forêts aléatoires\n",
    "[page sklearn](https://scikit-learn.org/stable/modules/generated/sklearn.ensemble.RandomForestRegressor.html#sklearn.ensemble.RandomForestRegressor)\n",
    "\n",
    "et une [fiche sur les différentes méthodes ensemblistes ](https://scikit-learn.org/stable/modules/ensemble.html#gradient-boosting)"
   ]
  },
  {
   "cell_type": "code",
   "execution_count": 15,
   "id": "f0beb3ec",
   "metadata": {},
   "outputs": [],
   "source": [
    "from sklearn.ensemble import RandomForestRegressor \n",
    "model_name = \"random_forest\"\n",
    "\n",
    "dict_kwargs_models[model_name] = {\"n_estimators\":100, \n",
    "                                  \"criterion\":'mse', \"max_depth\":None, \n",
    "                                  \"min_samples_split\":2, \"min_samples_leaf\":1, \n",
    "                                  \"min_weight_fraction_leaf\":0.0, \"max_features\":'auto',\n",
    "                                  \"max_leaf_nodes\":None, \"min_impurity_decrease\":0.0,\n",
    "                                  \"min_impurity_split\":None, \"bootstrap\":True, \"oob_score\":False,\n",
    "                                  \"n_jobs\":None, \"random_state\":None, \"verbose\":0, \n",
    "                                  \"warm_start\":False, \"ccp_alpha\":0.0, \"max_samples\":None}\n",
    "dict_models[model_name] = RandomForestRegressor(**dict_kwargs_models[model_name])\n",
    "dict_param_grid[model_name] = {\"n_estimators\":np.arange(50,250,20)}# regularisation param\n",
    "dict_log_param[\"n_estimators\"]= False"
   ]
  },
  {
   "cell_type": "markdown",
   "id": "2d0962b3",
   "metadata": {},
   "source": [
    "## 5. Gradient Boosting\n",
    "[page sklearn](https://scikit-learn.org/stable/modules/generated/sklearn.ensemble.GradientBoostingRegressor.html#sklearn.ensemble.GradientBoostingRegressor)"
   ]
  },
  {
   "cell_type": "code",
   "execution_count": 16,
   "id": "bb04ee54",
   "metadata": {},
   "outputs": [],
   "source": [
    "from sklearn.ensemble import GradientBoostingRegressor\n",
    "model_name = \"gradient_boosting\"\n",
    "\n",
    "dict_kwargs_models[model_name]={\"loss\":'ls', \"learning_rate\":0.1, \"n_estimators\":100,\n",
    "                                \"subsample\":1.0, \"criterion\":'friedman_mse', \n",
    "                                \"min_samples_split\":2, \"min_samples_leaf\":1,\n",
    "                                \"min_weight_fraction_leaf\":0.0, \"max_depth\":3,\n",
    "                                \"min_impurity_decrease\":0.0, \"min_impurity_split\":None,\n",
    "                                \"init\":None, \"random_state\":None, \"max_features\":None, \n",
    "                                \"alpha\":0.9, \"verbose\":0, \"max_leaf_nodes\":None,\n",
    "                                \"warm_start\":False, \"validation_fraction\":0.1, \n",
    "                                \"n_iter_no_change\":None, \"tol\":0.0001, \"ccp_alpha\":0.0}\n",
    "\n",
    "dict_models[model_name] = GradientBoostingRegressor(**dict_kwargs_models[model_name])\n",
    "dict_param_grid[model_name]={\"n_estimators\":np.arange(50,250,20), \"learning_rate\":np.logspace(-2,0.1,10)}\n",
    "dict_log_param[\"learning_rate\"]= True"
   ]
  },
  {
   "cell_type": "markdown",
   "id": "9cc55c31",
   "metadata": {},
   "source": [
    "# Résultats et interprétation : \n",
    "## 1. Hyper-paramètres "
   ]
  },
  {
   "cell_type": "code",
   "execution_count": 17,
   "id": "0e6043ea",
   "metadata": {},
   "outputs": [],
   "source": [
    "def get_dict_index(res):\n",
    "    dict_index_values = {}\n",
    "    for param_name in res[\"params\"][0].keys() : \n",
    "        index_values = []\n",
    "        param_values = np.unique([dict_params[param_name] for dict_params in res[\"params\"] ])\n",
    "        for value in param_values :\n",
    "            index_value = [dict_params[param_name] == value for dict_params in res[\"params\"]]\n",
    "            index_values.append(index_value)\n",
    "        dict_index_values[param_name] = index_values\n",
    "    return(dict_index_values)\n",
    "\n",
    "def get_score_and_time(param_name, res, dict_index_values):\n",
    "    mean_score_param = []\n",
    "    time_param = []\n",
    "    for index_value in dict_index_values[param_name] :\n",
    "        mean_score_param.append(np.mean(res[\"mean_test_score\"][index_value]))\n",
    "        time_tmp = (res[\"mean_fit_time\"] + res[\"mean_score_time\"])[index_value]\n",
    "        time_param.append(np.mean(time_tmp))\n",
    "    return(mean_score_param,time_param)\n",
    "\n",
    "def cv_plot_score_and_time(x, y_score, y_time, subplot = [1,2,1],\n",
    "                           param_name=\"\", x_log_scale = True):\n",
    "    subplot = subplot.copy()\n",
    "    plt.subplot(*subplot)\n",
    "    if x_log_scale : \n",
    "        plt.xscale(\"log\")\n",
    "    plt.plot(x, y_score)\n",
    "    plt.xlabel(\"hyperparam. \" + param_name)#get param name \n",
    "    plt.ylabel(\"score\")\n",
    "    plt.title(\"Score in Cross validation\")\n",
    "    subplot[2] += 1\n",
    "    plt.subplot(*subplot)\n",
    "    if x_log_scale : \n",
    "        plt.xscale(\"log\")\n",
    "    plt.plot(x, y_time)\n",
    "    plt.xlabel(\"hyperparam. \" + param_name)#get param name \n",
    "    plt.ylabel(\"time (s)\")\n",
    "    plt.title(\"Time in Cross validation\")\n",
    "\n",
    "def plot_cv_res(res) :\n",
    "    dict_index_values = get_dict_index(res)\n",
    "    nb_params = len(res[\"params\"][0].keys())\n",
    "    plt.figure(figsize=(12,5*nb_params))\n",
    "    subplot_pos = [nb_params,2,1]\n",
    "\n",
    "    for param_name in res[\"params\"][0].keys() :\n",
    "        x = np.unique([dict_params[param_name] for dict_params in res[\"params\"]])\n",
    "        y_score, y_time = get_score_and_time(param_name, res, dict_index_values)\n",
    "        log_flag = dict_log_param[param_name]\n",
    "        cv_plot_score_and_time(x, y_score, y_time,subplot_pos, \n",
    "                               param_name= param_name, x_log_scale=log_flag)\n",
    "        subplot_pos[2]+= 2"
   ]
  },
  {
   "cell_type": "code",
   "execution_count": null,
   "id": "e59b7edd",
   "metadata": {},
   "outputs": [
    {
     "name": "stdout",
     "output_type": "stream",
     "text": [
      "kernel_ridge\n"
     ]
    }
   ],
   "source": [
    "## some warnings mostly on dual gap\n",
    "import warnings\n",
    "warnings.filterwarnings('ignore')\n",
    "\n",
    "from sklearn.model_selection import GridSearchCV\n",
    "cv = 5\n",
    "dict_cv_results_= {}\n",
    "dict_best_params = {}\n",
    "for model_name in dict_models.keys(): \n",
    "    print(model_name)\n",
    "    regressor = dict_models[model_name]\n",
    "    param_grid = dict_param_grid[model_name]\n",
    "    CV_regressor = GridSearchCV(regressor, param_grid, refit=True, cv = cv)\n",
    "    CV_regressor.fit(X, y_co2)\n",
    "    dict_best_params[model_name] = CV_regressor.best_params_\n",
    "    res = CV_regressor.cv_results_\n",
    "    dict_cv_results_[model_name] = res\n",
    "    plot_cv_res(res)\n",
    "    plt.show()\n"
   ]
  },
  {
   "cell_type": "markdown",
   "id": "8588a8ce",
   "metadata": {},
   "source": [
    "Gardons donc les meilleurs hyper-paramètres : "
   ]
  },
  {
   "cell_type": "code",
   "execution_count": null,
   "id": "896434bf",
   "metadata": {},
   "outputs": [],
   "source": [
    "for model_name in dict_models.keys(): \n",
    "    print(model_name)\n",
    "    cv_results_ = dict_cv_results_[model_name]\n",
    "#     print(cv_results_[\"best_params\"])\n",
    "CV_regressor.best_params_"
   ]
  },
  {
   "cell_type": "markdown",
   "id": "529464ad",
   "metadata": {},
   "source": [
    "## 2. Choix du modèle "
   ]
  },
  {
   "cell_type": "markdown",
   "id": "a9c254fd",
   "metadata": {},
   "source": [
    "Les pertes respectives de ces modèles sont : \n",
    "\n"
   ]
  },
  {
   "cell_type": "markdown",
   "id": "aebfd9fc",
   "metadata": {},
   "source": [
    "# Pistes d'amélioration : \n",
    "* la regression linéaire non pénalisée me renvoit des scores trop négatifs -> j'ai fait un hack qui ne garde que les scores positifs, mais par la même occasion rendent les graphiques faux\n",
    "* faut-il standardiser les variables catégorielles ? -> s'il n'y a que des 0 et 1 on ne gagne rien ?"
   ]
  },
  {
   "cell_type": "code",
   "execution_count": null,
   "id": "b5b504e7",
   "metadata": {},
   "outputs": [],
   "source": []
  }
 ],
 "metadata": {
  "kernelspec": {
   "display_name": "openclassroom",
   "language": "python",
   "name": "openclassroom"
  },
  "language_info": {
   "codemirror_mode": {
    "name": "ipython",
    "version": 3
   },
   "file_extension": ".py",
   "mimetype": "text/x-python",
   "name": "python",
   "nbconvert_exporter": "python",
   "pygments_lexer": "ipython3",
   "version": "3.8.6"
  }
 },
 "nbformat": 4,
 "nbformat_minor": 5
}
