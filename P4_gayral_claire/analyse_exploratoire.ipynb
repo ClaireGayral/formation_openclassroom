{
 "cells": [
  {
   "cell_type": "markdown",
   "id": "95d2ee9e",
   "metadata": {},
   "source": [
    "# Présentation du projet : \n",
    "\n",
    "## Contexte \n",
    "\n",
    "Vous êtes consultant pour Olist, une solution de vente sur les marketplaces en ligne.\n",
    "\n",
    "Olist souhaite que vous fournissiez à ses équipes d'e-commerce une segmentation des clients qu’elles pourront utiliser au quotidien pour leurs campagnes de communication.\n",
    "\n",
    "Votre objectif est de comprendre les différents types d’utilisateurs grâce à leur comportement et à leurs données personnelles.\n",
    "\n",
    "Vous devrez fournir à l’équipe marketing une description actionable de votre segmentation et de sa logique sous-jacente pour une utilisation optimale, ainsi qu’une proposition de contrat de maintenance basée sur une analyse de la stabilité des segments au cours du temps.\n",
    "\n",
    "\n",
    "## Données \n",
    "\n",
    "Pour cette mission, Olist vous fournit une base de données anonymisée comportant des informations sur l’historique de commandes, les produits achetés, les commentaires de satisfaction, et la localisation des clients depuis janvier 2017.\n",
    "\n",
    "## Mission\n",
    "\n",
    "Votre mission est d’aider les équipes d’Olist à comprendre les différents types d'utilisateurs. Vous utiliserez donc des méthodes non supervisées pour regrouper ensemble des clients de profils similaires. Ces catégories pourront être utilisées par l’équipe marketing pour mieux communiquer.\n",
    "\n",
    "Pour des raisons de confidentialité, Olist ne fournit pas beaucoup de données, à vous de fouiller dans celles dont vous disposez et de créer les meilleures features pour les exploiter.\n",
    "\n",
    "Enfin, votre client, Olist, a spécifié sa demande ainsi :\n",
    "\n",
    "*La segmentation proposée doit être exploitable et facile d’utilisation pour l’équipe marketing.\n",
    "Vous évaluerez la fréquence à laquelle la segmentation doit être mise à jour, afin de pouvoir effectuer un devis de contrat de maintenance.\n",
    "Le code fourni doit respecter la convention PEP8, pour être utilisable par Olist.*\n",
    "\n",
    "\n",
    "# Ressources : \n",
    "\n",
    "## Les données et leur description :\n",
    "\n",
    "Site d'Olist (en portugais) : https://olist.com/\n",
    "\n",
    "Adresse des données : https://www.kaggle.com/olistbr/brazilian-ecommerce\n",
    "\n",
    "Convention PEP8 : https://www.python.org/dev/peps/pep-0008/\n"
   ]
  },
  {
   "cell_type": "code",
   "execution_count": 1,
   "id": "aa249ee0",
   "metadata": {},
   "outputs": [],
   "source": [
    "import pandas as pd\n",
    "import numpy as np\n",
    "import matplotlib.pyplot as plt\n",
    "import seaborn as sns\n",
    "\n",
    "data_path = \"/home/clairegayral/Documents/openclassroom/data/P4/\"\n",
    "res_path = \"/home/clairegayral/Documents/openclassroom/res/P4/\"\n",
    "\n",
    "## my .py : \n",
    "from script00_lists_of_vars import *\n",
    "from script01_duplicates import *\n",
    "from script02_missing_values_treatment import *\n",
    "from script03_univariate_analysis import *\n",
    "from script04_multivariate_analysis import *\n",
    "\n",
    "from sklearn import model_selection \n",
    "from sklearn import preprocessing\n",
    "from sklearn import neighbors\n",
    "from sklearn.impute import KNNImputer\n",
    "from sklearn import linear_model\n"
   ]
  },
  {
   "cell_type": "markdown",
   "id": "d549b0af",
   "metadata": {},
   "source": [
    "# Première lecture des données :"
   ]
  },
  {
   "cell_type": "code",
   "execution_count": 2,
   "id": "08b41f47",
   "metadata": {},
   "outputs": [],
   "source": [
    "product_category_name_translation = pd.read_csv(data_path \n",
    "                        + \"product_category_name_translation.csv\")\n",
    "sellers = pd.read_csv(data_path + \"olist_sellers_dataset.csv\")\n",
    "products = pd.read_csv(data_path + \"olist_products_dataset.csv\")\n",
    "orders = pd.read_csv(data_path + \"olist_orders_dataset.csv\")\n",
    "order_reviews = pd.read_csv(data_path + \"olist_order_reviews_dataset.csv\")\n",
    "order_payments = pd.read_csv(data_path + \"olist_order_payments_dataset.csv\")\n",
    "order_items = pd.read_csv(data_path + \"olist_order_items_dataset.csv\")\n",
    "geolocation = pd.read_csv(data_path + \"olist_geolocation_dataset.csv\")\n",
    "customers = pd.read_csv(data_path + \"olist_customers_dataset.csv\")\n"
   ]
  },
  {
   "cell_type": "markdown",
   "id": "c8d455fa",
   "metadata": {},
   "source": [
    "Je commence par regarder les liens entre les tables : \n",
    "\n",
    "\n",
    "![alt text][link_image]\n",
    "\n",
    "[//]: # (Image References)\n",
    "[link_image]:kaggle_graph_link_datasets.png \"table link kaggle\" \n",
    "\n",
    "\n",
    "\n",
    "## 1.1 Table des clients \n",
    "\n",
    "Ce qui nous intéresse est une classification des clients : commençons donc par explorer cette table seule. "
   ]
  },
  {
   "cell_type": "code",
   "execution_count": 3,
   "id": "4acde080",
   "metadata": {},
   "outputs": [
    {
     "name": "stdout",
     "output_type": "stream",
     "text": [
      "shape :  (99441, 5)\n",
      "number of NaNs : 0 \n",
      "\n",
      "<class 'pandas.core.frame.DataFrame'>\n",
      "RangeIndex: 99441 entries, 0 to 99440\n",
      "Data columns (total 5 columns):\n",
      " #   Column                    Non-Null Count  Dtype \n",
      "---  ------                    --------------  ----- \n",
      " 0   customer_id               99441 non-null  object\n",
      " 1   customer_unique_id        99441 non-null  object\n",
      " 2   customer_zip_code_prefix  99441 non-null  int64 \n",
      " 3   customer_city             99441 non-null  object\n",
      " 4   customer_state            99441 non-null  object\n",
      "dtypes: int64(1), object(4)\n",
      "memory usage: 3.8+ MB\n",
      "None\n"
     ]
    },
    {
     "data": {
      "text/html": [
       "<div>\n",
       "<style scoped>\n",
       "    .dataframe tbody tr th:only-of-type {\n",
       "        vertical-align: middle;\n",
       "    }\n",
       "\n",
       "    .dataframe tbody tr th {\n",
       "        vertical-align: top;\n",
       "    }\n",
       "\n",
       "    .dataframe thead th {\n",
       "        text-align: right;\n",
       "    }\n",
       "</style>\n",
       "<table border=\"1\" class=\"dataframe\">\n",
       "  <thead>\n",
       "    <tr style=\"text-align: right;\">\n",
       "      <th></th>\n",
       "      <th>customer_id</th>\n",
       "      <th>customer_unique_id</th>\n",
       "      <th>customer_zip_code_prefix</th>\n",
       "      <th>customer_city</th>\n",
       "      <th>customer_state</th>\n",
       "    </tr>\n",
       "  </thead>\n",
       "  <tbody>\n",
       "    <tr>\n",
       "      <th>0</th>\n",
       "      <td>06b8999e2fba1a1fbc88172c00ba8bc7</td>\n",
       "      <td>861eff4711a542e4b93843c6dd7febb0</td>\n",
       "      <td>14409</td>\n",
       "      <td>franca</td>\n",
       "      <td>SP</td>\n",
       "    </tr>\n",
       "    <tr>\n",
       "      <th>1</th>\n",
       "      <td>18955e83d337fd6b2def6b18a428ac77</td>\n",
       "      <td>290c77bc529b7ac935b93aa66c333dc3</td>\n",
       "      <td>9790</td>\n",
       "      <td>sao bernardo do campo</td>\n",
       "      <td>SP</td>\n",
       "    </tr>\n",
       "  </tbody>\n",
       "</table>\n",
       "</div>"
      ],
      "text/plain": [
       "                        customer_id                customer_unique_id  \\\n",
       "0  06b8999e2fba1a1fbc88172c00ba8bc7  861eff4711a542e4b93843c6dd7febb0   \n",
       "1  18955e83d337fd6b2def6b18a428ac77  290c77bc529b7ac935b93aa66c333dc3   \n",
       "\n",
       "   customer_zip_code_prefix          customer_city customer_state  \n",
       "0                     14409                 franca             SP  \n",
       "1                      9790  sao bernardo do campo             SP  "
      ]
     },
     "execution_count": 3,
     "metadata": {},
     "output_type": "execute_result"
    }
   ],
   "source": [
    "print(\"shape : \", customers.shape)\n",
    "print(\"number of NaNs :\",customers.isna().sum().sum(),\"\\n\")\n",
    "print(customers.info())\n",
    "customers.head(2)"
   ]
  },
  {
   "cell_type": "markdown",
   "id": "def73d3f",
   "metadata": {
    "variables": {
     "customers.shape[0]": "99441",
     "len(customers[\"customer_unique_id\"].value_counts())": "96096"
    }
   },
   "source": [
    "Il y a donc au total {{customers.shape[0]}} commandes, passées par  {{len(customers[\"customer_unique_id\"].value_counts())}} clients différents. Cette table donne également 3 informations sur la localisation du client (zip code, city, state), contenues dans des variables catégorielles."
   ]
  },
  {
   "cell_type": "markdown",
   "id": "b6afb405",
   "metadata": {},
   "source": [
    "Petite vérification : Est-ce que les \"customer_unique_id\" ont bien tous une adresse unique ? "
   ]
  },
  {
   "cell_type": "code",
   "execution_count": 4,
   "id": "3483e11d",
   "metadata": {},
   "outputs": [
    {
     "data": {
      "text/html": [
       "<div>\n",
       "<style scoped>\n",
       "    .dataframe tbody tr th:only-of-type {\n",
       "        vertical-align: middle;\n",
       "    }\n",
       "\n",
       "    .dataframe tbody tr th {\n",
       "        vertical-align: top;\n",
       "    }\n",
       "\n",
       "    .dataframe thead th {\n",
       "        text-align: right;\n",
       "    }\n",
       "</style>\n",
       "<table border=\"1\" class=\"dataframe\">\n",
       "  <thead>\n",
       "    <tr style=\"text-align: right;\">\n",
       "      <th></th>\n",
       "      <th>customer_id</th>\n",
       "      <th>customer_unique_id</th>\n",
       "      <th>customer_zip_code_prefix</th>\n",
       "      <th>customer_city</th>\n",
       "      <th>customer_state</th>\n",
       "    </tr>\n",
       "  </thead>\n",
       "  <tbody>\n",
       "    <tr>\n",
       "      <th>87012</th>\n",
       "      <td>d95f60d70d9ea9a7fe37c53c931940bb</td>\n",
       "      <td>004b45ec5c64187465168251cd1c9c2f</td>\n",
       "      <td>57035</td>\n",
       "      <td>maceio</td>\n",
       "      <td>AL</td>\n",
       "    </tr>\n",
       "    <tr>\n",
       "      <th>72451</th>\n",
       "      <td>49cf243e0d353cd418ca77868e24a670</td>\n",
       "      <td>004b45ec5c64187465168251cd1c9c2f</td>\n",
       "      <td>57055</td>\n",
       "      <td>maceio</td>\n",
       "      <td>AL</td>\n",
       "    </tr>\n",
       "    <tr>\n",
       "      <th>61403</th>\n",
       "      <td>f530197ea86ced9488a03d055e118ebf</td>\n",
       "      <td>0058f300f57d7b93c477a131a59b36c3</td>\n",
       "      <td>40731</td>\n",
       "      <td>salvador</td>\n",
       "      <td>BA</td>\n",
       "    </tr>\n",
       "    <tr>\n",
       "      <th>36269</th>\n",
       "      <td>8ac44e9c15d396b8c3c7cbab0fff4536</td>\n",
       "      <td>0058f300f57d7b93c477a131a59b36c3</td>\n",
       "      <td>41370</td>\n",
       "      <td>salvador</td>\n",
       "      <td>BA</td>\n",
       "    </tr>\n",
       "    <tr>\n",
       "      <th>54038</th>\n",
       "      <td>e024c1515b1062b1e7e613f840c35ba3</td>\n",
       "      <td>012452d40dafae4df401bced74cdb490</td>\n",
       "      <td>3984</td>\n",
       "      <td>sao paulo</td>\n",
       "      <td>SP</td>\n",
       "    </tr>\n",
       "    <tr>\n",
       "      <th>45307</th>\n",
       "      <td>f8e05a045de09e7855c9df3bb8815e0e</td>\n",
       "      <td>012452d40dafae4df401bced74cdb490</td>\n",
       "      <td>3220</td>\n",
       "      <td>sao paulo</td>\n",
       "      <td>SP</td>\n",
       "    </tr>\n",
       "    <tr>\n",
       "      <th>91727</th>\n",
       "      <td>483468a56a54dbbbf8f2b2354cc8a729</td>\n",
       "      <td>0178b244a5c281fb2ade54038dd4b161</td>\n",
       "      <td>12518</td>\n",
       "      <td>guaratingueta</td>\n",
       "      <td>SP</td>\n",
       "    </tr>\n",
       "    <tr>\n",
       "      <th>57218</th>\n",
       "      <td>ea6ba2b2e27f7efea73bdeab7fd6e4a0</td>\n",
       "      <td>0178b244a5c281fb2ade54038dd4b161</td>\n",
       "      <td>14960</td>\n",
       "      <td>novo horizonte</td>\n",
       "      <td>SP</td>\n",
       "    </tr>\n",
       "    <tr>\n",
       "      <th>82312</th>\n",
       "      <td>026ca919d538ee454a6d43fc8bd01de0</td>\n",
       "      <td>018b5a7502c30eb5f230f1b4eb23a156</td>\n",
       "      <td>74936</td>\n",
       "      <td>aparecida de goiania</td>\n",
       "      <td>GO</td>\n",
       "    </tr>\n",
       "    <tr>\n",
       "      <th>64800</th>\n",
       "      <td>b98e0d5aca458a26a6ff30fee0416ca2</td>\n",
       "      <td>018b5a7502c30eb5f230f1b4eb23a156</td>\n",
       "      <td>74976</td>\n",
       "      <td>aparecida de goiania</td>\n",
       "      <td>GO</td>\n",
       "    </tr>\n",
       "  </tbody>\n",
       "</table>\n",
       "</div>"
      ],
      "text/plain": [
       "                            customer_id                customer_unique_id  \\\n",
       "87012  d95f60d70d9ea9a7fe37c53c931940bb  004b45ec5c64187465168251cd1c9c2f   \n",
       "72451  49cf243e0d353cd418ca77868e24a670  004b45ec5c64187465168251cd1c9c2f   \n",
       "61403  f530197ea86ced9488a03d055e118ebf  0058f300f57d7b93c477a131a59b36c3   \n",
       "36269  8ac44e9c15d396b8c3c7cbab0fff4536  0058f300f57d7b93c477a131a59b36c3   \n",
       "54038  e024c1515b1062b1e7e613f840c35ba3  012452d40dafae4df401bced74cdb490   \n",
       "45307  f8e05a045de09e7855c9df3bb8815e0e  012452d40dafae4df401bced74cdb490   \n",
       "91727  483468a56a54dbbbf8f2b2354cc8a729  0178b244a5c281fb2ade54038dd4b161   \n",
       "57218  ea6ba2b2e27f7efea73bdeab7fd6e4a0  0178b244a5c281fb2ade54038dd4b161   \n",
       "82312  026ca919d538ee454a6d43fc8bd01de0  018b5a7502c30eb5f230f1b4eb23a156   \n",
       "64800  b98e0d5aca458a26a6ff30fee0416ca2  018b5a7502c30eb5f230f1b4eb23a156   \n",
       "\n",
       "       customer_zip_code_prefix         customer_city customer_state  \n",
       "87012                     57035                maceio             AL  \n",
       "72451                     57055                maceio             AL  \n",
       "61403                     40731              salvador             BA  \n",
       "36269                     41370              salvador             BA  \n",
       "54038                      3984             sao paulo             SP  \n",
       "45307                      3220             sao paulo             SP  \n",
       "91727                     12518         guaratingueta             SP  \n",
       "57218                     14960        novo horizonte             SP  \n",
       "82312                     74936  aparecida de goiania             GO  \n",
       "64800                     74976  aparecida de goiania             GO  "
      ]
     },
     "execution_count": 4,
     "metadata": {},
     "output_type": "execute_result"
    }
   ],
   "source": [
    "unique_id = customers.iloc[:,1:]#[\"customer_unique_id\"]\n",
    "unique_id = unique_id.drop_duplicates(ignore_index = False)\n",
    "unique_id = unique_id[\"customer_unique_id\"]\n",
    "customer_id_non_unique = unique_id.value_counts()>1\n",
    "customer_id_non_unique = unique_id.value_counts()[customer_id_non_unique]\n",
    "customer_id_non_unique = customer_id_non_unique.index\n",
    "customer_id_non_unique = unique_id.isin(customer_id_non_unique)\n",
    "customer_id_non_unique = unique_id[customer_id_non_unique].index\n",
    "customers_non_unique_commande = customers.loc[customer_id_non_unique]\n",
    "customers_non_unique_commande.sort_values(by=\"customer_unique_id\").head(10)"
   ]
  },
  {
   "cell_type": "markdown",
   "id": "acb2022c",
   "metadata": {},
   "source": [
    "Visiblement non ! Je pense qu'il sera donc préférable d'utiliser la table ```geolocation``` pour accéder à ces information. Vérifions si cette table est plus propre : "
   ]
  },
  {
   "cell_type": "code",
   "execution_count": 5,
   "id": "28c5bd10",
   "metadata": {},
   "outputs": [
    {
     "name": "stdout",
     "output_type": "stream",
     "text": [
      "\t Value counts of city for zip code = 71065: \n",
      " brasilia    75\n",
      "brasília    10\n",
      "guara        6\n",
      "Name: geolocation_city, dtype: int64\n",
      "\n",
      "\t Firsts 5 value counts of zip codes for city = maceio: \n",
      " 57035    400\n",
      "57036    123\n",
      "57052     99\n",
      "57025     75\n",
      "57010     74\n",
      "Name: geolocation_zip_code_prefix, dtype: int64\n",
      "\n",
      "\t geolocation dataframe head :\n"
     ]
    },
    {
     "data": {
      "text/html": [
       "<div>\n",
       "<style scoped>\n",
       "    .dataframe tbody tr th:only-of-type {\n",
       "        vertical-align: middle;\n",
       "    }\n",
       "\n",
       "    .dataframe tbody tr th {\n",
       "        vertical-align: top;\n",
       "    }\n",
       "\n",
       "    .dataframe thead th {\n",
       "        text-align: right;\n",
       "    }\n",
       "</style>\n",
       "<table border=\"1\" class=\"dataframe\">\n",
       "  <thead>\n",
       "    <tr style=\"text-align: right;\">\n",
       "      <th></th>\n",
       "      <th>geolocation_zip_code_prefix</th>\n",
       "      <th>geolocation_lat</th>\n",
       "      <th>geolocation_lng</th>\n",
       "      <th>geolocation_city</th>\n",
       "      <th>geolocation_state</th>\n",
       "    </tr>\n",
       "  </thead>\n",
       "  <tbody>\n",
       "    <tr>\n",
       "      <th>0</th>\n",
       "      <td>1037</td>\n",
       "      <td>-23.545621</td>\n",
       "      <td>-46.639292</td>\n",
       "      <td>sao paulo</td>\n",
       "      <td>SP</td>\n",
       "    </tr>\n",
       "    <tr>\n",
       "      <th>1</th>\n",
       "      <td>1046</td>\n",
       "      <td>-23.546081</td>\n",
       "      <td>-46.644820</td>\n",
       "      <td>sao paulo</td>\n",
       "      <td>SP</td>\n",
       "    </tr>\n",
       "  </tbody>\n",
       "</table>\n",
       "</div>"
      ],
      "text/plain": [
       "   geolocation_zip_code_prefix  geolocation_lat  geolocation_lng  \\\n",
       "0                         1037       -23.545621       -46.639292   \n",
       "1                         1046       -23.546081       -46.644820   \n",
       "\n",
       "  geolocation_city geolocation_state  \n",
       "0        sao paulo                SP  \n",
       "1        sao paulo                SP  "
      ]
     },
     "execution_count": 5,
     "metadata": {},
     "output_type": "execute_result"
    }
   ],
   "source": [
    "print(\"\\t Value counts of city for zip code = 71065: \\n\",\n",
    "    geolocation.loc[geolocation[\"geolocation_zip_code_prefix\"] == 71065,\n",
    "                    \"geolocation_city\"].value_counts())\n",
    "print(\"\\n\\t Firsts 5 value counts of zip codes for city = maceio: \\n\",\n",
    "      geolocation.loc[geolocation[\"geolocation_city\"] == \"maceio\",\n",
    "                      \"geolocation_zip_code_prefix\"].value_counts()[:5])\n",
    "\n",
    "print(\"\\n\\t geolocation dataframe head :\")\n",
    "geolocation.head(2)"
   ]
  },
  {
   "cell_type": "markdown",
   "id": "0938e28e",
   "metadata": {},
   "source": [
    "Eh bien non ! Il va y avoir à faire un prétraitemement sur ces variables catégorielles. Il me semble que plusieurs options sont possibles :\n",
    "* nettoyer les villes, donc nettoyage de texte, comme enlever les accents, les espaces en trop, les majuscules ...\n",
    "* nettoyer les codes postaux : rassembler par ville ? \n",
    "* faire appel à la table ```geolocation``` pour utiliser les coordonnées géographiques des clients (latitude et longitude). \n",
    "\n",
    "Dans une première intention, je propose de n'utiliser que les codes postaux (zip code) comme proxy pour la localisation, ou même utiliser l'état de résidence (customer state). "
   ]
  },
  {
   "cell_type": "code",
   "execution_count": 6,
   "id": "7fec2bbb",
   "metadata": {},
   "outputs": [
    {
     "data": {
      "image/png": "[encoded data removed]",
      "text/plain": [
       "<Figure size 864x288 with 2 Axes>"
      ]
     },
     "metadata": {
      "needs_background": "light"
     },
     "output_type": "display_data"
    }
   ],
   "source": [
    "plt.figure(figsize=(12,4))\n",
    "## removing duplicate customers (keep the 1st) :\n",
    "tmp = customers.drop_duplicates(subset=\"customer_unique_id\")\n",
    "\n",
    "plt.subplot(1,2,1)\n",
    "sns.histplot(tmp[\"customer_zip_code_prefix\"])\n",
    "plt.xticks(rotation=90)\n",
    "plt.title(\"Histogram of zip codes of customers\")\n",
    "\n",
    "## sort by customer state values counts : \n",
    "dummy = tmp[\"customer_state\"].value_counts().index\n",
    "dummy = pd.Series(dummy, name = 'customer_state').to_frame()\n",
    "tmp = pd.merge( tmp, dummy, on = \"customer_state\", how = 'right')\n",
    "\n",
    "plt.subplot(1,2,2)\n",
    "sns.histplot(tmp[\"customer_state\"])\n",
    "plt.xticks(rotation=90)\n",
    "plt.title(\"Histogram of state of customers\")\n",
    "plt.show()"
   ]
  },
  {
   "cell_type": "markdown",
   "id": "dd1f31e8",
   "metadata": {},
   "source": [
    "Une très grande majorité de clients sont dans l'état \"SP\" : a voir s'il on ne biaise pas les données en ne gardant que l'état. Les zip codes ont l'air répartis beaucoup plus homogènement, et me semblent donc à priori plus appropriés.\n",
    "\n",
    "\n",
    "## 1.2 Table des commandes\n",
    "\n",
    "### 1.2.1 Caractéristiques des commandes (orders)\n",
    "Ensuite, nous cherchons à classifier les clients selon leur consommation : regardons donc l'échelle \"commande\"."
   ]
  },
  {
   "cell_type": "code",
   "execution_count": 7,
   "id": "5fdce6ed",
   "metadata": {},
   "outputs": [
    {
     "name": "stdout",
     "output_type": "stream",
     "text": [
      "shape :  (99441, 8)\n",
      "number of NaNs : 4908 \n",
      "\n",
      "delivered      96478\n",
      "shipped         1107\n",
      "canceled         625\n",
      "unavailable      609\n",
      "invoiced         314\n",
      "processing       301\n",
      "created            5\n",
      "approved           2\n",
      "Name: order_status, dtype: int64\n"
     ]
    },
    {
     "data": {
      "text/html": [
       "<div>\n",
       "<style scoped>\n",
       "    .dataframe tbody tr th:only-of-type {\n",
       "        vertical-align: middle;\n",
       "    }\n",
       "\n",
       "    .dataframe tbody tr th {\n",
       "        vertical-align: top;\n",
       "    }\n",
       "\n",
       "    .dataframe thead th {\n",
       "        text-align: right;\n",
       "    }\n",
       "</style>\n",
       "<table border=\"1\" class=\"dataframe\">\n",
       "  <thead>\n",
       "    <tr style=\"text-align: right;\">\n",
       "      <th></th>\n",
       "      <th>order_id</th>\n",
       "      <th>customer_id</th>\n",
       "      <th>order_status</th>\n",
       "      <th>order_purchase_timestamp</th>\n",
       "      <th>order_approved_at</th>\n",
       "      <th>order_delivered_carrier_date</th>\n",
       "      <th>order_delivered_customer_date</th>\n",
       "      <th>order_estimated_delivery_date</th>\n",
       "    </tr>\n",
       "  </thead>\n",
       "  <tbody>\n",
       "    <tr>\n",
       "      <th>0</th>\n",
       "      <td>e481f51cbdc54678b7cc49136f2d6af7</td>\n",
       "      <td>9ef432eb6251297304e76186b10a928d</td>\n",
       "      <td>delivered</td>\n",
       "      <td>2017-10-02 10:56:33</td>\n",
       "      <td>2017-10-02 11:07:15</td>\n",
       "      <td>2017-10-04 19:55:00</td>\n",
       "      <td>2017-10-10 21:25:13</td>\n",
       "      <td>2017-10-18 00:00:00</td>\n",
       "    </tr>\n",
       "    <tr>\n",
       "      <th>1</th>\n",
       "      <td>53cdb2fc8bc7dce0b6741e2150273451</td>\n",
       "      <td>b0830fb4747a6c6d20dea0b8c802d7ef</td>\n",
       "      <td>delivered</td>\n",
       "      <td>2018-07-24 20:41:37</td>\n",
       "      <td>2018-07-26 03:24:27</td>\n",
       "      <td>2018-07-26 14:31:00</td>\n",
       "      <td>2018-08-07 15:27:45</td>\n",
       "      <td>2018-08-13 00:00:00</td>\n",
       "    </tr>\n",
       "    <tr>\n",
       "      <th>2</th>\n",
       "      <td>47770eb9100c2d0c44946d9cf07ec65d</td>\n",
       "      <td>41ce2a54c0b03bf3443c3d931a367089</td>\n",
       "      <td>delivered</td>\n",
       "      <td>2018-08-08 08:38:49</td>\n",
       "      <td>2018-08-08 08:55:23</td>\n",
       "      <td>2018-08-08 13:50:00</td>\n",
       "      <td>2018-08-17 18:06:29</td>\n",
       "      <td>2018-09-04 00:00:00</td>\n",
       "    </tr>\n",
       "  </tbody>\n",
       "</table>\n",
       "</div>"
      ],
      "text/plain": [
       "                           order_id                       customer_id  \\\n",
       "0  e481f51cbdc54678b7cc49136f2d6af7  9ef432eb6251297304e76186b10a928d   \n",
       "1  53cdb2fc8bc7dce0b6741e2150273451  b0830fb4747a6c6d20dea0b8c802d7ef   \n",
       "2  47770eb9100c2d0c44946d9cf07ec65d  41ce2a54c0b03bf3443c3d931a367089   \n",
       "\n",
       "  order_status order_purchase_timestamp    order_approved_at  \\\n",
       "0    delivered      2017-10-02 10:56:33  2017-10-02 11:07:15   \n",
       "1    delivered      2018-07-24 20:41:37  2018-07-26 03:24:27   \n",
       "2    delivered      2018-08-08 08:38:49  2018-08-08 08:55:23   \n",
       "\n",
       "  order_delivered_carrier_date order_delivered_customer_date  \\\n",
       "0          2017-10-04 19:55:00           2017-10-10 21:25:13   \n",
       "1          2018-07-26 14:31:00           2018-08-07 15:27:45   \n",
       "2          2018-08-08 13:50:00           2018-08-17 18:06:29   \n",
       "\n",
       "  order_estimated_delivery_date  \n",
       "0           2017-10-18 00:00:00  \n",
       "1           2018-08-13 00:00:00  \n",
       "2           2018-09-04 00:00:00  "
      ]
     },
     "execution_count": 7,
     "metadata": {},
     "output_type": "execute_result"
    }
   ],
   "source": [
    "print(\"shape : \", orders.shape)\n",
    "print(\"number of NaNs :\",orders.isna().sum().sum(),\"\\n\")\n",
    "print(orders.order_status.value_counts())\n",
    "orders.head(3)"
   ]
  },
  {
   "cell_type": "markdown",
   "id": "76aaef34",
   "metadata": {},
   "source": [
    "Cette table regroupe les informations de status de la commande : la date et l'heure à laquelle elle a été passée, validée, expédiée, reçue. Elle contient aussi une variable de status qui me semble particulièrement intéressante. \n",
    "\n",
    "Pour les variables temporelles, je propose d'extraire plusieurs méta-variables :\n",
    "* la date de commande seule\n",
    "* l'heure de commande seule  \n",
    "* la différence entre la date de livraison estimée et la date de livraison déclarée par le client (en jours)\n",
    "* la différence entre la date de livraison déclarée par le client et la date de livraison déclarée par l'entreprise d'acheminement (en jours)"
   ]
  },
  {
   "cell_type": "code",
   "execution_count": 8,
   "id": "158c5334",
   "metadata": {},
   "outputs": [],
   "source": [
    "## Let's begin with purchase date and time split : \n",
    "purchase_timestamp = pd.to_datetime(orders.order_purchase_timestamp,\n",
    "                     format = \"%Y-%m-%d %H:%M:%S\")\n",
    "\n",
    "purchase_date = pd.to_datetime(purchase_timestamp.dt.date, \n",
    "                               format = \"%Y-%m-%d\")\n",
    "purch_time = purchase_timestamp.dt.time "
   ]
  },
  {
   "cell_type": "code",
   "execution_count": 9,
   "id": "f7e422dc",
   "metadata": {},
   "outputs": [],
   "source": [
    "## Then, use delta time for delivery date comparison\n",
    "estimated_delivery_date = pd.to_datetime(orders.order_estimated_delivery_date,\n",
    "                             format = \"%Y-%m-%d %H:%M:%S\")\n",
    "delivered_customer_date = pd.to_datetime(orders.order_delivered_customer_date,\n",
    "                             format = \"%Y-%m-%d %H:%M:%S\") \n",
    "delivered_carrier_date = pd.to_datetime(orders.order_delivered_carrier_date,\n",
    "                             format = \"%Y-%m-%d %H:%M:%S\") \n",
    "\n",
    "delta_estimated_declared = estimated_delivery_date - delivered_customer_date\n",
    "delta_estimated_declared = delta_estimated_declared / np.timedelta64(1, \"D\")\n",
    "\n",
    "delta_decalared_customer_carrier = delivered_customer_date - delivered_carrier_date\n",
    "delta_decalared_customer_carrier = delta_decalared_customer_carrier / np.timedelta64(1, \"D\")"
   ]
  },
  {
   "cell_type": "code",
   "execution_count": 10,
   "id": "a59a133c",
   "metadata": {
    "scrolled": true
   },
   "outputs": [
    {
     "data": {
      "text/html": [
       "<div>\n",
       "<style scoped>\n",
       "    .dataframe tbody tr th:only-of-type {\n",
       "        vertical-align: middle;\n",
       "    }\n",
       "\n",
       "    .dataframe tbody tr th {\n",
       "        vertical-align: top;\n",
       "    }\n",
       "\n",
       "    .dataframe thead th {\n",
       "        text-align: right;\n",
       "    }\n",
       "</style>\n",
       "<table border=\"1\" class=\"dataframe\">\n",
       "  <thead>\n",
       "    <tr style=\"text-align: right;\">\n",
       "      <th></th>\n",
       "      <th>order_id</th>\n",
       "      <th>customer_id</th>\n",
       "      <th>order_status</th>\n",
       "      <th>order_purchase_date</th>\n",
       "      <th>order_purchase_time</th>\n",
       "      <th>order_dt_estimated_declared</th>\n",
       "      <th>order_dt_decalared_customer_carrier</th>\n",
       "    </tr>\n",
       "  </thead>\n",
       "  <tbody>\n",
       "    <tr>\n",
       "      <th>0</th>\n",
       "      <td>e481f51cbdc54678b7cc49136f2d6af7</td>\n",
       "      <td>9ef432eb6251297304e76186b10a928d</td>\n",
       "      <td>delivered</td>\n",
       "      <td>2017-10-02</td>\n",
       "      <td>10:56:33</td>\n",
       "      <td>7.107488</td>\n",
       "      <td>6.062650</td>\n",
       "    </tr>\n",
       "    <tr>\n",
       "      <th>1</th>\n",
       "      <td>53cdb2fc8bc7dce0b6741e2150273451</td>\n",
       "      <td>b0830fb4747a6c6d20dea0b8c802d7ef</td>\n",
       "      <td>delivered</td>\n",
       "      <td>2018-07-24</td>\n",
       "      <td>20:41:37</td>\n",
       "      <td>5.355729</td>\n",
       "      <td>12.039410</td>\n",
       "    </tr>\n",
       "    <tr>\n",
       "      <th>2</th>\n",
       "      <td>47770eb9100c2d0c44946d9cf07ec65d</td>\n",
       "      <td>41ce2a54c0b03bf3443c3d931a367089</td>\n",
       "      <td>delivered</td>\n",
       "      <td>2018-08-08</td>\n",
       "      <td>08:38:49</td>\n",
       "      <td>17.245498</td>\n",
       "      <td>9.178113</td>\n",
       "    </tr>\n",
       "  </tbody>\n",
       "</table>\n",
       "</div>"
      ],
      "text/plain": [
       "                           order_id                       customer_id  \\\n",
       "0  e481f51cbdc54678b7cc49136f2d6af7  9ef432eb6251297304e76186b10a928d   \n",
       "1  53cdb2fc8bc7dce0b6741e2150273451  b0830fb4747a6c6d20dea0b8c802d7ef   \n",
       "2  47770eb9100c2d0c44946d9cf07ec65d  41ce2a54c0b03bf3443c3d931a367089   \n",
       "\n",
       "  order_status order_purchase_date order_purchase_time  \\\n",
       "0    delivered          2017-10-02            10:56:33   \n",
       "1    delivered          2018-07-24            20:41:37   \n",
       "2    delivered          2018-08-08            08:38:49   \n",
       "\n",
       "   order_dt_estimated_declared  order_dt_decalared_customer_carrier  \n",
       "0                     7.107488                             6.062650  \n",
       "1                     5.355729                            12.039410  \n",
       "2                    17.245498                             9.178113  "
      ]
     },
     "execution_count": 10,
     "metadata": {},
     "output_type": "execute_result"
    }
   ],
   "source": [
    "## save in a working pd.DataFrame : \n",
    "my_orders = orders[['order_id', 'customer_id', 'order_status']].copy()\n",
    "my_orders.at[:,\"order_purchase_date\"] = purchase_date\n",
    "my_orders.at[:,\"order_purchase_time\"] = purch_time\n",
    "my_orders.at[:,\"order_dt_estimated_declared\"] = delta_estimated_declared\n",
    "my_orders.at[:,\"order_dt_decalared_customer_carrier\"] = delta_decalared_customer_carrier\n",
    "my_orders.head(3)"
   ]
  },
  {
   "cell_type": "code",
   "execution_count": 11,
   "id": "e02a9d50",
   "metadata": {},
   "outputs": [
    {
     "data": {
      "image/png": "[encoded data removed]",
      "text/plain": [
       "<Figure size 864x720 with 4 Axes>"
      ]
     },
     "metadata": {
      "needs_background": "light"
     },
     "output_type": "display_data"
    }
   ],
   "source": [
    "## Check with graphics :\n",
    "\n",
    "plt.figure(figsize=(12,10))\n",
    "plt.subplot(2,2,1)\n",
    "sns.histplot(my_orders.order_purchase_date)\n",
    "plt.xticks(rotation=90)\n",
    "plt.title(\"Histogram of purchase date\")\n",
    "\n",
    "plt.subplot(2,2,2)\n",
    "tmp = pd.to_datetime(my_orders.order_purchase_time,  format = \"%H:%M:%S\")\n",
    "tmp.groupby(tmp.dt.hour).count()\n",
    "sns.barplot(x = np.arange(1,25), \n",
    "            y = tmp.groupby(tmp.dt.hour).count())\n",
    "plt.title(\"Barplot of order purchase hour\")\n",
    "plt.xlabel(\"Hour of day\")\n",
    "plt.ylabel(\"Number of order purchase\")\n",
    "\n",
    "plt.subplot(2,2,3)\n",
    "sns.histplot(my_orders.order_dt_estimated_declared, bins = 100)\n",
    "plt.title(\"Histogram of delivery delta time \\nbtw estimated and declared\")\n",
    "plt.xlabel(\"Delta of days\")\n",
    "plt.ylabel(\"Order counts\")\n",
    "\n",
    "plt.subplot(2,2,4)\n",
    "sns.histplot(my_orders.order_dt_decalared_customer_carrier, bins = 100)\n",
    "plt.title(\"Histogram of delivery delta time \\ndeclared by customer and carrier\")\n",
    "plt.xlabel(\"Delta of days\")\n",
    "plt.ylabel(\"Order counts\")\n",
    "\n",
    "plt.tight_layout()\n",
    "plt.show()\n"
   ]
  },
  {
   "cell_type": "markdown",
   "id": "85f10ef1",
   "metadata": {},
   "source": [
    "## TODO : Description des graphes "
   ]
  },
  {
   "cell_type": "markdown",
   "id": "2d239c71",
   "metadata": {},
   "source": [
    "## 1.2.2 Table des produits commandés (order_items)\n",
    "\n",
    "Passons maintenant à l'étude de la table des produits commandés : "
   ]
  },
  {
   "cell_type": "code",
   "execution_count": 12,
   "id": "303b3876",
   "metadata": {},
   "outputs": [
    {
     "name": "stdout",
     "output_type": "stream",
     "text": [
      "shape :  (112650, 7)\n",
      "number of NaNs : 0 \n",
      "\n"
     ]
    },
    {
     "data": {
      "text/html": [
       "<div>\n",
       "<style scoped>\n",
       "    .dataframe tbody tr th:only-of-type {\n",
       "        vertical-align: middle;\n",
       "    }\n",
       "\n",
       "    .dataframe tbody tr th {\n",
       "        vertical-align: top;\n",
       "    }\n",
       "\n",
       "    .dataframe thead th {\n",
       "        text-align: right;\n",
       "    }\n",
       "</style>\n",
       "<table border=\"1\" class=\"dataframe\">\n",
       "  <thead>\n",
       "    <tr style=\"text-align: right;\">\n",
       "      <th></th>\n",
       "      <th>order_id</th>\n",
       "      <th>order_item_id</th>\n",
       "      <th>product_id</th>\n",
       "      <th>seller_id</th>\n",
       "      <th>shipping_limit_date</th>\n",
       "      <th>price</th>\n",
       "      <th>freight_value</th>\n",
       "    </tr>\n",
       "  </thead>\n",
       "  <tbody>\n",
       "    <tr>\n",
       "      <th>0</th>\n",
       "      <td>00010242fe8c5a6d1ba2dd792cb16214</td>\n",
       "      <td>1</td>\n",
       "      <td>4244733e06e7ecb4970a6e2683c13e61</td>\n",
       "      <td>48436dade18ac8b2bce089ec2a041202</td>\n",
       "      <td>2017-09-19 09:45:35</td>\n",
       "      <td>58.9</td>\n",
       "      <td>13.29</td>\n",
       "    </tr>\n",
       "    <tr>\n",
       "      <th>1</th>\n",
       "      <td>00018f77f2f0320c557190d7a144bdd3</td>\n",
       "      <td>1</td>\n",
       "      <td>e5f2d52b802189ee658865ca93d83a8f</td>\n",
       "      <td>dd7ddc04e1b6c2c614352b383efe2d36</td>\n",
       "      <td>2017-05-03 11:05:13</td>\n",
       "      <td>239.9</td>\n",
       "      <td>19.93</td>\n",
       "    </tr>\n",
       "    <tr>\n",
       "      <th>2</th>\n",
       "      <td>000229ec398224ef6ca0657da4fc703e</td>\n",
       "      <td>1</td>\n",
       "      <td>c777355d18b72b67abbeef9df44fd0fd</td>\n",
       "      <td>5b51032eddd242adc84c38acab88f23d</td>\n",
       "      <td>2018-01-18 14:48:30</td>\n",
       "      <td>199.0</td>\n",
       "      <td>17.87</td>\n",
       "    </tr>\n",
       "  </tbody>\n",
       "</table>\n",
       "</div>"
      ],
      "text/plain": [
       "                           order_id  order_item_id  \\\n",
       "0  00010242fe8c5a6d1ba2dd792cb16214              1   \n",
       "1  00018f77f2f0320c557190d7a144bdd3              1   \n",
       "2  000229ec398224ef6ca0657da4fc703e              1   \n",
       "\n",
       "                         product_id                         seller_id  \\\n",
       "0  4244733e06e7ecb4970a6e2683c13e61  48436dade18ac8b2bce089ec2a041202   \n",
       "1  e5f2d52b802189ee658865ca93d83a8f  dd7ddc04e1b6c2c614352b383efe2d36   \n",
       "2  c777355d18b72b67abbeef9df44fd0fd  5b51032eddd242adc84c38acab88f23d   \n",
       "\n",
       "   shipping_limit_date  price  freight_value  \n",
       "0  2017-09-19 09:45:35   58.9          13.29  \n",
       "1  2017-05-03 11:05:13  239.9          19.93  \n",
       "2  2018-01-18 14:48:30  199.0          17.87  "
      ]
     },
     "execution_count": 12,
     "metadata": {},
     "output_type": "execute_result"
    }
   ],
   "source": [
    "print(\"shape : \", order_items.shape)\n",
    "print(\"number of NaNs :\",order_items.isna().sum().sum(),\"\\n\")\n",
    "\n",
    "order_items.head(3)"
   ]
  },
  {
   "cell_type": "markdown",
   "id": "53fb83f4",
   "metadata": {},
   "source": [
    "Cette table contient la liste des produits commandés dans différentes commandes, avec leur prix et la date limite d'envoi. La colonne \"order_item_id\" correspond au numéro attribué à l'article dans la commande. Est-ce que les mêmes articles sont vendus à des prix différents sur cette plateforme de vente ?"
   ]
  },
  {
   "cell_type": "code",
   "execution_count": 13,
   "id": "232d78dd",
   "metadata": {},
   "outputs": [
    {
     "name": "stdout",
     "output_type": "stream",
     "text": [
      "shape of duplicates after removes those with same price and name: (94533, 7)\n",
      "shape of duplicates after removes those with same name : (94533, 7)\n"
     ]
    }
   ],
   "source": [
    "duplicates = order_items[order_items.duplicated(subset = \"product_id\", keep = False)]\n",
    "duplicates = duplicates.sort_values(\"product_id\")\n",
    "duplicates.drop_duplicates([\"product_id\", \"price\"])\n",
    "print(\"shape of duplicates after removes those with same price and name:\",duplicates.shape)\n",
    "duplicates.drop_duplicates([\"product_id\"])\n",
    "print(\"shape of duplicates after removes those with same name :\",duplicates.shape)"
   ]
  },
  {
   "cell_type": "markdown",
   "id": "e65376d9",
   "metadata": {},
   "source": [
    "Il semblerait que oui. A quoi ressemble la répartition des prix ? "
   ]
  },
  {
   "cell_type": "code",
   "execution_count": 14,
   "id": "b1106620",
   "metadata": {
    "scrolled": true
   },
   "outputs": [
    {
     "data": {
      "image/png": "[encoded data removed]",
      "text/plain": [
       "<Figure size 864x288 with 2 Axes>"
      ]
     },
     "metadata": {
      "needs_background": "light"
     },
     "output_type": "display_data"
    }
   ],
   "source": [
    "plt.figure(figsize=(12,4))\n",
    "plt.subplot(1,2,1)\n",
    "sns.histplot(order_items.price, bins = 100)\n",
    "plt.xticks(rotation=90)\n",
    "plt.title(\"Histogram of ordered product price\")\n",
    "plt.xlabel(\"product price\")\n",
    "plt.ylabel(\"Number of ordered product\")\n",
    "\n",
    "plt.subplot(1,2,2)\n",
    "sns.histplot(order_items.drop_duplicates(subset=\"product_id\").price, bins = 100)\n",
    "plt.xticks(rotation=90)\n",
    "plt.title(\"Histogram of different product price\")\n",
    "plt.xlabel(\"product price\")\n",
    "plt.ylabel(\"Number of product\")\n",
    "plt.show()"
   ]
  },
  {
   "cell_type": "markdown",
   "id": "7f6fdbfa",
   "metadata": {},
   "source": [
    "On ne voit pas grand chose : passons en échelle log."
   ]
  },
  {
   "cell_type": "code",
   "execution_count": 15,
   "id": "8204d251",
   "metadata": {},
   "outputs": [
    {
     "data": {
      "image/png": "[encoded data removed]",
      "text/plain": [
       "<Figure size 864x288 with 2 Axes>"
      ]
     },
     "metadata": {
      "needs_background": "light"
     },
     "output_type": "display_data"
    }
   ],
   "source": [
    "plt.figure(figsize=(12,4))\n",
    "plt.subplot(1,2,1)\n",
    "sns.histplot(np.log(order_items.price+1), bins = 100)\n",
    "plt.xticks(rotation=90)\n",
    "plt.title(\"Histogram of ordered product price \\nlog-transformed \")\n",
    "plt.xlabel(\"log( product price + 1 )\")\n",
    "plt.ylabel(\"Number of ordered product\")\n",
    "\n",
    "plt.subplot(1,2,2)\n",
    "sns.histplot(np.log(order_items.drop_duplicates(\"product_id\").price\n",
    "                    +1), bins = 100)\n",
    "plt.xticks(rotation=90)\n",
    "plt.title(\"Histogram of different product price \\nlog-transformed \")\n",
    "plt.xlabel(\"log( product price + 1 )\")\n",
    "plt.ylabel(\"Number of product\")\n",
    "plt.show()"
   ]
  },
  {
   "cell_type": "markdown",
   "id": "8d009b63",
   "metadata": {},
   "source": [
    "Les commandes avec plusieurs items n'ont pas l'air de contenir des items moins cher. Regardons la répartition du prix total de chaque commande, ainsi que le fret associé :  "
   ]
  },
  {
   "cell_type": "code",
   "execution_count": 16,
   "id": "9a613c37",
   "metadata": {},
   "outputs": [
    {
     "data": {
      "image/png": "[encoded data removed]",
      "text/plain": [
       "<Figure size 864x288 with 2 Axes>"
      ]
     },
     "metadata": {
      "needs_background": "light"
     },
     "output_type": "display_data"
    }
   ],
   "source": [
    "tmp = order_items.groupby(\"order_id\").sum()\n",
    "order_total_prices = pd.DataFrame(tmp.values, \n",
    "                                  columns = tmp.columns)\n",
    "order_total_prices.at[:,\"order_id\"] = tmp.index\n",
    "\n",
    "plt.figure(figsize=(12,4))\n",
    "plt.subplot(1,2,1)\n",
    "sns.histplot(np.log( order_total_prices.price + 1 ), bins = 100)\n",
    "plt.title(\"Histogram of total order price \\nlog-transformed \")\n",
    "plt.xlabel(\"np.log( total order price + 1)\")\n",
    "plt.ylabel(\"Number of order\")\n",
    "\n",
    "plt.subplot(1,2,2)\n",
    "sns.histplot(np.log(order_total_prices.freight_value + 1 ), bins = 100)\n",
    "plt.title(\"Histogram of totel order freight value\\nlog-transformed\")\n",
    "plt.xlabel(\"np.log( totel order freight value + 1 )\")\n",
    "plt.ylabel(\"Number of order\")\n",
    "plt.show()"
   ]
  },
  {
   "cell_type": "code",
   "execution_count": 17,
   "id": "7966b477",
   "metadata": {},
   "outputs": [
    {
     "data": {
      "image/png": "[encoded data removed]",
      "text/plain": [
       "<Figure size 504x288 with 1 Axes>"
      ]
     },
     "metadata": {
      "needs_background": "light"
     },
     "output_type": "display_data"
    }
   ],
   "source": [
    "order_total_prices.at[:,\"total\"] = order_total_prices[[\"price\",\"freight_value\"]].sum(axis=1)\n",
    "\n",
    "plt.figure(figsize=(7,4))\n",
    "sns.histplot(np.log( order_total_prices.total + 1 ), bins = 100)\n",
    "plt.title(\"Histogram of total order price \\nlog-transformed \")\n",
    "plt.xlabel(\"np.log( total order price + 1)\")\n",
    "plt.ylabel(\"Number of order\")\n",
    "\n",
    "plt.show()"
   ]
  },
  {
   "cell_type": "markdown",
   "id": "99d7f653",
   "metadata": {},
   "source": [
    "Il n'y a rien d'inattendu : le prix des paniers en log-tranform a l'air répartis selon une loi normale. Pour le log du fret, on distingue 3 pics : un en 0, un en 2.3 et le troisième en 3."
   ]
  },
  {
   "cell_type": "code",
   "execution_count": 18,
   "id": "117e7ea7",
   "metadata": {},
   "outputs": [
    {
     "data": {
      "text/plain": [
       "Index(['order_id', 'customer_id', 'order_status', 'order_purchase_date',\n",
       "       'order_purchase_time', 'order_dt_estimated_declared',\n",
       "       'order_dt_decalared_customer_carrier', 'price', 'freight_value'],\n",
       "      dtype='object')"
      ]
     },
     "execution_count": 18,
     "metadata": {},
     "output_type": "execute_result"
    }
   ],
   "source": [
    "my_orders = pd.merge(my_orders, order_total_prices[[\"order_id\",\"price\",\"freight_value\"]], \n",
    "                     on = \"order_id\", how=\"left\")\n",
    "my_orders.columns"
   ]
  },
  {
   "cell_type": "markdown",
   "id": "c504e173",
   "metadata": {},
   "source": [
    "### 1.2.3 Table des paiments (order_payments)"
   ]
  },
  {
   "cell_type": "code",
   "execution_count": 19,
   "id": "67a1aa3a",
   "metadata": {},
   "outputs": [
    {
     "name": "stdout",
     "output_type": "stream",
     "text": [
      "shape :  (103886, 5)\n",
      "number of NaNs : 0 \n",
      "\n"
     ]
    },
    {
     "data": {
      "text/html": [
       "<div>\n",
       "<style scoped>\n",
       "    .dataframe tbody tr th:only-of-type {\n",
       "        vertical-align: middle;\n",
       "    }\n",
       "\n",
       "    .dataframe tbody tr th {\n",
       "        vertical-align: top;\n",
       "    }\n",
       "\n",
       "    .dataframe thead th {\n",
       "        text-align: right;\n",
       "    }\n",
       "</style>\n",
       "<table border=\"1\" class=\"dataframe\">\n",
       "  <thead>\n",
       "    <tr style=\"text-align: right;\">\n",
       "      <th></th>\n",
       "      <th>order_id</th>\n",
       "      <th>payment_sequential</th>\n",
       "      <th>payment_type</th>\n",
       "      <th>payment_installments</th>\n",
       "      <th>payment_value</th>\n",
       "    </tr>\n",
       "  </thead>\n",
       "  <tbody>\n",
       "    <tr>\n",
       "      <th>0</th>\n",
       "      <td>b81ef226f3fe1789b1e8b2acac839d17</td>\n",
       "      <td>1</td>\n",
       "      <td>credit_card</td>\n",
       "      <td>8</td>\n",
       "      <td>99.33</td>\n",
       "    </tr>\n",
       "    <tr>\n",
       "      <th>1</th>\n",
       "      <td>a9810da82917af2d9aefd1278f1dcfa0</td>\n",
       "      <td>1</td>\n",
       "      <td>credit_card</td>\n",
       "      <td>1</td>\n",
       "      <td>24.39</td>\n",
       "    </tr>\n",
       "    <tr>\n",
       "      <th>2</th>\n",
       "      <td>25e8ea4e93396b6fa0d3dd708e76c1bd</td>\n",
       "      <td>1</td>\n",
       "      <td>credit_card</td>\n",
       "      <td>1</td>\n",
       "      <td>65.71</td>\n",
       "    </tr>\n",
       "  </tbody>\n",
       "</table>\n",
       "</div>"
      ],
      "text/plain": [
       "                           order_id  payment_sequential payment_type  \\\n",
       "0  b81ef226f3fe1789b1e8b2acac839d17                   1  credit_card   \n",
       "1  a9810da82917af2d9aefd1278f1dcfa0                   1  credit_card   \n",
       "2  25e8ea4e93396b6fa0d3dd708e76c1bd                   1  credit_card   \n",
       "\n",
       "   payment_installments  payment_value  \n",
       "0                     8          99.33  \n",
       "1                     1          24.39  \n",
       "2                     1          65.71  "
      ]
     },
     "execution_count": 19,
     "metadata": {},
     "output_type": "execute_result"
    }
   ],
   "source": [
    "print(\"shape : \", order_payments.shape)\n",
    "print(\"number of NaNs :\",order_payments.isna().sum().sum(),\"\\n\")\n",
    "\n",
    "order_payments.head(3)"
   ]
  },
  {
   "cell_type": "markdown",
   "id": "4cd2f0d7",
   "metadata": {},
   "source": [
    "Les 4 colonnes de cette table semblent pertinentes. Il y a trois variables correspondant au moyen de paiement (type de paiement, nombre d'échéance de paiement choisis, et nombre de type de paiement), et la dernière variable est le prix payé (à comparer avec la variable \"price\", calculée en faisant la somme des prix de la table \"order_items\")"
   ]
  },
  {
   "cell_type": "code",
   "execution_count": 20,
   "id": "f8a45761",
   "metadata": {
    "scrolled": false
   },
   "outputs": [
    {
     "data": {
      "image/png": "[encoded data removed]",
      "text/plain": [
       "<Figure size 864x720 with 4 Axes>"
      ]
     },
     "metadata": {
      "needs_background": "light"
     },
     "output_type": "display_data"
    }
   ],
   "source": [
    "plt.figure(figsize=(12,10))\n",
    "plt.subplot(2,2,1)\n",
    "sns.histplot(order_payments.payment_sequential, bins = 100)\n",
    "plt.title(\"Histogram of sequential payment\")\n",
    "plt.xlabel(\"Number of payment\")\n",
    "plt.ylabel(\"Number of order\")\n",
    "\n",
    "plt.subplot(2,2,2)\n",
    "sns.histplot(order_payments.payment_type)\n",
    "plt.xticks(rotation=90)\n",
    "plt.title(\"Histogram of payment type \")\n",
    "plt.xlabel(\"Payment type\")\n",
    "plt.ylabel(\"Number of order\")\n",
    "\n",
    "plt.subplot(2,2,3)\n",
    "sns.histplot(order_payments.payment_installments, bins = 25)\n",
    "plt.title(\"Histogram of payment installments\")\n",
    "plt.xlabel(\"Number of payment installments\")\n",
    "plt.ylabel(\"Number of order\")\n",
    "\n",
    "plt.subplot(2,2,4)\n",
    "sns.histplot(np.log(order_payments.payment_value + 1 ), bins = 100)\n",
    "plt.title(\"Histogram of payment value\\nlog-transformed\")\n",
    "plt.xlabel(\"np.log( payment value + 1 )\")\n",
    "plt.ylabel(\"Number of order\")\n",
    "\n",
    "plt.tight_layout()\n",
    "plt.show()"
   ]
  },
  {
   "cell_type": "markdown",
   "id": "dde75244",
   "metadata": {},
   "source": [
    "Let us now just compare the order_payments.payment_value with the order_total_prices.total"
   ]
  },
  {
   "cell_type": "code",
   "execution_count": 21,
   "id": "de4bf9ca",
   "metadata": {},
   "outputs": [
    {
     "name": "stdout",
     "output_type": "stream",
     "text": [
      "387 anomalies\n"
     ]
    },
    {
     "data": {
      "text/html": [
       "<div>\n",
       "<style scoped>\n",
       "    .dataframe tbody tr th:only-of-type {\n",
       "        vertical-align: middle;\n",
       "    }\n",
       "\n",
       "    .dataframe tbody tr th {\n",
       "        vertical-align: top;\n",
       "    }\n",
       "\n",
       "    .dataframe thead th {\n",
       "        text-align: right;\n",
       "    }\n",
       "</style>\n",
       "<table border=\"1\" class=\"dataframe\">\n",
       "  <thead>\n",
       "    <tr style=\"text-align: right;\">\n",
       "      <th></th>\n",
       "      <th>order_id</th>\n",
       "      <th>payment_value</th>\n",
       "      <th>total</th>\n",
       "    </tr>\n",
       "  </thead>\n",
       "  <tbody>\n",
       "    <tr>\n",
       "      <th>165</th>\n",
       "      <td>00789ce015e7e5791c7914f32bb4fad4</td>\n",
       "      <td>190.81</td>\n",
       "      <td>168.83</td>\n",
       "    </tr>\n",
       "    <tr>\n",
       "      <th>525</th>\n",
       "      <td>016726239765c18f66826453f39c64e3</td>\n",
       "      <td>265.77</td>\n",
       "      <td>235.13</td>\n",
       "    </tr>\n",
       "    <tr>\n",
       "      <th>724</th>\n",
       "      <td>01e51b7c3025655646143d09b911e1d7</td>\n",
       "      <td>35.02</td>\n",
       "      <td>33.10</td>\n",
       "    </tr>\n",
       "  </tbody>\n",
       "</table>\n",
       "</div>"
      ],
      "text/plain": [
       "                             order_id  payment_value   total\n",
       "165  00789ce015e7e5791c7914f32bb4fad4         190.81  168.83\n",
       "525  016726239765c18f66826453f39c64e3         265.77  235.13\n",
       "724  01e51b7c3025655646143d09b911e1d7          35.02   33.10"
      ]
     },
     "execution_count": 21,
     "metadata": {},
     "output_type": "execute_result"
    }
   ],
   "source": [
    "sum_payments_order = order_payments[[\"order_id\",\n",
    "                \"payment_value\"]].groupby(\"order_id\").sum().reset_index()\n",
    "tmp = pd.merge(sum_payments_order,\n",
    "         order_total_prices[[\"order_id\",\"total\"]], on=\"order_id\")\n",
    "index_diff_non_null = np.where(abs(tmp[[\"payment_value\",\n",
    "                            \"total\"]].diff(axis = 1))>10**-2)[0]\n",
    "print(len(index_diff_non_null),\"anomalies\")\n",
    "tmp.iloc[index_diff_non_null].head(3)"
   ]
  },
  {
   "cell_type": "markdown",
   "id": "0e8624b1",
   "metadata": {},
   "source": [
    "C'est assez étrange que les tables ne matchent pas. Il faudra faire attention à cela/demander au client si cela est normal. \n",
    "\n",
    "Ajoutons donc à la table d'exploitation ce qu'il semble pertinent d'extraire de cette table de paiements : \n",
    "* le nombre d'échelon de paiement \n",
    "* le type de paiement utilisé pour la majorité des payments (en terme de prix, \"payment_type\"). J'ai aussi regardé en terme de nombre de paiement, et en terme du plus gros paiment, les variables semblent presque identiques. \n",
    "* le nombre de type de paiement pour la commande"
   ]
  },
  {
   "cell_type": "code",
   "execution_count": 22,
   "id": "7a3bc498",
   "metadata": {},
   "outputs": [],
   "source": [
    "## payment_installments :\n",
    "tmp = order_payments.sort_values(\"payment_installments\",ascending=False).drop_duplicates(\"order_id\",\"first\")\n",
    "my_orders = pd.merge(my_orders, tmp[[\"order_id\",\"payment_installments\"]], \n",
    "                     on=\"order_id\", how=\"left\")"
   ]
  },
  {
   "cell_type": "code",
   "execution_count": 23,
   "id": "043b9205",
   "metadata": {},
   "outputs": [],
   "source": [
    "# ## most frequent payment type :\n",
    "# tmp = order_payments[[\"order_id\", \"payment_type\"]].sort_values(by = \"order_id\")#\"payment_type\")\n",
    "# tmp = pd.DataFrame(tmp.value_counts().reset_index())\n",
    "# tmp = tmp.drop_duplicates(\"order_id\")[[\"order_id\", \"payment_type\"]]\n",
    "# my_orders = pd.merge(my_orders, tmp, on=\"order_id\", how=\"left\")"
   ]
  },
  {
   "cell_type": "code",
   "execution_count": 24,
   "id": "4c94c28a",
   "metadata": {},
   "outputs": [],
   "source": [
    "# ## higher payment type :\n",
    "# tmp = order_payments.sort_values(\"payment_value\",\n",
    "#                   ascending=False).drop_duplicates(\"order_id\",\"first\")\n",
    "# tmp = tmp.rename(columns={\"payment_type\":\"higher_payment_type\"})\n",
    "# my_orders = pd.merge(my_orders, tmp[[\"order_id\",\"higher_payment_type\"]], \n",
    "#                     on=\"order_id\", how=\"left\")"
   ]
  },
  {
   "cell_type": "code",
   "execution_count": 25,
   "id": "5bf117b0",
   "metadata": {},
   "outputs": [],
   "source": [
    "## most of payment type (max sum of value): \n",
    "## extract sum of payment value for each payment type : \n",
    "sub_table = order_payments[[\"order_id\",\"payment_value\",\"payment_type\"]]\n",
    "sub_table = sub_table.sort_values(\"order_id\")\n",
    "index = sub_table.drop_duplicates([\"order_id\",\"payment_type\"]).index\n",
    "\n",
    "tmp = sub_table.groupby([\"order_id\",\"payment_type\"]).sum()\n",
    "tmp = tmp.reset_index().set_index(index)\n",
    "\n",
    "## drop duplicates where smaller payment_values (sum)\n",
    "tmp = tmp.sort_values(\"payment_value\", ascending=False)\n",
    "tmp = tmp.drop_duplicates(\"order_id\", keep=\"first\")\n",
    "my_orders = pd.merge(my_orders, tmp[[\"order_id\",\"payment_type\"]],\n",
    "                     on=\"order_id\", how=\"left\")"
   ]
  },
  {
   "cell_type": "code",
   "execution_count": 26,
   "id": "2a1dde1c",
   "metadata": {},
   "outputs": [],
   "source": [
    "## number of payment type : \n",
    "tmp = order_payments[[\"order_id\",\"payment_type\"]].drop_duplicates()\n",
    "tmp = tmp[\"order_id\"].value_counts().reset_index()\n",
    "tmp = tmp.rename(columns={\"index\":\"order_id\", \n",
    "                          \"order_id\":\"nb_payment_type\"})\n",
    "my_orders = pd.merge(my_orders, tmp, on=\"order_id\", how=\"left\")"
   ]
  },
  {
   "cell_type": "code",
   "execution_count": 27,
   "id": "50b6c114",
   "metadata": {},
   "outputs": [
    {
     "data": {
      "image/png": "[encoded data removed]",
      "text/plain": [
       "<Figure size 432x288 with 1 Axes>"
      ]
     },
     "metadata": {
      "needs_background": "light"
     },
     "output_type": "display_data"
    },
    {
     "data": {
      "image/png": "[encoded data removed]",
      "text/plain": [
       "<Figure size 720x288 with 2 Axes>"
      ]
     },
     "metadata": {
      "needs_background": "light"
     },
     "output_type": "display_data"
    }
   ],
   "source": [
    "## graphics : \n",
    "plt.figure(figsize=(6,4))\n",
    "\n",
    "tmp = my_orders.payment_installments.value_counts()\n",
    "sns.barplot(x=tmp.index,y=tmp.values)\n",
    "plt.title(\"Barplot of sequential payment\")\n",
    "plt.xlabel(\"Number of sequential payment\")\n",
    "plt.ylabel(\"Number of order\")\n",
    "plt.tight_layout()\n",
    "plt.show()\n",
    "\n",
    "plt.figure(figsize=(10,4))\n",
    "\n",
    "plt.subplot(1,2,1)\n",
    "tmp = my_orders.payment_type.value_counts()\n",
    "sns.barplot(x=tmp.index,y=tmp.values)\n",
    "plt.xticks(rotation=90)\n",
    "plt.title(\"Barplot of payment type \")\n",
    "plt.xlabel(\"Payment type more frequently used\")\n",
    "plt.ylabel(\"Number of order\")\n",
    "\n",
    "plt.subplot(1,2,2)\n",
    "tmp = my_orders.nb_payment_type.value_counts()\n",
    "sns.barplot(x=tmp.index,y=tmp.values)\n",
    "plt.title(\"Barplot of number of payment type\")\n",
    "plt.xlabel(\"Number of payment type\")\n",
    "plt.ylabel(\"Number of order\")\n",
    "\n",
    "plt.tight_layout()\n",
    "plt.show()"
   ]
  },
  {
   "cell_type": "markdown",
   "id": "ebb0b5ce",
   "metadata": {},
   "source": [
    "### 1.2.4 Table des paiments (order_reviews)"
   ]
  },
  {
   "cell_type": "code",
   "execution_count": 28,
   "id": "dd3e4d08",
   "metadata": {
    "scrolled": true
   },
   "outputs": [
    {
     "name": "stdout",
     "output_type": "stream",
     "text": [
      "shape :  (100000, 7)\n",
      "number of NaNs : 146532 \n",
      "\n"
     ]
    },
    {
     "data": {
      "text/html": [
       "<div>\n",
       "<style scoped>\n",
       "    .dataframe tbody tr th:only-of-type {\n",
       "        vertical-align: middle;\n",
       "    }\n",
       "\n",
       "    .dataframe tbody tr th {\n",
       "        vertical-align: top;\n",
       "    }\n",
       "\n",
       "    .dataframe thead th {\n",
       "        text-align: right;\n",
       "    }\n",
       "</style>\n",
       "<table border=\"1\" class=\"dataframe\">\n",
       "  <thead>\n",
       "    <tr style=\"text-align: right;\">\n",
       "      <th></th>\n",
       "      <th>review_id</th>\n",
       "      <th>order_id</th>\n",
       "      <th>review_score</th>\n",
       "      <th>review_comment_title</th>\n",
       "      <th>review_comment_message</th>\n",
       "      <th>review_creation_date</th>\n",
       "      <th>review_answer_timestamp</th>\n",
       "    </tr>\n",
       "  </thead>\n",
       "  <tbody>\n",
       "    <tr>\n",
       "      <th>0</th>\n",
       "      <td>7bc2406110b926393aa56f80a40eba40</td>\n",
       "      <td>73fc7af87114b39712e6da79b0a377eb</td>\n",
       "      <td>4</td>\n",
       "      <td>NaN</td>\n",
       "      <td>NaN</td>\n",
       "      <td>2018-01-18 00:00:00</td>\n",
       "      <td>2018-01-18 21:46:59</td>\n",
       "    </tr>\n",
       "    <tr>\n",
       "      <th>1</th>\n",
       "      <td>80e641a11e56f04c1ad469d5645fdfde</td>\n",
       "      <td>a548910a1c6147796b98fdf73dbeba33</td>\n",
       "      <td>5</td>\n",
       "      <td>NaN</td>\n",
       "      <td>NaN</td>\n",
       "      <td>2018-03-10 00:00:00</td>\n",
       "      <td>2018-03-11 03:05:13</td>\n",
       "    </tr>\n",
       "    <tr>\n",
       "      <th>2</th>\n",
       "      <td>228ce5500dc1d8e020d8d1322874b6f0</td>\n",
       "      <td>f9e4b658b201a9f2ecdecbb34bed034b</td>\n",
       "      <td>5</td>\n",
       "      <td>NaN</td>\n",
       "      <td>NaN</td>\n",
       "      <td>2018-02-17 00:00:00</td>\n",
       "      <td>2018-02-18 14:36:24</td>\n",
       "    </tr>\n",
       "  </tbody>\n",
       "</table>\n",
       "</div>"
      ],
      "text/plain": [
       "                          review_id                          order_id  \\\n",
       "0  7bc2406110b926393aa56f80a40eba40  73fc7af87114b39712e6da79b0a377eb   \n",
       "1  80e641a11e56f04c1ad469d5645fdfde  a548910a1c6147796b98fdf73dbeba33   \n",
       "2  228ce5500dc1d8e020d8d1322874b6f0  f9e4b658b201a9f2ecdecbb34bed034b   \n",
       "\n",
       "   review_score review_comment_title review_comment_message  \\\n",
       "0             4                  NaN                    NaN   \n",
       "1             5                  NaN                    NaN   \n",
       "2             5                  NaN                    NaN   \n",
       "\n",
       "  review_creation_date review_answer_timestamp  \n",
       "0  2018-01-18 00:00:00     2018-01-18 21:46:59  \n",
       "1  2018-03-10 00:00:00     2018-03-11 03:05:13  \n",
       "2  2018-02-17 00:00:00     2018-02-18 14:36:24  "
      ]
     },
     "execution_count": 28,
     "metadata": {},
     "output_type": "execute_result"
    }
   ],
   "source": [
    "print(\"shape : \", order_reviews.shape)\n",
    "print(\"number of NaNs :\",order_reviews.isna().sum().sum(),\"\\n\")\n",
    "\n",
    "order_reviews.head(3)"
   ]
  },
  {
   "cell_type": "markdown",
   "id": "f0b030e3",
   "metadata": {},
   "source": [
    "Il y a un très grand nombre de valeurs manquantes : "
   ]
  },
  {
   "cell_type": "code",
   "execution_count": 29,
   "id": "81a32b0d",
   "metadata": {},
   "outputs": [
    {
     "data": {
      "text/plain": [
       "review_id                      0\n",
       "order_id                       0\n",
       "review_score                   0\n",
       "review_comment_title       88285\n",
       "review_comment_message     58247\n",
       "review_creation_date           0\n",
       "review_answer_timestamp        0\n",
       "dtype: int64"
      ]
     },
     "execution_count": 29,
     "metadata": {},
     "output_type": "execute_result"
    }
   ],
   "source": [
    "order_reviews.isna().sum()"
   ]
  },
  {
   "cell_type": "markdown",
   "id": "05d3eef6",
   "metadata": {},
   "source": [
    "Ces valeurs manquantes sont dans les parties textuelles des commentaires (title et message). La deuxième chose marquante dans cette table est la dimension. Est ce qu'une même commande a des scores différents ? "
   ]
  },
  {
   "cell_type": "code",
   "execution_count": 30,
   "id": "23404aed",
   "metadata": {
    "scrolled": false
   },
   "outputs": [
    {
     "name": "stdout",
     "output_type": "stream",
     "text": [
      "there are  209 orders with different scores\n"
     ]
    }
   ],
   "source": [
    "## number of different score for one order : \n",
    "tmp = order_reviews[[\"order_id\",\"review_score\"]].drop_duplicates()\n",
    "tmp = tmp[\"order_id\"].value_counts()\n",
    "print(\"there are \", sum(tmp>1), \"orders with different scores\")\n",
    "\n",
    "tmp = order_reviews[[\"order_id\",\"review_score\"]]\n",
    "tmp = tmp.value_counts()\n",
    "tmp = pd.Series(tmp.groupby(\"order_id\").count(),\n",
    "                   name=\"count_change_scores\")\n",
    "tmp = tmp.reset_index()\n",
    "my_orders = pd.merge(my_orders, tmp, on=\"order_id\", how=\"left\")"
   ]
  },
  {
   "cell_type": "code",
   "execution_count": 31,
   "id": "e7d2ffcb",
   "metadata": {},
   "outputs": [],
   "source": [
    "## mean score for one order : \n",
    "tmp = order_reviews.groupby(\"order_id\").mean().reset_index()\n",
    "my_orders = pd.merge(my_orders, tmp, on=\"order_id\", how=\"left\")"
   ]
  },
  {
   "cell_type": "code",
   "execution_count": 32,
   "id": "c4af092f",
   "metadata": {},
   "outputs": [],
   "source": [
    "## add count_reviews, count_messages, count_title, for one order : \n",
    "tmp = order_reviews.groupby(\"order_id\").count().reset_index()\n",
    "tmp = tmp[[\"order_id\",\"review_id\", \"review_comment_title\", \"review_comment_message\"]]\n",
    "\n",
    "dict_rename = {\"review_id\":\"count_review\"}\n",
    "for colname in tmp.columns[2:] :\n",
    "    new_colname = \"count\"\n",
    "    for str1 in colname.split(\"_\")[1:] : \n",
    "        new_colname = str(new_colname+\"_\"+str1)\n",
    "    dict_rename[colname]=new_colname\n",
    "    \n",
    "tmp = tmp.rename(columns=dict_rename)\n",
    "my_orders = pd.merge(my_orders, tmp, on=\"order_id\", how=\"left\")"
   ]
  },
  {
   "cell_type": "code",
   "execution_count": 39,
   "id": "96d89cc9",
   "metadata": {},
   "outputs": [
    {
     "data": {
      "text/html": [
       "<div>\n",
       "<style scoped>\n",
       "    .dataframe tbody tr th:only-of-type {\n",
       "        vertical-align: middle;\n",
       "    }\n",
       "\n",
       "    .dataframe tbody tr th {\n",
       "        vertical-align: top;\n",
       "    }\n",
       "\n",
       "    .dataframe thead th {\n",
       "        text-align: right;\n",
       "    }\n",
       "</style>\n",
       "<table border=\"1\" class=\"dataframe\">\n",
       "  <thead>\n",
       "    <tr style=\"text-align: right;\">\n",
       "      <th></th>\n",
       "      <th>order_id</th>\n",
       "      <th>customer_id</th>\n",
       "      <th>order_status</th>\n",
       "      <th>order_purchase_date</th>\n",
       "      <th>order_purchase_time</th>\n",
       "      <th>order_dt_estimated_declared</th>\n",
       "      <th>order_dt_decalared_customer_carrier</th>\n",
       "      <th>price</th>\n",
       "      <th>freight_value</th>\n",
       "      <th>payment_installments</th>\n",
       "      <th>payment_type</th>\n",
       "      <th>nb_payment_type</th>\n",
       "      <th>count_change_scores</th>\n",
       "      <th>review_score</th>\n",
       "      <th>count_review</th>\n",
       "      <th>count_comment_title</th>\n",
       "      <th>count_comment_message</th>\n",
       "    </tr>\n",
       "  </thead>\n",
       "  <tbody>\n",
       "    <tr>\n",
       "      <th>0</th>\n",
       "      <td>e481f51cbdc54678b7cc49136f2d6af7</td>\n",
       "      <td>9ef432eb6251297304e76186b10a928d</td>\n",
       "      <td>delivered</td>\n",
       "      <td>2017-10-02</td>\n",
       "      <td>10:56:33</td>\n",
       "      <td>7.107488</td>\n",
       "      <td>6.062650</td>\n",
       "      <td>29.99</td>\n",
       "      <td>8.72</td>\n",
       "      <td>1.0</td>\n",
       "      <td>voucher</td>\n",
       "      <td>2.0</td>\n",
       "      <td>1</td>\n",
       "      <td>4.0</td>\n",
       "      <td>1</td>\n",
       "      <td>0</td>\n",
       "      <td>1</td>\n",
       "    </tr>\n",
       "    <tr>\n",
       "      <th>1</th>\n",
       "      <td>53cdb2fc8bc7dce0b6741e2150273451</td>\n",
       "      <td>b0830fb4747a6c6d20dea0b8c802d7ef</td>\n",
       "      <td>delivered</td>\n",
       "      <td>2018-07-24</td>\n",
       "      <td>20:41:37</td>\n",
       "      <td>5.355729</td>\n",
       "      <td>12.039410</td>\n",
       "      <td>118.70</td>\n",
       "      <td>22.76</td>\n",
       "      <td>1.0</td>\n",
       "      <td>boleto</td>\n",
       "      <td>1.0</td>\n",
       "      <td>1</td>\n",
       "      <td>4.0</td>\n",
       "      <td>1</td>\n",
       "      <td>1</td>\n",
       "      <td>1</td>\n",
       "    </tr>\n",
       "    <tr>\n",
       "      <th>2</th>\n",
       "      <td>47770eb9100c2d0c44946d9cf07ec65d</td>\n",
       "      <td>41ce2a54c0b03bf3443c3d931a367089</td>\n",
       "      <td>delivered</td>\n",
       "      <td>2018-08-08</td>\n",
       "      <td>08:38:49</td>\n",
       "      <td>17.245498</td>\n",
       "      <td>9.178113</td>\n",
       "      <td>159.90</td>\n",
       "      <td>19.22</td>\n",
       "      <td>3.0</td>\n",
       "      <td>credit_card</td>\n",
       "      <td>1.0</td>\n",
       "      <td>1</td>\n",
       "      <td>5.0</td>\n",
       "      <td>1</td>\n",
       "      <td>0</td>\n",
       "      <td>0</td>\n",
       "    </tr>\n",
       "    <tr>\n",
       "      <th>3</th>\n",
       "      <td>949d5b44dbf5de918fe9c16f97b45f8a</td>\n",
       "      <td>f88197465ea7920adcdbec7375364d82</td>\n",
       "      <td>delivered</td>\n",
       "      <td>2017-11-18</td>\n",
       "      <td>19:28:06</td>\n",
       "      <td>12.980069</td>\n",
       "      <td>9.450498</td>\n",
       "      <td>45.00</td>\n",
       "      <td>27.20</td>\n",
       "      <td>1.0</td>\n",
       "      <td>credit_card</td>\n",
       "      <td>1.0</td>\n",
       "      <td>1</td>\n",
       "      <td>5.0</td>\n",
       "      <td>1</td>\n",
       "      <td>0</td>\n",
       "      <td>1</td>\n",
       "    </tr>\n",
       "    <tr>\n",
       "      <th>4</th>\n",
       "      <td>ad21c59c0840e6cb83a9ceb5573f8159</td>\n",
       "      <td>8ab97904e6daea8866dbdbc4fb7aad2c</td>\n",
       "      <td>delivered</td>\n",
       "      <td>2018-02-13</td>\n",
       "      <td>21:18:39</td>\n",
       "      <td>9.238171</td>\n",
       "      <td>1.937824</td>\n",
       "      <td>19.90</td>\n",
       "      <td>8.72</td>\n",
       "      <td>1.0</td>\n",
       "      <td>credit_card</td>\n",
       "      <td>1.0</td>\n",
       "      <td>1</td>\n",
       "      <td>5.0</td>\n",
       "      <td>1</td>\n",
       "      <td>0</td>\n",
       "      <td>0</td>\n",
       "    </tr>\n",
       "    <tr>\n",
       "      <th>...</th>\n",
       "      <td>...</td>\n",
       "      <td>...</td>\n",
       "      <td>...</td>\n",
       "      <td>...</td>\n",
       "      <td>...</td>\n",
       "      <td>...</td>\n",
       "      <td>...</td>\n",
       "      <td>...</td>\n",
       "      <td>...</td>\n",
       "      <td>...</td>\n",
       "      <td>...</td>\n",
       "      <td>...</td>\n",
       "      <td>...</td>\n",
       "      <td>...</td>\n",
       "      <td>...</td>\n",
       "      <td>...</td>\n",
       "      <td>...</td>\n",
       "    </tr>\n",
       "    <tr>\n",
       "      <th>99436</th>\n",
       "      <td>9c5dedf39a927c1b2549525ed64a053c</td>\n",
       "      <td>39bd1228ee8140590ac3aca26f2dfe00</td>\n",
       "      <td>delivered</td>\n",
       "      <td>2017-03-09</td>\n",
       "      <td>09:54:05</td>\n",
       "      <td>10.369433</td>\n",
       "      <td>7.159699</td>\n",
       "      <td>72.00</td>\n",
       "      <td>13.08</td>\n",
       "      <td>3.0</td>\n",
       "      <td>credit_card</td>\n",
       "      <td>1.0</td>\n",
       "      <td>1</td>\n",
       "      <td>5.0</td>\n",
       "      <td>1</td>\n",
       "      <td>0</td>\n",
       "      <td>0</td>\n",
       "    </tr>\n",
       "    <tr>\n",
       "      <th>99437</th>\n",
       "      <td>63943bddc261676b46f01ca7ac2f7bd8</td>\n",
       "      <td>1fca14ff2861355f6e5f14306ff977a7</td>\n",
       "      <td>delivered</td>\n",
       "      <td>2018-02-06</td>\n",
       "      <td>12:58:58</td>\n",
       "      <td>1.265324</td>\n",
       "      <td>20.760579</td>\n",
       "      <td>174.90</td>\n",
       "      <td>20.10</td>\n",
       "      <td>3.0</td>\n",
       "      <td>credit_card</td>\n",
       "      <td>1.0</td>\n",
       "      <td>1</td>\n",
       "      <td>4.0</td>\n",
       "      <td>1</td>\n",
       "      <td>0</td>\n",
       "      <td>1</td>\n",
       "    </tr>\n",
       "    <tr>\n",
       "      <th>99438</th>\n",
       "      <td>83c1379a015df1e13d02aae0204711ab</td>\n",
       "      <td>1aa71eb042121263aafbe80c1b562c9c</td>\n",
       "      <td>delivered</td>\n",
       "      <td>2017-08-27</td>\n",
       "      <td>14:46:43</td>\n",
       "      <td>5.524803</td>\n",
       "      <td>23.605451</td>\n",
       "      <td>205.99</td>\n",
       "      <td>65.02</td>\n",
       "      <td>5.0</td>\n",
       "      <td>credit_card</td>\n",
       "      <td>1.0</td>\n",
       "      <td>1</td>\n",
       "      <td>5.0</td>\n",
       "      <td>1</td>\n",
       "      <td>0</td>\n",
       "      <td>1</td>\n",
       "    </tr>\n",
       "    <tr>\n",
       "      <th>99439</th>\n",
       "      <td>11c177c8e97725db2631073c19f07b62</td>\n",
       "      <td>b331b74b18dc79bcdf6532d51e1637c1</td>\n",
       "      <td>delivered</td>\n",
       "      <td>2018-01-08</td>\n",
       "      <td>21:28:27</td>\n",
       "      <td>20.018819</td>\n",
       "      <td>13.331840</td>\n",
       "      <td>359.98</td>\n",
       "      <td>81.18</td>\n",
       "      <td>4.0</td>\n",
       "      <td>credit_card</td>\n",
       "      <td>1.0</td>\n",
       "      <td>1</td>\n",
       "      <td>2.0</td>\n",
       "      <td>1</td>\n",
       "      <td>0</td>\n",
       "      <td>1</td>\n",
       "    </tr>\n",
       "    <tr>\n",
       "      <th>99440</th>\n",
       "      <td>66dea50a8b16d9b4dee7af250b4be1a5</td>\n",
       "      <td>edb027a75a1449115f6b43211ae02a24</td>\n",
       "      <td>delivered</td>\n",
       "      <td>2018-03-08</td>\n",
       "      <td>20:57:30</td>\n",
       "      <td>17.452431</td>\n",
       "      <td>6.622581</td>\n",
       "      <td>68.50</td>\n",
       "      <td>18.36</td>\n",
       "      <td>1.0</td>\n",
       "      <td>debit_card</td>\n",
       "      <td>1.0</td>\n",
       "      <td>1</td>\n",
       "      <td>5.0</td>\n",
       "      <td>1</td>\n",
       "      <td>0</td>\n",
       "      <td>0</td>\n",
       "    </tr>\n",
       "  </tbody>\n",
       "</table>\n",
       "<p>99441 rows × 17 columns</p>\n",
       "</div>"
      ],
      "text/plain": [
       "                               order_id                       customer_id  \\\n",
       "0      e481f51cbdc54678b7cc49136f2d6af7  9ef432eb6251297304e76186b10a928d   \n",
       "1      53cdb2fc8bc7dce0b6741e2150273451  b0830fb4747a6c6d20dea0b8c802d7ef   \n",
       "2      47770eb9100c2d0c44946d9cf07ec65d  41ce2a54c0b03bf3443c3d931a367089   \n",
       "3      949d5b44dbf5de918fe9c16f97b45f8a  f88197465ea7920adcdbec7375364d82   \n",
       "4      ad21c59c0840e6cb83a9ceb5573f8159  8ab97904e6daea8866dbdbc4fb7aad2c   \n",
       "...                                 ...                               ...   \n",
       "99436  9c5dedf39a927c1b2549525ed64a053c  39bd1228ee8140590ac3aca26f2dfe00   \n",
       "99437  63943bddc261676b46f01ca7ac2f7bd8  1fca14ff2861355f6e5f14306ff977a7   \n",
       "99438  83c1379a015df1e13d02aae0204711ab  1aa71eb042121263aafbe80c1b562c9c   \n",
       "99439  11c177c8e97725db2631073c19f07b62  b331b74b18dc79bcdf6532d51e1637c1   \n",
       "99440  66dea50a8b16d9b4dee7af250b4be1a5  edb027a75a1449115f6b43211ae02a24   \n",
       "\n",
       "      order_status order_purchase_date order_purchase_time  \\\n",
       "0        delivered          2017-10-02            10:56:33   \n",
       "1        delivered          2018-07-24            20:41:37   \n",
       "2        delivered          2018-08-08            08:38:49   \n",
       "3        delivered          2017-11-18            19:28:06   \n",
       "4        delivered          2018-02-13            21:18:39   \n",
       "...            ...                 ...                 ...   \n",
       "99436    delivered          2017-03-09            09:54:05   \n",
       "99437    delivered          2018-02-06            12:58:58   \n",
       "99438    delivered          2017-08-27            14:46:43   \n",
       "99439    delivered          2018-01-08            21:28:27   \n",
       "99440    delivered          2018-03-08            20:57:30   \n",
       "\n",
       "       order_dt_estimated_declared  order_dt_decalared_customer_carrier  \\\n",
       "0                         7.107488                             6.062650   \n",
       "1                         5.355729                            12.039410   \n",
       "2                        17.245498                             9.178113   \n",
       "3                        12.980069                             9.450498   \n",
       "4                         9.238171                             1.937824   \n",
       "...                            ...                                  ...   \n",
       "99436                    10.369433                             7.159699   \n",
       "99437                     1.265324                            20.760579   \n",
       "99438                     5.524803                            23.605451   \n",
       "99439                    20.018819                            13.331840   \n",
       "99440                    17.452431                             6.622581   \n",
       "\n",
       "        price  freight_value  payment_installments payment_type  \\\n",
       "0       29.99           8.72                   1.0      voucher   \n",
       "1      118.70          22.76                   1.0       boleto   \n",
       "2      159.90          19.22                   3.0  credit_card   \n",
       "3       45.00          27.20                   1.0  credit_card   \n",
       "4       19.90           8.72                   1.0  credit_card   \n",
       "...       ...            ...                   ...          ...   \n",
       "99436   72.00          13.08                   3.0  credit_card   \n",
       "99437  174.90          20.10                   3.0  credit_card   \n",
       "99438  205.99          65.02                   5.0  credit_card   \n",
       "99439  359.98          81.18                   4.0  credit_card   \n",
       "99440   68.50          18.36                   1.0   debit_card   \n",
       "\n",
       "       nb_payment_type  count_change_scores  review_score  count_review  \\\n",
       "0                  2.0                    1           4.0             1   \n",
       "1                  1.0                    1           4.0             1   \n",
       "2                  1.0                    1           5.0             1   \n",
       "3                  1.0                    1           5.0             1   \n",
       "4                  1.0                    1           5.0             1   \n",
       "...                ...                  ...           ...           ...   \n",
       "99436              1.0                    1           5.0             1   \n",
       "99437              1.0                    1           4.0             1   \n",
       "99438              1.0                    1           5.0             1   \n",
       "99439              1.0                    1           2.0             1   \n",
       "99440              1.0                    1           5.0             1   \n",
       "\n",
       "       count_comment_title  count_comment_message  \n",
       "0                        0                      1  \n",
       "1                        1                      1  \n",
       "2                        0                      0  \n",
       "3                        0                      1  \n",
       "4                        0                      0  \n",
       "...                    ...                    ...  \n",
       "99436                    0                      0  \n",
       "99437                    0                      1  \n",
       "99438                    0                      1  \n",
       "99439                    0                      1  \n",
       "99440                    0                      0  \n",
       "\n",
       "[99441 rows x 17 columns]"
      ]
     },
     "execution_count": 39,
     "metadata": {},
     "output_type": "execute_result"
    }
   ],
   "source": [
    "my_orders"
   ]
  },
  {
   "cell_type": "markdown",
   "id": "8f7e4e9d",
   "metadata": {},
   "source": [
    "Possible amélioration : \n",
    "* regarder dans les messages de review pourquoi les clients sont satisfaits/non satisfaits\n",
    "* prendre en compte la temporalité des commentaires\n",
    "\n",
    "\n",
    "## 1.3 Les produits"
   ]
  },
  {
   "cell_type": "code",
   "execution_count": null,
   "id": "106034b5",
   "metadata": {},
   "outputs": [],
   "source": []
  },
  {
   "cell_type": "code",
   "execution_count": null,
   "id": "f6ef6510",
   "metadata": {},
   "outputs": [],
   "source": []
  },
  {
   "cell_type": "markdown",
   "id": "6f09a48b",
   "metadata": {},
   "source": [
    "## 1.x Lien entre les tables :"
   ]
  },
  {
   "cell_type": "code",
   "execution_count": 35,
   "id": "8f6af830",
   "metadata": {},
   "outputs": [],
   "source": [
    "# sellers, products, orders, order_reviews, \n",
    "# order_items, geolocation, customers\n",
    "\n",
    "## customer-order\n",
    "customer_order = pd.merge(customers[[\"customer_unique_id\",\"customer_id\"]], \n",
    "    orders[[\"customer_id\",\"order_id\"]], \n",
    "    on = \"customer_id\", how = 'right')\n"
   ]
  },
  {
   "cell_type": "code",
   "execution_count": 36,
   "id": "55d201be",
   "metadata": {
    "scrolled": true
   },
   "outputs": [
    {
     "data": {
      "text/html": [
       "<div>\n",
       "<style scoped>\n",
       "    .dataframe tbody tr th:only-of-type {\n",
       "        vertical-align: middle;\n",
       "    }\n",
       "\n",
       "    .dataframe tbody tr th {\n",
       "        vertical-align: top;\n",
       "    }\n",
       "\n",
       "    .dataframe thead th {\n",
       "        text-align: right;\n",
       "    }\n",
       "</style>\n",
       "<table border=\"1\" class=\"dataframe\">\n",
       "  <thead>\n",
       "    <tr style=\"text-align: right;\">\n",
       "      <th></th>\n",
       "      <th>customer_unique_id</th>\n",
       "      <th>customer_id</th>\n",
       "    </tr>\n",
       "  </thead>\n",
       "  <tbody>\n",
       "    <tr>\n",
       "      <th>0</th>\n",
       "      <td>861eff4711a542e4b93843c6dd7febb0</td>\n",
       "      <td>06b8999e2fba1a1fbc88172c00ba8bc7</td>\n",
       "    </tr>\n",
       "    <tr>\n",
       "      <th>1</th>\n",
       "      <td>290c77bc529b7ac935b93aa66c333dc3</td>\n",
       "      <td>18955e83d337fd6b2def6b18a428ac77</td>\n",
       "    </tr>\n",
       "    <tr>\n",
       "      <th>2</th>\n",
       "      <td>060e732b5b29e8181a18229c7b0b2b5e</td>\n",
       "      <td>4e7b3e00288586ebd08712fdd0374a03</td>\n",
       "    </tr>\n",
       "    <tr>\n",
       "      <th>3</th>\n",
       "      <td>259dac757896d24d7702b9acbbff3f3c</td>\n",
       "      <td>b2b6027bc5c5109e529d4dc6358b12c3</td>\n",
       "    </tr>\n",
       "    <tr>\n",
       "      <th>4</th>\n",
       "      <td>345ecd01c38d18a9036ed96c73b8d066</td>\n",
       "      <td>4f2d8ab171c80ec8364f7c12e35b23ad</td>\n",
       "    </tr>\n",
       "    <tr>\n",
       "      <th>...</th>\n",
       "      <td>...</td>\n",
       "      <td>...</td>\n",
       "    </tr>\n",
       "    <tr>\n",
       "      <th>99436</th>\n",
       "      <td>1a29b476fee25c95fbafc67c5ac95cf8</td>\n",
       "      <td>17ddf5dd5d51696bb3d7c6291687be6f</td>\n",
       "    </tr>\n",
       "    <tr>\n",
       "      <th>99437</th>\n",
       "      <td>d52a67c98be1cf6a5c84435bd38d095d</td>\n",
       "      <td>e7b71a9017aa05c9a7fd292d714858e8</td>\n",
       "    </tr>\n",
       "    <tr>\n",
       "      <th>99438</th>\n",
       "      <td>e9f50caf99f032f0bf3c55141f019d99</td>\n",
       "      <td>5e28dfe12db7fb50a4b2f691faecea5e</td>\n",
       "    </tr>\n",
       "    <tr>\n",
       "      <th>99439</th>\n",
       "      <td>73c2643a0a458b49f58cea58833b192e</td>\n",
       "      <td>56b18e2166679b8a959d72dd06da27f9</td>\n",
       "    </tr>\n",
       "    <tr>\n",
       "      <th>99440</th>\n",
       "      <td>84732c5050c01db9b23e19ba39899398</td>\n",
       "      <td>274fa6071e5e17fe303b9748641082c8</td>\n",
       "    </tr>\n",
       "  </tbody>\n",
       "</table>\n",
       "<p>99441 rows × 2 columns</p>\n",
       "</div>"
      ],
      "text/plain": [
       "                     customer_unique_id                       customer_id\n",
       "0      861eff4711a542e4b93843c6dd7febb0  06b8999e2fba1a1fbc88172c00ba8bc7\n",
       "1      290c77bc529b7ac935b93aa66c333dc3  18955e83d337fd6b2def6b18a428ac77\n",
       "2      060e732b5b29e8181a18229c7b0b2b5e  4e7b3e00288586ebd08712fdd0374a03\n",
       "3      259dac757896d24d7702b9acbbff3f3c  b2b6027bc5c5109e529d4dc6358b12c3\n",
       "4      345ecd01c38d18a9036ed96c73b8d066  4f2d8ab171c80ec8364f7c12e35b23ad\n",
       "...                                 ...                               ...\n",
       "99436  1a29b476fee25c95fbafc67c5ac95cf8  17ddf5dd5d51696bb3d7c6291687be6f\n",
       "99437  d52a67c98be1cf6a5c84435bd38d095d  e7b71a9017aa05c9a7fd292d714858e8\n",
       "99438  e9f50caf99f032f0bf3c55141f019d99  5e28dfe12db7fb50a4b2f691faecea5e\n",
       "99439  73c2643a0a458b49f58cea58833b192e  56b18e2166679b8a959d72dd06da27f9\n",
       "99440  84732c5050c01db9b23e19ba39899398  274fa6071e5e17fe303b9748641082c8\n",
       "\n",
       "[99441 rows x 2 columns]"
      ]
     },
     "execution_count": 36,
     "metadata": {},
     "output_type": "execute_result"
    }
   ],
   "source": [
    "customers[[\"customer_unique_id\",\"customer_id\"]]"
   ]
  },
  {
   "cell_type": "code",
   "execution_count": null,
   "id": "9e16f20c",
   "metadata": {},
   "outputs": [],
   "source": []
  },
  {
   "cell_type": "code",
   "execution_count": null,
   "id": "ab852490",
   "metadata": {},
   "outputs": [],
   "source": []
  },
  {
   "cell_type": "code",
   "execution_count": null,
   "id": "eb530865",
   "metadata": {},
   "outputs": [],
   "source": []
  },
  {
   "cell_type": "code",
   "execution_count": null,
   "id": "b276374f",
   "metadata": {},
   "outputs": [],
   "source": []
  },
  {
   "cell_type": "code",
   "execution_count": null,
   "id": "18e0c95d",
   "metadata": {},
   "outputs": [],
   "source": []
  },
  {
   "cell_type": "code",
   "execution_count": null,
   "id": "a1fc51fa",
   "metadata": {},
   "outputs": [],
   "source": []
  },
  {
   "cell_type": "code",
   "execution_count": null,
   "id": "69cac7a1",
   "metadata": {},
   "outputs": [],
   "source": []
  },
  {
   "cell_type": "code",
   "execution_count": null,
   "id": "ab7a5577",
   "metadata": {},
   "outputs": [],
   "source": []
  },
  {
   "cell_type": "code",
   "execution_count": null,
   "id": "c90131aa",
   "metadata": {},
   "outputs": [],
   "source": []
  },
  {
   "cell_type": "code",
   "execution_count": null,
   "id": "baf69285",
   "metadata": {},
   "outputs": [],
   "source": []
  },
  {
   "cell_type": "code",
   "execution_count": 37,
   "id": "d8b59280",
   "metadata": {},
   "outputs": [
    {
     "ename": "NameError",
     "evalue": "name 'XT' is not defined",
     "output_type": "error",
     "traceback": [
      "\u001b[0;31m---------------------------------------------------------------------------\u001b[0m",
      "\u001b[0;31mNameError\u001b[0m                                 Traceback (most recent call last)",
      "\u001b[0;32m/tmp/ipykernel_43851/2107791848.py\u001b[0m in \u001b[0;36m<module>\u001b[0;34m\u001b[0m\n\u001b[1;32m      1\u001b[0m \u001b[0mpca\u001b[0m \u001b[0;34m=\u001b[0m \u001b[0msklearn\u001b[0m\u001b[0;34m.\u001b[0m\u001b[0mdecomposition\u001b[0m\u001b[0;34m.\u001b[0m\u001b[0mPCA\u001b[0m\u001b[0;34m(\u001b[0m\u001b[0;36m2\u001b[0m\u001b[0;34m)\u001b[0m\u001b[0;34m\u001b[0m\u001b[0;34m\u001b[0m\u001b[0m\n\u001b[0;32m----> 2\u001b[0;31m \u001b[0mpca\u001b[0m\u001b[0;34m.\u001b[0m\u001b[0mfit\u001b[0m\u001b[0;34m(\u001b[0m\u001b[0mXT\u001b[0m\u001b[0;34m)\u001b[0m\u001b[0;34m\u001b[0m\u001b[0;34m\u001b[0m\u001b[0m\n\u001b[0m\u001b[1;32m      3\u001b[0m \u001b[0mpca\u001b[0m\u001b[0;34m.\u001b[0m\u001b[0mcomponents_\u001b[0m\u001b[0;34m\u001b[0m\u001b[0;34m\u001b[0m\u001b[0m\n",
      "\u001b[0;31mNameError\u001b[0m: name 'XT' is not defined"
     ]
    }
   ],
   "source": [
    "pca = sklearn.decomposition.PCA(2)\n",
    "pca.fit(XT)\n",
    "pca.components_"
   ]
  },
  {
   "cell_type": "code",
   "execution_count": null,
   "id": "155341b3",
   "metadata": {},
   "outputs": [],
   "source": []
  },
  {
   "cell_type": "code",
   "execution_count": null,
   "id": "bbc6b643",
   "metadata": {},
   "outputs": [],
   "source": [
    "\n",
    "def plot_line(x,y,f=1):\n",
    "    x1 = f*min(x,0)\n",
    "    x2 = f*max(x,0)\n",
    "    y1 = f*min(y,0)\n",
    "    y2 = f*max(y,0)\n",
    "    print([x1,y1],[x2,y2])\n",
    "    plt.plot([x1,y1],[x2,y2])\n",
    "    \n",
    "X = np.array([[1,1],[3,1],[1,2],[2,0]]).transpose()\n",
    "XT = X.transpose()\n",
    "\n",
    "\n",
    "XXT = np.dot(X,XT)\n",
    "XXT_norm = XXT/np.linalg.norm(XXT)\n",
    "np.linalg.eig(XXT)"
   ]
  },
  {
   "cell_type": "code",
   "execution_count": null,
   "id": "488b1021",
   "metadata": {
    "scrolled": true
   },
   "outputs": [],
   "source": [
    "plt.scatter(XT[:,0],XT[:,1])\n",
    "# plt.plot([-0.7352,0],[0,0.6779])\n",
    "\n",
    "\n",
    "plot_line(x = 0, y = 1,f = 1)\n",
    "\n"
   ]
  }
 ],
 "metadata": {
  "kernelspec": {
   "display_name": "Python 3 (ipykernel)",
   "language": "python",
   "name": "python3"
  },
  "language_info": {
   "codemirror_mode": {
    "name": "ipython",
    "version": 3
   },
   "file_extension": ".py",
   "mimetype": "text/x-python",
   "name": "python",
   "nbconvert_exporter": "python",
   "pygments_lexer": "ipython3",
   "version": "3.9.5"
  }
 },
 "nbformat": 4,
 "nbformat_minor": 5
}
