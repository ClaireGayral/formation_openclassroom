{
 "cells": [
  {
   "cell_type": "markdown",
   "id": "95d2ee9e",
   "metadata": {},
   "source": [
    "# Présentation du projet : \n",
    "\n",
    "## Contexte \n",
    "\n",
    "Vous êtes consultant pour Olist, une solution de vente sur les marketplaces en ligne.\n",
    "\n",
    "Olist souhaite que vous fournissiez à ses équipes d'e-commerce une segmentation des clients qu’elles pourront utiliser au quotidien pour leurs campagnes de communication.\n",
    "\n",
    "Votre objectif est de comprendre les différents types d’utilisateurs grâce à leur comportement et à leurs données personnelles.\n",
    "\n",
    "Vous devrez fournir à l’équipe marketing une description actionable de votre segmentation et de sa logique sous-jacente pour une utilisation optimale, ainsi qu’une proposition de contrat de maintenance basée sur une analyse de la stabilité des segments au cours du temps.\n",
    "\n",
    "\n",
    "## Données \n",
    "\n",
    "Pour cette mission, Olist vous fournit une base de données anonymisée comportant des informations sur l’historique de commandes, les produits achetés, les commentaires de satisfaction, et la localisation des clients depuis janvier 2017.\n",
    "\n",
    "## Mission\n",
    "\n",
    "Votre mission est d’aider les équipes d’Olist à comprendre les différents types d'utilisateurs. Vous utiliserez donc des méthodes non supervisées pour regrouper ensemble des clients de profils similaires. Ces catégories pourront être utilisées par l’équipe marketing pour mieux communiquer.\n",
    "\n",
    "Pour des raisons de confidentialité, Olist ne fournit pas beaucoup de données, à vous de fouiller dans celles dont vous disposez et de créer les meilleures features pour les exploiter.\n",
    "\n",
    "Enfin, votre client, Olist, a spécifié sa demande ainsi :\n",
    "\n",
    "*La segmentation proposée doit être exploitable et facile d’utilisation pour l’équipe marketing.\n",
    "Vous évaluerez la fréquence à laquelle la segmentation doit être mise à jour, afin de pouvoir effectuer un devis de contrat de maintenance.\n",
    "Le code fourni doit respecter la convention PEP8, pour être utilisable par Olist.*\n",
    "\n",
    "\n",
    "# Ressources : \n",
    "\n",
    "## Les données et leur description :\n",
    "\n",
    "Site d'Olist (en portugais) : https://olist.com/\n",
    "\n",
    "Adresse des données : https://www.kaggle.com/olistbr/brazilian-ecommerce\n",
    "\n",
    "Convention PEP8 : https://www.python.org/dev/peps/pep-0008/\n"
   ]
  },
  {
   "cell_type": "code",
   "execution_count": 1,
   "id": "aa249ee0",
   "metadata": {},
   "outputs": [],
   "source": [
    "import pandas as pd\n",
    "import numpy as np\n",
    "import matplotlib.pyplot as plt\n",
    "import seaborn as sns\n",
    "\n",
    "data_path = \"/home/clairegayral/Documents/openclassroom/data/P4/\"\n",
    "res_path = \"/home/clairegayral/Documents/openclassroom/res/P4/\"\n",
    "\n",
    "## my .py : \n",
    "from script00_lists_of_vars import *\n",
    "from script01_duplicates import *\n",
    "from script02_missing_values_treatment import *\n",
    "from script03_univariate_analysis import *\n",
    "from script04_multivariate_analysis import *\n",
    "\n",
    "from sklearn import model_selection \n",
    "from sklearn import preprocessing\n",
    "from sklearn import neighbors\n",
    "from sklearn.impute import KNNImputer\n",
    "from sklearn import linear_model\n"
   ]
  },
  {
   "cell_type": "markdown",
   "id": "d549b0af",
   "metadata": {},
   "source": [
    "# Première lecture des données :"
   ]
  },
  {
   "cell_type": "code",
   "execution_count": 2,
   "id": "08b41f47",
   "metadata": {},
   "outputs": [],
   "source": [
    "product_category_name_translation = pd.read_csv(data_path \n",
    "                        + \"product_category_name_translation.csv\")\n",
    "sellers = pd.read_csv(data_path + \"olist_sellers_dataset.csv\")\n",
    "products = pd.read_csv(data_path + \"olist_products_dataset.csv\")\n",
    "orders = pd.read_csv(data_path + \"olist_orders_dataset.csv\")\n",
    "order_reviews = pd.read_csv(data_path + \"olist_order_reviews_dataset.csv\")\n",
    "order_payments = pd.read_csv(data_path + \"olist_order_payments_dataset.csv\")\n",
    "order_items = pd.read_csv(data_path + \"olist_order_items_dataset.csv\")\n",
    "geolocation = pd.read_csv(data_path + \"olist_geolocation_dataset.csv\")\n",
    "customers = pd.read_csv(data_path + \"olist_customers_dataset.csv\")\n"
   ]
  },
  {
   "cell_type": "markdown",
   "id": "c8d455fa",
   "metadata": {},
   "source": [
    "Je commence par regarder les liens entre les tables : \n",
    "![alt text][link_image]\n",
    "\n",
    "[//]: # (Image References)\n",
    "[link_image]:kaggle_graph_link_datasets.png \"table link kaggle\" \n",
    "\n",
    "\n",
    "\n",
    "## 1.1 Table des clients \n",
    "Ce qui nous intéresse est une classification des clients : commençons donc par explorer cette table seule. "
   ]
  },
  {
   "cell_type": "code",
   "execution_count": 3,
   "id": "4acde080",
   "metadata": {},
   "outputs": [
    {
     "name": "stdout",
     "output_type": "stream",
     "text": [
      "shape :  (99441, 5)\n",
      "number of NaNs : 0 \n",
      "\n",
      "<class 'pandas.core.frame.DataFrame'>\n",
      "RangeIndex: 99441 entries, 0 to 99440\n",
      "Data columns (total 5 columns):\n",
      " #   Column                    Non-Null Count  Dtype \n",
      "---  ------                    --------------  ----- \n",
      " 0   customer_id               99441 non-null  object\n",
      " 1   customer_unique_id        99441 non-null  object\n",
      " 2   customer_zip_code_prefix  99441 non-null  int64 \n",
      " 3   customer_city             99441 non-null  object\n",
      " 4   customer_state            99441 non-null  object\n",
      "dtypes: int64(1), object(4)\n",
      "memory usage: 3.8+ MB\n",
      "None\n"
     ]
    },
    {
     "data": {
      "text/html": [
       "<div>\n",
       "<style scoped>\n",
       "    .dataframe tbody tr th:only-of-type {\n",
       "        vertical-align: middle;\n",
       "    }\n",
       "\n",
       "    .dataframe tbody tr th {\n",
       "        vertical-align: top;\n",
       "    }\n",
       "\n",
       "    .dataframe thead th {\n",
       "        text-align: right;\n",
       "    }\n",
       "</style>\n",
       "<table border=\"1\" class=\"dataframe\">\n",
       "  <thead>\n",
       "    <tr style=\"text-align: right;\">\n",
       "      <th></th>\n",
       "      <th>customer_id</th>\n",
       "      <th>customer_unique_id</th>\n",
       "      <th>customer_zip_code_prefix</th>\n",
       "      <th>customer_city</th>\n",
       "      <th>customer_state</th>\n",
       "    </tr>\n",
       "  </thead>\n",
       "  <tbody>\n",
       "    <tr>\n",
       "      <th>0</th>\n",
       "      <td>06b8999e2fba1a1fbc88172c00ba8bc7</td>\n",
       "      <td>861eff4711a542e4b93843c6dd7febb0</td>\n",
       "      <td>14409</td>\n",
       "      <td>franca</td>\n",
       "      <td>SP</td>\n",
       "    </tr>\n",
       "    <tr>\n",
       "      <th>1</th>\n",
       "      <td>18955e83d337fd6b2def6b18a428ac77</td>\n",
       "      <td>290c77bc529b7ac935b93aa66c333dc3</td>\n",
       "      <td>9790</td>\n",
       "      <td>sao bernardo do campo</td>\n",
       "      <td>SP</td>\n",
       "    </tr>\n",
       "  </tbody>\n",
       "</table>\n",
       "</div>"
      ],
      "text/plain": [
       "                        customer_id                customer_unique_id  \\\n",
       "0  06b8999e2fba1a1fbc88172c00ba8bc7  861eff4711a542e4b93843c6dd7febb0   \n",
       "1  18955e83d337fd6b2def6b18a428ac77  290c77bc529b7ac935b93aa66c333dc3   \n",
       "\n",
       "   customer_zip_code_prefix          customer_city customer_state  \n",
       "0                     14409                 franca             SP  \n",
       "1                      9790  sao bernardo do campo             SP  "
      ]
     },
     "execution_count": 3,
     "metadata": {},
     "output_type": "execute_result"
    }
   ],
   "source": [
    "print(\"shape : \", customers.shape)\n",
    "print(\"number of NaNs :\",customers.isna().sum().sum(),\"\\n\")\n",
    "print(customers.info())\n",
    "customers.head(2)"
   ]
  },
  {
   "cell_type": "markdown",
   "id": "def73d3f",
   "metadata": {
    "variables": {
     "customers.shape[0]": "99441",
     "len(customers[\"customer_unique_id\"].value_counts())": "96096"
    }
   },
   "source": [
    "Il y a donc au total {{customers.shape[0]}} commandes, passées par  {{len(customers[\"customer_unique_id\"].value_counts())}} clients différents. Cette table donne également 3 informations sur la localisation du client (zip code, city, state), contenues dans des variables catégorielles."
   ]
  },
  {
   "cell_type": "markdown",
   "id": "b6afb405",
   "metadata": {},
   "source": [
    "Petite vérification : Est-ce que les \"customer_unique_id\" ont bien tous une adresse unique ? "
   ]
  },
  {
   "cell_type": "code",
   "execution_count": 4,
   "id": "3483e11d",
   "metadata": {},
   "outputs": [
    {
     "data": {
      "text/html": [
       "<div>\n",
       "<style scoped>\n",
       "    .dataframe tbody tr th:only-of-type {\n",
       "        vertical-align: middle;\n",
       "    }\n",
       "\n",
       "    .dataframe tbody tr th {\n",
       "        vertical-align: top;\n",
       "    }\n",
       "\n",
       "    .dataframe thead th {\n",
       "        text-align: right;\n",
       "    }\n",
       "</style>\n",
       "<table border=\"1\" class=\"dataframe\">\n",
       "  <thead>\n",
       "    <tr style=\"text-align: right;\">\n",
       "      <th></th>\n",
       "      <th>customer_id</th>\n",
       "      <th>customer_unique_id</th>\n",
       "      <th>customer_zip_code_prefix</th>\n",
       "      <th>customer_city</th>\n",
       "      <th>customer_state</th>\n",
       "    </tr>\n",
       "  </thead>\n",
       "  <tbody>\n",
       "    <tr>\n",
       "      <th>87012</th>\n",
       "      <td>d95f60d70d9ea9a7fe37c53c931940bb</td>\n",
       "      <td>004b45ec5c64187465168251cd1c9c2f</td>\n",
       "      <td>57035</td>\n",
       "      <td>maceio</td>\n",
       "      <td>AL</td>\n",
       "    </tr>\n",
       "    <tr>\n",
       "      <th>72451</th>\n",
       "      <td>49cf243e0d353cd418ca77868e24a670</td>\n",
       "      <td>004b45ec5c64187465168251cd1c9c2f</td>\n",
       "      <td>57055</td>\n",
       "      <td>maceio</td>\n",
       "      <td>AL</td>\n",
       "    </tr>\n",
       "    <tr>\n",
       "      <th>61403</th>\n",
       "      <td>f530197ea86ced9488a03d055e118ebf</td>\n",
       "      <td>0058f300f57d7b93c477a131a59b36c3</td>\n",
       "      <td>40731</td>\n",
       "      <td>salvador</td>\n",
       "      <td>BA</td>\n",
       "    </tr>\n",
       "    <tr>\n",
       "      <th>36269</th>\n",
       "      <td>8ac44e9c15d396b8c3c7cbab0fff4536</td>\n",
       "      <td>0058f300f57d7b93c477a131a59b36c3</td>\n",
       "      <td>41370</td>\n",
       "      <td>salvador</td>\n",
       "      <td>BA</td>\n",
       "    </tr>\n",
       "    <tr>\n",
       "      <th>54038</th>\n",
       "      <td>e024c1515b1062b1e7e613f840c35ba3</td>\n",
       "      <td>012452d40dafae4df401bced74cdb490</td>\n",
       "      <td>3984</td>\n",
       "      <td>sao paulo</td>\n",
       "      <td>SP</td>\n",
       "    </tr>\n",
       "    <tr>\n",
       "      <th>45307</th>\n",
       "      <td>f8e05a045de09e7855c9df3bb8815e0e</td>\n",
       "      <td>012452d40dafae4df401bced74cdb490</td>\n",
       "      <td>3220</td>\n",
       "      <td>sao paulo</td>\n",
       "      <td>SP</td>\n",
       "    </tr>\n",
       "    <tr>\n",
       "      <th>91727</th>\n",
       "      <td>483468a56a54dbbbf8f2b2354cc8a729</td>\n",
       "      <td>0178b244a5c281fb2ade54038dd4b161</td>\n",
       "      <td>12518</td>\n",
       "      <td>guaratingueta</td>\n",
       "      <td>SP</td>\n",
       "    </tr>\n",
       "    <tr>\n",
       "      <th>57218</th>\n",
       "      <td>ea6ba2b2e27f7efea73bdeab7fd6e4a0</td>\n",
       "      <td>0178b244a5c281fb2ade54038dd4b161</td>\n",
       "      <td>14960</td>\n",
       "      <td>novo horizonte</td>\n",
       "      <td>SP</td>\n",
       "    </tr>\n",
       "    <tr>\n",
       "      <th>82312</th>\n",
       "      <td>026ca919d538ee454a6d43fc8bd01de0</td>\n",
       "      <td>018b5a7502c30eb5f230f1b4eb23a156</td>\n",
       "      <td>74936</td>\n",
       "      <td>aparecida de goiania</td>\n",
       "      <td>GO</td>\n",
       "    </tr>\n",
       "    <tr>\n",
       "      <th>64800</th>\n",
       "      <td>b98e0d5aca458a26a6ff30fee0416ca2</td>\n",
       "      <td>018b5a7502c30eb5f230f1b4eb23a156</td>\n",
       "      <td>74976</td>\n",
       "      <td>aparecida de goiania</td>\n",
       "      <td>GO</td>\n",
       "    </tr>\n",
       "  </tbody>\n",
       "</table>\n",
       "</div>"
      ],
      "text/plain": [
       "                            customer_id                customer_unique_id  \\\n",
       "87012  d95f60d70d9ea9a7fe37c53c931940bb  004b45ec5c64187465168251cd1c9c2f   \n",
       "72451  49cf243e0d353cd418ca77868e24a670  004b45ec5c64187465168251cd1c9c2f   \n",
       "61403  f530197ea86ced9488a03d055e118ebf  0058f300f57d7b93c477a131a59b36c3   \n",
       "36269  8ac44e9c15d396b8c3c7cbab0fff4536  0058f300f57d7b93c477a131a59b36c3   \n",
       "54038  e024c1515b1062b1e7e613f840c35ba3  012452d40dafae4df401bced74cdb490   \n",
       "45307  f8e05a045de09e7855c9df3bb8815e0e  012452d40dafae4df401bced74cdb490   \n",
       "91727  483468a56a54dbbbf8f2b2354cc8a729  0178b244a5c281fb2ade54038dd4b161   \n",
       "57218  ea6ba2b2e27f7efea73bdeab7fd6e4a0  0178b244a5c281fb2ade54038dd4b161   \n",
       "82312  026ca919d538ee454a6d43fc8bd01de0  018b5a7502c30eb5f230f1b4eb23a156   \n",
       "64800  b98e0d5aca458a26a6ff30fee0416ca2  018b5a7502c30eb5f230f1b4eb23a156   \n",
       "\n",
       "       customer_zip_code_prefix         customer_city customer_state  \n",
       "87012                     57035                maceio             AL  \n",
       "72451                     57055                maceio             AL  \n",
       "61403                     40731              salvador             BA  \n",
       "36269                     41370              salvador             BA  \n",
       "54038                      3984             sao paulo             SP  \n",
       "45307                      3220             sao paulo             SP  \n",
       "91727                     12518         guaratingueta             SP  \n",
       "57218                     14960        novo horizonte             SP  \n",
       "82312                     74936  aparecida de goiania             GO  \n",
       "64800                     74976  aparecida de goiania             GO  "
      ]
     },
     "execution_count": 4,
     "metadata": {},
     "output_type": "execute_result"
    }
   ],
   "source": [
    "unique_id = customers.iloc[:,1:]#[\"customer_unique_id\"]\n",
    "unique_id = unique_id.drop_duplicates(ignore_index = False)\n",
    "unique_id = unique_id[\"customer_unique_id\"]\n",
    "customer_id_non_unique = unique_id.value_counts()>1\n",
    "customer_id_non_unique = unique_id.value_counts()[customer_id_non_unique]\n",
    "customer_id_non_unique = customer_id_non_unique.index\n",
    "customer_id_non_unique = unique_id.isin(customer_id_non_unique)\n",
    "customer_id_non_unique = unique_id[customer_id_non_unique].index\n",
    "customers_non_unique_commande = customers.loc[customer_id_non_unique]\n",
    "customers_non_unique_commande.sort_values(by=\"customer_unique_id\").head(10)"
   ]
  },
  {
   "cell_type": "markdown",
   "id": "acb2022c",
   "metadata": {},
   "source": [
    "Visiblement non ! Je pense qu'il sera donc préférable d'utiliser la table ```geolocation``` pour accéder à ces information. Vérifions si cette table est plus propre : "
   ]
  },
  {
   "cell_type": "code",
   "execution_count": 5,
   "id": "28c5bd10",
   "metadata": {},
   "outputs": [
    {
     "name": "stdout",
     "output_type": "stream",
     "text": [
      "\t Value counts of city for zip code = 71065: \n",
      " brasilia    75\n",
      "brasília    10\n",
      "guara        6\n",
      "Name: geolocation_city, dtype: int64\n",
      "\n",
      "\t Firsts 5 value counts of zip codes for city = maceio: \n",
      " 57035    400\n",
      "57036    123\n",
      "57052     99\n",
      "57025     75\n",
      "57010     74\n",
      "Name: geolocation_zip_code_prefix, dtype: int64\n",
      "\n",
      "\t geolocation dataframe head :\n"
     ]
    },
    {
     "data": {
      "text/html": [
       "<div>\n",
       "<style scoped>\n",
       "    .dataframe tbody tr th:only-of-type {\n",
       "        vertical-align: middle;\n",
       "    }\n",
       "\n",
       "    .dataframe tbody tr th {\n",
       "        vertical-align: top;\n",
       "    }\n",
       "\n",
       "    .dataframe thead th {\n",
       "        text-align: right;\n",
       "    }\n",
       "</style>\n",
       "<table border=\"1\" class=\"dataframe\">\n",
       "  <thead>\n",
       "    <tr style=\"text-align: right;\">\n",
       "      <th></th>\n",
       "      <th>geolocation_zip_code_prefix</th>\n",
       "      <th>geolocation_lat</th>\n",
       "      <th>geolocation_lng</th>\n",
       "      <th>geolocation_city</th>\n",
       "      <th>geolocation_state</th>\n",
       "    </tr>\n",
       "  </thead>\n",
       "  <tbody>\n",
       "    <tr>\n",
       "      <th>0</th>\n",
       "      <td>1037</td>\n",
       "      <td>-23.545621</td>\n",
       "      <td>-46.639292</td>\n",
       "      <td>sao paulo</td>\n",
       "      <td>SP</td>\n",
       "    </tr>\n",
       "    <tr>\n",
       "      <th>1</th>\n",
       "      <td>1046</td>\n",
       "      <td>-23.546081</td>\n",
       "      <td>-46.644820</td>\n",
       "      <td>sao paulo</td>\n",
       "      <td>SP</td>\n",
       "    </tr>\n",
       "  </tbody>\n",
       "</table>\n",
       "</div>"
      ],
      "text/plain": [
       "   geolocation_zip_code_prefix  geolocation_lat  geolocation_lng  \\\n",
       "0                         1037       -23.545621       -46.639292   \n",
       "1                         1046       -23.546081       -46.644820   \n",
       "\n",
       "  geolocation_city geolocation_state  \n",
       "0        sao paulo                SP  \n",
       "1        sao paulo                SP  "
      ]
     },
     "execution_count": 5,
     "metadata": {},
     "output_type": "execute_result"
    }
   ],
   "source": [
    "print(\"\\t Value counts of city for zip code = 71065: \\n\",\n",
    "    geolocation.loc[geolocation[\"geolocation_zip_code_prefix\"] == 71065,\n",
    "                    \"geolocation_city\"].value_counts())\n",
    "print(\"\\n\\t Firsts 5 value counts of zip codes for city = maceio: \\n\",\n",
    "      geolocation.loc[geolocation[\"geolocation_city\"] == \"maceio\",\n",
    "                      \"geolocation_zip_code_prefix\"].value_counts()[:5])\n",
    "\n",
    "print(\"\\n\\t geolocation dataframe head :\")\n",
    "geolocation.head(2)"
   ]
  },
  {
   "cell_type": "markdown",
   "id": "0938e28e",
   "metadata": {},
   "source": [
    "Eh bien non ! Il va y avoir à faire un prétraitemement sur ces variables catégorielles. Il me semble que plusieurs options sont possibles :\n",
    "* nettoyer les villes, donc nettoyage de texte, comme enlever les accents, les espaces en trop, les majuscules ...\n",
    "* nettoyer les codes postaux : rassembler par ville ? \n",
    "* faire appel à la table ```geolocation``` pour utiliser les coordonnées géographiques des clients (latitude et longitude). \n",
    "\n",
    "Dans une première intention, je propose de n'utiliser que les codes postaux (zip code) comme proxy pour la localisation, ou même utiliser l'état de résidence (customer state). "
   ]
  },
  {
   "cell_type": "code",
   "execution_count": 6,
   "id": "7fec2bbb",
   "metadata": {},
   "outputs": [
    {
     "data": {
      "image/png": "[encoded data removed]",
      "text/plain": [
       "<Figure size 864x288 with 2 Axes>"
      ]
     },
     "metadata": {
      "needs_background": "light"
     },
     "output_type": "display_data"
    }
   ],
   "source": [
    "plt.figure(figsize=(12,4))\n",
    "## removing duplicate customers (keep the 1st) :\n",
    "tmp = customers.drop_duplicates(subset=\"customer_unique_id\")\n",
    "\n",
    "plt.subplot(1,2,1)\n",
    "sns.histplot(tmp[\"customer_zip_code_prefix\"])\n",
    "plt.xticks(rotation=90)\n",
    "plt.title(\"Histogram of zip codes of customers\")\n",
    "\n",
    "## sort by customer state values counts : \n",
    "dummy = tmp[\"customer_state\"].value_counts().index\n",
    "dummy = pd.Series(dummy, name = 'customer_state').to_frame()\n",
    "tmp = pd.merge( tmp, dummy, on = \"customer_state\", how = 'right')\n",
    "\n",
    "plt.subplot(1,2,2)\n",
    "sns.histplot(tmp[\"customer_state\"])\n",
    "plt.xticks(rotation=90)\n",
    "plt.title(\"Histogram of state of customers\")\n",
    "plt.show()"
   ]
  },
  {
   "cell_type": "markdown",
   "id": "dd1f31e8",
   "metadata": {},
   "source": [
    "Une très grande majorité de clients sont dans l'état \"SP\" : a voir s'il on ne biaise pas les données en ne gardant que l'état. Les zip codes ont l'air répartis beaucoup plus homogènement, et me semblent donc à priori plus appropriés.\n",
    "\n",
    "\n",
    "## 1.2 Table des commandes\n",
    "\n",
    "### 1.2.1 Caractéristiques des commandes (orders)\n",
    "Ensuite, nous cherchons à classifier les clients selon leur consommation : regardons donc l'échelle \"commande\"."
   ]
  },
  {
   "cell_type": "code",
   "execution_count": 7,
   "id": "c749e5c3",
   "metadata": {},
   "outputs": [
    {
     "name": "stdout",
     "output_type": "stream",
     "text": [
      "shape :  (99441, 8)\n",
      "number of NaNs : 4908 \n",
      "\n",
      "delivered      96478\n",
      "shipped         1107\n",
      "canceled         625\n",
      "unavailable      609\n",
      "invoiced         314\n",
      "processing       301\n",
      "created            5\n",
      "approved           2\n",
      "Name: order_status, dtype: int64\n"
     ]
    },
    {
     "data": {
      "text/html": [
       "<div>\n",
       "<style scoped>\n",
       "    .dataframe tbody tr th:only-of-type {\n",
       "        vertical-align: middle;\n",
       "    }\n",
       "\n",
       "    .dataframe tbody tr th {\n",
       "        vertical-align: top;\n",
       "    }\n",
       "\n",
       "    .dataframe thead th {\n",
       "        text-align: right;\n",
       "    }\n",
       "</style>\n",
       "<table border=\"1\" class=\"dataframe\">\n",
       "  <thead>\n",
       "    <tr style=\"text-align: right;\">\n",
       "      <th></th>\n",
       "      <th>order_id</th>\n",
       "      <th>customer_id</th>\n",
       "      <th>order_status</th>\n",
       "      <th>order_purchase_timestamp</th>\n",
       "      <th>order_approved_at</th>\n",
       "      <th>order_delivered_carrier_date</th>\n",
       "      <th>order_delivered_customer_date</th>\n",
       "      <th>order_estimated_delivery_date</th>\n",
       "    </tr>\n",
       "  </thead>\n",
       "  <tbody>\n",
       "    <tr>\n",
       "      <th>0</th>\n",
       "      <td>e481f51cbdc54678b7cc49136f2d6af7</td>\n",
       "      <td>9ef432eb6251297304e76186b10a928d</td>\n",
       "      <td>delivered</td>\n",
       "      <td>2017-10-02 10:56:33</td>\n",
       "      <td>2017-10-02 11:07:15</td>\n",
       "      <td>2017-10-04 19:55:00</td>\n",
       "      <td>2017-10-10 21:25:13</td>\n",
       "      <td>2017-10-18 00:00:00</td>\n",
       "    </tr>\n",
       "    <tr>\n",
       "      <th>1</th>\n",
       "      <td>53cdb2fc8bc7dce0b6741e2150273451</td>\n",
       "      <td>b0830fb4747a6c6d20dea0b8c802d7ef</td>\n",
       "      <td>delivered</td>\n",
       "      <td>2018-07-24 20:41:37</td>\n",
       "      <td>2018-07-26 03:24:27</td>\n",
       "      <td>2018-07-26 14:31:00</td>\n",
       "      <td>2018-08-07 15:27:45</td>\n",
       "      <td>2018-08-13 00:00:00</td>\n",
       "    </tr>\n",
       "    <tr>\n",
       "      <th>2</th>\n",
       "      <td>47770eb9100c2d0c44946d9cf07ec65d</td>\n",
       "      <td>41ce2a54c0b03bf3443c3d931a367089</td>\n",
       "      <td>delivered</td>\n",
       "      <td>2018-08-08 08:38:49</td>\n",
       "      <td>2018-08-08 08:55:23</td>\n",
       "      <td>2018-08-08 13:50:00</td>\n",
       "      <td>2018-08-17 18:06:29</td>\n",
       "      <td>2018-09-04 00:00:00</td>\n",
       "    </tr>\n",
       "  </tbody>\n",
       "</table>\n",
       "</div>"
      ],
      "text/plain": [
       "                           order_id                       customer_id  \\\n",
       "0  e481f51cbdc54678b7cc49136f2d6af7  9ef432eb6251297304e76186b10a928d   \n",
       "1  53cdb2fc8bc7dce0b6741e2150273451  b0830fb4747a6c6d20dea0b8c802d7ef   \n",
       "2  47770eb9100c2d0c44946d9cf07ec65d  41ce2a54c0b03bf3443c3d931a367089   \n",
       "\n",
       "  order_status order_purchase_timestamp    order_approved_at  \\\n",
       "0    delivered      2017-10-02 10:56:33  2017-10-02 11:07:15   \n",
       "1    delivered      2018-07-24 20:41:37  2018-07-26 03:24:27   \n",
       "2    delivered      2018-08-08 08:38:49  2018-08-08 08:55:23   \n",
       "\n",
       "  order_delivered_carrier_date order_delivered_customer_date  \\\n",
       "0          2017-10-04 19:55:00           2017-10-10 21:25:13   \n",
       "1          2018-07-26 14:31:00           2018-08-07 15:27:45   \n",
       "2          2018-08-08 13:50:00           2018-08-17 18:06:29   \n",
       "\n",
       "  order_estimated_delivery_date  \n",
       "0           2017-10-18 00:00:00  \n",
       "1           2018-08-13 00:00:00  \n",
       "2           2018-09-04 00:00:00  "
      ]
     },
     "execution_count": 7,
     "metadata": {},
     "output_type": "execute_result"
    }
   ],
   "source": [
    "print(\"shape : \", orders.shape)\n",
    "print(\"number of NaNs :\",orders.isna().sum().sum(),\"\\n\")\n",
    "print(orders.order_status.value_counts())\n",
    "orders.head(3)"
   ]
  },
  {
   "cell_type": "markdown",
   "id": "e7657ce4",
   "metadata": {},
   "source": [
    "Cette table regroupe les informations de status de la commande : la date et l'heure à laquelle elle a été passée, validée, expédiée, reçue. Elle contient aussi une variable de status qui me semble particulièrement intéressante. \n",
    "\n",
    "Pour les variables temporelles, je propose d'extraire plusieurs méta-variables :\n",
    "* la date de commande seule\n",
    "* l'heure de commande seule  \n",
    "* la différence entre la date de livraison estimée et la date de livraison déclarée par le client (en jours)\n",
    "* la différence entre la date de livraison déclarée par le client et la date de livraison déclarée par l'entreprise d'acheminement (en jours)"
   ]
  },
  {
   "cell_type": "code",
   "execution_count": 8,
   "id": "89dfdf04",
   "metadata": {},
   "outputs": [],
   "source": [
    "## Let's begin with purchase date and time split : \n",
    "purchase_timestamp = pd.to_datetime(orders.order_purchase_timestamp,\n",
    "                     format = \"%Y-%m-%d %H:%M:%S\")\n",
    "\n",
    "purchase_date = pd.to_datetime(purchase_timestamp.dt.date, \n",
    "                               format = \"%Y-%m-%d\")\n",
    "purch_time = purchase_timestamp.dt.time "
   ]
  },
  {
   "cell_type": "code",
   "execution_count": 9,
   "id": "efc24086",
   "metadata": {},
   "outputs": [],
   "source": [
    "## Then, use delta time for delivery date comparison\n",
    "estimated_delivery_date = pd.to_datetime(orders.order_estimated_delivery_date,\n",
    "                             format = \"%Y-%m-%d %H:%M:%S\")\n",
    "delivered_customer_date = pd.to_datetime(orders.order_delivered_customer_date,\n",
    "                             format = \"%Y-%m-%d %H:%M:%S\") \n",
    "delivered_carrier_date = pd.to_datetime(orders.order_delivered_carrier_date,\n",
    "                             format = \"%Y-%m-%d %H:%M:%S\") \n",
    "\n",
    "delta_estimated_declared = estimated_delivery_date - delivered_customer_date\n",
    "delta_estimated_declared = delta_estimated_declared / np.timedelta64(1, \"D\")\n",
    "\n",
    "delta_decalared_customer_carrier = delivered_customer_date - delivered_carrier_date\n",
    "delta_decalared_customer_carrier = delta_decalared_customer_carrier / np.timedelta64(1, \"D\")"
   ]
  },
  {
   "cell_type": "code",
   "execution_count": 10,
   "id": "e4f14854",
   "metadata": {
    "scrolled": true
   },
   "outputs": [
    {
     "data": {
      "text/html": [
       "<div>\n",
       "<style scoped>\n",
       "    .dataframe tbody tr th:only-of-type {\n",
       "        vertical-align: middle;\n",
       "    }\n",
       "\n",
       "    .dataframe tbody tr th {\n",
       "        vertical-align: top;\n",
       "    }\n",
       "\n",
       "    .dataframe thead th {\n",
       "        text-align: right;\n",
       "    }\n",
       "</style>\n",
       "<table border=\"1\" class=\"dataframe\">\n",
       "  <thead>\n",
       "    <tr style=\"text-align: right;\">\n",
       "      <th></th>\n",
       "      <th>order_id</th>\n",
       "      <th>customer_id</th>\n",
       "      <th>order_status</th>\n",
       "      <th>order_purchase_date</th>\n",
       "      <th>order_purchase_time</th>\n",
       "      <th>order_dt_estimated_declared</th>\n",
       "      <th>order_dt_decalared_customer_carrier</th>\n",
       "    </tr>\n",
       "  </thead>\n",
       "  <tbody>\n",
       "    <tr>\n",
       "      <th>0</th>\n",
       "      <td>e481f51cbdc54678b7cc49136f2d6af7</td>\n",
       "      <td>9ef432eb6251297304e76186b10a928d</td>\n",
       "      <td>delivered</td>\n",
       "      <td>2017-10-02</td>\n",
       "      <td>10:56:33</td>\n",
       "      <td>7.107488</td>\n",
       "      <td>6.062650</td>\n",
       "    </tr>\n",
       "    <tr>\n",
       "      <th>1</th>\n",
       "      <td>53cdb2fc8bc7dce0b6741e2150273451</td>\n",
       "      <td>b0830fb4747a6c6d20dea0b8c802d7ef</td>\n",
       "      <td>delivered</td>\n",
       "      <td>2018-07-24</td>\n",
       "      <td>20:41:37</td>\n",
       "      <td>5.355729</td>\n",
       "      <td>12.039410</td>\n",
       "    </tr>\n",
       "    <tr>\n",
       "      <th>2</th>\n",
       "      <td>47770eb9100c2d0c44946d9cf07ec65d</td>\n",
       "      <td>41ce2a54c0b03bf3443c3d931a367089</td>\n",
       "      <td>delivered</td>\n",
       "      <td>2018-08-08</td>\n",
       "      <td>08:38:49</td>\n",
       "      <td>17.245498</td>\n",
       "      <td>9.178113</td>\n",
       "    </tr>\n",
       "  </tbody>\n",
       "</table>\n",
       "</div>"
      ],
      "text/plain": [
       "                           order_id                       customer_id  \\\n",
       "0  e481f51cbdc54678b7cc49136f2d6af7  9ef432eb6251297304e76186b10a928d   \n",
       "1  53cdb2fc8bc7dce0b6741e2150273451  b0830fb4747a6c6d20dea0b8c802d7ef   \n",
       "2  47770eb9100c2d0c44946d9cf07ec65d  41ce2a54c0b03bf3443c3d931a367089   \n",
       "\n",
       "  order_status order_purchase_date order_purchase_time  \\\n",
       "0    delivered          2017-10-02            10:56:33   \n",
       "1    delivered          2018-07-24            20:41:37   \n",
       "2    delivered          2018-08-08            08:38:49   \n",
       "\n",
       "   order_dt_estimated_declared  order_dt_decalared_customer_carrier  \n",
       "0                     7.107488                             6.062650  \n",
       "1                     5.355729                            12.039410  \n",
       "2                    17.245498                             9.178113  "
      ]
     },
     "execution_count": 10,
     "metadata": {},
     "output_type": "execute_result"
    }
   ],
   "source": [
    "## save in a working pd.DataFrame : \n",
    "my_orders = orders[['order_id', 'customer_id', 'order_status']].copy()\n",
    "my_orders.at[:,\"order_purchase_date\"] = purchase_date\n",
    "my_orders.at[:,\"order_purchase_time\"] = purch_time\n",
    "my_orders.at[:,\"order_dt_estimated_declared\"] = delta_estimated_declared\n",
    "my_orders.at[:,\"order_dt_decalared_customer_carrier\"] = delta_decalared_customer_carrier\n",
    "my_orders.head(3)"
   ]
  },
  {
   "cell_type": "code",
   "execution_count": 11,
   "id": "8b7189aa",
   "metadata": {},
   "outputs": [
    {
     "data": {
      "image/png": "[encoded data removed]",
      "text/plain": [
       "<Figure size 864x720 with 4 Axes>"
      ]
     },
     "metadata": {
      "needs_background": "light"
     },
     "output_type": "display_data"
    }
   ],
   "source": [
    "## Check with graphics :\n",
    "\n",
    "plt.figure(figsize=(12,10))\n",
    "plt.subplot(2,2,1)\n",
    "sns.histplot(my_orders.order_purchase_date)\n",
    "plt.xticks(rotation=90)\n",
    "plt.title(\"Histogram of purchase date\")\n",
    "\n",
    "plt.subplot(2,2,2)\n",
    "tmp = pd.to_datetime(my_orders.order_purchase_time,  format = \"%H:%M:%S\")\n",
    "tmp.groupby(tmp.dt.hour).count()\n",
    "sns.barplot(x = np.arange(1,25), \n",
    "            y = tmp.groupby(tmp.dt.hour).count())\n",
    "plt.title(\"Barplot of order purchase hour\")\n",
    "plt.xlabel(\"Hour of day\")\n",
    "plt.ylabel(\"Number of order purchase\")\n",
    "\n",
    "plt.subplot(2,2,3)\n",
    "sns.histplot(my_orders.order_dt_estimated_declared, bins = 100)\n",
    "plt.title(\"Histogram of delivery delta time \\nbtw estimated and declared\")\n",
    "plt.xlabel(\"Delta of days\")\n",
    "plt.ylabel(\"Order counts\")\n",
    "\n",
    "plt.subplot(2,2,4)\n",
    "sns.histplot(my_orders.order_dt_decalared_customer_carrier, bins = 100)\n",
    "plt.title(\"Histogram of delivery delta time \\ndeclared by customer and carrier\")\n",
    "plt.xlabel(\"Delta of days\")\n",
    "plt.ylabel(\"Order counts\")\n",
    "\n",
    "plt.tight_layout()\n",
    "plt.show()\n"
   ]
  },
  {
   "cell_type": "markdown",
   "id": "8eb1d169",
   "metadata": {},
   "source": [
    "## TODO : Description des graphes "
   ]
  },
  {
   "cell_type": "markdown",
   "id": "e0c660cc",
   "metadata": {},
   "source": [
    "## 1.2.2 Table des produits commandés (order_items)\n",
    "\n",
    "Passons maintenant à l'étude de la table des produits commandés : "
   ]
  },
  {
   "cell_type": "code",
   "execution_count": 12,
   "id": "b266869c",
   "metadata": {},
   "outputs": [
    {
     "name": "stdout",
     "output_type": "stream",
     "text": [
      "shape :  (112650, 7)\n",
      "number of NaNs : 0 \n",
      "\n"
     ]
    },
    {
     "data": {
      "text/html": [
       "<div>\n",
       "<style scoped>\n",
       "    .dataframe tbody tr th:only-of-type {\n",
       "        vertical-align: middle;\n",
       "    }\n",
       "\n",
       "    .dataframe tbody tr th {\n",
       "        vertical-align: top;\n",
       "    }\n",
       "\n",
       "    .dataframe thead th {\n",
       "        text-align: right;\n",
       "    }\n",
       "</style>\n",
       "<table border=\"1\" class=\"dataframe\">\n",
       "  <thead>\n",
       "    <tr style=\"text-align: right;\">\n",
       "      <th></th>\n",
       "      <th>order_id</th>\n",
       "      <th>order_item_id</th>\n",
       "      <th>product_id</th>\n",
       "      <th>seller_id</th>\n",
       "      <th>shipping_limit_date</th>\n",
       "      <th>price</th>\n",
       "      <th>freight_value</th>\n",
       "    </tr>\n",
       "  </thead>\n",
       "  <tbody>\n",
       "    <tr>\n",
       "      <th>0</th>\n",
       "      <td>00010242fe8c5a6d1ba2dd792cb16214</td>\n",
       "      <td>1</td>\n",
       "      <td>4244733e06e7ecb4970a6e2683c13e61</td>\n",
       "      <td>48436dade18ac8b2bce089ec2a041202</td>\n",
       "      <td>2017-09-19 09:45:35</td>\n",
       "      <td>58.9</td>\n",
       "      <td>13.29</td>\n",
       "    </tr>\n",
       "    <tr>\n",
       "      <th>1</th>\n",
       "      <td>00018f77f2f0320c557190d7a144bdd3</td>\n",
       "      <td>1</td>\n",
       "      <td>e5f2d52b802189ee658865ca93d83a8f</td>\n",
       "      <td>dd7ddc04e1b6c2c614352b383efe2d36</td>\n",
       "      <td>2017-05-03 11:05:13</td>\n",
       "      <td>239.9</td>\n",
       "      <td>19.93</td>\n",
       "    </tr>\n",
       "    <tr>\n",
       "      <th>2</th>\n",
       "      <td>000229ec398224ef6ca0657da4fc703e</td>\n",
       "      <td>1</td>\n",
       "      <td>c777355d18b72b67abbeef9df44fd0fd</td>\n",
       "      <td>5b51032eddd242adc84c38acab88f23d</td>\n",
       "      <td>2018-01-18 14:48:30</td>\n",
       "      <td>199.0</td>\n",
       "      <td>17.87</td>\n",
       "    </tr>\n",
       "  </tbody>\n",
       "</table>\n",
       "</div>"
      ],
      "text/plain": [
       "                           order_id  order_item_id  \\\n",
       "0  00010242fe8c5a6d1ba2dd792cb16214              1   \n",
       "1  00018f77f2f0320c557190d7a144bdd3              1   \n",
       "2  000229ec398224ef6ca0657da4fc703e              1   \n",
       "\n",
       "                         product_id                         seller_id  \\\n",
       "0  4244733e06e7ecb4970a6e2683c13e61  48436dade18ac8b2bce089ec2a041202   \n",
       "1  e5f2d52b802189ee658865ca93d83a8f  dd7ddc04e1b6c2c614352b383efe2d36   \n",
       "2  c777355d18b72b67abbeef9df44fd0fd  5b51032eddd242adc84c38acab88f23d   \n",
       "\n",
       "   shipping_limit_date  price  freight_value  \n",
       "0  2017-09-19 09:45:35   58.9          13.29  \n",
       "1  2017-05-03 11:05:13  239.9          19.93  \n",
       "2  2018-01-18 14:48:30  199.0          17.87  "
      ]
     },
     "execution_count": 12,
     "metadata": {},
     "output_type": "execute_result"
    }
   ],
   "source": [
    "print(\"shape : \", order_items.shape)\n",
    "print(\"number of NaNs :\",order_items.isna().sum().sum(),\"\\n\")\n",
    "\n",
    "order_items.head(3)"
   ]
  },
  {
   "cell_type": "markdown",
   "id": "8178adff",
   "metadata": {},
   "source": [
    "Cette table contient la liste des produits commandés dans différentes commandes, avec leur prix et la date limite d'envoi. La colonne \"order_item_id\" correspond au numéro attribué à l'article dans la commande. Est-ce que les mêmes articles sont vendus à des prix différents sur cette plateforme de vente ?"
   ]
  },
  {
   "cell_type": "code",
   "execution_count": 13,
   "id": "622af4ae",
   "metadata": {},
   "outputs": [
    {
     "name": "stdout",
     "output_type": "stream",
     "text": [
      "shape of duplicates after removes those with same price and name: (94533, 7)\n",
      "shape of duplicates after removes those with same name : (94533, 7)\n"
     ]
    }
   ],
   "source": [
    "duplicates = order_items[order_items.duplicated(subset = \"product_id\", keep = False)]\n",
    "duplicates = duplicates.sort_values(\"product_id\")\n",
    "duplicates.drop_duplicates([\"product_id\", \"price\"])\n",
    "print(\"shape of duplicates after removes those with same price and name:\",duplicates.shape)\n",
    "duplicates.drop_duplicates([\"product_id\"])\n",
    "print(\"shape of duplicates after removes those with same name :\",duplicates.shape)"
   ]
  },
  {
   "cell_type": "markdown",
   "id": "2812d7a2",
   "metadata": {},
   "source": [
    "Il semblerait que oui. A quoi ressemble la répartition des prix ? "
   ]
  },
  {
   "cell_type": "code",
   "execution_count": 14,
   "id": "91c13565",
   "metadata": {
    "scrolled": true
   },
   "outputs": [
    {
     "data": {
      "image/png": "[encoded data removed]",
      "text/plain": [
       "<Figure size 864x288 with 2 Axes>"
      ]
     },
     "metadata": {
      "needs_background": "light"
     },
     "output_type": "display_data"
    }
   ],
   "source": [
    "plt.figure(figsize=(12,4))\n",
    "plt.subplot(1,2,1)\n",
    "sns.histplot(order_items.price, bins = 100)\n",
    "plt.xticks(rotation=90)\n",
    "plt.title(\"Histogram of ordered product price\")\n",
    "plt.xlabel(\"product price\")\n",
    "plt.ylabel(\"Number of ordered product\")\n",
    "\n",
    "plt.subplot(1,2,2)\n",
    "sns.histplot(order_items.drop_duplicates(subset=\"product_id\").price, bins = 100)\n",
    "plt.xticks(rotation=90)\n",
    "plt.title(\"Histogram of different product price\")\n",
    "plt.xlabel(\"product price\")\n",
    "plt.ylabel(\"Number of product\")\n",
    "plt.show()"
   ]
  },
  {
   "cell_type": "markdown",
   "id": "29d84f42",
   "metadata": {},
   "source": [
    "On ne voit pas grand chose : passons en échelle log."
   ]
  },
  {
   "cell_type": "code",
   "execution_count": 15,
   "id": "cf665b6b",
   "metadata": {},
   "outputs": [
    {
     "data": {
      "image/png": "[encoded data removed]",
      "text/plain": [
       "<Figure size 864x288 with 2 Axes>"
      ]
     },
     "metadata": {
      "needs_background": "light"
     },
     "output_type": "display_data"
    }
   ],
   "source": [
    "plt.figure(figsize=(12,4))\n",
    "plt.subplot(1,2,1)\n",
    "sns.histplot(np.log(order_items.price+1), bins = 100)\n",
    "plt.xticks(rotation=90)\n",
    "plt.title(\"Histogram of ordered product price \\nlog-transformed \")\n",
    "plt.xlabel(\"log( product price + 1 )\")\n",
    "plt.ylabel(\"Number of ordered product\")\n",
    "\n",
    "plt.subplot(1,2,2)\n",
    "sns.histplot(np.log(order_items.drop_duplicates(\"product_id\").price\n",
    "                    +1), bins = 100)\n",
    "plt.xticks(rotation=90)\n",
    "plt.title(\"Histogram of different product price \\nlog-transformed \")\n",
    "plt.xlabel(\"log( product price + 1 )\")\n",
    "plt.ylabel(\"Number of product\")\n",
    "plt.show()"
   ]
  },
  {
   "cell_type": "markdown",
   "id": "aab03fdb",
   "metadata": {},
   "source": [
    "Les commandes avec plusieurs items n'ont pas l'air de contenir des items moins cher. Regardons la répartition du prix total de chaque commande, ainsi que le fret associé :  "
   ]
  },
  {
   "cell_type": "code",
   "execution_count": 16,
   "id": "7977782b",
   "metadata": {},
   "outputs": [
    {
     "data": {
      "image/png": "[encoded data removed]",
      "text/plain": [
       "<Figure size 864x288 with 2 Axes>"
      ]
     },
     "metadata": {
      "needs_background": "light"
     },
     "output_type": "display_data"
    }
   ],
   "source": [
    "tmp = order_items.groupby(\"order_id\").sum()\n",
    "order_total_prices = pd.DataFrame(tmp.values, \n",
    "                                  columns = tmp.columns)\n",
    "order_total_prices.at[:,\"order_id\"] = tmp.index\n",
    "\n",
    "plt.figure(figsize=(12,4))\n",
    "plt.subplot(1,2,1)\n",
    "sns.histplot(np.log( order_total_prices.price + 1 ), bins = 100)\n",
    "plt.title(\"Histogram of total order price \\nlog-transformed \")\n",
    "plt.xlabel(\"np.log( total order price + 1)\")\n",
    "plt.ylabel(\"Number of order\")\n",
    "\n",
    "plt.subplot(1,2,2)\n",
    "sns.histplot(np.log(order_total_prices.freight_value + 1 ), bins = 100)\n",
    "plt.title(\"Histogram of totel order freight value\\nlog-transformed\")\n",
    "plt.xlabel(\"np.log( totel order freight value + 1 )\")\n",
    "plt.ylabel(\"Number of order\")\n",
    "plt.show()"
   ]
  },
  {
   "cell_type": "code",
   "execution_count": 17,
   "id": "1f2a7eff",
   "metadata": {},
   "outputs": [
    {
     "data": {
      "image/png": "[encoded data removed]",
      "text/plain": [
       "<Figure size 504x288 with 1 Axes>"
      ]
     },
     "metadata": {
      "needs_background": "light"
     },
     "output_type": "display_data"
    }
   ],
   "source": [
    "order_total_prices.at[:,\"total\"] = order_total_prices[[\"price\",\"freight_value\"]].sum(axis=1)\n",
    "\n",
    "plt.figure(figsize=(7,4))\n",
    "sns.histplot(np.log( order_total_prices.total + 1 ), bins = 100)\n",
    "plt.title(\"Histogram of total order price \\nlog-transformed \")\n",
    "plt.xlabel(\"np.log( total order price + 1)\")\n",
    "plt.ylabel(\"Number of order\")\n",
    "\n",
    "plt.show()"
   ]
  },
  {
   "cell_type": "markdown",
   "id": "8236b6c7",
   "metadata": {},
   "source": [
    "Il n'y a rien d'inattendu : le prix des paniers en log-tranform a l'air répartis selon une loi normale. Pour le log du fret, on distingue 3 pics : un en 0, un en 2.3 et le troisième en 3."
   ]
  },
  {
   "cell_type": "code",
   "execution_count": 18,
   "id": "c6e88816",
   "metadata": {},
   "outputs": [
    {
     "data": {
      "text/plain": [
       "Index(['order_id', 'customer_id', 'order_status', 'order_purchase_date',\n",
       "       'order_purchase_time', 'order_dt_estimated_declared',\n",
       "       'order_dt_decalared_customer_carrier', 'price', 'freight_value'],\n",
       "      dtype='object')"
      ]
     },
     "execution_count": 18,
     "metadata": {},
     "output_type": "execute_result"
    }
   ],
   "source": [
    "my_orders = pd.merge(my_orders, order_total_prices[[\"order_id\",\"price\",\"freight_value\"]], \n",
    "         on = \"order_id\", how = 'right')\n",
    "my_orders.columns"
   ]
  },
  {
   "cell_type": "markdown",
   "id": "b8998d5e",
   "metadata": {},
   "source": [
    "### 1.2.3 Table des paiments (order_payments)"
   ]
  },
  {
   "cell_type": "code",
   "execution_count": 19,
   "id": "0682cfe1",
   "metadata": {},
   "outputs": [
    {
     "name": "stdout",
     "output_type": "stream",
     "text": [
      "shape :  (103886, 5)\n",
      "number of NaNs : 0 \n",
      "\n"
     ]
    },
    {
     "data": {
      "text/html": [
       "<div>\n",
       "<style scoped>\n",
       "    .dataframe tbody tr th:only-of-type {\n",
       "        vertical-align: middle;\n",
       "    }\n",
       "\n",
       "    .dataframe tbody tr th {\n",
       "        vertical-align: top;\n",
       "    }\n",
       "\n",
       "    .dataframe thead th {\n",
       "        text-align: right;\n",
       "    }\n",
       "</style>\n",
       "<table border=\"1\" class=\"dataframe\">\n",
       "  <thead>\n",
       "    <tr style=\"text-align: right;\">\n",
       "      <th></th>\n",
       "      <th>order_id</th>\n",
       "      <th>payment_sequential</th>\n",
       "      <th>payment_type</th>\n",
       "      <th>payment_installments</th>\n",
       "      <th>payment_value</th>\n",
       "    </tr>\n",
       "  </thead>\n",
       "  <tbody>\n",
       "    <tr>\n",
       "      <th>0</th>\n",
       "      <td>b81ef226f3fe1789b1e8b2acac839d17</td>\n",
       "      <td>1</td>\n",
       "      <td>credit_card</td>\n",
       "      <td>8</td>\n",
       "      <td>99.33</td>\n",
       "    </tr>\n",
       "    <tr>\n",
       "      <th>1</th>\n",
       "      <td>a9810da82917af2d9aefd1278f1dcfa0</td>\n",
       "      <td>1</td>\n",
       "      <td>credit_card</td>\n",
       "      <td>1</td>\n",
       "      <td>24.39</td>\n",
       "    </tr>\n",
       "    <tr>\n",
       "      <th>2</th>\n",
       "      <td>25e8ea4e93396b6fa0d3dd708e76c1bd</td>\n",
       "      <td>1</td>\n",
       "      <td>credit_card</td>\n",
       "      <td>1</td>\n",
       "      <td>65.71</td>\n",
       "    </tr>\n",
       "  </tbody>\n",
       "</table>\n",
       "</div>"
      ],
      "text/plain": [
       "                           order_id  payment_sequential payment_type  \\\n",
       "0  b81ef226f3fe1789b1e8b2acac839d17                   1  credit_card   \n",
       "1  a9810da82917af2d9aefd1278f1dcfa0                   1  credit_card   \n",
       "2  25e8ea4e93396b6fa0d3dd708e76c1bd                   1  credit_card   \n",
       "\n",
       "   payment_installments  payment_value  \n",
       "0                     8          99.33  \n",
       "1                     1          24.39  \n",
       "2                     1          65.71  "
      ]
     },
     "execution_count": 19,
     "metadata": {},
     "output_type": "execute_result"
    }
   ],
   "source": [
    "print(\"shape : \", order_payments.shape)\n",
    "print(\"number of NaNs :\",order_payments.isna().sum().sum(),\"\\n\")\n",
    "\n",
    "order_payments.head(3)"
   ]
  },
  {
   "cell_type": "markdown",
   "id": "337223d4",
   "metadata": {},
   "source": [
    "Les 4 colonnes de cette table semblent pertinentes. Il y a trois variables correspondant au moyen de paiement (type de paiement, nombre d'échéance de paiement choisis, et nombre de type de paiement), et la dernière variable est le prix payé (à comparer avec la variable \"price\", calculée en faisant la somme des prix de la table \"order_items\")"
   ]
  },
  {
   "cell_type": "code",
   "execution_count": 20,
   "id": "5fd92369",
   "metadata": {
    "scrolled": false
   },
   "outputs": [
    {
     "data": {
      "image/png": "[encoded data removed]",
      "text/plain": [
       "<Figure size 864x720 with 4 Axes>"
      ]
     },
     "metadata": {
      "needs_background": "light"
     },
     "output_type": "display_data"
    }
   ],
   "source": [
    "plt.figure(figsize=(12,10))\n",
    "plt.subplot(2,2,1)\n",
    "sns.histplot(order_payments.payment_sequential, bins = 100)\n",
    "plt.title(\"Histogram of sequential payment\")\n",
    "plt.xlabel(\"Number of payment\")\n",
    "plt.ylabel(\"Number of order\")\n",
    "\n",
    "plt.subplot(2,2,2)\n",
    "sns.histplot(order_payments.payment_type)\n",
    "plt.xticks(rotation=90)\n",
    "plt.title(\"Histogram of payment type \")\n",
    "plt.xlabel(\"Payment type\")\n",
    "plt.ylabel(\"Number of order\")\n",
    "\n",
    "plt.subplot(2,2,3)\n",
    "sns.histplot(order_payments.payment_installments, bins = 25)\n",
    "plt.title(\"Histogram of sequential payment\")\n",
    "plt.xlabel(\"Number of payment installments\")\n",
    "plt.ylabel(\"Number of order\")\n",
    "\n",
    "plt.subplot(2,2,4)\n",
    "sns.histplot(np.log(order_payments.payment_value + 1 ), bins = 100)\n",
    "plt.title(\"Histogram of payment value\\nlog-transformed\")\n",
    "plt.xlabel(\"np.log( payment value + 1 )\")\n",
    "plt.ylabel(\"Number of order\")\n",
    "\n",
    "plt.tight_layout()\n",
    "plt.show()"
   ]
  },
  {
   "cell_type": "markdown",
   "id": "1dba9ba8",
   "metadata": {},
   "source": [
    "Let us now just compare the order_payments.payment_value with the order_total_prices.price"
   ]
  },
  {
   "cell_type": "code",
   "execution_count": 21,
   "id": "c5a47af7",
   "metadata": {},
   "outputs": [
    {
     "data": {
      "text/html": [
       "<div>\n",
       "<style scoped>\n",
       "    .dataframe tbody tr th:only-of-type {\n",
       "        vertical-align: middle;\n",
       "    }\n",
       "\n",
       "    .dataframe tbody tr th {\n",
       "        vertical-align: top;\n",
       "    }\n",
       "\n",
       "    .dataframe thead th {\n",
       "        text-align: right;\n",
       "    }\n",
       "</style>\n",
       "<table border=\"1\" class=\"dataframe\">\n",
       "  <thead>\n",
       "    <tr style=\"text-align: right;\">\n",
       "      <th></th>\n",
       "      <th>order_id</th>\n",
       "      <th>payment_value</th>\n",
       "      <th>total</th>\n",
       "    </tr>\n",
       "  </thead>\n",
       "  <tbody>\n",
       "    <tr>\n",
       "      <th>25</th>\n",
       "      <td>5cfd514482e22bc992e7693f0e3e8df7</td>\n",
       "      <td>45.17</td>\n",
       "      <td>710.58</td>\n",
       "    </tr>\n",
       "    <tr>\n",
       "      <th>26</th>\n",
       "      <td>5cfd514482e22bc992e7693f0e3e8df7</td>\n",
       "      <td>665.41</td>\n",
       "      <td>710.58</td>\n",
       "    </tr>\n",
       "    <tr>\n",
       "      <th>36</th>\n",
       "      <td>b2bb080b6bc860118a246fd9b6fad6da</td>\n",
       "      <td>173.84</td>\n",
       "      <td>197.92</td>\n",
       "    </tr>\n",
       "    <tr>\n",
       "      <th>37</th>\n",
       "      <td>b2bb080b6bc860118a246fd9b6fad6da</td>\n",
       "      <td>24.08</td>\n",
       "      <td>197.92</td>\n",
       "    </tr>\n",
       "    <tr>\n",
       "      <th>76</th>\n",
       "      <td>3689194c14ad4e2e7361ebd1df0e77b0</td>\n",
       "      <td>57.53</td>\n",
       "      <td>153.27</td>\n",
       "    </tr>\n",
       "    <tr>\n",
       "      <th>...</th>\n",
       "      <td>...</td>\n",
       "      <td>...</td>\n",
       "      <td>...</td>\n",
       "    </tr>\n",
       "    <tr>\n",
       "      <th>101735</th>\n",
       "      <td>55f8a030ae34836632355176608c7314</td>\n",
       "      <td>125.44</td>\n",
       "      <td>125.45</td>\n",
       "    </tr>\n",
       "    <tr>\n",
       "      <th>101822</th>\n",
       "      <td>9e8253539b3ac1fc283b3d570f7b53ae</td>\n",
       "      <td>238.98</td>\n",
       "      <td>470.38</td>\n",
       "    </tr>\n",
       "    <tr>\n",
       "      <th>101823</th>\n",
       "      <td>9e8253539b3ac1fc283b3d570f7b53ae</td>\n",
       "      <td>231.40</td>\n",
       "      <td>470.38</td>\n",
       "    </tr>\n",
       "    <tr>\n",
       "      <th>102330</th>\n",
       "      <td>1c437b4d4326d36b71e91dd7a7c2c4f6</td>\n",
       "      <td>263.45</td>\n",
       "      <td>263.43</td>\n",
       "    </tr>\n",
       "    <tr>\n",
       "      <th>102577</th>\n",
       "      <td>8200c0f5298c25d0c51f66b1c63b6ebc</td>\n",
       "      <td>460.84</td>\n",
       "      <td>460.85</td>\n",
       "    </tr>\n",
       "  </tbody>\n",
       "</table>\n",
       "<p>7692 rows × 3 columns</p>\n",
       "</div>"
      ],
      "text/plain": [
       "                                order_id  payment_value   total\n",
       "25      5cfd514482e22bc992e7693f0e3e8df7          45.17  710.58\n",
       "26      5cfd514482e22bc992e7693f0e3e8df7         665.41  710.58\n",
       "36      b2bb080b6bc860118a246fd9b6fad6da         173.84  197.92\n",
       "37      b2bb080b6bc860118a246fd9b6fad6da          24.08  197.92\n",
       "76      3689194c14ad4e2e7361ebd1df0e77b0          57.53  153.27\n",
       "...                                  ...            ...     ...\n",
       "101735  55f8a030ae34836632355176608c7314         125.44  125.45\n",
       "101822  9e8253539b3ac1fc283b3d570f7b53ae         238.98  470.38\n",
       "101823  9e8253539b3ac1fc283b3d570f7b53ae         231.40  470.38\n",
       "102330  1c437b4d4326d36b71e91dd7a7c2c4f6         263.45  263.43\n",
       "102577  8200c0f5298c25d0c51f66b1c63b6ebc         460.84  460.85\n",
       "\n",
       "[7692 rows x 3 columns]"
      ]
     },
     "execution_count": 21,
     "metadata": {},
     "output_type": "execute_result"
    }
   ],
   "source": [
    "tmp = pd.merge(order_payments[[\"order_id\",\"payment_value\"]],\n",
    "         order_total_prices[[\"order_id\",\"total\"]], on=\"order_id\")\n",
    "index_diff_non_null = np.where(abs(tmp[[\"payment_value\",\n",
    "                            \"total\"]].diff(axis = 1))>10**-2)[0]\n",
    "tmp.iloc[index_diff_non_null]"
   ]
  },
  {
   "cell_type": "code",
   "execution_count": null,
   "id": "d18ec5b8",
   "metadata": {},
   "outputs": [],
   "source": []
  },
  {
   "cell_type": "code",
   "execution_count": null,
   "id": "87fb46c0",
   "metadata": {},
   "outputs": [],
   "source": []
  },
  {
   "cell_type": "markdown",
   "id": "549d892b",
   "metadata": {},
   "source": [
    "## 1.x Lien entre les tables :"
   ]
  },
  {
   "cell_type": "code",
   "execution_count": 22,
   "id": "8f6af830",
   "metadata": {},
   "outputs": [],
   "source": [
    "# sellers, products, orders, order_reviews, \n",
    "# order_items, geolocation, customers\n",
    "\n",
    "## customer-order\n",
    "customer_order = pd.merge(customers[[\"customer_unique_id\",\"customer_id\"]], \n",
    "    orders[[\"customer_id\",\"order_id\"]], \n",
    "    on = \"customer_id\", how = 'right')\n"
   ]
  },
  {
   "cell_type": "code",
   "execution_count": 23,
   "id": "55d201be",
   "metadata": {},
   "outputs": [
    {
     "data": {
      "text/html": [
       "<div>\n",
       "<style scoped>\n",
       "    .dataframe tbody tr th:only-of-type {\n",
       "        vertical-align: middle;\n",
       "    }\n",
       "\n",
       "    .dataframe tbody tr th {\n",
       "        vertical-align: top;\n",
       "    }\n",
       "\n",
       "    .dataframe thead th {\n",
       "        text-align: right;\n",
       "    }\n",
       "</style>\n",
       "<table border=\"1\" class=\"dataframe\">\n",
       "  <thead>\n",
       "    <tr style=\"text-align: right;\">\n",
       "      <th></th>\n",
       "      <th>customer_unique_id</th>\n",
       "      <th>customer_id</th>\n",
       "    </tr>\n",
       "  </thead>\n",
       "  <tbody>\n",
       "    <tr>\n",
       "      <th>0</th>\n",
       "      <td>861eff4711a542e4b93843c6dd7febb0</td>\n",
       "      <td>06b8999e2fba1a1fbc88172c00ba8bc7</td>\n",
       "    </tr>\n",
       "    <tr>\n",
       "      <th>1</th>\n",
       "      <td>290c77bc529b7ac935b93aa66c333dc3</td>\n",
       "      <td>18955e83d337fd6b2def6b18a428ac77</td>\n",
       "    </tr>\n",
       "    <tr>\n",
       "      <th>2</th>\n",
       "      <td>060e732b5b29e8181a18229c7b0b2b5e</td>\n",
       "      <td>4e7b3e00288586ebd08712fdd0374a03</td>\n",
       "    </tr>\n",
       "    <tr>\n",
       "      <th>3</th>\n",
       "      <td>259dac757896d24d7702b9acbbff3f3c</td>\n",
       "      <td>b2b6027bc5c5109e529d4dc6358b12c3</td>\n",
       "    </tr>\n",
       "    <tr>\n",
       "      <th>4</th>\n",
       "      <td>345ecd01c38d18a9036ed96c73b8d066</td>\n",
       "      <td>4f2d8ab171c80ec8364f7c12e35b23ad</td>\n",
       "    </tr>\n",
       "    <tr>\n",
       "      <th>...</th>\n",
       "      <td>...</td>\n",
       "      <td>...</td>\n",
       "    </tr>\n",
       "    <tr>\n",
       "      <th>99436</th>\n",
       "      <td>1a29b476fee25c95fbafc67c5ac95cf8</td>\n",
       "      <td>17ddf5dd5d51696bb3d7c6291687be6f</td>\n",
       "    </tr>\n",
       "    <tr>\n",
       "      <th>99437</th>\n",
       "      <td>d52a67c98be1cf6a5c84435bd38d095d</td>\n",
       "      <td>e7b71a9017aa05c9a7fd292d714858e8</td>\n",
       "    </tr>\n",
       "    <tr>\n",
       "      <th>99438</th>\n",
       "      <td>e9f50caf99f032f0bf3c55141f019d99</td>\n",
       "      <td>5e28dfe12db7fb50a4b2f691faecea5e</td>\n",
       "    </tr>\n",
       "    <tr>\n",
       "      <th>99439</th>\n",
       "      <td>73c2643a0a458b49f58cea58833b192e</td>\n",
       "      <td>56b18e2166679b8a959d72dd06da27f9</td>\n",
       "    </tr>\n",
       "    <tr>\n",
       "      <th>99440</th>\n",
       "      <td>84732c5050c01db9b23e19ba39899398</td>\n",
       "      <td>274fa6071e5e17fe303b9748641082c8</td>\n",
       "    </tr>\n",
       "  </tbody>\n",
       "</table>\n",
       "<p>99441 rows × 2 columns</p>\n",
       "</div>"
      ],
      "text/plain": [
       "                     customer_unique_id                       customer_id\n",
       "0      861eff4711a542e4b93843c6dd7febb0  06b8999e2fba1a1fbc88172c00ba8bc7\n",
       "1      290c77bc529b7ac935b93aa66c333dc3  18955e83d337fd6b2def6b18a428ac77\n",
       "2      060e732b5b29e8181a18229c7b0b2b5e  4e7b3e00288586ebd08712fdd0374a03\n",
       "3      259dac757896d24d7702b9acbbff3f3c  b2b6027bc5c5109e529d4dc6358b12c3\n",
       "4      345ecd01c38d18a9036ed96c73b8d066  4f2d8ab171c80ec8364f7c12e35b23ad\n",
       "...                                 ...                               ...\n",
       "99436  1a29b476fee25c95fbafc67c5ac95cf8  17ddf5dd5d51696bb3d7c6291687be6f\n",
       "99437  d52a67c98be1cf6a5c84435bd38d095d  e7b71a9017aa05c9a7fd292d714858e8\n",
       "99438  e9f50caf99f032f0bf3c55141f019d99  5e28dfe12db7fb50a4b2f691faecea5e\n",
       "99439  73c2643a0a458b49f58cea58833b192e  56b18e2166679b8a959d72dd06da27f9\n",
       "99440  84732c5050c01db9b23e19ba39899398  274fa6071e5e17fe303b9748641082c8\n",
       "\n",
       "[99441 rows x 2 columns]"
      ]
     },
     "execution_count": 23,
     "metadata": {},
     "output_type": "execute_result"
    }
   ],
   "source": [
    "customers[[\"customer_unique_id\",\"customer_id\"]]"
   ]
  },
  {
   "cell_type": "code",
   "execution_count": null,
   "id": "fac48a69",
   "metadata": {},
   "outputs": [],
   "source": []
  }
 ],
 "metadata": {
  "kernelspec": {
   "display_name": "Python 3 (ipykernel)",
   "language": "python",
   "name": "python3"
  },
  "language_info": {
   "codemirror_mode": {
    "name": "ipython",
    "version": 3
   },
   "file_extension": ".py",
   "mimetype": "text/x-python",
   "name": "python",
   "nbconvert_exporter": "python",
   "pygments_lexer": "ipython3",
   "version": "3.9.5"
  }
 },
 "nbformat": 4,
 "nbformat_minor": 5
}
