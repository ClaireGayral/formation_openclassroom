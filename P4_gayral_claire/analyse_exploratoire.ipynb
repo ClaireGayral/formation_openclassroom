{
 "cells": [
  {
   "cell_type": "markdown",
   "id": "95d2ee9e",
   "metadata": {},
   "source": [
    "# Présentation du projet : \n",
    "\n",
    "## Contexte \n",
    "\n",
    "Vous êtes consultant pour Olist, une solution de vente sur les marketplaces en ligne.\n",
    "\n",
    "Olist souhaite que vous fournissiez à ses équipes d'e-commerce une segmentation des clients qu’elles pourront utiliser au quotidien pour leurs campagnes de communication.\n",
    "\n",
    "Votre objectif est de comprendre les différents types d’utilisateurs grâce à leur comportement et à leurs données personnelles.\n",
    "\n",
    "Vous devrez fournir à l’équipe marketing une description actionable de votre segmentation et de sa logique sous-jacente pour une utilisation optimale, ainsi qu’une proposition de contrat de maintenance basée sur une analyse de la stabilité des segments au cours du temps.\n",
    "\n",
    "\n",
    "## Données \n",
    "\n",
    "Pour cette mission, Olist vous fournit une base de données anonymisée comportant des informations sur l’historique de commandes, les produits achetés, les commentaires de satisfaction, et la localisation des clients depuis janvier 2017.\n",
    "\n",
    "## Mission\n",
    "\n",
    "Votre mission est d’aider les équipes d’Olist à comprendre les différents types d'utilisateurs. Vous utiliserez donc des méthodes non supervisées pour regrouper ensemble des clients de profils similaires. Ces catégories pourront être utilisées par l’équipe marketing pour mieux communiquer.\n",
    "\n",
    "Pour des raisons de confidentialité, Olist ne fournit pas beaucoup de données, à vous de fouiller dans celles dont vous disposez et de créer les meilleures features pour les exploiter.\n",
    "\n",
    "Enfin, votre client, Olist, a spécifié sa demande ainsi :\n",
    "\n",
    "*La segmentation proposée doit être exploitable et facile d’utilisation pour l’équipe marketing.\n",
    "Vous évaluerez la fréquence à laquelle la segmentation doit être mise à jour, afin de pouvoir effectuer un devis de contrat de maintenance.\n",
    "Le code fourni doit respecter la convention PEP8, pour être utilisable par Olist.*\n",
    "\n",
    "\n",
    "# Ressources : \n",
    "\n",
    "## Les données et leur description :\n",
    "\n",
    "Site d'Olist (en portugais) : https://olist.com/\n",
    "\n",
    "Adresse des données : https://www.kaggle.com/olistbr/brazilian-ecommerce\n",
    "\n",
    "Convention PEP8 : https://www.python.org/dev/peps/pep-0008/\n"
   ]
  },
  {
   "cell_type": "code",
   "execution_count": 8,
   "id": "aa249ee0",
   "metadata": {},
   "outputs": [],
   "source": [
    "import pandas as pd\n",
    "import numpy as np\n",
    "import matplotlib.pyplot as plt\n",
    "import seaborn as sns\n",
    "\n",
    "data_path = \"/home/clairegayral/Documents/openclassroom/data/P4/\"\n",
    "res_path = \"/home/clairegayral/Documents/openclassroom/res/P4/\"\n",
    "\n",
    "## my .py : \n",
    "from script00_lists_of_vars import *\n",
    "from script01_duplicates import *\n",
    "from script02_missing_values_treatment import *\n",
    "from script03_univariate_analysis import *\n",
    "from script04_multivariate_analysis import *\n",
    "\n",
    "from sklearn import model_selection \n",
    "from sklearn import preprocessing\n",
    "from sklearn import neighbors\n",
    "from sklearn.impute import KNNImputer\n",
    "from sklearn import linear_model\n"
   ]
  },
  {
   "cell_type": "markdown",
   "id": "d549b0af",
   "metadata": {},
   "source": [
    "# Première lecture des données :"
   ]
  },
  {
   "cell_type": "code",
   "execution_count": 52,
   "id": "08b41f47",
   "metadata": {},
   "outputs": [],
   "source": [
    "product_category_name_translation = pd.read_csv(data_path \n",
    "                        + \"product_category_name_translation.csv\")\n",
    "sellers = pd.read_csv(data_path + \"olist_sellers_dataset.csv\")\n",
    "products = pd.read_csv(data_path + \"olist_products_dataset.csv\")\n",
    "orders = pd.read_csv(data_path + \"olist_orders_dataset.csv\")\n",
    "order_reviews = pd.read_csv(data_path + \"olist_order_reviews_dataset.csv\")\n",
    "order_payments = pd.read_csv(data_path + \"olist_order_payments_dataset.csv\")\n",
    "order_items = pd.read_csv(data_path + \"olist_order_items_dataset.csv\")\n",
    "geolocation = pd.read_csv(data_path + \"olist_geolocation_dataset.csv\")\n",
    "customers = pd.read_csv(data_path + \"olist_customers_dataset.csv\")\n"
   ]
  },
  {
   "cell_type": "markdown",
   "id": "c8d455fa",
   "metadata": {},
   "source": [
    "Je commence par regarder les liens entre les tables : \n",
    "![alt text][link_image]\n",
    "\n",
    "[//]: # (Image References)\n",
    "[link_image]:kaggle_graph_link_datasets.png \"table link kaggle\" \n",
    "\n",
    "\n",
    "\n",
    "## 1.1 Table des clients \n",
    "Ce qui nous intéresse est une classification des clients : commençons donc par explorer cette table seule. "
   ]
  },
  {
   "cell_type": "code",
   "execution_count": 10,
   "id": "4acde080",
   "metadata": {},
   "outputs": [
    {
     "name": "stdout",
     "output_type": "stream",
     "text": [
      "(99441, 5)\n",
      "<class 'pandas.core.frame.DataFrame'>\n",
      "RangeIndex: 99441 entries, 0 to 99440\n",
      "Data columns (total 5 columns):\n",
      " #   Column                    Non-Null Count  Dtype \n",
      "---  ------                    --------------  ----- \n",
      " 0   customer_id               99441 non-null  object\n",
      " 1   customer_unique_id        99441 non-null  object\n",
      " 2   customer_zip_code_prefix  99441 non-null  int64 \n",
      " 3   customer_city             99441 non-null  object\n",
      " 4   customer_state            99441 non-null  object\n",
      "dtypes: int64(1), object(4)\n",
      "memory usage: 3.8+ MB\n",
      "None\n"
     ]
    },
    {
     "data": {
      "text/html": [
       "<div>\n",
       "<style scoped>\n",
       "    .dataframe tbody tr th:only-of-type {\n",
       "        vertical-align: middle;\n",
       "    }\n",
       "\n",
       "    .dataframe tbody tr th {\n",
       "        vertical-align: top;\n",
       "    }\n",
       "\n",
       "    .dataframe thead th {\n",
       "        text-align: right;\n",
       "    }\n",
       "</style>\n",
       "<table border=\"1\" class=\"dataframe\">\n",
       "  <thead>\n",
       "    <tr style=\"text-align: right;\">\n",
       "      <th></th>\n",
       "      <th>customer_id</th>\n",
       "      <th>customer_unique_id</th>\n",
       "      <th>customer_zip_code_prefix</th>\n",
       "      <th>customer_city</th>\n",
       "      <th>customer_state</th>\n",
       "    </tr>\n",
       "  </thead>\n",
       "  <tbody>\n",
       "    <tr>\n",
       "      <th>0</th>\n",
       "      <td>06b8999e2fba1a1fbc88172c00ba8bc7</td>\n",
       "      <td>861eff4711a542e4b93843c6dd7febb0</td>\n",
       "      <td>14409</td>\n",
       "      <td>franca</td>\n",
       "      <td>SP</td>\n",
       "    </tr>\n",
       "    <tr>\n",
       "      <th>1</th>\n",
       "      <td>18955e83d337fd6b2def6b18a428ac77</td>\n",
       "      <td>290c77bc529b7ac935b93aa66c333dc3</td>\n",
       "      <td>9790</td>\n",
       "      <td>sao bernardo do campo</td>\n",
       "      <td>SP</td>\n",
       "    </tr>\n",
       "  </tbody>\n",
       "</table>\n",
       "</div>"
      ],
      "text/plain": [
       "                        customer_id                customer_unique_id  \\\n",
       "0  06b8999e2fba1a1fbc88172c00ba8bc7  861eff4711a542e4b93843c6dd7febb0   \n",
       "1  18955e83d337fd6b2def6b18a428ac77  290c77bc529b7ac935b93aa66c333dc3   \n",
       "\n",
       "   customer_zip_code_prefix          customer_city customer_state  \n",
       "0                     14409                 franca             SP  \n",
       "1                      9790  sao bernardo do campo             SP  "
      ]
     },
     "execution_count": 10,
     "metadata": {},
     "output_type": "execute_result"
    }
   ],
   "source": [
    "print(customers.shape)\n",
    "print(customers.info())\n",
    "customers.head(2)"
   ]
  },
  {
   "cell_type": "markdown",
   "id": "def73d3f",
   "metadata": {
    "variables": {
     "customers.shape[0]": "99441",
     "len(customers[\"customer_unique_id\"].value_counts())": "96096"
    }
   },
   "source": [
    "Il y a donc au total {{customers.shape[0]}} commandes, passées par  {{len(customers[\"customer_unique_id\"].value_counts())}} clients différents. Cette table donne également 3 informations sur la localisation du client (zip code, city, state), contenues dans des variables catégorielles."
   ]
  },
  {
   "cell_type": "markdown",
   "id": "b6afb405",
   "metadata": {},
   "source": [
    "Petite vérification : Est-ce que les \"customer_unique_id\" ont bien tous une adresse unique ? "
   ]
  },
  {
   "cell_type": "code",
   "execution_count": 51,
   "id": "3483e11d",
   "metadata": {},
   "outputs": [
    {
     "data": {
      "text/html": [
       "<div>\n",
       "<style scoped>\n",
       "    .dataframe tbody tr th:only-of-type {\n",
       "        vertical-align: middle;\n",
       "    }\n",
       "\n",
       "    .dataframe tbody tr th {\n",
       "        vertical-align: top;\n",
       "    }\n",
       "\n",
       "    .dataframe thead th {\n",
       "        text-align: right;\n",
       "    }\n",
       "</style>\n",
       "<table border=\"1\" class=\"dataframe\">\n",
       "  <thead>\n",
       "    <tr style=\"text-align: right;\">\n",
       "      <th></th>\n",
       "      <th>customer_id</th>\n",
       "      <th>customer_unique_id</th>\n",
       "      <th>customer_zip_code_prefix</th>\n",
       "      <th>customer_city</th>\n",
       "      <th>customer_state</th>\n",
       "    </tr>\n",
       "  </thead>\n",
       "  <tbody>\n",
       "    <tr>\n",
       "      <th>87012</th>\n",
       "      <td>d95f60d70d9ea9a7fe37c53c931940bb</td>\n",
       "      <td>004b45ec5c64187465168251cd1c9c2f</td>\n",
       "      <td>57035</td>\n",
       "      <td>maceio</td>\n",
       "      <td>AL</td>\n",
       "    </tr>\n",
       "    <tr>\n",
       "      <th>72451</th>\n",
       "      <td>49cf243e0d353cd418ca77868e24a670</td>\n",
       "      <td>004b45ec5c64187465168251cd1c9c2f</td>\n",
       "      <td>57055</td>\n",
       "      <td>maceio</td>\n",
       "      <td>AL</td>\n",
       "    </tr>\n",
       "    <tr>\n",
       "      <th>61403</th>\n",
       "      <td>f530197ea86ced9488a03d055e118ebf</td>\n",
       "      <td>0058f300f57d7b93c477a131a59b36c3</td>\n",
       "      <td>40731</td>\n",
       "      <td>salvador</td>\n",
       "      <td>BA</td>\n",
       "    </tr>\n",
       "    <tr>\n",
       "      <th>36269</th>\n",
       "      <td>8ac44e9c15d396b8c3c7cbab0fff4536</td>\n",
       "      <td>0058f300f57d7b93c477a131a59b36c3</td>\n",
       "      <td>41370</td>\n",
       "      <td>salvador</td>\n",
       "      <td>BA</td>\n",
       "    </tr>\n",
       "    <tr>\n",
       "      <th>54038</th>\n",
       "      <td>e024c1515b1062b1e7e613f840c35ba3</td>\n",
       "      <td>012452d40dafae4df401bced74cdb490</td>\n",
       "      <td>3984</td>\n",
       "      <td>sao paulo</td>\n",
       "      <td>SP</td>\n",
       "    </tr>\n",
       "    <tr>\n",
       "      <th>45307</th>\n",
       "      <td>f8e05a045de09e7855c9df3bb8815e0e</td>\n",
       "      <td>012452d40dafae4df401bced74cdb490</td>\n",
       "      <td>3220</td>\n",
       "      <td>sao paulo</td>\n",
       "      <td>SP</td>\n",
       "    </tr>\n",
       "    <tr>\n",
       "      <th>91727</th>\n",
       "      <td>483468a56a54dbbbf8f2b2354cc8a729</td>\n",
       "      <td>0178b244a5c281fb2ade54038dd4b161</td>\n",
       "      <td>12518</td>\n",
       "      <td>guaratingueta</td>\n",
       "      <td>SP</td>\n",
       "    </tr>\n",
       "    <tr>\n",
       "      <th>57218</th>\n",
       "      <td>ea6ba2b2e27f7efea73bdeab7fd6e4a0</td>\n",
       "      <td>0178b244a5c281fb2ade54038dd4b161</td>\n",
       "      <td>14960</td>\n",
       "      <td>novo horizonte</td>\n",
       "      <td>SP</td>\n",
       "    </tr>\n",
       "    <tr>\n",
       "      <th>82312</th>\n",
       "      <td>026ca919d538ee454a6d43fc8bd01de0</td>\n",
       "      <td>018b5a7502c30eb5f230f1b4eb23a156</td>\n",
       "      <td>74936</td>\n",
       "      <td>aparecida de goiania</td>\n",
       "      <td>GO</td>\n",
       "    </tr>\n",
       "    <tr>\n",
       "      <th>64800</th>\n",
       "      <td>b98e0d5aca458a26a6ff30fee0416ca2</td>\n",
       "      <td>018b5a7502c30eb5f230f1b4eb23a156</td>\n",
       "      <td>74976</td>\n",
       "      <td>aparecida de goiania</td>\n",
       "      <td>GO</td>\n",
       "    </tr>\n",
       "  </tbody>\n",
       "</table>\n",
       "</div>"
      ],
      "text/plain": [
       "                            customer_id                customer_unique_id  \\\n",
       "87012  d95f60d70d9ea9a7fe37c53c931940bb  004b45ec5c64187465168251cd1c9c2f   \n",
       "72451  49cf243e0d353cd418ca77868e24a670  004b45ec5c64187465168251cd1c9c2f   \n",
       "61403  f530197ea86ced9488a03d055e118ebf  0058f300f57d7b93c477a131a59b36c3   \n",
       "36269  8ac44e9c15d396b8c3c7cbab0fff4536  0058f300f57d7b93c477a131a59b36c3   \n",
       "54038  e024c1515b1062b1e7e613f840c35ba3  012452d40dafae4df401bced74cdb490   \n",
       "45307  f8e05a045de09e7855c9df3bb8815e0e  012452d40dafae4df401bced74cdb490   \n",
       "91727  483468a56a54dbbbf8f2b2354cc8a729  0178b244a5c281fb2ade54038dd4b161   \n",
       "57218  ea6ba2b2e27f7efea73bdeab7fd6e4a0  0178b244a5c281fb2ade54038dd4b161   \n",
       "82312  026ca919d538ee454a6d43fc8bd01de0  018b5a7502c30eb5f230f1b4eb23a156   \n",
       "64800  b98e0d5aca458a26a6ff30fee0416ca2  018b5a7502c30eb5f230f1b4eb23a156   \n",
       "\n",
       "       customer_zip_code_prefix         customer_city customer_state  \n",
       "87012                     57035                maceio             AL  \n",
       "72451                     57055                maceio             AL  \n",
       "61403                     40731              salvador             BA  \n",
       "36269                     41370              salvador             BA  \n",
       "54038                      3984             sao paulo             SP  \n",
       "45307                      3220             sao paulo             SP  \n",
       "91727                     12518         guaratingueta             SP  \n",
       "57218                     14960        novo horizonte             SP  \n",
       "82312                     74936  aparecida de goiania             GO  \n",
       "64800                     74976  aparecida de goiania             GO  "
      ]
     },
     "execution_count": 51,
     "metadata": {},
     "output_type": "execute_result"
    }
   ],
   "source": [
    "unique_id = customers.iloc[:,1:]#[\"customer_unique_id\"]\n",
    "unique_id = unique_id.drop_duplicates(ignore_index = False)\n",
    "unique_id = unique_id[\"customer_unique_id\"]\n",
    "customer_id_non_unique = unique_id.value_counts()>1\n",
    "customer_id_non_unique = unique_id.value_counts()[customer_id_non_unique]\n",
    "customer_id_non_unique = customer_id_non_unique.index\n",
    "customer_id_non_unique = unique_id.isin(customer_id_non_unique)\n",
    "customer_id_non_unique = unique_id[customer_id_non_unique].index\n",
    "customers_non_unique_commande = customers.loc[customer_id_non_unique]\n",
    "customers_non_unique_commande.sort_values(by=\"customer_unique_id\").head(10)"
   ]
  },
  {
   "cell_type": "markdown",
   "id": "acb2022c",
   "metadata": {},
   "source": [
    "Visiblement non ! Je pense qu'il sera donc préférable d'utiliser la table ```geolocation``` pour accéder à ces information. Vérifions si cette table est plus propre : "
   ]
  },
  {
   "cell_type": "code",
   "execution_count": 12,
   "id": "28c5bd10",
   "metadata": {},
   "outputs": [
    {
     "name": "stdout",
     "output_type": "stream",
     "text": [
      "\t Value counts of city for zip code = 71065: \n",
      " brasilia    75\n",
      "brasília    10\n",
      "guara        6\n",
      "Name: geolocation_city, dtype: int64\n",
      "\n",
      "\t Firsts 5 value counts of zip codes for city = maceio: \n",
      " 57035    400\n",
      "57036    123\n",
      "57052     99\n",
      "57025     75\n",
      "57010     74\n",
      "Name: geolocation_zip_code_prefix, dtype: int64\n",
      "\n",
      "\t geolocation dataframe head :\n"
     ]
    },
    {
     "data": {
      "text/html": [
       "<div>\n",
       "<style scoped>\n",
       "    .dataframe tbody tr th:only-of-type {\n",
       "        vertical-align: middle;\n",
       "    }\n",
       "\n",
       "    .dataframe tbody tr th {\n",
       "        vertical-align: top;\n",
       "    }\n",
       "\n",
       "    .dataframe thead th {\n",
       "        text-align: right;\n",
       "    }\n",
       "</style>\n",
       "<table border=\"1\" class=\"dataframe\">\n",
       "  <thead>\n",
       "    <tr style=\"text-align: right;\">\n",
       "      <th></th>\n",
       "      <th>geolocation_zip_code_prefix</th>\n",
       "      <th>geolocation_lat</th>\n",
       "      <th>geolocation_lng</th>\n",
       "      <th>geolocation_city</th>\n",
       "      <th>geolocation_state</th>\n",
       "    </tr>\n",
       "  </thead>\n",
       "  <tbody>\n",
       "    <tr>\n",
       "      <th>0</th>\n",
       "      <td>1037</td>\n",
       "      <td>-23.545621</td>\n",
       "      <td>-46.639292</td>\n",
       "      <td>sao paulo</td>\n",
       "      <td>SP</td>\n",
       "    </tr>\n",
       "    <tr>\n",
       "      <th>1</th>\n",
       "      <td>1046</td>\n",
       "      <td>-23.546081</td>\n",
       "      <td>-46.644820</td>\n",
       "      <td>sao paulo</td>\n",
       "      <td>SP</td>\n",
       "    </tr>\n",
       "  </tbody>\n",
       "</table>\n",
       "</div>"
      ],
      "text/plain": [
       "   geolocation_zip_code_prefix  geolocation_lat  geolocation_lng  \\\n",
       "0                         1037       -23.545621       -46.639292   \n",
       "1                         1046       -23.546081       -46.644820   \n",
       "\n",
       "  geolocation_city geolocation_state  \n",
       "0        sao paulo                SP  \n",
       "1        sao paulo                SP  "
      ]
     },
     "execution_count": 12,
     "metadata": {},
     "output_type": "execute_result"
    }
   ],
   "source": [
    "print(\"\\t Value counts of city for zip code = 71065: \\n\",\n",
    "    geolocation.loc[geolocation[\"geolocation_zip_code_prefix\"] == 71065,\n",
    "                    \"geolocation_city\"].value_counts())\n",
    "print(\"\\n\\t Firsts 5 value counts of zip codes for city = maceio: \\n\",\n",
    "      geolocation.loc[geolocation[\"geolocation_city\"] == \"maceio\",\n",
    "                      \"geolocation_zip_code_prefix\"].value_counts()[:5])\n",
    "\n",
    "print(\"\\n\\t geolocation dataframe head :\")\n",
    "geolocation.head(2)"
   ]
  },
  {
   "cell_type": "markdown",
   "id": "0938e28e",
   "metadata": {},
   "source": [
    "Eh bien non ! Il va y avoir à faire un prétraitemement sur ces variables catégorielles. Il me semble que plusieurs options sont possibles :\n",
    "* nettoyer les villes, donc nettoyage de texte, comme enlever les accents, les espaces en trop, les majuscules ...\n",
    "* nettoyer les codes postaux : rassembler par ville ? \n",
    "* faire appel à la table ```geolocation``` pour utiliser les coordonnées géographiques des clients (latitude et longitude). \n",
    "\n",
    "Dans une première intention, je propose de n'utiliser que les codes postaux (zip code) comme proxy pour la localisation, ou même utiliser l'état de résidence (customer state). "
   ]
  },
  {
   "cell_type": "code",
   "execution_count": 13,
   "id": "7fec2bbb",
   "metadata": {},
   "outputs": [
    {
     "data": {
      "image/png": "[encoded data removed]",
      "text/plain": [
       "<Figure size 864x288 with 2 Axes>"
      ]
     },
     "metadata": {
      "needs_background": "light"
     },
     "output_type": "display_data"
    }
   ],
   "source": [
    "plt.figure(figsize=(12,4))\n",
    "## removing duplicate customers (keep the 1st) :\n",
    "tmp = customers.drop_duplicates(subset=\"customer_unique_id\")\n",
    "\n",
    "plt.subplot(1,2,1)\n",
    "sns.histplot(tmp[\"customer_zip_code_prefix\"])\n",
    "plt.xticks(rotation=90)\n",
    "plt.title(\"Histogram of zip codes of customers\")\n",
    "\n",
    "## sort by customer state values counts : \n",
    "dummy = tmp[\"customer_state\"].value_counts().index\n",
    "dummy = pd.Series(dummy, name = 'customer_state').to_frame()\n",
    "tmp = pd.merge( tmp, dummy, on = \"customer_state\", how = 'right')\n",
    "\n",
    "plt.subplot(1,2,2)\n",
    "sns.histplot(tmp[\"customer_state\"])\n",
    "plt.xticks(rotation=90)\n",
    "plt.title(\"Histogram of state of customers\")\n",
    "plt.show()"
   ]
  },
  {
   "cell_type": "markdown",
   "id": "dd1f31e8",
   "metadata": {},
   "source": [
    "Une très grande majorité de clients sont dans l'état \"SP\" : a voir s'il on ne biaise pas les données en ne gardant que l'état. Les zip codes ont l'air répartis beaucoup plus homogènement, et me semblent donc à priori plus appropriés.\n",
    "\n",
    "\n",
    "## 1.2 Table des commandes\n",
    "Ensuite, nous cherchons à classifier les clients selon leur consommation : regardons donc l'échelle \"commande\"."
   ]
  },
  {
   "cell_type": "code",
   "execution_count": 56,
   "id": "8c2ee3f5",
   "metadata": {},
   "outputs": [
    {
     "name": "stdout",
     "output_type": "stream",
     "text": [
      "delivered      96478\n",
      "shipped         1107\n",
      "canceled         625\n",
      "unavailable      609\n",
      "invoiced         314\n",
      "processing       301\n",
      "created            5\n",
      "approved           2\n",
      "Name: order_status, dtype: int64\n"
     ]
    },
    {
     "data": {
      "text/html": [
       "<div>\n",
       "<style scoped>\n",
       "    .dataframe tbody tr th:only-of-type {\n",
       "        vertical-align: middle;\n",
       "    }\n",
       "\n",
       "    .dataframe tbody tr th {\n",
       "        vertical-align: top;\n",
       "    }\n",
       "\n",
       "    .dataframe thead th {\n",
       "        text-align: right;\n",
       "    }\n",
       "</style>\n",
       "<table border=\"1\" class=\"dataframe\">\n",
       "  <thead>\n",
       "    <tr style=\"text-align: right;\">\n",
       "      <th></th>\n",
       "      <th>order_id</th>\n",
       "      <th>customer_id</th>\n",
       "      <th>order_status</th>\n",
       "      <th>order_purchase_timestamp</th>\n",
       "      <th>order_approved_at</th>\n",
       "      <th>order_delivered_carrier_date</th>\n",
       "      <th>order_delivered_customer_date</th>\n",
       "      <th>order_estimated_delivery_date</th>\n",
       "    </tr>\n",
       "  </thead>\n",
       "  <tbody>\n",
       "    <tr>\n",
       "      <th>0</th>\n",
       "      <td>e481f51cbdc54678b7cc49136f2d6af7</td>\n",
       "      <td>9ef432eb6251297304e76186b10a928d</td>\n",
       "      <td>delivered</td>\n",
       "      <td>2017-10-02 10:56:33</td>\n",
       "      <td>2017-10-02 11:07:15</td>\n",
       "      <td>2017-10-04 19:55:00</td>\n",
       "      <td>2017-10-10 21:25:13</td>\n",
       "      <td>2017-10-18 00:00:00</td>\n",
       "    </tr>\n",
       "    <tr>\n",
       "      <th>1</th>\n",
       "      <td>53cdb2fc8bc7dce0b6741e2150273451</td>\n",
       "      <td>b0830fb4747a6c6d20dea0b8c802d7ef</td>\n",
       "      <td>delivered</td>\n",
       "      <td>2018-07-24 20:41:37</td>\n",
       "      <td>2018-07-26 03:24:27</td>\n",
       "      <td>2018-07-26 14:31:00</td>\n",
       "      <td>2018-08-07 15:27:45</td>\n",
       "      <td>2018-08-13 00:00:00</td>\n",
       "    </tr>\n",
       "    <tr>\n",
       "      <th>2</th>\n",
       "      <td>47770eb9100c2d0c44946d9cf07ec65d</td>\n",
       "      <td>41ce2a54c0b03bf3443c3d931a367089</td>\n",
       "      <td>delivered</td>\n",
       "      <td>2018-08-08 08:38:49</td>\n",
       "      <td>2018-08-08 08:55:23</td>\n",
       "      <td>2018-08-08 13:50:00</td>\n",
       "      <td>2018-08-17 18:06:29</td>\n",
       "      <td>2018-09-04 00:00:00</td>\n",
       "    </tr>\n",
       "  </tbody>\n",
       "</table>\n",
       "</div>"
      ],
      "text/plain": [
       "                           order_id                       customer_id  \\\n",
       "0  e481f51cbdc54678b7cc49136f2d6af7  9ef432eb6251297304e76186b10a928d   \n",
       "1  53cdb2fc8bc7dce0b6741e2150273451  b0830fb4747a6c6d20dea0b8c802d7ef   \n",
       "2  47770eb9100c2d0c44946d9cf07ec65d  41ce2a54c0b03bf3443c3d931a367089   \n",
       "\n",
       "  order_status order_purchase_timestamp    order_approved_at  \\\n",
       "0    delivered      2017-10-02 10:56:33  2017-10-02 11:07:15   \n",
       "1    delivered      2018-07-24 20:41:37  2018-07-26 03:24:27   \n",
       "2    delivered      2018-08-08 08:38:49  2018-08-08 08:55:23   \n",
       "\n",
       "  order_delivered_carrier_date order_delivered_customer_date  \\\n",
       "0          2017-10-04 19:55:00           2017-10-10 21:25:13   \n",
       "1          2018-07-26 14:31:00           2018-08-07 15:27:45   \n",
       "2          2018-08-08 13:50:00           2018-08-17 18:06:29   \n",
       "\n",
       "  order_estimated_delivery_date  \n",
       "0           2017-10-18 00:00:00  \n",
       "1           2018-08-13 00:00:00  \n",
       "2           2018-09-04 00:00:00  "
      ]
     },
     "execution_count": 56,
     "metadata": {},
     "output_type": "execute_result"
    }
   ],
   "source": [
    "print(orders.order_status.value_counts())\n",
    "orders.head(3)"
   ]
  },
  {
   "cell_type": "markdown",
   "id": "d2c2bc9f",
   "metadata": {},
   "source": [
    "Cette table regroupe les informations de status de la commande : la date et l'heure à laquelle elle a été passée, validée, expédiée, reçue. Elle contient aussi une variable de status qui me semble particulièrement intéressante. \n",
    "\n",
    "Pour les variables temporelles, je propose d'extraire plusieurs méta-variables :\n",
    "* la date de commande seule\n",
    "* l'heure de commande seule  \n",
    "* la différence entre la date de livraison estimée et la date de livraison déclarée par le client (en jours ?)\n",
    "* la différence entre la date de livraison déclarée par le client et la date de livraison déclarée par l'entreprise d'acheminement (en min ?)"
   ]
  },
  {
   "cell_type": "code",
   "execution_count": 133,
   "id": "136c14b4",
   "metadata": {},
   "outputs": [
    {
     "data": {
      "text/plain": [
       "2016-09-04    1\n",
       "2016-09-05    1\n",
       "2016-09-13    1\n",
       "2016-09-15    1\n",
       "2016-10-02    1\n",
       "             ..\n",
       "2018-09-29    1\n",
       "2018-10-01    1\n",
       "2018-10-03    1\n",
       "2018-10-16    1\n",
       "2018-10-17    1\n",
       "Name: order_purchase_date, Length: 634, dtype: int64"
      ]
     },
     "execution_count": 133,
     "metadata": {},
     "output_type": "execute_result"
    }
   ],
   "source": [
    "\n",
    "date_counts"
   ]
  },
  {
   "cell_type": "code",
   "execution_count": 135,
   "id": "7b027813",
   "metadata": {},
   "outputs": [
    {
     "data": {
      "image/png": "[encoded data removed]",
      "text/plain": [
       "<Figure size 432x288 with 1 Axes>"
      ]
     },
     "metadata": {
      "needs_background": "light"
     },
     "output_type": "display_data"
    },
    {
     "data": {
      "text/plain": [
       "Text(0, 0.5, 'Number of order purchase')"
      ]
     },
     "execution_count": 135,
     "metadata": {},
     "output_type": "execute_result"
    },
    {
     "data": {
      "image/png": "[encoded data removed]",
      "text/plain": [
       "<Figure size 432x288 with 1 Axes>"
      ]
     },
     "metadata": {
      "needs_background": "light"
     },
     "output_type": "display_data"
    }
   ],
   "source": [
    "my_orders = orders.copy()\n",
    "purchase_timestamp = pd.to_datetime(orders.order_purchase_timestamp,\n",
    "                     format = \"%Y-%m-%d %H:%M:%S\")\n",
    "\n",
    "purchase_date = pd.to_datetime(purchase_timestamp.dt.date, \n",
    "                               format = \"%Y-%m-%d\")\n",
    "\n",
    "my_orders.at[:,\"order_purchase_date\"] = purchase_date\n",
    "date_counts = my_orders.order_purchase_date.value_counts(sort=False)\n",
    "date_counts = date_counts.sort_index()\n",
    "sns.barplot(x = date_counts.index,\n",
    "            y = date_counts.values,\n",
    "            )\n",
    "# plt.xticks(rotation=90)\n",
    "plt.title(\"Histogram of purchase date\")\n",
    "plt.show()\n",
    "\n",
    "purch_time = pd.to_datetime(purchase_timestamp.dt.time, \n",
    "                            format = \"%H:%M:%S\")\n",
    "my_orders.at[:,\"order_purchase_time\"] = purch_time\n",
    "tmp = my_orders.order_purchase_time\n",
    "tmp.groupby(tmp.dt.hour).count()\n",
    "sns.barplot(x = np.arange(1,25), \n",
    "            y = tmp.groupby(tmp.dt.hour).count())\n",
    "plt.title(\"Barplot of order purchase hour\")\n",
    "plt.xlabel(\"Hour of day\")\n",
    "plt.ylabel(\"Number of order purchase\")\n",
    "# plt.show()\n"
   ]
  },
  {
   "cell_type": "code",
   "execution_count": 87,
   "id": "f9e230a5",
   "metadata": {},
   "outputs": [
    {
     "data": {
      "text/plain": [
       "0        10:56:33\n",
       "1        20:41:37\n",
       "2        08:38:49\n",
       "3        19:28:06\n",
       "4        21:18:39\n",
       "           ...   \n",
       "99436    09:54:05\n",
       "99437    12:58:58\n",
       "99438    14:46:43\n",
       "99439    21:28:27\n",
       "99440    20:57:30\n",
       "Name: order_purchase_timestamp, Length: 99441, dtype: object"
      ]
     },
     "execution_count": 87,
     "metadata": {},
     "output_type": "execute_result"
    }
   ],
   "source": [
    "tmp.dt.time"
   ]
  },
  {
   "cell_type": "code",
   "execution_count": null,
   "id": "9e739f20",
   "metadata": {},
   "outputs": [],
   "source": []
  },
  {
   "cell_type": "code",
   "execution_count": null,
   "id": "6d591ec3",
   "metadata": {},
   "outputs": [],
   "source": []
  },
  {
   "cell_type": "code",
   "execution_count": null,
   "id": "15ab163f",
   "metadata": {},
   "outputs": [],
   "source": []
  },
  {
   "cell_type": "code",
   "execution_count": null,
   "id": "76cb73bc",
   "metadata": {},
   "outputs": [],
   "source": []
  },
  {
   "cell_type": "markdown",
   "id": "72df731e",
   "metadata": {},
   "source": [
    "## 1.x Lien entre les tables :"
   ]
  },
  {
   "cell_type": "code",
   "execution_count": 49,
   "id": "8f6af830",
   "metadata": {},
   "outputs": [],
   "source": [
    "# sellers, products, orders, order_reviews, \n",
    "# order_items, geolocation, customers\n",
    "\n",
    "## customer-order\n",
    "customer_order = pd.merge(customers[[\"customer_unique_id\",\"customer_id\"]], \n",
    "    orders[[\"customer_id\",\"order_id\"]], \n",
    "    on = \"customer_id\", how = 'right')\n"
   ]
  },
  {
   "cell_type": "code",
   "execution_count": 42,
   "id": "55d201be",
   "metadata": {},
   "outputs": [
    {
     "data": {
      "text/html": [
       "<div>\n",
       "<style scoped>\n",
       "    .dataframe tbody tr th:only-of-type {\n",
       "        vertical-align: middle;\n",
       "    }\n",
       "\n",
       "    .dataframe tbody tr th {\n",
       "        vertical-align: top;\n",
       "    }\n",
       "\n",
       "    .dataframe thead th {\n",
       "        text-align: right;\n",
       "    }\n",
       "</style>\n",
       "<table border=\"1\" class=\"dataframe\">\n",
       "  <thead>\n",
       "    <tr style=\"text-align: right;\">\n",
       "      <th></th>\n",
       "      <th>customer_unique_id</th>\n",
       "      <th>customer_id</th>\n",
       "    </tr>\n",
       "  </thead>\n",
       "  <tbody>\n",
       "    <tr>\n",
       "      <th>0</th>\n",
       "      <td>861eff4711a542e4b93843c6dd7febb0</td>\n",
       "      <td>06b8999e2fba1a1fbc88172c00ba8bc7</td>\n",
       "    </tr>\n",
       "    <tr>\n",
       "      <th>1</th>\n",
       "      <td>290c77bc529b7ac935b93aa66c333dc3</td>\n",
       "      <td>18955e83d337fd6b2def6b18a428ac77</td>\n",
       "    </tr>\n",
       "    <tr>\n",
       "      <th>2</th>\n",
       "      <td>060e732b5b29e8181a18229c7b0b2b5e</td>\n",
       "      <td>4e7b3e00288586ebd08712fdd0374a03</td>\n",
       "    </tr>\n",
       "    <tr>\n",
       "      <th>3</th>\n",
       "      <td>259dac757896d24d7702b9acbbff3f3c</td>\n",
       "      <td>b2b6027bc5c5109e529d4dc6358b12c3</td>\n",
       "    </tr>\n",
       "    <tr>\n",
       "      <th>4</th>\n",
       "      <td>345ecd01c38d18a9036ed96c73b8d066</td>\n",
       "      <td>4f2d8ab171c80ec8364f7c12e35b23ad</td>\n",
       "    </tr>\n",
       "    <tr>\n",
       "      <th>...</th>\n",
       "      <td>...</td>\n",
       "      <td>...</td>\n",
       "    </tr>\n",
       "    <tr>\n",
       "      <th>99436</th>\n",
       "      <td>1a29b476fee25c95fbafc67c5ac95cf8</td>\n",
       "      <td>17ddf5dd5d51696bb3d7c6291687be6f</td>\n",
       "    </tr>\n",
       "    <tr>\n",
       "      <th>99437</th>\n",
       "      <td>d52a67c98be1cf6a5c84435bd38d095d</td>\n",
       "      <td>e7b71a9017aa05c9a7fd292d714858e8</td>\n",
       "    </tr>\n",
       "    <tr>\n",
       "      <th>99438</th>\n",
       "      <td>e9f50caf99f032f0bf3c55141f019d99</td>\n",
       "      <td>5e28dfe12db7fb50a4b2f691faecea5e</td>\n",
       "    </tr>\n",
       "    <tr>\n",
       "      <th>99439</th>\n",
       "      <td>73c2643a0a458b49f58cea58833b192e</td>\n",
       "      <td>56b18e2166679b8a959d72dd06da27f9</td>\n",
       "    </tr>\n",
       "    <tr>\n",
       "      <th>99440</th>\n",
       "      <td>84732c5050c01db9b23e19ba39899398</td>\n",
       "      <td>274fa6071e5e17fe303b9748641082c8</td>\n",
       "    </tr>\n",
       "  </tbody>\n",
       "</table>\n",
       "<p>99441 rows × 2 columns</p>\n",
       "</div>"
      ],
      "text/plain": [
       "                     customer_unique_id                       customer_id\n",
       "0      861eff4711a542e4b93843c6dd7febb0  06b8999e2fba1a1fbc88172c00ba8bc7\n",
       "1      290c77bc529b7ac935b93aa66c333dc3  18955e83d337fd6b2def6b18a428ac77\n",
       "2      060e732b5b29e8181a18229c7b0b2b5e  4e7b3e00288586ebd08712fdd0374a03\n",
       "3      259dac757896d24d7702b9acbbff3f3c  b2b6027bc5c5109e529d4dc6358b12c3\n",
       "4      345ecd01c38d18a9036ed96c73b8d066  4f2d8ab171c80ec8364f7c12e35b23ad\n",
       "...                                 ...                               ...\n",
       "99436  1a29b476fee25c95fbafc67c5ac95cf8  17ddf5dd5d51696bb3d7c6291687be6f\n",
       "99437  d52a67c98be1cf6a5c84435bd38d095d  e7b71a9017aa05c9a7fd292d714858e8\n",
       "99438  e9f50caf99f032f0bf3c55141f019d99  5e28dfe12db7fb50a4b2f691faecea5e\n",
       "99439  73c2643a0a458b49f58cea58833b192e  56b18e2166679b8a959d72dd06da27f9\n",
       "99440  84732c5050c01db9b23e19ba39899398  274fa6071e5e17fe303b9748641082c8\n",
       "\n",
       "[99441 rows x 2 columns]"
      ]
     },
     "execution_count": 42,
     "metadata": {},
     "output_type": "execute_result"
    }
   ],
   "source": [
    "customers[[\"customer_unique_id\",\"customer_id\"]]"
   ]
  },
  {
   "cell_type": "code",
   "execution_count": null,
   "id": "6214f56f",
   "metadata": {},
   "outputs": [],
   "source": []
  }
 ],
 "metadata": {
  "kernelspec": {
   "display_name": "Python 3 (ipykernel)",
   "language": "python",
   "name": "python3"
  },
  "language_info": {
   "codemirror_mode": {
    "name": "ipython",
    "version": 3
   },
   "file_extension": ".py",
   "mimetype": "text/x-python",
   "name": "python",
   "nbconvert_exporter": "python",
   "pygments_lexer": "ipython3",
   "version": "3.9.5"
  }
 },
 "nbformat": 4,
 "nbformat_minor": 5
}
