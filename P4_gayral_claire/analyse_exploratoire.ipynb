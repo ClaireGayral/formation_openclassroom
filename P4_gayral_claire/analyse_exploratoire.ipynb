{
 "cells": [
  {
   "cell_type": "markdown",
   "id": "95d2ee9e",
   "metadata": {},
   "source": [
    "# Présentation du projet : \n",
    "\n",
    "## Contexte \n",
    "\n",
    "Vous êtes consultant pour Olist, une solution de vente sur les marketplaces en ligne.\n",
    "\n",
    "Olist souhaite que vous fournissiez à ses équipes d'e-commerce une segmentation des clients qu’elles pourront utiliser au quotidien pour leurs campagnes de communication.\n",
    "\n",
    "Votre objectif est de comprendre les différents types d’utilisateurs grâce à leur comportement et à leurs données personnelles.\n",
    "\n",
    "Vous devrez fournir à l’équipe marketing une description actionable de votre segmentation et de sa logique sous-jacente pour une utilisation optimale, ainsi qu’une proposition de contrat de maintenance basée sur une analyse de la stabilité des segments au cours du temps.\n",
    "\n",
    "\n",
    "## Données \n",
    "\n",
    "Pour cette mission, Olist vous fournit une base de données anonymisée comportant des informations sur l’historique de commandes, les produits achetés, les commentaires de satisfaction, et la localisation des clients depuis janvier 2017.\n",
    "\n",
    "## Mission\n",
    "\n",
    "Votre mission est d’aider les équipes d’Olist à comprendre les différents types d'utilisateurs. Vous utiliserez donc des méthodes non supervisées pour regrouper ensemble des clients de profils similaires. Ces catégories pourront être utilisées par l’équipe marketing pour mieux communiquer.\n",
    "\n",
    "Pour des raisons de confidentialité, Olist ne fournit pas beaucoup de données, à vous de fouiller dans celles dont vous disposez et de créer les meilleures features pour les exploiter.\n",
    "\n",
    "Enfin, votre client, Olist, a spécifié sa demande ainsi :\n",
    "\n",
    "*La segmentation proposée doit être exploitable et facile d’utilisation pour l’équipe marketing.\n",
    "Vous évaluerez la fréquence à laquelle la segmentation doit être mise à jour, afin de pouvoir effectuer un devis de contrat de maintenance.\n",
    "Le code fourni doit respecter la convention PEP8, pour être utilisable par Olist.*\n",
    "\n",
    "\n",
    "# Ressources : \n",
    "\n",
    "## Les données et leur description :\n",
    "\n",
    "Site d'Olist (en portugais) : https://olist.com/\n",
    "\n",
    "Adresse des données : https://www.kaggle.com/olistbr/brazilian-ecommerce\n",
    "\n",
    "Convention PEP8 : https://www.python.org/dev/peps/pep-0008/\n"
   ]
  },
  {
   "cell_type": "code",
   "execution_count": 65,
   "id": "aa249ee0",
   "metadata": {},
   "outputs": [],
   "source": [
    "import pandas as pd\n",
    "import numpy as np\n",
    "import matplotlib.pyplot as plt\n",
    "import seaborn as sns\n",
    "\n",
    "data_path = \"/home/clairegayral/Documents/openclassroom/data/P4/\"\n",
    "res_path = \"/home/clairegayral/Documents/openclassroom/res/P4/\"\n",
    "\n",
    "## my .py : \n",
    "from script00_lists_of_vars import *\n",
    "from script01_duplicates import *\n",
    "from script02_missing_values_treatment import *\n",
    "from script03_univariate_analysis import *\n",
    "from script04_multivariate_analysis import *\n",
    "\n",
    "from sklearn import model_selection \n",
    "from sklearn import preprocessing\n",
    "from sklearn import neighbors\n",
    "from sklearn.impute import KNNImputer\n",
    "from sklearn import linear_model\n"
   ]
  },
  {
   "cell_type": "code",
   "execution_count": 66,
   "id": "08b41f47",
   "metadata": {},
   "outputs": [],
   "source": [
    "product_category_name_translation = pd.read_csv(data_path + \"product_category_name_translation.csv\")\n",
    "sellers = pd.read_csv(data_path+\"olist_sellers_dataset.csv\")\n",
    "products = pd.read_csv(data_path+\"olist_products_dataset.csv\")\n",
    "orders = pd.read_csv(data_path+\"olist_orders_dataset.csv\")\n",
    "order_reviews = pd.read_csv(data_path+\"olist_order_reviews_dataset.csv\")\n",
    "order_payments = pd.read_csv(data_path+\"olist_order_payments_dataset.csv\")\n",
    "order_items = pd.read_csv(data_path+\"olist_order_items_dataset.csv\")\n",
    "geolocation = pd.read_csv(data_path+\"olist_geolocation_dataset.csv\")\n",
    "customers = pd.read_csv(data_path+\"olist_customers_dataset.csv\")\n"
   ]
  },
  {
   "cell_type": "markdown",
   "id": "c8d455fa",
   "metadata": {},
   "source": [
    "Je commence par regarder les liens entre les tables. Ce qui nous intéresse est une classification des clients : commençons donc par explorer cette table seule. "
   ]
  },
  {
   "cell_type": "code",
   "execution_count": 67,
   "id": "4acde080",
   "metadata": {},
   "outputs": [
    {
     "name": "stdout",
     "output_type": "stream",
     "text": [
      "(99441, 5)\n",
      "<class 'pandas.core.frame.DataFrame'>\n",
      "RangeIndex: 99441 entries, 0 to 99440\n",
      "Data columns (total 5 columns):\n",
      " #   Column                    Non-Null Count  Dtype \n",
      "---  ------                    --------------  ----- \n",
      " 0   customer_id               99441 non-null  object\n",
      " 1   customer_unique_id        99441 non-null  object\n",
      " 2   customer_zip_code_prefix  99441 non-null  int64 \n",
      " 3   customer_city             99441 non-null  object\n",
      " 4   customer_state            99441 non-null  object\n",
      "dtypes: int64(1), object(4)\n",
      "memory usage: 3.8+ MB\n",
      "None\n"
     ]
    },
    {
     "data": {
      "text/html": [
       "<div>\n",
       "<style scoped>\n",
       "    .dataframe tbody tr th:only-of-type {\n",
       "        vertical-align: middle;\n",
       "    }\n",
       "\n",
       "    .dataframe tbody tr th {\n",
       "        vertical-align: top;\n",
       "    }\n",
       "\n",
       "    .dataframe thead th {\n",
       "        text-align: right;\n",
       "    }\n",
       "</style>\n",
       "<table border=\"1\" class=\"dataframe\">\n",
       "  <thead>\n",
       "    <tr style=\"text-align: right;\">\n",
       "      <th></th>\n",
       "      <th>customer_id</th>\n",
       "      <th>customer_unique_id</th>\n",
       "      <th>customer_zip_code_prefix</th>\n",
       "      <th>customer_city</th>\n",
       "      <th>customer_state</th>\n",
       "    </tr>\n",
       "  </thead>\n",
       "  <tbody>\n",
       "    <tr>\n",
       "      <th>0</th>\n",
       "      <td>06b8999e2fba1a1fbc88172c00ba8bc7</td>\n",
       "      <td>861eff4711a542e4b93843c6dd7febb0</td>\n",
       "      <td>14409</td>\n",
       "      <td>franca</td>\n",
       "      <td>SP</td>\n",
       "    </tr>\n",
       "    <tr>\n",
       "      <th>1</th>\n",
       "      <td>18955e83d337fd6b2def6b18a428ac77</td>\n",
       "      <td>290c77bc529b7ac935b93aa66c333dc3</td>\n",
       "      <td>9790</td>\n",
       "      <td>sao bernardo do campo</td>\n",
       "      <td>SP</td>\n",
       "    </tr>\n",
       "  </tbody>\n",
       "</table>\n",
       "</div>"
      ],
      "text/plain": [
       "                        customer_id                customer_unique_id  \\\n",
       "0  06b8999e2fba1a1fbc88172c00ba8bc7  861eff4711a542e4b93843c6dd7febb0   \n",
       "1  18955e83d337fd6b2def6b18a428ac77  290c77bc529b7ac935b93aa66c333dc3   \n",
       "\n",
       "   customer_zip_code_prefix          customer_city customer_state  \n",
       "0                     14409                 franca             SP  \n",
       "1                      9790  sao bernardo do campo             SP  "
      ]
     },
     "execution_count": 67,
     "metadata": {},
     "output_type": "execute_result"
    }
   ],
   "source": [
    "print(customers.shape)\n",
    "print(customers.info())\n",
    "customers.head(2)"
   ]
  },
  {
   "cell_type": "markdown",
   "id": "b6afb405",
   "metadata": {},
   "source": [
    "Petite vérification : Est-ce que les \"customer_unique_id\" ont bien tous une adresse unique ? "
   ]
  },
  {
   "cell_type": "code",
   "execution_count": 155,
   "id": "80d48357",
   "metadata": {},
   "outputs": [
    {
     "data": {
      "text/html": [
       "<div>\n",
       "<style scoped>\n",
       "    .dataframe tbody tr th:only-of-type {\n",
       "        vertical-align: middle;\n",
       "    }\n",
       "\n",
       "    .dataframe tbody tr th {\n",
       "        vertical-align: top;\n",
       "    }\n",
       "\n",
       "    .dataframe thead th {\n",
       "        text-align: right;\n",
       "    }\n",
       "</style>\n",
       "<table border=\"1\" class=\"dataframe\">\n",
       "  <thead>\n",
       "    <tr style=\"text-align: right;\">\n",
       "      <th></th>\n",
       "      <th>customer_id</th>\n",
       "      <th>customer_unique_id</th>\n",
       "      <th>customer_zip_code_prefix</th>\n",
       "      <th>customer_city</th>\n",
       "      <th>customer_state</th>\n",
       "    </tr>\n",
       "  </thead>\n",
       "  <tbody>\n",
       "    <tr>\n",
       "      <th>87012</th>\n",
       "      <td>d95f60d70d9ea9a7fe37c53c931940bb</td>\n",
       "      <td>004b45ec5c64187465168251cd1c9c2f</td>\n",
       "      <td>57035</td>\n",
       "      <td>maceio</td>\n",
       "      <td>AL</td>\n",
       "    </tr>\n",
       "    <tr>\n",
       "      <th>72451</th>\n",
       "      <td>49cf243e0d353cd418ca77868e24a670</td>\n",
       "      <td>004b45ec5c64187465168251cd1c9c2f</td>\n",
       "      <td>57055</td>\n",
       "      <td>maceio</td>\n",
       "      <td>AL</td>\n",
       "    </tr>\n",
       "    <tr>\n",
       "      <th>61403</th>\n",
       "      <td>f530197ea86ced9488a03d055e118ebf</td>\n",
       "      <td>0058f300f57d7b93c477a131a59b36c3</td>\n",
       "      <td>40731</td>\n",
       "      <td>salvador</td>\n",
       "      <td>BA</td>\n",
       "    </tr>\n",
       "    <tr>\n",
       "      <th>36269</th>\n",
       "      <td>8ac44e9c15d396b8c3c7cbab0fff4536</td>\n",
       "      <td>0058f300f57d7b93c477a131a59b36c3</td>\n",
       "      <td>41370</td>\n",
       "      <td>salvador</td>\n",
       "      <td>BA</td>\n",
       "    </tr>\n",
       "    <tr>\n",
       "      <th>54038</th>\n",
       "      <td>e024c1515b1062b1e7e613f840c35ba3</td>\n",
       "      <td>012452d40dafae4df401bced74cdb490</td>\n",
       "      <td>3984</td>\n",
       "      <td>sao paulo</td>\n",
       "      <td>SP</td>\n",
       "    </tr>\n",
       "    <tr>\n",
       "      <th>...</th>\n",
       "      <td>...</td>\n",
       "      <td>...</td>\n",
       "      <td>...</td>\n",
       "      <td>...</td>\n",
       "      <td>...</td>\n",
       "    </tr>\n",
       "    <tr>\n",
       "      <th>84770</th>\n",
       "      <td>e09ccd04cb9679cb5033871d086afd62</td>\n",
       "      <td>fd09c64a101e3eff4adbca1b28552514</td>\n",
       "      <td>8070</td>\n",
       "      <td>sao paulo</td>\n",
       "      <td>SP</td>\n",
       "    </tr>\n",
       "    <tr>\n",
       "      <th>76055</th>\n",
       "      <td>15baa4d1c9fd174d26e105980d24aeb9</td>\n",
       "      <td>fe3e52de024b82706717c38c8e183084</td>\n",
       "      <td>72306</td>\n",
       "      <td>brasilia</td>\n",
       "      <td>DF</td>\n",
       "    </tr>\n",
       "    <tr>\n",
       "      <th>59713</th>\n",
       "      <td>1e79e4f1a4653e041c3ce1ddb2ff239f</td>\n",
       "      <td>fe3e52de024b82706717c38c8e183084</td>\n",
       "      <td>36420</td>\n",
       "      <td>ouro branco</td>\n",
       "      <td>MG</td>\n",
       "    </tr>\n",
       "    <tr>\n",
       "      <th>78212</th>\n",
       "      <td>185d4f6e56ea6a1e423468b4d2eaa7cc</td>\n",
       "      <td>fe59d5878cd80080edbd29b5a0a4e1cf</td>\n",
       "      <td>71065</td>\n",
       "      <td>brasilia</td>\n",
       "      <td>DF</td>\n",
       "    </tr>\n",
       "    <tr>\n",
       "      <th>23933</th>\n",
       "      <td>94c00589c7550e31350908f68e97d488</td>\n",
       "      <td>fe59d5878cd80080edbd29b5a0a4e1cf</td>\n",
       "      <td>71065</td>\n",
       "      <td>guara</td>\n",
       "      <td>DF</td>\n",
       "    </tr>\n",
       "  </tbody>\n",
       "</table>\n",
       "<p>508 rows × 5 columns</p>\n",
       "</div>"
      ],
      "text/plain": [
       "                            customer_id                customer_unique_id  \\\n",
       "87012  d95f60d70d9ea9a7fe37c53c931940bb  004b45ec5c64187465168251cd1c9c2f   \n",
       "72451  49cf243e0d353cd418ca77868e24a670  004b45ec5c64187465168251cd1c9c2f   \n",
       "61403  f530197ea86ced9488a03d055e118ebf  0058f300f57d7b93c477a131a59b36c3   \n",
       "36269  8ac44e9c15d396b8c3c7cbab0fff4536  0058f300f57d7b93c477a131a59b36c3   \n",
       "54038  e024c1515b1062b1e7e613f840c35ba3  012452d40dafae4df401bced74cdb490   \n",
       "...                                 ...                               ...   \n",
       "84770  e09ccd04cb9679cb5033871d086afd62  fd09c64a101e3eff4adbca1b28552514   \n",
       "76055  15baa4d1c9fd174d26e105980d24aeb9  fe3e52de024b82706717c38c8e183084   \n",
       "59713  1e79e4f1a4653e041c3ce1ddb2ff239f  fe3e52de024b82706717c38c8e183084   \n",
       "78212  185d4f6e56ea6a1e423468b4d2eaa7cc  fe59d5878cd80080edbd29b5a0a4e1cf   \n",
       "23933  94c00589c7550e31350908f68e97d488  fe59d5878cd80080edbd29b5a0a4e1cf   \n",
       "\n",
       "       customer_zip_code_prefix customer_city customer_state  \n",
       "87012                     57035        maceio             AL  \n",
       "72451                     57055        maceio             AL  \n",
       "61403                     40731      salvador             BA  \n",
       "36269                     41370      salvador             BA  \n",
       "54038                      3984     sao paulo             SP  \n",
       "...                         ...           ...            ...  \n",
       "84770                      8070     sao paulo             SP  \n",
       "76055                     72306      brasilia             DF  \n",
       "59713                     36420   ouro branco             MG  \n",
       "78212                     71065      brasilia             DF  \n",
       "23933                     71065         guara             DF  \n",
       "\n",
       "[508 rows x 5 columns]"
      ]
     },
     "execution_count": 155,
     "metadata": {},
     "output_type": "execute_result"
    }
   ],
   "source": [
    "unique_id = customers[\"customer_unique_id\"]\n",
    "customer_id_non_unique = unique_id.value_counts()>1\n",
    "customer_id_non_unique = unique_id.value_counts()[customer_id_non_unique].index\n",
    "customer_id_non_unique = unique_id.isin(customer_id_non_unique)\n",
    "customers_non_unique_commande = customers[customer_id_non_unique]\n",
    "# customers_non_unique_commande.sort_values(by=\"customer_unique_id\")\n",
    "\n",
    "unique_id = customers_non_unique_commande.iloc[:,1:].drop_duplicates()\n",
    "unique_id = customers_non_unique_commande.loc[unique_id.index]\n",
    "unique_id = unique_id[\"customer_unique_id\"]\n",
    "\n",
    "tmp = unique_id.value_counts()>1\n",
    "tmp = unique_id.value_counts()[tmp].index\n",
    "tmp = unique_id.isin(tmp)\n",
    "tmp = unique_id[tmp].index\n",
    "customers_non_unique_commande.loc[tmp].sort_values(by=\"customer_unique_id\")"
   ]
  },
  {
   "cell_type": "code",
   "execution_count": 102,
   "id": "3103bde2",
   "metadata": {},
   "outputs": [
    {
     "data": {
      "text/plain": [
       "sao paulo            1084\n",
       "rio de janeiro        510\n",
       "belo horizonte        198\n",
       "brasilia              126\n",
       "curitiba              104\n",
       "                     ... \n",
       "salinas                 1\n",
       "juazeiro do norte       1\n",
       "canarana                1\n",
       "viana                   1\n",
       "aracati                 1\n",
       "Name: customer_city, Length: 819, dtype: int64"
      ]
     },
     "execution_count": 102,
     "metadata": {},
     "output_type": "execute_result"
    }
   ],
   "source": [
    "customers_non_unique_commande.loc[:,\"customer_city\"].value_counts()\n"
   ]
  },
  {
   "cell_type": "code",
   "execution_count": null,
   "id": "fb0a44f0",
   "metadata": {},
   "outputs": [],
   "source": []
  },
  {
   "cell_type": "code",
   "execution_count": null,
   "id": "7fec2bbb",
   "metadata": {},
   "outputs": [],
   "source": []
  },
  {
   "cell_type": "code",
   "execution_count": null,
   "id": "be448248",
   "metadata": {},
   "outputs": [],
   "source": [
    "customers_non_duplicates = customers.drop_duplicates(subset=\"customer_unique_id\")\n",
    "\n",
    "# y = customers_non_unique_commande[\"customer_city\"]\n",
    "# customers_non_unique_commande.loc[:,\"customer_city\"].value_counts()"
   ]
  },
  {
   "cell_type": "code",
   "execution_count": 70,
   "id": "aa09cd7e",
   "metadata": {},
   "outputs": [],
   "source": []
  },
  {
   "cell_type": "code",
   "execution_count": null,
   "id": "c2508681",
   "metadata": {},
   "outputs": [],
   "source": [
    "y = \n",
    "sns.barplot(x=y.index, y=y.values, order =y.sort_values(ascending=False).index)\n"
   ]
  },
  {
   "cell_type": "markdown",
   "id": "def73d3f",
   "metadata": {
    "variables": {
     "customers.shape[0]": "99441",
     "len(customers[\"customer_unique_id\"].value_counts())": "96096"
    }
   },
   "source": [
    "Il y a donc au total {{customers.shape[0]}} commandes, passées par  {{len(customers[\"customer_unique_id\"].value_counts())}} clients différents. Cette table donne également 3 informations sur la localisation du client (zip code, city, state), contenues dans des variables catégorielles."
   ]
  },
  {
   "cell_type": "markdown",
   "id": "1b649a51",
   "metadata": {
    "variables": {
     "customers.shape[0]": "99441",
     "len(customers[\"customer_unique_id\"].value_counts())": "96096"
    }
   },
   "source": [
    "A voir s'il ne sera pas pertinent de faire appel à la table ```geolocation``` pour avoir les coordonnées des clients (latitude et longitude). "
   ]
  },
  {
   "cell_type": "code",
   "execution_count": 45,
   "id": "6fe04a48",
   "metadata": {},
   "outputs": [
    {
     "data": {
      "text/html": [
       "<div>\n",
       "<style scoped>\n",
       "    .dataframe tbody tr th:only-of-type {\n",
       "        vertical-align: middle;\n",
       "    }\n",
       "\n",
       "    .dataframe tbody tr th {\n",
       "        vertical-align: top;\n",
       "    }\n",
       "\n",
       "    .dataframe thead th {\n",
       "        text-align: right;\n",
       "    }\n",
       "</style>\n",
       "<table border=\"1\" class=\"dataframe\">\n",
       "  <thead>\n",
       "    <tr style=\"text-align: right;\">\n",
       "      <th></th>\n",
       "      <th>geolocation_zip_code_prefix</th>\n",
       "      <th>geolocation_lat</th>\n",
       "      <th>geolocation_lng</th>\n",
       "      <th>geolocation_city</th>\n",
       "      <th>geolocation_state</th>\n",
       "    </tr>\n",
       "  </thead>\n",
       "  <tbody>\n",
       "    <tr>\n",
       "      <th>0</th>\n",
       "      <td>1037</td>\n",
       "      <td>-23.545621</td>\n",
       "      <td>-46.639292</td>\n",
       "      <td>sao paulo</td>\n",
       "      <td>SP</td>\n",
       "    </tr>\n",
       "    <tr>\n",
       "      <th>1</th>\n",
       "      <td>1046</td>\n",
       "      <td>-23.546081</td>\n",
       "      <td>-46.644820</td>\n",
       "      <td>sao paulo</td>\n",
       "      <td>SP</td>\n",
       "    </tr>\n",
       "  </tbody>\n",
       "</table>\n",
       "</div>"
      ],
      "text/plain": [
       "   geolocation_zip_code_prefix  geolocation_lat  geolocation_lng  \\\n",
       "0                         1037       -23.545621       -46.639292   \n",
       "1                         1046       -23.546081       -46.644820   \n",
       "\n",
       "  geolocation_city geolocation_state  \n",
       "0        sao paulo                SP  \n",
       "1        sao paulo                SP  "
      ]
     },
     "execution_count": 45,
     "metadata": {},
     "output_type": "execute_result"
    }
   ],
   "source": [
    "geolocation.head(2)"
   ]
  },
  {
   "cell_type": "markdown",
   "id": "dd1f31e8",
   "metadata": {},
   "source": [
    "Ensuite, nous cherchons à classifier les clients selon leur consommation : regardons donc l'échelle \"commande\""
   ]
  },
  {
   "cell_type": "code",
   "execution_count": 13,
   "id": "8f6af830",
   "metadata": {},
   "outputs": [
    {
     "name": "stdout",
     "output_type": "stream",
     "text": [
      "88492    00e7ee1b050b8499577073aeb2a297a1\n",
      "Name: order_id, dtype: object\n",
      "90418    29150127e6685892b6eab3eec79f59c7\n",
      "Name: order_id, dtype: object\n",
      "22557    b2059ed67ce144a36e2aa97d2c9e9ad2\n",
      "Name: order_id, dtype: object\n",
      "32180    951670f92359f4fe4a63112aa7306eba\n",
      "Name: order_id, dtype: object\n",
      "69902    6b7d50bd145f6fc7f33cebabd7e49d0f\n",
      "Name: order_id, dtype: object\n",
      "69705    5741ea1f91b5fbab2bd2dc653a5b5099\n",
      "Name: order_id, dtype: object\n",
      "14908    36e694cf4cbc2a4803200c35e84abdc4\n",
      "Name: order_id, dtype: object\n",
      "68879    1093c8304c7a003280dd34598194913d\n",
      "Name: order_id, dtype: object\n",
      "20163    1ebeea841c590e86a14a0d7a48e7d062\n",
      "Name: order_id, dtype: object\n",
      "27657    7433cbcc783205509d66a5260da5b574\n",
      "Name: order_id, dtype: object\n",
      "48039    8428e578bb1cf839ae26a6b7615502b9\n",
      "Name: order_id, dtype: object\n",
      "55343    f86c5ed7048ac10eb88ec21c00f71892\n",
      "Name: order_id, dtype: object\n",
      "8261    83d8f70418eefd96f37b483dff430305\n",
      "Name: order_id, dtype: object\n",
      "47483    852d2f4d37773bcbc21c8e09a05a4ea5\n",
      "Name: order_id, dtype: object\n",
      "49600    6c949e670b5d33dc8fb8ad25b6da4860\n",
      "Name: order_id, dtype: object\n"
     ]
    }
   ],
   "source": [
    "# sellers, products, orders, order_reviews, \n",
    "# order_items, geolocation, customers\n",
    "\n",
    "link_customer_order = {}\n",
    "\n",
    "for customer_id in customers[\"customer_id\"][:15] :\n",
    "    print(orders.loc[orders[\"customer_id\"]== customer_id, \"order_id\"])"
   ]
  },
  {
   "cell_type": "code",
   "execution_count": null,
   "id": "55d201be",
   "metadata": {},
   "outputs": [],
   "source": []
  }
 ],
 "metadata": {
  "kernelspec": {
   "display_name": "Python 3 (ipykernel)",
   "language": "python",
   "name": "python3"
  },
  "language_info": {
   "codemirror_mode": {
    "name": "ipython",
    "version": 3
   },
   "file_extension": ".py",
   "mimetype": "text/x-python",
   "name": "python",
   "nbconvert_exporter": "python",
   "pygments_lexer": "ipython3",
   "version": "3.9.5"
  }
 },
 "nbformat": 4,
 "nbformat_minor": 5
}
