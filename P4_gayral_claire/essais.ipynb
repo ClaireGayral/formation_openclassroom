{
 "cells": [
  {
   "cell_type": "markdown",
   "id": "14cfc4e8",
   "metadata": {},
   "source": [
    "# Modèles de classification\n",
    "\n",
    "Ce notebook contient les différents essais de modélisation que j'ai lancé pour ségmenter les clients. Ce sont des approches non supervisées :\n",
    "* modèle hiérarchique sur RMF\n",
    "* modèle DBSCAN \n",
    "* kmeans \n",
    "\n",
    "\n",
    "J'ai lancé ces modèles sur deux jeux de données extraits de l'analyse exploratoire. Le premier, constitué de 3 variables, est issu d'un modèle de marketing, le RMF. Le deuxième est l'aggrégation des différentes tables, à l'échelle des commandes, et je n'ai considéré que la dernière commande de chaque client (modèle qui exploite mieux les caractéristiques des différentes tables, mais est sans mémoire). \n"
   ]
  },
  {
   "cell_type": "markdown",
   "id": "37a9d9f1",
   "metadata": {},
   "source": [
    "# Reconstruction des tables\n",
    "\n",
    "Je propose de résumer le travail d'analyse exploiratoire présenté dans le premier notebook, pour en faire un script actionnable pour extraire les tables de travail. Ce travail est dans le script \"script00_P4_preprocessing\""
   ]
  },
  {
   "cell_type": "code",
   "execution_count": 19,
   "id": "08192e5d",
   "metadata": {},
   "outputs": [],
   "source": [
    "import pandas as pd\n",
    "import numpy as np\n",
    "import matplotlib.pyplot as plt\n",
    "import seaborn as sns\n",
    "import pickle\n",
    "\n",
    "\n",
    "data_path = \"/home/clairegayral/Documents/openclassroom/data/P4/\"\n",
    "res_path = \"/home/clairegayral/Documents/openclassroom/res/P4/\"\n",
    "\n",
    "## my .py : \n",
    "# from script00_P4_preprocessing import *\n",
    "from script01_duplicates import *\n",
    "from script02_missing_values_treatment import *\n",
    "from script03_univariate_analysis import *\n",
    "from script04_multivariate_analysis import *\n",
    "from script05_CV_regression import *\n",
    "from script06_reduce_dim import *\n",
    "from script07_customer_clustering import *\n",
    "# my_customers.to_csv(res_path+\"checkpoints/\"+\"my_customers.csv\")\n",
    "# my_orders.to_csv(res_path+\"checkpoints/\"+\"my_orders.csv\")\n",
    "# my_products.to_csv(res_path+\"checkpoints/\"+\"my_products.csv\")\n",
    "# rfm.to_csv(res_path+\"checkpoints/\"+\"rfm.csv\")\n",
    "rfm = pd.read_csv(res_path+\"checkpoints/\"+\"rfm.csv\",index_col=0)\n",
    "my_orders = pd.read_csv(res_path+\"checkpoints/\"+\"my_orders.csv\",index_col=0)\n",
    "\n",
    "\n",
    "\n",
    "from sklearn import model_selection \n",
    "from sklearn import preprocessing\n",
    "from sklearn import neighbors\n",
    "from sklearn import linear_model\n",
    "\n",
    "from sklearn.impute import KNNImputer\n",
    "from sklearn.decomposition import NMF\n",
    "from sklearn.decomposition import PCA\n",
    "from sklearn.cluster import KMeans\n",
    "from sklearn.cluster import AgglomerativeClustering\n",
    "from sklearn.pipeline import Pipeline\n",
    "from sklearn.metrics import accuracy_score\n",
    "from sklearn.metrics import fbeta_score\n",
    "from sklearn.metrics import make_scorer\n",
    "from sklearn.metrics import mean_squared_error\n",
    "from sklearn.metrics import fowlkes_mallows_score\n",
    "from sklearn.metrics.pairwise import pairwise_kernels\n",
    "\n",
    "\n",
    "from sklearn.preprocessing import OneHotEncoder\n",
    "from sklearn.pipeline import make_pipeline\n",
    "from sklearn.linear_model import LogisticRegression"
   ]
  },
  {
   "cell_type": "markdown",
   "id": "a4262286",
   "metadata": {},
   "source": [
    "# 1. Clustering sur RFM :"
   ]
  },
  {
   "cell_type": "code",
   "execution_count": 2,
   "id": "db8689b0",
   "metadata": {},
   "outputs": [],
   "source": [
    "rfm_df = rfm.copy()\n",
    "\n",
    "# Removing (statistical) outliers for monetary_value\n",
    "Q1 = rfm_df.monetary_value.quantile(0.05)\n",
    "Q3 = rfm_df.monetary_value.quantile(0.95)\n",
    "IQR = Q3 - Q1\n",
    "rfm_df = rfm_df[(rfm_df.monetary_value >= Q1 - 1.5*IQR) & (rfm_df.monetary_value <= Q3 + 1.5*IQR)]\n",
    "\n",
    "# # Removing (statistical) outliers for recency\n",
    "# Q1 = rfm_df.recency.quantile(0.05)\n",
    "# Q3 = rfm_df.recency.quantile(0.95)\n",
    "# IQR = Q3 - Q1\n",
    "# rfm_df = rfm_df[(rfm_df.recency >= Q1 - 1.5*IQR) & (rfm_df.recency <= Q3 + 1.5*IQR)]\n",
    "\n",
    "# # Removing (statistical) outliers for frequency\n",
    "# Q1 = rfm_df.frequency.quantile(0.05)\n",
    "# Q3 = rfm_df.frequency.quantile(0.95)\n",
    "# IQR = Q3 - Q1\n",
    "# rfm_df = rfm_df[(rfm_df.frequency >= Q1 - 1.5*IQR) & (rfm_df.frequency <= Q3 + 1.5*IQR)]"
   ]
  },
  {
   "cell_type": "markdown",
   "id": "50b7714b",
   "metadata": {},
   "source": [
    "Normalement, vu que je suis en non-supervisé, je n'aurai pas besoin d'isoler un ensemble d'entrainement."
   ]
  },
  {
   "cell_type": "code",
   "execution_count": 3,
   "id": "ce7be94f",
   "metadata": {},
   "outputs": [],
   "source": [
    "# ## split data :\n",
    "# X_train, X_test = model_selection.train_test_split(rfm_df)\n",
    "\n",
    "# ## Standardize : \n",
    "# my_std = preprocessing.StandardScaler()\n",
    "# my_std.fit(X_train)\n",
    "# X_train_std = pd.DataFrame(my_std.transform(X_train), \n",
    "#                              index= X_train.index, columns=X_train.columns)\n",
    "# X_test_std = pd.DataFrame(my_std.transform(X_test), \n",
    "#                              index= X_test.index, columns=X_test.columns)\n",
    "\n",
    "X_train = rfm_df\n",
    "## Standardize : \n",
    "my_std = preprocessing.StandardScaler()\n",
    "my_std.fit(X_train)\n",
    "X_train_std = pd.DataFrame(my_std.transform(X_train), \n",
    "                             index= X_train.index, columns=X_train.columns)"
   ]
  },
  {
   "cell_type": "markdown",
   "id": "37a434e4",
   "metadata": {},
   "source": [
    "## 1.2 Kmeans : "
   ]
  },
  {
   "cell_type": "code",
   "execution_count": 4,
   "id": "c1ba578b",
   "metadata": {},
   "outputs": [],
   "source": [
    "# list_n_clusters = np.arange(2,30,2)\n",
    "# # Elbow-Method/SSD \n",
    "# ssd = []\n",
    "# for num_clusters in list_n_clusters:\n",
    "#     kmeans = KMeans(n_clusters=num_clusters, max_iter=100)\n",
    "#     kmeans.fit(X_train_std)\n",
    "#     ssd.append(kmeans.inertia_)\n",
    "    \n",
    "# # plot the SSDs for each n_clusters\n",
    "# plt.plot(list_n_clusters,ssd)\n",
    "# plt.savefig(res_path+\"figures/\"+\"RFM_kmeans_intertia.jpg\")\n",
    "# plt.show()"
   ]
  },
  {
   "cell_type": "code",
   "execution_count": 5,
   "id": "ac926020",
   "metadata": {},
   "outputs": [],
   "source": [
    "# ## compute kmeans on elbow\n",
    "# n_clusters  = 8\n",
    "# cls_meth = KMeans(init=\"k-means++\")\n",
    "# cls_meth.set_params(n_clusters  = n_clusters)\n",
    "# cls_meth.fit(X_train_std)\n",
    "# labels = pd.Series(cls_meth.labels_, index = X_train_std.index)\n",
    "\n",
    "# ## plot on 3d \n",
    "# ax = cluster_scatter(X_train_std, labels,(10,6))    \n",
    "# ax.view_init(10, 250)\n",
    "# plt.show()\n",
    "# ax = cluster_scatter(X_train_std, labels,(10,6))    \n",
    "# ax.view_init(10, 0)\n",
    "# plt.show()"
   ]
  },
  {
   "cell_type": "markdown",
   "id": "e3509fbd",
   "metadata": {},
   "source": [
    "Les clusters on l'air d'être parfaitement séparés par les différentes valeurs de \"frequency\". Je vais regarder sur ces differents plans :"
   ]
  },
  {
   "cell_type": "code",
   "execution_count": 6,
   "id": "2adb1126",
   "metadata": {},
   "outputs": [],
   "source": [
    "# plot_projection_on_frequency_values(X_train, labels, [1,2])"
   ]
  },
  {
   "cell_type": "markdown",
   "id": "c41790c2",
   "metadata": {},
   "source": [
    "Effectivement, les clusters sont presque parfaitement séparés. La grande majorité des points conserne les clients n'ayant passé qu'une seule commande. Je regarde comment s'aggrègent les clusters quand on augmente le nombre de clusters :"
   ]
  },
  {
   "cell_type": "code",
   "execution_count": 7,
   "id": "4b801591",
   "metadata": {
    "scrolled": true
   },
   "outputs": [],
   "source": [
    "# cls_meth = KMeans(init=\"k-means++\")\n",
    "# for n_clusters in np.arange(5,12):\n",
    "#     print(\"n_clusters = \",n_clusters)\n",
    "#     cls_meth.set_params(n_clusters  = n_clusters)\n",
    "#     cls_meth.fit(X_train_std)\n",
    "#     labels = pd.Series(cls_meth.labels_, index = X_train_std.index)\n",
    "\n",
    "#     plot_projection_on_frequency_values(X_train, labels, [1,2])\n"
   ]
  },
  {
   "cell_type": "markdown",
   "id": "6c66f9b8",
   "metadata": {},
   "source": [
    "Bien que ces plans linéaires ont l'air de bien séparer les consommateurs, je voulais essayer des méthodes  aggrégatives, mais elles font planter mon noyau (DBSCAN, AgglomerativeClustering). J'ai donc pris un échantillon pour les faire tourner. \n",
    "\n",
    "## 1.2 DBSCAN\n",
    "J'ai commencé par chercher des structures plus locales avec BDSCAN. Le code suivant a été modifié par soucis de lisibilité (j'ai cherché le meilleur epsilon, aui s'est trouvé être 3.\n"
   ]
  },
  {
   "cell_type": "code",
   "execution_count": 8,
   "id": "163e9204",
   "metadata": {},
   "outputs": [],
   "source": [
    "# from sklearn.cluster import DBSCAN\n",
    "# sample = X_train.sample(5000)\n",
    "# sample_std = my_std.transform(sample)\n",
    "\n",
    "# cls_meth = DBSCAN(eps=3, min_samples=2)\n",
    "# for eps in np.arange(3,3.1,0.11):\n",
    "#     print(\"eps = \",eps)\n",
    "#     cls_meth.set_params(eps  = eps)\n",
    "#     cls_meth.fit(sample_std)\n",
    "#     labels = pd.Series(cls_meth.labels_, index = sample.index)\n",
    "\n",
    "#     plot_projection_on_frequency_values(sample, labels, [1,2])\n"
   ]
  },
  {
   "cell_type": "markdown",
   "id": "c37951a9",
   "metadata": {},
   "source": [
    "Cette méthode n'arrive pas à séparer les consommateurs qui sont dans des plans différents (qui sont avec différentes frequency). Je vais le lancer sur le plan \"frequency=1\" pour voir s'il peut distinguer des partitions dedans."
   ]
  },
  {
   "cell_type": "code",
   "execution_count": 9,
   "id": "0eff450a",
   "metadata": {},
   "outputs": [],
   "source": [
    "# from sklearn.cluster import DBSCAN\n",
    "# sample = X_train[X_train.frequency == 1].sample(5000)\n",
    "# sample_std = pd.DataFrame(my_std.transform(sample),\n",
    "#                           columns=sample.columns, index=sample.index)\n",
    "\n",
    "# cls_meth = DBSCAN(eps=3, min_samples=2)\n",
    "# for eps in np.arange(0.01,0.1,0.01):\n",
    "#     print(\"eps = \",eps)\n",
    "#     cls_meth.set_params(eps  = eps)\n",
    "#     cls_meth.fit(sample_std)\n",
    "#     labels = pd.Series(cls_meth.labels_, index = sample.index)\n",
    "\n",
    "#     plot_projection_on_frequency_values(sample, labels, [0])\n"
   ]
  },
  {
   "cell_type": "markdown",
   "id": "2f99b8b9",
   "metadata": {},
   "source": [
    "Il n'a pas l'air d'y avoir de structure locale ici.\n",
    "\n",
    "## 1.3 Classification hierarchique\n",
    "J'ai commencé par faire tourner la classification hierarchique implémentée dans scipy :"
   ]
  },
  {
   "cell_type": "code",
   "execution_count": 10,
   "id": "16ac509a",
   "metadata": {},
   "outputs": [],
   "source": [
    "# from scipy.cluster.hierarchy import linkage, fcluster\n",
    "# ## get a sample\n",
    "# sample = X_train_std.sample(5000)\n",
    "# # Clustering hiérarchique\n",
    "# Z = linkage(sample, 'ward')\n",
    "\n",
    "# # Affichage du dendrogramme\n",
    "# # plot_dendrogram(Z, sample.index, figsize = (15,10))\n",
    "# plot_dendrogram(Z, None, figsize = (15,15))"
   ]
  },
  {
   "cell_type": "markdown",
   "id": "aab032a7",
   "metadata": {},
   "source": [
    "En répétant l'échantillonage et la classification hierarchique, je vois qu'il y a effectivement une structure forte dans les données, et qu'un échantillon de taille 5000 suffit à caractériser les données. \n",
    "\n",
    "J'ai alors utilisé l'implémentation de sklearn pour la suite. La fonction suivante vient notament de [cette page](https://scikit-learn.org/stable/auto_examples/cluster/plot_agglomerative_dendrogram.html#sphx-glr-auto-examples-cluster-plot-agglomerative-dendrogram-py\n",
    ")"
   ]
  },
  {
   "cell_type": "code",
   "execution_count": 11,
   "id": "8c2b2e9e",
   "metadata": {},
   "outputs": [],
   "source": [
    "# def plot_dendrogram(model, **kwargs):\n",
    "#     # Create linkage matrix and then plot the dendrogram\n",
    "\n",
    "#     # create the counts of samples under each node\n",
    "#     counts = np.zeros(model.children_.shape[0])\n",
    "#     n_samples = len(model.labels_)\n",
    "#     for i, merge in enumerate(model.children_):\n",
    "#         current_count = 0\n",
    "#         for child_idx in merge:\n",
    "#             if child_idx < n_samples:\n",
    "#                 current_count += 1  # leaf node\n",
    "#             else:\n",
    "#                 current_count += counts[child_idx - n_samples]\n",
    "#         counts[i] = current_count\n",
    "\n",
    "#     linkage_matrix = np.column_stack([model.children_, model.distances_,\n",
    "#                                       counts]).astype(float)\n",
    "\n",
    "#     # Plot the corresponding dendrogram\n",
    "#     dendrogram(linkage_matrix, **kwargs)\n",
    "    \n",
    "\n",
    "# from sklearn.cluster import AgglomerativeClustering\n",
    "# cls_meth = AgglomerativeClustering(distance_threshold=0, n_clusters=None)\n",
    "# cls_meth.fit(sample_std)\n",
    "\n",
    "# plt.title('Hierarchical Clustering Dendrogram')\n",
    "# # plot the top three levels of the dendrogram\n",
    "# plot_dendrogram(cls_meth, truncate_mode='level', p=3)\n",
    "# plt.xlabel(\"Number of points in node (or index of point if no parenthesis).\")\n",
    "# plt.xticks(rotation=50)\n",
    "# plt.show()"
   ]
  },
  {
   "cell_type": "markdown",
   "id": "afd0cb30",
   "metadata": {},
   "source": [
    "Il faudrait donc une dizaine de clusters pour représenter ces données : "
   ]
  },
  {
   "cell_type": "code",
   "execution_count": 13,
   "id": "89a3426c",
   "metadata": {
    "scrolled": true
   },
   "outputs": [],
   "source": [
    "# cls_meth = AgglomerativeClustering( n_clusters=11)\n",
    "# cls_meth.fit(sample_std)\n",
    "# labels = pd.Series(cls_meth.labels_, index = sample.index)\n",
    "# plot_projection_on_frequency_values(sample, labels, [1,2])\n"
   ]
  },
  {
   "cell_type": "markdown",
   "id": "98c4c540",
   "metadata": {},
   "source": [
    "Le clustering ressemble beaucoup à celui des kmeans : les plans de fréquence séparent les groupes, et différents groupes se distinguent à la fréquence = 1. Comme pour le kmeans, il me semble intéressant de regarder comment les groupes s'aggrègent : "
   ]
  },
  {
   "cell_type": "code",
   "execution_count": 14,
   "id": "9dc21b47",
   "metadata": {
    "scrolled": true
   },
   "outputs": [],
   "source": [
    "# sample = X_train.sample(50000)\n",
    "# sample_std = my_std.transform(sample)\n",
    "# for n_clusters in np.arange(5,13):\n",
    "#     print(\"n_clusters = \",n_clusters)\n",
    "#     cls_meth.set_params(n_clusters  = n_clusters)\n",
    "#     cls_meth.fit(sample_std)\n",
    "#     labels = pd.Series(cls_meth.labels_, index = sample.index)\n",
    "\n",
    "#     plot_projection_on_frequency_values(sample, labels, [1,2])\n"
   ]
  },
  {
   "cell_type": "markdown",
   "id": "5cf2cd3b",
   "metadata": {},
   "source": [
    "Cela semble être une bonne méthode de clustering, d'autant qu'elle est aggrégative, et qu'il est possible de mettre en place un rafraichissement de cette segmentation (il suffit d'ajouter une ligne dans la matrice des distance). Je pense que c'est celle que je conserverai. Néanmoins, par curiosité, je voulais tester les \n",
    "\n",
    "## 1.4 Gaussian mixture"
   ]
  },
  {
   "cell_type": "code",
   "execution_count": 15,
   "id": "1525ec60",
   "metadata": {},
   "outputs": [],
   "source": [
    "# from sklearn.mixture import GaussianMixture\n",
    "# sample = X_train.sample(50000)\n",
    "# sample_std = my_std.transform(sample)\n",
    "\n",
    "# cls_meth = GaussianMixture(n_components=3)\n",
    "# cls_meth.fit(sample_std)"
   ]
  },
  {
   "cell_type": "markdown",
   "id": "ed936da2",
   "metadata": {},
   "source": [
    "J'ai adapté le code proposé sur [cette page d'exemple de sklearn]() pour choisir le bon nombre de composants. Note très importante : Cette méthode a l'air de vraiment très bien marcher, mais qu'en retirant la dimension \"fréquence\" qui induit des gaps."
   ]
  },
  {
   "cell_type": "code",
   "execution_count": 16,
   "id": "c8decd3e",
   "metadata": {},
   "outputs": [],
   "source": [
    "# n_components_range = range(4, 13)\n",
    "\n",
    "# # Number of samples per component\n",
    "# n_samples = 10000\n",
    "\n",
    "# # X = X_train_std.sample(n_samples).values\n",
    "# X = X_train_std.sample(n_samples).drop(columns=\"frequency\").values\n",
    "# plot_set_params_gmm(X, n_components_range )\n"
   ]
  },
  {
   "cell_type": "markdown",
   "id": "725a8328",
   "metadata": {},
   "source": [
    "# 2. Segmentation des clients sans mémoire \n",
    "Comme expliqué, je pense qu'il peut être pertinent de ne pas garder cette dimension \"frequence\" dans l'analyse. Mais à ce moment, je considère les clients à l'échelle des commandes : si un client commande plusieurs fois, cette modélisation le considérera comme n clients différents. "
   ]
  },
  {
   "cell_type": "code",
   "execution_count": 22,
   "id": "be6f401e",
   "metadata": {},
   "outputs": [
    {
     "data": {
      "text/plain": [
       "order_status                object\n",
       "order_purchase_date         object\n",
       "order_purchase_time         object\n",
       "order_dt_estim_declared    float64\n",
       "order_dt_ctm_carrier       float64\n",
       "price                      float64\n",
       "freight_value              float64\n",
       "payment_installments       float64\n",
       "payment_type                object\n",
       "nb_payment_type            float64\n",
       "count_review                 int64\n",
       "count_comment_title          int64\n",
       "count_comment_message        int64\n",
       "sum_product_dimension      float64\n",
       "sum_product_description    float64\n",
       "sum_product_freq_buy       float64\n",
       "count_prod_cat             float64\n",
       "dtype: object"
      ]
     },
     "execution_count": 22,
     "metadata": {},
     "output_type": "execute_result"
    }
   ],
   "source": [
    "my_orders.dtypes"
   ]
  },
  {
   "cell_type": "markdown",
   "id": "cba3ad15",
   "metadata": {},
   "source": [
    "tackle categorical data :"
   ]
  },
  {
   "cell_type": "code",
   "execution_count": 30,
   "id": "1df8f6d0",
   "metadata": {},
   "outputs": [
    {
     "data": {
      "text/html": [
       "<div>\n",
       "<style scoped>\n",
       "    .dataframe tbody tr th:only-of-type {\n",
       "        vertical-align: middle;\n",
       "    }\n",
       "\n",
       "    .dataframe tbody tr th {\n",
       "        vertical-align: top;\n",
       "    }\n",
       "\n",
       "    .dataframe thead th {\n",
       "        text-align: right;\n",
       "    }\n",
       "</style>\n",
       "<table border=\"1\" class=\"dataframe\">\n",
       "  <thead>\n",
       "    <tr style=\"text-align: right;\">\n",
       "      <th></th>\n",
       "      <th>order_id</th>\n",
       "      <th>order_purchase_date</th>\n",
       "      <th>order_purchase_time</th>\n",
       "      <th>order_dt_estim_declared</th>\n",
       "      <th>order_dt_ctm_carrier</th>\n",
       "      <th>price</th>\n",
       "      <th>freight_value</th>\n",
       "      <th>payment_installments</th>\n",
       "      <th>payment_type</th>\n",
       "      <th>nb_payment_type</th>\n",
       "      <th>...</th>\n",
       "      <th>sum_product_freq_buy</th>\n",
       "      <th>count_prod_cat</th>\n",
       "      <th>order_status_approved</th>\n",
       "      <th>order_status_canceled</th>\n",
       "      <th>order_status_created</th>\n",
       "      <th>order_status_delivered</th>\n",
       "      <th>order_status_invoiced</th>\n",
       "      <th>order_status_processing</th>\n",
       "      <th>order_status_shipped</th>\n",
       "      <th>order_status_unavailable</th>\n",
       "    </tr>\n",
       "  </thead>\n",
       "  <tbody>\n",
       "    <tr>\n",
       "      <th>0</th>\n",
       "      <td>e481f51cbdc54678b7cc49136f2d6af7</td>\n",
       "      <td>2017-10-02 00:00:00</td>\n",
       "      <td>10:56:33</td>\n",
       "      <td>7.107488</td>\n",
       "      <td>6.062650</td>\n",
       "      <td>29.99</td>\n",
       "      <td>8.72</td>\n",
       "      <td>1.0</td>\n",
       "      <td>voucher</td>\n",
       "      <td>2.0</td>\n",
       "      <td>...</td>\n",
       "      <td>0.625</td>\n",
       "      <td>1.0</td>\n",
       "      <td>0</td>\n",
       "      <td>0</td>\n",
       "      <td>0</td>\n",
       "      <td>1</td>\n",
       "      <td>0</td>\n",
       "      <td>0</td>\n",
       "      <td>0</td>\n",
       "      <td>0</td>\n",
       "    </tr>\n",
       "    <tr>\n",
       "      <th>1</th>\n",
       "      <td>53cdb2fc8bc7dce0b6741e2150273451</td>\n",
       "      <td>2018-07-24 00:00:00</td>\n",
       "      <td>20:41:37</td>\n",
       "      <td>5.355729</td>\n",
       "      <td>12.039410</td>\n",
       "      <td>118.70</td>\n",
       "      <td>22.76</td>\n",
       "      <td>1.0</td>\n",
       "      <td>boleto</td>\n",
       "      <td>1.0</td>\n",
       "      <td>...</td>\n",
       "      <td>0.625</td>\n",
       "      <td>1.0</td>\n",
       "      <td>0</td>\n",
       "      <td>0</td>\n",
       "      <td>0</td>\n",
       "      <td>1</td>\n",
       "      <td>0</td>\n",
       "      <td>0</td>\n",
       "      <td>0</td>\n",
       "      <td>0</td>\n",
       "    </tr>\n",
       "    <tr>\n",
       "      <th>2</th>\n",
       "      <td>47770eb9100c2d0c44946d9cf07ec65d</td>\n",
       "      <td>2018-08-08 00:00:00</td>\n",
       "      <td>08:38:49</td>\n",
       "      <td>17.245498</td>\n",
       "      <td>9.178113</td>\n",
       "      <td>159.90</td>\n",
       "      <td>19.22</td>\n",
       "      <td>3.0</td>\n",
       "      <td>credit_card</td>\n",
       "      <td>1.0</td>\n",
       "      <td>...</td>\n",
       "      <td>0.975</td>\n",
       "      <td>1.0</td>\n",
       "      <td>0</td>\n",
       "      <td>0</td>\n",
       "      <td>0</td>\n",
       "      <td>1</td>\n",
       "      <td>0</td>\n",
       "      <td>0</td>\n",
       "      <td>0</td>\n",
       "      <td>0</td>\n",
       "    </tr>\n",
       "    <tr>\n",
       "      <th>3</th>\n",
       "      <td>949d5b44dbf5de918fe9c16f97b45f8a</td>\n",
       "      <td>2017-11-18 00:00:00</td>\n",
       "      <td>19:28:06</td>\n",
       "      <td>12.980069</td>\n",
       "      <td>9.450498</td>\n",
       "      <td>45.00</td>\n",
       "      <td>27.20</td>\n",
       "      <td>1.0</td>\n",
       "      <td>credit_card</td>\n",
       "      <td>1.0</td>\n",
       "      <td>...</td>\n",
       "      <td>0.850</td>\n",
       "      <td>1.0</td>\n",
       "      <td>0</td>\n",
       "      <td>0</td>\n",
       "      <td>0</td>\n",
       "      <td>1</td>\n",
       "      <td>0</td>\n",
       "      <td>0</td>\n",
       "      <td>0</td>\n",
       "      <td>0</td>\n",
       "    </tr>\n",
       "    <tr>\n",
       "      <th>4</th>\n",
       "      <td>ad21c59c0840e6cb83a9ceb5573f8159</td>\n",
       "      <td>2018-02-13 00:00:00</td>\n",
       "      <td>21:18:39</td>\n",
       "      <td>9.238171</td>\n",
       "      <td>1.937824</td>\n",
       "      <td>19.90</td>\n",
       "      <td>8.72</td>\n",
       "      <td>1.0</td>\n",
       "      <td>credit_card</td>\n",
       "      <td>1.0</td>\n",
       "      <td>...</td>\n",
       "      <td>0.625</td>\n",
       "      <td>1.0</td>\n",
       "      <td>0</td>\n",
       "      <td>0</td>\n",
       "      <td>0</td>\n",
       "      <td>1</td>\n",
       "      <td>0</td>\n",
       "      <td>0</td>\n",
       "      <td>0</td>\n",
       "      <td>0</td>\n",
       "    </tr>\n",
       "    <tr>\n",
       "      <th>...</th>\n",
       "      <td>...</td>\n",
       "      <td>...</td>\n",
       "      <td>...</td>\n",
       "      <td>...</td>\n",
       "      <td>...</td>\n",
       "      <td>...</td>\n",
       "      <td>...</td>\n",
       "      <td>...</td>\n",
       "      <td>...</td>\n",
       "      <td>...</td>\n",
       "      <td>...</td>\n",
       "      <td>...</td>\n",
       "      <td>...</td>\n",
       "      <td>...</td>\n",
       "      <td>...</td>\n",
       "      <td>...</td>\n",
       "      <td>...</td>\n",
       "      <td>...</td>\n",
       "      <td>...</td>\n",
       "      <td>...</td>\n",
       "      <td>...</td>\n",
       "    </tr>\n",
       "    <tr>\n",
       "      <th>99436</th>\n",
       "      <td>9c5dedf39a927c1b2549525ed64a053c</td>\n",
       "      <td>2017-03-09 00:00:00</td>\n",
       "      <td>09:54:05</td>\n",
       "      <td>10.369433</td>\n",
       "      <td>7.159699</td>\n",
       "      <td>72.00</td>\n",
       "      <td>13.08</td>\n",
       "      <td>3.0</td>\n",
       "      <td>credit_card</td>\n",
       "      <td>1.0</td>\n",
       "      <td>...</td>\n",
       "      <td>0.000</td>\n",
       "      <td>1.0</td>\n",
       "      <td>0</td>\n",
       "      <td>0</td>\n",
       "      <td>0</td>\n",
       "      <td>1</td>\n",
       "      <td>0</td>\n",
       "      <td>0</td>\n",
       "      <td>0</td>\n",
       "      <td>0</td>\n",
       "    </tr>\n",
       "    <tr>\n",
       "      <th>99437</th>\n",
       "      <td>63943bddc261676b46f01ca7ac2f7bd8</td>\n",
       "      <td>2018-02-06 00:00:00</td>\n",
       "      <td>12:58:58</td>\n",
       "      <td>1.265324</td>\n",
       "      <td>20.760579</td>\n",
       "      <td>174.90</td>\n",
       "      <td>20.10</td>\n",
       "      <td>3.0</td>\n",
       "      <td>credit_card</td>\n",
       "      <td>1.0</td>\n",
       "      <td>...</td>\n",
       "      <td>0.625</td>\n",
       "      <td>1.0</td>\n",
       "      <td>0</td>\n",
       "      <td>0</td>\n",
       "      <td>0</td>\n",
       "      <td>1</td>\n",
       "      <td>0</td>\n",
       "      <td>0</td>\n",
       "      <td>0</td>\n",
       "      <td>0</td>\n",
       "    </tr>\n",
       "    <tr>\n",
       "      <th>99438</th>\n",
       "      <td>83c1379a015df1e13d02aae0204711ab</td>\n",
       "      <td>2017-08-27 00:00:00</td>\n",
       "      <td>14:46:43</td>\n",
       "      <td>5.524803</td>\n",
       "      <td>23.605451</td>\n",
       "      <td>205.99</td>\n",
       "      <td>65.02</td>\n",
       "      <td>5.0</td>\n",
       "      <td>credit_card</td>\n",
       "      <td>1.0</td>\n",
       "      <td>...</td>\n",
       "      <td>0.000</td>\n",
       "      <td>1.0</td>\n",
       "      <td>0</td>\n",
       "      <td>0</td>\n",
       "      <td>0</td>\n",
       "      <td>1</td>\n",
       "      <td>0</td>\n",
       "      <td>0</td>\n",
       "      <td>0</td>\n",
       "      <td>0</td>\n",
       "    </tr>\n",
       "    <tr>\n",
       "      <th>99439</th>\n",
       "      <td>11c177c8e97725db2631073c19f07b62</td>\n",
       "      <td>2018-01-08 00:00:00</td>\n",
       "      <td>21:28:27</td>\n",
       "      <td>20.018819</td>\n",
       "      <td>13.331840</td>\n",
       "      <td>359.98</td>\n",
       "      <td>81.18</td>\n",
       "      <td>4.0</td>\n",
       "      <td>credit_card</td>\n",
       "      <td>1.0</td>\n",
       "      <td>...</td>\n",
       "      <td>1.250</td>\n",
       "      <td>1.0</td>\n",
       "      <td>0</td>\n",
       "      <td>0</td>\n",
       "      <td>0</td>\n",
       "      <td>1</td>\n",
       "      <td>0</td>\n",
       "      <td>0</td>\n",
       "      <td>0</td>\n",
       "      <td>0</td>\n",
       "    </tr>\n",
       "    <tr>\n",
       "      <th>99440</th>\n",
       "      <td>66dea50a8b16d9b4dee7af250b4be1a5</td>\n",
       "      <td>2018-03-08 00:00:00</td>\n",
       "      <td>20:57:30</td>\n",
       "      <td>17.452431</td>\n",
       "      <td>6.622581</td>\n",
       "      <td>68.50</td>\n",
       "      <td>18.36</td>\n",
       "      <td>1.0</td>\n",
       "      <td>debit_card</td>\n",
       "      <td>1.0</td>\n",
       "      <td>...</td>\n",
       "      <td>0.000</td>\n",
       "      <td>1.0</td>\n",
       "      <td>0</td>\n",
       "      <td>0</td>\n",
       "      <td>0</td>\n",
       "      <td>1</td>\n",
       "      <td>0</td>\n",
       "      <td>0</td>\n",
       "      <td>0</td>\n",
       "      <td>0</td>\n",
       "    </tr>\n",
       "  </tbody>\n",
       "</table>\n",
       "<p>99441 rows × 25 columns</p>\n",
       "</div>"
      ],
      "text/plain": [
       "                               order_id  order_purchase_date  \\\n",
       "0      e481f51cbdc54678b7cc49136f2d6af7  2017-10-02 00:00:00   \n",
       "1      53cdb2fc8bc7dce0b6741e2150273451  2018-07-24 00:00:00   \n",
       "2      47770eb9100c2d0c44946d9cf07ec65d  2018-08-08 00:00:00   \n",
       "3      949d5b44dbf5de918fe9c16f97b45f8a  2017-11-18 00:00:00   \n",
       "4      ad21c59c0840e6cb83a9ceb5573f8159  2018-02-13 00:00:00   \n",
       "...                                 ...                  ...   \n",
       "99436  9c5dedf39a927c1b2549525ed64a053c  2017-03-09 00:00:00   \n",
       "99437  63943bddc261676b46f01ca7ac2f7bd8  2018-02-06 00:00:00   \n",
       "99438  83c1379a015df1e13d02aae0204711ab  2017-08-27 00:00:00   \n",
       "99439  11c177c8e97725db2631073c19f07b62  2018-01-08 00:00:00   \n",
       "99440  66dea50a8b16d9b4dee7af250b4be1a5  2018-03-08 00:00:00   \n",
       "\n",
       "      order_purchase_time  order_dt_estim_declared  order_dt_ctm_carrier  \\\n",
       "0                10:56:33                 7.107488              6.062650   \n",
       "1                20:41:37                 5.355729             12.039410   \n",
       "2                08:38:49                17.245498              9.178113   \n",
       "3                19:28:06                12.980069              9.450498   \n",
       "4                21:18:39                 9.238171              1.937824   \n",
       "...                   ...                      ...                   ...   \n",
       "99436            09:54:05                10.369433              7.159699   \n",
       "99437            12:58:58                 1.265324             20.760579   \n",
       "99438            14:46:43                 5.524803             23.605451   \n",
       "99439            21:28:27                20.018819             13.331840   \n",
       "99440            20:57:30                17.452431              6.622581   \n",
       "\n",
       "        price  freight_value  payment_installments payment_type  \\\n",
       "0       29.99           8.72                   1.0      voucher   \n",
       "1      118.70          22.76                   1.0       boleto   \n",
       "2      159.90          19.22                   3.0  credit_card   \n",
       "3       45.00          27.20                   1.0  credit_card   \n",
       "4       19.90           8.72                   1.0  credit_card   \n",
       "...       ...            ...                   ...          ...   \n",
       "99436   72.00          13.08                   3.0  credit_card   \n",
       "99437  174.90          20.10                   3.0  credit_card   \n",
       "99438  205.99          65.02                   5.0  credit_card   \n",
       "99439  359.98          81.18                   4.0  credit_card   \n",
       "99440   68.50          18.36                   1.0   debit_card   \n",
       "\n",
       "       nb_payment_type  ...  sum_product_freq_buy  count_prod_cat  \\\n",
       "0                  2.0  ...                 0.625             1.0   \n",
       "1                  1.0  ...                 0.625             1.0   \n",
       "2                  1.0  ...                 0.975             1.0   \n",
       "3                  1.0  ...                 0.850             1.0   \n",
       "4                  1.0  ...                 0.625             1.0   \n",
       "...                ...  ...                   ...             ...   \n",
       "99436              1.0  ...                 0.000             1.0   \n",
       "99437              1.0  ...                 0.625             1.0   \n",
       "99438              1.0  ...                 0.000             1.0   \n",
       "99439              1.0  ...                 1.250             1.0   \n",
       "99440              1.0  ...                 0.000             1.0   \n",
       "\n",
       "       order_status_approved  order_status_canceled  order_status_created  \\\n",
       "0                          0                      0                     0   \n",
       "1                          0                      0                     0   \n",
       "2                          0                      0                     0   \n",
       "3                          0                      0                     0   \n",
       "4                          0                      0                     0   \n",
       "...                      ...                    ...                   ...   \n",
       "99436                      0                      0                     0   \n",
       "99437                      0                      0                     0   \n",
       "99438                      0                      0                     0   \n",
       "99439                      0                      0                     0   \n",
       "99440                      0                      0                     0   \n",
       "\n",
       "       order_status_delivered  order_status_invoiced  order_status_processing  \\\n",
       "0                           1                      0                        0   \n",
       "1                           1                      0                        0   \n",
       "2                           1                      0                        0   \n",
       "3                           1                      0                        0   \n",
       "4                           1                      0                        0   \n",
       "...                       ...                    ...                      ...   \n",
       "99436                       1                      0                        0   \n",
       "99437                       1                      0                        0   \n",
       "99438                       1                      0                        0   \n",
       "99439                       1                      0                        0   \n",
       "99440                       1                      0                        0   \n",
       "\n",
       "       order_status_shipped  order_status_unavailable  \n",
       "0                         0                         0  \n",
       "1                         0                         0  \n",
       "2                         0                         0  \n",
       "3                         0                         0  \n",
       "4                         0                         0  \n",
       "...                     ...                       ...  \n",
       "99436                     0                         0  \n",
       "99437                     0                         0  \n",
       "99438                     0                         0  \n",
       "99439                     0                         0  \n",
       "99440                     0                         0  \n",
       "\n",
       "[99441 rows x 25 columns]"
      ]
     },
     "execution_count": 30,
     "metadata": {},
     "output_type": "execute_result"
    }
   ],
   "source": [
    "## transform status into dummies (one hot encoder)\n",
    "y = my_orders[\"order_status\"]\n",
    "dummies = pd.get_dummies(y).add_prefix(y.name+\"_\").reset_index()\n",
    "## replace categorical var with dummies :\n",
    "orders = my_orders.copy()\n",
    "orders = orders.drop(columns=\"order_status\")\n",
    "orders = pd.merge(orders, dummies, on=\"order_id\", how=\"left\")"
   ]
  },
  {
   "cell_type": "code",
   "execution_count": 49,
   "id": "b697bdcd",
   "metadata": {},
   "outputs": [
    {
     "data": {
      "text/plain": [
       "order_id\n",
       "e481f51cbdc54678b7cc49136f2d6af7   2017-10-02\n",
       "53cdb2fc8bc7dce0b6741e2150273451   2018-07-24\n",
       "47770eb9100c2d0c44946d9cf07ec65d   2018-08-08\n",
       "949d5b44dbf5de918fe9c16f97b45f8a   2017-11-18\n",
       "ad21c59c0840e6cb83a9ceb5573f8159   2018-02-13\n",
       "                                      ...    \n",
       "9c5dedf39a927c1b2549525ed64a053c   2017-03-09\n",
       "63943bddc261676b46f01ca7ac2f7bd8   2018-02-06\n",
       "83c1379a015df1e13d02aae0204711ab   2017-08-27\n",
       "11c177c8e97725db2631073c19f07b62   2018-01-08\n",
       "66dea50a8b16d9b4dee7af250b4be1a5   2018-03-08\n",
       "Name: order_purchase_date, Length: 99441, dtype: datetime64[ns]"
      ]
     },
     "execution_count": 49,
     "metadata": {},
     "output_type": "execute_result"
    }
   ],
   "source": [
    "y"
   ]
  },
  {
   "cell_type": "code",
   "execution_count": 82,
   "id": "d106815b",
   "metadata": {},
   "outputs": [
    {
     "data": {
      "text/plain": [
       "52"
      ]
     },
     "execution_count": 82,
     "metadata": {},
     "output_type": "execute_result"
    }
   ],
   "source": [
    "pd.to_datetime(\"2021-02-21\", format = \"%Y-%m-%d\").day_of_year"
   ]
  },
  {
   "cell_type": "code",
   "execution_count": 85,
   "id": "02d5fc91",
   "metadata": {},
   "outputs": [
    {
     "data": {
      "image/png": "[encoded data removed]",
      "text/plain": [
       "<Figure size 432x288 with 1 Axes>"
      ]
     },
     "metadata": {
      "needs_background": "light"
     },
     "output_type": "display_data"
    }
   ],
   "source": [
    "## \n",
    "y = pd.to_datetime(my_orders[\"order_purchase_date\"], \n",
    "                               format = \"%Y-%m-%d\")\n",
    "plt.hist(y)\n",
    "plt.xticks(rotation=50)\n",
    "from datetime import date, datetime\n",
    "Y = 2000\n",
    "season_dates = [(\"winter\",date(Y,1,1),date(Y,2,20)),\n",
    "                (\"sping\",date(Y,2,21),date(Y,5,20)),\n",
    "                (\"summer\",date(Y,5,21),date(Y,9,20)),\n",
    "                (\"autumn\",date(Y,9,21),date(Y,12,20)),\n",
    "                (\"winter\",date(Y,12,21),date(Y,12,31)),]\n",
    "\n",
    "\n",
    "# next(season for season, (start, end) in seasons\n",
    "#                 if start <= my_date <= end)"
   ]
  },
  {
   "cell_type": "code",
   "execution_count": 120,
   "id": "32e4be90",
   "metadata": {},
   "outputs": [],
   "source": [
    "seasons =  [(\"winter\",1,51),\n",
    "            (\"sping\",52,140),\n",
    "            (\"summer\",141,263),\n",
    "            (\"autumn\",264,354),\n",
    "            (\"winter\",355,365)]\n",
    "my_day_of_year = pd.to_datetime(my_orders[\"order_purchase_date\"], \n",
    "                               format = \"%Y-%m-%d\").dt.dayofyear\n",
    "my_season = pd.Series(index = my_orders.index,dtype=object)\n",
    "for season, start, end in seasons :\n",
    "    after = start <= my_day_of_year \n",
    "    before = my_day_of_year <= end\n",
    "    season_index = my_day_of_year[after & before].index\n",
    "    my_season[season_index] = season"
   ]
  },
  {
   "cell_type": "code",
   "execution_count": 111,
   "id": "979add70",
   "metadata": {},
   "outputs": [],
   "source": []
  },
  {
   "cell_type": "code",
   "execution_count": 119,
   "id": "d262f65f",
   "metadata": {},
   "outputs": [
    {
     "data": {
      "text/plain": [
       "order_id\n",
       "e481f51cbdc54678b7cc49136f2d6af7    False\n",
       "53cdb2fc8bc7dce0b6741e2150273451    False\n",
       "47770eb9100c2d0c44946d9cf07ec65d    False\n",
       "949d5b44dbf5de918fe9c16f97b45f8a    False\n",
       "ad21c59c0840e6cb83a9ceb5573f8159    False\n",
       "                                    ...  \n",
       "9c5dedf39a927c1b2549525ed64a053c    False\n",
       "63943bddc261676b46f01ca7ac2f7bd8    False\n",
       "83c1379a015df1e13d02aae0204711ab    False\n",
       "11c177c8e97725db2631073c19f07b62    False\n",
       "66dea50a8b16d9b4dee7af250b4be1a5    False\n",
       "Length: 99441, dtype: bool"
      ]
     },
     "execution_count": 119,
     "metadata": {},
     "output_type": "execute_result"
    }
   ],
   "source": []
  },
  {
   "cell_type": "code",
   "execution_count": 117,
   "id": "6d02839a",
   "metadata": {},
   "outputs": [
    {
     "data": {
      "text/plain": [
       "(99441, 17)"
      ]
     },
     "execution_count": 117,
     "metadata": {},
     "output_type": "execute_result"
    }
   ],
   "source": [
    "my_orders.shape"
   ]
  },
  {
   "cell_type": "code",
   "execution_count": null,
   "id": "63a54f8d",
   "metadata": {
    "scrolled": true
   },
   "outputs": [],
   "source": [
    "## automatic library -> kill kernel\n",
    "# # Import library\n",
    "# from clusteval import clusteval\n",
    "\n",
    "# # Set parameters, as an example dbscan\n",
    "# ce = clusteval(method='kmeans')\n",
    "\n",
    "# # Fit to find optimal number of clusters using dbscan\n",
    "# results= ce.fit(X)\n",
    "\n",
    "# # Make plot of the cluster evaluation\n",
    "# ce.plot()\n",
    "\n",
    "# # Make scatter plot. Note that the first two coordinates are used for plotting.\n",
    "# ce.scatter(X)\n",
    "\n",
    "# # results is a dict with various output statistics. One of them are the labels.\n",
    "# cluster_labels = results['labx']"
   ]
  },
  {
   "cell_type": "code",
   "execution_count": null,
   "id": "0e375e2d",
   "metadata": {},
   "outputs": [],
   "source": [
    "pipe1 = Pipeline(steps = [\n",
    "    (\"standardize\", StandardScaler()),\n",
    "    ('cluster', KMeans(n_clusters = 10, max_iter=1000))\n",
    "    ])\n",
    "\n",
    "param_grid1 = [{ 'cluster__n_clusters': np.arange(1,50,5), \n",
    "                'cluster__init':[\"k-means++\",\"random\"]}]\n",
    "\n",
    "grid = GridSearchCV(pipe1, param_grid = param_grid1,\n",
    "                    n_jobs=5, cv = 5, scoring= \"accuracy\")\n",
    "grid.fit(rfm_df)\n",
    "## Save dictionnary of results : \n",
    "res = grid.cv_results_\n",
    "with open(res_path+\"reduce_dim_products/rfm_kmeans_CV\"+\".pkl\", \"wb\") as f :\n",
    "    pickle.dump(res, f, pickle.HIGHEST_PROTOCOL)\n",
    "best_params = grid.best_params_\n",
    "with open(res_path+\"reduce_dim_products/rfm_kmeans_best_params\"+\".pkl\", \"wb\") as f :\n",
    "    pickle.dump(best_params, f, pickle.HIGHEST_PROTOCOL)\n",
    "\n"
   ]
  },
  {
   "cell_type": "code",
   "execution_count": null,
   "id": "524260b5",
   "metadata": {},
   "outputs": [],
   "source": []
  },
  {
   "cell_type": "code",
   "execution_count": null,
   "id": "f63d1ee6",
   "metadata": {},
   "outputs": [],
   "source": []
  },
  {
   "cell_type": "code",
   "execution_count": null,
   "id": "15e5c7a7",
   "metadata": {},
   "outputs": [],
   "source": []
  }
 ],
 "metadata": {
  "kernelspec": {
   "display_name": "openclassroom",
   "language": "python",
   "name": "openclassroom"
  },
  "language_info": {
   "codemirror_mode": {
    "name": "ipython",
    "version": 3
   },
   "file_extension": ".py",
   "mimetype": "text/x-python",
   "name": "python",
   "nbconvert_exporter": "python",
   "pygments_lexer": "ipython3",
   "version": "3.9.5"
  }
 },
 "nbformat": 4,
 "nbformat_minor": 5
}
