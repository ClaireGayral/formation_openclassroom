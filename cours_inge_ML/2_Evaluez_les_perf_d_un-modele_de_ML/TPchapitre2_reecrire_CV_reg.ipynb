{
 "cells": [
  {
   "cell_type": "markdown",
   "id": "b47e23c6",
   "metadata": {},
   "source": [
    "# TP chapitre 2 - Entraînez-vous : sélectionnez le nombre de voisins dans un kNN pour une régression \n",
    "\n",
    "I just re-use all that I have done :"
   ]
  },
  {
   "cell_type": "code",
   "execution_count": 1,
   "id": "907c000a",
   "metadata": {},
   "outputs": [],
   "source": [
    "data_path = \"~/Documents/openclassroom/Fomation_ingenieur_ML/data/\"\n",
    "\n",
    "import pandas as pd\n",
    "import numpy as np\n",
    "import matplotlib.pyplot as plt\n",
    "\n",
    "## sklearn module : \n",
    "from sklearn import model_selection \n",
    "from sklearn import preprocessing\n",
    "from sklearn import neighbors\n"
   ]
  },
  {
   "cell_type": "markdown",
   "id": "69231a56",
   "metadata": {},
   "source": [
    "## Preprocess : "
   ]
  },
  {
   "cell_type": "code",
   "execution_count": 2,
   "id": "eff5d7ec",
   "metadata": {},
   "outputs": [],
   "source": [
    "df = pd.read_csv(data_path+'winequality-red.csv', sep=\";\")\n",
    "## DESIGN AND SAMPLING : \n",
    "X = df.drop(\"quality\", axis = 1, inplace = False)\n",
    "y = df.quality\n",
    "X_train, X_test, y_train, y_test = model_selection.train_test_split(X, y, train_size=0.7)\n",
    "\n",
    "## STANDARDIZATION : \n",
    "my_normalizer = preprocessing.StandardScaler().fit(X_train)\n",
    "X_train_std = pd.DataFrame(my_normalizer.transform(X_train), index = X_train.index, columns = X_train.columns)\n",
    "X_test_std = pd.DataFrame(my_normalizer.transform(X_test), index = X_test.index, columns = X_test.columns)"
   ]
  },
  {
   "cell_type": "markdown",
   "id": "523f1e01",
   "metadata": {},
   "source": [
    "## Cross Validation with sklearn :"
   ]
  },
  {
   "cell_type": "code",
   "execution_count": 3,
   "id": "963535ca",
   "metadata": {},
   "outputs": [],
   "source": [
    "## CROSS VALIDATION :\n",
    "param_grid = {\"n_neighbors\" : np.arange(8,14,1)}\n",
    "nb_folds = 5\n",
    "CV_reg = model_selection.GridSearchCV(neighbors.KNeighborsRegressor(),\n",
    "                                      param_grid, cv=nb_folds)\n",
    "CV_reg.fit(X_train_std, y_train)\n",
    "\n",
    "## KNN REGRESSOR WITH THE BEST CV n_neighbors\n",
    "knn_reg = neighbors.KNeighborsRegressor(**CV_reg.best_params_)\n",
    "knn_reg.fit(X_train_std, y_train)\n",
    "\n",
    "## PREDICTION : \n",
    "y_pred = knn_reg.predict(X_test_std)"
   ]
  },
  {
   "cell_type": "markdown",
   "id": "59817643",
   "metadata": {},
   "source": [
    "## Cross Validation without sklearn CVGridSearch :\n",
    "#### Annexe functions : "
   ]
  },
  {
   "cell_type": "code",
   "execution_count": 4,
   "id": "1b19fa48",
   "metadata": {},
   "outputs": [],
   "source": [
    "## EXTRACT X_train, X_test FROM X AND train_index :    \n",
    "def extract_Xsplitted_data(X, train_index):    \n",
    "#     train_index = X_train.index\n",
    "    test_index = [(index not in train_index) for index in X.index]\n",
    "    X_train = X.loc[train_index]\n",
    "    X_test = X.loc[test_index]\n",
    "    return(X_train, X_test)\n",
    "\n",
    "## STANDARDIZATION : \n",
    "def normalize_from_split(X, train_index):\n",
    "    X_train, X_test = extract_Xsplitted_data(X, train_index)\n",
    "    \n",
    "    my_normalizer = preprocessing.StandardScaler().fit(X_train)\n",
    "    X_train_std = pd.DataFrame(my_normalizer.transform(X_train), index = X_train.index, columns = X_train.columns)\n",
    "    X_test_std = pd.DataFrame(my_normalizer.transform(X_test), index = X_test.index, columns = X_test.columns)\n",
    "\n",
    "    return(X_train_std, X_test_std)\n"
   ]
  },
  {
   "cell_type": "code",
   "execution_count": 1,
   "id": "a751c05a",
   "metadata": {},
   "outputs": [
    {
     "ename": "NameError",
     "evalue": "name 'X_train' is not defined",
     "output_type": "error",
     "traceback": [
      "\u001b[0;31m---------------------------------------------------------------------------\u001b[0m",
      "\u001b[0;31mNameError\u001b[0m                                 Traceback (most recent call last)",
      "\u001b[0;32m<ipython-input-1-0e91045461d9>\u001b[0m in \u001b[0;36m<module>\u001b[0;34m\u001b[0m\n\u001b[0;32m----> 1\u001b[0;31m \u001b[0mdata\u001b[0m \u001b[0;34m=\u001b[0m \u001b[0mX_train\u001b[0m\u001b[0;34m,\u001b[0m \u001b[0my_train\u001b[0m\u001b[0;34m\u001b[0m\u001b[0;34m\u001b[0m\u001b[0m\n\u001b[0m\u001b[1;32m      2\u001b[0m \u001b[0;31m## SET ARGUMENTS/PARAMETERS :\u001b[0m\u001b[0;34m\u001b[0m\u001b[0;34m\u001b[0m\u001b[0;34m\u001b[0m\u001b[0m\n\u001b[1;32m      3\u001b[0m \u001b[0mmy_meth\u001b[0m \u001b[0;34m=\u001b[0m \u001b[0mneighbors\u001b[0m\u001b[0;34m.\u001b[0m\u001b[0mKNeighborsRegressor\u001b[0m\u001b[0;34m\u001b[0m\u001b[0;34m\u001b[0m\u001b[0m\n\u001b[1;32m      4\u001b[0m \u001b[0;31m# NUMBER OF FOLDS :\u001b[0m\u001b[0;34m\u001b[0m\u001b[0;34m\u001b[0m\u001b[0;34m\u001b[0m\u001b[0m\n\u001b[1;32m      5\u001b[0m \u001b[0mcv\u001b[0m \u001b[0;34m=\u001b[0m \u001b[0;36m5\u001b[0m\u001b[0;34m\u001b[0m\u001b[0;34m\u001b[0m\u001b[0m\n",
      "\u001b[0;31mNameError\u001b[0m: name 'X_train' is not defined"
     ]
    }
   ],
   "source": [
    "data = X_train, y_train \n",
    "## SET ARGUMENTS/PARAMETERS :\n",
    "my_meth = neighbors.KNeighborsRegressor\n",
    "# NUMBER OF FOLDS :\n",
    "cv = 5\n",
    "param_grid = {\"n_neighbors\" : np.arange(2,15,1)}\n",
    "\n",
    "def my_CV(data, param_grid, my_meth) :\n",
    "    ## toutes les variables \"locales\" sont préfixées de 'CV_' \n",
    "\n",
    "    # MAP THE DICT OF LIST INTO LIST OF DICT :\n",
    "    param_dirg = model_selection.ParameterGrid(param_grid)\n",
    "    ## INITIALIZATION : \n",
    "    CV_X, CV_y = data \n",
    "    k = 1\n",
    "    res = {} # dict of dict \n",
    "    for kwargs in param_dirg :\n",
    "        params_set = \"_\".join(str(val) for val in kwargs.values())\n",
    "        res[params_set]={}\n",
    "\n",
    "    ## SET FOLDS : \n",
    "    kf = model_selection.StratifiedKFold(n_splits = 5)\n",
    "    CV_split_iterator = kf.split(CV_X, y = CV_y)\n",
    "\n",
    "    ### LOOP ON FOLDS :\n",
    "    for CV_train_range_index, CV_test_range_index in CV_split_iterator : \n",
    "        train_index = CV_X.index[CV_train_range_index]\n",
    "        test_index = CV_X.index[CV_test_range_index] \n",
    "\n",
    "        ## NORMALIZE :\n",
    "        CV_X_train, CV_X_test = normalize_from_split(CV_X, train_index)\n",
    "        ## GET y SPLIT : \n",
    "        CV_y_train, CV_y_test = y[train_index], y[test_index]\n",
    "\n",
    "        fold_key = \"fold\"+str(k)\n",
    "        k+=1\n",
    "        ### LOOP ON PARAM NAMES (HERE ONLY 1)\n",
    "        for kwargs in param_dirg :\n",
    "            ## FIT KNN on X_train AND PREDICT ON X_test :\n",
    "            CV_meth = my_meth(**kwargs)\n",
    "            CV_meth.fit(CV_X_train,CV_y_train)\n",
    "\n",
    "            ## SAVE : \n",
    "            y_pred = CV_meth.predict(CV_X_test)\n",
    "            y_table = pd.DataFrame(np.matrix((y_pred, CV_y_test)).T, columns=[\"pred\",\"real\"])\n",
    "\n",
    "            params_set = \"_\".join(str(val) for val in kwargs.values())\n",
    "            res[params_set][fold_key] = y_table\n",
    "    return(res)\n",
    "res= my_CV(data, param_grid, my_meth)"
   ]
  },
  {
   "cell_type": "code",
   "execution_count": 18,
   "id": "e99935ab",
   "metadata": {},
   "outputs": [],
   "source": [
    "from sklearn import metrics\n",
    "def compute_MSE(table):\n",
    "    return(sklearn.metrics.mean_squared_error(y_true = table.real, y_pred=table.pred))\n",
    "\n",
    "def compute_dict_MSE(tables):\n",
    "    mse_vect = []\n",
    "    for key, value in tables.items():\n",
    "        mse_vect.append(compute_MSE(value))\n",
    "    return(np.array(mse_vect))\n",
    "\n",
    "from sklearn import metrics\n",
    "def compute_R2(table):\n",
    "    return(metrics.r2_score(y_true = table.real, y_pred=table.pred))\n",
    "\n",
    "def compute_dict_R2(tables):\n",
    "    r2_vect = []\n",
    "    for key, value in tables.items():\n",
    "        r2_vect.append(compute_R2(value))\n",
    "    return(np.array(r2_vect))"
   ]
  },
  {
   "cell_type": "code",
   "execution_count": 19,
   "id": "cde83a0c",
   "metadata": {},
   "outputs": [
    {
     "name": "stdout",
     "output_type": "stream",
     "text": [
      "MSE = 0.534 (+/-0.099) for {'n_neighbors': 2}\n",
      "MSE = 0.505 (+/-0.099) for {'n_neighbors': 3}\n",
      "MSE = 0.491 (+/-0.094) for {'n_neighbors': 4}\n",
      "MSE = 0.480 (+/-0.096) for {'n_neighbors': 5}\n",
      "MSE = 0.474 (+/-0.092) for {'n_neighbors': 6}\n",
      "MSE = 0.465 (+/-0.085) for {'n_neighbors': 7}\n",
      "MSE = 0.459 (+/-0.081) for {'n_neighbors': 8}\n",
      "MSE = 0.457 (+/-0.071) for {'n_neighbors': 9}\n",
      "MSE = 0.453 (+/-0.069) for {'n_neighbors': 10}\n",
      "MSE = 0.455 (+/-0.071) for {'n_neighbors': 11}\n",
      "MSE = 0.455 (+/-0.068) for {'n_neighbors': 12}\n",
      "MSE = 0.453 (+/-0.060) for {'n_neighbors': 13}\n",
      "MSE = 0.453 (+/-0.056) for {'n_neighbors': 14}\n"
     ]
    }
   ],
   "source": [
    "MSE_mean = []\n",
    "MSE_std = []\n",
    "\n",
    "for params_set in res.keys(): \n",
    "    dict_y_table = res[params_set]\n",
    "    MSE = compute_dict_MSE(dict_y_table)\n",
    "    MSE_mean.append(MSE.mean())\n",
    "    MSE_std.append(MSE.std())\n",
    "\n",
    "params = []\n",
    "for kwargs in model_selection.ParameterGrid(param_grid) :\n",
    "    params.append(kwargs)\n",
    "\n",
    "CV_results_ = {\"params\": params , \"mean_test_score\":MSE_mean, \"std_test_score\":MSE_std}\n",
    "\n",
    "\n",
    "## new syntax to iterate <3 <3 : \n",
    "iterator = zip(CV_results_[\"mean_test_score\"], CV_results_[\"std_test_score\"], CV_results_[\"params\"])\n",
    "for mean, std, params in iterator:\n",
    "    print(\"MSE = %0.3f (+/-%0.3f) for %s\" %(mean, 2*std, params))\n",
    "    "
   ]
  },
  {
   "cell_type": "code",
   "execution_count": 20,
   "id": "e29d7730",
   "metadata": {},
   "outputs": [
    {
     "name": "stdout",
     "output_type": "stream",
     "text": [
      "R2 = 0.205 (+/-0.144) for {'n_neighbors': 2}\n",
      "R2 = 0.249 (+/-0.135) for {'n_neighbors': 3}\n",
      "R2 = 0.270 (+/-0.124) for {'n_neighbors': 4}\n",
      "R2 = 0.286 (+/-0.130) for {'n_neighbors': 5}\n",
      "R2 = 0.296 (+/-0.119) for {'n_neighbors': 6}\n",
      "R2 = 0.309 (+/-0.109) for {'n_neighbors': 7}\n",
      "R2 = 0.317 (+/-0.104) for {'n_neighbors': 8}\n",
      "R2 = 0.321 (+/-0.087) for {'n_neighbors': 9}\n",
      "R2 = 0.327 (+/-0.081) for {'n_neighbors': 10}\n",
      "R2 = 0.323 (+/-0.084) for {'n_neighbors': 11}\n",
      "R2 = 0.323 (+/-0.081) for {'n_neighbors': 12}\n",
      "R2 = 0.326 (+/-0.070) for {'n_neighbors': 13}\n",
      "R2 = 0.327 (+/-0.065) for {'n_neighbors': 14}\n"
     ]
    }
   ],
   "source": [
    "R2_mean = []\n",
    "R2_std = []\n",
    "\n",
    "for params_set in res.keys(): \n",
    "    dict_y_table = res[params_set]\n",
    "    R2 = compute_dict_R2(dict_y_table)\n",
    "    R2_mean.append(R2.mean())\n",
    "    R2_std.append(R2.std())\n",
    "\n",
    "params = []\n",
    "for kwargs in model_selection.ParameterGrid(param_grid) :\n",
    "    params.append(kwargs)\n",
    "\n",
    "CV_results_ = {\"params\": params , \"mean_test_score\":R2_mean, \"std_test_score\":R2_std}\n",
    "\n",
    "\n",
    "## new syntax to iterate <3 <3 : \n",
    "iterator = zip(CV_results_[\"mean_test_score\"], CV_results_[\"std_test_score\"], CV_results_[\"params\"])\n",
    "for mean, std, params in iterator:\n",
    "    print(\"R2 = %0.3f (+/-%0.3f) for %s\" %(mean, 2*std, params))\n",
    "    "
   ]
  },
  {
   "cell_type": "code",
   "execution_count": null,
   "id": "95bf0af9",
   "metadata": {},
   "outputs": [],
   "source": []
  }
 ],
 "metadata": {
  "kernelspec": {
   "display_name": "Python 3 (ipykernel)",
   "language": "python",
   "name": "python3"
  },
  "language_info": {
   "codemirror_mode": {
    "name": "ipython",
    "version": 3
   },
   "file_extension": ".py",
   "mimetype": "text/x-python",
   "name": "python",
   "nbconvert_exporter": "python",
   "pygments_lexer": "ipython3",
   "version": "3.9.5"
  }
 },
 "nbformat": 4,
 "nbformat_minor": 5
}
