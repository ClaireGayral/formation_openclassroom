{
 "cells": [
  {
   "cell_type": "markdown",
   "id": "approved-session",
   "metadata": {},
   "source": [
    "Dans le chapitre 2, le cours propose de regarder comment programmer un kernel-SVM (kSVM) "
   ]
  },
  {
   "cell_type": "code",
   "execution_count": null,
   "id": "tender-georgia",
   "metadata": {},
   "outputs": [],
   "source": [
    "import numpy as np\n",
    "import pandas as pd\n",
    "\n",
    "da"
   ]
  }
 ],
 "metadata": {
  "kernelspec": {
   "display_name": "Python 3",
   "language": "python",
   "name": "python3"
  },
  "language_info": {
   "codemirror_mode": {
    "name": "ipython",
    "version": 3
   },
   "file_extension": ".py",
   "mimetype": "text/x-python",
   "name": "python",
   "nbconvert_exporter": "python",
   "pygments_lexer": "ipython3",
   "version": "3.8.6"
  }
 },
 "nbformat": 4,
 "nbformat_minor": 5
}
