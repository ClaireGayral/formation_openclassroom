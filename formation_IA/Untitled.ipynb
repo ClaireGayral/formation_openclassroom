{
 "cells": [
  {
   "cell_type": "markdown",
   "id": "exotic-rugby",
   "metadata": {},
   "source": [
    "# Dans le module \"Initiez-vous à Python pour l'analyse de données\", \n",
    "Pour le test 3, il est demandé de programmé le jeu de dé suivant :\n",
    "On considère deux jeux de hasard :\n",
    "\n",
    "*Le jeu A est un jeu de pile ou face avec une pièce biaisée (pile avec une probabilité de p=0.49). On lance la pièce. Si l'on obtient pile, on gagne un euro, sinon on perd un euro.\n",
    "    Le jeu B est un jeu avec deux pièces biaisées. La pièce 1 donne pile avec une probabilité p1 = 0.09 et la pièce 2 donne pile avec une probabilité p2 = 0.74. Si la somme en jeu de K euros est un multiple de 3, on lance la pièce 1, sinon on lance la pièce 2. Comme dans le jeu A, si l'on obtient pile, on gagne un euro, sinon on perd un euro.*\n",
    "    \n",
    "*Le jeu A est clairement perdant. Le jeu B l'est aussi (vous pourrez le vérifier). À présent, on va mixer les deux ! En effet, à chaque tour, on lance une pièce (cette fois-ci...) équilibrée ! Si l'on a pile, on joue au jeu A, sinon on joue au jeu B.*\n",
    "\n",
    "*On suppose que le joueur a 0 euros comme capital de départ.\n",
    "Après avoir joué 1.000.000 de parties, quel est le statut du jeu, du point de vue du joueur ?*"
   ]
  },
  {
   "cell_type": "code",
   "execution_count": null,
   "id": "compliant-research",
   "metadata": {},
   "outputs": [],
   "source": [
    "import random \n",
    "import numpy as np \n",
    "\n",
    "def res_launch_piece(p) : \n",
    "    bernoulli = np.random.binomial(1,p)\n",
    "    if bernoulli == 1 : \n",
    "        return(1)\n",
    "    else :\n",
    "        return(-1)\n",
    "    \n",
    "def jeuA(capital):\n",
    "    p = 0.49\n",
    "    capital += res_launch_piece(p)\n",
    "    return(capital)\n",
    "\n",
    "def jeuB(capital):\n",
    "    p1 = 0.09\n",
    "    p2 = 0.74\n",
    "    if (capital%3 == 0):\n",
    "        capital += res_launch_piece(p1)\n",
    "    else :\n",
    "        capital += res_launch_piece(p2)\n",
    "    return(capital)\n",
    "\n",
    "capital = 0\n",
    "for k in range(1000000):\n",
    "    randgame = np.random.binomial(1,0.5)\n",
    "    if (randgame == 1) : \n",
    "        capital = jeuA(capital)\n",
    "    else :\n",
    "        capital = jeuB(capital)"
   ]
  },
  {
   "cell_type": "code",
   "execution_count": null,
   "id": "boring-spice",
   "metadata": {},
   "outputs": [],
   "source": []
  }
 ],
 "metadata": {
  "kernelspec": {
   "display_name": "Python 3",
   "language": "python",
   "name": "python3"
  },
  "language_info": {
   "codemirror_mode": {
    "name": "ipython",
    "version": 3
   },
   "file_extension": ".py",
   "mimetype": "text/x-python",
   "name": "python",
   "nbconvert_exporter": "python",
   "pygments_lexer": "ipython3",
   "version": "3.8.8"
  }
 },
 "nbformat": 4,
 "nbformat_minor": 5
}
